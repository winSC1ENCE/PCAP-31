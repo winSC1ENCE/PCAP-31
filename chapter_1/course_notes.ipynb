{
 "cells": [
  {
   "cell_type": "markdown",
   "metadata": {},
   "source": [
    "# [Python Essentials 2](https://edube.org/study/pe2)"
   ]
  },
  {
   "cell_type": "markdown",
   "metadata": {},
   "source": [
    "## Modules"
   ]
  },
  {
   "cell_type": "markdown",
   "metadata": {},
   "source": [
    "### Importing a module"
   ]
  },
  {
   "cell_type": "markdown",
   "metadata": {},
   "source": [
    "To make a module usable, you must import it (think of it like of taking a book off the shelf). Importing a module is done by an instruction named import. Note: import is also a keyword (with all the consequences of this fact).\n",
    "The import keyword\n",
    "\n",
    "\n",
    "Let's assume that you want to use two entities provided by the math module:\n",
    "* a symbol (constant) representing a precise (as precise as possible using double floating-point arithmetic) value of π (although using a Greek letter to name a variable is fully possible in Python, the symbol is named `pi - it's a more convenient solution, especially for that part of the world which neither has nor is going to use a Greek keyboard)\n",
    "* a function named `sin()` (the computer equivalent of the mathematical sine function)\n",
    "\n",
    "Both these entities are available through the math module, but the way in which you can use them strongly depends on how the import has been done.\n",
    "\n",
    "The simplest way to import a particular module is to use the import instruction as follows:"
   ]
  },
  {
   "cell_type": "code",
   "execution_count": 1,
   "metadata": {},
   "outputs": [],
   "source": [
    "import math"
   ]
  },
  {
   "cell_type": "markdown",
   "metadata": {},
   "source": [
    "The clause contains:\n",
    "* the `import` keyword\n",
    "* the name of the module which is subject to import.\n",
    "\n",
    "The instruction may be located anywhere in your code, but it must be placed before the first use of any of the module's entities.\n",
    "\n",
    "If you want to (or have to) import more than one module, you can do it by repeating the `import` clause (preferred):"
   ]
  },
  {
   "cell_type": "code",
   "execution_count": 2,
   "metadata": {},
   "outputs": [],
   "source": [
    "import math\n",
    "import sys"
   ]
  },
  {
   "cell_type": "markdown",
   "metadata": {},
   "source": [
    "or by listing the modules after the import keyword, like here:"
   ]
  },
  {
   "cell_type": "code",
   "execution_count": 3,
   "metadata": {},
   "outputs": [],
   "source": [
    "import math, sys"
   ]
  },
  {
   "cell_type": "markdown",
   "metadata": {},
   "source": [
    "he instruction imports two modules, first the one named math and then the second named sys.\n",
    "\n",
    "The module list may be arbitrarily long."
   ]
  },
  {
   "cell_type": "markdown",
   "metadata": {},
   "source": [
    "To continue, you need to become familiar with an important term: namespace. Don't worry, we won't go into great detail - this explanation is going to be as short as possible.\n",
    "\n",
    "A namespace is a space (understood in a non-physical context) in which some names exist and the names don't conflict with each other (i.e., there are not two different objects of the same name). We can say that each social group is a namespace - the group tends to name each of its members in a unique way (e.g., parents won't give their children the same first names).\n",
    "The namespace concept\n",
    "\n",
    "This uniqueness may be achieved in many ways, e.g., by using nicknames along with the first names (it will work inside a small group like a class in a school) or by assigning special identifiers to all members of the group (the US Social Security Number is a good example of such practice).\n",
    "\n",
    "\n",
    "Inside a certain namespace, each name must remain unique. This may mean that some names may disappear when any other entity of an already known name enters the namespace. We'll show you how it works and how to control it, but first, let's return to imports.\n",
    "\n",
    "If the module of a specified name exists and is accessible (a module is in fact a Python source file), Python imports its contents, i.e., all the names defined in the module become known, but they don't enter your code's namespace.\n",
    "\n",
    "This means that you can have your own entities named sin or pi and they won't be affected by the import in any way.\n",
    "The namespace concept: `math` and `pi`\n",
    "\n",
    "At this point, you may be wondering how to access the pi coming from the math module.\n",
    "\n",
    "To do this, you have to qualify the pi with the name of its original module."
   ]
  },
  {
   "cell_type": "code",
   "execution_count": 4,
   "metadata": {},
   "outputs": [
    {
     "data": {
      "text/plain": "3.141592653589793"
     },
     "execution_count": 4,
     "metadata": {},
     "output_type": "execute_result"
    }
   ],
   "source": [
    "import math\n",
    "math.pi"
   ]
  },
  {
   "cell_type": "markdown",
   "metadata": {},
   "source": [
    "Look at the snippet below, this is the way in which you qualify the names of pi and sin with the name of its originating module:\n",
    "\n",
    "`math.pi`\n",
    "`math.sin`\n",
    "\n",
    "It's simple, you put:\n",
    "- the name of the module (e.g., `math`)\n",
    "- a dot (i.e., `.`)\n",
    "- the name of the entity (e.g., `pi`)\n",
    "\n",
    "Such a form clearly indicates the namespace in which the name exists.\n",
    "\n",
    "Note: using this qualification is compulsory if a module has been imported by the `import` module instruction. It doesn't matter if any of the names from your code and from the module's namespace are in conflict or not.\n",
    "\n",
    "\n",
    "This first example won't be very advanced - we just want to print the value of sin(½π).\n",
    "\n",
    "Look at the code in the editor. This is how we test it.\n",
    "\n",
    "The code outputs the expected value: `1.0`.\n",
    "\n",
    "Note: removing any of the two qualifications will make the code erroneous. There is no other way to enter math's namespace if you did the following:\n",
    "\n",
    "`import math`"
   ]
  },
  {
   "cell_type": "code",
   "execution_count": 5,
   "metadata": {},
   "outputs": [
    {
     "name": "stdout",
     "output_type": "stream",
     "text": [
      "1.0\n"
     ]
    }
   ],
   "source": [
    "import math\n",
    "print(math.sin(math.pi/2))"
   ]
  },
  {
   "cell_type": "markdown",
   "metadata": {},
   "source": [
    "Now we're going to show you how the two namespaces (yours and the module's one) can coexist.\n",
    "\n",
    "Take a look at the example in the editor window.\n",
    "\n",
    "We've defined our own pi and sin here.\n",
    "\n",
    "Run the program. The code should produce the following output:\n",
    "\n",
    "`0.99999999`\n",
    "`1.0`\n",
    "\n",
    "As you can see, the entities don't affect each other."
   ]
  },
  {
   "cell_type": "code",
   "execution_count": 6,
   "metadata": {},
   "outputs": [
    {
     "name": "stdout",
     "output_type": "stream",
     "text": [
      "our own pi: 0.99999999\n",
      "math pi: 1.0\n"
     ]
    }
   ],
   "source": [
    "import math\n",
    "\n",
    "def sin(x):\n",
    "    if 2 * x == pi:\n",
    "        return 0.99999999\n",
    "    else:\n",
    "        return None\n",
    "\n",
    "pi = 3.14\n",
    "\n",
    "print(f\"our own pi: {sin(pi/2)}\")\n",
    "print(f\"math pi: {math.sin(math.pi/2)}\")"
   ]
  },
  {
   "cell_type": "markdown",
   "metadata": {},
   "source": [
    "In the second method, the import's syntax precisely points out which module's entity (or entities) are acceptable in the code:\n",
    "\n",
    "`from math import pi`\n",
    "\n",
    "\n",
    "The instruction consists of the following elements:\n",
    "\n",
    "the `from` keyword;\n",
    "the name of the module to be (selectively) imported;\n",
    "the `import` keyword;\n",
    "the name or list of names of the entity/entities which are being imported into the namespace.\n",
    "The instruction has this effect:\n",
    "\n",
    "the listed entities (and only those ones) are imported from the indicated module;\n",
    "the names of the imported entities are accessible without qualification.\n",
    "Note: no other entities are imported. Moreover, you cannot import additional entities using a qualification - a line like this one:\n",
    "\n",
    "`print(math.e)`\n",
    "\n",
    "\n",
    "will cause an error (e is Euler's number: 2.71828...)\n",
    "\n",
    "Let's rewrite the previous script to incorporate the new technique.\n",
    "\n",
    "Here it is:\n",
    "\n",
    "```\n",
    "from math import sin, pi\n",
    "print(sin(pi/2))\n",
    "```\n",
    "\n",
    "The output should be the same as previously, as in fact we've used the same entities as before: 1.0. Copy the code, paste it in the editor, and run the program.\n",
    "\n",
    "Does the code look simpler? Maybe, but the look is not the only effect of this kind of import. Let's show you that.\n",
    "\n"
   ]
  },
  {
   "cell_type": "code",
   "execution_count": 7,
   "metadata": {},
   "outputs": [
    {
     "name": "stdout",
     "output_type": "stream",
     "text": [
      "2.718281828459045\n"
     ]
    }
   ],
   "source": [
    "from math import pi\n",
    "# this is working since we already loaded math in this session\n",
    "print(math.e)"
   ]
  },
  {
   "cell_type": "code",
   "execution_count": 8,
   "metadata": {},
   "outputs": [
    {
     "name": "stdout",
     "output_type": "stream",
     "text": [
      "1.0\n"
     ]
    }
   ],
   "source": [
    "# this will overwrite our sin function above.\n",
    "from math import sin, pi\n",
    "\n",
    "print(sin(pi/2))"
   ]
  },
  {
   "cell_type": "markdown",
   "metadata": {},
   "source": [
    "Look at the code in the cell below. Analyze it carefully:\n",
    "\n",
    "- line 1: carry out the selective import;\n",
    "- line 3: make use of the imported entities and get the expected result (1.0)\n",
    "- lines 5 through 12: redefine the meaning of pi and sin - in effect, they supersede the original (imported) definitions within the code's namespace;\n",
    "- line 15: get 0.99999999, which confirms our conclusions."
   ]
  },
  {
   "cell_type": "code",
   "execution_count": 9,
   "metadata": {},
   "outputs": [
    {
     "name": "stdout",
     "output_type": "stream",
     "text": [
      "1.0\n",
      "0.99999999\n"
     ]
    }
   ],
   "source": [
    "from math import sin, pi\n",
    "\n",
    "print(sin(pi / 2))\n",
    "\n",
    "pi = 3.14\n",
    "\n",
    "\n",
    "def sin(x):\n",
    "    if 2 * x == pi:\n",
    "        return 0.99999999\n",
    "    else:\n",
    "        return None\n",
    "\n",
    "\n",
    "print(sin(pi / 2))"
   ]
  },
  {
   "cell_type": "markdown",
   "metadata": {},
   "source": [
    "Let's do another test. Look at the code below:\n",
    "\n",
    "Here, we've reversed the sequence of the code's operations:\n",
    "\n",
    "- lines 1 through 8: define our own pi and sin;\n",
    "- line 11: make use of them (0.99999999 appears on the screen)\n",
    "- line 13: carry out the import - the imported symbols supersede their previous definitions within the namespace;\n",
    "- line 15: get 1.0 as a result."
   ]
  },
  {
   "cell_type": "code",
   "execution_count": 10,
   "metadata": {},
   "outputs": [
    {
     "name": "stdout",
     "output_type": "stream",
     "text": [
      "0.99999999\n",
      "1.0\n"
     ]
    }
   ],
   "source": [
    "pi = 3.14\n",
    "\n",
    "\n",
    "def sin(x):\n",
    "    if 2 * x == pi:\n",
    "        return 0.99999999\n",
    "    else:\n",
    "        return None\n",
    "\n",
    "\n",
    "print(sin(pi / 2))\n",
    "\n",
    "from math import sin, pi\n",
    "\n",
    "print(sin(pi / 2))"
   ]
  },
  {
   "cell_type": "markdown",
   "metadata": {},
   "source": [
    "If you need to change the word math, you can introduce your own name, just like in the example:"
   ]
  },
  {
   "cell_type": "code",
   "execution_count": 11,
   "metadata": {},
   "outputs": [
    {
     "name": "stdout",
     "output_type": "stream",
     "text": [
      "1.0\n"
     ]
    }
   ],
   "source": [
    "import math as m\n",
    "\n",
    "print(m.sin(m.pi/2))"
   ]
  },
  {
   "cell_type": "markdown",
   "metadata": {},
   "source": [
    "Note: after successful execution of an aliased import, the original module name becomes inaccessible and must not be used.\n",
    "\n",
    "\n",
    "In turn, when you use the from module import name variant and you need to change the entity's name, you make an alias for the entity. This will cause the name to be replaced by the alias you choose.\n",
    "\n",
    "This is how it can be done:\n",
    "\n",
    "`from module import name as alias`\n",
    "\n",
    "As previously, the original (unaliased) name becomes inaccessible.\n",
    "\n",
    "The phrase name as alias can be repeated - use commas to separate the multiplied phrases, like this:\n",
    "\n",
    "`from module import n as a, m as b, o as c`\n",
    "\n",
    "The example may look a bit weird, but it works:"
   ]
  },
  {
   "cell_type": "code",
   "execution_count": 12,
   "metadata": {},
   "outputs": [
    {
     "name": "stdout",
     "output_type": "stream",
     "text": [
      "1.0\n"
     ]
    }
   ],
   "source": [
    "from math import pi as PI, sin as sine\n",
    "\n",
    "print(sine(PI/2))"
   ]
  },
  {
   "cell_type": "markdown",
   "metadata": {},
   "source": [
    "Now you're familiar with the basics of using modules. Let us show you some modules and some of their useful entities."
   ]
  },
  {
   "cell_type": "markdown",
   "metadata": {},
   "source": [
    "**Key takeaways**\n",
    "\n",
    "1. If you want to import a module as a whole, you can do it using the import module_name statement. You are allowed to import more than one module at once using a comma-separated list. For example:\n",
    "```\n",
    "import mod1\n",
    "import mod2, mod3, mod4\n",
    "```\n",
    "\n",
    "although the latter form is not recommended due to stylistic reasons, and it's better and prettier to express the same intention in more a verbose and explicit form, such as:\n",
    "```\n",
    "import mod2\n",
    "import mod3\n",
    "import mod4\n",
    "```\n",
    "\n",
    "2. If a module is imported in the above manner and you want to access any of its entities, you need to prefix the entity's name using dot notation. For example:\n",
    "\n",
    "```\n",
    "import my_module\n",
    "\n",
    "result = my_module.my_function(my_module.my_data)\n",
    "```\n",
    "\n",
    "The snippet makes use of two entities coming from the my_module module: a function named my_function() and a variable named my_data. Both names must be prefixed by my_module. None of the imported entity names conflicts with the identical names existing in your code's namespace.\n",
    "\n",
    "\n",
    "3. You are allowed not only to import a module as a whole, but to import only individual entities from it. In this case, the imported entities must not be prefixed when used. For example:\n",
    "```\n",
    "from module import my_function, my_data\n",
    "\n",
    "result = my_function(my_data)\n",
    "```\n",
    "\n",
    "The above way - despite its attractiveness - is not recommended because of the danger of causing conflicts with names derived from importing the code's namespace.\n",
    "\n",
    "\n",
    "4. The most general form of the above statement allows you to import all entities offered by a module:\n",
    "```\n",
    "from my_module import *\n",
    "\n",
    "result = my_function(my_data)\n",
    "```\n",
    "\n",
    "Note: this import's variant is not recommended due to the same reasons as previously (the threat of a naming conflict is even more dangerous here).\n",
    "\n",
    "5. You can change the name of the imported entity \"on the fly\" by using the as phrase of the import. For example:\n",
    "```\n",
    "from module import my_function as fun, my_data as dat\n",
    "\n",
    "result = fun(dat)\n",
    "```"
   ]
  },
  {
   "cell_type": "markdown",
   "metadata": {},
   "source": [
    "### Exercises"
   ]
  },
  {
   "cell_type": "markdown",
   "metadata": {},
   "source": [
    "#### Exercise 1\n",
    "You want to invoke the function make_money() contained in the module named mint. Your code begins with the following line:\n",
    "`ìmport mint`\n",
    "What is the proper form of the function's invocation?"
   ]
  },
  {
   "cell_type": "markdown",
   "metadata": {},
   "source": [
    "mint.make_money()"
   ]
  },
  {
   "cell_type": "markdown",
   "metadata": {},
   "source": [
    "#### Exercise 2\n",
    "You want to invoke the function make_money() contained in the module named mint. Your code begins with the following line:\n",
    "\n",
    "`from mint import make_money`\n",
    "\n",
    "What is the proper form of the function's invocation?"
   ]
  },
  {
   "cell_type": "markdown",
   "metadata": {},
   "source": [
    "make_money()"
   ]
  },
  {
   "cell_type": "markdown",
   "metadata": {},
   "source": [
    "#### Exercise 3\n",
    "\n",
    "You've written a function named make_money on your own. You need to import a function of the same name from the mint module and don't want to rename any of your previously defined names. Which variant of the import statement may help you with the issue?"
   ]
  },
  {
   "cell_type": "markdown",
   "metadata": {},
   "source": [
    "from mint import make_money() as mkm"
   ]
  },
  {
   "cell_type": "markdown",
   "metadata": {},
   "source": [
    "#### Exercise 4\n",
    "\n",
    "What form of the make_money function invocation is valid if your code starts with the following line?\n",
    "\n",
    "`from mint import *`"
   ]
  },
  {
   "cell_type": "markdown",
   "metadata": {},
   "source": [
    "make_money()"
   ]
  },
  {
   "cell_type": "markdown",
   "metadata": {},
   "source": [
    "## Working with standard modules"
   ]
  },
  {
   "cell_type": "markdown",
   "metadata": {},
   "source": [
    "Before we start going through some standard Python modules, we want to introduce the dir() function to you. It has nothing to do with the dir command you know from Windows and Unix consoles, as dir() doesn't show the contents of a disk directory/folder, but there is no denying that it does something really similar - it is able to reveal all the names provided through a particular module.\n",
    "\n",
    "There is one condition: the module has to have been previously imported as a whole (i.e., using the import module instruction - from module is not enough).\n",
    "\n",
    "The function returns an alphabetically sorted list containing all entities' names available in the module identified by a name passed to the function as an argument:\n",
    "`dir(module)`\n",
    "\n",
    "Note: if the module's name has been aliased, you must use the alias, not the original name.\n",
    "\n",
    "Using the function inside a regular script doesn't make much sense, but it is still possible.\n",
    "\n",
    "For example, you can run the following code to print the names of all entities within the math module:"
   ]
  },
  {
   "cell_type": "code",
   "execution_count": 13,
   "metadata": {},
   "outputs": [
    {
     "name": "stdout",
     "output_type": "stream",
     "text": [
      "__doc__\t__file__\t__loader__\t__name__\t__package__\t__spec__\tacos\tacosh\tasin\tasinh\tatan\tatan2\tatanh\tceil\tcomb\tcopysign\tcos\tcosh\tdegrees\tdist\te\terf\terfc\texp\texpm1\tfabs\tfactorial\tfloor\tfmod\tfrexp\tfsum\tgamma\tgcd\thypot\tinf\tisclose\tisfinite\tisinf\tisnan\tisqrt\tlcm\tldexp\tlgamma\tlog\tlog10\tlog1p\tlog2\tmodf\tnan\tnextafter\tperm\tpi\tpow\tprod\tradians\tremainder\tsin\tsinh\tsqrt\ttan\ttanh\ttau\ttrunc\tulp\t"
     ]
    }
   ],
   "source": [
    "import math\n",
    "\n",
    "for name in dir(math):\n",
    "    print(name, end=\"\\t\")"
   ]
  },
  {
   "cell_type": "markdown",
   "metadata": {},
   "source": [
    "Have you noticed these strange names beginning with __ at the top of the list? We'll tell you more about them when we talk about the issues related to writing your own modules.\n",
    "\n",
    "Some of the names might bring back memories from math lessons, and you probably won't have any problems guessing their meanings.\n",
    "\n",
    "Using the dir() function inside a code may not seem very useful - usually you want to know a particular module's contents before you write and run the code.\n",
    "\n",
    "Fortunately, you can execute the function directly in the Python console (IDLE), without needing to write and run a separate script.\n",
    "\n",
    "This is how it can be done:"
   ]
  },
  {
   "cell_type": "code",
   "execution_count": 14,
   "metadata": {},
   "outputs": [
    {
     "data": {
      "text/plain": "['__doc__',\n '__file__',\n '__loader__',\n '__name__',\n '__package__',\n '__spec__',\n 'acos',\n 'acosh',\n 'asin',\n 'asinh',\n 'atan',\n 'atan2',\n 'atanh',\n 'ceil',\n 'comb',\n 'copysign',\n 'cos',\n 'cosh',\n 'degrees',\n 'dist',\n 'e',\n 'erf',\n 'erfc',\n 'exp',\n 'expm1',\n 'fabs',\n 'factorial',\n 'floor',\n 'fmod',\n 'frexp',\n 'fsum',\n 'gamma',\n 'gcd',\n 'hypot',\n 'inf',\n 'isclose',\n 'isfinite',\n 'isinf',\n 'isnan',\n 'isqrt',\n 'lcm',\n 'ldexp',\n 'lgamma',\n 'log',\n 'log10',\n 'log1p',\n 'log2',\n 'modf',\n 'nan',\n 'nextafter',\n 'perm',\n 'pi',\n 'pow',\n 'prod',\n 'radians',\n 'remainder',\n 'sin',\n 'sinh',\n 'sqrt',\n 'tan',\n 'tanh',\n 'tau',\n 'trunc',\n 'ulp']"
     },
     "execution_count": 14,
     "metadata": {},
     "output_type": "execute_result"
    }
   ],
   "source": [
    "import math\n",
    "dir(math)"
   ]
  },
  {
   "cell_type": "markdown",
   "metadata": {},
   "source": [
    "### The math module"
   ]
  },
  {
   "cell_type": "markdown",
   "metadata": {},
   "source": [
    "Let's start with a quick preview of some of the functions provided by the math module.\n",
    "\n",
    "We've chosen them arbitrarily, but that doesn't mean that the functions we haven't mentioned here are any less significant. Dive into the modules' depths yourself - we don't have the space or the time to talk about everything in detail here.\n",
    "\n",
    "The first group of the math's functions are connected with trigonometry:\n",
    "\n",
    "* sin(x) → the sine of x;\n",
    "* cos(x) → the cosine of x;\n",
    "* tan(x) → the tangent of x.\n",
    "\n",
    "All these functions take one argument (an angle measurement expressed in radians) and return the appropriate result (be careful with tan() - not all arguments are accepted).\n",
    "\n",
    "Of course, there are also their inversed versions:\n",
    "\n",
    "* asin(x) → the arcsine of x;\n",
    "* acos(x) → the arccosine of x;\n",
    "* atan(x) → the arctangent of x.\n",
    "\n",
    "These functions take one argument (mind the domains) and return a measure of an angle in radians.\n",
    "\n",
    "\n",
    "To effectively operate on angle measurements, the math module provides you with the following entities:\n",
    "\n",
    "pi → a constant with a value that is an approximation of π;\n",
    "radians(x) → a function that converts x from degrees to radians;\n",
    "degrees(x) → acting in the other direction (from radians to degrees)\n",
    "Now look at the code in the editor. The example program isn't very sophisticated, but can you predict its results?\n",
    "\n",
    "\n",
    "Apart from the circular functions (listed above) the math module also contains a set of their hyperbolic analogues:\n",
    "\n",
    "* sinh(x) → the hyperbolic sine;\n",
    "* cosh(x) → the hyperbolic cosine;\n",
    "* tanh(x) → the hyperbolic tangent;\n",
    "* asinh(x) → the hyperbolic arcsine;\n",
    "* acosh(x) → the hyperbolic arccosine;\n",
    "* atanh(x) → the hyperbolic arctangent."
   ]
  },
  {
   "cell_type": "code",
   "execution_count": 15,
   "metadata": {},
   "outputs": [
    {
     "name": "stdout",
     "output_type": "stream",
     "text": [
      "True\n",
      "True\n",
      "True\n",
      "True\n"
     ]
    }
   ],
   "source": [
    "from math import pi, radians, degrees, sin, cos, tan, asin\n",
    "\n",
    "ad = 90\n",
    "ar = radians(ad)\n",
    "ad = degrees(ar)\n",
    "\n",
    "print(ad == 90.)\n",
    "print(ar == pi / 2.)\n",
    "print(sin(ar) / cos(ar) == tan(ar))\n",
    "print(asin(sin(ar)) == ar)"
   ]
  },
  {
   "cell_type": "markdown",
   "metadata": {},
   "source": [
    "Another group of the math's functions is formed by functions which are connected with exponentiation:\n",
    "\n",
    "* e → a constant with a value that is an approximation of Euler's number (e)\n",
    "* exp(x) → finding the value of ex;\n",
    "* log(x) → the natural logarithm of x\n",
    "* log(x, b) → the logarithm of x to base b\n",
    "* log10(x) → the decimal logarithm of x (more precise than log(x, 10))\n",
    "* log2(x) → the binary logarithm of x (more precise than log(x, 2))\n",
    "\n",
    "Note: the pow() function:\n",
    "\n",
    "* pow(x, y) → finding the value of xy (mind the domains)\n",
    "\n",
    "This is a built-in function, and doesn't have to be imported.\n",
    "\n",
    "Look at the code in the editor. Can you predict its output?\n",
    "\n"
   ]
  },
  {
   "cell_type": "code",
   "execution_count": 16,
   "metadata": {},
   "outputs": [
    {
     "name": "stdout",
     "output_type": "stream",
     "text": [
      "True\n",
      "True\n",
      "True\n"
     ]
    }
   ],
   "source": [
    "from math import e, exp, log\n",
    "\n",
    "print(pow(e, 1) == exp(log(e)))\n",
    "print(pow(2, 2) == exp(2 * log(2)))\n",
    "print(log(e, e) == exp(0))"
   ]
  },
  {
   "cell_type": "markdown",
   "metadata": {},
   "source": [
    "The last group consists of some general-purpose functions like:\n",
    "\n",
    "* ceil(x) → the ceiling of x (the smallest integer greater than or equal to x)\n",
    "* floor(x) → the floor of x (the largest integer less than or equal to x)\n",
    "* trunc(x) → the value of x truncated to an integer (be careful - it's not an equivalent either of ceil or floor)\n",
    "* factorial(x) → returns x! (x has to be an integral and not a negative)\n",
    "* hypot(x, y) → returns the length of the hypotenuse of a right-angle triangle with the leg lengths equal to x and y (the same as sqrt(pow(x, 2) + pow(y, 2)) but more precise)\n",
    "Look at the code in the editor. Analyze the program carefully.\n",
    "\n",
    "It demonstrates the fundamental differences between ceil(), floor() and trunc().\n",
    "\n",
    "Run the program and check its output."
   ]
  },
  {
   "cell_type": "code",
   "execution_count": 17,
   "metadata": {},
   "outputs": [
    {
     "name": "stdout",
     "output_type": "stream",
     "text": [
      "1 2\n",
      "-2 -3\n",
      "2 3\n",
      "-1 -2\n",
      "1 2\n",
      "-1 -2\n"
     ]
    }
   ],
   "source": [
    "from math import ceil, floor, trunc\n",
    "\n",
    "x = 1.4\n",
    "y = 2.6\n",
    "\n",
    "print(floor(x), floor(y))\n",
    "print(floor(-x), floor(-y))\n",
    "print(ceil(x), ceil(y))\n",
    "print(ceil(-x), ceil(-y))\n",
    "print(trunc(x), trunc(y))\n",
    "print(trunc(-x), trunc(-y))"
   ]
  },
  {
   "cell_type": "markdown",
   "metadata": {},
   "source": [
    "### Is there real randomness in computers?"
   ]
  },
  {
   "cell_type": "markdown",
   "metadata": {},
   "source": [
    "Another module worth mentioning is the one named random.\n",
    "\n",
    "It delivers some mechanisms allowing you to operate with pseudorandom numbers.\n",
    "\n",
    "Two dice - the concept of random\n",
    "Note the prefix pseudo - the numbers generated by the modules may look random in the sense that you cannot predict their subsequent values, but don't forget that they all are calculated using very refined algorithms.\n",
    "\n",
    "The algorithms aren't random - they are deterministic and predictable. Only those physical processes which run completely out of our control (like the intensity of cosmic radiation) may be used as a source of actual random data. Data produced by deterministic computers cannot be random in any way.\n",
    "\n",
    "\n",
    "\n",
    "A random number generator takes a value called a seed, treats it as an input value, calculates a \"random\" number based on it (the method depends on a chosen algorithm) and produces a new seed value.\n",
    "\n",
    "The length of a cycle in which all seed values are unique may be very long, but it isn't infinite - sooner or later the seed values will start repeating, and the generating values will repeat, too. This is normal. It's a feature, not a mistake, or a bug.\n",
    "\n",
    "The initial seed value, set during the program start, determines the order in which the generated values will appear.\n",
    "\n",
    "The random factor of the process may be augmented by setting the seed with a number taken from the current time - this may ensure that each program launch will start from a different seed value (ergo, it will use different random numbers).\n",
    "\n",
    "Fortunately, such an initialization is done by Python during module import.\n"
   ]
  },
  {
   "cell_type": "markdown",
   "metadata": {},
   "source": [
    "### The random module"
   ]
  },
  {
   "cell_type": "markdown",
   "metadata": {},
   "source": [
    "#### The random function\n",
    "\n",
    "The most general function named random() (not to be confused with the module's name) produces a float number x coming from the range (0.0, 1.0) - in other words: (0.0 <= x < 1.0).\n",
    "\n",
    "The example program below will produce five pseudorandom values - as their values are determined by the current (rather unpredictable) seed value, you can't guess them:"
   ]
  },
  {
   "cell_type": "code",
   "execution_count": 18,
   "metadata": {},
   "outputs": [
    {
     "name": "stdout",
     "output_type": "stream",
     "text": [
      "0.03352228409189495\n",
      "0.6629165318154698\n",
      "0.7727675789618653\n",
      "0.998490322045308\n",
      "0.08328614760181396\n"
     ]
    }
   ],
   "source": [
    "from random import random\n",
    "\n",
    "for i in range(5):\n",
    "    print(random())"
   ]
  },
  {
   "cell_type": "markdown",
   "metadata": {},
   "source": [
    "The seed function\n",
    "\n",
    "The seed() function is able to directly set the generator's seed. We'll show you two of its variants:\n",
    "\n",
    "seed() - sets the seed with the current time;\n",
    "seed(int_value) - sets the seed with the integer value int_value.\n",
    "We've modified the previous program - in effect, we've removed any trace of randomness from the code:"
   ]
  },
  {
   "cell_type": "code",
   "execution_count": 19,
   "metadata": {},
   "outputs": [
    {
     "name": "stdout",
     "output_type": "stream",
     "text": [
      "0.8444218515250481\n",
      "0.7579544029403025\n",
      "0.420571580830845\n",
      "0.25891675029296335\n",
      "0.5112747213686085\n"
     ]
    }
   ],
   "source": [
    "from random import random, seed\n",
    "\n",
    "seed(0)\n",
    "\n",
    "for i in range(5):\n",
    "    print(random())\n"
   ]
  },
  {
   "cell_type": "markdown",
   "metadata": {},
   "source": [
    "Due to the fact that the seed is always set with the same value, the sequence of generated values always looks the same.\n",
    "\n",
    "Run the program. This is what we've got:"
   ]
  },
  {
   "cell_type": "code",
   "execution_count": 20,
   "metadata": {},
   "outputs": [
    {
     "name": "stdout",
     "output_type": "stream",
     "text": [
      "0.8444218515250481\n",
      "0.7579544029403025\n",
      "0.420571580830845\n",
      "0.25891675029296335\n",
      "0.5112747213686085\n"
     ]
    }
   ],
   "source": [
    "seed(0)\n",
    "for i in range(5):\n",
    "    print(random())"
   ]
  },
  {
   "cell_type": "markdown",
   "metadata": {},
   "source": [
    "And you?\n",
    "\n",
    "Note: your values may be slightly different than ours if your system uses more precise or less precise floating-point arithmetic, but the difference will be seen quite far from the decimal point."
   ]
  },
  {
   "cell_type": "markdown",
   "metadata": {},
   "source": [
    "#### The randrange and randint functions"
   ]
  },
  {
   "cell_type": "markdown",
   "metadata": {},
   "source": [
    "If you want integer random values, one of the following functions would fit better:\n",
    "- randrange(end)\n",
    "- randrange(beg, end)\n",
    "- randrange(beg, end, step)\n",
    "- randint(left, right)\n",
    "\n",
    "The first three invocations will generate an integer taken (pseudorandomly) from the range (respectively):\n",
    "- range(end)\n",
    "- range(beg, end)\n",
    "- range(beg, end, step)\n",
    "\n",
    "Note the implicit **right-sided exclusion**!\n",
    "\n",
    "The last function is an equivalent of randrange(left, right+1) - it generates the integer value i, which falls in the range [left, right] (no exclusion on the right side).\n",
    "\n",
    "Look at the code in the editor. This sample program will consequently output a line consisting of three zeros and either a zero or one at the fourth place."
   ]
  },
  {
   "cell_type": "code",
   "execution_count": 21,
   "metadata": {},
   "outputs": [
    {
     "name": "stdout",
     "output_type": "stream",
     "text": [
      "0 0 0 1\n"
     ]
    }
   ],
   "source": [
    "from random import randrange, randint\n",
    "\n",
    "print(randrange(1), end=' ')\n",
    "print(randrange(0, 1), end=' ')\n",
    "print(randrange(0, 1, 1), end=' ')\n",
    "print(randint(0, 1))\n"
   ]
  },
  {
   "cell_type": "markdown",
   "metadata": {},
   "source": [
    "The previous functions have one important disadvantage - they may produce repeating values even if the number of subsequent invocations is not greater than the width of the specified range.\n",
    "\n",
    "Look at the code below - the program very likely outputs a set of numbers in which some elements are not unique:"
   ]
  },
  {
   "cell_type": "code",
   "execution_count": 22,
   "metadata": {},
   "outputs": [
    {
     "name": "stdout",
     "output_type": "stream",
     "text": [
      "10,4,9,3,5,3,2,10,5,9,"
     ]
    }
   ],
   "source": [
    "from random import randint\n",
    "\n",
    "for i in range(10):\n",
    "    print(randint(1, 10), end=',')"
   ]
  },
  {
   "cell_type": "markdown",
   "metadata": {},
   "source": [
    "#### The choice and sample functions\n",
    "\n",
    "As you can see, this is not a good tool for generating numbers in a lottery. Fortunately, there is a better solution than writing your own code to check the uniqueness of the \"drawn\" numbers.\n",
    "\n",
    "\n",
    "It's a function named in a very suggestive way - choice:\n",
    "- choice(sequence)\n",
    "- sample(sequence, elements_to_choose)\n",
    "- The first variant chooses a \"random\" element from the input sequence and returns it.\n",
    "\n",
    "The second one builds a list (a sample) consisting of the elements_to_choose element \"drawn\" from the input sequence.\n",
    "\n",
    "In other words, the function chooses some of the input elements, returning a list with the choice. The elements in the sample are placed in random order. Note: the elements_to_choose must not be greater than the length of the input sequence.\n",
    "\n",
    "Look at the code below (Again, the output of the program is not predictable. Our results looked like this):"
   ]
  },
  {
   "cell_type": "code",
   "execution_count": 23,
   "metadata": {},
   "outputs": [
    {
     "name": "stdout",
     "output_type": "stream",
     "text": [
      "10\n",
      "[3, 5, 2, 6, 1]\n",
      "[6, 8, 2, 3, 4, 7, 9, 5, 10, 1]\n"
     ]
    }
   ],
   "source": [
    "from random import choice, sample\n",
    "\n",
    "my_list = [1, 2, 3, 4, 5, 6, 7, 8, 9, 10]\n",
    "\n",
    "print(choice(my_list))\n",
    "print(sample(my_list, 5))\n",
    "print(sample(my_list, 10))"
   ]
  },
  {
   "cell_type": "code",
   "execution_count": 23,
   "metadata": {},
   "outputs": [],
   "source": []
  },
  {
   "cell_type": "markdown",
   "source": [
    "### How to know where you are?"
   ],
   "metadata": {
    "collapsed": false
   }
  },
  {
   "cell_type": "markdown",
   "source": [
    "Sometimes, it may be necessary to find out information unrelated to Python. For example, you may need to know the location of your program within the greater environment of the computer.\n",
    "\n",
    "Imagine your program's environment as a pyramid consisting of a number of layers or platforms.\n",
    "![Layers](../img/layer.png)\n",
    "Program's environment layers\n",
    "\n",
    "\n",
    "The layers are:\n",
    "- your (running) code is located at the top of it;\n",
    "- Python, or more precisely, its runtime environment, lies directly below it;\n",
    "- the next layer of the pyramid is filled with the OS (operating system) – Python's environment provides some of its functionalities using the operating system's services; Python, although very powerful, isn't omnipotent – it's forced to use many helpers if it's going to process files or communicate with physical devices;\n",
    "- the bottom-most layer is hardware – the processor (or processors), network interfaces, human interface devices (mouse, keyboards, etc.) and all other machinery needed to make the computer run; the OS knows how to drive it, and uses lots of tricks to conduct all parts in a consistent rhythm.\n",
    "\n",
    "This means that some of your (or rather your program's) actions have to travel a long way to be successfully performed – imagine that:\n",
    "- your code wants to create a file, so it invokes one of Python's functions;\n",
    "- Python accepts the order, rearranges it to meet local OS requirements, which is like putting the stamp \"approved\" on your request, and sends it down (this may remind you of a chain of command)\n",
    "- the OS checks if the request is reasonable and valid (e.g., whether the file name conforms to some syntax rules) and tries to create the file; such an operation, seemingly very simple, isn't atomic – it consists of many minor steps taken by...\n",
    "- the hardware, which is responsible for activating storage devices (hard disk, solid state devices, etc.) to satisfy the OS's needs.\n",
    "\n",
    "Usually, you're not aware of all that fuss – you want the file to be created and that's that.\n",
    "\n",
    "But sometimes you want to know more – for example, the name of the OS which hosts Python, and some characteristics describing the hardware that hosts the OS.\n",
    "\n",
    "There is a module providing some means to allow you to know where you are and what components work for you. The module is named platform. We'll show you some of the functions it provides to you.\n",
    "\n"
   ],
   "metadata": {
    "collapsed": false
   }
  },
  {
   "cell_type": "markdown",
   "source": [
    "### The platform function"
   ],
   "metadata": {
    "collapsed": false
   }
  },
  {
   "cell_type": "markdown",
   "source": [
    "the `platform` module lets you access the underlying platform's data, i.e., hardware, operating system, and interpreter version information.\n",
    "\n",
    "There is a function that can show you all the underlying layers in one glance, named `platform`, too. It just returns a string describing the environment; thus, its output is rather addressed to humans than to automated processing (you'll see it soon).\n",
    "\n",
    "This is how you can invoke it:"
   ],
   "metadata": {
    "collapsed": false
   }
  },
  {
   "cell_type": "code",
   "execution_count": 24,
   "outputs": [
    {
     "name": "stdout",
     "output_type": "stream",
     "text": [
      "Linux-5.19.0-38-generic-x86_64-with-glibc2.35\n",
      "Linux-5.19.0-38-generic-x86_64-with-glibc2.35\n"
     ]
    }
   ],
   "source": [
    "from platform import platform\n",
    "print(platform(aliased = False, terse = False))\n",
    "print(platform(aliased = True, terse = True))"
   ],
   "metadata": {
    "collapsed": false
   }
  },
  {
   "cell_type": "markdown",
   "source": [
    "And now:\n",
    "- `aliased` → when set to `True` (or any non-zero value) it may cause the function to present the alternative underlying layer names instead of the common ones;\n",
    "- `terse` → when set to True (or any non-zero value) it may convince the function to present a briefer form of the result (if possible)\n",
    "\n",
    "We ran our sample program using three different platforms - this is what we got:\n",
    "- Intel x86 + Windows ® Vista (32 bit):\n",
    "```\n",
    "Windows-Vista-6.0.6002-SP2\n",
    "Windows-Vista-6.0.6002-SP2\n",
    "Windows-Vista\n",
    "```\n",
    "- Intel x86 + Gentoo Linux (64 bit):\n",
    "```\n",
    "Linux-3.18.62-g6-x86_64-Intel-R-_Core-TM-_i3-2330M_CPU_@_2.20GHz-with-gentoo-2.3\n",
    "Linux-3.18.62-g6-x86_64-Intel-R-_Core-TM-_i3-2330M_CPU_@_2.20GHz-with-gentoo-2.3\n",
    "Linux-3.18.62-g6-x86_64-Intel-R-_Core-TM-_i3-2330M_CPU_@_2.20GHz-with-glibc2.3.4\n",
    "```\n",
    "- Raspberry PI2 + Raspbian Linux (32 bit):\n",
    "```\n",
    "Linux-4.4.0-1-rpi2-armv7l-with-debian-9.0\n",
    "Linux-4.4.0-1-rpi2-armv7l-with-debian-9.0\n",
    "Linux-4.4.0-1-rpi2-armv7l-with-glibc2.9\n",
    "```\n",
    "You can also run the sample program in IDLE on your local machine to check what output you will have."
   ],
   "metadata": {
    "collapsed": false
   }
  },
  {
   "cell_type": "code",
   "execution_count": 25,
   "outputs": [
    {
     "name": "stdout",
     "output_type": "stream",
     "text": [
      "Linux-5.19.0-38-generic-x86_64-with-glibc2.35\n",
      "Linux-5.19.0-38-generic-x86_64-with-glibc2.35\n",
      "Linux-5.19.0-38-generic-x86_64-with-glibc2.35\n"
     ]
    }
   ],
   "source": [
    "print(platform())\n",
    "print(platform(1))\n",
    "print(platform(0, 1))\n"
   ],
   "metadata": {
    "collapsed": false
   }
  },
  {
   "cell_type": "markdown",
   "source": [
    "### The machine function"
   ],
   "metadata": {
    "collapsed": false
   }
  },
  {
   "cell_type": "markdown",
   "source": [
    "Sometimes, you may just want to know the generic name of the processor which runs your OS together with Python and your code - a function named `machine()` will tell you that. As previously, the function returns a string.\n",
    "\n",
    "Again, we ran the sample program on three different platforms:\n",
    "- Intel x86 + Windows ® Vista (32 bit):\n",
    "```\n",
    "x86\n",
    "```\n",
    "- Intel x86 + Gentoo Linux (64 bit):\n",
    "```\n",
    "x86_64\n",
    "```\n",
    "- Raspberry PI2 + Raspbian Linux (32 bit):\n",
    "```\n",
    "armv7l\n",
    "```"
   ],
   "metadata": {
    "collapsed": false
   }
  },
  {
   "cell_type": "code",
   "execution_count": 26,
   "outputs": [
    {
     "name": "stdout",
     "output_type": "stream",
     "text": [
      "x86_64\n"
     ]
    }
   ],
   "source": [
    "from platform import machine\n",
    "\n",
    "print(machine())"
   ],
   "metadata": {
    "collapsed": false
   }
  },
  {
   "cell_type": "markdown",
   "source": [
    "### The processor function"
   ],
   "metadata": {
    "collapsed": false
   }
  },
  {
   "cell_type": "markdown",
   "source": [
    "The `processor()` function returns a string filled with the real processor name (if possible).\n",
    "\n",
    "Once again, we ran the sample program on three different platforms:\n",
    "\n",
    "- Intel x86 + Windows ® Vista (32 bit):\n",
    "```\n",
    "x86\n",
    "```\n",
    "- Intel x86 + Gentoo Linux (64 bit):\n",
    "```\n",
    "Intel(R) Core(TM) i3-2330M CPU @ 2.20GHz\n",
    "```\n",
    "- Raspberry PI2 + Raspbian Linux (32 bit):\n",
    "```\n",
    "armv7l\n",
    "```\n",
    "\n",
    "Test this on your local machine."
   ],
   "metadata": {
    "collapsed": false
   }
  },
  {
   "cell_type": "code",
   "execution_count": 27,
   "outputs": [
    {
     "name": "stdout",
     "output_type": "stream",
     "text": [
      "x86_64\n"
     ]
    }
   ],
   "source": [
    "from platform import processor\n",
    "\n",
    "print(processor())"
   ],
   "metadata": {
    "collapsed": false
   }
  },
  {
   "cell_type": "markdown",
   "source": [
    "### The system function"
   ],
   "metadata": {
    "collapsed": false
   }
  },
  {
   "cell_type": "markdown",
   "source": [
    "A function named system() returns the generic OS name as a string.\n",
    "\n",
    "Our example platforms presented themselves like this:\n",
    "\n",
    "- Intel x86 + Windows ® Vista (32 bit):\n",
    "```\n",
    "Windows\n",
    "```\n",
    "- Intel x86 + Gentoo Linux (64 bit):\n",
    "```\n",
    "Linux\n",
    "```\n",
    "- Raspberry PI2 + Raspbian Linux (32 bit):\n",
    "```\n",
    "Linux\n",
    "```"
   ],
   "metadata": {
    "collapsed": false
   }
  },
  {
   "cell_type": "code",
   "execution_count": 28,
   "outputs": [
    {
     "name": "stdout",
     "output_type": "stream",
     "text": [
      "Linux\n"
     ]
    }
   ],
   "source": [
    "from platform import system\n",
    "\n",
    "print(system())\n"
   ],
   "metadata": {
    "collapsed": false
   }
  },
  {
   "cell_type": "markdown",
   "source": [
    "### The version function"
   ],
   "metadata": {
    "collapsed": false
   }
  },
  {
   "cell_type": "markdown",
   "source": [
    "The OS version is provided as a string by the version() function.\n",
    "\n",
    "Run the code and check its output. This is what we got:\n",
    "\n",
    "- Intel x86 + Windows ® Vista (32 bit):\n",
    "```\n",
    "6.0.6002\n",
    "```\n",
    "- Intel x86 + Gentoo Linux (64 bit):\n",
    "```\n",
    "#1 SMP PREEMPT Fri Jul 21 22:44:37 CEST 2017\n",
    "```\n",
    "- Raspberry PI2 + Raspbian Linux (32 bit):\n",
    "```\n",
    "#1 SMP Debian 4.4.6-1+rpi14 (2016-05-05)\n",
    "```"
   ],
   "metadata": {
    "collapsed": false
   }
  },
  {
   "cell_type": "code",
   "execution_count": 29,
   "outputs": [
    {
     "name": "stdout",
     "output_type": "stream",
     "text": [
      "#39~22.04.1-Ubuntu SMP PREEMPT_DYNAMIC Fri Mar 17 21:16:15 UTC 2\n"
     ]
    }
   ],
   "source": [
    "from platform import version\n",
    "\n",
    "print(version())\n"
   ],
   "metadata": {
    "collapsed": false
   }
  },
  {
   "cell_type": "markdown",
   "source": [
    "### The python_implementation and the python_version_tuple functions"
   ],
   "metadata": {
    "collapsed": false
   }
  },
  {
   "cell_type": "markdown",
   "source": [
    "If you need to know what version of Python is running your code, you can check it using a number of dedicated functions - here are two of them:\n",
    "- `python_implementation()` → returns a string denoting the Python implementation (expect `CPython` here, unless you decide to use any non-canonical Python branch)\n",
    "- `python_version_tuple()` → returns a three-element tuple filled with:\n",
    "  - the major part of Python's version;\n",
    "  - the minor part;\n",
    "  - the patch level number.\n",
    "\n",
    "Our example program produced the following output:\n",
    "```\n",
    "CPython\n",
    "3\n",
    "7\n",
    "7\n",
    "```\n",
    "\n",
    "It's very likely that your version of Python will be different."
   ],
   "metadata": {
    "collapsed": false
   }
  },
  {
   "cell_type": "code",
   "execution_count": 30,
   "outputs": [
    {
     "name": "stdout",
     "output_type": "stream",
     "text": [
      "CPython\n",
      "3\n",
      "10\n",
      "9\n"
     ]
    }
   ],
   "source": [
    "from platform import python_implementation, python_version_tuple\n",
    "\n",
    "print(python_implementation())\n",
    "\n",
    "for atr in python_version_tuple():\n",
    "    print(atr)"
   ],
   "metadata": {
    "collapsed": false
   }
  },
  {
   "cell_type": "markdown",
   "source": [
    "### Python Module Index"
   ],
   "metadata": {
    "collapsed": false
   }
  },
  {
   "cell_type": "markdown",
   "source": [
    "We have only covered the basics of Python modules here. Python's modules make up their own universe, in which Python itself is only a galaxy, and we would venture to say that exploring the depths of these modules can take significantly more time than getting acquainted with \"pure\" Python.\n",
    "\n",
    "Moreover, the Python community all over the world creates and maintains hundreds of additional modules used in very niche applications like genetics, psychology, or even astrology.\n",
    "\n",
    "These modules aren't (and won't be) distributed along with Python, or through official channels, which makes the Python universe broader - almost infinite.\n",
    "\n",
    "You can read about all standard Python modules here: https://docs.python.org/3/py-modindex.html.\n",
    "\n",
    "Don't worry - you won't need all these modules. Many of them are very specific.\n",
    "\n",
    "All you need to do is find the modules you want, and teach yourself how to use them. It's easy.\n",
    "![Python Module Index](../img/module_index.png)\n",
    "\n",
    "In the next section we'll take a look at something else. We're going to show you how to write your own module."
   ],
   "metadata": {
    "collapsed": false
   }
  },
  {
   "cell_type": "markdown",
   "source": [
    "### Key takeaways"
   ],
   "metadata": {
    "collapsed": false
   }
  },
  {
   "cell_type": "markdown",
   "source": [
    "1. A function named dir() can show you a list of the entities contained inside an imported module. For example:\n",
    "\n",
    "```\n",
    "import os\n",
    "dir(os)\n",
    "```\n",
    "prints out the list of all the `os` module's facilities you can use in your code.\n",
    "\n",
    "2. The `math` module couples more than 50 symbols (functions and constants) that perform mathematical operations (like `sine()`, `pow()`, `factorial()`) or providing important values (like π and the Euler symbol e).\n",
    "\n",
    "3. The `random` module groups more than 60 entities designed to help you use pseudo-random numbers. Don't forget the prefix \"random\", as there is no such thing as a real random number when it comes to generating them using the computer's algorithms.\n",
    "\n",
    "\n",
    "4. The `platform` module contains about 70 functions which let you dive into the underlaying layers of the OS and hardware. Using them allows you to get to know more about the environment in which your code is executed.\n",
    "\n",
    "5. Python Module Index (https://docs.python.org/3/py-modindex.html is a community-driven directory of modules available in the Python universe. If you want to find a module fitting your needs, start your search there.\n",
    "\n",
    "\n",
    "print(len(platform.python_version_tuple()))\n",
    "\n",
    "\n",
    "Check"
   ],
   "metadata": {
    "collapsed": false
   }
  },
  {
   "cell_type": "markdown",
   "source": [
    "#### Exercise 1\n",
    "\n",
    "What is the expected value of the result variable after the following code is executed?\n",
    "\n",
    "```\n",
    "import math\n",
    "result = math.e == math.exp(1)\n",
    "```"
   ],
   "metadata": {
    "collapsed": false
   }
  },
  {
   "cell_type": "code",
   "execution_count": 31,
   "outputs": [],
   "source": [
    "import math\n",
    "result = math.e == math.exp(1)"
   ],
   "metadata": {
    "collapsed": false
   }
  },
  {
   "cell_type": "code",
   "execution_count": 32,
   "outputs": [],
   "source": [
    "# print(result)\n",
    "# print(math.e)\n",
    "# print(math.exp(1))"
   ],
   "metadata": {
    "collapsed": false
   }
  },
  {
   "cell_type": "markdown",
   "source": [
    "#### Exercise 2\n",
    "\n",
    "(Complete the sentence) Setting the generator's seed with the same value each time your program is run guarantees that..."
   ],
   "metadata": {
    "collapsed": false
   }
  },
  {
   "cell_type": "markdown",
   "source": [
    "<details>\n",
    "  <summary>check</summary>\n",
    "\n",
    "  the pseudo-random values emitted from the random module will be exactly the same.\n",
    "\n",
    "</details>"
   ],
   "metadata": {
    "collapsed": false
   }
  },
  {
   "cell_type": "markdown",
   "source": [
    "#### Exercise 3\n",
    "\n",
    "Which of the platform module's functions will you use to determine the name of the CPU running inside your computer?"
   ],
   "metadata": {
    "collapsed": false
   }
  },
  {
   "cell_type": "markdown",
   "source": [
    "The `processor()` function"
   ],
   "metadata": {
    "collapsed": false
   }
  },
  {
   "cell_type": "markdown",
   "source": [
    "#### Exercise 4\n",
    "\n",
    "What is the expected output of the following snippet?\n",
    "```\n",
    "import platform\n",
    "\n",
    "print(len(platform.python_version_tuple()))\n",
    "```"
   ],
   "metadata": {
    "collapsed": false
   }
  },
  {
   "cell_type": "code",
   "execution_count": 33,
   "outputs": [],
   "source": [
    "# import platform\n",
    "#\n",
    "# print(len(platform.python_version_tuple()))"
   ],
   "metadata": {
    "collapsed": false
   }
  },
  {
   "cell_type": "markdown",
   "source": [
    "## What is a package?"
   ],
   "metadata": {
    "collapsed": false
   }
  },
  {
   "cell_type": "markdown",
   "source": [
    "Writing your own modules doesn't differ much from writing ordinary scripts.\n",
    "\n",
    "There are some specific aspects you must be aware of, but it definitely isn't rocket science. You'll see this soon enough.\n",
    "\n",
    "![package](../img/package.png)\n",
    "\n",
    "The Package-Module-Function concept\n",
    "\n",
    "Let's summarize some important issues:\n",
    "\n",
    "- a module is a kind of container filled with functions - you can pack as many functions as you want into one module and distribute it across the world;\n",
    "- of course, it's generally a good idea not to mix functions with different application areas within one module (just like in a library - nobody expects scientific works to be put among comic books), so group your functions carefully and name the module containing them in a clear and intuitive way (e.g., don't give the name arcade_games to a module containing functions intended to partition and format hard disks)\n",
    "- making many modules may cause a little mess - sooner or later you'll want to group your modules exactly in the same way as you've previously grouped functions - is there a more general container than a module?\n",
    "- yes, there is - it's a package; in the world of modules, a package plays a similar role to a folder/directory in the world of files."
   ],
   "metadata": {
    "collapsed": false
   }
  },
  {
   "cell_type": "markdown",
   "source": [
    "### Your first module:\n",
    "#### step 1\n",
    "In this section you're going to be working locally on your machine. Let's start from scratch. Create an empty file, just like this:\n",
    "\n",
    "![module](../img/module_1.png)\n",
    "\n",
    "You will need two files to repeat these experiments. The first of them will be the module itself. It's empty now. Don't worry, you're going to fill it with actual code soon.\n",
    "\n",
    "We've named the file module.py. Not very creative, but simple and clear."
   ],
   "metadata": {
    "collapsed": false
   }
  },
  {
   "cell_type": "markdown",
   "source": [
    "#### step 2\n",
    "\n",
    "The second file contains the code using the new module. Its name is main.py. Its content is very brief so far:\n",
    "\n",
    "Creating a main.py file containing the import module instruction\n",
    "\n",
    "![module_2](../img/module_2.png)\n",
    "\n",
    "Note: both files have to be located in the same folder. We strongly encourage you to create an empty, new folder for both files. Some things will be easier then.\n",
    "\n",
    "Launch IDLE (or any other IDE you prefer) and run the main.py file. What do you see?\n",
    "\n",
    "You should see nothing. This means that Python has successfully imported the contents of the module.py file.\n",
    "\n",
    "It doesn't matter that the module is empty for now. The very first step has been done, but before you take the next step, we want you to take a look into the folder in which both files exist.\n",
    "\n",
    "Do you notice something interesting?\n",
    "\n",
    "A new subfolder has appeared - can you see it? Its name is __pycache__. Take a look inside. What do you see?\n",
    "\n",
    "There is a file named (more or less) module.cpython-xy.pyc where x and y are digits derived from your version of Python (e.g., they will be 3 and 8 if you use Python 3.8).\n",
    "\n",
    "The name of the file is the same as your module's name (module here). The part after the first dot says which Python implementation has created the file (CPython here) and its version number. The last part (pyc) comes from the words Python and compiled.\n",
    "\n",
    "You can look inside the file - the content is completely unreadable to humans. It has to be like that, as the file is intended for Python's use only.\n",
    "\n",
    "When Python imports a module for the first time, it translates its contents into a somewhat compiled shape.\n",
    "\n",
    "The file doesn't contain machine code - it's internal Python semi-compiled code, ready to be executed by Python's interpreter. As such a file doesn't require lots of the checks needed for a pure source file, the execution starts faster, and runs faster, too.\n",
    "\n",
    "Thanks to that, every subsequent import will go quicker than interpreting the source text from scratch.\n",
    "\n",
    "Python is able to check if the module's source file has been modified (in this case, the pyc file will be rebuilt) or not (when the pyc file may be run at once). As this process is fully automatic and transparent, you don't have to keep it in mind.\n",
    "\n"
   ],
   "metadata": {
    "collapsed": false
   }
  },
  {
   "cell_type": "markdown",
   "source": [
    "#### step 3\n",
    "\n",
    "Now we've put a little something into the module file:\n",
    "\n",
    "Updating the module.py file\n",
    "\n",
    "```\n",
    "print(\"I like to be a module.\")\n",
    "```\n",
    "\n",
    "Can you notice any differences between a module and an ordinary script? There are none so far.\n",
    "\n",
    "It's possible to run this file like any other script. Try it for yourself.\n",
    "\n",
    "What happens? You should see the following line inside your console:\n",
    "\n",
    "```\n",
    "I like to be a module.\n",
    "```\n"
   ],
   "metadata": {
    "collapsed": false
   }
  },
  {
   "cell_type": "code",
   "execution_count": 34,
   "outputs": [
    {
     "name": "stdout",
     "output_type": "stream",
     "text": [
      "I prefer to be a module, but I can do some tests for you.\n",
      "True\n",
      "True\n"
     ]
    }
   ],
   "source": [
    "%run module.py"
   ],
   "metadata": {
    "collapsed": false
   }
  },
  {
   "cell_type": "markdown",
   "source": [
    "#### step 4\n",
    "\n",
    "Let's go back to the main.py file:\n",
    "\n",
    "The main.py file containing the import module instruction\n",
    "\n",
    "```\n",
    "import module\n",
    "\n",
    "```\n",
    "\n",
    "\n",
    "Run it. What do you see? Hopefully, you see something like this:\n",
    "\n",
    "```\n",
    "I like to be a module..\n",
    "```\n",
    "\n",
    "What does it actually mean?\n",
    "\n",
    "When a module is imported, its content is implicitly executed by Python. It gives the module the chance to initialize some of its internal aspects (e.g., it may assign some variables with useful values).\n",
    "\n",
    "Note: the initialization takes place only once, when the first import occurs, so the assignments done by the module aren't repeated unnecessarily.\n",
    "\n",
    "Imagine the following context:\n",
    "\n",
    "- there is a module named mod1;\n",
    "- there is a module named mod2 which contains the `import mod1` instruction;\n",
    "- there is a main file containing the `import mod1` and `import mod2` instructions.\n",
    "\n",
    "At first glance, you may think that mod1 will be imported twice - fortunately, only the first import occurs. Python remembers the imported modules and silently omits all subsequent imports."
   ],
   "metadata": {
    "collapsed": false
   }
  },
  {
   "cell_type": "code",
   "execution_count": 35,
   "outputs": [
    {
     "name": "stdout",
     "output_type": "stream",
     "text": [
      "zeros: [0, 0, 0, 0, 0]\r\n",
      "ones: [1, 1, 1, 1, 1]\r\n",
      "0\r\n",
      "1\r\n"
     ]
    }
   ],
   "source": [
    "!python main.py"
   ],
   "metadata": {
    "collapsed": false
   }
  },
  {
   "cell_type": "markdown",
   "source": [
    "#### step 5\n",
    "\n",
    "Python can do much more. It also creates a variable called `__name__`.\n",
    "\n",
    "Moreover, each source file uses its own, separate version of the variable - it isn't shared between modules.\n",
    "\n",
    "We'll show you how to use it. Modify the module a bit:\n",
    "\n",
    "```\n",
    "print(\"I like to be a module.\")\n",
    "print(__name__)\n",
    "\n",
    "```\n",
    "\n",
    "Now run the module.py file. You should see the following lines:\n",
    "\n",
    "```\n",
    "I like to be a module\n",
    "__main__\n",
    "```\n",
    "\n",
    "Now run the main.py file. And? Do you see the same as us?\n",
    "\n",
    "```\n",
    "I like to be a module\n",
    "module\n",
    "```\n",
    "\n",
    "We can say that:\n",
    "- when you run a file directly, its __name__ variable is set to __main__;\n",
    "- when a file is imported as a module, its __name__ variable is set to the file's name (excluding .py)"
   ],
   "metadata": {
    "collapsed": false
   }
  },
  {
   "cell_type": "code",
   "execution_count": 36,
   "outputs": [
    {
     "name": "stdout",
     "output_type": "stream",
     "text": [
      "I prefer to be a module, but I can do some tests for you.\n",
      "True\n",
      "True\n"
     ]
    }
   ],
   "source": [
    "%run module.py"
   ],
   "metadata": {
    "collapsed": false
   }
  },
  {
   "cell_type": "code",
   "execution_count": 37,
   "outputs": [
    {
     "name": "stdout",
     "output_type": "stream",
     "text": [
      "zeros: [0, 0, 0, 0, 0]\r\n",
      "ones: [1, 1, 1, 1, 1]\r\n",
      "0\r\n",
      "1\r\n"
     ]
    }
   ],
   "source": [
    "!python main.py"
   ],
   "metadata": {
    "collapsed": false
   }
  },
  {
   "cell_type": "markdown",
   "source": [
    "#### step 6\n",
    "\n",
    "This is how you can make use of the __main__ variable in order to detect the context in which your code has been activated:\n",
    "\n",
    "```\n",
    "if __name__ == \"__main__\":\n",
    "    print(\"I prefer to be a module.\")\n",
    "else:\n",
    "    print(\"I like to be a module.\")\n",
    "\n",
    "```\n",
    "\n",
    "There's a cleverer way to utilize the variable, however. If you write a module filled with a number of complex functions, you can use it to place a series of tests to check if the functions work properly.\n",
    "\n",
    "Each time you modify any of these functions, you can simply run the module to make sure that your amendments didn't spoil the code. These tests will be omitted when the code is imported as a module."
   ],
   "metadata": {
    "collapsed": false
   }
  },
  {
   "cell_type": "code",
   "execution_count": 38,
   "outputs": [
    {
     "name": "stdout",
     "output_type": "stream",
     "text": [
      "I prefer to be a module, but I can do some tests for you.\n",
      "True\n",
      "True\n"
     ]
    }
   ],
   "source": [
    "%run module.py"
   ],
   "metadata": {
    "collapsed": false
   }
  },
  {
   "cell_type": "code",
   "execution_count": 39,
   "outputs": [
    {
     "name": "stdout",
     "output_type": "stream",
     "text": [
      "zeros: [0, 0, 0, 0, 0]\r\n",
      "ones: [1, 1, 1, 1, 1]\r\n",
      "0\r\n",
      "1\r\n"
     ]
    }
   ],
   "source": [
    "!python main.py"
   ],
   "metadata": {
    "collapsed": false
   }
  },
  {
   "cell_type": "markdown",
   "source": [
    "#### step 7\n",
    "\n",
    "This module will contain two simple functions, and if you want to know how many times the functions have been invoked, you need a counter initialized to zero when the module is being imported.\n",
    "\n",
    "You can do it this way:\n",
    "\n",
    "```\n",
    "counter = 0\n",
    "\n",
    "if __name__ == \"__main__\":\n",
    "    print(\"I prefer to be a module.\")\n",
    "else:\n",
    "    print(\"I like to be a module.\")\n",
    "\n",
    "```"
   ],
   "metadata": {
    "collapsed": false
   }
  },
  {
   "cell_type": "markdown",
   "source": [
    "#### step 8\n",
    "\n",
    "Your first module: step 8\n",
    "Introducing such a variable is absolutely correct, but may cause important side effects that you must be aware of.\n",
    "\n",
    "Take a look at the modified main.py file:\n",
    "\n",
    "```\n",
    "import module\n",
    "print(module.counter)\n",
    "\n",
    "```"
   ],
   "metadata": {
    "collapsed": false
   }
  },
  {
   "cell_type": "code",
   "execution_count": 40,
   "outputs": [
    {
     "name": "stdout",
     "output_type": "stream",
     "text": [
      "zeros: [0, 0, 0, 0, 0]\r\n",
      "ones: [1, 1, 1, 1, 1]\r\n",
      "0\r\n",
      "1\r\n"
     ]
    }
   ],
   "source": [
    "!python main.py"
   ],
   "metadata": {
    "collapsed": false
   }
  },
  {
   "cell_type": "markdown",
   "source": [
    "As you can see, the main file tries to access the module's counter variable. Is this legal? Yes, it is. Is it usable? It may be very usable. Is it safe?\n",
    "\n",
    "That depends - if you trust your module's users, there's no problem; however, you may not want the rest of the world to see your personal/private variable.\n",
    "\n",
    "Unlike many other programming languages, Python has no means of allowing you to hide such variables from the eyes of the module's users.\n",
    "\n",
    "You can only inform your users that this is your variable, that they may read it, but that they should not modify it under any circumstances.\n",
    "\n",
    "This is done by preceding the variable's name with _ (one underscore) or __ (two underscores), but remember, it's only a convention. Your module's users may obey it or they may not.\n",
    "\n",
    "Of course, we'll follow the convention. Now let's put two functions into the module - they'll evaluate the sum and product of the numbers collected in a list.\n",
    "\n",
    "In addition, let's add some ornaments there and remove any superfluous remnants."
   ],
   "metadata": {
    "collapsed": false
   }
  },
  {
   "cell_type": "markdown",
   "source": [
    "#### step 9\n",
    "\n",
    "Okay. Let's write some brand new code in our module.py file. The updated module is ready here:\n",
    "```python\n",
    "#!/usr/bin/env python3\n",
    "\n",
    "\"\"\" module.py - an example of a Python module \"\"\"\n",
    "\n",
    "__counter = 0\n",
    "\n",
    "\n",
    "def suml(the_list):\n",
    "    global __counter\n",
    "    __counter += 1\n",
    "    the_sum = 0\n",
    "    for element in the_list:\n",
    "        the_sum += element\n",
    "    return the_sum\n",
    "\n",
    "\n",
    "def prodl(the_list):\n",
    "    global __counter\n",
    "    __counter += 1\n",
    "    prod = 1\n",
    "    for element in the_list:\n",
    "        prod *= element\n",
    "    return prod\n",
    "\n",
    "\n",
    "if __name__ == \"__main__\":\n",
    "    print(\"I prefer to be a module, but I can do some tests for you.\")\n",
    "    my_list = [i+1 for i in range(5)]\n",
    "    print(suml(my_list) == 15)\n",
    "    print(prodl(my_list) == 120)\n",
    "\n",
    "```"
   ],
   "metadata": {
    "collapsed": false
   }
  },
  {
   "cell_type": "code",
   "execution_count": 41,
   "outputs": [
    {
     "name": "stdout",
     "output_type": "stream",
     "text": [
      "I prefer to be a module, but I can do some tests for you.\r\n",
      "True\r\n",
      "True\r\n"
     ]
    }
   ],
   "source": [
    "!python module.py"
   ],
   "metadata": {
    "collapsed": false
   }
  },
  {
   "cell_type": "markdown",
   "source": [
    "A few elements need some explanation, we think:\n",
    "- the line starting with `#!` has many names - it may be called shabang, shebang, hashbang, poundbang or even hashpling (don't ask us why). The name itself means nothing here - its role is more important. From Python's point of view, it's just a comment as it starts with `#`. For Unix and Unix-like OSs (including MacOS) such a line instructs the OS how to execute the contents of the file (in other words, what program needs to be launched to interpret the text). In some environments (especially those connected with web servers) the absence of that line will cause trouble;\n",
    "- a string (maybe a multiline) placed before any module instructions (including imports) is called the doc-string, and should briefly explain the purpose and contents of the module;\n",
    "- the functions defined inside the module (`suml()` and `prodl()) are available for import;\n",
    "- we've used the `__name__` variable to detect when the file is run stand-alone, and seized this opportunity to perform some simple tests."
   ],
   "metadata": {
    "collapsed": false
   }
  },
  {
   "cell_type": "markdown",
   "source": [
    "#### step 10\n",
    "\n",
    "Now it's possible to use the updated module - this is one way:\n",
    "```python\n",
    "from module import suml, prodl\n",
    "\n",
    "zeroes = [0 for i in range(5)]\n",
    "ones = [1 for i in range(5)]\n",
    "print(suml(zeroes))\n",
    "print(prodl(ones))\n",
    "\n",
    "```\n"
   ],
   "metadata": {
    "collapsed": false
   }
  },
  {
   "cell_type": "code",
   "execution_count": 42,
   "outputs": [
    {
     "name": "stdout",
     "output_type": "stream",
     "text": [
      "zeros: [0, 0, 0, 0, 0]\r\n",
      "ones: [1, 1, 1, 1, 1]\r\n",
      "0\r\n",
      "1\r\n"
     ]
    }
   ],
   "source": [
    "!python main.py"
   ],
   "metadata": {
    "collapsed": false
   }
  },
  {
   "cell_type": "markdown",
   "source": [
    "#### step 11\n",
    "\n",
    "It's time to make our example more complicated - so far we've assumed that the main Python file is located in the same folder/directory as the module to be imported.\n",
    "\n",
    "Let's give up this assumption and conduct the following thought experiment:\n",
    "- we are using Windows ® OS (this assumption is important, as the file name's shape depends on it)\n",
    "- the main Python script lies in C:\\Users\\user\\py\\progs and is named main.py\n",
    "- the module to import is located in C:\\Users\\user\\py\\modules\n",
    "\n",
    "![directory](../img/directory.png)\n",
    "\n",
    "How to deal with it?\n",
    "\n",
    "To answer this question, we have to talk about how Python searches for modules. There's a special variable (actually a list) storing all locations (folders/directories) that are searched in order to find a module which has been requested by the import instruction.\n",
    "\n",
    "Python browses these folders in the order in which they are listed in the list - if the module cannot be found in any of these directories, the import fails.\n",
    "\n",
    "Otherwise, the first folder containing a module with the desired name will be taken into consideration (if any of the remaining folders contains a module of that name, it will be ignored).\n",
    "\n",
    "The variable is named path, and it's accessible through the module named sys. This is how you can check its regular value:\n",
    "\n",
    "```python\n",
    "import sys\n",
    "\n",
    "for p in sys.path:\n",
    "    print(p)\n",
    "\n",
    "```\n",
    "\n",
    "We've launched the code inside the C:\\User\\user folder, and this is what we've got:\n",
    "\n",
    "```\n",
    "C:\\Users\\user\n",
    "C:\\Users\\user\\AppData\\Local\\Programs\\Python\\Python36-32\\python36.zip\n",
    "C:\\Users\\user\\AppData\\Local\\Programs\\Python\\Python36-32\\DLLs\n",
    "C:\\Users\\user\\AppData\\Local\\Programs\\Python\\Python36-32\\lib\n",
    "C:\\Users\\user\\AppData\\Local\\Programs\\Python\\Python36-32\n",
    "C:\\Users\\user\\AppData\\Local\\Programs\\Python\\Python36-32\\lib\\site-packages\n",
    "```\n",
    "\n",
    "Note: the folder in which the execution starts is listed in the first path's element.\n",
    "\n",
    "Note once again: there is a zip file listed as one of the path's elements - it's not an error. Python is able to treat zip files as ordinary folders - this can save lots of storage.\n",
    "\n",
    "\n",
    "Can you figure out how we can solve our problem now? We can add a folder containing the module to the path variable (it's fully modifiable).\n"
   ],
   "metadata": {
    "collapsed": false
   }
  },
  {
   "cell_type": "code",
   "execution_count": 43,
   "outputs": [
    {
     "name": "stdout",
     "output_type": "stream",
     "text": [
      "/home/win/src/PCAP-31/chapter_1\n",
      "/home/win/src/PCAP-31\n",
      "/home/win/anaconda3/envs/pcap-31/lib/python310.zip\n",
      "/home/win/anaconda3/envs/pcap-31/lib/python3.10\n",
      "/home/win/anaconda3/envs/pcap-31/lib/python3.10/lib-dynload\n",
      "\n",
      "/home/win/anaconda3/envs/pcap-31/lib/python3.10/site-packages\n",
      "/home/win/anaconda3/envs/pcap-31/lib/python3.10/site-packages/PyQt5_sip-12.11.0-py3.10-linux-x86_64.egg\n"
     ]
    }
   ],
   "source": [
    "import sys\n",
    "\n",
    "for p in sys.path:\n",
    "    print(p)"
   ],
   "metadata": {
    "collapsed": false
   }
  },
  {
   "cell_type": "markdown",
   "source": [
    "#### step 12\n",
    "\n",
    "One of several possible solutions looks like this:\n",
    "```python\n",
    "from sys import path\n",
    "\n",
    "path.append('..\\\\modules')\n",
    "\n",
    "import module\n",
    "\n",
    "zeroes = [0 for i in range(5)]\n",
    "ones = [1 for i in range(5)]\n",
    "print(module.suml(zeroes))\n",
    "print(module.prodl(ones))\n",
    "\n",
    "```\n",
    "\n",
    "Note:\n",
    "\n",
    "we've doubled the \\ inside folder name - do you know why?\n",
    "\n",
    "<details>\n",
    "  <summary>Check</summary>\n",
    "  <p>\n",
    "    Because a backslash is used to escape other characters - if you want to get just a backslash, you have to escape it.\n",
    "  </p>\n",
    "</details>\n",
    "\n",
    "we've used the relative name of the folder - this will work if you start the main.py file directly from its home folder, and won't work if the current directory doesn't fit the relative path; you can always use an absolute path, like this:\n",
    "\n",
    "```\n",
    "path.append('C:\\\\Users\\\\user\\\\py\\\\modules')\n",
    "```\n",
    "\n",
    "we've used the `append()` method - in effect, the new path will occupy the last element in the path list; if you don't like the idea, you can use `insert()` instead."
   ],
   "metadata": {
    "collapsed": false
   }
  },
  {
   "cell_type": "code",
   "execution_count": 44,
   "outputs": [
    {
     "name": "stdout",
     "output_type": "stream",
     "text": [
      "Traceback (most recent call last):\r\n",
      "  File \"/home/win/src/PCAP-31/chapter_1/./programs/main.py\", line 5, in <module>\r\n",
      "    import module\r\n",
      "ModuleNotFoundError: No module named 'module'\r\n"
     ]
    }
   ],
   "source": [
    "!python ./programs/main.py"
   ],
   "metadata": {
    "collapsed": false
   }
  },
  {
   "cell_type": "markdown",
   "source": [
    "### Your first package"
   ],
   "metadata": {
    "collapsed": false
   }
  },
  {
   "cell_type": "markdown",
   "source": [
    "#### step 1\n",
    "\n",
    "Imagine that in the not-so-distant future you and your associates write a large number of Python functions.\n",
    "\n",
    "Your team decides to group the functions in separate modules, and this is the final result of the ordering:\n",
    "![new package](../img/package_1.png)\n",
    "\n",
    "```python\n",
    "#! /usr/bin/env python3\n",
    "\n",
    "\"\"\" module: alpha \"\"\"\n",
    "\n",
    "def funA():\n",
    "    return \"Alpha\"\n",
    "\n",
    "if __name__ == \"__main__\":\n",
    "    print(\"I prefer to be a module.\")\n",
    "\n",
    "```\n",
    "\n",
    "Note: we've presented the whole content for the alpha.py module only - assume that all the modules look similar (they contain one function named `funX`, where X is the first letter of the module's name)."
   ],
   "metadata": {
    "collapsed": false
   }
  },
  {
   "cell_type": "markdown",
   "source": [
    "#### step 2\n",
    "\n",
    "Suddenly, somebody notices that these modules form their own hierarchy, so putting them all in a flat structure won't be a good idea.\n",
    "\n",
    "After some discussion, the team comes to the conclusion that the modules have to be grouped. All participants agree that the following tree structure perfectly reflects the mutual relationships between the modules:\n",
    "\n",
    "![package_2](../img/package_2.png)\n",
    "\n",
    "Let's review this from the bottom up:\n",
    "- the ugly group contains two modules: psi and omega;\n",
    "- the best group contains two modules: sigma and tau;\n",
    "- the good group contains two modules (alpha and beta) and one subgroup (best)\n",
    "- the extra group contains two subgroups (good and bad) and one module (iota)\n",
    "\n",
    "Does it look bad? Not at all - analyze the structure carefully. It resembles something, doesn't it?\n",
    "\n",
    "It looks like a directory structure.\n",
    "\n",
    "Let's build a tree reflecting projected dependencies between the modules.\n",
    "\n"
   ],
   "metadata": {
    "collapsed": false
   }
  },
  {
   "cell_type": "markdown",
   "source": [
    "#### step 3\n",
    "\n",
    "This is how the tree currently looks:\n",
    "\n",
    "![Pckage Structure](../img/package_struct.png)\n",
    "\n",
    "The relationship between modules - tree structure\n",
    "\n",
    "Such a structure is almost a package (in the Python sense). It lacks the fine detail to be both functional and operative. We'll complete it in a moment.\n",
    "\n",
    "If you assume that extra is the name of a newly created package (think of it as the package's root), it will impose a naming rule which allows you to clearly name every entity from the tree.\n",
    "\n",
    "For example:\n",
    "- the location of a function named funT() from the tau package may be described as:\n",
    "\n",
    "```\n",
    "extra.good.best.tau.funT()\n",
    "```\n",
    "- a function marked as:\n",
    "```\n",
    "extra.ugly.psi.funP()\n",
    "```\n",
    "- comes from the psi module being stored in the ugly subpackage of the extra package."
   ],
   "metadata": {
    "collapsed": false
   }
  },
  {
   "cell_type": "markdown",
   "source": [
    "#### step 4\n",
    "\n",
    "There are two questions to answer:\n",
    "- how do you transform such a tree (actually, a subtree) into a real Python package (in other words, how do you convince Python that such a tree is not just a bunch of junk files, but a set of modules)?\n",
    "where do you put the subtree to make it accessible to Python?\n",
    "- The first question has a surprising answer: packages, like modules, may require initialization.\n",
    "\n",
    "The initialization of a module is done by an unbound code (not a part of any function) located inside the module's file. As a package is not a file, this technique is useless for initializing packages.\n",
    "\n",
    "You need to use a different trick instead - Python expects that there is a file with a very unique name inside the package's folder:\n",
    "`__init__.py`.\n",
    "\n",
    "The content of the file is executed when any of the package's modules is imported. If you don't want any special initializations, you can leave the file empty, but you mustn't omit it."
   ],
   "metadata": {
    "collapsed": false
   }
  },
  {
   "cell_type": "markdown",
   "source": [
    "#### step 5\n",
    "\n",
    "Remember: the presence of the __init.py__ file finally makes up the package.\n",
    "\n",
    "![package_5](../img/package_5.png)\n",
    "\n",
    "The relationship between modules and the presence of the `__init__.py` file - tree structure\n",
    "\n",
    "Note: it's not only the root folder that can contain `__init.py__` file - you can put it inside any of its subfolders (subpackages) too. It may be useful if some of the subpackages require individual treatment and special kinds of initialization.\n",
    "\n",
    "Now it's time to answer the second question - the answer is simple: anywhere. You only have to ensure that Python is aware of the package's location. You already know how to do that.\n",
    "\n",
    "You're ready to make use of your first package."
   ],
   "metadata": {
    "collapsed": false
   }
  },
  {
   "cell_type": "markdown",
   "source": [
    "#### step 6\n",
    "\n",
    "Let's assume that the working environment looks as follows:\n",
    "\n",
    "![package_6](../img/package_6.png)\n",
    "\n",
    "The relationship between modules, the presence of the `__init__.py` file, and the access path - the working environment\n",
    "\n",
    "We've prepared a zip file containing all the files from the packages branch. You can download it and use it for your own experiments, but remember to unpack it in the folder presented in the scheme, otherwise, it won't be accessible to the code from the main file.\n",
    "\n",
    "DOWNLOAD   [Modules and Packages ZIP file](https://edube.org/uploads/media/default/0001/01/39a03067f85a9b39c0c94ca50b5d445b7df18a04.zip)\n",
    "\n",
    "You'll be continuing your experiments using the main2.py file."
   ],
   "metadata": {
    "collapsed": false
   }
  },
  {
   "cell_type": "markdown",
   "source": [
    "#### step 7\n",
    "\n",
    "We are going to access the funI() function from the iota module from the top of the extra package. It forces us to use qualified package names (associate this with naming folders and subfolders - the conventions are very similar).\n",
    "\n",
    "```python\n",
    "from sys import path\n",
    "path.append('..\\\\packages')\n",
    "\n",
    "import extra.iota\n",
    "print(extra.iota.funI())\n",
    "\n",
    "```\n",
    "\n",
    "Note:\n",
    "- we've modified the `path` variable to make it accessible to Python;\n",
    "- the `import doesn't point directly to the module, but specifies the fully qualified path from the top of the package;\n",
    "\n",
    "replacing import `extra.iota` with `import iota will cause an error.\n",
    "\n",
    "The following variant is valid too:\n",
    "\n",
    "```python\n",
    "from sys import path\n",
    "path.append('..\\\\packages')\n",
    "\n",
    "from extra.iota import funI\n",
    "print(funI())\n",
    "\n",
    "```\n",
    "\n",
    "Note the qualified name of the iota module."
   ],
   "metadata": {
    "collapsed": false
   }
  },
  {
   "cell_type": "code",
   "execution_count": 45,
   "outputs": [
    {
     "name": "stdout",
     "output_type": "stream",
     "text": [
      "Sigma\r\n",
      "Sigma\r\n",
      "Alpha\r\n",
      "Iota\r\n",
      "Beta\r\n"
     ]
    }
   ],
   "source": [
    "!python ./programs/main2.py"
   ],
   "metadata": {
    "collapsed": false
   }
  },
  {
   "cell_type": "markdown",
   "source": [
    "#### step 8\n",
    "\n",
    "Now let's reach all the way to the bottom of the tree - this is how to get access to the sigma and tau modules:\n",
    "\n",
    "```python\n",
    "from sys import path\n",
    "\n",
    "path.append('..\\\\packages')\n",
    "\n",
    "import extra.good.best.sigma\n",
    "from extra.good.best.tau import funT\n",
    "\n",
    "print(extra.good.best.sigma.funS())\n",
    "print(funT())\n",
    "\n",
    "\n",
    "```\n",
    "\n",
    "You can make your life easier by using aliasing:\n",
    "```python\n",
    "from sys import path\n",
    "\n",
    "path.append('..\\\\packages')\n",
    "\n",
    "import extra.good.best.sigma as sig\n",
    "import extra.good.alpha as alp\n",
    "\n",
    "print(sig.funS())\n",
    "print(alp.funA())\n",
    "\n",
    "\n",
    "```\n"
   ],
   "metadata": {
    "collapsed": false
   }
  },
  {
   "cell_type": "code",
   "execution_count": 46,
   "outputs": [
    {
     "name": "stdout",
     "output_type": "stream",
     "text": [
      "Sigma\r\n",
      "Sigma\r\n",
      "Alpha\r\n",
      "Iota\r\n",
      "Beta\r\n"
     ]
    }
   ],
   "source": [
    "!python ./programs/main2.py"
   ],
   "metadata": {
    "collapsed": false
   }
  },
  {
   "cell_type": "markdown",
   "source": [
    "#### step 9\n",
    "\n",
    "Let's assume that we've zipped the whole subdirectory, starting from the extra folder (including it), and let's get a file named extrapack.zip. Next, we put the file inside the packages folder.\n",
    "\n",
    "Now we are able to use the zip file in a role of packages:\n",
    "\n",
    "```python\n",
    "from sys import path\n",
    "\n",
    "path.append('..\\\\packages\\\\extrapack.zip')\n",
    "\n",
    "import extra.good.best.sigma as sig\n",
    "import extra.good.alpha as alp\n",
    "from extra.iota import funI\n",
    "from extra.good.beta import funB\n",
    "\n",
    "print(sig.funS())\n",
    "print(alp.funA())\n",
    "print(funI())\n",
    "print(funB())\n",
    "\n",
    "```\n",
    "If you want to conduct your own experiments with the package we've created, you can download it below. We encourage you to do so.\n",
    "\n",
    "DOWNLOAD   [Extrapack ZIP file](https://edube.org/uploads/media/default/0001/01/d9df38daa0410952c4cbf85b47892954c45b9215.zip)\n",
    "\n",
    "Now you can create modules and combine them into packages. It's time to start a completely different discussion - about errors, failures and crashes.\n"
   ],
   "metadata": {
    "collapsed": false
   }
  },
  {
   "cell_type": "code",
   "execution_count": 47,
   "outputs": [
    {
     "name": "stdout",
     "output_type": "stream",
     "text": [
      "Sigma\r\n",
      "Sigma\r\n",
      "Alpha\r\n",
      "Iota\r\n",
      "Beta\r\n"
     ]
    }
   ],
   "source": [
    "!python ./programs/main2.py"
   ],
   "metadata": {
    "collapsed": false
   }
  },
  {
   "cell_type": "markdown",
   "source": [
    "### Key takeaways"
   ],
   "metadata": {
    "collapsed": false
   }
  },
  {
   "cell_type": "markdown",
   "source": [
    "1. While a module is designed to couple together some related entities (functions, variables, constants, etc.), a package is a container which enables the coupling of several related modules under one common name. Such a container can be distributed as-is (as a batch of files deployed in a directory sub-tree) or it can be packed inside a zip file.\n",
    "\n",
    "\n",
    "2. During the very first import of the actual module, Python translates its source code into the semi-compiled format stored inside the pyc files, and deploys these files into the `__pycache__` directory located in the module's home directory.\n",
    "\n",
    "\n",
    "3. If you want to instruct your module's user that a particular entity should be treated as private (i.e. not to be explicitly used outside the module) you can mark its name with either the `_` or `__` prefix. Don't forget that this is only a recommendation, not an order.\n",
    "\n",
    "\n",
    "4. The names shabang, shebang, hasbang, poundbang, and hashpling describe the digraph written as `#!`, used to instruct Unix-like OSs how the Python source file should be launched. This convention has no effect under MS Windows.\n",
    "\n",
    "\n",
    "5. If you want convince Python that it should take into account a non-standard package's directory, its name needs to be inserted/appended into/to the import directory list stored in the `path` variable contained in the `sys` module.\n",
    "\n",
    "\n",
    "6. A Python file named `__init__.py` is implicitly run when a package containing it is subject to import, and is used to initialize a package and/or its sub-packages (if any). The file may be empty, but must not be absent.\n"
   ],
   "metadata": {
    "collapsed": false
   }
  },
  {
   "cell_type": "markdown",
   "source": [
    "#### Exercise 1\n",
    "\n",
    "You want to prevent your module's user from running your code as an ordinary script. How will you achieve such an effect?"
   ],
   "metadata": {
    "collapsed": false
   }
  },
  {
   "cell_type": "code",
   "execution_count": 48,
   "outputs": [
    {
     "name": "stdout",
     "output_type": "stream",
     "text": [
      "Don't do that!\n"
     ]
    },
    {
     "ename": "SystemExit",
     "evalue": "",
     "output_type": "error",
     "traceback": [
      "An exception has occurred, use %tb to see the full traceback.\n",
      "\u001B[0;31mSystemExit\u001B[0m\n"
     ]
    },
    {
     "name": "stderr",
     "output_type": "stream",
     "text": [
      "/home/win/anaconda3/envs/pcap-31/lib/python3.10/site-packages/IPython/core/interactiveshell.py:3450: UserWarning: To exit: use 'exit', 'quit', or Ctrl-D.\n",
      "  warn(\"To exit: use 'exit', 'quit', or Ctrl-D.\", stacklevel=1)\n"
     ]
    }
   ],
   "source": [
    "import sys\n",
    "\n",
    "if __name__ == \"__main__\":\n",
    "    print(\"Don't do that!\")\n",
    "    sys.exit()\n"
   ],
   "metadata": {
    "collapsed": false
   }
  },
  {
   "cell_type": "markdown",
   "source": [
    "#### Exercise 2\n",
    "\n",
    "Some additional and necessary packages are stored inside the `/home/win/src/PCAP-31/chapter_1/modules` directory. Write a code ensuring that the directory is traversed by Python in order to find all requested modules."
   ],
   "metadata": {
    "collapsed": false
   }
  },
  {
   "cell_type": "code",
   "execution_count": null,
   "outputs": [],
   "source": [
    "import sys\n",
    "sys.path.append('/home/win/src/PCAP-31/chapter_1/modules')\n",
    "\n",
    "list = [1,1,1]\n",
    "suml(list)"
   ],
   "metadata": {
    "collapsed": false
   }
  },
  {
   "cell_type": "markdown",
   "source": [
    "#### Exercise 3\n",
    "\n",
    "The directory mentioned in the previous exercise contains a sub-tree of the following structure:\n",
    "\n",
    "```\n",
    "abc\n",
    "|__ def\n",
    "    |__ mymodule.py\n",
    "```\n",
    "\n",
    "Assuming that `D:\\Python\\Project\\Modules` has been successfully appended to the `sys.path` list, write an import directive letting you use all the `mymodule` entities."
   ],
   "metadata": {
    "collapsed": false
   }
  },
  {
   "cell_type": "markdown",
   "source": [
    "Answer:\n",
    "```\n",
    "import abc.def.mymodule\n",
    "```"
   ],
   "metadata": {
    "collapsed": false
   }
  },
  {
   "cell_type": "code",
   "execution_count": null,
   "outputs": [],
   "source": [],
   "metadata": {
    "collapsed": false
   }
  }
 ],
 "metadata": {
  "kernelspec": {
   "display_name": "Python 3 (ipykernel)",
   "language": "python",
   "name": "python3"
  },
  "language_info": {
   "codemirror_mode": {
    "name": "ipython",
    "version": 3
   },
   "file_extension": ".py",
   "mimetype": "text/x-python",
   "name": "python",
   "nbconvert_exporter": "python",
   "pygments_lexer": "ipython3",
   "version": "3.10.9"
  }
 },
 "nbformat": 4,
 "nbformat_minor": 1
}

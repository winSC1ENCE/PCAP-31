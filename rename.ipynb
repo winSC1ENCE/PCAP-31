{
 "cells": [
  {
   "cell_type": "code",
   "execution_count": 28,
   "outputs": [],
   "source": [
    "import os\n",
    "import re\n",
    "from datetime import datetime"
   ],
   "metadata": {
    "collapsed": false,
    "ExecuteTime": {
     "end_time": "2023-07-30T14:39:31.795687521Z",
     "start_time": "2023-07-30T14:39:31.751436542Z"
    }
   },
   "id": "807e1be169b64d7e"
  },
  {
   "cell_type": "code",
   "execution_count": 14,
   "outputs": [
    {
     "name": "stdout",
     "output_type": "stream",
     "text": [
      "verzeichnis_pfad:  /home/win/src/PCAP-31/PE2_Test/test/\n"
     ]
    }
   ],
   "source": [
    "# Verzeichnispfad, in dem die Bilder liegen\n",
    "verzeichnis_pfad = input('Geben Sie den Verzeichnispfad ein, in dem die Bilder liegen: ')\n",
    "print(\"verzeichnis_pfad: \", verzeichnis_pfad)\n",
    "#verzeichnis_pfad = '/home/win/src/PCAP-31/PE2_Test/test/'"
   ],
   "metadata": {
    "collapsed": false,
    "ExecuteTime": {
     "end_time": "2023-07-30T14:34:25.721040985Z",
     "start_time": "2023-07-30T14:34:23.897447978Z"
    }
   },
   "id": "d32870d51ff11c44"
  },
  {
   "cell_type": "code",
   "execution_count": 29,
   "id": "initial_id",
   "metadata": {
    "collapsed": true,
    "ExecuteTime": {
     "end_time": "2023-07-30T14:39:37.425910416Z",
     "start_time": "2023-07-30T14:39:37.416970892Z"
    }
   },
   "outputs": [],
   "source": [
    "# Funktion, um das Datum aus dem Dateinamen zu extrahieren\n",
    "def extrahiere_datum(dateiname):\n",
    "    print(type(dateiname))\n",
    "    datum_muster = r'\\d{4}-\\d{2}-\\d{2} \\d{2}-\\d{2}-\\d{2}'\n",
    "    datum_str = re.search(datum_muster, dateiname).group()\n",
    "    print(datum_str)\n",
    "    return datetime.strptime(datum_str, \"%Y-%m-%d %H-%M-%S\")"
   ]
  },
  {
   "cell_type": "code",
   "execution_count": 30,
   "outputs": [
    {
     "name": "stdout",
     "output_type": "stream",
     "text": [
      "['Screenshot from 2023-07-10 22-57-22.png', 'Screenshot from 2023-07-10 22-58-39.png', 'Screenshot from 2023-07-10 22-57-58.png', 'Screenshot from 2023-07-10 22-58-19.png', 'Screenshot from 2023-07-10 22-57-53.png', 'Screenshot from 2023-07-10 22-58-36.png', 'Screenshot from 2023-07-10 22-57-17.png', 'Screenshot from 2023-07-10 22-58-31.png', 'Screenshot from 2023-07-10 22-57-25.png', 'Screenshot from 2023-07-10 22-57-33.png', 'Screenshot from 2023-07-10 22-58-22.png', 'Screenshot from 2023-07-10 22-58-09.png', 'Screenshot from 2023-07-10 22-58-34.png', 'Screenshot from 2023-07-10 22-57-27.png', 'Screenshot from 2023-07-10 22-59-00.png', 'Screenshot from 2023-07-10 22-58-11.png', 'Screenshot from 2023-07-10 22-57-19.png', 'Screenshot from 2023-07-10 22-57-11.png', 'Screenshot from 2023-07-10 22-58-14.png', 'Screenshot from 2023-07-10 22-58-57.png', 'Screenshot from 2023-07-10 22-57-08.png', 'Screenshot from 2023-07-10 22-57-14.png', 'Screenshot from 2023-07-10 22-58-17.png', 'Screenshot from 2023-07-10 22-58-04.png', 'Screenshot from 2023-07-10 22-57-35.png', 'Screenshot from 2023-07-10 22-57-05.png', 'Screenshot from 2023-07-10 22-58-26.png', 'Screenshot from 2023-07-10 22-58-51.png', 'Screenshot from 2023-07-10 22-58-47.png', 'Screenshot from 2023-07-10 22-57-38.png', 'Screenshot from 2023-07-10 22-58-42.png', 'Screenshot from 2023-07-10 22-57-41.png', 'Screenshot from 2023-07-10 22-56-56.png', 'Screenshot from 2023-07-10 22-58-29.png', 'Screenshot from 2023-07-10 22-58-54.png', 'Screenshot from 2023-07-10 22-57-30.png', 'Screenshot from 2023-07-10 22-57-49.png', 'Screenshot from 2023-07-10 22-58-06.png', 'Screenshot from 2023-07-10 22-57-46.png', 'Screenshot from 2023-07-10 22-57-02.png']\n"
     ]
    }
   ],
   "source": [
    "# Bilder im Verzeichnis auflisten und nach Datum sortieren\n",
    "bilder = [datei for datei in os.listdir(verzeichnis_pfad) if datei.endswith('.png')]\n",
    "print(bilder)"
   ],
   "metadata": {
    "collapsed": false,
    "ExecuteTime": {
     "end_time": "2023-07-30T14:39:38.154450366Z",
     "start_time": "2023-07-30T14:39:38.143231384Z"
    }
   },
   "id": "b0a1dde2dd1174f4"
  },
  {
   "cell_type": "code",
   "execution_count": 31,
   "outputs": [
    {
     "name": "stdout",
     "output_type": "stream",
     "text": [
      "<class 'str'>\n",
      "2023-07-10 22-57-22\n",
      "<class 'str'>\n",
      "2023-07-10 22-58-39\n",
      "<class 'str'>\n",
      "2023-07-10 22-57-58\n",
      "<class 'str'>\n",
      "2023-07-10 22-58-19\n",
      "<class 'str'>\n",
      "2023-07-10 22-57-53\n",
      "<class 'str'>\n",
      "2023-07-10 22-58-36\n",
      "<class 'str'>\n",
      "2023-07-10 22-57-17\n",
      "<class 'str'>\n",
      "2023-07-10 22-58-31\n",
      "<class 'str'>\n",
      "2023-07-10 22-57-25\n",
      "<class 'str'>\n",
      "2023-07-10 22-57-33\n",
      "<class 'str'>\n",
      "2023-07-10 22-58-22\n",
      "<class 'str'>\n",
      "2023-07-10 22-58-09\n",
      "<class 'str'>\n",
      "2023-07-10 22-58-34\n",
      "<class 'str'>\n",
      "2023-07-10 22-57-27\n",
      "<class 'str'>\n",
      "2023-07-10 22-59-00\n",
      "<class 'str'>\n",
      "2023-07-10 22-58-11\n",
      "<class 'str'>\n",
      "2023-07-10 22-57-19\n",
      "<class 'str'>\n",
      "2023-07-10 22-57-11\n",
      "<class 'str'>\n",
      "2023-07-10 22-58-14\n",
      "<class 'str'>\n",
      "2023-07-10 22-58-57\n",
      "<class 'str'>\n",
      "2023-07-10 22-57-08\n",
      "<class 'str'>\n",
      "2023-07-10 22-57-14\n",
      "<class 'str'>\n",
      "2023-07-10 22-58-17\n",
      "<class 'str'>\n",
      "2023-07-10 22-58-04\n",
      "<class 'str'>\n",
      "2023-07-10 22-57-35\n",
      "<class 'str'>\n",
      "2023-07-10 22-57-05\n",
      "<class 'str'>\n",
      "2023-07-10 22-58-26\n",
      "<class 'str'>\n",
      "2023-07-10 22-58-51\n",
      "<class 'str'>\n",
      "2023-07-10 22-58-47\n",
      "<class 'str'>\n",
      "2023-07-10 22-57-38\n",
      "<class 'str'>\n",
      "2023-07-10 22-58-42\n",
      "<class 'str'>\n",
      "2023-07-10 22-57-41\n",
      "<class 'str'>\n",
      "2023-07-10 22-56-56\n",
      "<class 'str'>\n",
      "2023-07-10 22-58-29\n",
      "<class 'str'>\n",
      "2023-07-10 22-58-54\n",
      "<class 'str'>\n",
      "2023-07-10 22-57-30\n",
      "<class 'str'>\n",
      "2023-07-10 22-57-49\n",
      "<class 'str'>\n",
      "2023-07-10 22-58-06\n",
      "<class 'str'>\n",
      "2023-07-10 22-57-46\n",
      "<class 'str'>\n",
      "2023-07-10 22-57-02\n"
     ]
    }
   ],
   "source": [
    "bilder.sort(key=lambda datei: extrahiere_datum(datei))"
   ],
   "metadata": {
    "collapsed": false,
    "ExecuteTime": {
     "end_time": "2023-07-30T14:39:39.058604688Z",
     "start_time": "2023-07-30T14:39:39.050281386Z"
    }
   },
   "id": "f63c40c03d5002fd"
  },
  {
   "cell_type": "code",
   "execution_count": 8,
   "outputs": [
    {
     "name": "stdout",
     "output_type": "stream",
     "text": [
      "0\n",
      "1\n",
      "2\n",
      "3\n",
      "4\n",
      "5\n",
      "6\n",
      "7\n",
      "8\n",
      "9\n",
      "10\n",
      "11\n",
      "12\n",
      "13\n",
      "14\n",
      "15\n",
      "16\n",
      "17\n",
      "18\n",
      "19\n",
      "20\n",
      "21\n",
      "22\n",
      "23\n",
      "24\n",
      "25\n",
      "26\n",
      "27\n",
      "28\n",
      "29\n",
      "30\n",
      "31\n",
      "32\n",
      "33\n",
      "34\n",
      "35\n",
      "36\n",
      "37\n",
      "38\n",
      "39\n",
      "Bilder wurden erfolgreich umbenannt.\n"
     ]
    }
   ],
   "source": [
    "# Umbenennen der Bilder\n",
    "for idx, datei in enumerate(bilder):\n",
    "    try:\n",
    "        print(idx)\n",
    "    except IndexError:\n",
    "        print(f\"Fehler beim Verarbeiten der Datei: {datei}\")\n",
    "\n",
    "print(\"Bilder wurden erfolgreich umbenannt.\")"
   ],
   "metadata": {
    "collapsed": false,
    "ExecuteTime": {
     "end_time": "2023-07-30T14:30:23.223907118Z",
     "start_time": "2023-07-30T14:30:23.176263721Z"
    }
   },
   "id": "53936f885cfba4ee"
  },
  {
   "cell_type": "code",
   "execution_count": null,
   "outputs": [],
   "source": [],
   "metadata": {
    "collapsed": false
   },
   "id": "44244bd8a21b047a"
  }
 ],
 "metadata": {
  "kernelspec": {
   "display_name": "Python 3",
   "language": "python",
   "name": "python3"
  },
  "language_info": {
   "codemirror_mode": {
    "name": "ipython",
    "version": 2
   },
   "file_extension": ".py",
   "mimetype": "text/x-python",
   "name": "python",
   "nbconvert_exporter": "python",
   "pygments_lexer": "ipython2",
   "version": "2.7.6"
  }
 },
 "nbformat": 4,
 "nbformat_minor": 5
}

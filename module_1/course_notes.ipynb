{
 "cells": [
  {
   "cell_type": "markdown",
   "metadata": {},
   "source": [
    "# [Python Essentials 2](https://edube.org/study/pe2)\n",
    "\n",
    "Module 1"
   ]
  },
  {
   "cell_type": "markdown",
   "metadata": {},
   "source": [
    "## Modules"
   ]
  },
  {
   "cell_type": "markdown",
   "metadata": {},
   "source": [
    "### Importing a module"
   ]
  },
  {
   "cell_type": "markdown",
   "metadata": {},
   "source": [
    "To make a module usable, you must import it (think of it like of taking a book off the shelf). Importing a module is done by an instruction named import. Note: import is also a keyword (with all the consequences of this fact).\n",
    "The import keyword\n",
    "\n",
    "\n",
    "Let's assume that you want to use two entities provided by the math module:\n",
    "* a symbol (constant) representing a precise (as precise as possible using double floating-point arithmetic) value of π (although using a Greek letter to name a variable is fully possible in Python, the symbol is named `pi - it's a more convenient solution, especially for that part of the world which neither has nor is going to use a Greek keyboard)\n",
    "* a function named `sin()` (the computer equivalent of the mathematical sine function)\n",
    "\n",
    "Both these entities are available through the math module, but the way in which you can use them strongly depends on how the import has been done.\n",
    "\n",
    "The simplest way to import a particular module is to use the import instruction as follows:"
   ]
  },
  {
   "cell_type": "code",
   "execution_count": 1,
   "metadata": {},
   "outputs": [],
   "source": [
    "import math"
   ]
  },
  {
   "cell_type": "markdown",
   "metadata": {},
   "source": [
    "The clause contains:\n",
    "* the `import` keyword\n",
    "* the name of the module which is subject to import.\n",
    "\n",
    "The instruction may be located anywhere in your code, but it must be placed before the first use of any of the module's entities.\n",
    "\n",
    "If you want to (or have to) import more than one module, you can do it by repeating the `import` clause (preferred):"
   ]
  },
  {
   "cell_type": "code",
   "execution_count": 2,
   "metadata": {},
   "outputs": [],
   "source": [
    "import math\n",
    "import sys"
   ]
  },
  {
   "cell_type": "markdown",
   "metadata": {},
   "source": [
    "or by listing the modules after the import keyword, like here:"
   ]
  },
  {
   "cell_type": "code",
   "execution_count": 3,
   "metadata": {},
   "outputs": [],
   "source": [
    "import math, sys"
   ]
  },
  {
   "cell_type": "markdown",
   "metadata": {},
   "source": [
    "he instruction imports two modules, first the one named math and then the second named sys.\n",
    "\n",
    "The module list may be arbitrarily long."
   ]
  },
  {
   "cell_type": "markdown",
   "metadata": {},
   "source": [
    "To continue, you need to become familiar with an important term: namespace. Don't worry, we won't go into great detail - this explanation is going to be as short as possible.\n",
    "\n",
    "A namespace is a space (understood in a non-physical context) in which some names exist and the names don't conflict with each other (i.e., there are not two different objects of the same name). We can say that each social group is a namespace - the group tends to name each of its members in a unique way (e.g., parents won't give their children the same first names).\n",
    "The namespace concept\n",
    "\n",
    "This uniqueness may be achieved in many ways, e.g., by using nicknames along with the first names (it will work inside a small group like a class in a school) or by assigning special identifiers to all members of the group (the US Social Security Number is a good example of such practice).\n",
    "\n",
    "\n",
    "Inside a certain namespace, each name must remain unique. This may mean that some names may disappear when any other entity of an already known name enters the namespace. We'll show you how it works and how to control it, but first, let's return to imports.\n",
    "\n",
    "If the module of a specified name exists and is accessible (a module is in fact a Python source file), Python imports its contents, i.e., all the names defined in the module become known, but they don't enter your code's namespace.\n",
    "\n",
    "This means that you can have your own entities named sin or pi and they won't be affected by the import in any way.\n",
    "The namespace concept: `math` and `pi`\n",
    "\n",
    "At this point, you may be wondering how to access the pi coming from the math module.\n",
    "\n",
    "To do this, you have to qualify the pi with the name of its original module."
   ]
  },
  {
   "cell_type": "code",
   "execution_count": 4,
   "metadata": {},
   "outputs": [
    {
     "data": {
      "text/plain": [
       "3.141592653589793"
      ]
     },
     "execution_count": 4,
     "metadata": {},
     "output_type": "execute_result"
    }
   ],
   "source": [
    "import math\n",
    "math.pi"
   ]
  },
  {
   "cell_type": "markdown",
   "metadata": {},
   "source": [
    "Look at the snippet below, this is the way in which you qualify the names of pi and sin with the name of its originating module:\n",
    "\n",
    "`math.pi`\n",
    "`math.sin`\n",
    "\n",
    "It's simple, you put:\n",
    "- the name of the module (e.g., `math`)\n",
    "- a dot (i.e., `.`)\n",
    "- the name of the entity (e.g., `pi`)\n",
    "\n",
    "Such a form clearly indicates the namespace in which the name exists.\n",
    "\n",
    "Note: using this qualification is compulsory if a module has been imported by the `import` module instruction. It doesn't matter if any of the names from your code and from the module's namespace are in conflict or not.\n",
    "\n",
    "\n",
    "This first example won't be very advanced - we just want to print the value of sin(½π).\n",
    "\n",
    "Look at the code in the editor. This is how we test it.\n",
    "\n",
    "The code outputs the expected value: `1.0`.\n",
    "\n",
    "Note: removing any of the two qualifications will make the code erroneous. There is no other way to enter math's namespace if you did the following:\n",
    "\n",
    "`import math`"
   ]
  },
  {
   "cell_type": "code",
   "execution_count": 5,
   "metadata": {},
   "outputs": [
    {
     "name": "stdout",
     "output_type": "stream",
     "text": [
      "1.0\n"
     ]
    }
   ],
   "source": [
    "import math\n",
    "print(math.sin(math.pi/2))"
   ]
  },
  {
   "cell_type": "markdown",
   "metadata": {},
   "source": [
    "Now we're going to show you how the two namespaces (yours and the module's one) can coexist.\n",
    "\n",
    "Take a look at the example in the editor window.\n",
    "\n",
    "We've defined our own pi and sin here.\n",
    "\n",
    "Run the program. The code should produce the following output:\n",
    "\n",
    "`0.99999999`\n",
    "`1.0`\n",
    "\n",
    "As you can see, the entities don't affect each other."
   ]
  },
  {
   "cell_type": "code",
   "execution_count": 6,
   "metadata": {},
   "outputs": [
    {
     "name": "stdout",
     "output_type": "stream",
     "text": [
      "our own pi: 0.99999999\n",
      "math pi: 1.0\n"
     ]
    }
   ],
   "source": [
    "import math\n",
    "\n",
    "def sin(x):\n",
    "    if 2 * x == pi:\n",
    "        return 0.99999999\n",
    "    else:\n",
    "        return None\n",
    "\n",
    "pi = 3.14\n",
    "\n",
    "print(f\"our own pi: {sin(pi/2)}\")\n",
    "print(f\"math pi: {math.sin(math.pi/2)}\")"
   ]
  },
  {
   "cell_type": "markdown",
   "metadata": {},
   "source": [
    "In the second method, the import's syntax precisely points out which module's entity (or entities) are acceptable in the code:\n",
    "\n",
    "`from math import pi`\n",
    "\n",
    "\n",
    "The instruction consists of the following elements:\n",
    "\n",
    "the `from` keyword;\n",
    "the name of the module to be (selectively) imported;\n",
    "the `import` keyword;\n",
    "the name or list of names of the entity/entities which are being imported into the namespace.\n",
    "The instruction has this effect:\n",
    "\n",
    "the listed entities (and only those ones) are imported from the indicated module;\n",
    "the names of the imported entities are accessible without qualification.\n",
    "Note: no other entities are imported. Moreover, you cannot import additional entities using a qualification - a line like this one:\n",
    "\n",
    "`print(math.e)`\n",
    "\n",
    "\n",
    "will cause an error (e is Euler's number: 2.71828...)\n",
    "\n",
    "Let's rewrite the previous script to incorporate the new technique.\n",
    "\n",
    "Here it is:\n",
    "\n",
    "```\n",
    "from math import sin, pi\n",
    "print(sin(pi/2))\n",
    "```\n",
    "\n",
    "The output should be the same as previously, as in fact we've used the same entities as before: 1.0. Copy the code, paste it in the editor, and run the program.\n",
    "\n",
    "Does the code look simpler? Maybe, but the look is not the only effect of this kind of import. Let's show you that.\n",
    "\n"
   ]
  },
  {
   "cell_type": "code",
   "execution_count": 7,
   "metadata": {},
   "outputs": [
    {
     "name": "stdout",
     "output_type": "stream",
     "text": [
      "2.718281828459045\n"
     ]
    }
   ],
   "source": [
    "from math import pi\n",
    "# this is working since we already loaded math in this session\n",
    "print(math.e)"
   ]
  },
  {
   "cell_type": "code",
   "execution_count": 8,
   "metadata": {},
   "outputs": [
    {
     "name": "stdout",
     "output_type": "stream",
     "text": [
      "1.0\n"
     ]
    }
   ],
   "source": [
    "# this will overwrite our sin function above.\n",
    "from math import sin, pi\n",
    "\n",
    "print(sin(pi/2))"
   ]
  },
  {
   "cell_type": "markdown",
   "metadata": {},
   "source": [
    "Look at the code in the cell below. Analyze it carefully:\n",
    "\n",
    "- line 1: carry out the selective import;\n",
    "- line 3: make use of the imported entities and get the expected result (1.0)\n",
    "- lines 5 through 12: redefine the meaning of pi and sin - in effect, they supersede the original (imported) definitions within the code's namespace;\n",
    "- line 15: get 0.99999999, which confirms our conclusions."
   ]
  },
  {
   "cell_type": "code",
   "execution_count": 9,
   "metadata": {},
   "outputs": [
    {
     "name": "stdout",
     "output_type": "stream",
     "text": [
      "1.0\n",
      "0.99999999\n"
     ]
    }
   ],
   "source": [
    "from math import sin, pi\n",
    "\n",
    "print(sin(pi / 2))\n",
    "\n",
    "pi = 3.14\n",
    "\n",
    "\n",
    "def sin(x):\n",
    "    if 2 * x == pi:\n",
    "        return 0.99999999\n",
    "    else:\n",
    "        return None\n",
    "\n",
    "\n",
    "print(sin(pi / 2))"
   ]
  },
  {
   "cell_type": "markdown",
   "metadata": {},
   "source": [
    "Let's do another test. Look at the code below:\n",
    "\n",
    "Here, we've reversed the sequence of the code's operations:\n",
    "\n",
    "- lines 1 through 8: define our own pi and sin;\n",
    "- line 11: make use of them (0.99999999 appears on the screen)\n",
    "- line 13: carry out the import - the imported symbols supersede their previous definitions within the namespace;\n",
    "- line 15: get 1.0 as a result."
   ]
  },
  {
   "cell_type": "code",
   "execution_count": 10,
   "metadata": {},
   "outputs": [
    {
     "name": "stdout",
     "output_type": "stream",
     "text": [
      "0.99999999\n",
      "1.0\n"
     ]
    }
   ],
   "source": [
    "pi = 3.14\n",
    "\n",
    "\n",
    "def sin(x):\n",
    "    if 2 * x == pi:\n",
    "        return 0.99999999\n",
    "    else:\n",
    "        return None\n",
    "\n",
    "\n",
    "print(sin(pi / 2))\n",
    "\n",
    "from math import sin, pi\n",
    "\n",
    "print(sin(pi / 2))"
   ]
  },
  {
   "cell_type": "markdown",
   "metadata": {},
   "source": [
    "If you need to change the word math, you can introduce your own name, just like in the example:"
   ]
  },
  {
   "cell_type": "code",
   "execution_count": 11,
   "metadata": {},
   "outputs": [
    {
     "name": "stdout",
     "output_type": "stream",
     "text": [
      "1.0\n"
     ]
    }
   ],
   "source": [
    "import math as m\n",
    "\n",
    "print(m.sin(m.pi/2))"
   ]
  },
  {
   "cell_type": "markdown",
   "metadata": {},
   "source": [
    "Note: after successful execution of an aliased import, the original module name becomes inaccessible and must not be used.\n",
    "\n",
    "\n",
    "In turn, when you use the from module import name variant and you need to change the entity's name, you make an alias for the entity. This will cause the name to be replaced by the alias you choose.\n",
    "\n",
    "This is how it can be done:\n",
    "\n",
    "`from module import name as alias`\n",
    "\n",
    "As previously, the original (unaliased) name becomes inaccessible.\n",
    "\n",
    "The phrase name as alias can be repeated - use commas to separate the multiplied phrases, like this:\n",
    "\n",
    "`from module import n as a, m as b, o as c`\n",
    "\n",
    "The example may look a bit weird, but it works:"
   ]
  },
  {
   "cell_type": "code",
   "execution_count": 12,
   "metadata": {},
   "outputs": [
    {
     "name": "stdout",
     "output_type": "stream",
     "text": [
      "1.0\n"
     ]
    }
   ],
   "source": [
    "from math import pi as PI, sin as sine\n",
    "\n",
    "print(sine(PI/2))"
   ]
  },
  {
   "cell_type": "markdown",
   "metadata": {},
   "source": [
    "Now you're familiar with the basics of using modules. Let us show you some modules and some of their useful entities."
   ]
  },
  {
   "cell_type": "markdown",
   "metadata": {},
   "source": [
    "**Key takeaways**\n",
    "\n",
    "1. If you want to import a module as a whole, you can do it using the import module_name statement. You are allowed to import more than one module at once using a comma-separated list. For example:\n",
    "```python\n",
    "import mod1\n",
    "import mod2, mod3, mod4\n",
    "```\n",
    "\n",
    "although the latter form is not recommended due to stylistic reasons, and it's better and prettier to express the same intention in more a verbose and explicit form, such as:\n",
    "```python\n",
    "import mod2\n",
    "import mod3\n",
    "import mod4\n",
    "```\n",
    "\n",
    "2. If a module is imported in the above manner and you want to access any of its entities, you need to prefix the entity's name using dot notation. For example:\n",
    "\n",
    "```python\n",
    "import my_module\n",
    "result = my_module.my_function(my_module.my_data)\n",
    "```\n",
    "\n",
    "The snippet makes use of two entities coming from the my_module module: a function named my_function() and a variable named my_data. Both names must be prefixed by my_module. None of the imported entity names conflicts with the identical names existing in your code's namespace.\n",
    "\n",
    "\n",
    "3. You are allowed not only to import a module as a whole, but to import only individual entities from it. In this case, the imported entities must not be prefixed when used. For example:\n",
    "\n",
    "```python\n",
    "from module import my_function, my_data\n",
    "\n",
    "result = my_function(my_data)\n",
    "```\n",
    "\n",
    "The above way - despite its attractiveness - is not recommended because of the danger of causing conflicts with names derived from importing the code's namespace.\n",
    "\n",
    "\n",
    "4. The most general form of the above statement allows you to import all entities offered by a module:\n",
    "\n",
    "```python\n",
    "from my_module import *\n",
    "\n",
    "result = my_function(my_data)\n",
    "```\n",
    "\n",
    "Note: this import's variant is not recommended due to the same reasons as previously (the threat of a naming conflict is even more dangerous here).\n",
    "\n",
    "5. You can change the name of the imported entity \"on the fly\" by using the as phrase of the import. For example:\n",
    "\n",
    "```python\n",
    "from module import my_function as fun, my_data as dat\n",
    "\n",
    "result = fun(dat)\n",
    "\n",
    "```"
   ]
  },
  {
   "cell_type": "markdown",
   "metadata": {},
   "source": [
    "### Exercises"
   ]
  },
  {
   "cell_type": "markdown",
   "metadata": {},
   "source": [
    "#### Exercise 1\n",
    "You want to invoke the function make_money() contained in the module named mint. Your code begins with the following line:\n",
    "`ìmport mint`\n",
    "What is the proper form of the function's invocation?\n",
    "\n",
    "<details>\n",
    "  <summary>Click me</summary>\n",
    "  \n",
    "\tmint.make_money()\n",
    "\n",
    "</details>"
   ]
  },
  {
   "cell_type": "markdown",
   "metadata": {},
   "source": [
    "#### Exercise 2\n",
    "You want to invoke the function make_money() contained in the module named mint. Your code begins with the following line:\n",
    "\n",
    "`from mint import make_money`\n",
    "\n",
    "What is the proper form of the function's invocation?\n",
    "\n",
    "<details>\n",
    "  <summary>Click me</summary>\n",
    "  \n",
    "\tmake_money()\n",
    "\n",
    "</details>"
   ]
  },
  {
   "cell_type": "markdown",
   "metadata": {},
   "source": [
    "#### Exercise 3\n",
    "\n",
    "You've written a function named make_money on your own. You need to import a function of the same name from the mint module and don't want to rename any of your previously defined names. Which variant of the import statement may help you with the issue?\n",
    "\n",
    "<details>\n",
    "  <summary>Click me</summary>\n",
    "  \n",
    "\tfrom mint import make_money() as mkm\n",
    "\n",
    "</details>"
   ]
  },
  {
   "cell_type": "markdown",
   "metadata": {},
   "source": [
    "#### Exercise 4\n",
    "\n",
    "What form of the make_money function invocation is valid if your code starts with the following line?\n",
    "\n",
    "`from mint import *`\n",
    "\n",
    "<details>\n",
    "  <summary>Click me</summary>\n",
    "  \n",
    "\tmake_money()\n",
    "\n",
    "</details>"
   ]
  },
  {
   "cell_type": "markdown",
   "metadata": {},
   "source": [
    "## Working with standard modules"
   ]
  },
  {
   "cell_type": "markdown",
   "metadata": {},
   "source": [
    "Before we start going through some standard Python modules, we want to introduce the dir() function to you. It has nothing to do with the dir command you know from Windows and Unix consoles, as dir() doesn't show the contents of a disk directory/folder, but there is no denying that it does something really similar - it is able to reveal all the names provided through a particular module.\n",
    "\n",
    "There is one condition: the module has to have been previously imported as a whole (i.e., using the import module instruction - from module is not enough).\n",
    "\n",
    "The function returns an alphabetically sorted list containing all entities' names available in the module identified by a name passed to the function as an argument:\n",
    "`dir(module)`\n",
    "\n",
    "Note: if the module's name has been aliased, you must use the alias, not the original name.\n",
    "\n",
    "Using the function inside a regular script doesn't make much sense, but it is still possible.\n",
    "\n",
    "For example, you can run the following code to print the names of all entities within the math module:"
   ]
  },
  {
   "cell_type": "code",
   "execution_count": 13,
   "metadata": {},
   "outputs": [
    {
     "name": "stdout",
     "output_type": "stream",
     "text": [
      "__doc__\t__file__\t__loader__\t__name__\t__package__\t__spec__\tacos\tacosh\tasin\tasinh\tatan\tatan2\tatanh\tceil\tcomb\tcopysign\tcos\tcosh\tdegrees\tdist\te\terf\terfc\texp\texpm1\tfabs\tfactorial\tfloor\tfmod\tfrexp\tfsum\tgamma\tgcd\thypot\tinf\tisclose\tisfinite\tisinf\tisnan\tisqrt\tlcm\tldexp\tlgamma\tlog\tlog10\tlog1p\tlog2\tmodf\tnan\tnextafter\tperm\tpi\tpow\tprod\tradians\tremainder\tsin\tsinh\tsqrt\ttan\ttanh\ttau\ttrunc\tulp\t"
     ]
    }
   ],
   "source": [
    "import math\n",
    "\n",
    "for name in dir(math):\n",
    "    print(name, end=\"\\t\")"
   ]
  },
  {
   "cell_type": "markdown",
   "metadata": {},
   "source": [
    "Have you noticed these strange names beginning with __ at the top of the list? We'll tell you more about them when we talk about the issues related to writing your own modules.\n",
    "\n",
    "Some of the names might bring back memories from math lessons, and you probably won't have any problems guessing their meanings.\n",
    "\n",
    "Using the dir() function inside a code may not seem very useful - usually you want to know a particular module's contents before you write and run the code.\n",
    "\n",
    "Fortunately, you can execute the function directly in the Python console (IDLE), without needing to write and run a separate script.\n",
    "\n",
    "This is how it can be done:"
   ]
  },
  {
   "cell_type": "code",
   "execution_count": 14,
   "metadata": {},
   "outputs": [
    {
     "data": {
      "text/plain": [
       "['__doc__',\n",
       " '__file__',\n",
       " '__loader__',\n",
       " '__name__',\n",
       " '__package__',\n",
       " '__spec__',\n",
       " 'acos',\n",
       " 'acosh',\n",
       " 'asin',\n",
       " 'asinh',\n",
       " 'atan',\n",
       " 'atan2',\n",
       " 'atanh',\n",
       " 'ceil',\n",
       " 'comb',\n",
       " 'copysign',\n",
       " 'cos',\n",
       " 'cosh',\n",
       " 'degrees',\n",
       " 'dist',\n",
       " 'e',\n",
       " 'erf',\n",
       " 'erfc',\n",
       " 'exp',\n",
       " 'expm1',\n",
       " 'fabs',\n",
       " 'factorial',\n",
       " 'floor',\n",
       " 'fmod',\n",
       " 'frexp',\n",
       " 'fsum',\n",
       " 'gamma',\n",
       " 'gcd',\n",
       " 'hypot',\n",
       " 'inf',\n",
       " 'isclose',\n",
       " 'isfinite',\n",
       " 'isinf',\n",
       " 'isnan',\n",
       " 'isqrt',\n",
       " 'lcm',\n",
       " 'ldexp',\n",
       " 'lgamma',\n",
       " 'log',\n",
       " 'log10',\n",
       " 'log1p',\n",
       " 'log2',\n",
       " 'modf',\n",
       " 'nan',\n",
       " 'nextafter',\n",
       " 'perm',\n",
       " 'pi',\n",
       " 'pow',\n",
       " 'prod',\n",
       " 'radians',\n",
       " 'remainder',\n",
       " 'sin',\n",
       " 'sinh',\n",
       " 'sqrt',\n",
       " 'tan',\n",
       " 'tanh',\n",
       " 'tau',\n",
       " 'trunc',\n",
       " 'ulp']"
      ]
     },
     "execution_count": 14,
     "metadata": {},
     "output_type": "execute_result"
    }
   ],
   "source": [
    "import math\n",
    "dir(math)"
   ]
  },
  {
   "cell_type": "markdown",
   "metadata": {},
   "source": [
    "### The math module"
   ]
  },
  {
   "cell_type": "markdown",
   "metadata": {},
   "source": [
    "Let's start with a quick preview of some of the functions provided by the math module.\n",
    "\n",
    "We've chosen them arbitrarily, but that doesn't mean that the functions we haven't mentioned here are any less significant. Dive into the modules' depths yourself - we don't have the space or the time to talk about everything in detail here.\n",
    "\n",
    "The first group of the math's functions are connected with trigonometry:\n",
    "\n",
    "* sin(x) → the sine of x;\n",
    "* cos(x) → the cosine of x;\n",
    "* tan(x) → the tangent of x.\n",
    "\n",
    "All these functions take one argument (an angle measurement expressed in radians) and return the appropriate result (be careful with tan() - not all arguments are accepted).\n",
    "\n",
    "Of course, there are also their inversed versions:\n",
    "\n",
    "* asin(x) → the arcsine of x;\n",
    "* acos(x) → the arccosine of x;\n",
    "* atan(x) → the arctangent of x.\n",
    "\n",
    "These functions take one argument (mind the domains) and return a measure of an angle in radians.\n",
    "\n",
    "\n",
    "To effectively operate on angle measurements, the math module provides you with the following entities:\n",
    "\n",
    "pi → a constant with a value that is an approximation of π;\n",
    "radians(x) → a function that converts x from degrees to radians;\n",
    "degrees(x) → acting in the other direction (from radians to degrees)\n",
    "Now look at the code in the editor. The example program isn't very sophisticated, but can you predict its results?\n",
    "\n",
    "\n",
    "Apart from the circular functions (listed above) the math module also contains a set of their hyperbolic analogues:\n",
    "\n",
    "* sinh(x) → the hyperbolic sine;\n",
    "* cosh(x) → the hyperbolic cosine;\n",
    "* tanh(x) → the hyperbolic tangent;\n",
    "* asinh(x) → the hyperbolic arcsine;\n",
    "* acosh(x) → the hyperbolic arccosine;\n",
    "* atanh(x) → the hyperbolic arctangent."
   ]
  },
  {
   "cell_type": "code",
   "execution_count": 15,
   "metadata": {},
   "outputs": [
    {
     "name": "stdout",
     "output_type": "stream",
     "text": [
      "True\n",
      "True\n",
      "True\n",
      "True\n"
     ]
    }
   ],
   "source": [
    "from math import pi, radians, degrees, sin, cos, tan, asin\n",
    "\n",
    "ad = 90\n",
    "ar = radians(ad)\n",
    "ad = degrees(ar)\n",
    "\n",
    "print(ad == 90.)\n",
    "print(ar == pi / 2.)\n",
    "print(sin(ar) / cos(ar) == tan(ar))\n",
    "print(asin(sin(ar)) == ar)"
   ]
  },
  {
   "cell_type": "markdown",
   "metadata": {},
   "source": [
    "Another group of the math's functions is formed by functions which are connected with exponentiation:\n",
    "\n",
    "* e → a constant with a value that is an approximation of Euler's number (e)\n",
    "* exp(x) → finding the value of ex;\n",
    "* log(x) → the natural logarithm of x\n",
    "* log(x, b) → the logarithm of x to base b\n",
    "* log10(x) → the decimal logarithm of x (more precise than log(x, 10))\n",
    "* log2(x) → the binary logarithm of x (more precise than log(x, 2))\n",
    "\n",
    "Note: the pow() function:\n",
    "\n",
    "* pow(x, y) → finding the value of xy (mind the domains)\n",
    "\n",
    "This is a built-in function, and doesn't have to be imported.\n",
    "\n",
    "Look at the code in the editor. Can you predict its output?\n",
    "\n"
   ]
  },
  {
   "cell_type": "code",
   "execution_count": 16,
   "metadata": {},
   "outputs": [
    {
     "name": "stdout",
     "output_type": "stream",
     "text": [
      "True\n",
      "True\n",
      "True\n"
     ]
    }
   ],
   "source": [
    "from math import e, exp, log\n",
    "\n",
    "print(pow(e, 1) == exp(log(e)))\n",
    "print(pow(2, 2) == exp(2 * log(2)))\n",
    "print(log(e, e) == exp(0))"
   ]
  },
  {
   "cell_type": "markdown",
   "metadata": {},
   "source": [
    "The last group consists of some general-purpose functions like:\n",
    "\n",
    "* ceil(x) → the ceiling of x (the smallest integer greater than or equal to x)\n",
    "* floor(x) → the floor of x (the largest integer less than or equal to x)\n",
    "* trunc(x) → the value of x truncated to an integer (be careful - it's not an equivalent either of ceil or floor)\n",
    "* factorial(x) → returns x! (x has to be an integral and not a negative)\n",
    "* hypot(x, y) → returns the length of the hypotenuse of a right-angle triangle with the leg lengths equal to x and y (the same as sqrt(pow(x, 2) + pow(y, 2)) but more precise)\n",
    "Look at the code in the editor. Analyze the program carefully.\n",
    "\n",
    "It demonstrates the fundamental differences between ceil(), floor() and trunc().\n",
    "\n",
    "Run the program and check its output."
   ]
  },
  {
   "cell_type": "code",
   "execution_count": 17,
   "metadata": {},
   "outputs": [
    {
     "name": "stdout",
     "output_type": "stream",
     "text": [
      "1 2\n",
      "-2 -3\n",
      "2 3\n",
      "-1 -2\n",
      "1 2\n",
      "-1 -2\n"
     ]
    }
   ],
   "source": [
    "from math import ceil, floor, trunc\n",
    "\n",
    "x = 1.4\n",
    "y = 2.6\n",
    "\n",
    "print(floor(x), floor(y))\n",
    "print(floor(-x), floor(-y))\n",
    "print(ceil(x), ceil(y))\n",
    "print(ceil(-x), ceil(-y))\n",
    "print(trunc(x), trunc(y))\n",
    "print(trunc(-x), trunc(-y))"
   ]
  },
  {
   "cell_type": "markdown",
   "metadata": {},
   "source": [
    "### Is there real randomness in computers?"
   ]
  },
  {
   "cell_type": "markdown",
   "metadata": {},
   "source": [
    "Another module worth mentioning is the one named random.\n",
    "\n",
    "It delivers some mechanisms allowing you to operate with pseudorandom numbers.\n",
    "\n",
    "Two dice - the concept of random\n",
    "Note the prefix pseudo - the numbers generated by the modules may look random in the sense that you cannot predict their subsequent values, but don't forget that they all are calculated using very refined algorithms.\n",
    "\n",
    "The algorithms aren't random - they are deterministic and predictable. Only those physical processes which run completely out of our control (like the intensity of cosmic radiation) may be used as a source of actual random data. Data produced by deterministic computers cannot be random in any way.\n",
    "\n",
    "\n",
    "\n",
    "A random number generator takes a value called a seed, treats it as an input value, calculates a \"random\" number based on it (the method depends on a chosen algorithm) and produces a new seed value.\n",
    "\n",
    "The length of a cycle in which all seed values are unique may be very long, but it isn't infinite - sooner or later the seed values will start repeating, and the generating values will repeat, too. This is normal. It's a feature, not a mistake, or a bug.\n",
    "\n",
    "The initial seed value, set during the program start, determines the order in which the generated values will appear.\n",
    "\n",
    "The random factor of the process may be augmented by setting the seed with a number taken from the current time - this may ensure that each program launch will start from a different seed value (ergo, it will use different random numbers).\n",
    "\n",
    "Fortunately, such an initialization is done by Python during module import.\n"
   ]
  },
  {
   "cell_type": "markdown",
   "metadata": {},
   "source": [
    "### The random module"
   ]
  },
  {
   "cell_type": "markdown",
   "metadata": {},
   "source": [
    "#### The random function\n",
    "\n",
    "The most general function named random() (not to be confused with the module's name) produces a float number x coming from the range (0.0, 1.0) - in other words: (0.0 <= x < 1.0).\n",
    "\n",
    "The example program below will produce five pseudorandom values - as their values are determined by the current (rather unpredictable) seed value, you can't guess them:"
   ]
  },
  {
   "cell_type": "code",
   "execution_count": 18,
   "metadata": {},
   "outputs": [
    {
     "name": "stdout",
     "output_type": "stream",
     "text": [
      "0.03352228409189495\n",
      "0.6629165318154698\n",
      "0.7727675789618653\n",
      "0.998490322045308\n",
      "0.08328614760181396\n"
     ]
    }
   ],
   "source": [
    "from random import random\n",
    "\n",
    "for i in range(5):\n",
    "    print(random())"
   ]
  },
  {
   "cell_type": "markdown",
   "metadata": {},
   "source": [
    "The seed function\n",
    "\n",
    "The seed() function is able to directly set the generator's seed. We'll show you two of its variants:\n",
    "\n",
    "seed() - sets the seed with the current time;\n",
    "seed(int_value) - sets the seed with the integer value int_value.\n",
    "We've modified the previous program - in effect, we've removed any trace of randomness from the code:"
   ]
  },
  {
   "cell_type": "code",
   "execution_count": 19,
   "metadata": {},
   "outputs": [
    {
     "name": "stdout",
     "output_type": "stream",
     "text": [
      "0.8444218515250481\n",
      "0.7579544029403025\n",
      "0.420571580830845\n",
      "0.25891675029296335\n",
      "0.5112747213686085\n"
     ]
    }
   ],
   "source": [
    "from random import random, seed\n",
    "\n",
    "seed(0)\n",
    "\n",
    "for i in range(5):\n",
    "    print(random())\n"
   ]
  },
  {
   "cell_type": "markdown",
   "metadata": {},
   "source": [
    "Due to the fact that the seed is always set with the same value, the sequence of generated values always looks the same.\n",
    "\n",
    "Run the program. This is what we've got:"
   ]
  },
  {
   "cell_type": "code",
   "execution_count": 20,
   "metadata": {},
   "outputs": [
    {
     "name": "stdout",
     "output_type": "stream",
     "text": [
      "0.8444218515250481\n",
      "0.7579544029403025\n",
      "0.420571580830845\n",
      "0.25891675029296335\n",
      "0.5112747213686085\n"
     ]
    }
   ],
   "source": [
    "seed(0)\n",
    "for i in range(5):\n",
    "    print(random())"
   ]
  },
  {
   "cell_type": "markdown",
   "metadata": {},
   "source": [
    "And you?\n",
    "\n",
    "Note: your values may be slightly different than ours if your system uses more precise or less precise floating-point arithmetic, but the difference will be seen quite far from the decimal point."
   ]
  },
  {
   "cell_type": "markdown",
   "metadata": {},
   "source": [
    "#### The randrange and randint functions"
   ]
  },
  {
   "cell_type": "markdown",
   "metadata": {},
   "source": [
    "If you want integer random values, one of the following functions would fit better:\n",
    "- randrange(end)\n",
    "- randrange(beg, end)\n",
    "- randrange(beg, end, step)\n",
    "- randint(left, right)\n",
    "\n",
    "The first three invocations will generate an integer taken (pseudorandomly) from the range (respectively):\n",
    "- range(end)\n",
    "- range(beg, end)\n",
    "- range(beg, end, step)\n",
    "\n",
    "Note the implicit **right-sided exclusion**!\n",
    "\n",
    "The last function is an equivalent of randrange(left, right+1) - it generates the integer value i, which falls in the range [left, right] (no exclusion on the right side).\n",
    "\n",
    "Look at the code in the editor. This sample program will consequently output a line consisting of three zeros and either a zero or one at the fourth place."
   ]
  },
  {
   "cell_type": "code",
   "execution_count": 21,
   "metadata": {},
   "outputs": [
    {
     "name": "stdout",
     "output_type": "stream",
     "text": [
      "0 0 0 1\n"
     ]
    }
   ],
   "source": [
    "from random import randrange, randint\n",
    "\n",
    "print(randrange(1), end=' ')\n",
    "print(randrange(0, 1), end=' ')\n",
    "print(randrange(0, 1, 1), end=' ')\n",
    "print(randint(0, 1))\n"
   ]
  },
  {
   "cell_type": "markdown",
   "metadata": {},
   "source": [
    "The previous functions have one important disadvantage - they may produce repeating values even if the number of subsequent invocations is not greater than the width of the specified range.\n",
    "\n",
    "Look at the code below - the program very likely outputs a set of numbers in which some elements are not unique:"
   ]
  },
  {
   "cell_type": "code",
   "execution_count": 22,
   "metadata": {},
   "outputs": [
    {
     "name": "stdout",
     "output_type": "stream",
     "text": [
      "10,4,9,3,5,3,2,10,5,9,"
     ]
    }
   ],
   "source": [
    "from random import randint\n",
    "\n",
    "for i in range(10):\n",
    "    print(randint(1, 10), end=',')"
   ]
  },
  {
   "cell_type": "markdown",
   "metadata": {},
   "source": [
    "#### The choice and sample functions\n",
    "\n",
    "As you can see, this is not a good tool for generating numbers in a lottery. Fortunately, there is a better solution than writing your own code to check the uniqueness of the \"drawn\" numbers.\n",
    "\n",
    "\n",
    "It's a function named in a very suggestive way - choice:\n",
    "- choice(sequence)\n",
    "- sample(sequence, elements_to_choose)\n",
    "- The first variant chooses a \"random\" element from the input sequence and returns it.\n",
    "\n",
    "The second one builds a list (a sample) consisting of the elements_to_choose element \"drawn\" from the input sequence.\n",
    "\n",
    "In other words, the function chooses some of the input elements, returning a list with the choice. The elements in the sample are placed in random order. Note: the elements_to_choose must not be greater than the length of the input sequence.\n",
    "\n",
    "Look at the code below (Again, the output of the program is not predictable. Our results looked like this):"
   ]
  },
  {
   "cell_type": "code",
   "execution_count": 23,
   "metadata": {},
   "outputs": [
    {
     "name": "stdout",
     "output_type": "stream",
     "text": [
      "10\n",
      "[3, 5, 2, 6, 1]\n",
      "[6, 8, 2, 3, 4, 7, 9, 5, 10, 1]\n"
     ]
    }
   ],
   "source": [
    "from random import choice, sample\n",
    "\n",
    "my_list = [1, 2, 3, 4, 5, 6, 7, 8, 9, 10]\n",
    "\n",
    "print(choice(my_list))\n",
    "print(sample(my_list, 5))\n",
    "print(sample(my_list, 10))"
   ]
  },
  {
   "cell_type": "code",
   "execution_count": 23,
   "metadata": {},
   "outputs": [],
   "source": []
  },
  {
   "cell_type": "markdown",
   "metadata": {},
   "source": [
    "### How to know where you are?"
   ]
  },
  {
   "cell_type": "markdown",
   "metadata": {},
   "source": [
    "Sometimes, it may be necessary to find out information unrelated to Python. For example, you may need to know the location of your program within the greater environment of the computer.\n",
    "\n",
    "Imagine your program's environment as a pyramid consisting of a number of layers or platforms.\n",
    "![Layers](../img/module_1/layer.png)\n",
    "Program's environment layers\n",
    "\n",
    "\n",
    "The layers are:\n",
    "- your (running) code is located at the top of it;\n",
    "- Python, or more precisely, its runtime environment, lies directly below it;\n",
    "- the next layer of the pyramid is filled with the OS (operating system) – Python's environment provides some of its functionalities using the operating system's services; Python, although very powerful, isn't omnipotent – it's forced to use many helpers if it's going to process files or communicate with physical devices;\n",
    "- the bottom-most layer is hardware – the processor (or processors), network interfaces, human interface devices (mouse, keyboards, etc.) and all other machinery needed to make the computer run; the OS knows how to drive it, and uses lots of tricks to conduct all parts in a consistent rhythm.\n",
    "\n",
    "This means that some of your (or rather your program's) actions have to travel a long way to be successfully performed – imagine that:\n",
    "- your code wants to create a file, so it invokes one of Python's functions;\n",
    "- Python accepts the order, rearranges it to meet local OS requirements, which is like putting the stamp \"approved\" on your request, and sends it down (this may remind you of a chain of command)\n",
    "- the OS checks if the request is reasonable and valid (e.g., whether the file name conforms to some syntax rules) and tries to create the file; such an operation, seemingly very simple, isn't atomic – it consists of many minor steps taken by...\n",
    "- the hardware, which is responsible for activating storage devices (hard disk, solid state devices, etc.) to satisfy the OS's needs.\n",
    "\n",
    "Usually, you're not aware of all that fuss – you want the file to be created and that's that.\n",
    "\n",
    "But sometimes you want to know more – for example, the name of the OS which hosts Python, and some characteristics describing the hardware that hosts the OS.\n",
    "\n",
    "There is a module providing some means to allow you to know where you are and what components work for you. The module is named platform. We'll show you some of the functions it provides to you.\n",
    "\n"
   ]
  },
  {
   "cell_type": "markdown",
   "metadata": {},
   "source": [
    "### The platform function"
   ]
  },
  {
   "cell_type": "markdown",
   "metadata": {},
   "source": [
    "the `platform` module lets you access the underlying platform's data, i.e., hardware, operating system, and interpreter version information.\n",
    "\n",
    "There is a function that can show you all the underlying layers in one glance, named `platform`, too. It just returns a string describing the environment; thus, its output is rather addressed to humans than to automated processing (you'll see it soon).\n",
    "\n",
    "This is how you can invoke it:"
   ]
  },
  {
   "cell_type": "code",
   "execution_count": 24,
   "metadata": {},
   "outputs": [
    {
     "name": "stdout",
     "output_type": "stream",
     "text": [
      "Linux-5.19.0-38-generic-x86_64-with-glibc2.35\n",
      "Linux-5.19.0-38-generic-x86_64-with-glibc2.35\n"
     ]
    }
   ],
   "source": [
    "from platform import platform\n",
    "print(platform(aliased = False, terse = False))\n",
    "print(platform(aliased = True, terse = True))"
   ]
  },
  {
   "cell_type": "markdown",
   "metadata": {},
   "source": [
    "And now:\n",
    "- `aliased` → when set to `True` (or any non-zero value) it may cause the function to present the alternative underlying layer names instead of the common ones;\n",
    "- `terse` → when set to True (or any non-zero value) it may convince the function to present a briefer form of the result (if possible)\n",
    "\n",
    "We ran our sample program using three different platforms - this is what we got:\n",
    "- Intel x86 + Windows ® Vista (32 bit):\n",
    "```\n",
    "Windows-Vista-6.0.6002-SP2\n",
    "Windows-Vista-6.0.6002-SP2\n",
    "Windows-Vista\n",
    "```\n",
    "- Intel x86 + Gentoo Linux (64 bit):\n",
    "```\n",
    "Linux-3.18.62-g6-x86_64-Intel-R-_Core-TM-_i3-2330M_CPU_@_2.20GHz-with-gentoo-2.3\n",
    "Linux-3.18.62-g6-x86_64-Intel-R-_Core-TM-_i3-2330M_CPU_@_2.20GHz-with-gentoo-2.3\n",
    "Linux-3.18.62-g6-x86_64-Intel-R-_Core-TM-_i3-2330M_CPU_@_2.20GHz-with-glibc2.3.4\n",
    "```\n",
    "- Raspberry PI2 + Raspbian Linux (32 bit):\n",
    "```\n",
    "Linux-4.4.0-1-rpi2-armv7l-with-debian-9.0\n",
    "Linux-4.4.0-1-rpi2-armv7l-with-debian-9.0\n",
    "Linux-4.4.0-1-rpi2-armv7l-with-glibc2.9\n",
    "```\n",
    "You can also run the sample program in IDLE on your local machine to check what output you will have."
   ]
  },
  {
   "cell_type": "code",
   "execution_count": 25,
   "metadata": {},
   "outputs": [
    {
     "name": "stdout",
     "output_type": "stream",
     "text": [
      "Linux-5.19.0-38-generic-x86_64-with-glibc2.35\n",
      "Linux-5.19.0-38-generic-x86_64-with-glibc2.35\n",
      "Linux-5.19.0-38-generic-x86_64-with-glibc2.35\n"
     ]
    }
   ],
   "source": [
    "print(platform())\n",
    "print(platform(1))\n",
    "print(platform(0, 1))\n"
   ]
  },
  {
   "cell_type": "markdown",
   "metadata": {},
   "source": [
    "### The machine function"
   ]
  },
  {
   "cell_type": "markdown",
   "metadata": {},
   "source": [
    "Sometimes, you may just want to know the generic name of the processor which runs your OS together with Python and your code - a function named `machine()` will tell you that. As previously, the function returns a string.\n",
    "\n",
    "Again, we ran the sample program on three different platforms:\n",
    "- Intel x86 + Windows ® Vista (32 bit):\n",
    "```\n",
    "x86\n",
    "```\n",
    "- Intel x86 + Gentoo Linux (64 bit):\n",
    "```\n",
    "x86_64\n",
    "```\n",
    "- Raspberry PI2 + Raspbian Linux (32 bit):\n",
    "```\n",
    "armv7l\n",
    "```"
   ]
  },
  {
   "cell_type": "code",
   "execution_count": 26,
   "metadata": {},
   "outputs": [
    {
     "name": "stdout",
     "output_type": "stream",
     "text": [
      "x86_64\n"
     ]
    }
   ],
   "source": [
    "from platform import machine\n",
    "\n",
    "print(machine())"
   ]
  },
  {
   "cell_type": "markdown",
   "metadata": {},
   "source": [
    "### The processor function"
   ]
  },
  {
   "cell_type": "markdown",
   "metadata": {},
   "source": [
    "The `processor()` function returns a string filled with the real processor name (if possible).\n",
    "\n",
    "Once again, we ran the sample program on three different platforms:\n",
    "\n",
    "- Intel x86 + Windows ® Vista (32 bit):\n",
    "```\n",
    "x86\n",
    "```\n",
    "- Intel x86 + Gentoo Linux (64 bit):\n",
    "```\n",
    "Intel(R) Core(TM) i3-2330M CPU @ 2.20GHz\n",
    "```\n",
    "- Raspberry PI2 + Raspbian Linux (32 bit):\n",
    "```\n",
    "armv7l\n",
    "```\n",
    "\n",
    "Test this on your local machine."
   ]
  },
  {
   "cell_type": "code",
   "execution_count": 27,
   "metadata": {},
   "outputs": [
    {
     "name": "stdout",
     "output_type": "stream",
     "text": [
      "x86_64\n"
     ]
    }
   ],
   "source": [
    "from platform import processor\n",
    "\n",
    "print(processor())"
   ]
  },
  {
   "cell_type": "markdown",
   "metadata": {},
   "source": [
    "### The system function"
   ]
  },
  {
   "cell_type": "markdown",
   "metadata": {},
   "source": [
    "A function named system() returns the generic OS name as a string.\n",
    "\n",
    "Our example platforms presented themselves like this:\n",
    "\n",
    "- Intel x86 + Windows ® Vista (32 bit):\n",
    "```\n",
    "Windows\n",
    "```\n",
    "- Intel x86 + Gentoo Linux (64 bit):\n",
    "```\n",
    "Linux\n",
    "```\n",
    "- Raspberry PI2 + Raspbian Linux (32 bit):\n",
    "```\n",
    "Linux\n",
    "```"
   ]
  },
  {
   "cell_type": "code",
   "execution_count": 28,
   "metadata": {},
   "outputs": [
    {
     "name": "stdout",
     "output_type": "stream",
     "text": [
      "Linux\n"
     ]
    }
   ],
   "source": [
    "from platform import system\n",
    "\n",
    "print(system())\n"
   ]
  },
  {
   "cell_type": "markdown",
   "metadata": {},
   "source": [
    "### The version function"
   ]
  },
  {
   "cell_type": "markdown",
   "metadata": {},
   "source": [
    "The OS version is provided as a string by the version() function.\n",
    "\n",
    "Run the code and check its output. This is what we got:\n",
    "\n",
    "- Intel x86 + Windows ® Vista (32 bit):\n",
    "```\n",
    "6.0.6002\n",
    "```\n",
    "- Intel x86 + Gentoo Linux (64 bit):\n",
    "```\n",
    "#1 SMP PREEMPT Fri Jul 21 22:44:37 CEST 2017\n",
    "```\n",
    "- Raspberry PI2 + Raspbian Linux (32 bit):\n",
    "```\n",
    "#1 SMP Debian 4.4.6-1+rpi14 (2016-05-05)\n",
    "```"
   ]
  },
  {
   "cell_type": "code",
   "execution_count": 29,
   "metadata": {},
   "outputs": [
    {
     "name": "stdout",
     "output_type": "stream",
     "text": [
      "#39~22.04.1-Ubuntu SMP PREEMPT_DYNAMIC Fri Mar 17 21:16:15 UTC 2\n"
     ]
    }
   ],
   "source": [
    "from platform import version\n",
    "\n",
    "print(version())\n"
   ]
  },
  {
   "cell_type": "markdown",
   "metadata": {},
   "source": [
    "### The python_implementation and the python_version_tuple functions"
   ]
  },
  {
   "cell_type": "markdown",
   "metadata": {},
   "source": [
    "If you need to know what version of Python is running your code, you can check it using a number of dedicated functions - here are two of them:\n",
    "- `python_implementation()` → returns a string denoting the Python implementation (expect `CPython` here, unless you decide to use any non-canonical Python branch)\n",
    "- `python_version_tuple()` → returns a three-element tuple filled with:\n",
    "  - the major part of Python's version;\n",
    "  - the minor part;\n",
    "  - the patch level number.\n",
    "\n",
    "Our example program produced the following output:\n",
    "```\n",
    "CPython\n",
    "3\n",
    "7\n",
    "7\n",
    "```\n",
    "\n",
    "It's very likely that your version of Python will be different."
   ]
  },
  {
   "cell_type": "code",
   "execution_count": 30,
   "metadata": {},
   "outputs": [
    {
     "name": "stdout",
     "output_type": "stream",
     "text": [
      "CPython\n",
      "3\n",
      "10\n",
      "9\n"
     ]
    }
   ],
   "source": [
    "from platform import python_implementation, python_version_tuple\n",
    "\n",
    "print(python_implementation())\n",
    "\n",
    "for atr in python_version_tuple():\n",
    "    print(atr)"
   ]
  },
  {
   "cell_type": "markdown",
   "metadata": {},
   "source": [
    "### Python Module Index"
   ]
  },
  {
   "cell_type": "markdown",
   "metadata": {},
   "source": [
    "We have only covered the basics of Python modules here. Python's modules make up their own universe, in which Python itself is only a galaxy, and we would venture to say that exploring the depths of these modules can take significantly more time than getting acquainted with \"pure\" Python.\n",
    "\n",
    "Moreover, the Python community all over the world creates and maintains hundreds of additional modules used in very niche applications like genetics, psychology, or even astrology.\n",
    "\n",
    "These modules aren't (and won't be) distributed along with Python, or through official channels, which makes the Python universe broader - almost infinite.\n",
    "\n",
    "You can read about all standard Python modules here: https://docs.python.org/3/py-modindex.html.\n",
    "\n",
    "Don't worry - you won't need all these modules. Many of them are very specific.\n",
    "\n",
    "All you need to do is find the modules you want, and teach yourself how to use them. It's easy.\n",
    "![Python Module Index](../img/module_1/module_index.png)\n",
    "\n",
    "In the next section we'll take a look at something else. We're going to show you how to write your own module."
   ]
  },
  {
   "cell_type": "markdown",
   "metadata": {},
   "source": [
    "module_1/### Key takeaways"
   ]
  },
  {
   "cell_type": "markdown",
   "metadata": {},
   "source": [
    "1. A function named dir() can show you a list of the entities contained inside an imported module. For example:\n",
    "\n",
    "```python\n",
    "import os\n",
    "dir(os)\n",
    "```\n",
    "prints out the list of all the `os` module's facilities you can use in your code.\n",
    "\n",
    "2. The `math` module couples more than 50 symbols (functions and constants) that perform mathematical operations (like `sine()`, `pow()`, `factorial()`) or providing important values (like π and the Euler symbol e).\n",
    "\n",
    "3. The `random` module groups more than 60 entities designed to help you use pseudo-random numbers. Don't forget the prefix \"random\", as there is no such thing as a real random number when it comes to generating them using the computer's algorithms.\n",
    "\n",
    "\n",
    "4. The `platform` module contains about 70 functions which let you dive into the underlaying layers of the OS and hardware. Using them allows you to get to know more about the environment in which your code is executed.\n",
    "\n",
    "5. Python Module Index (https://docs.python.org/3/py-modindex.html is a community-driven directory of modules available in the Python universe. If you want to find a module fitting your needs, start your search there.\n",
    "\n",
    "\n",
    "print(len(platform.python_version_tuple()))\n",
    "\n",
    "\n",
    "Check"
   ]
  },
  {
   "cell_type": "markdown",
   "metadata": {},
   "source": [
    "#### Exercise 1\n",
    "\n",
    "What is the expected value of the result variable after the following code is executed?\n",
    "\n",
    "```python\n",
    "import math\n",
    "result = math.e == math.exp(1)\n",
    "```\n",
    "\n",
    "<details>\n",
    "  <summary>Check</summary>\n",
    "  \n",
    "\tTrue\n",
    "\n",
    "</details>"
   ]
  },
  {
   "cell_type": "code",
   "execution_count": 2,
   "metadata": {},
   "outputs": [],
   "source": [
    "import math\n",
    "result = math.e == math.exp(1)"
   ]
  },
  {
   "cell_type": "code",
   "execution_count": 32,
   "metadata": {},
   "outputs": [],
   "source": [
    "# print(result)\n",
    "# print(math.e)\n",
    "# print(math.exp(1))"
   ]
  },
  {
   "cell_type": "markdown",
   "metadata": {},
   "source": [
    "#### Exercise 2\n",
    "\n",
    "(Complete the sentence) Setting the generator's seed with the same value each time your program is run guarantees that..."
   ]
  },
  {
   "cell_type": "markdown",
   "metadata": {},
   "source": [
    "<details>\n",
    "  <summary>check</summary>\n",
    "\n",
    "  the pseudo-random values emitted from the random module will be exactly the same.\n",
    "\n",
    "</details>"
   ]
  },
  {
   "cell_type": "markdown",
   "metadata": {},
   "source": [
    "#### Exercise 3\n",
    "\n",
    "Which of the platform module's functions will you use to determine the name of the CPU running inside your computer?\n",
    "\n",
    "<details>\n",
    "  <summary>Check</summary>\n",
    "  \n",
    "\tThe `processor()` function\n",
    "\n",
    "</details>"
   ]
  },
  {
   "cell_type": "markdown",
   "metadata": {},
   "source": [
    "#### Exercise 4\n",
    "\n",
    "What is the expected output of the following snippet?\n",
    "```python\n",
    "import platform\n",
    "\n",
    "print(len(platform.python_version_tuple()))\n",
    "```\n",
    "\n",
    "<details>\n",
    "  <summary>Check</summary>\n",
    "  \n",
    "\t3\n",
    "\n",
    "</details>"
   ]
  },
  {
   "cell_type": "code",
   "execution_count": 5,
   "metadata": {},
   "outputs": [],
   "source": [
    "# import platform\n",
    "\n",
    "# print(len(platform.python_version_tuple()))"
   ]
  },
  {
   "cell_type": "markdown",
   "metadata": {},
   "source": [
    "## What is a package?"
   ]
  },
  {
   "cell_type": "markdown",
   "metadata": {},
   "source": [
    "Writing your own modules doesn't differ much from writing ordinary scripts.\n",
    "\n",
    "There are some specific aspects you must be aware of, but it definitely isn't rocket science. You'll see this soon enough.\n",
    "\n",
    "![package](../img/module_1/package.png)\n",
    "\n",
    "The Package-Module-Function concept\n",
    "\n",
    "Let's summarize some important issues:\n",
    "\n",
    "- a module is a kind of container filled with functions - you can pack as many functions as you want into one module and distribute it across the world;\n",
    "- of course, it's generally a good idea not to mix functions with different application areas within one module (just like in a library - nobody expects scientific works to be put among comic books), so group your functions carefully and name the module containing them in a clear and intuitive way (e.g., don't give the name arcade_games to a module containing functions intended to partition and format hard disks)\n",
    "- making many modules may cause a little mess - sooner or later you'll want to group your modules exactly in the same way as you've previously grouped functions - is there a more general container than a module?\n",
    "- yes, there is - it's a package; in the world of modules, a package plays a similar role to a folder/directory in the world of files."
   ]
  },
  {
   "cell_type": "markdown",
   "metadata": {},
   "source": [
    "### Your first module:\n",
    "#### step 1\n",
    "In this section you're going to be working locally on your machine. Let's start from scratch. Create an empty file, just like this:\n",
    "\n",
    "![module](../img/module_1/module_1.png)\n",
    "\n",
    "You will need two files to repeat these experiments. The first of them will be the module itself. It's empty now. Don't worry, you're going to fill it with actual code soon.\n",
    "\n",
    "We've named the file module.py. Not very creative, but simple and clear."
   ]
  },
  {
   "cell_type": "markdown",
   "metadata": {},
   "source": [
    "#### step 2\n",
    "\n",
    "The second file contains the code using the new module. Its name is main.py. Its content is very brief so far:\n",
    "\n",
    "Creating a main.py file containing the import module instruction\n",
    "\n",
    "![module_2](../img/module_1/module_2.png)\n",
    "\n",
    "Note: both files have to be located in the same folder. We strongly encourage you to create an empty, new folder for both files. Some things will be easier then.\n",
    "\n",
    "Launch IDLE (or any other IDE you prefer) and run the main.py file. What do you see?\n",
    "\n",
    "You should see nothing. This means that Python has successfully imported the contents of the module.py file.\n",
    "\n",
    "It doesn't matter that the module is empty for now. The very first step has been done, but before you take the next step, we want you to take a look into the folder in which both files exist.\n",
    "\n",
    "Do you notice something interesting?\n",
    "\n",
    "A new subfolder has appeared - can you see it? Its name is __pycache__. Take a look inside. What do you see?\n",
    "\n",
    "There is a file named (more or less) module.cpython-xy.pyc where x and y are digits derived from your version of Python (e.g., they will be 3 and 8 if you use Python 3.8).\n",
    "\n",
    "The name of the file is the same as your module's name (module here). The part after the first dot says which Python implementation has created the file (CPython here) and its version number. The last part (pyc) comes from the words Python and compiled.\n",
    "\n",
    "You can look inside the file - the content is completely unreadable to humans. It has to be like that, as the file is intended for Python's use only.\n",
    "\n",
    "When Python imports a module for the first time, it translates its contents into a somewhat compiled shape.\n",
    "\n",
    "The file doesn't contain machine code - it's internal Python semi-compiled code, ready to be executed by Python's interpreter. As such a file doesn't require lots of the checks needed for a pure source file, the execution starts faster, and runs faster, too.\n",
    "\n",
    "Thanks to that, every subsequent import will go quicker than interpreting the source text from scratch.\n",
    "\n",
    "Python is able to check if the module's source file has been modified (in this case, the pyc file will be rebuilt) or not (when the pyc file may be run at once). As this process is fully automatic and transparent, you don't have to keep it in mind.\n",
    "\n"
   ]
  },
  {
   "cell_type": "markdown",
   "metadata": {},
   "source": [
    "#### step 3\n",
    "\n",
    "Now we've put a little something into the module file:\n",
    "\n",
    "Updating the module.py file\n",
    "\n",
    "```python\n",
    "print(\"I like to be a module.\")\n",
    "```\n",
    "\n",
    "Can you notice any differences between a module and an ordinary script? There are none so far.\n",
    "\n",
    "It's possible to run this file like any other script. Try it for yourself.\n",
    "\n",
    "What happens? You should see the following line inside your console:\n",
    "\n",
    "```\n",
    "I like to be a module.\n",
    "```\n"
   ]
  },
  {
   "cell_type": "code",
   "execution_count": 34,
   "metadata": {},
   "outputs": [
    {
     "name": "stdout",
     "output_type": "stream",
     "text": [
      "I prefer to be a module, but I can do some tests for you.\n",
      "True\n",
      "True\n"
     ]
    }
   ],
   "source": [
    "%run module.py"
   ]
  },
  {
   "cell_type": "markdown",
   "metadata": {},
   "source": [
    "#### step 4\n",
    "\n",
    "Let's go back to the main.py file:\n",
    "\n",
    "The main.py file containing the import module instruction\n",
    "\n",
    "```\n",
    "import module\n",
    "\n",
    "```\n",
    "\n",
    "\n",
    "Run it. What do you see? Hopefully, you see something like this:\n",
    "\n",
    "```\n",
    "I like to be a module..\n",
    "```\n",
    "\n",
    "What does it actually mean?\n",
    "\n",
    "When a module is imported, its content is implicitly executed by Python. It gives the module the chance to initialize some of its internal aspects (e.g., it may assign some variables with useful values).\n",
    "\n",
    "Note: the initialization takes place only once, when the first import occurs, so the assignments done by the module aren't repeated unnecessarily.\n",
    "\n",
    "Imagine the following context:\n",
    "\n",
    "- there is a module named mod1;\n",
    "- there is a module named mod2 which contains the `import mod1` instruction;\n",
    "- there is a main file containing the `import mod1` and `import mod2` instructions.\n",
    "\n",
    "At first glance, you may think that mod1 will be imported twice - fortunately, only the first import occurs. Python remembers the imported modules and silently omits all subsequent imports."
   ]
  },
  {
   "cell_type": "code",
   "execution_count": 35,
   "metadata": {},
   "outputs": [
    {
     "name": "stdout",
     "output_type": "stream",
     "text": [
      "zeros: [0, 0, 0, 0, 0]\n",
      "ones: [1, 1, 1, 1, 1]\n",
      "0\n",
      "1\n"
     ]
    }
   ],
   "source": [
    "!python main.py"
   ]
  },
  {
   "cell_type": "markdown",
   "metadata": {},
   "source": [
    "#### step 5\n",
    "\n",
    "Python can do much more. It also creates a variable called `__name__`.\n",
    "\n",
    "Moreover, each source file uses its own, separate version of the variable - it isn't shared between modules.\n",
    "\n",
    "We'll show you how to use it. Modify the module a bit:\n",
    "\n",
    "```python\n",
    "print(\"I like to be a module.\")\n",
    "print(__name__)\n",
    "\n",
    "```\n",
    "\n",
    "Now run the module.py file. You should see the following lines:\n",
    "\n",
    "```\n",
    "I like to be a module\n",
    "__main__\n",
    "```\n",
    "\n",
    "Now run the main.py file. And? Do you see the same as us?\n",
    "\n",
    "```\n",
    "I like to be a module\n",
    "module\n",
    "```\n",
    "\n",
    "We can say that:\n",
    "- when you run a file directly, its __name__ variable is set to __main__;\n",
    "- when a file is imported as a module, its __name__ variable is set to the file's name (excluding .py)"
   ]
  },
  {
   "cell_type": "code",
   "execution_count": 36,
   "metadata": {},
   "outputs": [
    {
     "name": "stdout",
     "output_type": "stream",
     "text": [
      "I prefer to be a module, but I can do some tests for you.\n",
      "True\n",
      "True\n"
     ]
    }
   ],
   "source": [
    "%run module.py"
   ]
  },
  {
   "cell_type": "code",
   "execution_count": 37,
   "metadata": {},
   "outputs": [
    {
     "name": "stdout",
     "output_type": "stream",
     "text": [
      "zeros: [0, 0, 0, 0, 0]\n",
      "ones: [1, 1, 1, 1, 1]\n",
      "0\n",
      "1\n"
     ]
    }
   ],
   "source": [
    "!python main.py"
   ]
  },
  {
   "cell_type": "markdown",
   "metadata": {},
   "source": [
    "#### step 6\n",
    "\n",
    "This is how you can make use of the __main__ variable in order to detect the context in which your code has been activated:\n",
    "\n",
    "```python\n",
    "if __name__ == \"__main__\":\n",
    "    print(\"I prefer to be a module.\")\n",
    "else:\n",
    "    print(\"I like to be a module.\")\n",
    "\n",
    "```\n",
    "\n",
    "There's a cleverer way to utilize the variable, however. If you write a module filled with a number of complex functions, you can use it to place a series of tests to check if the functions work properly.\n",
    "\n",
    "Each time you modify any of these functions, you can simply run the module to make sure that your amendments didn't spoil the code. These tests will be omitted when the code is imported as a module."
   ]
  },
  {
   "cell_type": "code",
   "execution_count": 38,
   "metadata": {},
   "outputs": [
    {
     "name": "stdout",
     "output_type": "stream",
     "text": [
      "I prefer to be a module, but I can do some tests for you.\n",
      "True\n",
      "True\n"
     ]
    }
   ],
   "source": [
    "%run module.py"
   ]
  },
  {
   "cell_type": "code",
   "execution_count": 39,
   "metadata": {},
   "outputs": [
    {
     "name": "stdout",
     "output_type": "stream",
     "text": [
      "zeros: [0, 0, 0, 0, 0]\n",
      "ones: [1, 1, 1, 1, 1]\n",
      "0\n",
      "1\n"
     ]
    }
   ],
   "source": [
    "!python main.py"
   ]
  },
  {
   "cell_type": "markdown",
   "metadata": {},
   "source": [
    "#### step 7\n",
    "\n",
    "This module will contain two simple functions, and if you want to know how many times the functions have been invoked, you need a counter initialized to zero when the module is being imported.\n",
    "\n",
    "You can do it this way:\n",
    "\n",
    "```python\n",
    "counter = 0\n",
    "\n",
    "if __name__ == \"__main__\":\n",
    "    print(\"I prefer to be a module.\")\n",
    "else:\n",
    "    print(\"I like to be a module.\")\n",
    "\n",
    "```"
   ]
  },
  {
   "cell_type": "markdown",
   "metadata": {},
   "source": [
    "#### step 8\n",
    "\n",
    "Your first module: step 8\n",
    "Introducing such a variable is absolutely correct, but may cause important side effects that you must be aware of.\n",
    "\n",
    "Take a look at the modified main.py file:\n",
    "\n",
    "```python\n",
    "import module\n",
    "print(module.counter)\n",
    "\n",
    "```"
   ]
  },
  {
   "cell_type": "code",
   "execution_count": 40,
   "metadata": {},
   "outputs": [
    {
     "name": "stdout",
     "output_type": "stream",
     "text": [
      "zeros: [0, 0, 0, 0, 0]\n",
      "ones: [1, 1, 1, 1, 1]\n",
      "0\n",
      "1\n"
     ]
    }
   ],
   "source": [
    "!python main.py"
   ]
  },
  {
   "cell_type": "markdown",
   "metadata": {},
   "source": [
    "As you can see, the main file tries to access the module's counter variable. Is this legal? Yes, it is. Is it usable? It may be very usable. Is it safe?\n",
    "\n",
    "That depends - if you trust your module's users, there's no problem; however, you may not want the rest of the world to see your personal/private variable.\n",
    "\n",
    "Unlike many other programming languages, Python has no means of allowing you to hide such variables from the eyes of the module's users.\n",
    "\n",
    "You can only inform your users that this is your variable, that they may read it, but that they should not modify it under any circumstances.\n",
    "\n",
    "This is done by preceding the variable's name with _ (one underscore) or __ (two underscores), but remember, it's only a convention. Your module's users may obey it or they may not.\n",
    "\n",
    "Of course, we'll follow the convention. Now let's put two functions into the module - they'll evaluate the sum and product of the numbers collected in a list.\n",
    "\n",
    "In addition, let's add some ornaments there and remove any superfluous remnants."
   ]
  },
  {
   "cell_type": "markdown",
   "metadata": {},
   "source": [
    "#### step 9\n",
    "\n",
    "Okay. Let's write some brand new code in our module.py file. The updated module is ready here:\n",
    "```python\n",
    "#!/usr/bin/env python3\n",
    "\n",
    "\"\"\" module.py - an example of a Python module \"\"\"\n",
    "\n",
    "__counter = 0\n",
    "\n",
    "\n",
    "def suml(the_list):\n",
    "    global __counter\n",
    "    __counter += 1\n",
    "    the_sum = 0\n",
    "    for element in the_list:\n",
    "        the_sum += element\n",
    "    return the_sum\n",
    "\n",
    "\n",
    "def prodl(the_list):\n",
    "    global __counter\n",
    "    __counter += 1\n",
    "    prod = 1\n",
    "    for element in the_list:\n",
    "        prod *= element\n",
    "    return prod\n",
    "\n",
    "\n",
    "if __name__ == \"__main__\":\n",
    "    print(\"I prefer to be a module, but I can do some tests for you.\")\n",
    "    my_list = [i+1 for i in range(5)]\n",
    "    print(suml(my_list) == 15)\n",
    "    print(prodl(my_list) == 120)\n",
    "\n",
    "```"
   ]
  },
  {
   "cell_type": "code",
   "execution_count": 41,
   "metadata": {},
   "outputs": [
    {
     "name": "stdout",
     "output_type": "stream",
     "text": [
      "I prefer to be a module, but I can do some tests for you.\n",
      "True\n",
      "True\n"
     ]
    }
   ],
   "source": [
    "!python module.py"
   ]
  },
  {
   "cell_type": "markdown",
   "metadata": {},
   "source": [
    "A few elements need some explanation, we think:\n",
    "- the line starting with `#!` has many names - it may be called shabang, shebang, hashbang, poundbang or even hashpling (don't ask us why). The name itself means nothing here - its role is more important. From Python's point of view, it's just a comment as it starts with `#`. For Unix and Unix-like OSs (including MacOS) such a line instructs the OS how to execute the contents of the file (in other words, what program needs to be launched to interpret the text). In some environments (especially those connected with web servers) the absence of that line will cause trouble;\n",
    "- a string (maybe a multiline) placed before any module instructions (including imports) is called the doc-string, and should briefly explain the purpose and contents of the module;\n",
    "- the functions defined inside the module (`suml()` and `prodl()) are available for import;\n",
    "- we've used the `__name__` variable to detect when the file is run stand-alone, and seized this opportunity to perform some simple tests."
   ]
  },
  {
   "cell_type": "markdown",
   "metadata": {},
   "source": [
    "#### step 10\n",
    "\n",
    "Now it's possible to use the updated module - this is one way:\n",
    "```python\n",
    "from module import suml, prodl\n",
    "\n",
    "zeroes = [0 for i in range(5)]\n",
    "ones = [1 for i in range(5)]\n",
    "print(suml(zeroes))\n",
    "print(prodl(ones))\n",
    "\n",
    "```\n"
   ]
  },
  {
   "cell_type": "code",
   "execution_count": 42,
   "metadata": {},
   "outputs": [
    {
     "name": "stdout",
     "output_type": "stream",
     "text": [
      "zeros: [0, 0, 0, 0, 0]\n",
      "ones: [1, 1, 1, 1, 1]\n",
      "0\n",
      "1\n"
     ]
    }
   ],
   "source": [
    "!python main.py"
   ]
  },
  {
   "cell_type": "markdown",
   "metadata": {},
   "source": [
    "#### step 11\n",
    "\n",
    "It's time to make our example more complicated - so far we've assumed that the main Python file is located in the same folder/directory as the module to be imported.\n",
    "\n",
    "Let's give up this assumption and conduct the following thought experiment:\n",
    "- we are using Windows ® OS (this assumption is important, as the file name's shape depends on it)\n",
    "- the main Python script lies in C:\\Users\\user\\py\\progs and is named main.py\n",
    "- the module to import is located in C:\\Users\\user\\py\\modules\n",
    "\n",
    "![directory](../img/module_1/directory.png)\n",
    "\n",
    "How to deal with it?\n",
    "\n",
    "To answer this question, we have to talk about how Python searches for modules. There's a special variable (actually a list) storing all locations (folders/directories) that are searched in order to find a module which has been requested by the import instruction.\n",
    "\n",
    "Python browses these folders in the order in which they are listed in the list - if the module cannot be found in any of these directories, the import fails.\n",
    "\n",
    "Otherwise, the first folder containing a module with the desired name will be taken into consideration (if any of the remaining folders contains a module of that name, it will be ignored).\n",
    "\n",
    "The variable is named path, and it's accessible through the module named sys. This is how you can check its regular value:\n",
    "\n",
    "```python\n",
    "import sys\n",
    "\n",
    "for p in sys.path:\n",
    "    print(p)\n",
    "\n",
    "```\n",
    "\n",
    "We've launched the code inside the C:\\User\\user folder, and this is what we've got:\n",
    "\n",
    "```\n",
    "C:\\Users\\user\n",
    "C:\\Users\\user\\AppData\\Local\\Programs\\Python\\Python36-32\\python36.zip\n",
    "C:\\Users\\user\\AppData\\Local\\Programs\\Python\\Python36-32\\DLLs\n",
    "C:\\Users\\user\\AppData\\Local\\Programs\\Python\\Python36-32\\lib\n",
    "C:\\Users\\user\\AppData\\Local\\Programs\\Python\\Python36-32\n",
    "C:\\Users\\user\\AppData\\Local\\Programs\\Python\\Python36-32\\lib\\site-packages\n",
    "```\n",
    "\n",
    "Note: the folder in which the execution starts is listed in the first path's element.\n",
    "\n",
    "Note once again: there is a zip file listed as one of the path's elements - it's not an error. Python is able to treat zip files as ordinary folders - this can save lots of storage.\n",
    "\n",
    "\n",
    "Can you figure out how we can solve our problem now? We can add a folder containing the module to the path variable (it's fully modifiable).\n"
   ]
  },
  {
   "cell_type": "code",
   "execution_count": 43,
   "metadata": {},
   "outputs": [
    {
     "name": "stdout",
     "output_type": "stream",
     "text": [
      "/home/win/src/PCAP-31/chapter_1\n",
      "/home/win/src/PCAP-31\n",
      "/home/win/anaconda3/envs/pcap-31/lib/python310.zip\n",
      "/home/win/anaconda3/envs/pcap-31/lib/python3.10\n",
      "/home/win/anaconda3/envs/pcap-31/lib/python3.10/lib-dynload\n",
      "\n",
      "/home/win/anaconda3/envs/pcap-31/lib/python3.10/site-packages\n",
      "/home/win/anaconda3/envs/pcap-31/lib/python3.10/site-packages/PyQt5_sip-12.11.0-py3.10-linux-x86_64.egg\n"
     ]
    }
   ],
   "source": [
    "import sys\n",
    "\n",
    "for p in sys.path:\n",
    "    print(p)"
   ]
  },
  {
   "cell_type": "markdown",
   "metadata": {},
   "source": [
    "#### step 12\n",
    "\n",
    "One of several possible solutions looks like this:\n",
    "```python\n",
    "from sys import path\n",
    "\n",
    "path.append('..\\\\modules')\n",
    "\n",
    "import module\n",
    "\n",
    "zeroes = [0 for i in range(5)]\n",
    "ones = [1 for i in range(5)]\n",
    "print(module.suml(zeroes))\n",
    "print(module.prodl(ones))\n",
    "\n",
    "```\n",
    "\n",
    "Note:\n",
    "\n",
    "we've doubled the \\ inside folder name - do you know why?\n",
    "\n",
    "<details>\n",
    "  <summary>Check</summary>\n",
    "  <p>\n",
    "    Because a backslash is used to escape other characters - if you want to get just a backslash, you have to escape it.\n",
    "  </p>\n",
    "</details>\n",
    "\n",
    "we've used the relative name of the folder - this will work if you start the main.py file directly from its home folder, and won't work if the current directory doesn't fit the relative path; you can always use an absolute path, like this:\n",
    "\n",
    "```\n",
    "path.append('C:\\\\Users\\\\user\\\\py\\\\modules')\n",
    "```\n",
    "\n",
    "we've used the `append()` method - in effect, the new path will occupy the last element in the path list; if you don't like the idea, you can use `insert()` instead."
   ]
  },
  {
   "cell_type": "code",
   "execution_count": 44,
   "metadata": {},
   "outputs": [
    {
     "name": "stdout",
     "output_type": "stream",
     "text": [
      "Traceback (most recent call last):\n",
      "  File \"/home/win/src/PCAP-31/chapter_1/./programs/main.py\", line 5, in <module>\n",
      "    import module\n",
      "ModuleNotFoundError: No module named 'module'\n"
     ]
    }
   ],
   "source": [
    "!python ./programs/main.py"
   ]
  },
  {
   "cell_type": "markdown",
   "metadata": {},
   "source": [
    "### Your first package"
   ]
  },
  {
   "cell_type": "markdown",
   "metadata": {},
   "source": [
    "#### step 1\n",
    "\n",
    "Imagine that in the not-so-distant future you and your associates write a large number of Python functions.\n",
    "\n",
    "Your team decides to group the functions in separate modules, and this is the final result of the ordering:\n",
    "![new package](../img/module_1/package_1.png)\n",
    "\n",
    "```python\n",
    "#! /usr/bin/env python3\n",
    "\n",
    "\"\"\" module: alpha \"\"\"\n",
    "\n",
    "def funA():\n",
    "    return \"Alpha\"\n",
    "\n",
    "if __name__ == \"__main__\":\n",
    "    print(\"I prefer to be a module.\")\n",
    "\n",
    "```\n",
    "\n",
    "Note: we've presented the whole content for the alpha.py module only - assume that all the modules look similar (they contain one function named `funX`, where X is the first letter of the module's name)."
   ]
  },
  {
   "cell_type": "markdown",
   "metadata": {},
   "source": [
    "#### step 2\n",
    "\n",
    "Suddenly, somebody notices that these modules form their own hierarchy, so putting them all in a flat structure won't be a good idea.\n",
    "\n",
    "After some discussion, the team comes to the conclusion that the modules have to be grouped. All participants agree that the following tree structure perfectly reflects the mutual relationships between the modules:\n",
    "\n",
    "![package_2](../img/module_1/package_2.png)\n",
    "\n",
    "Let's review this from the bottom up:\n",
    "- the ugly group contains two modules: psi and omega;\n",
    "- the best group contains two modules: sigma and tau;\n",
    "- the good group contains two modules (alpha and beta) and one subgroup (best)\n",
    "- the extra group contains two subgroups (good and bad) and one module (iota)\n",
    "\n",
    "Does it look bad? Not at all - analyze the structure carefully. It resembles something, doesn't it?\n",
    "\n",
    "It looks like a directory structure.\n",
    "\n",
    "Let's build a tree reflecting projected dependencies between the modules.\n",
    "\n"
   ]
  },
  {
   "cell_type": "markdown",
   "metadata": {},
   "source": [
    "#### step 3\n",
    "\n",
    "This is how the tree currently looks:\n",
    "\n",
    "![Pckage Structure](../img/module_1/package_struct.png)\n",
    "\n",
    "The relationship between modules - tree structure\n",
    "\n",
    "Such a structure is almost a package (in the Python sense). It lacks the fine detail to be both functional and operative. We'll complete it in a moment.\n",
    "\n",
    "If you assume that extra is the name of a newly created package (think of it as the package's root), it will impose a naming rule which allows you to clearly name every entity from the tree.\n",
    "\n",
    "For example:\n",
    "- the location of a function named funT() from the tau package may be described as:\n",
    "\n",
    "```\n",
    "extra.good.best.tau.funT()\n",
    "```\n",
    "- a function marked as:\n",
    "```\n",
    "extra.ugly.psi.funP()\n",
    "```\n",
    "- comes from the psi module being stored in the ugly subpackage of the extra package."
   ]
  },
  {
   "cell_type": "markdown",
   "metadata": {},
   "source": [
    "#### step 4\n",
    "\n",
    "There are two questions to answer:\n",
    "- how do you transform such a tree (actually, a subtree) into a real Python package (in other words, how do you convince Python that such a tree is not just a bunch of junk files, but a set of modules)?\n",
    "where do you put the subtree to make it accessible to Python?\n",
    "- The first question has a surprising answer: packages, like modules, may require initialization.\n",
    "\n",
    "The initialization of a module is done by an unbound code (not a part of any function) located inside the module's file. As a package is not a file, this technique is useless for initializing packages.\n",
    "\n",
    "You need to use a different trick instead - Python expects that there is a file with a very unique name inside the package's folder:\n",
    "`__init__.py`.\n",
    "\n",
    "The content of the file is executed when any of the package's modules is imported. If you don't want any special initializations, you can leave the file empty, but you mustn't omit it."
   ]
  },
  {
   "cell_type": "markdown",
   "metadata": {},
   "source": [
    "#### step 5\n",
    "\n",
    "Remember: the presence of the __init.py__ file finally makes up the package.\n",
    "\n",
    "![package_5](../img/module_1/package_5.png)\n",
    "\n",
    "The relationship between modules and the presence of the `__init__.py` file - tree structure\n",
    "\n",
    "Note: it's not only the root folder that can contain `__init.py__` file - you can put it inside any of its subfolders (subpackages) too. It may be useful if some of the subpackages require individual treatment and special kinds of initialization.\n",
    "\n",
    "Now it's time to answer the second question - the answer is simple: anywhere. You only have to ensure that Python is aware of the package's location. You already know how to do that.\n",
    "\n",
    "You're ready to make use of your first package."
   ]
  },
  {
   "cell_type": "markdown",
   "metadata": {},
   "source": [
    "#### step 6\n",
    "\n",
    "Let's assume that the working environment looks as follows:\n",
    "\n",
    "![package_6](../img/module_1/package_6.png)\n",
    "\n",
    "The relationship between modules, the presence of the `__init__.py` file, and the access path - the working environment\n",
    "\n",
    "We've prepared a zip file containing all the files from the packages branch. You can download it and use it for your own experiments, but remember to unpack it in the folder presented in the scheme, otherwise, it won't be accessible to the code from the main file.\n",
    "\n",
    "DOWNLOAD   [Modules and Packages ZIP file](https://edube.org/uploads/media/default/0001/01/39a03067f85a9b39c0c94ca50b5d445b7df18a04.zip)\n",
    "\n",
    "You'll be continuing your experiments using the main2.py file."
   ]
  },
  {
   "cell_type": "markdown",
   "metadata": {},
   "source": [
    "#### step 7\n",
    "\n",
    "We are going to access the funI() function from the iota module from the top of the extra package. It forces us to use qualified package names (associate this with naming folders and subfolders - the conventions are very similar).\n",
    "\n",
    "```python\n",
    "from sys import path\n",
    "path.append('..\\\\packages')\n",
    "\n",
    "import extra.iota\n",
    "print(extra.iota.funI())\n",
    "\n",
    "```\n",
    "\n",
    "Note:\n",
    "- we've modified the `path` variable to make it accessible to Python;\n",
    "- the `import doesn't point directly to the module, but specifies the fully qualified path from the top of the package;\n",
    "\n",
    "replacing import `extra.iota` with `import iota will cause an error.\n",
    "\n",
    "The following variant is valid too:\n",
    "\n",
    "```python\n",
    "from sys import path\n",
    "path.append('..\\\\packages')\n",
    "\n",
    "from extra.iota import funI\n",
    "print(funI())\n",
    "\n",
    "```\n",
    "\n",
    "Note the qualified name of the iota module."
   ]
  },
  {
   "cell_type": "code",
   "execution_count": 45,
   "metadata": {},
   "outputs": [
    {
     "name": "stdout",
     "output_type": "stream",
     "text": [
      "Sigma\n",
      "Sigma\n",
      "Alpha\n",
      "Iota\n",
      "Beta\n"
     ]
    }
   ],
   "source": [
    "!python ./programs/main2.py"
   ]
  },
  {
   "cell_type": "markdown",
   "metadata": {},
   "source": [
    "#### step 8\n",
    "\n",
    "Now let's reach all the way to the bottom of the tree - this is how to get access to the sigma and tau modules:\n",
    "\n",
    "```python\n",
    "from sys import path\n",
    "\n",
    "path.append('..\\\\packages')\n",
    "\n",
    "import extra.good.best.sigma\n",
    "from extra.good.best.tau import funT\n",
    "\n",
    "print(extra.good.best.sigma.funS())\n",
    "print(funT())\n",
    "\n",
    "\n",
    "```\n",
    "\n",
    "You can make your life easier by using aliasing:\n",
    "```python\n",
    "from sys import path\n",
    "\n",
    "path.append('..\\\\packages')\n",
    "\n",
    "import extra.good.best.sigma as sig\n",
    "import extra.good.alpha as alp\n",
    "\n",
    "print(sig.funS())\n",
    "print(alp.funA())\n",
    "\n",
    "\n",
    "```\n"
   ]
  },
  {
   "cell_type": "code",
   "execution_count": 46,
   "metadata": {},
   "outputs": [
    {
     "name": "stdout",
     "output_type": "stream",
     "text": [
      "Sigma\n",
      "Sigma\n",
      "Alpha\n",
      "Iota\n",
      "Beta\n"
     ]
    }
   ],
   "source": [
    "!python ./programs/main2.py"
   ]
  },
  {
   "cell_type": "markdown",
   "metadata": {},
   "source": [
    "#### step 9\n",
    "\n",
    "Let's assume that we've zipped the whole subdirectory, starting from the extra folder (including it), and let's get a file named extrapack.zip. Next, we put the file inside the packages folder.\n",
    "\n",
    "Now we are able to use the zip file in a role of packages:\n",
    "\n",
    "```python\n",
    "from sys import path\n",
    "\n",
    "path.append('..\\\\packages\\\\extrapack.zip')\n",
    "\n",
    "import extra.good.best.sigma as sig\n",
    "import extra.good.alpha as alp\n",
    "from extra.iota import funI\n",
    "from extra.good.beta import funB\n",
    "\n",
    "print(sig.funS())\n",
    "print(alp.funA())\n",
    "print(funI())\n",
    "print(funB())\n",
    "\n",
    "```\n",
    "If you want to conduct your own experiments with the package we've created, you can download it below. We encourage you to do so.\n",
    "\n",
    "DOWNLOAD   [Extrapack ZIP file](https://edube.org/uploads/media/default/0001/01/d9df38daa0410952c4cbf85b47892954c45b9215.zip)\n",
    "\n",
    "Now you can create modules and combine them into packages. It's time to start a completely different discussion - about errors, failures and crashes.\n"
   ]
  },
  {
   "cell_type": "code",
   "execution_count": 47,
   "metadata": {},
   "outputs": [
    {
     "name": "stdout",
     "output_type": "stream",
     "text": [
      "Sigma\n",
      "Sigma\n",
      "Alpha\n",
      "Iota\n",
      "Beta\n"
     ]
    }
   ],
   "source": [
    "!python ./programs/main2.py"
   ]
  },
  {
   "cell_type": "markdown",
   "metadata": {},
   "source": [
    "### Key takeaways"
   ]
  },
  {
   "cell_type": "markdown",
   "metadata": {},
   "source": [
    "1. While a module is designed to couple together some related entities (functions, variables, constants, etc.), a package is a container which enables the coupling of several related modules under one common name. Such a container can be distributed as-is (as a batch of files deployed in a directory sub-tree) or it can be packed inside a zip file.\n",
    "\n",
    "\n",
    "2. During the very first import of the actual module, Python translates its source code into the semi-compiled format stored inside the pyc files, and deploys these files into the `__pycache__` directory located in the module's home directory.\n",
    "\n",
    "\n",
    "3. If you want to instruct your module's user that a particular entity should be treated as private (i.e. not to be explicitly used outside the module) you can mark its name with either the `_` or `__` prefix. Don't forget that this is only a recommendation, not an order.\n",
    "\n",
    "\n",
    "4. The names shabang, shebang, hasbang, poundbang, and hashpling describe the digraph written as `#!`, used to instruct Unix-like OSs how the Python source file should be launched. This convention has no effect under MS Windows.\n",
    "\n",
    "\n",
    "5. If you want convince Python that it should take into account a non-standard package's directory, its name needs to be inserted/appended into/to the import directory list stored in the `path` variable contained in the `sys` module.\n",
    "\n",
    "\n",
    "6. A Python file named `__init__.py` is implicitly run when a package containing it is subject to import, and is used to initialize a package and/or its sub-packages (if any). The file may be empty, but must not be absent.\n"
   ]
  },
  {
   "cell_type": "markdown",
   "metadata": {},
   "source": [
    "#### Exercise 1\n",
    "\n",
    "You want to prevent your module's user from running your code as an ordinary script. How will you achieve such an effect?\n",
    "\n",
    "<details>\n",
    "  <summary>show</summary>\n",
    "  \n",
    "    import sys\n",
    "\n",
    "    if __name__ == \"__main__\":\n",
    "        print(\"Don't do that!\")\n",
    "        sys.exit()\n",
    "\n",
    "</details>"
   ]
  },
  {
   "cell_type": "markdown",
   "metadata": {},
   "source": [
    "#### Exercise 2\n",
    "\n",
    "Some additional and necessary packages are stored inside the `/home/win/src/PCAP-31/chapter_1/modules` directory. Write a code ensuring that the directory is traversed by Python in order to find all requested modules.\n",
    "\n",
    "<details>\n",
    "  <summary>show</summary>\n",
    "  \n",
    "    import sys\n",
    "    sys.path.append('/home/win/src/PCAP-31/chapter_1/modules')\n",
    "\n",
    "    list = [1,1,1]\n",
    "    suml(list)\n",
    "\n",
    "</details>"
   ]
  },
  {
   "cell_type": "markdown",
   "metadata": {},
   "source": [
    "#### Exercise 3\n",
    "\n",
    "The directory mentioned in the previous exercise contains a sub-tree of the following structure:\n",
    "\n",
    "```\n",
    "abc\n",
    "|__ def\n",
    "    |__ mymodule.py\n",
    "```\n",
    "\n",
    "Assuming that `D:\\Python\\Project\\Modules` has been successfully appended to the `sys.path` list, write an import directive letting you use all the `mymodule` entities.\n",
    "\n",
    "<details>\n",
    "  <summary>show</summary>\n",
    "  \n",
    "\timport abc.def.mymodule\n",
    "\n",
    "</details>"
   ]
  },
  {
   "cell_type": "markdown",
   "metadata": {},
   "source": [
    "## Python packaging ecosystem and how to use it"
   ]
  },
  {
   "cell_type": "markdown",
   "metadata": {},
   "source": [
    "Python is a very powerful instrument – we hope you've experienced this yourself already. Many people from around the world feel this way, and they use Python on a regular basis to develop what they can do in many completely different fields of activity. This means that Python has become an interdisciplinary tool employed in countless applications. We can’t go through all the spheres in which Python brilliantly shows off its abilities, so let us just tell you about the most impressive ones.\n",
    "\n",
    "First of all, Python has turned into a leader of research on artificial intelligence. Data mining, one of the most promising modern scientific disciplines, utilizes Python as well. Mathematicians, psychologists, geneticists, meteorologists, linguists – all these people already use Python, or if they don’t already, we’re sure that they will very soon. There is no escaping this trend.\n",
    "\n",
    "Of course, it doesn’t make any sense to get all Python users to write their code from scratch, keeping them perfectly isolated from the outside world and from other programmers' achievements. This would be both unnatural and counterproductive.\n",
    "\n",
    "The most preferable and efficient thing is to enable all Python community members to freely exchange their codes and experiences. In this model, nobody is forced to start work from scratch, as there’s a high probability that someone else has been working on the same (or a very similar) problem.\n",
    "\n",
    "As you know, Python was created as open-source software, and this also works as an invitation for all coders to maintain the whole Python ecosystem as an open, friendly, and free environment. To make the model work and evolve, some additional tools should be provided, tools that help the creators to publish, maintain, and take care of their code.\n",
    "\n",
    "These same tools should help users to make use of the code, both the already existing code, and also the new code appearing every day. Thanks to that, writing new code for new challenges is not like building a new house, starting at the foundations.\n",
    "\n",
    "Moreover, the programmer is free to modify someone else's code in order to adapt it to their own needs, and in effect build a completely new product that can be used by another developer. The process seems to have no end. Fortunately.\n",
    "\n",
    "To make this world go round, two basic entities have to be established and kept in motion: a centralized repository of all available software packages; and a tool allowing users to access the repository. Both these entities already exist and can be used at any time."
   ]
  },
  {
   "cell_type": "markdown",
   "metadata": {},
   "source": [
    "The repository (or repo for short) we mentioned before is named PyPI (it's short for Python Package Index) and it's maintained by a workgroup named the Packaging Working Group, a part of the Python Software Foundation, whose main task is to support Python developers in efficient code dissemination.\n",
    "\n",
    "You can find their website here:\n",
    "https://wiki.python.org/psf/PackagingWG.\n",
    "\n",
    "\n",
    "The PyPI website (administered by PWG) is located at the address:\n",
    "https://pypi.org/.\n",
    "\n",
    "\n",
    "When we popped in there for a while at the beginning of June 2020, we found that PyPI was home to 237,515 projects, consisting of 2,877,545 files managed by 427,487 users.\n",
    "\n",
    "These three numbers alone clearly show the potency of the Python community and the importance of developer cooperation.\n",
    "\n",
    "\n",
    "\n",
    "\n",
    "PyPI, archive, repository\n",
    "\n",
    "\n",
    "We must point out that PyPI is not the only existing Python repository. On the contrary, there are lots of them, created for projects and led by many larger and smaller Python communities. It's likely that someday you and your colleagues may want to create your own repos.\n",
    "\n",
    "Anyway, PyPI is the most important Python repo in the world. If we modify the classic saying a little, we can state that “all Python roads lead to PyPl”, and that’s no exaggeration at all."
   ]
  },
  {
   "cell_type": "markdown",
   "metadata": {},
   "source": [
    "The PyPI repo is sometimes referred to as the Cheese Shop. Really.\n",
    "\n",
    "Does that sound a little strange to you? Don't worry, it’s all perfectly innocent.\n",
    "\n",
    "We refer to the repo as a shop, because you go there for the same reasons you go to other shops: to fulfill your needs. If you want some cheese, you go to the cheese shop. If you want a piece of software, you go to the software shop. Fortunately, the analogy ends here – you don't need any money to take some software out of the repo shop.\n",
    "\n",
    "PyPI is completely free, and you can just pick a code and use it – you’ll encounter neither cashier nor security guard. Of course, it doesn't absolve you from being polite and honest. You have to obey all the licensing terms, so don't forget to read them.\n",
    "\n",
    "“OK”, you say, “the shop is clear now, but what does cheese have to do with Python?”\n",
    "\n",
    "The Cheese Shop is one of the most famous Monty Python sketches. It depicts the surrealist adventure of an Englishman trying to buy some cheese. Unfortunately, the shop he visits (immodestly named Ye National Cheese Emporium) has no cheese in stock at all.\n",
    "\n",
    "Of course, it's meant to be ironic. As you already know, PyPI has lots of software in stock and it's available 24/7. It's fully entitled to identify itself as Ye International Python Software Emporium.\n"
   ]
  },
  {
   "cell_type": "markdown",
   "metadata": {},
   "source": [
    "PyPI is a very specific shop, not just because it offers all its products for free. It also requires a special tool to make use of it.\n",
    "\n",
    "Fortunately, this tool is also free, so if you want to make your own digital cheeseburger by using the goods offered by the PyPI Shop, you’ll need a free tool named pip.\n",
    "\n",
    "No, you haven't misheard. Just pip. It's another acronym, of course, but its nature is more complex than the previously mentioned PyPI, as it's an example of a recursive acronym, which means that the acronym refers to itself, which means that explaining it is an infinite process.\n",
    "\n",
    "Why? Because pip means “pip installs packages”, and the pip inside “pip installs packages” means “pip installs packages” and ...\n",
    "\n",
    "Let’s stop there. Thank you for your cooperation.\n",
    "\n",
    "By the way, there are a few other very famous recursive acronyms. One of them is Linux, which can be interpreted as “Linux is Not Unix”.\n"
   ]
  },
  {
   "cell_type": "markdown",
   "metadata": {},
   "source": [
    "### How to install pip"
   ]
  },
  {
   "cell_type": "markdown",
   "metadata": {},
   "source": [
    "The question that should be put now is: how to get a proper cheese knife? In other words, how to ensure that pip is installed and ready to work?\n",
    "\n",
    "The most precise answer is “it depends”. Really.\n",
    "\n",
    "Some Python installations come with pip, some don't. What’s more, it doesn’t only depend on the OS you use, although this is a very important factor.\n",
    "\n",
    "Let's start with MS Windows.\n"
   ]
  },
  {
   "cell_type": "markdown",
   "metadata": {},
   "source": [
    "#### pip on MS Windows"
   ]
  },
  {
   "cell_type": "markdown",
   "metadata": {},
   "source": [
    "The MS Windows Python installer already contains pip, and so no other steps need to be taken in order to install it. Unfortunately, if the PATH variable is misconfigured, pip may unavailable.\n",
    "\n",
    "To verify that we haven’t misled you, try to do this:\n",
    "\n",
    "- open the Windows console (CMD or PowerShell, whatever you prefer)\n",
    "execute the following command:\n",
    "\n",
    " ```shell\n",
    "pip --version\n",
    "```\n",
    "\n",
    "- in the most optimistic scenario (and we really want that to happen) you’ll see something like this:\n",
    "\n",
    "![COMMAND_PROMPT](../img/module_1/comman_prompt.png)\n",
    "\n",
    "- the absence of this message may mean that the PATH variable either incorrectly points to the location of the Python binaries, or doesn't point to it at all; for example, our PATH variable contains the following substring:\n",
    "\n",
    " ```shell\n",
    "C:\\Program Files\\Python3\\Scripts\\;C:\\Program Files\\Python3\\;\n",
    "```\n",
    "\n",
    "- the easiest way to reconfigure the PATH variable is to reinstall Python, instructing the installer to set it for you."
   ]
  },
  {
   "cell_type": "markdown",
   "metadata": {},
   "source": [
    "#### pip on Linux"
   ]
  },
  {
   "cell_type": "markdown",
   "metadata": {},
   "source": [
    "Different Linux distributions may behave differently when it comes to using pip. Some of them (like Gentoo), which are closely bound to Python and which use it internally, may have pip preinstalled and are instantly ready to work.\n",
    "\n",
    "Don't forget that some Linuces may utilize more than one Python version concurrently, e.g., one Python 2 and one Python 3 coexisting side by side. Such systems may launch Python 2 as the default version, and it may be necessary to explicitly specify the program name as python3. In this case there may be two different pips identified as pip (or pip2) and pip3. Check it carefully.\n",
    "\n",
    "Open the terminal window and issue the following command:"
   ]
  },
  {
   "cell_type": "code",
   "execution_count": 1,
   "metadata": {},
   "outputs": [
    {
     "name": "stdout",
     "output_type": "stream",
     "text": [
      "pip 22.3.1 from /home/win/anaconda3/envs/pcap-31/lib/python3.10/site-packages/pip (python 3.10)\n"
     ]
    }
   ],
   "source": [
    "!pip --version"
   ]
  },
  {
   "cell_type": "markdown",
   "metadata": {},
   "source": [
    "An answer similar to the one shown in the previous picture determines that you've launched pip from Python 2, so the next try should look as follows:"
   ]
  },
  {
   "cell_type": "code",
   "execution_count": 2,
   "metadata": {},
   "outputs": [
    {
     "name": "stdout",
     "output_type": "stream",
     "text": [
      "pip 22.3.1 from /home/win/anaconda3/envs/pcap-31/lib/python3.10/site-packages/pip (python 3.10)\n"
     ]
    }
   ],
   "source": [
    "!pip3 --version"
   ]
  },
  {
   "cell_type": "markdown",
   "metadata": {},
   "source": [
    "Unfortunately, some Linux distributions don't have pip preinstalled, even if Python itself is installed by default (some versions of Ubuntu may behave this way). In this case, you have two possibilities:\n",
    "- install pip as a system package using a dedicated package manager (e.g., apt in Debian-like systems)\n",
    "- install pip using internal Python mechanisms.\n",
    "The former is definitely better. Although there are some smart scripts that are able to download and install pip by ignoring the OS, we discourage you from using them. This method can get you into trouble.\n",
    "\n",
    "Look – we've tried to launch pip3 and we’ve failed. Our OS (we used Ubuntu Budgie this time) suggested using apt in order to install the package named python3-pip:\n",
    "\n",
    "![pip](../img/module_1/pip_1.png)\n",
    "\n",
    "That's good advice, and we're going to follow it, but it has to be stated that we’ll need administrative rights to do it. Don't forget that different Linuces may use different package managers (e.g., it could be pacman if you use Arch Linux, or yum used by distributions derived from Red Hat).\n",
    "\n",
    "Anyway, all these methods should get pip (or pip3) installed and working.\n",
    "\n",
    "Look what happened when we followed the OS suggestion:\n",
    "\n",
    "![pip](../img/module_1/pip_2.png)\n",
    "\n",
    "As you can see, the OS decided to install not only pip itself, but also a couple of additional components needed by pip. This is normal – don't be alarmed.\n",
    "\n",
    "When apt finishes its job, we are finally able to utilize pip3.\n",
    "If you're a Mac user and you've installed Python 3 using the brew installer, pip is already present in your system and ready to work. Check it by issuing the previously mentioned command:"
   ]
  },
  {
   "cell_type": "code",
   "execution_count": 4,
   "metadata": {},
   "outputs": [
    {
     "name": "stdout",
     "output_type": "stream",
     "text": [
      "pip 22.3.1 from /home/win/anaconda3/envs/pcap-31/lib/python3.10/site-packages/pip (python 3.10)\n"
     ]
    }
   ],
   "source": [
    "!pip3 --version"
   ]
  },
  {
   "cell_type": "markdown",
   "metadata": {},
   "source": [
    "#### Dependencies"
   ]
  },
  {
   "cell_type": "markdown",
   "metadata": {},
   "source": [
    "Now that we’re sure that pip is ready at our command, we’re going to limit our focus to MS Windows only, as its behavior is (should be) the same in all OSes, but before we start, we need to explain an important issue and tell you about dependencies.\n",
    "\n",
    "Imagine that you've created a brilliant Python application named redsuspenders, able to predict stock exchange rates with 99% accuracy (by the way, if you actually do that, please contact us immediately).\n",
    "\n",
    "Of course, you've used some existing code to achieve this goal – e.g., your app imports a package named nyse containing some crucial functions and classes. Moreover, the nyse package imports another package named wallstreet, while the wallstreet package imports other two essential packages named bull and bear.\n",
    "\n",
    "As you’ve probably already guessed, the connections between these packages are crucial, and if somebody decides to use your code (but remember, we've already called dibs on it) they will also have to ensure that all required packages are in place.\n",
    "\n",
    "To make a long story short, we can say that dependency is a phenomenon that appears every time you're going to use a piece of software that relies on other software. Note that dependency may include (and generally does include) more than one level of software development.\n",
    "\n",
    "Does this mean that a potential nyse package user is obliged to trace all dependencies and manually install all the needed packages? That would be horrible, wouldn't it?\n",
    "\n",
    "Yes, it's definitely horrible, so you shouldn't be surprised that the process of arduously fulfilling all the subsequent requirements has its own name, and it's called dependency hell.\n",
    "\n",
    "How do we deal with that? Is every user doomed to visit hell in order to run the code for the first time?\n",
    "\n",
    "Fortunately not - pip can do all of this for you. Really. It can discover, identify, and resolve all dependencies. Moreover, it can do it in the cleverest way, avoiding any unnecessary downloads and reinstalls.\n",
    "\n"
   ]
  },
  {
   "cell_type": "markdown",
   "metadata": {},
   "source": [
    "### How to use pip"
   ]
  },
  {
   "cell_type": "markdown",
   "metadata": {},
   "source": [
    "Now we’re ready to ask pip what it can do for us. Let's do it – issue the following command:"
   ]
  },
  {
   "cell_type": "code",
   "execution_count": 19,
   "metadata": {},
   "outputs": [
    {
     "name": "stdout",
     "output_type": "stream",
     "text": [
      "Usage:   \n",
      "  pip <command> [options]\n",
      "\n",
      "Commands:\n",
      "  install                     Install packages.\n",
      "  download                    Download packages.\n"
     ]
    }
   ],
   "source": [
    "!pip help  | grep -A 5 Usage"
   ]
  },
  {
   "cell_type": "markdown",
   "metadata": {},
   "source": [
    "Don't forget that you may be obliged to replace pip with pip3 if your environment requires this.\n",
    "\n",
    "The list produced by pip summarizes all the available operations, and the last of them is help, which we've just used already.\n",
    "\n",
    "If you want to know more about any of the listed operations, you can use the following form of pip invocation:"
   ]
  },
  {
   "cell_type": "code",
   "execution_count": 20,
   "metadata": {},
   "outputs": [
    {
     "name": "stdout",
     "output_type": "stream",
     "text": [
      "Usage:   \n",
      "  pip install [options] <requirement specifier> [package-index-options] ...\n",
      "  pip install [options] -r <requirements file> [package-index-options] ...\n",
      "  pip install [options] [-e] <vcs project url> ...\n",
      "  pip install [options] [-e] <local project path> ...\n",
      "  pip install [options] <archive url/path> ...\n"
     ]
    }
   ],
   "source": [
    "!pip help install | grep -A 5 Usage"
   ]
  },
  {
   "cell_type": "markdown",
   "metadata": {},
   "source": [
    "will show you detailed information about using and parameterizing the install command.\n",
    "\n",
    "If you want to know what Python packages have been installed so far, you can use the list operation – just like this.\n",
    "\n",
    "The output you’ll see is rather unpredictable. Don't be surprised if your screen ends up being filled with completely different content. Ours look as follows:"
   ]
  },
  {
   "cell_type": "code",
   "execution_count": 22,
   "metadata": {},
   "outputs": [
    {
     "name": "stdout",
     "output_type": "stream",
     "text": [
      "Package                Version\n",
      "---------------------- -----------\n",
      "anyio                  3.5.0\n",
      "argon2-cffi            21.3.0\n",
      "argon2-cffi-bindings   21.2.0\n",
      "asttokens              2.0.5\n"
     ]
    }
   ],
   "source": [
    "!pip list | grep -A 5 Package"
   ]
  },
  {
   "cell_type": "markdown",
   "metadata": {},
   "source": [
    "As you can see, there are two columns in the list, one showing the name of the installed package, and the other showing the version of the package. We can’t predict the state of your Python installation.\n",
    "\n",
    "The only thing we know for sure is that your list contains the two lines we see on our list: pip and setuptools. This happens because the OS is convinced that a user wanting pip will very likely need the setuptools soon. It’s not wrong."
   ]
  },
  {
   "cell_type": "markdown",
   "metadata": {},
   "source": [
    "The pip list isn't very informative, and it may happen that it won't satisfy your curiosity. Fortunately, there’s a command that can tell you more about any of the installed packages (note the word installed). The syntax of the command looks as follows:"
   ]
  },
  {
   "cell_type": "code",
   "execution_count": 23,
   "metadata": {},
   "outputs": [
    {
     "name": "stdout",
     "output_type": "stream",
     "text": [
      "Name: anyio\n",
      "Version: 3.5.0\n",
      "Summary: High level compatibility layer for multiple asynchronous event loop implementations\n",
      "Home-page: UNKNOWN\n",
      "Author: Alex Grönholm\n",
      "Author-email: alex.gronholm@nextday.fi\n",
      "License: MIT\n",
      "Location: /home/win/anaconda3/envs/pcap-31/lib/python3.10/site-packages\n",
      "Requires: idna, sniffio\n",
      "Required-by: jupyter-server\n"
     ]
    }
   ],
   "source": [
    "!pip show anyio"
   ]
  },
  {
   "cell_type": "markdown",
   "metadata": {},
   "source": [
    "We’re going to use it in a slightly deceptive way – we want to convince pip to confess something about itself. This is how we do it:"
   ]
  },
  {
   "cell_type": "code",
   "execution_count": 24,
   "metadata": {},
   "outputs": [
    {
     "name": "stdout",
     "output_type": "stream",
     "text": [
      "Name: pip\n",
      "Version: 22.3.1\n",
      "Summary: The PyPA recommended tool for installing Python packages.\n",
      "Home-page: https://pip.pypa.io/\n",
      "Author: The pip developers\n",
      "Author-email: distutils-sig@python.org\n",
      "License: MIT\n",
      "Location: /home/win/anaconda3/envs/pcap-31/lib/python3.10/site-packages\n",
      "Requires: \n",
      "Required-by: \n"
     ]
    }
   ],
   "source": [
    "!pip show pip"
   ]
  },
  {
   "cell_type": "markdown",
   "metadata": {},
   "source": [
    "It looks a bit odd, doesn't it? Despite this, it works fine, and pip's self-presentation looks consistent and current.\n",
    "\n",
    "You may ask where this data comes from? Is pip really so perceptive? Not at all – the information appearing on the screen is taken from inside the package being shown. In other words, the package's creator is obliged to equip it with all the needed data (or to express it more precisely – metadata).\n",
    "\n",
    "Look at the two lines at the bottom of the output. They show:\n",
    "- which packages are needed to successfully utilize the package (Requires:)\n",
    "- which packages need the package to be successfully utilized (Required-by:)\n",
    "\n",
    "As you can see, both properties are empty. Feel free to try to use the show command in relation to any other installed package."
   ]
  },
  {
   "cell_type": "code",
   "execution_count": 28,
   "metadata": {},
   "outputs": [
    {
     "name": "stdout",
     "output_type": "stream",
     "text": [
      "Name: jedi\n",
      "Version: 0.18.1\n",
      "Summary: An autocompletion tool for Python that can be used for text editors.\n",
      "Home-page: https://github.com/davidhalter/jedi\n",
      "Author: David Halter\n",
      "Author-email: davidhalter88@gmail.com\n",
      "License: MIT\n",
      "Location: /home/win/anaconda3/envs/pcap-31/lib/python3.10/site-packages\n",
      "Requires: parso\n",
      "Required-by: ipython\n"
     ]
    }
   ],
   "source": [
    "!pip show jedi"
   ]
  },
  {
   "cell_type": "markdown",
   "metadata": {},
   "source": [
    "The power of pip comes from the fact that it’s actually a gateway to the Python software universe. Thanks to that, you can browse and install any of the hundreds of ready-to-use packages gathered in the PyPI repositories. Don't forget that pip is not able to store all PyPI content locally (it’s unnecessary and it would be uneconomical).\n",
    "\n",
    "In effect, pip uses the Internet to query PyPI and to download the required data. This means that you have to have a network connection working whenever you’re going to ask pip for anything that may involve direct interactions with the PyPI infrastructure.\n",
    "\n",
    "One of these cases occurs when you want to search through PyPI in order to find a desired package. This kind of search is initiated by the following command:"
   ]
  },
  {
   "cell_type": "code",
   "execution_count": 31,
   "metadata": {},
   "outputs": [
    {
     "name": "stdout",
     "output_type": "stream",
     "text": [
      "\u001b[31mERROR: XMLRPC request failed [code: -32500]\n",
      "RuntimeError: PyPI no longer supports 'pip search' (or XML-RPC search). Please use https://pypi.org/search (via a browser) instead. See https://warehouse.pypa.io/api-reference/xml-rpc.html#deprecated-methods for more information.\u001b[0m\u001b[31m\n",
      "\u001b[0mNote: you may need to restart the kernel to use updated packages.\n"
     ]
    }
   ],
   "source": [
    "pip search pip"
   ]
  },
  {
   "cell_type": "markdown",
   "metadata": {},
   "source": [
    "The anystring provided by you will be searched in:\n",
    "\n",
    "the names of all the packages;\n",
    "the summary strings of all the packages.\n",
    "Be aware of the fact that some searches may generate a real avalanche of data, so try to be as specific as possible. For example, an innocent-looking query like this one:\n",
    "\n",
    "```bash\n",
    "pip search pip\n",
    "```\n",
    "\n",
    "produces more than 100 lines of results (try it yourself – don't take our word for it). By the way – the search is case insensitive.\n",
    "\n",
    "If you’re not a fan of console reading, you can use the alternative way of browsing PyPI content offered by a search engine, available at https://pypi.org/search."
   ]
  },
  {
   "cell_type": "markdown",
   "metadata": {},
   "source": [
    "Assuming that your search is successful (or you’re determined to install a specific package of an already known name) you can use pip to install the package onto your computer.\n",
    "\n",
    "Two possible scenarios may be put into action now:\n",
    "\n",
    "- you want to install a new package for you only – it won't be available for any other user (account) existing on your computer; this procedure is the only one available if you can’t elevate your permissions and act as a system administrator;\n",
    "- you’ve decided to install a new package system-wide – you have administrative rights and you're not afraid to use them.\n",
    "To distinguish between these two actions, pip uses a dedicated option named --user (note the double dash). The presence of this option instructs pip to act locally on behalf of your (non-administrative) user.\n",
    "\n",
    "If you don’t add this, pip assumes that you’re as a system administrator and it’ll do nothing to correct you if you’re not.\n",
    "\n",
    "In our case, we’re going to install a package named pygame – it's an extended and complex library allowing programmers to develop computer games using Python.\n",
    "\n",
    "The project has been in development since the year 2000, so it's a mature and reliable piece of code. If you want to know more about the project and about the community which leads it, visit https://www.pygame.org.\n",
    "\n",
    "If you’re a system administrator, you can install pygame using the following command:"
   ]
  },
  {
   "cell_type": "code",
   "execution_count": 32,
   "metadata": {},
   "outputs": [
    {
     "name": "stdout",
     "output_type": "stream",
     "text": [
      "Collecting pygame\n",
      "  Downloading pygame-2.3.0-cp310-cp310-manylinux_2_17_x86_64.manylinux2014_x86_64.whl (13.8 MB)\n",
      "\u001b[2K     \u001b[90m━━━━━━━━━━━━━━━━━━━━━━━━━━━━━━━━━━━━━━━━\u001b[0m \u001b[32m13.8/13.8 MB\u001b[0m \u001b[31m36.3 MB/s\u001b[0m eta \u001b[36m0:00:00\u001b[0m00:01\u001b[0m00:01\u001b[0m\n",
      "\u001b[?25hInstalling collected packages: pygame\n",
      "Successfully installed pygame-2.3.0\n"
     ]
    }
   ],
   "source": [
    "!pip install pygame"
   ]
  },
  {
   "cell_type": "markdown",
   "metadata": {},
   "source": [
    "If you're not an admin, or you don't want to fatten up your OS by installing pygame system-wide, you can install it for you only:\n",
    "\n",
    "```bash\n",
    "pip install --user pygame\n",
    "```\n",
    "\n",
    "It's up to you which of the above procedures you want to take place.\n",
    "\n",
    "Pip has a habit of displaying fancy textual animation indicating the installation progress, so watch the screen carefully – don't miss the show! If the process is successful, you’ll see something like this:\n",
    "\n",
    "We encourage you to use (to get more information about what actually happened.):"
   ]
  },
  {
   "cell_type": "code",
   "execution_count": 33,
   "metadata": {},
   "outputs": [
    {
     "name": "stdout",
     "output_type": "stream",
     "text": [
      "Name: pygame\n",
      "Version: 2.3.0\n",
      "Summary: Python Game Development\n",
      "Home-page: https://www.pygame.org\n",
      "Author: A community project.\n",
      "Author-email: pygame@pygame.org\n",
      "License: LGPL\n",
      "Location: /home/win/anaconda3/envs/pcap-31/lib/python3.10/site-packages\n",
      "Requires: \n",
      "Required-by: \n"
     ]
    }
   ],
   "source": [
    "!pip show pygame"
   ]
  },
  {
   "cell_type": "code",
   "execution_count": 35,
   "metadata": {},
   "outputs": [
    {
     "name": "stdout",
     "output_type": "stream",
     "text": [
      "pygame                 2.3.0\n",
      "Note: you may need to restart the kernel to use updated packages.\n"
     ]
    }
   ],
   "source": [
    "pip list | grep pygame"
   ]
  },
  {
   "cell_type": "markdown",
   "metadata": {},
   "source": [
    "#### How to use pip: a simple test program"
   ]
  },
  {
   "cell_type": "markdown",
   "metadata": {},
   "source": [
    "Now that pygame is finally accessible, we can try to use it in a very simple test program. Let’s comment on it briefly.\n",
    "\n",
    "- line 1: import pygame and let it serve us;\n",
    "- line 3: the program will run as long as the run variable is True;\n",
    "- lines 4 and 5: determine the window's size;\n",
    "- line 6: initialize the pygame environment;\n",
    "- line 7: prepare the application window and set its size;\n",
    "- line 8: make an object representing the default font of size 48 points;\n",
    "- line 9: make an object representing a given text – the text will be anti-aliased (True) and white (255,255,255)\n",
    "- line 10: insert the text into the (currently invisible) screen buffer;\n",
    "- line 11: flip the screen buffers to make the text visible;\n",
    "- line 12: the pygame main loop starts here;\n",
    "- line 13: get a list of all pending pygame events;\n",
    "- lines 14 through 16: check whether the user has closed the window or clicked somewhere inside it or pressed any key;\n",
    "- line 15: if yes, stop executing the code."
   ]
  },
  {
   "cell_type": "markdown",
   "metadata": {},
   "source": [
    "Check the Python File pygame_example.py\n",
    "\n",
    "On Ubuntu I got the  folowing Error: \n",
    "\n",
    "```bash\n",
    "failed to load driver: radeonsi\n",
    "```\n",
    "\n",
    "[Solution](https://stackoverflow.com/questions/71010343/cannot-load-swrast-and-iris-drivers-in-fedora-35/72200748#72200748):\n",
    "```bash\n",
    "conda install -c conda-forge libstdcxx-ng\n",
    "```"
   ]
  },
  {
   "cell_type": "code",
   "execution_count": 1,
   "metadata": {},
   "outputs": [
    {
     "name": "stdout",
     "output_type": "stream",
     "text": [
      "pygame 2.3.0 (SDL 2.24.2, Python 3.10.9)\n",
      "Hello from the pygame community. https://www.pygame.org/contribute.html\n"
     ]
    }
   ],
   "source": [
    "import pygame_example"
   ]
  },
  {
   "cell_type": "markdown",
   "metadata": {},
   "source": [
    "The pip install has two important additional abilities:\n",
    "\n",
    "-it is able to update a locally installed package – e.g., if you want to make sure that you’re using the latest version of a particular package, you can run the following command:\n",
    "\n",
    "```python\n",
    "pip install -U package_name\n",
    "```\n",
    "\n",
    "\n",
    "where -U means update. Note: this form of the command makes use of the --user option for the same purpose as presented previously;\n",
    "\n",
    "-it is able to install a user-selected version of a package (pip installs the newest available version by default); to achieve this goal you should use the following syntax:\n",
    "\n",
    "```python\n",
    "pip install package_name==package_version\n",
    "```\n",
    "\n",
    "(note the double equals sign) e.g.,\n",
    "\n",
    "```python\n",
    "pip install pygame==1.9.2\n",
    "```"
   ]
  },
  {
   "cell_type": "markdown",
   "metadata": {},
   "source": [
    "If any of the currently installed packages are no longer needed and you want to get rid of them, pip will be useful, too. Its uninstall command will execute all the needed steps.\n",
    "\n",
    "The required syntax is clear and simple:"
   ]
  },
  {
   "cell_type": "code",
   "execution_count": null,
   "metadata": {},
   "outputs": [],
   "source": [
    "# !pip uninstall pygame"
   ]
  },
  {
   "cell_type": "markdown",
   "metadata": {},
   "source": [
    "Pip will want to know if you’re sure about the choice you're making – be prepared to give the right answer."
   ]
  },
  {
   "cell_type": "markdown",
   "metadata": {},
   "source": [
    "#### Use pip!"
   ]
  },
  {
   "cell_type": "markdown",
   "metadata": {},
   "source": [
    "Pip's capabilities don't end here, but the command set we've presented to you is enough to start successfully managing packages that aren't a part of the regular Python installation.\n",
    "\n",
    "We hope we’ve encouraged you to carry out your own experiments with pip and the Python package universe. PyPI invites you to dive into its extensive resources.\n",
    "\n",
    "Some say that one of the most important programming virtues is laziness. Don't get us wrong – we don't want you to spend all day napping on the couch and dreaming of Python code.\n",
    "\n",
    "A lazy programmer is a programmer who looks for existing solutions and analyzes the available code before they start to develop their own software from scratch.\n",
    "\n",
    "This is why PyPI and pip exist – use them!"
   ]
  },
  {
   "cell_type": "markdown",
   "metadata": {},
   "source": [
    "### Key takeaways"
   ]
  },
  {
   "cell_type": "markdown",
   "metadata": {},
   "source": [
    "1. A repository (or repo for short) designed to collect and share free Python code exists and works under the name Python Package Index (PyPI) although it's also likely that you come across a very niche name The Cheese Shop. The Shop's website is available at https://pypi.org/.\n",
    "\n",
    "\n",
    "2. To make use of The Cheese Shop the specialized tool has been created and its name is pip (pip installs packages while pip stands for... ok, don't mind). As pip may not be deployed as a part of standard Python installation, it is possible that you will need to install it manually. Pip is a console tool.\n",
    "\n",
    "\n",
    "3. To check pip's version one the following commands should be issued:\n",
    "                                                                                            \n",
    "```python\n",
    "pip --version\n",
    "```\n",
    "or\n",
    "```python\n",
    "pip3 --version                                                                                         \n",
    "```\n",
    "\n",
    "Check yourself which of these works for you in your OS' environment.\n",
    "\n",
    "\n",
    "4. List of main pip activities looks as follows:\n",
    "- pip help operation - shows brief pip's description;\n",
    "- pip list - shows list of currently installed packages;\n",
    "- pip show package_name - shows package_name info including package's dependencies;\n",
    "- pip search anystring - searches through PyPI directories in order to find packages which name contains anystring;\n",
    "- pip install name - installs name system-wide (expect problems when you don't have administrative rights);\n",
    "- pip install --user name - install name for you only; no other your platform's user will be able to use it;\n",
    "- pip install -U name - updates previously installed package;\n",
    "- pip uninstall name - uninstalls previously installed package;"
   ]
  },
  {
   "cell_type": "markdown",
   "metadata": {},
   "source": [
    "### Exercise"
   ]
  },
  {
   "cell_type": "markdown",
   "metadata": {},
   "source": [
    "#### Exercise 1\n",
    "\n",
    "Where does the name \"The Cheese Shop\" come from?\n",
    "<details>\n",
    "  <summary>Check</summary>\n",
    "  \n",
    "\tIt's a reference to an old Monty Python's sketch of the same name.\n",
    "\n",
    "</details>"
   ]
  },
  {
   "cell_type": "markdown",
   "metadata": {},
   "source": [
    "#### Exercise 2\n",
    "\n",
    "Why should I ensure which one of pip and pip3 works for me?\n",
    "<details>\n",
    "  <summary>Check</summary>\n",
    "  \n",
    "\tWhen Python 2 and Python 3 coexist in your OS, it's likely that pip identifies the instance of pip working with Python 2 packages only.\n",
    "\n",
    "</details>"
   ]
  },
  {
   "cell_type": "markdown",
   "metadata": {},
   "source": [
    "#### Exercise 3\n",
    "\n",
    "How can I determine if my pip works with either Python 2 or Python 3?\n",
    "<details>\n",
    "  <summary>Check</summary>\n",
    "  \n",
    "\tpip --version will tell you that.\n",
    "\n",
    "</details>"
   ]
  },
  {
   "cell_type": "markdown",
   "metadata": {},
   "source": [
    "#### Exercise 4\n",
    "\n",
    "Unfortunately, I don't have administrative right. What should I do to install a package system-wide?\n",
    "<details>\n",
    "  <summary>Check</summary>\n",
    "  \n",
    "\tYou have to ask your sysadmin - don't try to hack your OS!\n",
    "\n",
    "</details>"
   ]
  },
  {
   "cell_type": "code",
   "execution_count": null,
   "metadata": {},
   "outputs": [],
   "source": []
  }
 ],
 "metadata": {
  "kernelspec": {
   "display_name": "Python 3 (ipykernel)",
   "language": "python",
   "name": "python3"
  },
  "language_info": {
   "codemirror_mode": {
    "name": "ipython",
    "version": 3
   },
   "file_extension": ".py",
   "mimetype": "text/x-python",
   "name": "python",
   "nbconvert_exporter": "python",
   "pygments_lexer": "ipython3",
   "version": "3.9.13"
  },
  "toc-autonumbering": true
 },
 "nbformat": 4,
 "nbformat_minor": 4
}

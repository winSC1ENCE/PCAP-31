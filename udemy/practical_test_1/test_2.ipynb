{
 "cells": [
  {
   "cell_type": "code",
   "execution_count": 3,
   "metadata": {
    "collapsed": true,
    "ExecuteTime": {
     "end_time": "2023-07-26T19:32:28.188032630Z",
     "start_time": "2023-07-26T19:32:28.126304418Z"
    }
   },
   "outputs": [
    {
     "name": "stdout",
     "output_type": "stream",
     "text": [
      "<class 'tuple'>\n",
      "()\n"
     ]
    }
   ],
   "source": [
    "try:\n",
    "    raise Exception\n",
    "except Exception as e:\n",
    "    print(type(e.args))\n",
    "    print(e.args)"
   ]
  },
  {
   "cell_type": "code",
   "execution_count": 2,
   "outputs": [
    {
     "ename": "NameError",
     "evalue": "name 'e' is not defined",
     "output_type": "error",
     "traceback": [
      "\u001B[0;31m---------------------------------------------------------------------------\u001B[0m",
      "\u001B[0;31mNameError\u001B[0m                                 Traceback (most recent call last)",
      "Cell \u001B[0;32mIn[2], line 1\u001B[0m\n\u001B[0;32m----> 1\u001B[0m \u001B[43me\u001B[49m\u001B[38;5;241m.\u001B[39margs\n",
      "\u001B[0;31mNameError\u001B[0m: name 'e' is not defined"
     ]
    }
   ],
   "source": [
    "e.args"
   ],
   "metadata": {
    "collapsed": false,
    "ExecuteTime": {
     "end_time": "2023-07-26T19:32:16.539452958Z",
     "start_time": "2023-07-26T19:32:16.261645835Z"
    }
   }
  },
  {
   "cell_type": "code",
   "execution_count": 4,
   "outputs": [
    {
     "name": "stdout",
     "output_type": "stream",
     "text": [
      "{'x': 5, '_A__y': 1, '__z': 0}\n"
     ]
    }
   ],
   "source": [
    "class A:\n",
    "    X = 2\n",
    "    def __init__(self, a, b):\n",
    "        self.x = a + b\n",
    "        self.__y = a - b\n",
    "\n",
    "a = A(3,2)\n",
    "a.__z = 0\n",
    "print(a.__dict__)"
   ],
   "metadata": {
    "collapsed": false,
    "ExecuteTime": {
     "end_time": "2023-07-26T19:34:13.446483032Z",
     "start_time": "2023-07-26T19:34:13.427389727Z"
    }
   }
  },
  {
   "cell_type": "code",
   "execution_count": 5,
   "outputs": [
    {
     "name": "stdout",
     "output_type": "stream",
     "text": [
      "['S', 'k', 'y', 'w', 'l', 'k']\n"
     ]
    }
   ],
   "source": [
    "my_list1=list('Skywalker')\n",
    "my_list2=list('Vader')\n",
    "my_list3=list(filter(lambda x: x not in my_list2, my_list1))\n",
    "print(my_list3)"
   ],
   "metadata": {
    "collapsed": false,
    "ExecuteTime": {
     "end_time": "2023-07-26T19:36:08.806457823Z",
     "start_time": "2023-07-26T19:36:08.765663774Z"
    }
   }
  },
  {
   "cell_type": "code",
   "execution_count": 7,
   "outputs": [
    {
     "name": "stdout",
     "output_type": "stream",
     "text": [
      "koala\n",
      "['koala', 'apple', 'Polo', '1234Bz']\n"
     ]
    }
   ],
   "source": [
    "my_list = ['apple', 'koala', '1234Bz', 'Polo']\n",
    "my_list.sort(key = lambda x: x[::-1])\n",
    "print(my_list[0])\n",
    "print(my_list)"
   ],
   "metadata": {
    "collapsed": false,
    "ExecuteTime": {
     "end_time": "2023-07-26T19:38:10.854018955Z",
     "start_time": "2023-07-26T19:38:10.843740588Z"
    }
   }
  },
  {
   "cell_type": "code",
   "execution_count": 13,
   "outputs": [
    {
     "name": "stdout",
     "output_type": "stream",
     "text": [
      "Leo\n",
      "['Chloe', 'Leo', 'and', 'apple', 'love', 'pie']\n",
      "['Leo', 'and', 'Chloe', 'love', 'apple', 'pie']\n"
     ]
    }
   ],
   "source": [
    "x = \"Leo and Chloe love apple pie\"\n",
    "#x = \"leo and chloe love apple pie\"\n",
    "y = x.split()\n",
    "z = sorted(y) #sorted by ascii code\n",
    "print(z[1])\n",
    "print(z)\n",
    "print(y)"
   ],
   "metadata": {
    "collapsed": false,
    "ExecuteTime": {
     "end_time": "2023-07-26T19:59:08.982172244Z",
     "start_time": "2023-07-26T19:59:08.932012301Z"
    }
   }
  },
  {
   "cell_type": "code",
   "execution_count": 15,
   "outputs": [
    {
     "name": "stdout",
     "output_type": "stream",
     "text": [
      "Leia Han Darth "
     ]
    }
   ],
   "source": [
    "\n",
    "my_tuple = ('Luke', 'Leia', 'Han', 'Darth')\n",
    "# Insert line of code here. Leia Han Darth\n",
    "my_v = [my_tuple[i] for i in range(1,4)]\n",
    "for x in my_v:\n",
    "    print(x, end=' ')"
   ],
   "metadata": {
    "collapsed": false,
    "ExecuteTime": {
     "end_time": "2023-07-26T20:01:57.967517466Z",
     "start_time": "2023-07-26T20:01:57.950874402Z"
    }
   }
  },
  {
   "cell_type": "code",
   "execution_count": 24,
   "outputs": [
    {
     "name": "stdout",
     "output_type": "stream",
     "text": [
      "7\n"
     ]
    }
   ],
   "source": [
    "\n",
    "class A:\n",
    "    def __init__(self, x=5):\n",
    "        self.x = x\n",
    "\n",
    "class B(A):\n",
    "    def __init__(self, y=2):\n",
    "        super().__init__(y)\n",
    "    def set(self, y):\n",
    "        #print(y)\n",
    "        self.x = y + 3\n",
    "        return self.x\n",
    "\n",
    "b = B()\n",
    "print(b.set(b.x + 2))"
   ],
   "metadata": {
    "collapsed": false,
    "ExecuteTime": {
     "end_time": "2023-07-26T20:06:35.788461533Z",
     "start_time": "2023-07-26T20:06:35.779226728Z"
    }
   }
  },
  {
   "cell_type": "code",
   "execution_count": 28,
   "outputs": [
    {
     "name": "stdout",
     "output_type": "stream",
     "text": [
      "[0, 1, 2, 4, 8]\n"
     ]
    }
   ],
   "source": [
    "list_1 = [2**x for x in range(5)]\n",
    "# insert code here   [0, 1, 2, 4, 8]\n",
    "list_2 = list(map(lambda x: x // 2, list_1))\n",
    "print(list_2)"
   ],
   "metadata": {
    "collapsed": false,
    "ExecuteTime": {
     "end_time": "2023-07-26T20:09:50.335534044Z",
     "start_time": "2023-07-26T20:09:50.326163457Z"
    }
   }
  },
  {
   "cell_type": "code",
   "execution_count": 29,
   "outputs": [
    {
     "name": "stdout",
     "output_type": "stream",
     "text": [
      "Yoda\n"
     ]
    }
   ],
   "source": [
    "my_list = list('yoDA')\n",
    "print(''.join(my_list).capitalize())"
   ],
   "metadata": {
    "collapsed": false,
    "ExecuteTime": {
     "end_time": "2023-07-26T20:11:55.139197682Z",
     "start_time": "2023-07-26T20:11:55.118195822Z"
    }
   }
  },
  {
   "cell_type": "code",
   "execution_count": 30,
   "outputs": [],
   "source": [
    "class Lambda():\n",
    "    L=2\n",
    "    def __init__(self, x = 0):\n",
    "        self.l = x + 1\n",
    "        self.__m = x\n",
    "    def set(self, y = 2):\n",
    "        self.k = y + 1\n",
    "\n",
    "class Omega(Lambda):\n",
    "    M=2\n",
    "    def __str__(self):\n",
    "        return str(super().L)\n",
    "\n",
    "m = Omega()\n",
    "m.__n=3"
   ],
   "metadata": {
    "collapsed": false,
    "ExecuteTime": {
     "end_time": "2023-07-26T20:15:13.287205107Z",
     "start_time": "2023-07-26T20:15:13.270644081Z"
    }
   }
  },
  {
   "cell_type": "code",
   "execution_count": 31,
   "outputs": [
    {
     "name": "stdout",
     "output_type": "stream",
     "text": [
      "2\n"
     ]
    }
   ],
   "source": [
    "print(m)"
   ],
   "metadata": {
    "collapsed": false,
    "ExecuteTime": {
     "end_time": "2023-07-26T20:15:22.517140696Z",
     "start_time": "2023-07-26T20:15:22.499094618Z"
    }
   }
  },
  {
   "cell_type": "code",
   "execution_count": 32,
   "outputs": [
    {
     "data": {
      "text/plain": "False"
     },
     "execution_count": 32,
     "metadata": {},
     "output_type": "execute_result"
    }
   ],
   "source": [
    "hasattr(m, 'k')"
   ],
   "metadata": {
    "collapsed": false,
    "ExecuteTime": {
     "end_time": "2023-07-26T20:16:05.996488163Z",
     "start_time": "2023-07-26T20:16:05.968500161Z"
    }
   }
  },
  {
   "cell_type": "code",
   "execution_count": 33,
   "outputs": [
    {
     "data": {
      "text/plain": "True"
     },
     "execution_count": 33,
     "metadata": {},
     "output_type": "execute_result"
    }
   ],
   "source": [
    "isinstance(m, Lambda)"
   ],
   "metadata": {
    "collapsed": false,
    "ExecuteTime": {
     "end_time": "2023-07-26T20:16:19.465450914Z",
     "start_time": "2023-07-26T20:16:19.448544014Z"
    }
   }
  },
  {
   "cell_type": "code",
   "execution_count": 34,
   "outputs": [
    {
     "data": {
      "text/plain": "{'l': 1, '_Lambda__m': 0, '__n': 3}"
     },
     "execution_count": 34,
     "metadata": {},
     "output_type": "execute_result"
    }
   ],
   "source": [
    "m.__dict__"
   ],
   "metadata": {
    "collapsed": false,
    "ExecuteTime": {
     "end_time": "2023-07-26T20:16:31.872481322Z",
     "start_time": "2023-07-26T20:16:31.857102218Z"
    }
   }
  },
  {
   "cell_type": "code",
   "execution_count": 35,
   "outputs": [
    {
     "name": "stdout",
     "output_type": "stream",
     "text": [
      "Han\n"
     ]
    }
   ],
   "source": [
    "x='luke'\n",
    "y='Luke'\n",
    "\n",
    "if x > y:\n",
    "    print('Han')\n",
    "elif x < y:\n",
    "    print('Leia')\n",
    "elif x==y:\n",
    "    print('Ben')\n",
    "else:\n",
    "    print('Chewie')"
   ],
   "metadata": {
    "collapsed": false,
    "ExecuteTime": {
     "end_time": "2023-07-26T20:20:22.777452308Z",
     "start_time": "2023-07-26T20:20:22.735411913Z"
    }
   }
  },
  {
   "cell_type": "code",
   "execution_count": 37,
   "outputs": [
    {
     "name": "stdout",
     "output_type": "stream",
     "text": [
      "97\n",
      "98\n",
      "99\n",
      "100\n",
      "[98, 99, 100, 97]\n"
     ]
    }
   ],
   "source": [
    "my_list = {'a': ord('a'), 'b': ord('b'), 'c': ord('c'), 'd': ord('d') }\n",
    "list=[]\n",
    "for i in sorted(my_list.keys()):\n",
    "    print(my_list[i])\n",
    "    list.insert(-1,my_list[i])\n",
    "\n",
    "print(list)"
   ],
   "metadata": {
    "collapsed": false,
    "ExecuteTime": {
     "end_time": "2023-07-26T20:22:30.087935026Z",
     "start_time": "2023-07-26T20:22:30.075785639Z"
    }
   }
  },
  {
   "cell_type": "code",
   "execution_count": 38,
   "outputs": [
    {
     "ename": "AttributeError",
     "evalue": "'Game' object has no attribute '__g'",
     "output_type": "error",
     "traceback": [
      "\u001B[0;31m---------------------------------------------------------------------------\u001B[0m",
      "\u001B[0;31mAttributeError\u001B[0m                            Traceback (most recent call last)",
      "Cell \u001B[0;32mIn[38], line 8\u001B[0m\n\u001B[1;32m      5\u001B[0m         \u001B[38;5;28mself\u001B[39m\u001B[38;5;241m.\u001B[39mG \u001B[38;5;241m=\u001B[39m val \u001B[38;5;241m+\u001B[39m \u001B[38;5;241m1\u001B[39m\n\u001B[1;32m      7\u001B[0m g\u001B[38;5;241m=\u001B[39m Game(\u001B[38;5;241m4\u001B[39m)\n\u001B[0;32m----> 8\u001B[0m \u001B[38;5;28mprint\u001B[39m(\u001B[43mg\u001B[49m\u001B[38;5;241;43m.\u001B[39;49m\u001B[43m__g\u001B[49m)\n",
      "\u001B[0;31mAttributeError\u001B[0m: 'Game' object has no attribute '__g'"
     ]
    }
   ],
   "source": [
    "class Game:\n",
    "    def __init__(self, val):\n",
    "        if val %2 ==0 :\n",
    "            self.__g = val\n",
    "        self.G = val + 1\n",
    "\n",
    "g= Game(4)\n",
    "print(g.__g)"
   ],
   "metadata": {
    "collapsed": false,
    "ExecuteTime": {
     "end_time": "2023-07-26T20:30:19.234555079Z",
     "start_time": "2023-07-26T20:30:19.185545376Z"
    }
   }
  },
  {
   "cell_type": "code",
   "execution_count": 40,
   "outputs": [
    {
     "name": "stdout",
     "output_type": "stream",
     "text": [
      "6\n"
     ]
    }
   ],
   "source": [
    "\n",
    "class Omega:\n",
    "    def __init__(self):\n",
    "        self.set(3)\n",
    "    def set(self, x):\n",
    "        self.x = x//2\n",
    "\n",
    "class Lambda(Omega):\n",
    "    L = 4\n",
    "    def __init__(self):\n",
    "        super().__init__()\n",
    "    def __str__(self):\n",
    "        return str(self.x/3)[-1]\n",
    "    def set(self, x):\n",
    "        self.x = x//2 + 1\n",
    "\n",
    "L = Lambda()\n",
    "print(L)"
   ],
   "metadata": {
    "collapsed": false,
    "ExecuteTime": {
     "end_time": "2023-07-26T20:32:21.433719529Z",
     "start_time": "2023-07-26T20:32:21.419253303Z"
    }
   }
  },
  {
   "cell_type": "code",
   "execution_count": 41,
   "outputs": [],
   "source": [
    "class A:\n",
    "    a=0\n",
    "    def __init__(self, x, y):\n",
    "        self.b = x\n",
    "        self.c = y\n",
    "\n",
    "class B(A):\n",
    "    b = 0\n",
    "    def __init__(self, x, y, k):\n",
    "        super().__init__(x, y)\n",
    "        if k % 2 == 0:\n",
    "            self.e = k\n",
    "\n",
    "\n",
    "c = B(2,5,7)\n",
    "c.f = 4\n"
   ],
   "metadata": {
    "collapsed": false,
    "ExecuteTime": {
     "end_time": "2023-07-26T20:36:49.904182018Z",
     "start_time": "2023-07-26T20:36:49.853097559Z"
    }
   }
  },
  {
   "cell_type": "code",
   "execution_count": 46,
   "outputs": [
    {
     "name": "stdout",
     "output_type": "stream",
     "text": [
      "['This is my test file and this is line #1\\n', 'This is line #2\\n', 'This is line #3\\n', 'This is line #4\\n', 'This is line #5\\n']\n"
     ]
    }
   ],
   "source": [
    "f = open('myfile.txt','rt')    # Line 1\n",
    "# insert code here            # Line 2\n",
    "data = f.readlines()[:5]               # Line 3\n",
    "print(data)\n",
    "f.close()                     # Line 3"
   ],
   "metadata": {
    "collapsed": false,
    "ExecuteTime": {
     "end_time": "2023-07-26T20:39:35.429330083Z",
     "start_time": "2023-07-26T20:39:35.413214490Z"
    }
   }
  },
  {
   "cell_type": "code",
   "execution_count": 47,
   "outputs": [
    {
     "name": "stdout",
     "output_type": "stream",
     "text": [
      "a e r d "
     ]
    }
   ],
   "source": [
    "l={}\n",
    "for i in 'Skywalker':\n",
    "    if i in 'Vader':\n",
    "       l[ord(i)]=i\n",
    "else:\n",
    "    l[ord('d')]='d'\n",
    "\n",
    "for j in l.keys():\n",
    "    print(l[j], end=' ')"
   ],
   "metadata": {
    "collapsed": false,
    "ExecuteTime": {
     "end_time": "2023-07-26T20:41:28.863348856Z",
     "start_time": "2023-07-26T20:41:28.808378550Z"
    }
   }
  },
  {
   "cell_type": "code",
   "execution_count": 50,
   "outputs": [
    {
     "name": "stdout",
     "output_type": "stream",
     "text": [
      "(<class '__main__.A'>,)\n"
     ]
    }
   ],
   "source": [
    "print(B.__bases__)"
   ],
   "metadata": {
    "collapsed": false,
    "ExecuteTime": {
     "end_time": "2023-07-26T20:43:07.181579898Z",
     "start_time": "2023-07-26T20:43:07.167814819Z"
    }
   }
  },
  {
   "cell_type": "code",
   "execution_count": 51,
   "outputs": [
    {
     "name": "stdout",
     "output_type": "stream",
     "text": [
      "x86_64\n"
     ]
    }
   ],
   "source": [
    "from platform import machine\n",
    "print(machine())"
   ],
   "metadata": {
    "collapsed": false,
    "ExecuteTime": {
     "end_time": "2023-07-26T20:44:07.543897713Z",
     "start_time": "2023-07-26T20:44:07.528990351Z"
    }
   }
  },
  {
   "cell_type": "code",
   "execution_count": 52,
   "outputs": [
    {
     "name": "stdout",
     "output_type": "stream",
     "text": [
      "I am Jedi Baby Yoda\n"
     ]
    }
   ],
   "source": [
    "class Jedi:\n",
    "    def __init__(self,name):\n",
    "        self.name = name\n",
    "    def __str__(self):\n",
    "        return \"I am Jedi \" + self.name\n",
    "\n",
    "class Sith:\n",
    "    def __init__(self,name):\n",
    "        self.name = name\n",
    "    def __str__(self):\n",
    "        return \"I am Sith \" + self.name\n",
    "\n",
    "class Padawan(Jedi,Sith):\n",
    "    def __init__(self,name):\n",
    "        self.name = name\n",
    "\n",
    "Baby_Yoda = Padawan('Baby Yoda')\n",
    "print(Baby_Yoda)"
   ],
   "metadata": {
    "collapsed": false,
    "ExecuteTime": {
     "end_time": "2023-07-26T20:45:39.249831651Z",
     "start_time": "2023-07-26T20:45:39.191970686Z"
    }
   }
  },
  {
   "cell_type": "code",
   "execution_count": 54,
   "outputs": [
    {
     "name": "stdout",
     "output_type": "stream",
     "text": [
      "0\n",
      "Error 1\n",
      "Done\n"
     ]
    }
   ],
   "source": [
    "x=0\n",
    "y=3\n",
    "\n",
    "try:\n",
    "    print(x%y)\n",
    "    assert bool(y) == False\n",
    "    print(y/x)\n",
    "except ZeroDivisionError:\n",
    "    print('Error 1')\n",
    "except AssertionError:\n",
    "    print('Error 2')\n",
    "except BaseException:\n",
    "    print('Error 3')\n",
    "finally:\n",
    "    print('Done')\n"
   ],
   "metadata": {
    "collapsed": false,
    "ExecuteTime": {
     "end_time": "2023-07-26T20:48:20.278689013Z",
     "start_time": "2023-07-26T20:48:20.267792315Z"
    }
   }
  },
  {
   "cell_type": "code",
   "execution_count": 55,
   "outputs": [
    {
     "data": {
      "text/plain": "True"
     },
     "execution_count": 55,
     "metadata": {},
     "output_type": "execute_result"
    }
   ],
   "source": [
    "bool(y)"
   ],
   "metadata": {
    "collapsed": false,
    "ExecuteTime": {
     "end_time": "2023-07-26T20:48:34.392366238Z",
     "start_time": "2023-07-26T20:48:34.357443557Z"
    }
   }
  },
  {
   "cell_type": "code",
   "execution_count": 56,
   "outputs": [
    {
     "name": "stdout",
     "output_type": "stream",
     "text": [
      "I am omega from Gamma\n"
     ]
    }
   ],
   "source": [
    "class Gamma:\n",
    "    def __init__(self, val):\n",
    "        self.name = val\n",
    "    def __str__(self):\n",
    "        return \"I am \" + self.name + \" from Gamma\"\n",
    "\n",
    "class Delta:\n",
    "    def __init__(self, val):\n",
    "        self.name = val\n",
    "    def __str__(self):\n",
    "        return \"I am \" + self.name + \" from Delta\"\n",
    "\n",
    "class Beta(Gamma, Delta):\n",
    "    def __str__(self):\n",
    "        return super().__str__()\n",
    "\n",
    "class Omega(Beta):\n",
    "    omega = 3\n",
    "    pass\n",
    "\n",
    "o = Omega(\"omega\")\n",
    "print(o)"
   ],
   "metadata": {
    "collapsed": false,
    "ExecuteTime": {
     "end_time": "2023-07-26T20:50:16.460872320Z",
     "start_time": "2023-07-26T20:50:16.420438527Z"
    }
   }
  },
  {
   "cell_type": "code",
   "execution_count": 57,
   "outputs": [
    {
     "name": "stdout",
     "output_type": "stream",
     "text": [
      "5\n"
     ]
    }
   ],
   "source": [
    "class Feline:\n",
    "    def __init__(self, f=1):\n",
    "        self.f = +f\n",
    "        self.g = -f\n",
    "    def reset(self, f=2):\n",
    "        self.f += f\n",
    "        return self.f\n",
    "\n",
    "cat1 = Feline(2)\n",
    "cat2 = Feline(3)\n",
    "cat1 = cat2\n",
    "cat2.reset()\n",
    "print(cat1.f)"
   ],
   "metadata": {
    "collapsed": false,
    "ExecuteTime": {
     "end_time": "2023-07-26T20:52:21.814041688Z",
     "start_time": "2023-07-26T20:52:21.775248292Z"
    }
   }
  },
  {
   "cell_type": "code",
   "execution_count": 58,
   "outputs": [
    {
     "name": "stdout",
     "output_type": "stream",
     "text": [
      "r\n"
     ]
    }
   ],
   "source": [
    "class R:\n",
    "    def __init__(self):\n",
    "        self.T = 1\n",
    "    def r(self):\n",
    "        print('r')\n",
    "\n",
    "class S:\n",
    "    def __init__(self):\n",
    "        self.T = 2\n",
    "    def r(self):\n",
    "        print('s')\n",
    "\n",
    "class T(R, S):\n",
    "    def t(self):\n",
    "        self.r()\n",
    "\n",
    "t = T()\n",
    "t.t()\n"
   ],
   "metadata": {
    "collapsed": false,
    "ExecuteTime": {
     "end_time": "2023-07-26T20:54:19.809361661Z",
     "start_time": "2023-07-26T20:54:19.763725491Z"
    }
   }
  },
  {
   "cell_type": "code",
   "execution_count": 66,
   "outputs": [
    {
     "name": "stdout",
     "output_type": "stream",
     "text": [
      "3\n"
     ]
    }
   ],
   "source": [
    "x = 5//2\n",
    "func = lambda x:+3\n",
    "print(func(x))"
   ],
   "metadata": {
    "collapsed": false,
    "ExecuteTime": {
     "end_time": "2023-07-26T21:03:02.995869689Z",
     "start_time": "2023-07-26T21:03:02.982707496Z"
    }
   }
  },
  {
   "cell_type": "code",
   "execution_count": 61,
   "outputs": [
    {
     "name": "stdout",
     "output_type": "stream",
     "text": [
      "2\n"
     ]
    }
   ],
   "source": [
    "print(x)"
   ],
   "metadata": {
    "collapsed": false,
    "ExecuteTime": {
     "end_time": "2023-07-26T20:55:54.889334121Z",
     "start_time": "2023-07-26T20:55:54.871748458Z"
    }
   }
  },
  {
   "cell_type": "code",
   "execution_count": 62,
   "outputs": [
    {
     "data": {
      "text/plain": "3"
     },
     "execution_count": 62,
     "metadata": {},
     "output_type": "execute_result"
    }
   ],
   "source": [
    "func(x)"
   ],
   "metadata": {
    "collapsed": false,
    "ExecuteTime": {
     "end_time": "2023-07-26T21:02:15.273804235Z",
     "start_time": "2023-07-26T21:02:15.223831634Z"
    }
   }
  },
  {
   "cell_type": "code",
   "execution_count": 67,
   "outputs": [
    {
     "name": "stdout",
     "output_type": "stream",
     "text": [
      "[0, 1, 2, 3, 4, 5, 6, 7, 8, 9]\n"
     ]
    }
   ],
   "source": [
    "my_l = [[i+j for i in range(1,5,1)] for j in range(-1,6,3)]\n",
    "my_p =[]\n",
    "\n",
    "for l in my_l:\n",
    "    for k in l:\n",
    "        if k not in my_p:\n",
    "            my_p.append(k)\n",
    "\n",
    "print(my_p)"
   ],
   "metadata": {
    "collapsed": false,
    "ExecuteTime": {
     "end_time": "2023-07-26T21:07:20.832072268Z",
     "start_time": "2023-07-26T21:07:20.790966231Z"
    }
   }
  },
  {
   "cell_type": "code",
   "execution_count": 68,
   "outputs": [
    {
     "name": "stdout",
     "output_type": "stream",
     "text": [
      "[[0, 1, 2, 3], [3, 4, 5, 6], [6, 7, 8, 9]]\n"
     ]
    }
   ],
   "source": [
    "print(my_l)"
   ],
   "metadata": {
    "collapsed": false,
    "ExecuteTime": {
     "end_time": "2023-07-26T21:07:36.097388263Z",
     "start_time": "2023-07-26T21:07:36.058528937Z"
    }
   }
  },
  {
   "cell_type": "code",
   "execution_count": 69,
   "outputs": [
    {
     "name": "stdout",
     "output_type": "stream",
     "text": [
      "Feline\n",
      "1\n"
     ]
    }
   ],
   "source": [
    "\n",
    "class Mammal:\n",
    "    def __init__(self,val):\n",
    "        self.__name = val\n",
    "\n",
    "class Feline(Mammal):\n",
    "    pass\n",
    "\n",
    "class Cat(Feline):\n",
    "    __bases=[2,3]\n",
    "    def __str__(self):\n",
    "        return self.name\n",
    "\n",
    "mycat = Cat('Garfield')\n",
    "\n",
    "print(Cat.__bases__[0].__name__)\n",
    "print(len(Cat.__bases__))"
   ],
   "metadata": {
    "collapsed": false,
    "ExecuteTime": {
     "end_time": "2023-07-26T21:12:10.886567626Z",
     "start_time": "2023-07-26T21:12:10.868655924Z"
    }
   }
  },
  {
   "cell_type": "code",
   "execution_count": 70,
   "outputs": [
    {
     "name": "stdout",
     "output_type": "stream",
     "text": [
      "[1, 2, 4, 8, 16]\n"
     ]
    }
   ],
   "source": [
    "def my_func(n):\n",
    "    pwr = 1\n",
    "    for i in range(n):\n",
    "        # insert code here [1, 2, 4, 8, 16]\n",
    "        yield pwr\n",
    "        pwr *= 2\n",
    "\n",
    "t = [x for x in my_func(5)]\n",
    "print(t)"
   ],
   "metadata": {
    "collapsed": false,
    "ExecuteTime": {
     "end_time": "2023-07-26T21:13:05.859429604Z",
     "start_time": "2023-07-26T21:13:05.821482212Z"
    }
   }
  },
  {
   "cell_type": "code",
   "execution_count": 71,
   "outputs": [
    {
     "ename": "TypeError",
     "evalue": "'list' object is not callable",
     "output_type": "error",
     "traceback": [
      "\u001B[0;31m---------------------------------------------------------------------------\u001B[0m",
      "\u001B[0;31mTypeError\u001B[0m                                 Traceback (most recent call last)",
      "Cell \u001B[0;32mIn[71], line 1\u001B[0m\n\u001B[0;32m----> 1\u001B[0m list_1 \u001B[38;5;241m=\u001B[39m \u001B[38;5;28;43mlist\u001B[39;49m\u001B[43m(\u001B[49m\u001B[38;5;124;43m'\u001B[39;49m\u001B[38;5;124;43mChewie\u001B[39;49m\u001B[38;5;124;43m'\u001B[39;49m\u001B[43m)\u001B[49m\n\u001B[1;32m      2\u001B[0m list_2 \u001B[38;5;241m=\u001B[39m \u001B[38;5;28mlist\u001B[39m(\u001B[38;5;124m'\u001B[39m\u001B[38;5;124mHan\u001B[39m\u001B[38;5;124m'\u001B[39m)\n\u001B[1;32m      3\u001B[0m list_3 \u001B[38;5;241m=\u001B[39m \u001B[38;5;28mlist\u001B[39m(\u001B[38;5;124m'\u001B[39m\u001B[38;5;124mLuke\u001B[39m\u001B[38;5;124m'\u001B[39m)\n",
      "\u001B[0;31mTypeError\u001B[0m: 'list' object is not callable"
     ]
    }
   ],
   "source": [
    "list_1 = list('Chewie')\n",
    "list_2 = list('Han')\n",
    "list_3 = list('Luke')\n",
    "\n",
    "try:\n",
    "    list_1=list_2\n",
    "    list_2.insert(0,list_3[0])\n",
    "    assert list_1[0] == 'H'\n",
    "except:\n",
    "    print('Error')\n",
    "else:\n",
    "    print('OK')\n",
    "finally:\n",
    "    print('Done')\n"
   ],
   "metadata": {
    "collapsed": false,
    "ExecuteTime": {
     "end_time": "2023-07-26T21:13:47.780335272Z",
     "start_time": "2023-07-26T21:13:47.720023596Z"
    }
   }
  },
  {
   "cell_type": "code",
   "execution_count": 74,
   "outputs": [
    {
     "name": "stdout",
     "output_type": "stream",
     "text": [
      "I/O error occurred:\n"
     ]
    }
   ],
   "source": [
    "data = bytearray(10)                # Line 1\n",
    "                                    # Line 2\n",
    "try:                                # Line 3\n",
    "    f = open('Stars.bin', 'rb')     # Line 4\n",
    "    # insert code here              # Line 5\n",
    "    f.read(data)\n",
    "    f.close()                       # Line 6\n",
    "except:                             # Line 7\n",
    "    print(\"I/O error occurred:\")    # Line 8"
   ],
   "metadata": {
    "collapsed": false,
    "ExecuteTime": {
     "end_time": "2023-07-26T21:16:26.488663189Z",
     "start_time": "2023-07-26T21:16:26.423811741Z"
    }
   }
  },
  {
   "cell_type": "code",
   "execution_count": 75,
   "outputs": [
    {
     "ename": "SyntaxError",
     "evalue": "default 'except:' must be last (1200202004.py, line 6)",
     "output_type": "error",
     "traceback": [
      "\u001B[0;36m  Cell \u001B[0;32mIn[75], line 6\u001B[0;36m\u001B[0m\n\u001B[0;31m    except:\u001B[0m\n\u001B[0m    ^\u001B[0m\n\u001B[0;31mSyntaxError\u001B[0m\u001B[0;31m:\u001B[0m default 'except:' must be last\n"
     ]
    }
   ],
   "source": [
    "def func(x,y):\n",
    "    return x/y\n",
    "\n",
    "try:\n",
    "    func(3,0)\n",
    "except:\n",
    "    print(\"Error 1\")\n",
    "except ZeroDivisionError:\n",
    "    print(\"Error 2\")\n",
    "except BaseException:\n",
    "    print(\"Error 3\")"
   ],
   "metadata": {
    "collapsed": false,
    "ExecuteTime": {
     "end_time": "2023-07-26T21:17:39.287618003Z",
     "start_time": "2023-07-26T21:17:39.223570001Z"
    }
   }
  },
  {
   "cell_type": "code",
   "execution_count": 76,
   "outputs": [
    {
     "name": "stdout",
     "output_type": "stream",
     "text": [
      "4\n"
     ]
    }
   ],
   "source": [
    "x = 'Yoda 7'\n",
    "if x.isalpha():\n",
    "    print(1)\n",
    "elif x.isdigit():\n",
    "    print(2)\n",
    "elif x.isalnum():\n",
    "    print(3)\n",
    "else:\n",
    "    print(4)\n"
   ],
   "metadata": {
    "collapsed": false,
    "ExecuteTime": {
     "end_time": "2023-07-26T21:18:15.583292042Z",
     "start_time": "2023-07-26T21:18:15.543906426Z"
    }
   }
  },
  {
   "cell_type": "code",
   "execution_count": 77,
   "outputs": [
    {
     "name": "stdout",
     "output_type": "stream",
     "text": [
      "TypeError\n",
      "Done\n"
     ]
    }
   ],
   "source": [
    "try:\n",
    "    print(my_func('C3PO',2))\n",
    "except TypeError:\n",
    "    print('TypeError')\n",
    "except ValueError:\n",
    "    print('ValueError')\n",
    "except:\n",
    "    print('Error')\n",
    "else:\n",
    "    print('OK')\n",
    "finally:\n",
    "    print('Done')\n"
   ],
   "metadata": {
    "collapsed": false,
    "ExecuteTime": {
     "end_time": "2023-07-26T21:19:04.571308824Z",
     "start_time": "2023-07-26T21:19:04.530576069Z"
    }
   }
  },
  {
   "cell_type": "code",
   "execution_count": null,
   "outputs": [],
   "source": [],
   "metadata": {
    "collapsed": false
   }
  }
 ],
 "metadata": {
  "kernelspec": {
   "display_name": "Python 3",
   "language": "python",
   "name": "python3"
  },
  "language_info": {
   "codemirror_mode": {
    "name": "ipython",
    "version": 2
   },
   "file_extension": ".py",
   "mimetype": "text/x-python",
   "name": "python",
   "nbconvert_exporter": "python",
   "pygments_lexer": "ipython2",
   "version": "2.7.6"
  }
 },
 "nbformat": 4,
 "nbformat_minor": 0
}

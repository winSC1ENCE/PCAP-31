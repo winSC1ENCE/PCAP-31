{
 "cells": [
  {
   "cell_type": "markdown",
   "source": [
    "## Frage 1"
   ],
   "metadata": {
    "collapsed": false
   }
  },
  {
   "cell_type": "code",
   "execution_count": 65,
   "outputs": [
    {
     "name": "stdout",
     "output_type": "stream",
     "text": [
      "This is my test file\n"
     ]
    }
   ],
   "source": [
    "# First create a test file:\n",
    "text = '''This is my test file and this is line #1\n",
    "This is line #2\n",
    "This is line #3\n",
    "'''\n",
    "with open('myfile.txt', 'w') as f:\n",
    "    f.write(text)\n",
    "\n",
    "f = open(\"myfile.txt\", \"r\")\n",
    "print(f.readline(20))        # This is my test file"
   ],
   "metadata": {
    "collapsed": false,
    "ExecuteTime": {
     "end_time": "2023-07-22T14:50:36.410123699Z",
     "start_time": "2023-07-22T14:50:36.354372735Z"
    }
   }
  },
  {
   "cell_type": "markdown",
   "source": [
    "## Frage 2"
   ],
   "metadata": {
    "collapsed": false
   }
  },
  {
   "cell_type": "code",
   "execution_count": 66,
   "outputs": [
    {
     "name": "stdout",
     "output_type": "stream",
     "text": [
      "['__doc__', '__file__', '__loader__', '__name__', '__package__', '__spec__', 'acos', 'acosh', 'asin', 'asinh', 'atan', 'atan2', 'atanh', 'ceil', 'comb', 'copysign', 'cos', 'cosh', 'degrees', 'dist', 'e', 'erf', 'erfc', 'exp', 'expm1', 'fabs', 'factorial', 'floor', 'fmod', 'frexp', 'fsum', 'gamma', 'gcd', 'hypot', 'inf', 'isclose', 'isfinite', 'isinf', 'isnan', 'isqrt', 'lcm', 'ldexp', 'lgamma', 'log', 'log10', 'log1p', 'log2', 'modf', 'nan', 'nextafter', 'perm', 'pi', 'pow', 'prod', 'radians', 'remainder', 'sin', 'sinh', 'sqrt', 'tan', 'tanh', 'tau', 'trunc', 'ulp']\n"
     ]
    }
   ],
   "source": [
    "import math            # Line 1\n",
    "print(dir(math))       # Line 2\n"
   ],
   "metadata": {
    "collapsed": false,
    "ExecuteTime": {
     "end_time": "2023-07-22T14:52:59.306138389Z",
     "start_time": "2023-07-22T14:52:59.291507637Z"
    }
   }
  },
  {
   "cell_type": "markdown",
   "source": [
    "## Frage 8"
   ],
   "metadata": {
    "collapsed": false
   }
  },
  {
   "cell_type": "code",
   "execution_count": 67,
   "outputs": [
    {
     "name": "stdout",
     "output_type": "stream",
     "text": [
      "R2D2 is friend with C3PO\n"
     ]
    }
   ],
   "source": [
    "my_list = ['R2D2', 'C3PO']\n",
    "print(' is friend with '.join(my_list))                 # R2D2 is friend with C3PO"
   ],
   "metadata": {
    "collapsed": false,
    "ExecuteTime": {
     "end_time": "2023-07-22T15:05:15.969546385Z",
     "start_time": "2023-07-22T15:05:15.949621271Z"
    }
   }
  },
  {
   "cell_type": "code",
   "execution_count": 68,
   "outputs": [
    {
     "name": "stdout",
     "output_type": "stream",
     "text": [
      "R2D2 is friend with C3PO is friend with xyz\n"
     ]
    }
   ],
   "source": [
    "my_list = ['R2D2', 'C3PO', 'xyz']\n",
    "print(' is friend with '.join(my_list))"
   ],
   "metadata": {
    "collapsed": false,
    "ExecuteTime": {
     "end_time": "2023-07-22T15:05:36.457565191Z",
     "start_time": "2023-07-22T15:05:36.442778956Z"
    }
   }
  },
  {
   "cell_type": "markdown",
   "source": [
    "## Frage 20"
   ],
   "metadata": {
    "collapsed": false
   }
  },
  {
   "cell_type": "code",
   "execution_count": 1,
   "outputs": [
    {
     "name": "stdout",
     "output_type": "stream",
     "text": [
      "Wrong input !\n"
     ]
    }
   ],
   "source": [
    "from math import sqrt as root\n",
    "\n",
    "def my_root(x):\n",
    "    try:\n",
    "        return root(x)\n",
    "    except:\n",
    "        print('Function Error !')\n",
    "        raise\n",
    "\n",
    "x=-2\n",
    "try:\n",
    "    assert x + 2, \"Wrong input !\"\n",
    "    print(my_root(x))\n",
    "except Exception as e:\n",
    "    print(e)\n",
    "else:\n",
    "    print('All good !')"
   ],
   "metadata": {
    "collapsed": false,
    "ExecuteTime": {
     "end_time": "2023-07-22T13:49:46.011984206Z",
     "start_time": "2023-07-22T13:49:46.007683111Z"
    }
   }
  },
  {
   "cell_type": "markdown",
   "source": [
    "## Frage 21"
   ],
   "metadata": {
    "collapsed": false
   }
  },
  {
   "cell_type": "code",
   "execution_count": 2,
   "outputs": [
    {
     "name": "stdout",
     "output_type": "stream",
     "text": [
      "True\n",
      "15\n"
     ]
    }
   ],
   "source": [
    "class Jedi:\n",
    "    LightSaber = 1\n",
    "    def __init__(self):\n",
    "        self.force = 10\n",
    "\n",
    "\n",
    "class Sith(Jedi):\n",
    "    def __init__(self):\n",
    "        self.force = 15\n",
    "\n",
    "class Padawan(Sith):\n",
    "    force = 5\n",
    "    def __init__(self):\n",
    "        super().__init__()\n",
    "\n",
    "Luke = Padawan()\n",
    "\n",
    "print(hasattr(Padawan, 'LightSaber'))\n",
    "print(Luke.force)"
   ],
   "metadata": {
    "collapsed": false,
    "ExecuteTime": {
     "end_time": "2023-07-22T13:50:50.406186710Z",
     "start_time": "2023-07-22T13:50:50.377315666Z"
    }
   }
  },
  {
   "cell_type": "markdown",
   "source": [
    "## Frage 22"
   ],
   "metadata": {
    "collapsed": false
   }
  },
  {
   "cell_type": "code",
   "execution_count": 15,
   "outputs": [
    {
     "name": "stdout",
     "output_type": "stream",
     "text": [
      "9,7,7,0,4,"
     ]
    }
   ],
   "source": [
    "from random import random\n",
    "from math import floor\n",
    "\n",
    "for i in range(5):\n",
    "    print(floor(random()*10),end=',')"
   ],
   "metadata": {
    "collapsed": false,
    "ExecuteTime": {
     "end_time": "2023-07-22T13:53:47.644859861Z",
     "start_time": "2023-07-22T13:53:47.632371710Z"
    }
   }
  },
  {
   "cell_type": "code",
   "execution_count": 14,
   "outputs": [
    {
     "data": {
      "text/plain": "100"
     },
     "execution_count": 14,
     "metadata": {},
     "output_type": "execute_result"
    }
   ],
   "source": [
    "from random import random\n",
    "from math import floor\n",
    "floor(100)"
   ],
   "metadata": {
    "collapsed": false,
    "ExecuteTime": {
     "end_time": "2023-07-22T13:53:44.455072532Z",
     "start_time": "2023-07-22T13:53:44.441759403Z"
    }
   }
  },
  {
   "cell_type": "markdown",
   "source": [
    "## Frage 23"
   ],
   "metadata": {
    "collapsed": false
   }
  },
  {
   "cell_type": "code",
   "execution_count": 16,
   "outputs": [
    {
     "name": "stdout",
     "output_type": "stream",
     "text": [
      "{'name': 'Vader', 'lightsaber': 1, '_Sith__son': 'Luke', '__daughter': 'Leia'}\n"
     ]
    }
   ],
   "source": [
    "class Sith:\n",
    "    darkside= True\n",
    "    def __init__(self, x, y):\n",
    "        self.name = x\n",
    "        self.lightsaber = 1\n",
    "        self.__son = y\n",
    "    def __str__(self):\n",
    "        return self.name\n",
    "\n",
    "Vader = Sith(\"Vader\", \"Luke\")\n",
    "Vader.__daughter = 'Leia'\n",
    "print(Vader.__dict__)"
   ],
   "metadata": {
    "collapsed": false,
    "ExecuteTime": {
     "end_time": "2023-07-22T13:56:12.722219988Z",
     "start_time": "2023-07-22T13:56:12.674811931Z"
    }
   }
  },
  {
   "cell_type": "markdown",
   "source": [
    "## Frage 24"
   ],
   "metadata": {
    "collapsed": false
   }
  },
  {
   "cell_type": "code",
   "execution_count": 17,
   "outputs": [
    {
     "name": "stdout",
     "output_type": "stream",
     "text": [
      "<__main__.Jedi object at 0x7fca57179d50>\n"
     ]
    }
   ],
   "source": [
    "\n",
    "class Jedi:\n",
    "    def __init__(self, name):\n",
    "        self.name = name\n",
    "    def Print(self):\n",
    "        return self.name\n",
    "\n",
    "\n",
    "Luke = Jedi('Luke')\n",
    "print(Luke)"
   ],
   "metadata": {
    "collapsed": false,
    "ExecuteTime": {
     "end_time": "2023-07-22T13:57:21.661654396Z",
     "start_time": "2023-07-22T13:57:21.615526194Z"
    }
   }
  },
  {
   "cell_type": "markdown",
   "source": [
    "## Frage 25"
   ],
   "metadata": {
    "collapsed": false
   }
  },
  {
   "cell_type": "code",
   "execution_count": 18,
   "outputs": [
    {
     "ename": "AttributeError",
     "evalue": "'Padawan' object has no attribute '__bases__'",
     "output_type": "error",
     "traceback": [
      "\u001B[0;31m---------------------------------------------------------------------------\u001B[0m",
      "\u001B[0;31mAttributeError\u001B[0m                            Traceback (most recent call last)",
      "Cell \u001B[0;32mIn[18], line 15\u001B[0m\n\u001B[1;32m     12\u001B[0m         \u001B[38;5;28msuper\u001B[39m()\u001B[38;5;241m.\u001B[39m\u001B[38;5;21m__init__\u001B[39m()\n\u001B[1;32m     14\u001B[0m Luke\u001B[38;5;241m=\u001B[39mPadawan()\n\u001B[0;32m---> 15\u001B[0m \u001B[38;5;28mprint\u001B[39m(\u001B[43mLuke\u001B[49m\u001B[38;5;241;43m.\u001B[39;49m\u001B[38;5;18;43m__bases__\u001B[39;49m)\n",
      "\u001B[0;31mAttributeError\u001B[0m: 'Padawan' object has no attribute '__bases__'"
     ]
    }
   ],
   "source": [
    "class Jedi:\n",
    "    def __init__(self):\n",
    "        self.force = 10\n",
    "\n",
    "class Sith:\n",
    "    def __init__(self):\n",
    "        self.force = 15\n",
    "        self.bases = 1\n",
    "\n",
    "class Padawan(Sith, Jedi):\n",
    "    def __init__(self):\n",
    "        super().__init__()\n",
    "\n",
    "Luke=Padawan()\n",
    "print(Luke.__bases__)"
   ],
   "metadata": {
    "collapsed": false,
    "ExecuteTime": {
     "end_time": "2023-07-22T13:59:03.925714119Z",
     "start_time": "2023-07-22T13:59:03.657254078Z"
    }
   }
  },
  {
   "cell_type": "markdown",
   "source": [
    "## Frage 26"
   ],
   "metadata": {
    "collapsed": false
   }
  },
  {
   "cell_type": "code",
   "execution_count": 19,
   "outputs": [
    {
     "ename": "TypeError",
     "evalue": "unsupported operand type(s) for ** or pow(): 'str' and 'str'",
     "output_type": "error",
     "traceback": [
      "\u001B[0;31m---------------------------------------------------------------------------\u001B[0m",
      "\u001B[0;31mTypeError\u001B[0m                                 Traceback (most recent call last)",
      "Cell \u001B[0;32mIn[19], line 4\u001B[0m\n\u001B[1;32m      2\u001B[0m b \u001B[38;5;241m=\u001B[39m \u001B[38;5;28minput\u001B[39m(\u001B[38;5;124m\"\u001B[39m\u001B[38;5;124mEnter b:\u001B[39m\u001B[38;5;124m\"\u001B[39m)\n\u001B[1;32m      3\u001B[0m c \u001B[38;5;241m=\u001B[39m \u001B[38;5;28minput\u001B[39m(\u001B[38;5;124m\"\u001B[39m\u001B[38;5;124mEnter c:\u001B[39m\u001B[38;5;124m\"\u001B[39m)\n\u001B[0;32m----> 4\u001B[0m \u001B[38;5;28mprint\u001B[39m(a\u001B[38;5;241m*\u001B[39m\u001B[38;5;241m*\u001B[39m\u001B[43mb\u001B[49m\u001B[38;5;241;43m*\u001B[39;49m\u001B[38;5;241;43m*\u001B[39;49m\u001B[43mc\u001B[49m)\n",
      "\u001B[0;31mTypeError\u001B[0m: unsupported operand type(s) for ** or pow(): 'str' and 'str'"
     ]
    }
   ],
   "source": [
    "a = input(\"Enter a:\")\n",
    "b = input(\"Enter b:\")\n",
    "c = input(\"Enter c:\")\n",
    "print(a**b**c)"
   ],
   "metadata": {
    "collapsed": false,
    "ExecuteTime": {
     "end_time": "2023-07-22T14:00:28.431378389Z",
     "start_time": "2023-07-22T14:00:20.543866951Z"
    }
   }
  },
  {
   "cell_type": "markdown",
   "source": [
    "## Frage 27"
   ],
   "metadata": {
    "collapsed": false
   }
  },
  {
   "cell_type": "code",
   "execution_count": 24,
   "outputs": [
    {
     "name": "stdout",
     "output_type": "stream",
     "text": [
      "Function Error #2\n",
      "Program Error #1\n"
     ]
    }
   ],
   "source": [
    "def list_func(x):\n",
    "    try:\n",
    "        return x[4]/x[-1]\n",
    "    except ZeroDivisionError:\n",
    "        print(\"Function Error #1\")\n",
    "        raise\n",
    "    except IndexError:\n",
    "        print(\"Function Error #2\")\n",
    "        raise\n",
    "    except:\n",
    "        print(\"Function Error #3\")\n",
    "        raise\n",
    "\n",
    "my_list=[3,4,1,0]\n",
    "try:\n",
    "    print(list_func(my_list))\n",
    "except LookupError:\n",
    "    print(\"Program Error #1\")\n",
    "except ArithmeticError:\n",
    "    print(\"Program Error #2\")\n",
    "except:\n",
    "    print(\"Program Error #3\")"
   ],
   "metadata": {
    "collapsed": false,
    "ExecuteTime": {
     "end_time": "2023-07-22T14:07:42.093765866Z",
     "start_time": "2023-07-22T14:07:42.076138937Z"
    }
   }
  },
  {
   "cell_type": "code",
   "execution_count": 28,
   "outputs": [
    {
     "ename": "IndexError",
     "evalue": "list index out of range",
     "output_type": "error",
     "traceback": [
      "\u001B[0;31m---------------------------------------------------------------------------\u001B[0m",
      "\u001B[0;31mIndexError\u001B[0m                                Traceback (most recent call last)",
      "Cell \u001B[0;32mIn[28], line 3\u001B[0m\n\u001B[1;32m      1\u001B[0m my_list\u001B[38;5;241m=\u001B[39m[\u001B[38;5;241m3\u001B[39m,\u001B[38;5;241m4\u001B[39m,\u001B[38;5;241m1\u001B[39m,\u001B[38;5;241m0\u001B[39m]\n\u001B[1;32m      2\u001B[0m \u001B[38;5;66;03m#my_list[-1]\u001B[39;00m\n\u001B[0;32m----> 3\u001B[0m \u001B[43mmy_list\u001B[49m\u001B[43m[\u001B[49m\u001B[38;5;241;43m4\u001B[39;49m\u001B[43m]\u001B[49m\n",
      "\u001B[0;31mIndexError\u001B[0m: list index out of range"
     ]
    }
   ],
   "source": [
    "my_list=[3,4,1,0]\n",
    "#my_list[-1]\n",
    "my_list[4]"
   ],
   "metadata": {
    "collapsed": false,
    "ExecuteTime": {
     "end_time": "2023-07-22T14:08:49.654760996Z",
     "start_time": "2023-07-22T14:08:49.612476261Z"
    }
   }
  },
  {
   "cell_type": "markdown",
   "source": [
    "## Frage 28"
   ],
   "metadata": {
    "collapsed": false
   }
  },
  {
   "cell_type": "code",
   "execution_count": 29,
   "outputs": [
    {
     "name": "stdout",
     "output_type": "stream",
     "text": [
      "(<class '__main__.RootVegetable'>,)\n"
     ]
    }
   ],
   "source": [
    "class Vegetable:\n",
    "    pass\n",
    "\n",
    "class RootVegetable(Vegetable):\n",
    "    pass\n",
    "\n",
    "class Potato(RootVegetable):\n",
    "    pass\n",
    "\n",
    "print(Potato.__bases__)"
   ],
   "metadata": {
    "collapsed": false,
    "ExecuteTime": {
     "end_time": "2023-07-22T14:10:14.958293430Z",
     "start_time": "2023-07-22T14:10:14.919805700Z"
    }
   }
  },
  {
   "cell_type": "markdown",
   "source": [
    "## Frage 29"
   ],
   "metadata": {
    "collapsed": false
   }
  },
  {
   "cell_type": "code",
   "execution_count": 30,
   "outputs": [],
   "source": [
    "class Jedi:\n",
    "    def __init__(self, name):\n",
    "        self.name=name\n",
    "\n",
    "class Sith:\n",
    "    def __init__(self, name):\n",
    "        self.name=name"
   ],
   "metadata": {
    "collapsed": false,
    "ExecuteTime": {
     "end_time": "2023-07-22T14:11:35.227101896Z",
     "start_time": "2023-07-22T14:11:35.187442543Z"
    }
   }
  },
  {
   "cell_type": "code",
   "execution_count": 31,
   "outputs": [
    {
     "data": {
      "text/plain": "False"
     },
     "execution_count": 31,
     "metadata": {},
     "output_type": "execute_result"
    }
   ],
   "source": [
    "issubclass(Jedi, Sith)"
   ],
   "metadata": {
    "collapsed": false,
    "ExecuteTime": {
     "end_time": "2023-07-22T14:11:50.500438451Z",
     "start_time": "2023-07-22T14:11:50.462015509Z"
    }
   }
  },
  {
   "cell_type": "markdown",
   "source": [
    "## Frage 30"
   ],
   "metadata": {
    "collapsed": false
   }
  },
  {
   "cell_type": "code",
   "execution_count": 32,
   "outputs": [
    {
     "name": "stdout",
     "output_type": "stream",
     "text": [
      "{'name': 'Luke', '_Jedi__force': 10, 'lightsaber': True}\n"
     ]
    }
   ],
   "source": [
    "class Jedi:\n",
    "    def __init__(self, name):\n",
    "        self.name = name\n",
    "\n",
    "    def set_force(self, val):\n",
    "        self.__force = val\n",
    "\n",
    "Luke = Jedi('Luke')\n",
    "Luke.set_force(10)\n",
    "Luke.lightsaber = True\n",
    "\n",
    "print(Luke.__dict__)"
   ],
   "metadata": {
    "collapsed": false,
    "ExecuteTime": {
     "end_time": "2023-07-22T14:13:52.091052890Z",
     "start_time": "2023-07-22T14:13:52.074532215Z"
    }
   }
  },
  {
   "cell_type": "markdown",
   "source": [
    "## Frage 31"
   ],
   "metadata": {
    "collapsed": false
   }
  },
  {
   "cell_type": "code",
   "execution_count": 34,
   "outputs": [
    {
     "name": "stdout",
     "output_type": "stream",
     "text": [
      "2\n",
      "4\n",
      "[1, 2]\n"
     ]
    }
   ],
   "source": [
    "def myfunc(n):\n",
    "    res = 1\n",
    "    for i in range(n,n+2,1):\n",
    "        yield res\n",
    "        res*= 2\n",
    "        print(res)\n",
    "\n",
    "y = [x for x in myfunc(3)]\n",
    "\n",
    "print(y)"
   ],
   "metadata": {
    "collapsed": false,
    "ExecuteTime": {
     "end_time": "2023-07-22T14:18:02.535878913Z",
     "start_time": "2023-07-22T14:18:02.521796276Z"
    }
   }
  },
  {
   "cell_type": "code",
   "execution_count": 42,
   "outputs": [
    {
     "name": "stdout",
     "output_type": "stream",
     "text": [
      "3\n",
      "4\n"
     ]
    }
   ],
   "source": [
    "n = 3\n",
    "for i in range(n,n+2,1):\n",
    "    print(i)"
   ],
   "metadata": {
    "collapsed": false,
    "ExecuteTime": {
     "end_time": "2023-07-22T14:20:37.002188331Z",
     "start_time": "2023-07-22T14:20:36.991264304Z"
    }
   }
  },
  {
   "cell_type": "code",
   "execution_count": 43,
   "outputs": [
    {
     "data": {
      "text/plain": "range(3, 5)"
     },
     "execution_count": 43,
     "metadata": {},
     "output_type": "execute_result"
    }
   ],
   "source": [
    "n = 3\n",
    "range(n,n+2,1)"
   ],
   "metadata": {
    "collapsed": false,
    "ExecuteTime": {
     "end_time": "2023-07-22T14:20:38.894503843Z",
     "start_time": "2023-07-22T14:20:38.879695190Z"
    }
   }
  },
  {
   "cell_type": "markdown",
   "source": [
    "## Frage 32"
   ],
   "metadata": {
    "collapsed": false
   }
  },
  {
   "cell_type": "markdown",
   "source": [
    "## Frage 33"
   ],
   "metadata": {
    "collapsed": false
   }
  },
  {
   "cell_type": "code",
   "execution_count": 44,
   "outputs": [
    {
     "name": "stdout",
     "output_type": "stream",
     "text": [
      "1\n"
     ]
    }
   ],
   "source": [
    "def sum_list(args, fun):\n",
    "    z = 0\n",
    "    for x in args:\n",
    "        z = z + fun(x)\n",
    "    return z\n",
    "\n",
    "print(sum_list([ex//2 for ex in range(5)], lambda x: 1 if x>1 else 0))"
   ],
   "metadata": {
    "collapsed": false,
    "ExecuteTime": {
     "end_time": "2023-07-22T14:23:51.275507581Z",
     "start_time": "2023-07-22T14:23:51.243233393Z"
    }
   }
  },
  {
   "cell_type": "code",
   "execution_count": 46,
   "outputs": [
    {
     "data": {
      "text/plain": "([0, 0, 1, 1, 2], <function __main__.<lambda>(x)>)"
     },
     "execution_count": 46,
     "metadata": {},
     "output_type": "execute_result"
    }
   ],
   "source": [
    "[ex//2 for ex in range(5)], lambda x: 1 if x>1 else 0"
   ],
   "metadata": {
    "collapsed": false,
    "ExecuteTime": {
     "end_time": "2023-07-22T14:24:11.144117653Z",
     "start_time": "2023-07-22T14:24:11.129333927Z"
    }
   }
  },
  {
   "cell_type": "code",
   "execution_count": 51,
   "outputs": [
    {
     "data": {
      "text/plain": "2"
     },
     "execution_count": 51,
     "metadata": {},
     "output_type": "execute_result"
    }
   ],
   "source": [
    "4//2"
   ],
   "metadata": {
    "collapsed": false,
    "ExecuteTime": {
     "end_time": "2023-07-22T14:24:54.090689964Z",
     "start_time": "2023-07-22T14:24:54.072541306Z"
    }
   }
  },
  {
   "cell_type": "markdown",
   "source": [
    "## Frage 34"
   ],
   "metadata": {
    "collapsed": false
   }
  },
  {
   "cell_type": "markdown",
   "source": [
    "## Frage 35"
   ],
   "metadata": {
    "collapsed": false
   }
  },
  {
   "cell_type": "code",
   "execution_count": 52,
   "outputs": [
    {
     "name": "stdout",
     "output_type": "stream",
     "text": [
      "Can't divide by string !\n"
     ]
    }
   ],
   "source": [
    "class AlphaDivisionError(ZeroDivisionError):\n",
    "    def __init__(self, message):\n",
    "        ZeroDivisionError.__init__(self, message)\n",
    "\n",
    "def func_div(x,y):\n",
    "    if y==0:\n",
    "        raise ZeroDivisionError(\"Can't divide by zero !\")\n",
    "    elif isinstance(y, str):\n",
    "        raise AlphaDivisionError(\"Can't divide by string !\")\n",
    "    else:\n",
    "        return x/y\n",
    "\n",
    "try:\n",
    "    print(func_div(4,'a'))\n",
    "except ZeroDivisionError as e:\n",
    "    print(str(e))\n",
    "except Exception as e:\n",
    "    print(\"There is an error !\")\n",
    "else:\n",
    "    print('All good !')"
   ],
   "metadata": {
    "collapsed": false,
    "ExecuteTime": {
     "end_time": "2023-07-22T14:36:24.797973085Z",
     "start_time": "2023-07-22T14:36:24.751383856Z"
    }
   }
  },
  {
   "cell_type": "markdown",
   "source": [
    "## Frage 36"
   ],
   "metadata": {
    "collapsed": false
   }
  },
  {
   "cell_type": "code",
   "execution_count": 59,
   "outputs": [
    {
     "name": "stdout",
     "output_type": "stream",
     "text": [
      "[20, 14]\n"
     ]
    }
   ],
   "source": [
    "from random import sample\n",
    "\n",
    "list_1 = [x << 1 for x in range(1,12,3)]\n",
    "list_2 = sample(list_1, 3)\n",
    "list_3 = list(filter(lambda x: x > 3, list_2))\n",
    "print(list_3)"
   ],
   "metadata": {
    "collapsed": false,
    "ExecuteTime": {
     "end_time": "2023-07-22T14:40:00.493418811Z",
     "start_time": "2023-07-22T14:40:00.467487822Z"
    }
   }
  },
  {
   "cell_type": "code",
   "execution_count": 53,
   "outputs": [
    {
     "data": {
      "text/plain": "[2, 8, 14, 20]"
     },
     "execution_count": 53,
     "metadata": {},
     "output_type": "execute_result"
    }
   ],
   "source": [
    "[x << 1 for x in range(1,12,3)]"
   ],
   "metadata": {
    "collapsed": false,
    "ExecuteTime": {
     "end_time": "2023-07-22T14:37:27.193305332Z",
     "start_time": "2023-07-22T14:37:27.144875967Z"
    }
   }
  },
  {
   "cell_type": "code",
   "execution_count": 54,
   "outputs": [
    {
     "data": {
      "text/plain": "[1, 4, 7, 10]"
     },
     "execution_count": 54,
     "metadata": {},
     "output_type": "execute_result"
    }
   ],
   "source": [
    "[x for x in range(1,12,3)]"
   ],
   "metadata": {
    "collapsed": false,
    "ExecuteTime": {
     "end_time": "2023-07-22T14:38:15.299234240Z",
     "start_time": "2023-07-22T14:38:15.276752695Z"
    }
   }
  },
  {
   "cell_type": "code",
   "execution_count": 58,
   "outputs": [
    {
     "data": {
      "text/plain": "2"
     },
     "execution_count": 58,
     "metadata": {},
     "output_type": "execute_result"
    }
   ],
   "source": [
    "1 << 1"
   ],
   "metadata": {
    "collapsed": false,
    "ExecuteTime": {
     "end_time": "2023-07-22T14:39:08.366245004Z",
     "start_time": "2023-07-22T14:39:08.328982028Z"
    }
   }
  },
  {
   "cell_type": "markdown",
   "source": [
    "## Frage 37"
   ],
   "metadata": {
    "collapsed": false
   }
  },
  {
   "cell_type": "code",
   "execution_count": 60,
   "outputs": [
    {
     "ename": "ValueError",
     "evalue": "substring not found",
     "output_type": "error",
     "traceback": [
      "\u001B[0;31m---------------------------------------------------------------------------\u001B[0m",
      "\u001B[0;31mValueError\u001B[0m                                Traceback (most recent call last)",
      "Cell \u001B[0;32mIn[60], line 2\u001B[0m\n\u001B[1;32m      1\u001B[0m my_str \u001B[38;5;241m=\u001B[39m \u001B[38;5;124m'\u001B[39m\u001B[38;5;124mLuke !!\u001B[39m\u001B[38;5;130;01m\\n\u001B[39;00m\u001B[38;5;124m'\u001B[39m\n\u001B[0;32m----> 2\u001B[0m z \u001B[38;5;241m=\u001B[39m \u001B[43mmy_str\u001B[49m\u001B[38;5;241;43m.\u001B[39;49m\u001B[43mindex\u001B[49m\u001B[43m(\u001B[49m\u001B[38;5;124;43m'\u001B[39;49m\u001B[38;5;124;43mn\u001B[39;49m\u001B[38;5;124;43m'\u001B[39;49m\u001B[43m)\u001B[49m\n\u001B[1;32m      3\u001B[0m \u001B[38;5;28mprint\u001B[39m(z)\n",
      "\u001B[0;31mValueError\u001B[0m: substring not found"
     ]
    }
   ],
   "source": [
    "my_str = 'Luke !!\\n'\n",
    "z = my_str.index('n')\n",
    "print(z)"
   ],
   "metadata": {
    "collapsed": false,
    "ExecuteTime": {
     "end_time": "2023-07-22T14:40:56.503612092Z",
     "start_time": "2023-07-22T14:40:56.466784023Z"
    }
   }
  },
  {
   "cell_type": "markdown",
   "source": [
    "## Frage 38"
   ],
   "metadata": {
    "collapsed": false
   }
  },
  {
   "cell_type": "code",
   "execution_count": 61,
   "outputs": [
    {
     "name": "stdout",
     "output_type": "stream",
     "text": [
      "Luke!\n"
     ]
    }
   ],
   "source": [
    "mylist1 = [[i for i in 'Luke'] for j in range(3)]\n",
    "mylist2 =[]\n",
    "for x in mylist1:\n",
    "    for y in x:\n",
    "        if y in mylist2:\n",
    "            continue\n",
    "        else:\n",
    "            mylist2.append(y)\n",
    "else:\n",
    "    mylist2.append('!')\n",
    "print(''.join(mylist2))"
   ],
   "metadata": {
    "collapsed": false,
    "ExecuteTime": {
     "end_time": "2023-07-22T14:43:32.556930537Z",
     "start_time": "2023-07-22T14:43:32.506751569Z"
    }
   }
  },
  {
   "cell_type": "code",
   "execution_count": 62,
   "outputs": [
    {
     "data": {
      "text/plain": "['L', 'u', 'k', 'e', '!']"
     },
     "execution_count": 62,
     "metadata": {},
     "output_type": "execute_result"
    }
   ],
   "source": [
    "mylist2"
   ],
   "metadata": {
    "collapsed": false,
    "ExecuteTime": {
     "end_time": "2023-07-22T14:43:50.651366705Z",
     "start_time": "2023-07-22T14:43:50.611795458Z"
    }
   }
  },
  {
   "cell_type": "markdown",
   "source": [
    "## Frage 39"
   ],
   "metadata": {
    "collapsed": false
   }
  },
  {
   "cell_type": "code",
   "execution_count": 63,
   "outputs": [
    {
     "name": "stdout",
     "output_type": "stream",
     "text": [
      "Error\n",
      "Completed\n",
      "None\n"
     ]
    }
   ],
   "source": [
    "def myfunc(x):\n",
    "    try:\n",
    "        y = 1 / x\n",
    "    except ZeroDivisionError:\n",
    "        print(\"Failure\")\n",
    "    except:\n",
    "        print(\"Error\")\n",
    "    else:\n",
    "        print(\"Everything OK\")\n",
    "        return y\n",
    "    finally:\n",
    "        print(\"Completed\")\n",
    "\n",
    "\n",
    "print(myfunc('0'))"
   ],
   "metadata": {
    "collapsed": false,
    "ExecuteTime": {
     "end_time": "2023-07-22T14:44:59.435278891Z",
     "start_time": "2023-07-22T14:44:59.400510358Z"
    }
   }
  },
  {
   "cell_type": "markdown",
   "source": [
    "## Frage 40"
   ],
   "metadata": {
    "collapsed": false
   }
  },
  {
   "cell_type": "code",
   "execution_count": 64,
   "outputs": [
    {
     "name": "stdout",
     "output_type": "stream",
     "text": [
      "4\n"
     ]
    }
   ],
   "source": [
    "x = '\\n\\\\//'\n",
    "print(len(x))"
   ],
   "metadata": {
    "collapsed": false,
    "ExecuteTime": {
     "end_time": "2023-07-22T14:45:53.485988849Z",
     "start_time": "2023-07-22T14:45:53.453109762Z"
    }
   }
  },
  {
   "cell_type": "code",
   "execution_count": null,
   "outputs": [],
   "source": [],
   "metadata": {
    "collapsed": false
   }
  }
 ],
 "metadata": {
  "kernelspec": {
   "display_name": "Python 3",
   "language": "python",
   "name": "python3"
  },
  "language_info": {
   "codemirror_mode": {
    "name": "ipython",
    "version": 2
   },
   "file_extension": ".py",
   "mimetype": "text/x-python",
   "name": "python",
   "nbconvert_exporter": "python",
   "pygments_lexer": "ipython2",
   "version": "2.7.6"
  }
 },
 "nbformat": 4,
 "nbformat_minor": 0
}

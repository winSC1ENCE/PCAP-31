{
 "cells": [
  {
   "cell_type": "code",
   "execution_count": 15,
   "id": "initial_id",
   "metadata": {
    "collapsed": true,
    "ExecuteTime": {
     "end_time": "2023-08-01T20:12:41.268241642Z",
     "start_time": "2023-08-01T20:12:41.257643296Z"
    }
   },
   "outputs": [
    {
     "name": "stdout",
     "output_type": "stream",
     "text": [
      "[0, 6, 12, 18, 24, 30, 36, 42, 48, 54, 60, 66, 72, 78, 84, 90, 96]\n",
      "<generator object func at 0x7f33e290c3c0>\n"
     ]
    }
   ],
   "source": [
    "def func(x):\n",
    "    for i in range(x + 1):\n",
    "        if i%6 == 0:\n",
    "            yield i\n",
    "list = [x for x in func(100)]\n",
    "print(list)\n",
    "print(func(100))"
   ]
  },
  {
   "cell_type": "code",
   "execution_count": null,
   "outputs": [],
   "source": [],
   "metadata": {
    "collapsed": false
   },
   "id": "bd46abf668f6513e"
  },
  {
   "cell_type": "code",
   "execution_count": 16,
   "outputs": [
    {
     "name": "stdout",
     "output_type": "stream",
     "text": [
      "0\n",
      "6\n",
      "12\n",
      "18\n",
      "24\n",
      "30\n",
      "36\n",
      "42\n",
      "48\n",
      "54\n",
      "60\n",
      "66\n",
      "72\n",
      "78\n",
      "84\n",
      "90\n",
      "96\n"
     ]
    }
   ],
   "source": [
    "for i in func(100):\n",
    "    print(i)"
   ],
   "metadata": {
    "collapsed": false,
    "ExecuteTime": {
     "start_time": "2023-08-01T20:12:55.999360876Z"
    }
   },
   "id": "b549de152468815d"
  },
  {
   "cell_type": "code",
   "execution_count": 17,
   "outputs": [
    {
     "name": "stdout",
     "output_type": "stream",
     "text": [
      "51\n"
     ]
    }
   ],
   "source": [
    "x = input()\n",
    "y = input()\n",
    "print (x + y)"
   ],
   "metadata": {
    "collapsed": false,
    "ExecuteTime": {
     "end_time": "2023-08-01T20:13:57.186245637Z",
     "start_time": "2023-08-01T20:13:54.190846463Z"
    }
   },
   "id": "cc407cba171f2a49"
  },
  {
   "cell_type": "code",
   "execution_count": 18,
   "outputs": [
    {
     "name": "stdout",
     "output_type": "stream",
     "text": [
      "True\n"
     ]
    }
   ],
   "source": [
    "x = 1\n",
    "y = 0\n",
    "z = 1\n",
    "print( y ^ z == x | y)"
   ],
   "metadata": {
    "collapsed": false,
    "ExecuteTime": {
     "end_time": "2023-08-01T20:15:01.351562815Z",
     "start_time": "2023-08-01T20:15:01.308760087Z"
    }
   },
   "id": "63f133f98a4e7ec"
  },
  {
   "cell_type": "code",
   "execution_count": 19,
   "outputs": [
    {
     "data": {
      "text/plain": "1"
     },
     "execution_count": 19,
     "metadata": {},
     "output_type": "execute_result"
    }
   ],
   "source": [
    "x | y"
   ],
   "metadata": {
    "collapsed": false,
    "ExecuteTime": {
     "end_time": "2023-08-01T20:15:17.123015429Z",
     "start_time": "2023-08-01T20:15:17.092588042Z"
    }
   },
   "id": "bb5ab72dd2355357"
  },
  {
   "cell_type": "code",
   "execution_count": 20,
   "outputs": [
    {
     "data": {
      "text/plain": "1"
     },
     "execution_count": 20,
     "metadata": {},
     "output_type": "execute_result"
    }
   ],
   "source": [
    "y ^ z"
   ],
   "metadata": {
    "collapsed": false,
    "ExecuteTime": {
     "end_time": "2023-08-01T20:15:31.740730220Z",
     "start_time": "2023-08-01T20:15:31.698895155Z"
    }
   },
   "id": "a4872320215000e5"
  },
  {
   "cell_type": "code",
   "execution_count": 23,
   "outputs": [
    {
     "name": "stdout",
     "output_type": "stream",
     "text": [
      "1\n",
      "1\n",
      "1\n",
      "0\n",
      "2\n",
      "2\n",
      "3\n"
     ]
    }
   ],
   "source": [
    "print(1 | 0)\n",
    "print(1 | 1)\n",
    "print(0 | 1)\n",
    "print(0 | 0)\n",
    "print(2 | 0)\n",
    "print(0 | 2)\n",
    "print(2 | 3)"
   ],
   "metadata": {
    "collapsed": false,
    "ExecuteTime": {
     "end_time": "2023-08-01T20:18:15.455498537Z",
     "start_time": "2023-08-01T20:18:15.440470937Z"
    }
   },
   "id": "21abee612724ec2"
  },
  {
   "cell_type": "code",
   "execution_count": 26,
   "outputs": [
    {
     "data": {
      "text/plain": "range(0, 3, 2)"
     },
     "execution_count": 26,
     "metadata": {},
     "output_type": "execute_result"
    }
   ],
   "source": [
    "range(0, 3, 2)"
   ],
   "metadata": {
    "collapsed": false,
    "ExecuteTime": {
     "end_time": "2023-08-01T20:20:52.019166018Z",
     "start_time": "2023-08-01T20:20:52.005495941Z"
    }
   },
   "id": "dfed44263dd8e6a5"
  },
  {
   "cell_type": "code",
   "execution_count": 30,
   "outputs": [
    {
     "data": {
      "text/plain": "3"
     },
     "execution_count": 30,
     "metadata": {},
     "output_type": "execute_result"
    }
   ],
   "source": [
    "11 // 3"
   ],
   "metadata": {
    "collapsed": false,
    "ExecuteTime": {
     "end_time": "2023-08-01T20:22:09.093315171Z",
     "start_time": "2023-08-01T20:22:09.076889318Z"
    }
   },
   "id": "8156f01c8a50a050"
  },
  {
   "cell_type": "code",
   "execution_count": 33,
   "outputs": [
    {
     "name": "stdout",
     "output_type": "stream",
     "text": [
      "*\n"
     ]
    }
   ],
   "source": [
    "i=0\n",
    "while i in range(1,11,2):\n",
    "    print(i, end='')\n",
    "else:\n",
    "    print('*')"
   ],
   "metadata": {
    "collapsed": false,
    "ExecuteTime": {
     "end_time": "2023-08-01T20:25:13.985941194Z",
     "start_time": "2023-08-01T20:25:13.869362602Z"
    }
   },
   "id": "fd426649155248e6"
  },
  {
   "cell_type": "code",
   "execution_count": 34,
   "outputs": [
    {
     "name": "stdout",
     "output_type": "stream",
     "text": [
      "135"
     ]
    }
   ],
   "source": [
    "for i in range(1,20):\n",
    "    if i%7 == 0:\n",
    "        break\n",
    "    elif i%2 == 0:\n",
    "        continue\n",
    "    else:\n",
    "        print(i, end='')\n",
    "else:\n",
    "    print(8)"
   ],
   "metadata": {
    "collapsed": false,
    "ExecuteTime": {
     "end_time": "2023-08-01T20:26:44.210616545Z",
     "start_time": "2023-08-01T20:26:44.182837210Z"
    }
   },
   "id": "2fedb36980afabdb"
  },
  {
   "cell_type": "code",
   "execution_count": 35,
   "outputs": [
    {
     "name": "stdout",
     "output_type": "stream",
     "text": [
      "False\n"
     ]
    }
   ],
   "source": [
    "name='Han'                     \n",
    "                                \n",
    "def jedi(nm):\n",
    "    name='Luke'\n",
    "    if nm==name:\n",
    "        return True\n",
    "    else:\n",
    "        return False\n",
    " \n",
    "print(jedi(name))"
   ],
   "metadata": {
    "collapsed": false,
    "ExecuteTime": {
     "end_time": "2023-08-01T20:29:39.120765209Z",
     "start_time": "2023-08-01T20:29:39.102572842Z"
    }
   },
   "id": "5dcef5df50685781"
  },
  {
   "cell_type": "code",
   "execution_count": 36,
   "outputs": [
    {
     "name": "stdout",
     "output_type": "stream",
     "text": [
      "<class 'tuple'>\n"
     ]
    }
   ],
   "source": [
    "print(type(tuple(('12', 2))))"
   ],
   "metadata": {
    "collapsed": false,
    "ExecuteTime": {
     "end_time": "2023-08-01T20:30:44.461378557Z",
     "start_time": "2023-08-01T20:30:44.435683528Z"
    }
   },
   "id": "37017a87b17a68ae"
  },
  {
   "cell_type": "code",
   "execution_count": 37,
   "outputs": [
    {
     "name": "stdout",
     "output_type": "stream",
     "text": [
      "2\n"
     ]
    }
   ],
   "source": [
    "X = (5, 3, 5)\n",
    "print(X.count(5))"
   ],
   "metadata": {
    "collapsed": false,
    "ExecuteTime": {
     "end_time": "2023-08-01T20:31:36.212557660Z",
     "start_time": "2023-08-01T20:31:36.192271563Z"
    }
   },
   "id": "92edbe0c47dbef62"
  },
  {
   "cell_type": "code",
   "execution_count": 38,
   "outputs": [
    {
     "name": "stdout",
     "output_type": "stream",
     "text": [
      "*\n",
      "*\n"
     ]
    }
   ],
   "source": [
    "i = 6\n",
    "while i > 0:\n",
    "    i -= 2\n",
    "    print('*')\n",
    "    if i == 2:\n",
    "        break\n",
    "    else:\n",
    "        continue\n",
    "    print('*')\n",
    "else:\n",
    "    print('*')"
   ],
   "metadata": {
    "collapsed": false,
    "ExecuteTime": {
     "end_time": "2023-08-01T20:40:42.926576011Z",
     "start_time": "2023-08-01T20:40:42.894132062Z"
    }
   },
   "id": "e6ecb5dea81d1a5b"
  },
  {
   "cell_type": "code",
   "execution_count": 45,
   "outputs": [
    {
     "name": "stdout",
     "output_type": "stream",
     "text": [
      "2 0 0\n"
     ]
    }
   ],
   "source": [
    "x = 1\n",
    "y = 2\n",
    "z = x//y\n",
    "x, y, z = y, z, z\n",
    "z, y, z = x, z, y\n",
    "print(x, y, z)"
   ],
   "metadata": {
    "collapsed": false,
    "ExecuteTime": {
     "end_time": "2023-08-01T20:43:17.516004965Z",
     "start_time": "2023-08-01T20:43:17.471840233Z"
    }
   },
   "id": "c69894519e33dc2e"
  },
  {
   "cell_type": "code",
   "execution_count": 44,
   "outputs": [
    {
     "data": {
      "text/plain": "0"
     },
     "execution_count": 44,
     "metadata": {},
     "output_type": "execute_result"
    }
   ],
   "source": [
    "1//2"
   ],
   "metadata": {
    "collapsed": false,
    "ExecuteTime": {
     "end_time": "2023-08-01T20:42:19.716981373Z",
     "start_time": "2023-08-01T20:42:19.703386304Z"
    }
   },
   "id": "244e10829c3dfa7c"
  },
  {
   "cell_type": "code",
   "execution_count": 46,
   "outputs": [
    {
     "ename": "SyntaxError",
     "evalue": "positional argument follows keyword argument (703818724.py, line 7)",
     "output_type": "error",
     "traceback": [
      "\u001B[0;36m  Cell \u001B[0;32mIn[46], line 7\u001B[0;36m\u001B[0m\n\u001B[0;31m    print(sub(a=3,4))\u001B[0m\n\u001B[0m                   ^\u001B[0m\n\u001B[0;31mSyntaxError\u001B[0m\u001B[0;31m:\u001B[0m positional argument follows keyword argument\n"
     ]
    }
   ],
   "source": [
    "def sub(a, b=1):\n",
    "    if a>b:\n",
    "        return a-b\n",
    "    else:\n",
    "        return b-a\n",
    " \n",
    "print(sub(a=3,4)) "
   ],
   "metadata": {
    "collapsed": false,
    "ExecuteTime": {
     "end_time": "2023-08-01T20:43:40.988708130Z",
     "start_time": "2023-08-01T20:43:40.943383109Z"
    }
   },
   "id": "425512df59481026"
  },
  {
   "cell_type": "code",
   "execution_count": null,
   "outputs": [],
   "source": [
    "x = {(1, 2): 1, (2, 3): 2}\n",
    "print(x[1, 2])"
   ],
   "metadata": {
    "collapsed": false
   },
   "id": "6551aa1e3c2dedb0"
  },
  {
   "cell_type": "code",
   "execution_count": 48,
   "outputs": [
    {
     "data": {
      "text/plain": "{(1, 2): 1}"
     },
     "execution_count": 48,
     "metadata": {},
     "output_type": "execute_result"
    }
   ],
   "source": [
    "{(1,2):1}"
   ],
   "metadata": {
    "collapsed": false,
    "ExecuteTime": {
     "end_time": "2023-08-01T20:44:44.835493997Z",
     "start_time": "2023-08-01T20:44:44.788116803Z"
    }
   },
   "id": "f6faa028de7ea0ce"
  },
  {
   "cell_type": "code",
   "execution_count": 55,
   "outputs": [
    {
     "ename": "SyntaxError",
     "evalue": "invalid syntax (724582977.py, line 7)",
     "output_type": "error",
     "traceback": [
      "\u001B[0;36m  Cell \u001B[0;32mIn[55], line 7\u001B[0;36m\u001B[0m\n\u001B[0;31m    finally:\u001B[0m\n\u001B[0m    ^\u001B[0m\n\u001B[0;31mSyntaxError\u001B[0m\u001B[0;31m:\u001B[0m invalid syntax\n"
     ]
    }
   ],
   "source": [
    "\n",
    "x = 1\n",
    "while x < 5:\n",
    "    print('*')\n",
    "    x = x << 1\n",
    "else:\n",
    "    print(2*'*')\n",
    "finally:\n",
    "    print(3*'*')"
   ],
   "metadata": {
    "collapsed": false,
    "ExecuteTime": {
     "end_time": "2023-08-01T20:47:56.033562217Z",
     "start_time": "2023-08-01T20:47:55.975439797Z"
    }
   },
   "id": "370f9c6157c9d0c8"
  },
  {
   "cell_type": "code",
   "execution_count": 54,
   "outputs": [
    {
     "data": {
      "text/plain": "4"
     },
     "execution_count": 54,
     "metadata": {},
     "output_type": "execute_result"
    }
   ],
   "source": [
    "2 << 1"
   ],
   "metadata": {
    "collapsed": false,
    "ExecuteTime": {
     "end_time": "2023-08-01T20:47:17.471612883Z",
     "start_time": "2023-08-01T20:47:17.424085599Z"
    }
   },
   "id": "810cd8026ca31b06"
  },
  {
   "cell_type": "code",
   "execution_count": 56,
   "outputs": [
    {
     "ename": "SyntaxError",
     "evalue": "positional argument follows keyword argument (3464940865.py, line 8)",
     "output_type": "error",
     "traceback": [
      "\u001B[0;36m  Cell \u001B[0;32mIn[56], line 8\u001B[0;36m\u001B[0m\n\u001B[0;31m    print(my_func(x=2,y,z))\u001B[0m\n\u001B[0m                         ^\u001B[0m\n\u001B[0;31mSyntaxError\u001B[0m\u001B[0;31m:\u001B[0m positional argument follows keyword argument\n"
     ]
    }
   ],
   "source": [
    "x = 3\n",
    "y = 2\n",
    "z = 3\n",
    " \n",
    "def my_func(x,y,z=1):\n",
    "    return(x**y**z)\n",
    " \n",
    "print(my_func(x=2,y,z))"
   ],
   "metadata": {
    "collapsed": false,
    "ExecuteTime": {
     "end_time": "2023-08-01T20:48:26.984435393Z",
     "start_time": "2023-08-01T20:48:26.959294498Z"
    }
   },
   "id": "dd286e891bfcaf9"
  },
  {
   "cell_type": "code",
   "execution_count": 57,
   "outputs": [
    {
     "name": "stdout",
     "output_type": "stream",
     "text": [
      "C3PO\n"
     ]
    }
   ],
   "source": [
    "y = 'R2D2'\n",
    "def my_func(x):\n",
    "    global y\n",
    "    y = x\n",
    "    return y\n",
    " \n",
    "x = 'Yoda'\n",
    "my_func('C3PO')\n",
    "print(y)"
   ],
   "metadata": {
    "collapsed": false,
    "ExecuteTime": {
     "end_time": "2023-08-01T20:49:13.435410330Z",
     "start_time": "2023-08-01T20:49:13.393939065Z"
    }
   },
   "id": "8dd2489ba707dcb1"
  },
  {
   "cell_type": "code",
   "execution_count": null,
   "outputs": [],
   "source": [
    "x = 8\n",
    "while x > 0:\n",
    "    print('*')\n",
    "    x //= 2\n",
    "else:\n",
    "    print('*')"
   ],
   "metadata": {
    "collapsed": false
   },
   "id": "7521f84dd05f7f"
  },
  {
   "cell_type": "code",
   "execution_count": 63,
   "outputs": [
    {
     "name": "stdout",
     "output_type": "stream",
     "text": [
      "*\n",
      "*\n",
      "*\n",
      "*\n",
      "*\n"
     ]
    }
   ],
   "source": [
    "x = 8\n",
    "while x > 0:\n",
    "    print('*')\n",
    "    x //= 2\n",
    "    # print(x)\n",
    "else:\n",
    "    print('*')"
   ],
   "metadata": {
    "collapsed": false,
    "ExecuteTime": {
     "end_time": "2023-08-01T20:53:44.083157334Z",
     "start_time": "2023-08-01T20:53:44.063900855Z"
    }
   },
   "id": "72788272b29d7240"
  },
  {
   "cell_type": "code",
   "execution_count": 62,
   "outputs": [
    {
     "name": "stdout",
     "output_type": "stream",
     "text": [
      "4\n"
     ]
    }
   ],
   "source": [
    "x=8\n",
    "x //= 2\n",
    "print(x)"
   ],
   "metadata": {
    "collapsed": false,
    "ExecuteTime": {
     "end_time": "2023-08-01T20:53:10.446522271Z",
     "start_time": "2023-08-01T20:53:10.439405977Z"
    }
   },
   "id": "c45a4cbc1b2e6f44"
  },
  {
   "cell_type": "code",
   "execution_count": 65,
   "outputs": [
    {
     "name": "stdout",
     "output_type": "stream",
     "text": [
      "4.0\n"
     ]
    }
   ],
   "source": [
    "x = 5//2.0\n",
    "y = 5 % 3\n",
    "z = x + y\n",
    "print(z)"
   ],
   "metadata": {
    "collapsed": false,
    "ExecuteTime": {
     "end_time": "2023-08-01T20:54:50.644674274Z",
     "start_time": "2023-08-01T20:54:50.627880502Z"
    }
   },
   "id": "350d225ad1ce615c"
  },
  {
   "cell_type": "code",
   "execution_count": 64,
   "outputs": [
    {
     "data": {
      "text/plain": "2"
     },
     "execution_count": 64,
     "metadata": {},
     "output_type": "execute_result"
    }
   ],
   "source": [
    "5%3"
   ],
   "metadata": {
    "collapsed": false,
    "ExecuteTime": {
     "end_time": "2023-08-01T20:54:41.935612288Z",
     "start_time": "2023-08-01T20:54:41.911558487Z"
    }
   },
   "id": "37cc7a6957dc390e"
  },
  {
   "cell_type": "code",
   "execution_count": 66,
   "outputs": [
    {
     "data": {
      "text/plain": "2.0"
     },
     "execution_count": 66,
     "metadata": {},
     "output_type": "execute_result"
    }
   ],
   "source": [
    "5//2.0"
   ],
   "metadata": {
    "collapsed": false,
    "ExecuteTime": {
     "end_time": "2023-08-01T20:55:04.833245864Z",
     "start_time": "2023-08-01T20:55:04.786067233Z"
    }
   },
   "id": "c4032fdd4b99f64"
  },
  {
   "cell_type": "code",
   "execution_count": 67,
   "outputs": [
    {
     "name": "stdout",
     "output_type": "stream",
     "text": [
      "L\n"
     ]
    }
   ],
   "source": [
    "k = 'Luke'         # line 1\n",
    "p = 'Leia'         # line 2\n",
    "def x(k,p='-'):    # line 3\n",
    "    y = k[0]       # line 4\n",
    "    return y       # line 5\n",
    "print(x(k))        # line 6"
   ],
   "metadata": {
    "collapsed": false,
    "ExecuteTime": {
     "end_time": "2023-08-01T20:56:04.227685563Z",
     "start_time": "2023-08-01T20:56:04.186524543Z"
    }
   },
   "id": "88481220fbcad703"
  },
  {
   "cell_type": "code",
   "execution_count": 71,
   "outputs": [
    {
     "name": "stdout",
     "output_type": "stream",
     "text": [
      "618\n"
     ]
    }
   ],
   "source": [
    "x = range(3, 12, 3)\n",
    "for n in x:\n",
    "  if (n%2 == 0):\n",
    "      print(n, end='')\n",
    "  else:\n",
    "      pass\n",
    "else:\n",
    "    print(sum(x))"
   ],
   "metadata": {
    "collapsed": false,
    "ExecuteTime": {
     "end_time": "2023-08-01T20:58:55.503541305Z",
     "start_time": "2023-08-01T20:58:55.460160603Z"
    }
   },
   "id": "76ea20cb1b6b15d4"
  },
  {
   "cell_type": "code",
   "execution_count": 72,
   "outputs": [
    {
     "data": {
      "text/plain": "True"
     },
     "execution_count": 72,
     "metadata": {},
     "output_type": "execute_result"
    }
   ],
   "source": [
    "bool(4**0)"
   ],
   "metadata": {
    "collapsed": false,
    "ExecuteTime": {
     "end_time": "2023-08-01T20:59:37.387841709Z",
     "start_time": "2023-08-01T20:59:37.352244471Z"
    }
   },
   "id": "52ed1b685f976487"
  },
  {
   "cell_type": "code",
   "execution_count": 73,
   "outputs": [
    {
     "name": "stdout",
     "output_type": "stream",
     "text": [
      "2222\n"
     ]
    }
   ],
   "source": [
    "x = input()\n",
    "y = int(input())\n",
    "print(x * y)"
   ],
   "metadata": {
    "collapsed": false,
    "ExecuteTime": {
     "end_time": "2023-08-01T21:01:10.945691851Z",
     "start_time": "2023-08-01T21:01:06.888184280Z"
    }
   },
   "id": "8852f38eaa3c5615"
  },
  {
   "cell_type": "code",
   "execution_count": 77,
   "outputs": [
    {
     "name": "stdout",
     "output_type": "stream",
     "text": [
      "*\n",
      "*\n",
      "*\n",
      "*\n"
     ]
    }
   ],
   "source": [
    "x = 1\n",
    "while x < 10:\n",
    "    print('*')\n",
    "    x = x << 1"
   ],
   "metadata": {
    "collapsed": false,
    "ExecuteTime": {
     "end_time": "2023-08-01T21:04:35.994447636Z",
     "start_time": "2023-08-01T21:04:35.978416436Z"
    }
   },
   "id": "18435c932ce5339f"
  },
  {
   "cell_type": "code",
   "execution_count": 78,
   "outputs": [
    {
     "name": "stdout",
     "output_type": "stream",
     "text": [
      "1\n"
     ]
    }
   ],
   "source": [
    "def myfun(n):\n",
    "    if n%2 == 0:\n",
    "        return 0\n",
    "    else:\n",
    "        return 1 + myfun(n+1)\n",
    " \n",
    " \n",
    "print(myfun(5))"
   ],
   "metadata": {
    "collapsed": false,
    "ExecuteTime": {
     "end_time": "2023-08-01T21:05:44.207945168Z",
     "start_time": "2023-08-01T21:05:44.177895772Z"
    }
   },
   "id": "91d5034a55c36cd7"
  },
  {
   "cell_type": "code",
   "execution_count": 79,
   "outputs": [
    {
     "name": "stdout",
     "output_type": "stream",
     "text": [
      "53"
     ]
    }
   ],
   "source": [
    "for x in range(5,2,-2):\n",
    "    print(x, end='')"
   ],
   "metadata": {
    "collapsed": false,
    "ExecuteTime": {
     "end_time": "2023-08-01T21:07:04.153479685Z",
     "start_time": "2023-08-01T21:07:04.098584299Z"
    }
   },
   "id": "1e78b79ed9d6c13c"
  },
  {
   "cell_type": "code",
   "execution_count": 80,
   "outputs": [],
   "source": [
    "x = 5%2\n",
    "y = 2**0\n",
    "z = [False]"
   ],
   "metadata": {
    "collapsed": false,
    "ExecuteTime": {
     "end_time": "2023-08-01T21:08:30.371978601Z",
     "start_time": "2023-08-01T21:08:30.355941684Z"
    }
   },
   "id": "a299144903daabed"
  },
  {
   "cell_type": "code",
   "execution_count": 82,
   "outputs": [
    {
     "name": "stdout",
     "output_type": "stream",
     "text": [
      "True\n",
      "True\n",
      "True\n"
     ]
    }
   ],
   "source": [
    "print(bool(x))\n",
    "print(bool(y))\n",
    "print(bool(z))"
   ],
   "metadata": {
    "collapsed": false,
    "ExecuteTime": {
     "end_time": "2023-08-01T21:09:12.391543317Z",
     "start_time": "2023-08-01T21:09:12.348528545Z"
    }
   },
   "id": "64d148d28cc5449e"
  },
  {
   "cell_type": "code",
   "execution_count": 83,
   "outputs": [
    {
     "name": "stdout",
     "output_type": "stream",
     "text": [
      "(2,)\n"
     ]
    },
    {
     "ename": "TypeError",
     "evalue": "'list' object is not callable",
     "output_type": "error",
     "traceback": [
      "\u001B[0;31m---------------------------------------------------------------------------\u001B[0m",
      "\u001B[0;31mTypeError\u001B[0m                                 Traceback (most recent call last)",
      "Cell \u001B[0;32mIn[83], line 4\u001B[0m\n\u001B[1;32m      2\u001B[0m List \u001B[38;5;241m=\u001B[39m List[\u001B[38;5;241m1\u001B[39m:\u001B[38;5;241m-\u001B[39m\u001B[38;5;241m2\u001B[39m]\n\u001B[1;32m      3\u001B[0m \u001B[38;5;28mprint\u001B[39m(List)\n\u001B[0;32m----> 4\u001B[0m List \u001B[38;5;241m=\u001B[39m \u001B[38;5;28;43mlist\u001B[39;49m\u001B[43m(\u001B[49m\u001B[43mList\u001B[49m\u001B[43m)\u001B[49m\n\u001B[1;32m      5\u001B[0m \u001B[38;5;28mprint\u001B[39m(List)\n",
      "\u001B[0;31mTypeError\u001B[0m: 'list' object is not callable"
     ]
    }
   ],
   "source": [
    "List = (1, 2, 4, 8)\n",
    "List = List[1:-2]\n",
    "print(List)\n",
    "List = list(List)\n",
    "print(List)"
   ],
   "metadata": {
    "collapsed": false,
    "ExecuteTime": {
     "end_time": "2023-08-01T21:10:37.028566658Z",
     "start_time": "2023-08-01T21:10:36.999105981Z"
    }
   },
   "id": "c7b6d4165b927ca7"
  },
  {
   "cell_type": "code",
   "execution_count": 84,
   "outputs": [
    {
     "name": "stdout",
     "output_type": "stream",
     "text": [
      "0\n"
     ]
    }
   ],
   "source": [
    "z = 3\n",
    "y = 7\n",
    "x = y == z and y > z or z > y and z != y\n",
    "print(int(x))"
   ],
   "metadata": {
    "collapsed": false,
    "ExecuteTime": {
     "end_time": "2023-08-01T21:14:55.450059340Z",
     "start_time": "2023-08-01T21:14:55.392395655Z"
    }
   },
   "id": "e7e5ab50e08ecf0c"
  },
  {
   "cell_type": "code",
   "execution_count": 86,
   "outputs": [
    {
     "name": "stdout",
     "output_type": "stream",
     "text": [
      "4\n"
     ]
    }
   ],
   "source": [
    "\n",
    "countries1 = ['France', 'USA', 'Italy']\n",
    "countries2 = countries1\n",
    "countries3 = countries1[:]\n",
    " \n",
    "countries2[0] = 'England'\n",
    "countries3[1] = 'Canada'\n",
    " \n",
    "res = 0\n",
    " \n",
    "for i in (countries1, countries2, countries3):\n",
    "    if i[0] == 'England':\n",
    "        res += 1\n",
    "    if i[1] == 'Canada':\n",
    "        res += 2\n",
    " \n",
    "print(res)"
   ],
   "metadata": {
    "collapsed": false,
    "ExecuteTime": {
     "end_time": "2023-08-01T21:16:58.583782791Z",
     "start_time": "2023-08-01T21:16:58.539768600Z"
    }
   },
   "id": "3e042d43c57f8a65"
  },
  {
   "cell_type": "code",
   "execution_count": 85,
   "outputs": [
    {
     "name": "stdout",
     "output_type": "stream",
     "text": [
      "['France', 'USA', 'Italy']\n"
     ]
    }
   ],
   "source": [
    "countries1 = ['France', 'USA', 'Italy']\n",
    "countries2 = countries1\n",
    "countries3 = countries1[:]\n",
    "print(countries3)"
   ],
   "metadata": {
    "collapsed": false,
    "ExecuteTime": {
     "end_time": "2023-08-01T21:15:59.713313374Z",
     "start_time": "2023-08-01T21:15:59.665502624Z"
    }
   },
   "id": "1b0d7a43374ca97"
  },
  {
   "cell_type": "code",
   "execution_count": 88,
   "outputs": [
    {
     "ename": "ValueError",
     "evalue": "invalid literal for int() with base 10: '3.1'",
     "output_type": "error",
     "traceback": [
      "\u001B[0;31m---------------------------------------------------------------------------\u001B[0m",
      "\u001B[0;31mValueError\u001B[0m                                Traceback (most recent call last)",
      "Cell \u001B[0;32mIn[88], line 2\u001B[0m\n\u001B[1;32m      1\u001B[0m x \u001B[38;5;241m=\u001B[39m \u001B[38;5;28minput\u001B[39m(\u001B[38;5;124m\"\u001B[39m\u001B[38;5;124mEnter number : \u001B[39m\u001B[38;5;124m\"\u001B[39m)\n\u001B[0;32m----> 2\u001B[0m \u001B[38;5;28mprint\u001B[39m(\u001B[38;5;28;43mint\u001B[39;49m\u001B[43m(\u001B[49m\u001B[43mx\u001B[49m\u001B[43m)\u001B[49m)\n",
      "\u001B[0;31mValueError\u001B[0m: invalid literal for int() with base 10: '3.1'"
     ]
    }
   ],
   "source": [
    "x = input(\"Enter number : \")\n",
    "print(int(x))"
   ],
   "metadata": {
    "collapsed": false,
    "ExecuteTime": {
     "end_time": "2023-08-01T21:19:06.915231435Z",
     "start_time": "2023-08-01T21:19:00.621505099Z"
    }
   },
   "id": "a8ff7b89f51816ad"
  },
  {
   "cell_type": "code",
   "execution_count": 90,
   "outputs": [
    {
     "name": "stdout",
     "output_type": "stream",
     "text": [
      "True\n"
     ]
    },
    {
     "ename": "TypeError",
     "evalue": "'list' object is not callable",
     "output_type": "error",
     "traceback": [
      "\u001B[0;31m---------------------------------------------------------------------------\u001B[0m",
      "\u001B[0;31mTypeError\u001B[0m                                 Traceback (most recent call last)",
      "Cell \u001B[0;32mIn[90], line 12\u001B[0m\n\u001B[1;32m      3\u001B[0m \u001B[38;5;28mprint\u001B[39m(\u001B[38;5;28mrange\u001B[39m(\u001B[38;5;241m0\u001B[39m, \u001B[38;5;241m3\u001B[39m, \u001B[38;5;241m2\u001B[39m) \u001B[38;5;241m==\u001B[39m \u001B[38;5;28mrange\u001B[39m(\u001B[38;5;241m0\u001B[39m, \u001B[38;5;241m4\u001B[39m, \u001B[38;5;241m2\u001B[39m))    \u001B[38;5;66;03m# True\u001B[39;00m\n\u001B[1;32m      5\u001B[0m \u001B[38;5;66;03m# range(0) is an empty sequence, so list(range(0)) == []\u001B[39;00m\n\u001B[1;32m      6\u001B[0m \u001B[38;5;66;03m#print(list(range(0)) == [0])    # False\u001B[39;00m\n\u001B[1;32m      7\u001B[0m  \n\u001B[0;32m   (...)\u001B[0m\n\u001B[1;32m     10\u001B[0m  \n\u001B[1;32m     11\u001B[0m \u001B[38;5;66;03m# stop and step can be negative integers\u001B[39;00m\n\u001B[0;32m---> 12\u001B[0m \u001B[38;5;28mprint\u001B[39m(\u001B[38;5;28;43mlist\u001B[39;49m\u001B[43m(\u001B[49m\u001B[38;5;28;43mrange\u001B[39;49m\u001B[43m(\u001B[49m\u001B[38;5;241;43m0\u001B[39;49m\u001B[43m,\u001B[49m\u001B[43m \u001B[49m\u001B[38;5;241;43m-\u001B[39;49m\u001B[38;5;241;43m10\u001B[39;49m\u001B[43m,\u001B[49m\u001B[43m \u001B[49m\u001B[38;5;241;43m-\u001B[39;49m\u001B[38;5;241;43m1\u001B[39;49m\u001B[43m)\u001B[49m\u001B[43m)\u001B[49m \u001B[38;5;241m==\u001B[39m [\u001B[38;5;241m0\u001B[39m, \u001B[38;5;241m-\u001B[39m\u001B[38;5;241m1\u001B[39m, \u001B[38;5;241m-\u001B[39m\u001B[38;5;241m2\u001B[39m, \u001B[38;5;241m-\u001B[39m\u001B[38;5;241m3\u001B[39m, \u001B[38;5;241m-\u001B[39m\u001B[38;5;241m4\u001B[39m, \u001B[38;5;241m-\u001B[39m\u001B[38;5;241m5\u001B[39m, \u001B[38;5;241m-\u001B[39m\u001B[38;5;241m6\u001B[39m, \u001B[38;5;241m-\u001B[39m\u001B[38;5;241m7\u001B[39m, \u001B[38;5;241m-\u001B[39m\u001B[38;5;241m8\u001B[39m, \u001B[38;5;241m-\u001B[39m\u001B[38;5;241m9\u001B[39m])\n",
      "\u001B[0;31mTypeError\u001B[0m: 'list' object is not callable"
     ]
    }
   ],
   "source": [
    "# range(0, 3, 2) is a sequence of 0,2 \n",
    "# same with range(0, 4, 2)\n",
    "print(range(0, 3, 2) == range(0, 4, 2))    # True\n",
    " \n",
    "# range(0) is an empty sequence, so list(range(0)) == []\n",
    "#print(list(range(0)) == [0])    # False\n",
    " \n",
    "# range(10) does not return a list\n",
    "#print(range(10) == [0, 1, 2, 3, 4, 5, 6, 7, 8, 9])    # False\n",
    " \n",
    "# stop and step can be negative integers\n",
    "print(list(range(0, -10, -1)) == [0, -1, -2, -3, -4, -5, -6, -7, -8, -9])  # True"
   ],
   "metadata": {
    "collapsed": false,
    "ExecuteTime": {
     "end_time": "2023-08-01T21:20:47.685569168Z",
     "start_time": "2023-08-01T21:20:47.668023530Z"
    }
   },
   "id": "4cc2bf400d471795"
  },
  {
   "cell_type": "code",
   "execution_count": null,
   "outputs": [],
   "source": [],
   "metadata": {
    "collapsed": false
   },
   "id": "bf53f1b86e135601"
  }
 ],
 "metadata": {
  "kernelspec": {
   "display_name": "Python 3",
   "language": "python",
   "name": "python3"
  },
  "language_info": {
   "codemirror_mode": {
    "name": "ipython",
    "version": 2
   },
   "file_extension": ".py",
   "mimetype": "text/x-python",
   "name": "python",
   "nbconvert_exporter": "python",
   "pygments_lexer": "ipython2",
   "version": "2.7.6"
  }
 },
 "nbformat": 4,
 "nbformat_minor": 5
}

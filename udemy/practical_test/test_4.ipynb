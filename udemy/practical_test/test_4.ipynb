{
 "cells": [
  {
   "cell_type": "code",
   "execution_count": 9,
   "id": "initial_id",
   "metadata": {
    "collapsed": true,
    "ExecuteTime": {
     "end_time": "2023-08-01T17:48:05.820368989Z",
     "start_time": "2023-08-01T17:48:05.812214331Z"
    }
   },
   "outputs": [
    {
     "data": {
      "text/plain": "24"
     },
     "execution_count": 9,
     "metadata": {},
     "output_type": "execute_result"
    }
   ],
   "source": [
    "from math import factorial\n",
    "factorial(4)"
   ]
  },
  {
   "cell_type": "code",
   "execution_count": 6,
   "outputs": [
    {
     "name": "stdout",
     "output_type": "stream",
     "text": [
      "Alpha\n"
     ]
    }
   ],
   "source": [
    "class Alpha:\n",
    "    A=0\n",
    "    def __init__(self):\n",
    "        self.a = 2\n",
    " \n",
    "class Beta(Alpha):\n",
    "    B=1\n",
    "    def set(self):\n",
    "        self.a +=1\n",
    " \n",
    "print(Beta.__bases__[0].__name__)"
   ],
   "metadata": {
    "collapsed": false,
    "ExecuteTime": {
     "end_time": "2023-08-01T17:44:46.203922762Z",
     "start_time": "2023-08-01T17:44:46.155629277Z"
    }
   },
   "id": "eb3dab3ca1c64a7"
  },
  {
   "cell_type": "code",
   "execution_count": 7,
   "outputs": [
    {
     "name": "stdout",
     "output_type": "stream",
     "text": [
      "Value is out of range 133 "
     ]
    }
   ],
   "source": [
    "class NotInRangeError(Exception):\n",
    "    def __init__(self, val, message=\"Value is out of range\"):\n",
    "        self.val = val\n",
    "        self.message = message\n",
    "        super().__init__(self.message, self.val)\n",
    " \n",
    "try:\n",
    "    guess = int(input(\"Enter integer between 0 and 100: \"))\n",
    "    if not 0 <= guess <= 100:\n",
    "        raise NotInRangeError(guess)\n",
    "except Exception as ex:\n",
    "    for arg in ex.args:\n",
    "        print(arg, end=' ')"
   ],
   "metadata": {
    "collapsed": false,
    "ExecuteTime": {
     "end_time": "2023-08-01T17:46:49.204898461Z",
     "start_time": "2023-08-01T17:46:46.190127373Z"
    }
   },
   "id": "7e0cb203d4c22d54"
  },
  {
   "cell_type": "code",
   "execution_count": 10,
   "outputs": [
    {
     "ename": "SyntaxError",
     "evalue": "default 'except:' must be last (833688576.py, line 5)",
     "output_type": "error",
     "traceback": [
      "\u001B[0;36m  Cell \u001B[0;32mIn[10], line 5\u001B[0;36m\u001B[0m\n\u001B[0;31m    except:\u001B[0m\n\u001B[0m    ^\u001B[0m\n\u001B[0;31mSyntaxError\u001B[0m\u001B[0;31m:\u001B[0m default 'except:' must be last\n"
     ]
    }
   ],
   "source": [
    "from math import factorial\n",
    " \n",
    "try:\n",
    "    print(factorial(-4))\n",
    "except:\n",
    "    print(\"Error #1\")\n",
    "except ValueError:\n",
    "    print(\"Error #2\")"
   ],
   "metadata": {
    "collapsed": false,
    "ExecuteTime": {
     "end_time": "2023-08-01T17:48:20.627702625Z",
     "start_time": "2023-08-01T17:48:20.583180408Z"
    }
   },
   "id": "1ee98235e725bf97"
  },
  {
   "cell_type": "code",
   "execution_count": 12,
   "outputs": [
    {
     "name": "stdout",
     "output_type": "stream",
     "text": [
      "20\n",
      "22\n"
     ]
    }
   ],
   "source": [
    "my_text = \"Osaka is a city in Japan\"\n",
    "print(my_text.rfind('a', 3, -3))\n",
    "print(my_text.rfind('a'))"
   ],
   "metadata": {
    "collapsed": false,
    "ExecuteTime": {
     "end_time": "2023-08-01T17:52:54.431345676Z",
     "start_time": "2023-08-01T17:52:54.388722654Z"
    }
   },
   "id": "b1e10a2629bcf822"
  },
  {
   "cell_type": "code",
   "execution_count": 13,
   "outputs": [
    {
     "name": "stdout",
     "output_type": "stream",
     "text": [
      "1\n"
     ]
    }
   ],
   "source": [
    "class Alpha:\n",
    "    def __init__(self, val):\n",
    "        self.x = val\n",
    " \n",
    "class Beta(Alpha):\n",
    "    pass\n",
    " \n",
    "class Gamma:\n",
    "    def __init__(self, val):\n",
    "        self.x = val+1\n",
    " \n",
    "class Omega(Gamma):\n",
    "    def __init__(self, val):\n",
    "        super().__init__(val+1)\n",
    " \n",
    "class Kappa(Beta,Omega):\n",
    "    pass\n",
    " \n",
    "k=Kappa(1)\n",
    "print(k.x)"
   ],
   "metadata": {
    "collapsed": false,
    "ExecuteTime": {
     "end_time": "2023-08-01T17:54:37.827475510Z",
     "start_time": "2023-08-01T17:54:37.783936657Z"
    }
   },
   "id": "c97f53c47178b2b5"
  },
  {
   "cell_type": "code",
   "execution_count": 14,
   "outputs": [
    {
     "ename": "TypeError",
     "evalue": "'str' object does not support item assignment",
     "output_type": "error",
     "traceback": [
      "\u001B[0;31m---------------------------------------------------------------------------\u001B[0m",
      "\u001B[0;31mTypeError\u001B[0m                                 Traceback (most recent call last)",
      "Cell \u001B[0;32mIn[14], line 4\u001B[0m\n\u001B[1;32m      1\u001B[0m pwd\u001B[38;5;241m=\u001B[39m\u001B[38;5;28minput\u001B[39m(\u001B[38;5;124m\"\u001B[39m\u001B[38;5;124mEnter a password:\u001B[39m\u001B[38;5;124m\"\u001B[39m)\n\u001B[1;32m      3\u001B[0m \u001B[38;5;28;01mif\u001B[39;00m pwd\u001B[38;5;241m.\u001B[39misalpha():\n\u001B[0;32m----> 4\u001B[0m     pwd[\u001B[38;5;241m-\u001B[39m\u001B[38;5;241m1\u001B[39m]\u001B[38;5;241m=\u001B[39m\u001B[38;5;124m\"\u001B[39m\u001B[38;5;124mA\u001B[39m\u001B[38;5;124m\"\u001B[39m\n\u001B[1;32m      5\u001B[0m     \u001B[38;5;28mprint\u001B[39m(pwd)\n\u001B[1;32m      6\u001B[0m \u001B[38;5;28;01melif\u001B[39;00m pwd\u001B[38;5;241m.\u001B[39misalnum():\n",
      "\u001B[0;31mTypeError\u001B[0m: 'str' object does not support item assignment"
     ]
    }
   ],
   "source": [
    "pwd=input(\"Enter a password:\")\n",
    " \n",
    "if pwd.isalpha():\n",
    "    pwd[-1]=\"A\"\n",
    "    print(pwd)\n",
    "elif pwd.isalnum():\n",
    "    pwd[-1]=\"N\"\n",
    "    print(pwd)\n",
    "else:\n",
    "    print(\"Password must be alphanumeric.\")"
   ],
   "metadata": {
    "collapsed": false,
    "ExecuteTime": {
     "end_time": "2023-08-01T17:55:29.931336033Z",
     "start_time": "2023-08-01T17:55:25.158066382Z"
    }
   },
   "id": "8505918c952d5f99"
  },
  {
   "cell_type": "code",
   "execution_count": 15,
   "outputs": [
    {
     "ename": "TypeError",
     "evalue": "'str' object does not support item assignment",
     "output_type": "error",
     "traceback": [
      "\u001B[0;31m---------------------------------------------------------------------------\u001B[0m",
      "\u001B[0;31mTypeError\u001B[0m                                 Traceback (most recent call last)",
      "Cell \u001B[0;32mIn[15], line 2\u001B[0m\n\u001B[1;32m      1\u001B[0m pwd \u001B[38;5;241m=\u001B[39m \u001B[38;5;124m'\u001B[39m\u001B[38;5;124mRAT\u001B[39m\u001B[38;5;124m'\u001B[39m\n\u001B[0;32m----> 2\u001B[0m pwd[\u001B[38;5;241m-\u001B[39m\u001B[38;5;241m1\u001B[39m] \u001B[38;5;241m=\u001B[39m \u001B[38;5;124m'\u001B[39m\u001B[38;5;124mE\u001B[39m\u001B[38;5;124m'\u001B[39m\n",
      "\u001B[0;31mTypeError\u001B[0m: 'str' object does not support item assignment"
     ]
    }
   ],
   "source": [
    "pwd = 'RAT'\n",
    "pwd[-1] = 'E'"
   ],
   "metadata": {
    "collapsed": false,
    "ExecuteTime": {
     "end_time": "2023-08-01T17:56:14.062425474Z",
     "start_time": "2023-08-01T17:56:14.016767264Z"
    }
   },
   "id": "a77c91ea5af2359d"
  },
  {
   "cell_type": "code",
   "execution_count": 18,
   "outputs": [
    {
     "name": "stdout",
     "output_type": "stream",
     "text": [
      "2\n"
     ]
    }
   ],
   "source": [
    "class Alpha:\n",
    "    A=0\n",
    "    def __init__(self, x):\n",
    "        self.k = x\n",
    " \n",
    "class Kappa(Alpha):\n",
    "    K=1\n",
    "    def __init__(self, x):\n",
    "        self.k = x + 1\n",
    "        super().__init__(x-1)\n",
    " \n",
    "class Gamma:\n",
    "    G = 2\n",
    "    def __init__(self, x):\n",
    "        self.k = x + 2\n",
    " \n",
    "class Omega(Kappa,Gamma):\n",
    "    O = 3\n",
    " \n",
    "o=Omega(3)\n",
    "print(o.k)\n"
   ],
   "metadata": {
    "collapsed": false,
    "ExecuteTime": {
     "end_time": "2023-08-01T17:58:33.579733838Z",
     "start_time": "2023-08-01T17:58:33.536438682Z"
    }
   },
   "id": "cd04fd2605c4461d"
  },
  {
   "cell_type": "code",
   "execution_count": 21,
   "outputs": [
    {
     "data": {
      "text/plain": "True"
     },
     "execution_count": 21,
     "metadata": {},
     "output_type": "execute_result"
    }
   ],
   "source": [
    "'12' < '4'"
   ],
   "metadata": {
    "collapsed": false,
    "ExecuteTime": {
     "end_time": "2023-08-01T18:01:38.559596663Z",
     "start_time": "2023-08-01T18:01:38.516398109Z"
    }
   },
   "id": "2610bde61db277de"
  },
  {
   "cell_type": "code",
   "execution_count": null,
   "outputs": [],
   "source": [
    "class A:\n",
    "    a=1\n",
    "    def __init__(self, x=0):\n",
    "        self.b = x\n",
    " \n",
    "class B(A):\n",
    "    c = 0\n",
    "    def __str__(self):\n",
    "        return \"B\"\n",
    " \n",
    "class C(B):\n",
    "    d = 0\n",
    " \n",
    "beta = B(3)\n",
    "beta.d = 2"
   ],
   "metadata": {
    "collapsed": false
   },
   "id": "fd2220247e7385f5"
  },
  {
   "cell_type": "code",
   "execution_count": 22,
   "outputs": [],
   "source": [
    "class A:\n",
    "    a=1\n",
    "    def __init__(self, x=0):\n",
    "        self.b = x\n",
    " \n",
    "class B(A):\n",
    "    c = 0\n",
    "    def __str__(self):\n",
    "        return \"B\"\n",
    " \n",
    "class C(B):\n",
    "    d = 0\n",
    " \n",
    "beta = B(3)\n",
    "beta.d = 2"
   ],
   "metadata": {
    "collapsed": false,
    "ExecuteTime": {
     "end_time": "2023-08-01T18:03:44.928350028Z",
     "start_time": "2023-08-01T18:03:44.887063270Z"
    }
   },
   "id": "604521e16db1ff86"
  },
  {
   "cell_type": "code",
   "execution_count": 23,
   "outputs": [
    {
     "data": {
      "text/plain": "False"
     },
     "execution_count": 23,
     "metadata": {},
     "output_type": "execute_result"
    }
   ],
   "source": [
    "issubclass(A, B)"
   ],
   "metadata": {
    "collapsed": false,
    "ExecuteTime": {
     "end_time": "2023-08-01T18:03:55.255724579Z",
     "start_time": "2023-08-01T18:03:55.235733142Z"
    }
   },
   "id": "3d0f62309f3df079"
  },
  {
   "cell_type": "code",
   "execution_count": 24,
   "outputs": [
    {
     "data": {
      "text/plain": "False"
     },
     "execution_count": 24,
     "metadata": {},
     "output_type": "execute_result"
    }
   ],
   "source": [
    "isinstance(beta, C)"
   ],
   "metadata": {
    "collapsed": false,
    "ExecuteTime": {
     "end_time": "2023-08-01T18:04:06.607022905Z",
     "start_time": "2023-08-01T18:04:06.568094511Z"
    }
   },
   "id": "de4fa187fc7892ea"
  },
  {
   "cell_type": "code",
   "execution_count": 25,
   "outputs": [
    {
     "data": {
      "text/plain": "False"
     },
     "execution_count": 25,
     "metadata": {},
     "output_type": "execute_result"
    }
   ],
   "source": [
    "'c' in beta.__dict__.keys()"
   ],
   "metadata": {
    "collapsed": false,
    "ExecuteTime": {
     "end_time": "2023-08-01T18:04:23.628753217Z",
     "start_time": "2023-08-01T18:04:23.586063468Z"
    }
   },
   "id": "3f66ad0dcccbee43"
  },
  {
   "cell_type": "code",
   "execution_count": 26,
   "outputs": [
    {
     "data": {
      "text/plain": "True"
     },
     "execution_count": 26,
     "metadata": {},
     "output_type": "execute_result"
    }
   ],
   "source": [
    "hasattr(B, 'a')"
   ],
   "metadata": {
    "collapsed": false,
    "ExecuteTime": {
     "end_time": "2023-08-01T18:04:34.238166969Z",
     "start_time": "2023-08-01T18:04:34.211765132Z"
    }
   },
   "id": "95457ac75b30f60c"
  },
  {
   "cell_type": "code",
   "execution_count": 27,
   "outputs": [
    {
     "data": {
      "text/plain": "True"
     },
     "execution_count": 27,
     "metadata": {},
     "output_type": "execute_result"
    }
   ],
   "source": [
    "hasattr(A, 'a')"
   ],
   "metadata": {
    "collapsed": false,
    "ExecuteTime": {
     "end_time": "2023-08-01T18:05:06.835358425Z",
     "start_time": "2023-08-01T18:05:06.791234607Z"
    }
   },
   "id": "c407f18198ffa3bc"
  },
  {
   "cell_type": "code",
   "execution_count": 28,
   "outputs": [
    {
     "ename": "AttributeError",
     "evalue": "'Y' object has no attribute '__x'",
     "output_type": "error",
     "traceback": [
      "\u001B[0;31m---------------------------------------------------------------------------\u001B[0m",
      "\u001B[0;31mAttributeError\u001B[0m                            Traceback (most recent call last)",
      "Cell \u001B[0;32mIn[28], line 10\u001B[0m\n\u001B[1;32m      7\u001B[0m         X\u001B[38;5;241m.\u001B[39m\u001B[38;5;21m__init__\u001B[39m(\u001B[38;5;28mself\u001B[39m,val\u001B[38;5;241m+\u001B[39m\u001B[38;5;241m1\u001B[39m)\n\u001B[1;32m      9\u001B[0m y\u001B[38;5;241m=\u001B[39m Y(\u001B[38;5;241m1\u001B[39m)\n\u001B[0;32m---> 10\u001B[0m \u001B[38;5;28mprint\u001B[39m(\u001B[43my\u001B[49m\u001B[38;5;241;43m.\u001B[39;49m\u001B[43m__x\u001B[49m)\n",
      "\u001B[0;31mAttributeError\u001B[0m: 'Y' object has no attribute '__x'"
     ]
    }
   ],
   "source": [
    "class X:\n",
    "    def __init__(self,val):\n",
    "        self.__x = val + 1\n",
    " \n",
    "class Y(X):\n",
    "    def __init__(self,val):\n",
    "        X.__init__(self,val+1)\n",
    " \n",
    "y= Y(1)\n",
    "print(y.__x)"
   ],
   "metadata": {
    "collapsed": false,
    "ExecuteTime": {
     "end_time": "2023-08-01T18:09:12.664033328Z",
     "start_time": "2023-08-01T18:09:12.620338531Z"
    }
   },
   "id": "520a22cfc5cb2e64"
  },
  {
   "cell_type": "code",
   "execution_count": 32,
   "outputs": [
    {
     "name": "stdout",
     "output_type": "stream",
     "text": [
      "3\n"
     ]
    }
   ],
   "source": [
    "class B:\n",
    "    a=0\n",
    "    def __init__(self, x=0):\n",
    "        self.b = x\n",
    "        B.a +=1\n",
    " \n",
    "class A(B):\n",
    "    c=0\n",
    " \n",
    "a = B()\n",
    "b = B(2)\n",
    "c = B(3)\n",
    " \n",
    "print(A.a)"
   ],
   "metadata": {
    "collapsed": false,
    "ExecuteTime": {
     "end_time": "2023-08-01T18:11:35.248504163Z",
     "start_time": "2023-08-01T18:11:35.233376867Z"
    }
   },
   "id": "19235a8358e29c38"
  },
  {
   "cell_type": "code",
   "execution_count": 33,
   "outputs": [
    {
     "name": "stdout",
     "output_type": "stream",
     "text": [
      "Error 3\n"
     ]
    }
   ],
   "source": [
    "try:\n",
    "    y,x = [5,2],[]    \n",
    "    assert x\n",
    "    y[3]=1 \n",
    "    print(y)    \n",
    "except IndexError:\n",
    "    print(\"Error 1\")\n",
    "except LookupError:\n",
    "    print(\"Error 2\")\n",
    "except:\n",
    "    print(\"Error 3\")"
   ],
   "metadata": {
    "collapsed": false,
    "ExecuteTime": {
     "end_time": "2023-08-01T18:13:15.007323756Z",
     "start_time": "2023-08-01T18:13:14.962778172Z"
    }
   },
   "id": "bccfa1985d07d493"
  },
  {
   "cell_type": "code",
   "execution_count": 34,
   "outputs": [
    {
     "name": "stdout",
     "output_type": "stream",
     "text": [
      "['beautiful', 'Paris', 'city', 'is', 'a']\n"
     ]
    }
   ],
   "source": [
    "my_list = sorted(\"Paris is a beautiful city\".split(),key = lambda x: len(x), reverse= True)\n",
    "print(my_list) \n"
   ],
   "metadata": {
    "collapsed": false,
    "ExecuteTime": {
     "end_time": "2023-08-01T18:14:29.191430071Z",
     "start_time": "2023-08-01T18:14:29.148417255Z"
    }
   },
   "id": "62e511370d105508"
  },
  {
   "cell_type": "code",
   "execution_count": null,
   "outputs": [],
   "source": [
    "\n",
    "def f(x):\n",
    "    def g(y):\n",
    "        return 2*x + y\n",
    "    return g\n",
    " \n",
    "k = f(3)\n",
    "print(k(4))"
   ],
   "metadata": {
    "collapsed": false
   },
   "id": "2467ca9e4d9eb4a9"
  },
  {
   "cell_type": "code",
   "execution_count": 35,
   "outputs": [
    {
     "name": "stdout",
     "output_type": "stream",
     "text": [
      "10\n"
     ]
    }
   ],
   "source": [
    "def f(x):\n",
    "    def g(y):\n",
    "        return 2*x + y\n",
    "    return g\n",
    " \n",
    "k = f(3)\n",
    "print(k(4))"
   ],
   "metadata": {
    "collapsed": false,
    "ExecuteTime": {
     "end_time": "2023-08-01T18:18:45.267270539Z",
     "start_time": "2023-08-01T18:18:45.220518384Z"
    }
   },
   "id": "54e2cb67a7f7e312"
  },
  {
   "cell_type": "code",
   "execution_count": 36,
   "outputs": [
    {
     "name": "stdout",
     "output_type": "stream",
     "text": [
      "Done\n"
     ]
    }
   ],
   "source": [
    "import errno\n",
    " \n",
    "try:\n",
    "    data = open(\"myfile.txt\", \"w\")\n",
    "    data.close()\n",
    "    print(\"Done\")\n",
    "except IOError as e:\n",
    "    if e.errno == errno.ENOENT:\n",
    "        print(\"A\")\n",
    "    elif e.errno == errno.EMFILE:\n",
    "        print(\"B\")\n",
    "    elif e.errno == errno.EACCES:\n",
    "        print(\"C\")\n",
    "    else:\n",
    "        print(\"D\")"
   ],
   "metadata": {
    "collapsed": false,
    "ExecuteTime": {
     "end_time": "2023-08-01T18:19:42.341052808Z",
     "start_time": "2023-08-01T18:19:42.297255055Z"
    }
   },
   "id": "ed951bc4e94d8d92"
  },
  {
   "cell_type": "code",
   "execution_count": 38,
   "outputs": [
    {
     "name": "stdout",
     "output_type": "stream",
     "text": [
      "ArithmeticError\n"
     ]
    }
   ],
   "source": [
    "def func(x,y):\n",
    "    return x/(y-4)\n",
    " \n",
    "try:\n",
    "    print(func(x=1,4))\n",
    "except ArithmeticError:\n",
    "    print(\"ArithmeticError\")\n",
    "except ZeroDivisionError:\n",
    "    print(\"ZeroDivisionError\")\n",
    "except:\n",
    "    print(\"Misc. Error\")"
   ],
   "metadata": {
    "collapsed": false,
    "ExecuteTime": {
     "end_time": "2023-08-01T18:22:21.747359055Z",
     "start_time": "2023-08-01T18:22:21.702235492Z"
    }
   },
   "id": "545fbec8d7bc3c49"
  },
  {
   "cell_type": "code",
   "execution_count": 42,
   "outputs": [
    {
     "name": "stdout",
     "output_type": "stream",
     "text": [
      "5 6\n"
     ]
    }
   ],
   "source": [
    "class Alpha:\n",
    "    def __init__(self, val):\n",
    "        self.a = val\n",
    " \n",
    "class Beta(Alpha):\n",
    "    def __init__(self, x, y):\n",
    "        super().__init__(x)\n",
    "        self.b = y + 1\n",
    " \n",
    " \n",
    "b = Beta(5,5)\n",
    "print(b.a, b.b)"
   ],
   "metadata": {
    "collapsed": false,
    "ExecuteTime": {
     "end_time": "2023-08-01T18:26:20.979781691Z",
     "start_time": "2023-08-01T18:26:20.936019991Z"
    }
   },
   "id": "cc18a0f1676886dd"
  },
  {
   "cell_type": "code",
   "execution_count": 43,
   "outputs": [
    {
     "name": "stdout",
     "output_type": "stream",
     "text": [
      "5\n"
     ]
    }
   ],
   "source": [
    "from math import ceil\n",
    " \n",
    "def func(g,x):\n",
    "    return g(x) + 1\n",
    "    \n",
    "print(func(lambda x: ceil(x),3.2))"
   ],
   "metadata": {
    "collapsed": false,
    "ExecuteTime": {
     "end_time": "2023-08-01T18:27:21.609836573Z",
     "start_time": "2023-08-01T18:27:21.574365500Z"
    }
   },
   "id": "ca5c22fc3f2949a1"
  },
  {
   "cell_type": "code",
   "execution_count": 44,
   "outputs": [
    {
     "name": "stdout",
     "output_type": "stream",
     "text": [
      "2\n"
     ]
    }
   ],
   "source": [
    "my_str = '''\n",
    "#'''\n",
    " \n",
    "print(len(my_str))"
   ],
   "metadata": {
    "collapsed": false,
    "ExecuteTime": {
     "end_time": "2023-08-01T18:29:45.531336550Z",
     "start_time": "2023-08-01T18:29:45.481741907Z"
    }
   },
   "id": "825688fc7d8f2aaa"
  },
  {
   "cell_type": "code",
   "execution_count": 45,
   "outputs": [
    {
     "name": "stdout",
     "output_type": "stream",
     "text": [
      "3\n"
     ]
    }
   ],
   "source": [
    "class H:\n",
    "    def __init__(self,x=0):\n",
    "        self.h = x\n",
    "    def set(self):\n",
    "        self.h +=1\n",
    " \n",
    "h1=H(1)\n",
    "h2=h1\n",
    "h2.set()\n",
    "h1.set()\n",
    "print(h2.h)"
   ],
   "metadata": {
    "collapsed": false,
    "ExecuteTime": {
     "end_time": "2023-08-01T18:30:38.241364131Z",
     "start_time": "2023-08-01T18:30:38.191888709Z"
    }
   },
   "id": "7689bd3bda0ef5d7"
  },
  {
   "cell_type": "code",
   "execution_count": 46,
   "outputs": [
    {
     "name": "stdout",
     "output_type": "stream",
     "text": [
      "y\n"
     ]
    }
   ],
   "source": [
    "print(max(\"I love Python!\"))"
   ],
   "metadata": {
    "collapsed": false,
    "ExecuteTime": {
     "end_time": "2023-08-01T18:31:45.875870126Z",
     "start_time": "2023-08-01T18:31:45.827680920Z"
    }
   },
   "id": "abe84e2c59765a69"
  },
  {
   "cell_type": "code",
   "execution_count": 47,
   "outputs": [
    {
     "data": {
      "text/plain": "0"
     },
     "execution_count": 47,
     "metadata": {},
     "output_type": "execute_result"
    }
   ],
   "source": [
    "3%3"
   ],
   "metadata": {
    "collapsed": false,
    "ExecuteTime": {
     "end_time": "2023-08-01T18:33:48.050368816Z",
     "start_time": "2023-08-01T18:33:48.002986849Z"
    }
   },
   "id": "4123e47a3c701323"
  },
  {
   "cell_type": "code",
   "execution_count": 48,
   "outputs": [
    {
     "name": "stdout",
     "output_type": "stream",
     "text": [
      "6\n"
     ]
    }
   ],
   "source": [
    "class Class1:\n",
    "    def __init__(self):\n",
    "        self.a = 4\n",
    " \n",
    "    def set(self):\n",
    "        self.a += 1\n",
    "        return self.a\n",
    " \n",
    "class Class2(Class1):\n",
    "    def set(self):\n",
    "        self.a += 2\n",
    "        return self.a\n",
    " \n",
    "c=Class2()\n",
    "print(c.set())"
   ],
   "metadata": {
    "collapsed": false,
    "ExecuteTime": {
     "end_time": "2023-08-01T18:35:11.967863895Z",
     "start_time": "2023-08-01T18:35:11.920513008Z"
    }
   },
   "id": "1e6e96bd0bb6bae7"
  },
  {
   "cell_type": "code",
   "execution_count": 49,
   "outputs": [
    {
     "data": {
      "text/plain": "3.605551275463989"
     },
     "execution_count": 49,
     "metadata": {},
     "output_type": "execute_result"
    }
   ],
   "source": [
    "import math\n",
    "x=2\n",
    "y=3\n",
    "math.hypot(x,y)"
   ],
   "metadata": {
    "collapsed": false,
    "ExecuteTime": {
     "end_time": "2023-08-01T18:42:43.250368603Z",
     "start_time": "2023-08-01T18:42:43.191097656Z"
    }
   },
   "id": "2befe04a38bda927"
  },
  {
   "cell_type": "code",
   "execution_count": 50,
   "outputs": [
    {
     "name": "stdout",
     "output_type": "stream",
     "text": [
      "line #1\n",
      "\n",
      "['line #1\\n', 'line #2\\n']\n",
      "line #1\n",
      "line #2\n",
      "line #3\n",
      "line #4\n",
      "line #5\n",
      "line #6\n",
      "line #7\n",
      "line #8\n",
      "line #9\n",
      "line #10\n",
      "1081051101013235491010810511010132355010108105110101323551101081051101013235521010810511010132355310108105110101323554101081051101013235551010810511010132355610108105110101323557101081051101013235494810"
     ]
    }
   ],
   "source": [
    "# this code is to create the file myfile.txt - this creates a file with 10 lines\n",
    "try:\n",
    "    f = open('myfile.txt', 'wt')\n",
    "    for i in range(10):\n",
    "        s = \"line #\" + str(i+1) + \"\\n\"\n",
    "        f.write(s)\n",
    "    f.close()\n",
    "except:\n",
    "    print(\"I/O error occurred:\")\n",
    "# End of code\n",
    " \n",
    "# Now this part of the code is to read data from the file myfile.txt and print its content \n",
    "### answer #1  ###                                      \n",
    "f = open('myfile.txt', 'rt')\n",
    "data = f.readline()\n",
    "print(data)        # This will only print the first line of the file \n",
    "f.close()                                 \n",
    " \n",
    "### answer #2  ### \n",
    "f = open('myfile.txt', 'r')\n",
    "data = f.readlines(10)\n",
    "print(data)                    # ['line #1\\n', 'line #2\\n']\n",
    "f.close()\n",
    " \n",
    "### answer #3  ### \n",
    "f = open('myfile.txt', 'r')\n",
    "data = f.read()\n",
    "for x in data:\n",
    "    print(x, end='')           # This will print the whole file as required\n",
    "f.close()\n",
    " \n",
    "### answer #3  ### \n",
    "f = open('myfile.txt', 'rb')   # This will open the text file as binary mode !\n",
    "data = f.read()\n",
    "for x in data:\n",
    "    print(x, end='')           # This will not print the expected strings\n",
    "f.close()"
   ],
   "metadata": {
    "collapsed": false,
    "ExecuteTime": {
     "end_time": "2023-08-01T18:48:13.301716786Z",
     "start_time": "2023-08-01T18:48:13.257035381Z"
    }
   },
   "id": "abe70ca559f97191"
  },
  {
   "cell_type": "code",
   "execution_count": 51,
   "outputs": [
    {
     "name": "stdout",
     "output_type": "stream",
     "text": [
      "B\n",
      "(<class '__main__.A'>,)\n",
      "__main__\n"
     ]
    }
   ],
   "source": [
    "class A:\n",
    "    # class does not have any constructor\n",
    "    pass\n",
    " \n",
    "class B(A):\n",
    "    # class does not have any constructor\n",
    "    pass\n",
    " \n",
    "print(B.__name__)    # B\n",
    "print(B.__bases__)   # (<class '__main__.A'>,)\n",
    "print(B.__module__)  # __main__"
   ],
   "metadata": {
    "collapsed": false,
    "ExecuteTime": {
     "end_time": "2023-08-01T18:49:41.449875242Z",
     "start_time": "2023-08-01T18:49:41.389461850Z"
    }
   },
   "id": "356aa18424613fbc"
  },
  {
   "cell_type": "code",
   "execution_count": 52,
   "outputs": [
    {
     "name": "stdout",
     "output_type": "stream",
     "text": [
      "('3', '10', '9')\n",
      "#43~22.04.1-Ubuntu SMP PREEMPT_DYNAMIC Fri Apr 21 16:51:08 UTC 2\n",
      "CPython\n",
      "Linux-5.19.0-42-generic-x86_64-with-glibc2.35\n"
     ]
    }
   ],
   "source": [
    "# The output below may be different based on your Python development environment.\n",
    "import platform\n",
    " \n",
    "print(platform.python_version_tuple())\n",
    "# ('3', '8', '5')\n",
    " \n",
    "print(platform.version())\n",
    "# 10.0.19041\n",
    " \n",
    "print(platform.python_implementation())\n",
    "# CPython\n",
    " \n",
    "print(platform.platform())\n",
    "# Windows-10-10.0.19041-SP0"
   ],
   "metadata": {
    "collapsed": false,
    "ExecuteTime": {
     "end_time": "2023-08-01T18:51:03.005108002Z",
     "start_time": "2023-08-01T18:51:02.951905011Z"
    }
   },
   "id": "f782465287f781c4"
  },
  {
   "cell_type": "code",
   "execution_count": null,
   "outputs": [],
   "source": [],
   "metadata": {
    "collapsed": false
   },
   "id": "d78675bd10eae95c"
  }
 ],
 "metadata": {
  "kernelspec": {
   "display_name": "Python 3",
   "language": "python",
   "name": "python3"
  },
  "language_info": {
   "codemirror_mode": {
    "name": "ipython",
    "version": 2
   },
   "file_extension": ".py",
   "mimetype": "text/x-python",
   "name": "python",
   "nbconvert_exporter": "python",
   "pygments_lexer": "ipython2",
   "version": "2.7.6"
  }
 },
 "nbformat": 4,
 "nbformat_minor": 5
}

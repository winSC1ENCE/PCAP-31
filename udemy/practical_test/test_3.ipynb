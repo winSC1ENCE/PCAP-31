{
 "cells": [
  {
   "cell_type": "code",
   "execution_count": 1,
   "id": "initial_id",
   "metadata": {
    "collapsed": true,
    "ExecuteTime": {
     "end_time": "2023-07-30T14:46:00.839945603Z",
     "start_time": "2023-07-30T14:46:00.839398246Z"
    }
   },
   "outputs": [],
   "source": [
    "str1='Hello'\n",
    "str2='Hello'"
   ]
  },
  {
   "cell_type": "code",
   "execution_count": 3,
   "outputs": [
    {
     "data": {
      "text/plain": "True"
     },
     "execution_count": 3,
     "metadata": {},
     "output_type": "execute_result"
    }
   ],
   "source": [
    "str1[::1]==str2"
   ],
   "metadata": {
    "collapsed": false,
    "ExecuteTime": {
     "end_time": "2023-07-30T14:46:53.969250177Z",
     "start_time": "2023-07-30T14:46:53.961889542Z"
    }
   },
   "id": "108c835439bc026a"
  },
  {
   "cell_type": "markdown",
   "source": [],
   "metadata": {
    "collapsed": false
   },
   "id": "cb14ce404de01c99"
  },
  {
   "cell_type": "code",
   "execution_count": 4,
   "outputs": [
    {
     "name": "stdout",
     "output_type": "stream",
     "text": [
      "140346761908464\n",
      "140346761908464\n"
     ]
    }
   ],
   "source": [
    "print(id(str1))\n",
    "print(id(str2))"
   ],
   "metadata": {
    "collapsed": false,
    "ExecuteTime": {
     "end_time": "2023-07-30T14:47:19.315645319Z",
     "start_time": "2023-07-30T14:47:19.289586935Z"
    }
   },
   "id": "e50a7a4e56c66420"
  },
  {
   "cell_type": "code",
   "execution_count": 5,
   "outputs": [
    {
     "data": {
      "text/plain": "True"
     },
     "execution_count": 5,
     "metadata": {},
     "output_type": "execute_result"
    }
   ],
   "source": [
    "id(str1)==id(str2)"
   ],
   "metadata": {
    "collapsed": false,
    "ExecuteTime": {
     "end_time": "2023-07-30T14:47:34.051828292Z",
     "start_time": "2023-07-30T14:47:34.004692416Z"
    }
   },
   "id": "b4f39c7d3e8bb352"
  },
  {
   "cell_type": "code",
   "execution_count": 13,
   "outputs": [
    {
     "name": "stdout",
     "output_type": "stream",
     "text": [
      "beta Alpha\n"
     ]
    }
   ],
   "source": [
    "class Alpha:                    # line 1\n",
    "    def __init__(self, val):    # line 2\n",
    "        self.a = val            # line 3\n",
    "                                # line 4\n",
    "class Beta(Alpha):              # line 5\n",
    "    #insert code here           # line 6\n",
    "    def __str__(self):\n",
    "        return str(self.a) + \" \" + str(Beta.__bases__[0].__name__)            # line 7\n",
    "beta = Beta(\"beta\")             # line 8\n",
    "print(beta)                     # line 9"
   ],
   "metadata": {
    "collapsed": false,
    "ExecuteTime": {
     "end_time": "2023-07-30T14:52:47.688899196Z",
     "start_time": "2023-07-30T14:52:47.644555880Z"
    }
   },
   "id": "9d1bba72f0890950"
  },
  {
   "cell_type": "code",
   "execution_count": 14,
   "outputs": [
    {
     "name": "stdout",
     "output_type": "stream",
     "text": [
      "5\n"
     ]
    }
   ],
   "source": [
    "class Tau:\n",
    "    T = 0\n",
    "    def __init__(self, t=0):\n",
    "        self.t=t\n",
    "        Tau.T += t\n",
    " \n",
    "t1 = Tau()\n",
    "t2 = Tau(2)\n",
    "t3 = Tau(3)\n",
    "print(t1.T)"
   ],
   "metadata": {
    "collapsed": false,
    "ExecuteTime": {
     "end_time": "2023-07-30T14:55:32.211927190Z",
     "start_time": "2023-07-30T14:55:32.167809829Z"
    }
   },
   "id": "fd7717b4906c77a9"
  },
  {
   "cell_type": "code",
   "execution_count": 1,
   "outputs": [
    {
     "name": "stdout",
     "output_type": "stream",
     "text": [
      "[0, 10]\n"
     ]
    }
   ],
   "source": [
    "my_list = [ x for x in range(20) if x % 2 == 0 if x % 5 == 0]\n",
    "print(my_list)"
   ],
   "metadata": {
    "collapsed": false,
    "ExecuteTime": {
     "end_time": "2023-08-01T10:38:47.247572327Z",
     "start_time": "2023-08-01T10:38:47.243995784Z"
    }
   },
   "id": "84edafcb09a1ea2"
  },
  {
   "cell_type": "code",
   "execution_count": 5,
   "outputs": [
    {
     "name": "stdout",
     "output_type": "stream",
     "text": [
      "0 0\n",
      "0 0\n"
     ]
    }
   ],
   "source": [
    "print(10 % 2, 10 % 5)\n",
    "print(0 % 2, 0 % 5)"
   ],
   "metadata": {
    "collapsed": false,
    "ExecuteTime": {
     "end_time": "2023-08-01T10:40:35.796747075Z",
     "start_time": "2023-08-01T10:40:35.777484569Z"
    }
   },
   "id": "676373a623a03685"
  },
  {
   "cell_type": "code",
   "execution_count": 11,
   "outputs": [
    {
     "name": "stdout",
     "output_type": "stream",
     "text": [
      "1\n",
      "2\n",
      "3\n",
      "4\n",
      "5\n",
      "KeyError\n"
     ]
    }
   ],
   "source": [
    "dict = {1 : 'France' , 2: 'USA', 3: 'Japan', 4 : 'Canada' }\n",
    " \n",
    "try:\n",
    "    for i in range(5):\n",
    "        print(i+1)\n",
    "        if not(dict[i+1].isalpha()):\n",
    "            raise ValueError\n",
    "    print(\"Done\")\n",
    "except ValueError:\n",
    "    print(\"ValueError\")\n",
    "except IndexError:\n",
    "    print(\"IndexError\")\n",
    "except KeyError:\n",
    "    print(\"KeyError\")"
   ],
   "metadata": {
    "collapsed": false,
    "ExecuteTime": {
     "end_time": "2023-08-01T10:44:02.120087464Z",
     "start_time": "2023-08-01T10:44:02.109520920Z"
    }
   },
   "id": "d2aa0714d907d0af"
  },
  {
   "cell_type": "code",
   "execution_count": 9,
   "outputs": [
    {
     "ename": "KeyError",
     "evalue": "6",
     "output_type": "error",
     "traceback": [
      "\u001B[0;31m---------------------------------------------------------------------------\u001B[0m",
      "\u001B[0;31mKeyError\u001B[0m                                  Traceback (most recent call last)",
      "Cell \u001B[0;32mIn[9], line 1\u001B[0m\n\u001B[0;32m----> 1\u001B[0m \u001B[38;5;28;43mdict\u001B[39;49m\u001B[43m[\u001B[49m\u001B[38;5;241;43m6\u001B[39;49m\u001B[43m]\u001B[49m\u001B[38;5;241m.\u001B[39misalpha()\n",
      "\u001B[0;31mKeyError\u001B[0m: 6"
     ]
    }
   ],
   "source": [
    "dict[5].isalpha()"
   ],
   "metadata": {
    "collapsed": false,
    "ExecuteTime": {
     "end_time": "2023-08-01T10:43:30.751810899Z",
     "start_time": "2023-08-01T10:43:30.748140248Z"
    }
   },
   "id": "5cd145ba9a702fb5"
  },
  {
   "cell_type": "code",
   "execution_count": 12,
   "outputs": [
    {
     "name": "stdout",
     "output_type": "stream",
     "text": [
      "PYTHON\n"
     ]
    }
   ],
   "source": [
    "my_list1 = ['$ABC','56HN','PYKN','&HYJ','THDF','SDE#','ONDE']\n",
    "my_list2 = [ x[0] + x[1] for x in my_list1 if x.isalpha()]\n",
    "print(''.join(my_list2))"
   ],
   "metadata": {
    "collapsed": false,
    "ExecuteTime": {
     "end_time": "2023-08-01T11:24:56.691299846Z",
     "start_time": "2023-08-01T11:24:56.644602667Z"
    }
   },
   "id": "194c7aebd616a234"
  },
  {
   "cell_type": "code",
   "execution_count": 13,
   "outputs": [
    {
     "name": "stdout",
     "output_type": "stream",
     "text": [
      "3\n"
     ]
    }
   ],
   "source": [
    "class Alpha:\n",
    "    x = 0\n",
    "    def set(self,x):\n",
    "        return x+1\n",
    " \n",
    "class Beta:\n",
    "    x = 1\n",
    " \n",
    "class Kappa(Beta, Alpha):\n",
    "    def set(self,x):\n",
    "        return x+2\n",
    " \n",
    "k = Kappa()\n",
    "print(k.set(k.x))"
   ],
   "metadata": {
    "collapsed": false,
    "ExecuteTime": {
     "end_time": "2023-08-01T11:26:18.064449519Z",
     "start_time": "2023-08-01T11:26:18.022516772Z"
    }
   },
   "id": "e1c498c40d57f412"
  },
  {
   "cell_type": "code",
   "execution_count": 14,
   "outputs": [
    {
     "name": "stdout",
     "output_type": "stream",
     "text": [
      "C\n"
     ]
    }
   ],
   "source": [
    "def my_func(x,y):\n",
    "    return (x+1) / (y-1)\n",
    " \n",
    "try:\n",
    "    my_func(3,1)\n",
    "except IndexError:\n",
    "    print(\"A\")\n",
    "except ValueError:\n",
    "    print(\"B\")\n",
    "except ArithmeticError:\n",
    "    print(\"C\")\n",
    "except ZeroDivisionError:\n",
    "    print(\"D\")"
   ],
   "metadata": {
    "collapsed": false,
    "ExecuteTime": {
     "end_time": "2023-08-01T11:29:13.434608309Z",
     "start_time": "2023-08-01T11:29:13.410118114Z"
    }
   },
   "id": "3e795c258f8bfa03"
  },
  {
   "cell_type": "code",
   "execution_count": 15,
   "outputs": [
    {
     "name": "stdout",
     "output_type": "stream",
     "text": [
      "Ein arithmetischer Fehler ist aufgetreten.\n"
     ]
    }
   ],
   "source": [
    "try:\n",
    "    result = 1 / 0\n",
    "except ArithmeticError:\n",
    "    print(\"Ein arithmetischer Fehler ist aufgetreten.\")"
   ],
   "metadata": {
    "collapsed": false,
    "ExecuteTime": {
     "end_time": "2023-08-01T11:31:42.540470952Z",
     "start_time": "2023-08-01T11:31:42.493378889Z"
    }
   },
   "id": "2e0c48b3f98d8b66"
  },
  {
   "cell_type": "code",
   "execution_count": 19,
   "outputs": [
    {
     "name": "stdout",
     "output_type": "stream",
     "text": [
      "range(1, 10)\n",
      "1\n",
      "2\n",
      "3\n",
      "4\n",
      "5\n",
      "6\n",
      "7\n",
      "8\n",
      "9\n"
     ]
    }
   ],
   "source": [
    "# Which code snippet do you need to insert to get the following output:\n",
    "# [5, 6, 8, 2, 4, 3, 10, 7, 9, 3]\n",
    "\n",
    "import random\n",
    "# insert code here\n",
    "x = range(1,10)\n",
    "print(x)\n",
    "for y in x:\n",
    "    print(y)"
   ],
   "metadata": {
    "collapsed": false,
    "ExecuteTime": {
     "end_time": "2023-08-01T11:34:18.931491632Z",
     "start_time": "2023-08-01T11:34:18.887344260Z"
    }
   },
   "id": "dfeddb238276c7d5"
  },
  {
   "cell_type": "code",
   "execution_count": 21,
   "outputs": [
    {
     "name": "stdout",
     "output_type": "stream",
     "text": [
      "['A', 'C', 'E', 'G', 'I']\n"
     ]
    }
   ],
   "source": [
    "def myfunc(n):\n",
    "    res = ord('A')\n",
    "    for i in range(0,n,2):\n",
    "        yield chr(res)\n",
    "        res+=2\n",
    " \n",
    "y = [x for x in myfunc(10)]\n",
    " \n",
    "print(y)"
   ],
   "metadata": {
    "collapsed": false,
    "ExecuteTime": {
     "end_time": "2023-08-01T11:54:17.107039762Z",
     "start_time": "2023-08-01T11:54:17.095383090Z"
    }
   },
   "id": "a3b4b8f44540187e"
  },
  {
   "cell_type": "code",
   "execution_count": 20,
   "outputs": [
    {
     "data": {
      "text/plain": "65"
     },
     "execution_count": 20,
     "metadata": {},
     "output_type": "execute_result"
    }
   ],
   "source": [
    "ord('A')"
   ],
   "metadata": {
    "collapsed": false,
    "ExecuteTime": {
     "end_time": "2023-08-01T11:52:50.374100526Z",
     "start_time": "2023-08-01T11:52:50.358836886Z"
    }
   },
   "id": "16cb749d9e86ee5d"
  },
  {
   "cell_type": "code",
   "execution_count": 22,
   "outputs": [
    {
     "name": "stdout",
     "output_type": "stream",
     "text": [
      "Error\n",
      "Done\n"
     ]
    }
   ],
   "source": [
    "class Delta:\n",
    "    D=1\n",
    "    def __init__(self, d):\n",
    "        self.__d = d + 1\n",
    " \n",
    "try:\n",
    "    d = Delta(1)\n",
    "    print(d.__d)\n",
    "except:\n",
    "    print(\"Error\")\n",
    "else:\n",
    "    print(\"All good\")\n",
    "finally:\n",
    "    print(\"Done\")"
   ],
   "metadata": {
    "collapsed": false,
    "ExecuteTime": {
     "end_time": "2023-08-01T11:55:05.320603142Z",
     "start_time": "2023-08-01T11:55:05.286303453Z"
    }
   },
   "id": "856d0cf52209b986"
  },
  {
   "cell_type": "code",
   "execution_count": 23,
   "outputs": [
    {
     "ename": "AttributeError",
     "evalue": "'Delta' object has no attribute '__d'",
     "output_type": "error",
     "traceback": [
      "\u001B[0;31m---------------------------------------------------------------------------\u001B[0m",
      "\u001B[0;31mAttributeError\u001B[0m                            Traceback (most recent call last)",
      "Cell \u001B[0;32mIn[23], line 1\u001B[0m\n\u001B[0;32m----> 1\u001B[0m \u001B[38;5;28mprint\u001B[39m(\u001B[43md\u001B[49m\u001B[38;5;241;43m.\u001B[39;49m\u001B[43m__d\u001B[49m)\n",
      "\u001B[0;31mAttributeError\u001B[0m: 'Delta' object has no attribute '__d'"
     ]
    }
   ],
   "source": [
    "print(d.__d)"
   ],
   "metadata": {
    "collapsed": false,
    "ExecuteTime": {
     "end_time": "2023-08-01T11:55:31.571455460Z",
     "start_time": "2023-08-01T11:55:31.530646500Z"
    }
   },
   "id": "73baa1c3891c8f42"
  },
  {
   "cell_type": "code",
   "execution_count": 24,
   "outputs": [
    {
     "name": "stdout",
     "output_type": "stream",
     "text": [
      "{'a': 5, '_Omega__b': 3, '__d': True}\n"
     ]
    }
   ],
   "source": [
    "class Omega:\n",
    "    A= True\n",
    "    def __init__(self, x, y):\n",
    "        self.a = x\n",
    "        self.__b = y\n",
    "    def set(self, z):\n",
    "        self.c = z\n",
    " \n",
    "omega= Omega(5, 3)\n",
    "omega.__d = True\n",
    "print(omega.__dict__)"
   ],
   "metadata": {
    "collapsed": false,
    "ExecuteTime": {
     "end_time": "2023-08-01T11:59:03.105381216Z",
     "start_time": "2023-08-01T11:59:03.068779478Z"
    }
   },
   "id": "6e6966e240d0ac72"
  },
  {
   "cell_type": "code",
   "execution_count": 25,
   "outputs": [
    {
     "name": "stdout",
     "output_type": "stream",
     "text": [
      "B\n"
     ]
    }
   ],
   "source": [
    "import errno\n",
    " \n",
    "try:\n",
    "    data = open(\"myfile.txt\", \"x\")\n",
    "    data.write(\"123\")\n",
    "    data.close()\n",
    "except IOError as e:\n",
    "    if e.errno == errno.ENOENT:\n",
    "        print(\"A\")\n",
    "    elif e.errno == errno.EEXIST:\n",
    "        print(\"B\")\n",
    "    else:\n",
    "        print(\"C\")\n",
    "else:\n",
    "    print(\"D\")"
   ],
   "metadata": {
    "collapsed": false,
    "ExecuteTime": {
     "end_time": "2023-08-01T12:03:23.616121330Z",
     "start_time": "2023-08-01T12:03:23.571321769Z"
    }
   },
   "id": "71decbacda7c1057"
  },
  {
   "cell_type": "code",
   "execution_count": 30,
   "outputs": [
    {
     "name": "stdout",
     "output_type": "stream",
     "text": [
      "first try: \n",
      "second try: ABC\n",
      "ABC\n",
      "ABC\n",
      "ABC\n",
      "ABC\n",
      "ABC\n",
      "ABC\n",
      "ABC\n",
      "ABC\n",
      "ABC\n"
     ]
    }
   ],
   "source": [
    "L = [\"ABC\\n\" for x in range(10)]\n",
    "f = open(\"myfile.txt\", \"w+\")\n",
    "f.writelines(L)\n",
    "print(f\"first try: {f.read()}\")\n",
    "f.seek(0)\n",
    "print(f\"second try: {f.read()}\")\n",
    "f.close()"
   ],
   "metadata": {
    "collapsed": false,
    "ExecuteTime": {
     "end_time": "2023-08-01T12:09:53.426867877Z",
     "start_time": "2023-08-01T12:09:53.414718350Z"
    }
   },
   "id": "f4fe7f2cede72180"
  },
  {
   "cell_type": "markdown",
   "source": [
    "Da der Inhalt der Datei bereits nach dem Schreiben gelesen wird, befindet sich der Lesecursor am Ende der Datei, und es gibt keine Daten zum Lesen. Daher gibt f.read() einen leeren String zurück, und das wird auf der Konsole ausgegeben.\n",
    "\n",
    "Die Datei \"myfile.txt\" enthält nach dem Schreiben die 10 Zeilen mit dem Inhalt \"ABC\\n\". Wenn Sie den Inhalt der Datei nach dem Schließen und erneuten Öffnen der Datei lesen möchten, müssen Sie den Lesecursor zurücksetzen. Dazu können Sie f.seek(0) verwenden, um den Cursor an den Anfang der Datei zurückzusetzen, bevor Sie versuchen, den Inhalt zu lesen."
   ],
   "metadata": {
    "collapsed": false
   },
   "id": "77da9df1c8e24af0"
  },
  {
   "cell_type": "code",
   "execution_count": 31,
   "outputs": [
    {
     "name": "stdout",
     "output_type": "stream",
     "text": [
      "16\n"
     ]
    }
   ],
   "source": [
    "def f(x):\n",
    "    def g(y):\n",
    "        return x * y\n",
    "    return g\n",
    " \n",
    "k = f(4)\n",
    "print(k(4))"
   ],
   "metadata": {
    "collapsed": false,
    "ExecuteTime": {
     "end_time": "2023-08-01T12:10:53.114878650Z",
     "start_time": "2023-08-01T12:10:53.074474559Z"
    }
   },
   "id": "46f3add7e49dc50f"
  },
  {
   "cell_type": "code",
   "execution_count": 32,
   "outputs": [
    {
     "name": "stdout",
     "output_type": "stream",
     "text": [
      "Methode aus Klasse B\n",
      "(<class '__main__.D'>, <class '__main__.B'>, <class '__main__.C'>, <class '__main__.A'>, <class 'object'>)\n"
     ]
    }
   ],
   "source": [
    "class A:\n",
    "    def methode(self):\n",
    "        print(\"Methode aus Klasse A\")\n",
    "\n",
    "class B(A):\n",
    "    def methode(self):\n",
    "        print(\"Methode aus Klasse B\")\n",
    "\n",
    "class C(A):\n",
    "    def methode(self):\n",
    "        print(\"Methode aus Klasse C\")\n",
    "\n",
    "class D(B, C):\n",
    "    pass\n",
    "\n",
    "d = D()\n",
    "d.methode()  # Ausgabe: Methode aus Klasse B\n",
    "print(D.__mro__)  "
   ],
   "metadata": {
    "collapsed": false,
    "ExecuteTime": {
     "end_time": "2023-08-01T12:14:51.999847204Z",
     "start_time": "2023-08-01T12:14:51.968123783Z"
    }
   },
   "id": "2c73b8bea4b1c983"
  },
  {
   "cell_type": "code",
   "execution_count": 33,
   "outputs": [
    {
     "name": "stdout",
     "output_type": "stream",
     "text": [
      "4\n"
     ]
    }
   ],
   "source": [
    "class Alpha:\n",
    "    def __init__(self, a=2):\n",
    "        self.a = a\n",
    "    def set(self, a):\n",
    "        self.a = a\n",
    "        return a\n",
    " \n",
    "a = Alpha()\n",
    "print(a.set(a.a  + 2))"
   ],
   "metadata": {
    "collapsed": false,
    "ExecuteTime": {
     "end_time": "2023-08-01T12:17:54.835644782Z",
     "start_time": "2023-08-01T12:17:54.796070540Z"
    }
   },
   "id": "a530b1756defb40f"
  },
  {
   "cell_type": "code",
   "execution_count": 37,
   "outputs": [
    {
     "name": "stdout",
     "output_type": "stream",
     "text": [
      "fcfc\n"
     ]
    }
   ],
   "source": [
    "x = 'abcdef'\n",
    "print(x[::-3]*2)"
   ],
   "metadata": {
    "collapsed": false,
    "ExecuteTime": {
     "end_time": "2023-08-01T12:20:58.078141081Z",
     "start_time": "2023-08-01T12:20:58.031150435Z"
    }
   },
   "id": "8fd0c31c5b7b5c10"
  },
  {
   "cell_type": "code",
   "execution_count": 36,
   "outputs": [
    {
     "data": {
      "text/plain": "'fc'"
     },
     "execution_count": 36,
     "metadata": {},
     "output_type": "execute_result"
    }
   ],
   "source": [
    "x[::-3]"
   ],
   "metadata": {
    "collapsed": false,
    "ExecuteTime": {
     "end_time": "2023-08-01T12:20:37.156658090Z",
     "start_time": "2023-08-01T12:20:37.152212148Z"
    }
   },
   "id": "9fc32ce65d4d423"
  },
  {
   "cell_type": "code",
   "execution_count": 40,
   "outputs": [
    {
     "name": "stdout",
     "output_type": "stream",
     "text": [
      "abcdef\n",
      "ace\n",
      "fedcba\n",
      "fdb\n"
     ]
    }
   ],
   "source": [
    "print(x[::1])\n",
    "print(x[::2])\n",
    "print(x[::-1])\n",
    "print(x[::-2])"
   ],
   "metadata": {
    "collapsed": false,
    "ExecuteTime": {
     "end_time": "2023-08-01T12:23:11.798603673Z",
     "start_time": "2023-08-01T12:23:11.784893167Z"
    }
   },
   "id": "b889c0d87989e9bc"
  },
  {
   "cell_type": "code",
   "execution_count": null,
   "outputs": [],
   "source": [
    "list_1 = ['France','USA$','Canada!','Italy2','Mexico'] \n",
    "list_2 = list(map(lambda x: x.isalnum(), list_1))\n",
    "print(list_2)  "
   ],
   "metadata": {
    "collapsed": false
   },
   "id": "43912d4bb038f824"
  },
  {
   "cell_type": "code",
   "execution_count": 43,
   "outputs": [
    {
     "name": "stdout",
     "output_type": "stream",
     "text": [
      "['France', 'Italy2', 'Mexico']\n"
     ]
    }
   ],
   "source": [
    "list_1 = ['France','USA$','Canada!','Italy2','Mexico'] \n",
    "list_2 = list(filter(lambda x: x[-1].isalnum(), list_1))\n",
    "print(list_2)  "
   ],
   "metadata": {
    "collapsed": false,
    "ExecuteTime": {
     "end_time": "2023-08-01T12:29:08.534818094Z",
     "start_time": "2023-08-01T12:29:08.518788398Z"
    }
   },
   "id": "888bb555f34e41ec"
  },
  {
   "cell_type": "code",
   "execution_count": 41,
   "outputs": [
    {
     "name": "stdout",
     "output_type": "stream",
     "text": [
      "[True, False, False, False, True]\n"
     ]
    }
   ],
   "source": [
    "list_1 = ['France','USA$','Canada!','Italy2','Mexico'] \n",
    "list_2 = list(map(lambda x: x.isalpha(), list_1))\n",
    "print(list_2)      "
   ],
   "metadata": {
    "collapsed": false,
    "ExecuteTime": {
     "end_time": "2023-08-01T12:28:24.055295053Z",
     "start_time": "2023-08-01T12:28:24.002295349Z"
    }
   },
   "id": "898ff59f7efcd0fa"
  },
  {
   "cell_type": "code",
   "execution_count": 44,
   "outputs": [
    {
     "name": "stdout",
     "output_type": "stream",
     "text": [
      "['France', 'Mexico']\n"
     ]
    }
   ],
   "source": [
    "list_1 = ['France','USA$','Canada!','Italy2','Mexico'] \n",
    "list_2 = list(filter(lambda x: x[-1].isalpha(), list_1))\n",
    "print(list_2)  "
   ],
   "metadata": {
    "collapsed": false,
    "ExecuteTime": {
     "end_time": "2023-08-01T12:29:25.771799576Z",
     "start_time": "2023-08-01T12:29:25.730703299Z"
    }
   },
   "id": "b70672c2b10e2a91"
  },
  {
   "cell_type": "code",
   "execution_count": 45,
   "outputs": [
    {
     "name": "stdout",
     "output_type": "stream",
     "text": [
      "R2D2-C3PO-Luke-Han\n"
     ]
    }
   ],
   "source": [
    "mylist = ['R2D2', 'C3PO', 'Luke', 'Han']\n",
    "# Which statement would you use to get the following printed to the monitor ?\n",
    "# R2D2-C3PO-Luke-Han\n",
    "\n",
    "print('-'.join(mylist))"
   ],
   "metadata": {
    "collapsed": false,
    "ExecuteTime": {
     "end_time": "2023-08-01T12:45:29.243581819Z",
     "start_time": "2023-08-01T12:45:29.191992834Z"
    }
   },
   "id": "d5749a2d14fe3034"
  },
  {
   "cell_type": "code",
   "execution_count": 51,
   "outputs": [
    {
     "name": "stdout",
     "output_type": "stream",
     "text": [
      "Error 3\n"
     ]
    }
   ],
   "source": [
    "x = 'France'\n",
    " \n",
    "def func(x):\n",
    "    return x[:-3]\n",
    " \n",
    "try:\n",
    "    for i in range(3):\n",
    "        x = func(x)\n",
    "        assert x\n",
    "    print(x)    \n",
    "except IndexError:\n",
    "    print(\"Error 1\")\n",
    "except LookupError:\n",
    "    print(\"Error 2\")\n",
    "except:\n",
    "    print(\"Error 3\")"
   ],
   "metadata": {
    "collapsed": false,
    "ExecuteTime": {
     "end_time": "2023-08-01T12:48:03.236922261Z",
     "start_time": "2023-08-01T12:48:03.221297004Z"
    }
   },
   "id": "3f45acf8817cc4fe"
  },
  {
   "cell_type": "code",
   "execution_count": 50,
   "outputs": [
    {
     "data": {
      "text/plain": "'Fra'"
     },
     "execution_count": 50,
     "metadata": {},
     "output_type": "execute_result"
    }
   ],
   "source": [
    "x = 'France'\n",
    "x[:-3]"
   ],
   "metadata": {
    "collapsed": false,
    "ExecuteTime": {
     "end_time": "2023-08-01T12:47:28.807498674Z",
     "start_time": "2023-08-01T12:47:28.793528127Z"
    }
   },
   "id": "c0fb2164abece72e"
  },
  {
   "cell_type": "code",
   "execution_count": 53,
   "outputs": [
    {
     "ename": "UnsupportedOperation",
     "evalue": "not readable",
     "output_type": "error",
     "traceback": [
      "\u001B[0;31m---------------------------------------------------------------------------\u001B[0m",
      "\u001B[0;31mUnsupportedOperation\u001B[0m                      Traceback (most recent call last)",
      "Cell \u001B[0;32mIn[53], line 5\u001B[0m\n\u001B[1;32m      3\u001B[0m     f\u001B[38;5;241m.\u001B[39mwrite(\u001B[38;5;124m'\u001B[39m\u001B[38;5;124mLine #\u001B[39m\u001B[38;5;124m'\u001B[39m \u001B[38;5;241m+\u001B[39m \u001B[38;5;28mstr\u001B[39m(i) \u001B[38;5;241m+\u001B[39m \u001B[38;5;124m'\u001B[39m\u001B[38;5;130;01m\\n\u001B[39;00m\u001B[38;5;124m'\u001B[39m)\n\u001B[1;32m      4\u001B[0m f\u001B[38;5;241m.\u001B[39mseek(\u001B[38;5;241m0\u001B[39m)\n\u001B[0;32m----> 5\u001B[0m \u001B[38;5;28mprint\u001B[39m(\u001B[43mf\u001B[49m\u001B[38;5;241;43m.\u001B[39;49m\u001B[43mreadline\u001B[49m\u001B[43m(\u001B[49m\u001B[38;5;241;43m10\u001B[39;49m\u001B[43m)\u001B[49m)\n\u001B[1;32m      6\u001B[0m f\u001B[38;5;241m.\u001B[39mclose()\n",
      "\u001B[0;31mUnsupportedOperation\u001B[0m: not readable"
     ]
    }
   ],
   "source": [
    "f = open(\"myfile.txt\", \"at\")\n",
    "for i in range(1,11):\n",
    "    f.write('Line #' + str(i) + '\\n')\n",
    "f.seek(0)\n",
    "print(f.readline(10))\n",
    "f.close()"
   ],
   "metadata": {
    "collapsed": false,
    "ExecuteTime": {
     "end_time": "2023-08-01T12:49:32.443847102Z",
     "start_time": "2023-08-01T12:49:32.402213238Z"
    }
   },
   "id": "67274e8e8b42a34d"
  },
  {
   "cell_type": "code",
   "execution_count": 57,
   "outputs": [
    {
     "name": "stdout",
     "output_type": "stream",
     "text": [
      "Tatooine Is A Lawless Place Ruled By Hutt Gangsters.\n",
      "Tatooine is a lawless place ruled by hutt gangsters.\n",
      "tATOOINE IS A LAWLESS PLACE RULED BY hUTT GANGSTERS.\n",
      "TATOOINE IS A LAWLESS PLACE RULED BY HUTT GANGSTERS.\n"
     ]
    }
   ],
   "source": [
    "x = 'Tatooine is a lawless place ruled by Hutt gangsters.'\n",
    "# Insert line of code here.\n",
    "# Which snippet would you insert in order for the program to output the following result:\n",
    "# Tatooine Is A Lawless Place Ruled By Hutt Gangsters.\n",
    "print(x.title())\n",
    "print(x.capitalize())\n",
    "print(x.swapcase())\n",
    "print(x.upper())\n"
   ],
   "metadata": {
    "collapsed": false,
    "ExecuteTime": {
     "end_time": "2023-08-01T12:52:15.882500490Z",
     "start_time": "2023-08-01T12:52:15.857604969Z"
    }
   },
   "id": "48e1ae0065e0fbf1"
  },
  {
   "cell_type": "code",
   "execution_count": 58,
   "outputs": [
    {
     "name": "stdout",
     "output_type": "stream",
     "text": [
      "False\n"
     ]
    }
   ],
   "source": [
    "x = chr(ord('A') + 1) > chr(ord('b') - 1)\n",
    "print(x)"
   ],
   "metadata": {
    "collapsed": false,
    "ExecuteTime": {
     "end_time": "2023-08-01T12:52:54.220356911Z",
     "start_time": "2023-08-01T12:52:54.185934867Z"
    }
   },
   "id": "98d82d6b268e721b"
  },
  {
   "cell_type": "code",
   "execution_count": 59,
   "outputs": [
    {
     "name": "stdout",
     "output_type": "stream",
     "text": [
      "65\n",
      "98\n"
     ]
    }
   ],
   "source": [
    "print(ord('A'))\n",
    "print(ord('b'))"
   ],
   "metadata": {
    "collapsed": false,
    "ExecuteTime": {
     "end_time": "2023-08-01T12:53:16.149448834Z",
     "start_time": "2023-08-01T12:53:16.116266706Z"
    }
   },
   "id": "4b48d4a82352913a"
  },
  {
   "cell_type": "code",
   "execution_count": 60,
   "outputs": [
    {
     "name": "stdout",
     "output_type": "stream",
     "text": [
      "['potato', 'radish', 'carrot', 'cauliflower']\n"
     ]
    }
   ],
   "source": [
    "my_list = ['carrot', 'potato', 'cauliflower', 'radish']\n",
    "my_list.sort(key = lambda x: x[-2], reverse= True)\n",
    "print(my_list) "
   ],
   "metadata": {
    "collapsed": false,
    "ExecuteTime": {
     "end_time": "2023-08-01T12:57:13.980388504Z",
     "start_time": "2023-08-01T12:57:13.942684710Z"
    }
   },
   "id": "31c752bde7f92e4f"
  },
  {
   "cell_type": "code",
   "execution_count": 63,
   "outputs": [
    {
     "data": {
      "text/plain": "'o'"
     },
     "execution_count": 63,
     "metadata": {},
     "output_type": "execute_result"
    }
   ],
   "source": [
    "xx = 'carrot'\n",
    "xx[-2]"
   ],
   "metadata": {
    "collapsed": false,
    "ExecuteTime": {
     "end_time": "2023-08-01T12:58:07.430994273Z",
     "start_time": "2023-08-01T12:58:07.417424567Z"
    }
   },
   "id": "431c3224ff2206fa"
  },
  {
   "cell_type": "code",
   "execution_count": null,
   "outputs": [],
   "source": [
    "def my_fun(x,y):                    # line 1\n",
    "    try:                            # line 2\n",
    "        # my code for try branch    # line 3\n",
    "    # catch exceptions here         # line 4\n",
    "        # my code for except branch # line 5\n",
    "    return None                     # line 6"
   ],
   "metadata": {
    "collapsed": false
   },
   "id": "349b089320267f9e"
  },
  {
   "cell_type": "code",
   "execution_count": 64,
   "outputs": [
    {
     "ename": "SyntaxError",
     "evalue": "default 'except:' must be last (3273376016.py, line 6)",
     "output_type": "error",
     "traceback": [
      "\u001B[0;36m  Cell \u001B[0;32mIn[64], line 6\u001B[0;36m\u001B[0m\n\u001B[0;31m    except:\u001B[0m\n\u001B[0m    ^\u001B[0m\n\u001B[0;31mSyntaxError\u001B[0m\u001B[0;31m:\u001B[0m default 'except:' must be last\n"
     ]
    }
   ],
   "source": [
    "def my_func(x,y):\n",
    "    return x / y\n",
    " \n",
    "try:\n",
    "    my_func(5,0)\n",
    "except:\n",
    "    print(\"General issue\")\n",
    "except ValueError:\n",
    "    print(\"ValueError\")\n",
    "except ArithmeticError:\n",
    "    print(\"ArithmeticError\")"
   ],
   "metadata": {
    "collapsed": false,
    "ExecuteTime": {
     "end_time": "2023-08-01T13:01:06.631659316Z",
     "start_time": "2023-08-01T13:01:06.582597528Z"
    }
   },
   "id": "afadf98241fb8da8"
  },
  {
   "cell_type": "code",
   "execution_count": 65,
   "outputs": [
    {
     "name": "stdout",
     "output_type": "stream",
     "text": [
      "1\n"
     ]
    }
   ],
   "source": [
    "x = '\\t\\\\'*2 + '\\t'\n",
    "print(len(x.split('t')))"
   ],
   "metadata": {
    "collapsed": false,
    "ExecuteTime": {
     "end_time": "2023-08-01T13:02:12.689779648Z",
     "start_time": "2023-08-01T13:02:12.640298947Z"
    }
   },
   "id": "54ac91fb68f6e8b"
  },
  {
   "cell_type": "code",
   "execution_count": 66,
   "outputs": [
    {
     "name": "stdout",
     "output_type": "stream",
     "text": [
      "\t\\\t\\\t\n"
     ]
    }
   ],
   "source": [
    "print(x)"
   ],
   "metadata": {
    "collapsed": false,
    "ExecuteTime": {
     "end_time": "2023-08-01T13:02:33.603430723Z",
     "start_time": "2023-08-01T13:02:33.550389870Z"
    }
   },
   "id": "66d914c84e3a6cd4"
  },
  {
   "cell_type": "code",
   "execution_count": 67,
   "outputs": [
    {
     "name": "stdout",
     "output_type": "stream",
     "text": [
      "False\n",
      "True\n"
     ]
    }
   ],
   "source": [
    "class Z:\n",
    "    def __init__(self, z):\n",
    "        self.z = z\n",
    " \n",
    "z = Z('z')\n",
    "print(hasattr(z,'Z'))\n",
    "print(isinstance(z,Z))"
   ],
   "metadata": {
    "collapsed": false,
    "ExecuteTime": {
     "end_time": "2023-08-01T13:07:26.290080626Z",
     "start_time": "2023-08-01T13:07:26.241774612Z"
    }
   },
   "id": "32cf9fe6fb57f81f"
  },
  {
   "cell_type": "code",
   "execution_count": 68,
   "outputs": [],
   "source": [
    "class Gamma:\n",
    "    def __init__(self, val):\n",
    "        self.g = val\n",
    " \n",
    "class Kappa(Gamma):\n",
    "    K = 0\n",
    "    pass\n",
    " \n",
    "k1 = Kappa(1)\n",
    "k2 = Kappa(2)\n",
    "k3 = k1\n",
    "k3.g += 1"
   ],
   "metadata": {
    "collapsed": false,
    "ExecuteTime": {
     "end_time": "2023-08-01T13:09:04.822345612Z",
     "start_time": "2023-08-01T13:09:04.774501537Z"
    }
   },
   "id": "5e846902bf5480f3"
  },
  {
   "cell_type": "code",
   "execution_count": 69,
   "outputs": [
    {
     "data": {
      "text/plain": "False"
     },
     "execution_count": 69,
     "metadata": {},
     "output_type": "execute_result"
    }
   ],
   "source": [
    "hasattr(Gamma, 'K')"
   ],
   "metadata": {
    "collapsed": false,
    "ExecuteTime": {
     "end_time": "2023-08-01T13:09:18.772185135Z",
     "start_time": "2023-08-01T13:09:18.699754053Z"
    }
   },
   "id": "85418c74add8fb9a"
  },
  {
   "cell_type": "code",
   "execution_count": 70,
   "outputs": [
    {
     "data": {
      "text/plain": "True"
     },
     "execution_count": 70,
     "metadata": {},
     "output_type": "execute_result"
    }
   ],
   "source": [
    "isinstance(k1, Gamma)"
   ],
   "metadata": {
    "collapsed": false,
    "ExecuteTime": {
     "end_time": "2023-08-01T13:09:27.931574692Z",
     "start_time": "2023-08-01T13:09:27.876653686Z"
    }
   },
   "id": "85e778c98cc84bd7"
  },
  {
   "cell_type": "code",
   "execution_count": 71,
   "outputs": [
    {
     "data": {
      "text/plain": "False"
     },
     "execution_count": 71,
     "metadata": {},
     "output_type": "execute_result"
    }
   ],
   "source": [
    "k1.g == 1"
   ],
   "metadata": {
    "collapsed": false,
    "ExecuteTime": {
     "end_time": "2023-08-01T13:09:44.302986481Z",
     "start_time": "2023-08-01T13:09:44.255307166Z"
    }
   },
   "id": "4f5eda0dfa08ff1d"
  },
  {
   "cell_type": "code",
   "execution_count": 72,
   "outputs": [
    {
     "data": {
      "text/plain": "False"
     },
     "execution_count": 72,
     "metadata": {},
     "output_type": "execute_result"
    }
   ],
   "source": [
    "k1 is not k3"
   ],
   "metadata": {
    "collapsed": false,
    "ExecuteTime": {
     "end_time": "2023-08-01T13:09:52.927785780Z",
     "start_time": "2023-08-01T13:09:52.881389611Z"
    }
   },
   "id": "7c802a6db522873e"
  },
  {
   "cell_type": "code",
   "execution_count": 74,
   "outputs": [],
   "source": [
    "class Alpha:\n",
    "    a=5\n",
    "    def __init__(self, x):\n",
    "        self.b = x\n",
    " \n",
    "class Beta(Alpha):\n",
    "    c = 2\n",
    "    def __str__(self):\n",
    "        return \"Beta\"\n",
    " \n",
    "beta = Beta(5)\n",
    "beta.d = 4"
   ],
   "metadata": {
    "collapsed": false,
    "ExecuteTime": {
     "end_time": "2023-08-01T13:13:19.591695687Z",
     "start_time": "2023-08-01T13:13:19.543153608Z"
    }
   },
   "id": "24433d4a36247d47"
  },
  {
   "cell_type": "code",
   "execution_count": 80,
   "outputs": [
    {
     "data": {
      "text/plain": "False"
     },
     "execution_count": 80,
     "metadata": {},
     "output_type": "execute_result"
    }
   ],
   "source": [
    "isinstance(Beta, Alpha)"
   ],
   "metadata": {
    "collapsed": false,
    "ExecuteTime": {
     "end_time": "2023-08-01T13:19:16.711996289Z",
     "start_time": "2023-08-01T13:19:16.685305418Z"
    }
   },
   "id": "e235838517b37203"
  },
  {
   "cell_type": "code",
   "execution_count": 77,
   "outputs": [
    {
     "name": "stdout",
     "output_type": "stream",
     "text": [
      "False\n",
      "<class 'type'>\n"
     ]
    }
   ],
   "source": [
    "print(type(Beta.__base__) is dict)\n",
    "print(type(Beta.__base__))"
   ],
   "metadata": {
    "collapsed": false,
    "ExecuteTime": {
     "end_time": "2023-08-01T13:14:16.720244633Z",
     "start_time": "2023-08-01T13:14:16.700372834Z"
    }
   },
   "id": "29d14738712158bd"
  },
  {
   "cell_type": "code",
   "execution_count": 78,
   "outputs": [
    {
     "data": {
      "text/plain": "True"
     },
     "execution_count": 78,
     "metadata": {},
     "output_type": "execute_result"
    }
   ],
   "source": [
    "hasattr(beta, 'a')"
   ],
   "metadata": {
    "collapsed": false,
    "ExecuteTime": {
     "end_time": "2023-08-01T13:14:32.179500472Z",
     "start_time": "2023-08-01T13:14:32.116349228Z"
    }
   },
   "id": "7783d3b3ab475e31"
  },
  {
   "cell_type": "code",
   "execution_count": 79,
   "outputs": [
    {
     "data": {
      "text/plain": "False"
     },
     "execution_count": 79,
     "metadata": {},
     "output_type": "execute_result"
    }
   ],
   "source": [
    "issubclass(Alpha, Beta)"
   ],
   "metadata": {
    "collapsed": false,
    "ExecuteTime": {
     "end_time": "2023-08-01T13:15:19.738473867Z",
     "start_time": "2023-08-01T13:15:19.665348765Z"
    }
   },
   "id": "b5dbbcb825059d72"
  },
  {
   "cell_type": "code",
   "execution_count": null,
   "outputs": [],
   "source": [],
   "metadata": {
    "collapsed": false
   },
   "id": "1a500973d34a13ea"
  }
 ],
 "metadata": {
  "kernelspec": {
   "display_name": "Python 3",
   "language": "python",
   "name": "python3"
  },
  "language_info": {
   "codemirror_mode": {
    "name": "ipython",
    "version": 2
   },
   "file_extension": ".py",
   "mimetype": "text/x-python",
   "name": "python",
   "nbconvert_exporter": "python",
   "pygments_lexer": "ipython2",
   "version": "2.7.6"
  }
 },
 "nbformat": 4,
 "nbformat_minor": 5
}

{
 "cells": [
  {
   "cell_type": "markdown",
   "source": [
    "# Practical Test 1"
   ],
   "metadata": {
    "collapsed": false
   },
   "id": "c9246b0de83b06d3"
  },
  {
   "cell_type": "markdown",
   "source": [
    "## Q111 - Control Flow\n",
    "\n",
    "infinite loop, since num is not decremented. the decrement should be inside the while loop"
   ],
   "metadata": {
    "collapsed": false
   },
   "id": "12c27067a0323929"
  },
  {
   "cell_type": "code",
   "execution_count": 5,
   "outputs": [],
   "source": [
    "\n",
    "def func(text, num):\n",
    "    while num > 0:\n",
    "        print(text)\n",
    "    num = num - 1\n",
    "    # decrement num here\n",
    "    # but it should be inside the while loop\n",
    " \n",
    " \n",
    "# func('Hello', 3) "
   ],
   "metadata": {
    "collapsed": false,
    "ExecuteTime": {
     "end_time": "2023-08-06T13:18:45.642189467Z",
     "start_time": "2023-08-06T13:18:45.601230685Z"
    }
   },
   "id": "933d586f64bf6a36"
  },
  {
   "cell_type": "markdown",
   "source": [
    "## Q131 - OOP"
   ],
   "metadata": {
    "collapsed": false
   },
   "id": "a75dc426998e2cb5"
  },
  {
   "cell_type": "code",
   "execution_count": 6,
   "outputs": [
    {
     "name": "stdout",
     "output_type": "stream",
     "text": [
      "<__main__.A object at 0x7f13783bc130>\n"
     ]
    }
   ],
   "source": [
    "class A:\n",
    "    def __init__(self, name):\n",
    "        self.name = name\n",
    " \n",
    " \n",
    "a = A('class')\n",
    " \n",
    "print(a)\n",
    "# the output is the memory address of the object"
   ],
   "metadata": {
    "collapsed": false,
    "ExecuteTime": {
     "end_time": "2023-08-06T13:20:15.332383541Z",
     "start_time": "2023-08-06T13:20:15.294830954Z"
    }
   },
   "id": "9ee2388e2da20e66"
  },
  {
   "cell_type": "markdown",
   "source": [
    "## Q147 - Data Aggregates"
   ],
   "metadata": {
    "collapsed": false
   },
   "id": "97d4034f1a0be0fd"
  },
  {
   "cell_type": "code",
   "execution_count": 8,
   "outputs": [
    {
     "name": "stdout",
     "output_type": "stream",
     "text": [
      "[1, 0, 1, 2]\n",
      "4\n"
     ]
    }
   ],
   "source": [
    "x = [0, 1, 2]\n",
    "x.insert(0, 1)\n",
    "# insert 1 at index 0\n",
    "print(x)\n",
    "del x[1]\n",
    "# delete element at index 1\n",
    "print(sum(x))\n"
   ],
   "metadata": {
    "collapsed": false,
    "ExecuteTime": {
     "end_time": "2023-08-06T13:23:17.850970269Z",
     "start_time": "2023-08-06T13:23:17.836019049Z"
    }
   },
   "id": "916a011c310b98a5"
  },
  {
   "cell_type": "markdown",
   "source": [
    "## Q184 - I/O\n",
    "\n",
    "Which method is used to break the connection\n",
    "\n",
    "between the file handle and a physical file?"
   ],
   "metadata": {
    "collapsed": false
   },
   "id": "feeec9b629f1a4b2"
  },
  {
   "cell_type": "code",
   "execution_count": 9,
   "outputs": [],
   "source": [
    "# close()"
   ],
   "metadata": {
    "collapsed": false,
    "ExecuteTime": {
     "end_time": "2023-08-06T13:51:11.446472233Z",
     "start_time": "2023-08-06T13:51:11.415807750Z"
    }
   },
   "id": "c608330ddc750b6e"
  },
  {
   "cell_type": "markdown",
   "source": [
    "## Q166 - OOP\n",
    "A subclass is usually:"
   ],
   "metadata": {
    "collapsed": false
   },
   "id": "8f644d1aa0ccb04a"
  },
  {
   "cell_type": "code",
   "execution_count": 11,
   "outputs": [],
   "source": [
    "# more specific than its superclass"
   ],
   "metadata": {
    "collapsed": false,
    "ExecuteTime": {
     "end_time": "2023-08-06T13:52:28.493941204Z",
     "start_time": "2023-08-06T13:52:28.446676360Z"
    }
   },
   "id": "eba024fc97b73291"
  },
  {
   "cell_type": "markdown",
   "source": [
    "## Q144 - Modules\n",
    "What is the correct command to shuffle the following list?"
   ],
   "metadata": {
    "collapsed": false
   },
   "id": "a326d5ac63547972"
  },
  {
   "cell_type": "code",
   "execution_count": null,
   "outputs": [],
   "source": [],
   "metadata": {
    "collapsed": false
   },
   "id": "7d0e1acd98bc9234"
  },
  {
   "cell_type": "code",
   "execution_count": 21,
   "outputs": [],
   "source": [
    "import random\n",
    "people = ['Peter', 'Paul', 'Mary', 'Jane']"
   ],
   "metadata": {
    "collapsed": false,
    "ExecuteTime": {
     "end_time": "2023-08-06T13:54:04.185978251Z",
     "start_time": "2023-08-06T13:54:04.170499138Z"
    }
   },
   "id": "40d59ed763b28ed3"
  },
  {
   "cell_type": "code",
   "execution_count": 24,
   "outputs": [],
   "source": [
    "random.shuffle(people)\n",
    "# shuffle the list"
   ],
   "metadata": {
    "collapsed": false,
    "ExecuteTime": {
     "end_time": "2023-08-06T13:54:19.128821007Z",
     "start_time": "2023-08-06T13:54:19.109571239Z"
    }
   },
   "id": "2397eeaff3e05b5f"
  },
  {
   "cell_type": "code",
   "execution_count": 23,
   "outputs": [
    {
     "name": "stdout",
     "output_type": "stream",
     "text": [
      "['Peter', 'Mary', 'Jane', 'Paul']\n"
     ]
    }
   ],
   "source": [
    "print(people)"
   ],
   "metadata": {
    "collapsed": false,
    "ExecuteTime": {
     "end_time": "2023-08-06T13:54:06.354119997Z",
     "start_time": "2023-08-06T13:54:06.338399997Z"
    }
   },
   "id": "3bbfb45ab8416657"
  },
  {
   "cell_type": "markdown",
   "source": [
    "## Q155 - I/O\n",
    "\n",
    "You want to write a code snippet to read the total data from a text file\n",
    "\n",
    "and print it to the monitor.\n",
    "\n",
    "What snippet would you insert in the line indicated below:"
   ],
   "metadata": {
    "collapsed": false
   },
   "id": "22e9ace8a80bba07"
  },
  {
   "cell_type": "code",
   "execution_count": 29,
   "outputs": [
    {
     "name": "stdout",
     "output_type": "stream",
     "text": [
      "Ach achthausen frohlicher blo dammerigen ist verstehsts handarbeit birkendose. Wirrwarr flo eck das brauchen marschen sei sprechen schweren. Bildnis bedeckt wahrend ehe mundart achtete tat ins hob. Argerte spatzen solchen so gesicht in beinahe am se einfand. Ja wo sies ihre karl wu es wenn. Gefallts bezahlen trostlos mi es du. Pa gegenuber herkommen sa em grundlich vergesset meisterin. Wies zu brot aber im es er klar nach. Aus tat verodeten klimperte hat ertastete. Ja am sommer letzte servus.\n",
      "\n",
      "Wo bild tief arme dann wies ja auch. Acht bett leid sa im da. Bescheiden du da landsleute kartoffeln zu sa. Sehen warte so an pfiff. Bleibt ihn heimat herein die keiner gehort. Es uberging te es da gedichte zusammen rabatten verwirrt.\n",
      "\n",
      "In schlecht gegessen wo gesteckt ja spannung neunzehn. Gelandes du kurioses um mu halblaut weiblein. Hielt he sehen sagte du reden. So erkundigte vergnugter wahrhaftig hausdacher zu messingnen. See wunschte behalten erschrak ers art kam wohlfeil. Wirtin erisch soviel der dus hinter hab mir armeln verlor. Feucht spater allein er im lernen. Armen hin ehe genug deine naher hab.\n",
      "\n",
      "So leer ware doch rote scho la. Im lehrlingen feierabend er ja ja bugeleisen gesprachig. En gang so he frau mude es. Zueinander federdecke wasserkrug er he. Leid hort nein ein mir kaum ins. Sohlen fu mu kehrte wo en sitzen. Ortes wurde extra stuhl im du schau es zu. Richtete sparlich du erzahlen konntest gesichts ri burschen. Kraftlos ob lampchen so er te schreien zinnerne vorwarts schweren.\n"
     ]
    }
   ],
   "source": [
    "try:\n",
    "    file = open('data.txt', 'r')\n",
    "    # insert your code here\n",
    "    data = file.read()\n",
    "    # read does not take any arguments\n",
    "    # read the entire file\n",
    "    print(data)\n",
    "except:\n",
    "    print('Something went wrong!')"
   ],
   "metadata": {
    "collapsed": false,
    "ExecuteTime": {
     "end_time": "2023-08-06T13:58:44.433293174Z",
     "start_time": "2023-08-06T13:58:44.421284188Z"
    }
   },
   "id": "ac68bf178a6d3d76"
  },
  {
   "cell_type": "markdown",
   "source": [
    "## Q195 - OOP\n",
    "\n",
    "What is the expected output of the following code?"
   ],
   "metadata": {
    "collapsed": false
   },
   "id": "b6931e8edda24d4b"
  },
  {
   "cell_type": "code",
   "execution_count": 31,
   "outputs": [
    {
     "name": "stdout",
     "output_type": "stream",
     "text": [
      "True False\n"
     ]
    }
   ],
   "source": [
    "\n",
    "class Cat:\n",
    "    Species = 1\n",
    " \n",
    "    def get_species(self):\n",
    "        return 'kitty'\n",
    " \n",
    " \n",
    "class Tiger(Cat):\n",
    "    def get_species(self):\n",
    "        return 'tiggy'\n",
    " \n",
    "    def set_species(self):\n",
    "        pass\n",
    " \n",
    " \n",
    "creature = Tiger()\n",
    "print(hasattr(creature, \"Species\"),\n",
    "      hasattr(Cat, \"set_species\"))\n",
    "# True False\n",
    "# creature has a class attribute Species\n",
    "# Cat does not have the attribute set_species\n"
   ],
   "metadata": {
    "collapsed": false,
    "ExecuteTime": {
     "end_time": "2023-08-06T14:10:01.462776999Z",
     "start_time": "2023-08-06T14:10:01.417763521Z"
    }
   },
   "id": "4377f08f2963dbb3"
  },
  {
   "cell_type": "markdown",
   "source": [
    "## Q136 - Data Types\n",
    "\n",
    "What is the expected output of the following code if the user enters 2 and 4?"
   ],
   "metadata": {
    "collapsed": false
   },
   "id": "f5359113bf5c1e1f"
  },
  {
   "cell_type": "code",
   "execution_count": 32,
   "outputs": [
    {
     "name": "stdout",
     "output_type": "stream",
     "text": [
      "24\n"
     ]
    }
   ],
   "source": [
    "x = input()\n",
    "y = input()\n",
    "print(x + y)\n",
    "# 24\n",
    "# input() returns a string\n",
    "# and the print() function concatenates the strings"
   ],
   "metadata": {
    "collapsed": false,
    "ExecuteTime": {
     "end_time": "2023-08-06T14:11:13.211327693Z",
     "start_time": "2023-08-06T14:11:08.130659375Z"
    }
   },
   "id": "9906e0502afd8097"
  },
  {
   "cell_type": "markdown",
   "source": [
    "## Q192 - OOP\n",
    "\n",
    "What is the expected output of the following code?"
   ],
   "metadata": {
    "collapsed": false
   },
   "id": "f1aabc9c37d29416"
  },
  {
   "cell_type": "code",
   "execution_count": 34,
   "outputs": [
    {
     "name": "stdout",
     "output_type": "stream",
     "text": [
      "False\n"
     ]
    }
   ],
   "source": [
    "class Content:\n",
    "    title = \"None\"\n",
    " \n",
    "    def __init__(self, this):\n",
    "        self.name = this + \" than \" + Content.title\n",
    " \n",
    "text_1 = Content(\"Paper\")\n",
    "text_2 = Content(\"Article\")\n",
    "print(text_1.title == text_2.name)\n",
    "# False\n",
    "# text_1.title is \"None\"\n",
    "# text_2.name is \"Article than None\"\n",
    "# Content.title is \"None\"\n",
    "# Content.title is a class attribute "
   ],
   "metadata": {
    "collapsed": false,
    "ExecuteTime": {
     "end_time": "2023-08-06T14:16:24.008685278Z",
     "start_time": "2023-08-06T14:16:24.002633932Z"
    }
   },
   "id": "e394be401051c7c8"
  },
  {
   "cell_type": "code",
   "execution_count": 35,
   "outputs": [
    {
     "data": {
      "text/plain": "'None'"
     },
     "execution_count": 35,
     "metadata": {},
     "output_type": "execute_result"
    }
   ],
   "source": [
    "Content.title"
   ],
   "metadata": {
    "collapsed": false,
    "ExecuteTime": {
     "end_time": "2023-08-06T14:16:34.656894153Z",
     "start_time": "2023-08-06T14:16:34.609029547Z"
    }
   },
   "id": "876dac368907b285"
  },
  {
   "cell_type": "markdown",
   "source": [
    "## Q191 - OOP\n",
    "\n",
    "Given the code below,\n",
    "\n",
    "indicate a method which will correctly provide the value of the rack field?"
   ],
   "metadata": {
    "collapsed": false
   },
   "id": "7b3c6e35801193d0"
  },
  {
   "cell_type": "code",
   "execution_count": 37,
   "outputs": [
    {
     "name": "stdout",
     "output_type": "stream",
     "text": [
      "1\n"
     ]
    }
   ],
   "source": [
    "class Storage:\n",
    "    def __init__(self):\n",
    "        self.rack = 1\n",
    " \n",
    "    # Insert a method here\n",
    "    def get(self):\n",
    "        # self is the object\n",
    "        return self.rack\n",
    "        # return the value of the rack field\n",
    " \n",
    "stuff = Storage()\n",
    "print(stuff.get())\n"
   ],
   "metadata": {
    "collapsed": false,
    "ExecuteTime": {
     "end_time": "2023-08-06T14:18:51.886790938Z",
     "start_time": "2023-08-06T14:18:51.839899579Z"
    }
   },
   "id": "e1d15cb794934ce9"
  },
  {
   "cell_type": "markdown",
   "source": [
    "## Q148 - Control Flow\n",
    "\n",
    "What is the expected output of the following code?"
   ],
   "metadata": {
    "collapsed": false
   },
   "id": "80b6b464bb18ee05"
  },
  {
   "cell_type": "code",
   "execution_count": 38,
   "outputs": [
    {
     "name": "stdout",
     "output_type": "stream",
     "text": [
      "3\n"
     ]
    }
   ],
   "source": [
    "x = True\n",
    "y = False\n",
    "z = False\n",
    " \n",
    "if not x or y:\n",
    "    # (not x)=False or y=False\n",
    "    # in that case, the condition is False\n",
    "    print(1)\n",
    "elif not x or not y and z:\n",
    "    # not x=False or not y=False and z=False\n",
    "    # in that case, the condition is False\n",
    "    print(2)\n",
    "elif not x or y or not y and x:\n",
    "    # not x=False or y=False or not y=False and x=True\n",
    "    # in that case, the condition is True\n",
    "    print(3)\n",
    "else:\n",
    "    print(4)"
   ],
   "metadata": {
    "collapsed": false,
    "ExecuteTime": {
     "end_time": "2023-08-06T14:19:59.382594573Z",
     "start_time": "2023-08-06T14:19:59.352674265Z"
    }
   },
   "id": "9f5a946f663beb77"
  },
  {
   "cell_type": "code",
   "execution_count": 41,
   "outputs": [
    {
     "data": {
      "text/plain": "False"
     },
     "execution_count": 41,
     "metadata": {},
     "output_type": "execute_result"
    }
   ],
   "source": [
    "not x or y"
   ],
   "metadata": {
    "collapsed": false,
    "ExecuteTime": {
     "end_time": "2023-08-06T14:21:14.106741422Z",
     "start_time": "2023-08-06T14:21:14.089124606Z"
    }
   },
   "id": "9589f568da7edcd5"
  },
  {
   "cell_type": "markdown",
   "source": [
    "## Q187 - Error Handling\n",
    "\n",
    "What is the expected output of the following code?"
   ],
   "metadata": {
    "collapsed": false
   },
   "id": "d6d20ab4b52f7994"
  },
  {
   "cell_type": "code",
   "execution_count": 43,
   "outputs": [
    {
     "name": "stdout",
     "output_type": "stream",
     "text": [
      "IndexError\n"
     ]
    }
   ],
   "source": [
    "\n",
    "data = [261, 321]\n",
    "try:\n",
    "    print(data[-3])\n",
    "# IndexError: list index out of range\n",
    "# since the list has only 2 elements\n",
    "# -3 is out of range, it should be -2 or -1\n",
    "except IndexError:\n",
    "    print('IndexError')\n",
    "except Exception as exception:\n",
    "    print(exception.args)\n",
    "else:\n",
    "    print(\"('success',)\")"
   ],
   "metadata": {
    "collapsed": false,
    "ExecuteTime": {
     "end_time": "2023-08-06T14:25:32.167629282Z",
     "start_time": "2023-08-06T14:25:32.122842543Z"
    }
   },
   "id": "1497a6b901619806"
  },
  {
   "cell_type": "markdown",
   "source": [
    "## Q117 - Data Aggregates\n",
    "\n",
    "What is the expected output of the following code?\n",
    "\n",
    "print(list('hello'))"
   ],
   "metadata": {
    "collapsed": false
   },
   "id": "a5130249331fa3b2"
  },
  {
   "cell_type": "code",
   "execution_count": 44,
   "outputs": [
    {
     "name": "stdout",
     "output_type": "stream",
     "text": [
      "['h', 'e', 'l', 'l', 'o']\n"
     ]
    }
   ],
   "source": [
    "print(list('hello'))\n",
    "# list() converts a string to a list of characters\n",
    "# the brackets indicate that the output is a list"
   ],
   "metadata": {
    "collapsed": false,
    "ExecuteTime": {
     "end_time": "2023-08-06T14:26:31.811650315Z",
     "start_time": "2023-08-06T14:26:31.750895943Z"
    }
   },
   "id": "1228edd5c876dd4e"
  },
  {
   "cell_type": "markdown",
   "source": [
    "## Q112 - Operators\n",
    "\n",
    "What would you insert instead of ???\n",
    "\n",
    "so that the program checks for even numbers?\n",
    "\n",
    "if ???:\n",
    "    print('x is an even number')"
   ],
   "metadata": {
    "collapsed": false
   },
   "id": "c96a5f03b48d22fa"
  },
  {
   "cell_type": "code",
   "execution_count": 48,
   "outputs": [
    {
     "name": "stdout",
     "output_type": "stream",
     "text": [
      "x is an even number\n"
     ]
    }
   ],
   "source": [
    "x=8\n",
    "if x % 2 == 0:\n",
    "    print('x is an even number')"
   ],
   "metadata": {
    "collapsed": false,
    "ExecuteTime": {
     "end_time": "2023-08-06T14:30:21.189466936Z",
     "start_time": "2023-08-06T14:30:21.178831486Z"
    }
   },
   "id": "8d249b7761a9f667"
  },
  {
   "cell_type": "markdown",
   "source": [
    "## Q102 - Operators\n",
    "\n",
    "What will be the output of the following code snippet?"
   ],
   "metadata": {
    "collapsed": false
   },
   "id": "c14ebb438c9b7027"
  },
  {
   "cell_type": "code",
   "execution_count": 49,
   "outputs": [
    {
     "name": "stdout",
     "output_type": "stream",
     "text": [
      "4\n"
     ]
    }
   ],
   "source": [
    "x = 2\n",
    "y = 1\n",
    "x *= y + 1\n",
    "print(x)"
   ],
   "metadata": {
    "collapsed": false,
    "ExecuteTime": {
     "end_time": "2023-08-06T14:31:27.070173995Z",
     "start_time": "2023-08-06T14:31:27.027815670Z"
    }
   },
   "id": "d9ae7bbd8d9a20b5"
  },
  {
   "cell_type": "markdown",
   "source": [
    "## Q196 - OOP\n",
    "\n",
    "Which of the following variables will Python consider to be private?"
   ],
   "metadata": {
    "collapsed": false
   },
   "id": "b819a1d3e56eee55"
  },
  {
   "cell_type": "code",
   "execution_count": 50,
   "outputs": [],
   "source": [
    "# __name"
   ],
   "metadata": {
    "collapsed": false,
    "ExecuteTime": {
     "end_time": "2023-08-06T14:32:08.188501453Z",
     "start_time": "2023-08-06T14:32:08.136304787Z"
    }
   },
   "id": "6205a6c4faf621dd"
  },
  {
   "cell_type": "markdown",
   "source": [
    "## Q139 - Modules\n",
    "\n",
    "When a module is imported, its contents:"
   ],
   "metadata": {
    "collapsed": false
   },
   "id": "4804e28c89961e92"
  },
  {
   "cell_type": "code",
   "execution_count": 51,
   "outputs": [],
   "source": [
    "# are executed once"
   ],
   "metadata": {
    "collapsed": false,
    "ExecuteTime": {
     "end_time": "2023-08-06T14:33:20.584546297Z",
     "start_time": "2023-08-06T14:33:20.536931148Z"
    }
   },
   "id": "7e1a9294e68e2d4b"
  },
  {
   "cell_type": "code",
   "execution_count": 28,
   "outputs": [],
   "source": [
    "# First execute the following to create the needed file:\n",
    "text = '''\n",
    "print(\"I am a module, goo goo g'joob!\")\n",
    "'''\n",
    "with open('module.py', 'w') as f:\n",
    "    f.write(text)\n",
    " \n",
    "import module  # I am a module, goo goo g'joob!\n",
    "import module"
   ],
   "metadata": {
    "collapsed": false,
    "ExecuteTime": {
     "end_time": "2023-08-08T19:21:06.672114557Z",
     "start_time": "2023-08-08T19:21:06.599881007Z"
    }
   },
   "id": "9a42a9c3dcb1e1c8"
  },
  {
   "cell_type": "markdown",
   "source": [
    "## Q110 - Data Types\n",
    "\n",
    "Consider the following code snippet:\n",
    "\n",
    "\n",
    "w = bool(23)\n",
    "x = bool('')\n",
    "y = bool(' ')\n",
    "z = bool([False])\n",
    "\n",
    "\n",
    "Which of the variables will contain False?"
   ],
   "metadata": {
    "collapsed": false
   },
   "id": "c53bcde6c6805116"
  },
  {
   "cell_type": "code",
   "execution_count": 52,
   "outputs": [],
   "source": [
    "# bool is a function that converts a value to a boolean\n",
    "w = bool(23)\n",
    "# 23 is True\n",
    "x = bool('')\n",
    "# '' is False, because it is an empty string\n",
    "y = bool(' ')\n",
    "# ' ' is True, because it is a string with a space\n",
    "z = bool([False])\n",
    "# [False] is True, because it is a list with one element"
   ],
   "metadata": {
    "collapsed": false,
    "ExecuteTime": {
     "end_time": "2023-08-06T14:35:07.429706895Z",
     "start_time": "2023-08-06T14:35:07.390054053Z"
    }
   },
   "id": "c949283200923efe"
  },
  {
   "cell_type": "code",
   "execution_count": 53,
   "outputs": [
    {
     "name": "stdout",
     "output_type": "stream",
     "text": [
      "True False True True\n"
     ]
    }
   ],
   "source": [
    "print(w,x,y,z)"
   ],
   "metadata": {
    "collapsed": false,
    "ExecuteTime": {
     "end_time": "2023-08-06T14:35:10.987196154Z",
     "start_time": "2023-08-06T14:35:10.950675246Z"
    }
   },
   "id": "d65ed56e874c25b7"
  },
  {
   "cell_type": "markdown",
   "source": [
    "## Q134 - Data Types\n",
    "\n",
    "The value thirty point eleven times ten raised to the power of nine\n",
    "\n",
    "should be written as:"
   ],
   "metadata": {
    "collapsed": false
   },
   "id": "160edc02283008f6"
  },
  {
   "cell_type": "code",
   "execution_count": 54,
   "outputs": [],
   "source": [
    "# 30.11e9"
   ],
   "metadata": {
    "collapsed": false,
    "ExecuteTime": {
     "end_time": "2023-08-06T15:01:23.363611911Z",
     "start_time": "2023-08-06T15:01:23.324667627Z"
    }
   },
   "id": "c1dd4aafb79078a2"
  },
  {
   "cell_type": "markdown",
   "source": [
    "## Q183 - Functions\n",
    "\n",
    "What is the expected output of the following code?"
   ],
   "metadata": {
    "collapsed": false
   },
   "id": "ce26cc2ca6563a31"
  },
  {
   "cell_type": "code",
   "execution_count": 55,
   "outputs": [
    {
     "name": "stdout",
     "output_type": "stream",
     "text": [
      "[2]\n"
     ]
    }
   ],
   "source": [
    "v = [1, 2, 3]\n",
    "# v is a list\n",
    "def g(a,b,m):\n",
    "    return m(a,b)\n",
    "# g is a function that takes 3 arguments\n",
    "# a and b are numbers\n",
    "# m is a function that takes 2 numbers and returns a number\n",
    " \n",
    "print(g(1, 1, lambda x,y: v[ x:y+1 ]))\n",
    "# x=1, y=1\n",
    "# v[1:2] is [2]\n",
    "# v[1:2] returns a list with one element, which is 2\n",
    "# 1:2 means from index 1 to index 2, but not including index 2 (so only index 1)\n",
    "# the lambda function returns [2]\n"
   ],
   "metadata": {
    "collapsed": false,
    "ExecuteTime": {
     "end_time": "2023-08-06T15:04:06.017740306Z",
     "start_time": "2023-08-06T15:04:05.988644975Z"
    }
   },
   "id": "a3613286fdf5865a"
  },
  {
   "cell_type": "markdown",
   "source": [
    "## Q126 - Error Handling\n",
    "\n",
    "What is the expected output of the following code?"
   ],
   "metadata": {
    "collapsed": false
   },
   "id": "840fcaeadd2f49c0"
  },
  {
   "cell_type": "code",
   "execution_count": 57,
   "outputs": [
    {
     "name": "stdout",
     "output_type": "stream",
     "text": [
      "bcac"
     ]
    }
   ],
   "source": [
    "def func(x):\n",
    "    try:\n",
    "        # the try block is executed\n",
    "        x = x / x\n",
    "    except:\n",
    "        # the except block is executed if an exception occurs\n",
    "        print('a', end='')\n",
    "    else:\n",
    "        # the else block is executed if no exception occurs\n",
    "        print('b', end='')\n",
    "    finally:\n",
    "        # the finally block is always executed\n",
    "        print('c', end='')\n",
    " \n",
    " \n",
    "func(1)\n",
    "# will print 'bc'\n",
    "func(0)\n",
    "# will print 'ac'\n",
    "# beacuse x/x will raise a ZeroDivisionError"
   ],
   "metadata": {
    "collapsed": false,
    "ExecuteTime": {
     "end_time": "2023-08-06T15:09:44.187149779Z",
     "start_time": "2023-08-06T15:09:44.142007891Z"
    }
   },
   "id": "84a68cec3bad5f77"
  },
  {
   "cell_type": "markdown",
   "source": [
    "## Q168 - Functions\n",
    "\n",
    "What is the expected output of the following code?"
   ],
   "metadata": {
    "collapsed": false
   },
   "id": "829091a6dffddd88"
  },
  {
   "cell_type": "code",
   "execution_count": 59,
   "outputs": [
    {
     "name": "stdout",
     "output_type": "stream",
     "text": [
      "1024\n"
     ]
    }
   ],
   "source": [
    "x = lambda a, b: a ** b\n",
    "# x is a function that takes 2 arguments and returns a number\n",
    "# the function returns the first argument raised to the power of the second argument\n",
    "print(x(2, 10))\n",
    "# 2**10 is 1024"
   ],
   "metadata": {
    "collapsed": false,
    "ExecuteTime": {
     "end_time": "2023-08-06T15:12:09.296174213Z",
     "start_time": "2023-08-06T15:12:09.277317181Z"
    }
   },
   "id": "a1331b104e883d0f"
  },
  {
   "cell_type": "markdown",
   "source": [
    "## Q116 - Functions\n",
    "\n",
    "What is the expected output of the following code?"
   ],
   "metadata": {
    "collapsed": false
   },
   "id": "686f2b206954ffc4"
  },
  {
   "cell_type": "code",
   "execution_count": 60,
   "outputs": [
    {
     "ename": "UnboundLocalError",
     "evalue": "local variable 'num' referenced before assignment",
     "output_type": "error",
     "traceback": [
      "\u001B[0;31m---------------------------------------------------------------------------\u001B[0m",
      "\u001B[0;31mUnboundLocalError\u001B[0m                         Traceback (most recent call last)",
      "Cell \u001B[0;32mIn[60], line 8\u001B[0m\n\u001B[1;32m      4\u001B[0m     num \u001B[38;5;241m=\u001B[39m num \u001B[38;5;241m+\u001B[39m \u001B[38;5;241m3\u001B[39m\n\u001B[1;32m      5\u001B[0m     \u001B[38;5;28mprint\u001B[39m(num)\n\u001B[0;32m----> 8\u001B[0m \u001B[43mfunc\u001B[49m\u001B[43m(\u001B[49m\u001B[43m)\u001B[49m\n\u001B[1;32m     10\u001B[0m \u001B[38;5;28mprint\u001B[39m(num)\n",
      "Cell \u001B[0;32mIn[60], line 4\u001B[0m, in \u001B[0;36mfunc\u001B[0;34m()\u001B[0m\n\u001B[1;32m      3\u001B[0m \u001B[38;5;28;01mdef\u001B[39;00m \u001B[38;5;21mfunc\u001B[39m():\n\u001B[0;32m----> 4\u001B[0m     num \u001B[38;5;241m=\u001B[39m \u001B[43mnum\u001B[49m \u001B[38;5;241m+\u001B[39m \u001B[38;5;241m3\u001B[39m\n\u001B[1;32m      5\u001B[0m     \u001B[38;5;28mprint\u001B[39m(num)\n",
      "\u001B[0;31mUnboundLocalError\u001B[0m: local variable 'num' referenced before assignment"
     ]
    }
   ],
   "source": [
    "num = 1\n",
    " \n",
    "def func():\n",
    "    num = num + 3\n",
    "    # the function tries to access the global variable num\n",
    "    # but it is not possible to modify a global variable inside a function\n",
    "    print(num)\n",
    " \n",
    " \n",
    "func()\n",
    " \n",
    "print(num)\n"
   ],
   "metadata": {
    "collapsed": false,
    "ExecuteTime": {
     "end_time": "2023-08-06T15:13:47.213977739Z",
     "start_time": "2023-08-06T15:13:47.172181247Z"
    }
   },
   "id": "1ff57ee1cf7bbc77"
  },
  {
   "cell_type": "markdown",
   "source": [
    "## Q145 - Control Flow\n",
    "\n",
    "What is the expected output of the following code?"
   ],
   "metadata": {
    "collapsed": false
   },
   "id": "358e6f7b728deb5e"
  },
  {
   "cell_type": "code",
   "execution_count": 66,
   "outputs": [
    {
     "name": "stdout",
     "output_type": "stream",
     "text": [
      "x[0]: [[1, 2], [3, 4]]\n",
      "res: 1\n",
      "da: [1, 2]\n",
      "d: 1\n",
      "d: 2\n",
      "if res: 1\n",
      "da: [3, 4]\n",
      "d: 3\n",
      "if res: 2\n",
      "d: 4\n",
      "if res: 3\n",
      "4\n"
     ]
    }
   ],
   "source": [
    "x = [[[1, 2], [3, 4]], [[5, 6], [7, 8]]]\n",
    "# [[1, 2], [3, 4]], [[5, 6], [7, 8]]\n",
    " \n",
    "def func(data):\n",
    "    res = data[0][0]\n",
    "    print(f'res: {res}')\n",
    "    # res is 1\n",
    "    for da in data:\n",
    "        print(f'da: {da}')\n",
    "        for d in da:\n",
    "            print(f'd: {d}')\n",
    "            if res < d:\n",
    "                print(f'if res: {res}')\n",
    "                res = d\n",
    "    return res\n",
    "\n",
    "print(f'x[0]: {x[0]}')\n",
    "print(func(x[0]))\n",
    "# x[0] is [[1, 2], [3, 4]]"
   ],
   "metadata": {
    "collapsed": false,
    "ExecuteTime": {
     "end_time": "2023-08-06T15:26:45.945512922Z",
     "start_time": "2023-08-06T15:26:45.900880221Z"
    }
   },
   "id": "2ef6159b9fa2584c"
  },
  {
   "cell_type": "markdown",
   "source": [
    "## Q189 - Modules\n",
    "\n",
    "A function named f() is included in a module named m\n",
    "\n",
    "and the module is part of a package named p\n",
    "\n",
    "Which of the following code snippets allows you to properly invoke the function?\n",
    "\n",
    "(Select two answers.)"
   ],
   "metadata": {
    "collapsed": false
   },
   "id": "2fe19a360d47376d"
  },
  {
   "cell_type": "code",
   "execution_count": 67,
   "outputs": [],
   "source": [
    "# from p.m import f\n",
    "# f()"
   ],
   "metadata": {
    "collapsed": false,
    "ExecuteTime": {
     "end_time": "2023-08-06T15:29:37.381881028Z",
     "start_time": "2023-08-06T15:29:37.318115522Z"
    }
   },
   "id": "78d698d784952bf9"
  },
  {
   "cell_type": "code",
   "execution_count": 29,
   "outputs": [],
   "source": [
    "# import p.m\n",
    "# f()"
   ],
   "metadata": {
    "collapsed": false,
    "ExecuteTime": {
     "end_time": "2023-08-08T19:21:53.943606798Z",
     "start_time": "2023-08-08T19:21:53.901141453Z"
    }
   },
   "id": "fe377d1d97d428f"
  },
  {
   "cell_type": "code",
   "execution_count": 68,
   "outputs": [],
   "source": [],
   "metadata": {
    "collapsed": false,
    "ExecuteTime": {
     "end_time": "2023-08-06T15:30:06.044345518Z",
     "start_time": "2023-08-06T15:30:05.981606273Z"
    }
   },
   "id": "1d7655c91d74025b"
  },
  {
   "cell_type": "markdown",
   "source": [
    "## Q105 - Data Aggregates\n",
    "\n",
    "What is the expected output of the following code?"
   ],
   "metadata": {
    "collapsed": false
   },
   "id": "7fa614f7d77f5b7f"
  },
  {
   "cell_type": "code",
   "execution_count": 70,
   "outputs": [
    {
     "name": "stdout",
     "output_type": "stream",
     "text": [
      "[404, 3.03]\n"
     ]
    }
   ],
   "source": [
    "data = ['Peter', 404, 3.03, 'Wellert', 33.3]\n",
    "print(data[1:3])\n",
    "# [404, 3.03]\n",
    "# 1:3 means from index 1 to index 3, but not including index 3"
   ],
   "metadata": {
    "collapsed": false,
    "ExecuteTime": {
     "end_time": "2023-08-06T15:31:31.942012411Z",
     "start_time": "2023-08-06T15:31:31.896274450Z"
    }
   },
   "id": "adac5da013f9940f"
  },
  {
   "cell_type": "markdown",
   "source": [
    "## Q122 - Control Flow\n",
    "\n",
    "How many stars will the following code print to the monitor?"
   ],
   "metadata": {
    "collapsed": false
   },
   "id": "7759c4bac6240901"
  },
  {
   "cell_type": "code",
   "execution_count": 72,
   "outputs": [
    {
     "name": "stdout",
     "output_type": "stream",
     "text": [
      "*\n",
      "*\n"
     ]
    }
   ],
   "source": [
    "i = 0\n",
    "while i <= 3:\n",
    "    i += 2\n",
    "    # i is incremented by 2\n",
    "    # i will be 2, 4, 6\n",
    "    print('*')\n",
    "    # will print 2 stars\n"
   ],
   "metadata": {
    "collapsed": false,
    "ExecuteTime": {
     "end_time": "2023-08-06T15:33:51.982693797Z",
     "start_time": "2023-08-06T15:33:51.938407017Z"
    }
   },
   "id": "65129b21991cfb7e"
  },
  {
   "cell_type": "markdown",
   "source": [
    "## Q162 - Modules\n",
    "\n",
    "Select the true statements.\n",
    "\n",
    "Choose two."
   ],
   "metadata": {
    "collapsed": false
   },
   "id": "bf8c7e276eeb5a25"
  },
  {
   "cell_type": "markdown",
   "source": [
    "1. The system function from the platform module returns a string with your OS name.\n",
    "2. The version function from the platform module returns a string with your Python version.\n",
    "3. The processor function from the platform module returns an integer with the number of processes currently running in your OS. (Incorrect)\n",
    "4. The version function from the platform module returns a string with your OS version. (Incorrect)"
   ],
   "metadata": {
    "collapsed": false
   },
   "id": "1512e019b74c77fc"
  },
  {
   "cell_type": "code",
   "execution_count": 73,
   "outputs": [],
   "source": [
    "# 1 and 4  are correct"
   ],
   "metadata": {
    "collapsed": false,
    "ExecuteTime": {
     "end_time": "2023-08-06T15:39:53.597168115Z",
     "start_time": "2023-08-06T15:39:53.530048142Z"
    }
   },
   "id": "fe93cc2e5a36a3bd"
  },
  {
   "cell_type": "code",
   "execution_count": 74,
   "outputs": [
    {
     "name": "stdout",
     "output_type": "stream",
     "text": [
      "Linux\n",
      "#43~22.04.1-Ubuntu SMP PREEMPT_DYNAMIC Fri Apr 21 16:51:08 UTC 2\n",
      "x86_64\n",
      "3.10.9\n"
     ]
    }
   ],
   "source": [
    "import platform\n",
    "print(platform.system())\n",
    "print(platform.version())\n",
    "print(platform.processor())\n",
    "print(platform.python_version())"
   ],
   "metadata": {
    "collapsed": false,
    "ExecuteTime": {
     "end_time": "2023-08-06T18:02:52.087713675Z",
     "start_time": "2023-08-06T18:02:52.023660503Z"
    }
   },
   "id": "3a6be710df0bacd0"
  },
  {
   "cell_type": "code",
   "execution_count": 77,
   "outputs": [
    {
     "name": "stdout",
     "output_type": "stream",
     "text": [
      "Help on function system in module platform:\n",
      "\n",
      "system()\n",
      "    Returns the system/OS name, e.g. 'Linux', 'Windows' or 'Java'.\n",
      "    \n",
      "    An empty string is returned if the value cannot be determined.\n",
      "\n",
      "None\n",
      "Help on function version in module platform:\n",
      "\n",
      "version()\n",
      "    Returns the system's release version, e.g. '#3 on degas'\n",
      "    \n",
      "    An empty string is returned if the value cannot be determined.\n",
      "\n",
      "None\n",
      "Help on function processor in module platform:\n",
      "\n",
      "processor()\n",
      "    Returns the (true) processor name, e.g. 'amdk6'\n",
      "    \n",
      "    An empty string is returned if the value cannot be\n",
      "    determined. Note that many platforms do not provide this\n",
      "    information or simply return the same value as for machine(),\n",
      "    e.g.  NetBSD does this.\n",
      "\n",
      "None\n",
      "Help on function python_version in module platform:\n",
      "\n",
      "python_version()\n",
      "    Returns the Python version as string 'major.minor.patchlevel'\n",
      "    \n",
      "    Note that unlike the Python sys.version, the returned value\n",
      "    will always include the patchlevel (it defaults to 0).\n",
      "\n",
      "None\n"
     ]
    }
   ],
   "source": [
    "print(help(platform.system))\n",
    "print(help(platform.version))\n",
    "print(help(platform.processor))\n",
    "print(help(platform.python_version))"
   ],
   "metadata": {
    "collapsed": false,
    "ExecuteTime": {
     "end_time": "2023-08-06T18:05:57.460917660Z",
     "start_time": "2023-08-06T18:05:57.415045394Z"
    }
   },
   "id": "4d22b993f1146ead"
  },
  {
   "cell_type": "markdown",
   "source": [
    "## Q193 - OOP\n",
    "\n",
    "What is the expected output of the following code?"
   ],
   "metadata": {
    "collapsed": false
   },
   "id": "cacca0a8925e0c02"
  },
  {
   "cell_type": "code",
   "execution_count": 79,
   "outputs": [
    {
     "name": "stdout",
     "output_type": "stream",
     "text": [
      "False True\n"
     ]
    }
   ],
   "source": [
    "class Economy:\n",
    "    def __init__(self):\n",
    "        self.econ_attr = True\n",
    " \n",
    " \n",
    "class Business(Economy):\n",
    "    def __init__(self):\n",
    "        super().__init__()\n",
    "        self.busn_attr = False\n",
    " \n",
    " \n",
    "econ_a = Economy()\n",
    "econ_b = Economy()\n",
    "busn_a = Business()\n",
    "busn_b = busn_a\n",
    "print(isinstance(busn_a, Economy)\n",
    "      and isinstance(econ_a, Business), end=\" \")\n",
    "# busn_a is an instance of Business, which is a subclass of Economy\n",
    "# econ_a is an instance of Economy and not a subclass of Business\n",
    "print(busn_b is busn_a or econ_a is econ_b)\n",
    "# busn_b is busn_a, so True\n",
    "# the result is False True"
   ],
   "metadata": {
    "collapsed": false,
    "ExecuteTime": {
     "end_time": "2023-08-06T18:10:02.332729789Z",
     "start_time": "2023-08-06T18:10:02.311272432Z"
    }
   },
   "id": "3dc0d641149a271d"
  },
  {
   "cell_type": "markdown",
   "source": [
    "## Q142 - Operators\n",
    "\n",
    "What is the expected output of the following code?"
   ],
   "metadata": {
    "collapsed": false
   },
   "id": "3be253c6db0efec7"
  },
  {
   "cell_type": "code",
   "execution_count": 81,
   "outputs": [
    {
     "name": "stdout",
     "output_type": "stream",
     "text": [
      "17.5\n"
     ]
    }
   ],
   "source": [
    "x = 1 / 2 + 3 // 3 + 4 ** 2\n",
    "# zuerst wird 3 // 3 gerechnet, das ist 1\n",
    "# dann wird 4 ** 2 gerechnet, das ist 16\n",
    "# dann wird 1/2 gerechnet, das ist 0.5\n",
    "# dann wird 0.5 + 1 + 16 gerechnet, das ist 17.5\n",
    "print(x)"
   ],
   "metadata": {
    "collapsed": false,
    "ExecuteTime": {
     "end_time": "2023-08-06T18:14:29.388498236Z",
     "start_time": "2023-08-06T18:14:29.342508775Z"
    }
   },
   "id": "f308de6950396198"
  },
  {
   "cell_type": "markdown",
   "source": [
    "## Q104 - Data Aggregates\n",
    "\n",
    "What will be the output of the following code snippet?"
   ],
   "metadata": {
    "collapsed": false
   },
   "id": "cf6c8878541ab109"
  },
  {
   "cell_type": "code",
   "execution_count": 83,
   "outputs": [
    {
     "name": "stdout",
     "output_type": "stream",
     "text": [
      "[1, 3, 5, 7, 9]\n"
     ]
    }
   ],
   "source": [
    "a = [1, 2, 3, 4, 5, 6, 7, 8, 9]\n",
    "print(a[::2])\n",
    "# [1, 3, 5, 7, 9]\n",
    "# ::2 means from index 0 to the end, but only every second element"
   ],
   "metadata": {
    "collapsed": false,
    "ExecuteTime": {
     "end_time": "2023-08-06T18:15:33.701298653Z",
     "start_time": "2023-08-06T18:15:33.651307916Z"
    }
   },
   "id": "e7d37ea8f8f6b60f"
  },
  {
   "cell_type": "markdown",
   "source": [
    "## Q154 - I/O\n",
    "\n",
    "Which of the following commands can be used to read n characters from a file?"
   ],
   "metadata": {
    "collapsed": false
   },
   "id": "f41c37586bf1e220"
  },
  {
   "cell_type": "code",
   "execution_count": 84,
   "outputs": [],
   "source": [
    "# file.read(n)"
   ],
   "metadata": {
    "collapsed": false,
    "ExecuteTime": {
     "end_time": "2023-08-06T18:16:44.954156299Z",
     "start_time": "2023-08-06T18:16:44.888887169Z"
    }
   },
   "id": "395b535fc27b588e"
  },
  {
   "cell_type": "code",
   "execution_count": 85,
   "outputs": [
    {
     "name": "stdout",
     "output_type": "stream",
     "text": [
      "Ach a\n"
     ]
    }
   ],
   "source": [
    "file = open('data.txt', 'r')\n",
    "print(file.read(5))\n"
   ],
   "metadata": {
    "collapsed": false,
    "ExecuteTime": {
     "end_time": "2023-08-06T18:17:25.740707263Z",
     "start_time": "2023-08-06T18:17:25.698553831Z"
    }
   },
   "id": "6d405d844c7e3c45"
  },
  {
   "cell_type": "markdown",
   "source": [
    "## Q135 - Data Types\n",
    "\n",
    "The 0o prefix means that the number after it is denoted as:"
   ],
   "metadata": {
    "collapsed": false
   },
   "id": "ea9dedf59cb74b2e"
  },
  {
   "cell_type": "code",
   "execution_count": 86,
   "outputs": [],
   "source": [
    "# octal"
   ],
   "metadata": {
    "collapsed": false,
    "ExecuteTime": {
     "end_time": "2023-08-06T18:18:07.192792512Z",
     "start_time": "2023-08-06T18:18:07.114964795Z"
    }
   },
   "id": "6dd73b49941c063a"
  },
  {
   "cell_type": "markdown",
   "source": [
    "## Q174 - I/O\n",
    "\n",
    "Assuming that the open() invocation has gone successfully, the following snippet will:"
   ],
   "metadata": {
    "collapsed": false
   },
   "id": "7ffbaa8f665ca726"
  },
  {
   "cell_type": "code",
   "execution_count": 88,
   "outputs": [
    {
     "name": "stdout",
     "output_type": "stream",
     "text": [
      "Ach achthausen frohlicher blo dammerigen ist verstehsts handarbeit birkendose. Wirrwarr flo eck das brauchen marschen sei sprechen schweren. Bildnis bedeckt wahrend ehe mundart achtete tat ins hob. Argerte spatzen solchen so gesicht in beinahe am se einfand. Ja wo sies ihre karl wu es wenn. Gefallts bezahlen trostlos mi es du. Pa gegenuber herkommen sa em grundlich vergesset meisterin. Wies zu brot aber im es er klar nach. Aus tat verodeten klimperte hat ertastete. Ja am sommer letzte servus.\n",
      "\n",
      "\n",
      "\n",
      "Wo bild tief arme dann wies ja auch. Acht bett leid sa im da. Bescheiden du da landsleute kartoffeln zu sa. Sehen warte so an pfiff. Bleibt ihn heimat herein die keiner gehort. Es uberging te es da gedichte zusammen rabatten verwirrt.\n",
      "\n",
      "\n",
      "\n",
      "In schlecht gegessen wo gesteckt ja spannung neunzehn. Gelandes du kurioses um mu halblaut weiblein. Hielt he sehen sagte du reden. So erkundigte vergnugter wahrhaftig hausdacher zu messingnen. See wunschte behalten erschrak ers art kam wohlfeil. Wirtin erisch soviel der dus hinter hab mir armeln verlor. Feucht spater allein er im lernen. Armen hin ehe genug deine naher hab.\n",
      "\n",
      "\n",
      "\n",
      "So leer ware doch rote scho la. Im lehrlingen feierabend er ja ja bugeleisen gesprachig. En gang so he frau mude es. Zueinander federdecke wasserkrug er he. Leid hort nein ein mir kaum ins. Sohlen fu mu kehrte wo en sitzen. Ortes wurde extra stuhl im du schau es zu. Richtete sparlich du erzahlen konntest gesichts ri burschen. Kraftlos ob lampchen so er te schreien zinnerne vorwarts schweren.\n"
     ]
    }
   ],
   "source": [
    "for x in open('data.txt', 'rt'):\n",
    "    # open the file data.txt for reading in text mode\n",
    "    # and iterate over the lines\n",
    "    print(x)"
   ],
   "metadata": {
    "collapsed": false,
    "ExecuteTime": {
     "end_time": "2023-08-06T18:19:17.715356777Z",
     "start_time": "2023-08-06T18:19:17.693420719Z"
    }
   },
   "id": "32efcb1aa75ad98b"
  },
  {
   "cell_type": "markdown",
   "source": [
    "## Q161 - Modules\n",
    "\n",
    "What is true about updating already installed Python packages?"
   ],
   "metadata": {
    "collapsed": false
   },
   "id": "ca98e805789bbe75"
  },
  {
   "cell_type": "code",
   "execution_count": 90,
   "outputs": [],
   "source": [
    "# install -U package_name\n",
    "# the option -U means upgrade"
   ],
   "metadata": {
    "collapsed": false,
    "ExecuteTime": {
     "end_time": "2023-08-06T18:21:54.952495487Z",
     "start_time": "2023-08-06T18:21:54.935012306Z"
    }
   },
   "id": "f449b1727e4939a6"
  },
  {
   "cell_type": "markdown",
   "source": [
    "## Q130 - OOP\n",
    "\n",
    "What is the expected output of the following code?"
   ],
   "metadata": {
    "collapsed": false
   },
   "id": "3d86241acb68146e"
  },
  {
   "cell_type": "code",
   "execution_count": 92,
   "outputs": [
    {
     "name": "stdout",
     "output_type": "stream",
     "text": [
      "True\n"
     ]
    }
   ],
   "source": [
    "\n",
    "class A:\n",
    "    pass\n",
    " \n",
    "class B(A):\n",
    "    pass\n",
    " \n",
    "class C(B):\n",
    "    pass\n",
    " \n",
    "print(issubclass(C, A))\n",
    "# C is a subclass of A\n",
    "# since C is a subclass of B and B is a subclass of A\n",
    "# this is called inheritance"
   ],
   "metadata": {
    "collapsed": false,
    "ExecuteTime": {
     "end_time": "2023-08-06T18:23:03.990979537Z",
     "start_time": "2023-08-06T18:23:03.967903021Z"
    }
   },
   "id": "8c8887f20c6c03d2"
  },
  {
   "cell_type": "markdown",
   "source": [
    "## Q108 - Data Aggregates\n",
    "\n",
    "What will be the output of the following code snippet?"
   ],
   "metadata": {
    "collapsed": false
   },
   "id": "5fa05623f66ad4f9"
  },
  {
   "cell_type": "code",
   "execution_count": 93,
   "outputs": [
    {
     "name": "stdout",
     "output_type": "stream",
     "text": [
      "4\n"
     ]
    }
   ],
   "source": [
    "\n",
    "d = {}\n",
    "# create an empty dictionary\n",
    "d[1] = 1\n",
    "# add a key-value pair to the dictionary\n",
    "d['1'] = 2\n",
    "# add another key-value pair to the dictionary\n",
    "d[1] += 1\n",
    "# increment the value of the key 1 by 1\n",
    "# the value of the key 1 is now 2\n",
    " \n",
    "sum = 0\n",
    "# create a variable sum and set it to 0\n",
    " \n",
    "for k in d:\n",
    "    # iterate over the keys of the dictionary\n",
    "    sum += d[k]\n",
    "    # add the value of the key to the sum\n",
    " \n",
    "print(sum)\n",
    "# the result is 4"
   ],
   "metadata": {
    "collapsed": false,
    "ExecuteTime": {
     "end_time": "2023-08-06T18:25:04.256818949Z",
     "start_time": "2023-08-06T18:25:04.194162556Z"
    }
   },
   "id": "f63dbf5f8987c9f"
  },
  {
   "cell_type": "markdown",
   "source": [
    "## Q121 - Control Flow\n",
    "\n",
    "What is the expected output of the following code?"
   ],
   "metadata": {
    "collapsed": false
   },
   "id": "dae1491df87a85f"
  },
  {
   "cell_type": "code",
   "execution_count": 94,
   "outputs": [
    {
     "name": "stdout",
     "output_type": "stream",
     "text": [
      "1\n"
     ]
    }
   ],
   "source": [
    "def func(x):\n",
    "    # define a function func with one parameter x\n",
    "    return 1 if x % 2 != 0 else 2\n",
    "    # if x is odd, return 1, else return 2\n",
    "    # for 1 the result is 1, for 2 the result is 2\n",
    " \n",
    "print(func(func(1)))\n",
    "# the result is 1\n",
    "# the inner func(1) returns 1\n",
    "# the outer func(1) returns 1"
   ],
   "metadata": {
    "collapsed": false,
    "ExecuteTime": {
     "end_time": "2023-08-06T18:27:08.923360476Z",
     "start_time": "2023-08-06T18:27:08.856219916Z"
    }
   },
   "id": "118b33442127b039"
  },
  {
   "cell_type": "markdown",
   "source": [
    "## Q143 - Functions\n",
    "\n",
    "What is the expected output of the following code?"
   ],
   "metadata": {
    "collapsed": false
   },
   "id": "1d78cb844c9d72e7"
  },
  {
   "cell_type": "code",
   "execution_count": 98,
   "outputs": [
    {
     "name": "stdout",
     "output_type": "stream",
     "text": [
      "[1, 2, 3]\n",
      "[42, 2, 3]\n",
      "3 42\n"
     ]
    }
   ],
   "source": [
    "def func(p1, p2):\n",
    "    # define a function func with two parameters p1 and p2\n",
    "    p1 = 1\n",
    "    # set the value of p1 to 1\n",
    "    print(p2)\n",
    "    p2[0] = 42\n",
    "    print(p2)\n",
    "    # set the value of the first element of p2 to 42\n",
    " \n",
    " \n",
    "x = 3\n",
    "y = [1, 2, 3]\n",
    " \n",
    "func(x, y)\n",
    "# call the function func with the arguments x and y\n",
    "# x is an integer, y is a list\n",
    "# the value of x is not changed, the value of y is changed\n",
    "# y is a mutable object, so the value of y can be changed\n",
    "# x is an immutable object, so the value of x cannot be changed\n",
    "# why is x inmutable? because it is an integer\n",
    "# why is y mutable? because it is a list\n",
    "# is a string mutable? no, it is inmutable\n",
    "\n",
    " \n",
    "print(x, y[0])\n",
    "# the result is 3 42"
   ],
   "metadata": {
    "collapsed": false,
    "ExecuteTime": {
     "end_time": "2023-08-06T18:32:38.097936829Z",
     "start_time": "2023-08-06T18:32:38.048142070Z"
    }
   },
   "id": "69b7fee9e5ff079e"
  },
  {
   "cell_type": "markdown",
   "source": [
    "## Q151 - OOP\n",
    "\n",
    "You want to check,\n",
    "\n",
    "whether the variable obj contains an object of the class A\n",
    "\n",
    "Which of the following statements can you use?"
   ],
   "metadata": {
    "collapsed": false
   },
   "id": "e11e3b957b39f84"
  },
  {
   "cell_type": "code",
   "execution_count": 99,
   "outputs": [],
   "source": [
    "# isinstance(obj, A)"
   ],
   "metadata": {
    "collapsed": false,
    "ExecuteTime": {
     "end_time": "2023-08-06T18:34:20.034275818Z",
     "start_time": "2023-08-06T18:34:19.969740316Z"
    }
   },
   "id": "43e9c579584c156"
  },
  {
   "cell_type": "markdown",
   "source": [
    "## Q132 - OOP\n",
    "\n",
    "\n",
    "What is the expected output of the following code?"
   ],
   "metadata": {
    "collapsed": false
   },
   "id": "55efcd1efbbfeeed"
  },
  {
   "cell_type": "code",
   "execution_count": 100,
   "outputs": [
    {
     "name": "stdout",
     "output_type": "stream",
     "text": [
      "3 1\n"
     ]
    }
   ],
   "source": [
    "class A:\n",
    "    def __init__(self, x=0):\n",
    "        self.x = x\n",
    "        # set the value of the attribute x to the value of the parameter x\n",
    " \n",
    "    def func(self):\n",
    "        self.x += 1\n",
    "        # increment the value of the attribute x by 1\n",
    " \n",
    " \n",
    "class B(A):\n",
    "    def __init__(self, y=0):\n",
    "        A.__init__(self, 3)\n",
    "        # call the constructor of the superclass A\n",
    "        # and pass the value 3 as the parameter x\n",
    "        # the value of the attribute x is now 3\n",
    "        self.y = y\n",
    "        # set the value of the attribute y to the value of the parameter y\n",
    "        # the value of the attribute y is now 0\n",
    " \n",
    "    def func(self):\n",
    "        self.y += 1\n",
    "        # increment the value of the attribute y by 1\n",
    "        # the value of the attribute y is now 1\n",
    "        # because the func is overwritten in the subclass B\n",
    " \n",
    "b = B()\n",
    "# create an object of the class B\n",
    "# the value of the attribute x is 3\n",
    "# the value of the attribute y is 0\n",
    "b.func()\n",
    "# call the method func of the object b\n",
    "# the value of the attribute y is now 1\n",
    "print(b.x, b.y)\n",
    "# the result is 3 1"
   ],
   "metadata": {
    "collapsed": false,
    "ExecuteTime": {
     "end_time": "2023-08-06T18:36:18.079651832Z",
     "start_time": "2023-08-06T18:36:18.006864634Z"
    }
   },
   "id": "e7e51678a91d762d"
  },
  {
   "cell_type": "markdown",
   "source": [
    "## Q140 - Error Handling\n",
    "\n",
    "What is the expected output of the following code?"
   ],
   "metadata": {
    "collapsed": false
   },
   "id": "534a1ba3d194f2ba"
  },
  {
   "cell_type": "code",
   "execution_count": 101,
   "outputs": [
    {
     "ename": "TypeError",
     "evalue": "can't multiply sequence by non-int of type 'str'",
     "output_type": "error",
     "traceback": [
      "\u001B[0;31m---------------------------------------------------------------------------\u001B[0m",
      "\u001B[0;31mTypeError\u001B[0m                                 Traceback (most recent call last)",
      "Cell \u001B[0;32mIn[101], line 1\u001B[0m\n\u001B[0;32m----> 1\u001B[0m num \u001B[38;5;241m=\u001B[39m \u001B[38;5;124;43m'\u001B[39;49m\u001B[38;5;124;43m7\u001B[39;49m\u001B[38;5;124;43m'\u001B[39;49m\u001B[43m \u001B[49m\u001B[38;5;241;43m*\u001B[39;49m\u001B[43m \u001B[49m\u001B[38;5;124;43m'\u001B[39;49m\u001B[38;5;124;43m7\u001B[39;49m\u001B[38;5;124;43m'\u001B[39;49m\n\u001B[1;32m      2\u001B[0m \u001B[38;5;28mprint\u001B[39m(num)\n",
      "\u001B[0;31mTypeError\u001B[0m: can't multiply sequence by non-int of type 'str'"
     ]
    }
   ],
   "source": [
    "num = '7' * '7'\n",
    "# TypeError: can't multiply sequence by non-int of type 'str'\n",
    "# the multiplication operator * can only be used with a number\n",
    "# the string '7' is not a number\n",
    "print(num)"
   ],
   "metadata": {
    "collapsed": false,
    "ExecuteTime": {
     "end_time": "2023-08-06T18:39:12.184618440Z",
     "start_time": "2023-08-06T18:39:12.110691655Z"
    }
   },
   "id": "1ded5ccfbdf9579a"
  },
  {
   "cell_type": "markdown",
   "source": [
    "## Q167 - Control Flow\n",
    "\n",
    "What is the expected output of the following code?"
   ],
   "metadata": {
    "collapsed": false
   },
   "id": "e1e5c0ecc4862363"
  },
  {
   "cell_type": "code",
   "execution_count": 102,
   "outputs": [
    {
     "name": "stdout",
     "output_type": "stream",
     "text": [
      "[0, 2, 4, 6, 8]\n"
     ]
    }
   ],
   "source": [
    "\n",
    "foo = [i + i for i in range(5)]\n",
    "# [0, 2, 4, 6, 8]\n",
    "# create a list with the values 0, 2, 4, 6, 8\n",
    "# the values are the result of the expression i + i\n",
    "# i is an integer, so the result is an integer\n",
    "# the range is from 0 to 4, so the values are 0, 1, 2, 3, 4\n",
    "print(foo)"
   ],
   "metadata": {
    "collapsed": false,
    "ExecuteTime": {
     "end_time": "2023-08-06T18:46:41.425761475Z",
     "start_time": "2023-08-06T18:46:41.359884323Z"
    }
   },
   "id": "8f95ba026acdc8b0"
  },
  {
   "cell_type": "markdown",
   "source": [
    "## Q158 - Operators\n",
    "\n",
    "You develop a Python application for your company.\n",
    "\n",
    "You have the following code.\n",
    "Which of the following expressions is equivalent to the expression in the function?"
   ],
   "metadata": {
    "collapsed": false
   },
   "id": "f64d1827b5f7d5d4"
  },
  {
   "cell_type": "code",
   "execution_count": 103,
   "outputs": [],
   "source": [
    "\n",
    "def main(a, b, c, d):\n",
    "    value = a + b * c - d\n",
    "    return value"
   ],
   "metadata": {
    "collapsed": false,
    "ExecuteTime": {
     "end_time": "2023-08-06T18:49:18.754309913Z",
     "start_time": "2023-08-06T18:49:18.698067260Z"
    }
   },
   "id": "41a21e91685dffd4"
  },
  {
   "cell_type": "code",
   "execution_count": 104,
   "outputs": [
    {
     "data": {
      "text/plain": "3"
     },
     "execution_count": 104,
     "metadata": {},
     "output_type": "execute_result"
    }
   ],
   "source": [
    "main(1, 2, 3, 4)"
   ],
   "metadata": {
    "collapsed": false,
    "ExecuteTime": {
     "end_time": "2023-08-06T18:49:31.390671269Z",
     "start_time": "2023-08-06T18:49:31.308151775Z"
    }
   },
   "id": "aab534566fd88144"
  },
  {
   "cell_type": "code",
   "execution_count": 105,
   "outputs": [
    {
     "data": {
      "text/plain": "3"
     },
     "execution_count": 105,
     "metadata": {},
     "output_type": "execute_result"
    }
   ],
   "source": [
    "a = 1\n",
    "b = 2\n",
    "c = 3\n",
    "d = 4\n",
    "a + ((b * c) - d)"
   ],
   "metadata": {
    "collapsed": false,
    "ExecuteTime": {
     "end_time": "2023-08-06T18:49:58.572421285Z",
     "start_time": "2023-08-06T18:49:58.485534442Z"
    }
   },
   "id": "c7005047ca2003fa"
  },
  {
   "cell_type": "markdown",
   "source": [
    "## Q103 - Basics\n",
    "\n",
    "What will be the output of the following code snippet?"
   ],
   "metadata": {
    "collapsed": false
   },
   "id": "531e0d1f251ad304"
  },
  {
   "cell_type": "code",
   "execution_count": 106,
   "outputs": [
    {
     "name": "stdout",
     "output_type": "stream",
     "text": [
      "2 1\n"
     ]
    }
   ],
   "source": [
    "x = 1\n",
    "y = 2\n",
    "z = x\n",
    "x = y\n",
    "y = z\n",
    "print(x, y)"
   ],
   "metadata": {
    "collapsed": false,
    "ExecuteTime": {
     "end_time": "2023-08-06T18:50:55.909510309Z",
     "start_time": "2023-08-06T18:50:55.825080889Z"
    }
   },
   "id": "3411ed0dae302ae3"
  },
  {
   "cell_type": "markdown",
   "source": [
    "## Q124 - Basics\n",
    "\n",
    "Which of the following variable names is illegal?"
   ],
   "metadata": {
    "collapsed": false
   },
   "id": "55691db92c791f2f"
  },
  {
   "cell_type": "code",
   "execution_count": 109,
   "outputs": [],
   "source": [
    "# in_\n",
    "# the underscore _ is allowed in a variable name\n",
    "# In\n",
    "# the first letter must be a lowercase letter\n",
    "# IN\n",
    "# the first letter must be a lowercase letter\n",
    "# in\n",
    "# in as a variable name is allowed"
   ],
   "metadata": {
    "collapsed": false,
    "ExecuteTime": {
     "end_time": "2023-08-06T18:53:19.096874817Z",
     "start_time": "2023-08-06T18:53:19.046186239Z"
    }
   },
   "id": "b4300249cbf622f2"
  },
  {
   "cell_type": "markdown",
   "source": [
    "## Q182 - Functions\n",
    "\n",
    "Which of the following lines contain valid Python code?\n",
    "(Select two answers.)"
   ],
   "metadata": {
    "collapsed": false
   },
   "id": "92c5525bf409b4d8"
  },
  {
   "cell_type": "code",
   "execution_count": 110,
   "outputs": [
    {
     "ename": "SyntaxError",
     "evalue": "invalid syntax (1004011283.py, line 3)",
     "output_type": "error",
     "traceback": [
      "\u001B[0;36m  Cell \u001B[0;32mIn[110], line 3\u001B[0;36m\u001B[0m\n\u001B[0;31m    lambda (a, b): return a if a < b else b\u001B[0m\n\u001B[0m           ^\u001B[0m\n\u001B[0;31mSyntaxError\u001B[0m\u001B[0;31m:\u001B[0m invalid syntax\n"
     ]
    }
   ],
   "source": [
    "lambda a, b: a if a < b else b\n",
    "# this is a lambda function\n",
    "lambda (a, b): return a if a < b else b\n",
    "# this is not a valid lambda function\n",
    "lambda a, b = a if a < b else b\n",
    "# this is not a valid lambda function\n",
    "lambda a, b: True\n",
    "# this is a lambda function"
   ],
   "metadata": {
    "collapsed": false,
    "ExecuteTime": {
     "end_time": "2023-08-06T18:57:59.357504491Z",
     "start_time": "2023-08-06T18:57:59.270676615Z"
    }
   },
   "id": "a7f89aa1d28b00a0"
  },
  {
   "cell_type": "markdown",
   "source": [
    "## Q181 - Control Flow\n",
    "\n",
    "What is the expected output of the following code?"
   ],
   "metadata": {
    "collapsed": false
   },
   "id": "63b05c865f887948"
  },
  {
   "cell_type": "code",
   "execution_count": 112,
   "outputs": [
    {
     "name": "stdout",
     "output_type": "stream",
     "text": [
      "4\n"
     ]
    }
   ],
   "source": [
    "plane = \"Cessna\"\n",
    "counter = 0\n",
    "for c in plane * 2:\n",
    "    # iterate over the characters of the string plane * 2\n",
    "    # the string plane * 2 is \"CessnaCessna\"\n",
    "    # the characters are C, e, s, s, n, a, C, e, s, s, n, a\n",
    "    if c in [\"e\", \"a\"]:\n",
    "        # check if the character c is in the list [\"e\", \"a\"]\n",
    "        # the characters e and a are in the list\n",
    "        counter += 1\n",
    "print(counter)\n",
    "# the result is 4"
   ],
   "metadata": {
    "collapsed": false,
    "ExecuteTime": {
     "end_time": "2023-08-06T18:59:53.571681939Z",
     "start_time": "2023-08-06T18:59:53.529384529Z"
    }
   },
   "id": "1ab542bad06fae59"
  },
  {
   "cell_type": "markdown",
   "source": [
    "## Q106 - Functions\n",
    "\n",
    "What is the default return value for a function\n",
    "that does not explicitly return any value?"
   ],
   "metadata": {
    "collapsed": false
   },
   "id": "99f7d3aa1af1fc7"
  },
  {
   "cell_type": "code",
   "execution_count": 114,
   "outputs": [],
   "source": [
    "# None"
   ],
   "metadata": {
    "collapsed": false,
    "ExecuteTime": {
     "end_time": "2023-08-06T19:00:48.799592557Z",
     "start_time": "2023-08-06T19:00:48.720534479Z"
    }
   },
   "id": "4f5203c8169710b1"
  },
  {
   "cell_type": "code",
   "execution_count": 115,
   "outputs": [],
   "source": [
    "def func():\n",
    "    pass"
   ],
   "metadata": {
    "collapsed": false,
    "ExecuteTime": {
     "end_time": "2023-08-06T19:00:51.589785135Z",
     "start_time": "2023-08-06T19:00:51.515923903Z"
    }
   },
   "id": "161b861353f36abd"
  },
  {
   "cell_type": "code",
   "execution_count": 117,
   "outputs": [
    {
     "name": "stdout",
     "output_type": "stream",
     "text": [
      "None\n"
     ]
    }
   ],
   "source": [
    "print(func())"
   ],
   "metadata": {
    "collapsed": false,
    "ExecuteTime": {
     "end_time": "2023-08-06T19:01:13.628154496Z",
     "start_time": "2023-08-06T19:01:13.606641523Z"
    }
   },
   "id": "6a224ddd7628708"
  },
  {
   "cell_type": "markdown",
   "source": [
    "## Q114 - Control Flow\n",
    "\n",
    "Which of the following for loops would output the below number pattern?\n",
    "11111\n",
    "22222\n",
    "33333\n",
    "44444\n",
    "55555"
   ],
   "metadata": {
    "collapsed": false
   },
   "id": "317969fdf7ec99ad"
  },
  {
   "cell_type": "code",
   "execution_count": 118,
   "outputs": [
    {
     "name": "stdout",
     "output_type": "stream",
     "text": [
      "11111\n",
      "22222\n",
      "33333\n",
      "44444\n",
      "55555\n"
     ]
    }
   ],
   "source": [
    "for i in range(1, 6):\n",
    "    print(str(i) * 5)"
   ],
   "metadata": {
    "collapsed": false,
    "ExecuteTime": {
     "end_time": "2023-08-06T19:02:36.754077151Z",
     "start_time": "2023-08-06T19:02:36.657871719Z"
    }
   },
   "id": "8e1d669d7f636cea"
  },
  {
   "cell_type": "markdown",
   "source": [
    "## Q152 - Basics\n",
    "\n",
    "What is the expected output of the following code?"
   ],
   "metadata": {
    "collapsed": false
   },
   "id": "298c65ed12a805d9"
  },
  {
   "cell_type": "code",
   "execution_count": 120,
   "outputs": [
    {
     "name": "stdout",
     "output_type": "stream",
     "text": [
      "1\n"
     ]
    }
   ],
   "source": [
    "\n",
    "x = '\\''\n",
    "# the value of the variable x is the string '\n",
    "# the backslash \\ is used to escape the single quote '\n",
    "print(len(x))"
   ],
   "metadata": {
    "collapsed": false,
    "ExecuteTime": {
     "end_time": "2023-08-06T19:03:54.191536253Z",
     "start_time": "2023-08-06T19:03:54.157487871Z"
    }
   },
   "id": "9bcb78448c226726"
  },
  {
   "cell_type": "markdown",
   "source": [
    "## Q194 - OOP\n",
    "\n",
    "What is the expected behavior of the following snippet?"
   ],
   "metadata": {
    "collapsed": false
   },
   "id": "ce00013d28519e77"
  },
  {
   "cell_type": "code",
   "execution_count": 122,
   "outputs": [
    {
     "name": "stdout",
     "output_type": "stream",
     "text": [
      "Alpha\n"
     ]
    }
   ],
   "source": [
    "class Team:\n",
    "    def show_ID(self):\n",
    "        # the method show_ID is defined in the class Team\n",
    "        print(self.get_ID())\n",
    "        # call the method get_ID of the object self\n",
    "        # the object self is an object of the class A\n",
    "        # since the method get_ID is overwritten in the class A\n",
    " \n",
    "    def get_ID(self):\n",
    "        # the method get_ID is defined in the class Team\n",
    "        # the method get_ID is overwritten in the class A\n",
    "        # so the method get_ID of the class A is called\n",
    "        return \"anonymous\"\n",
    " \n",
    " \n",
    "class A(Team):\n",
    "    def get_ID(self):\n",
    "        # the method get_ID is defined in the class A\n",
    "        # the method get_ID is overwritten in the class A\n",
    "        return \"Alpha\"\n",
    " \n",
    " \n",
    "a = A()\n",
    "a.show_ID()\n",
    "# call the method show_ID of the object a\n",
    "# the result is Alpha"
   ],
   "metadata": {
    "collapsed": false,
    "ExecuteTime": {
     "end_time": "2023-08-06T19:07:12.872917001Z",
     "start_time": "2023-08-06T19:07:12.827333429Z"
    }
   },
   "id": "ee9a9dd1781935f8"
  },
  {
   "cell_type": "markdown",
   "source": [
    "## Q165 - Functions\n",
    "\n",
    "isalnum() checks if a string contains only letters and digits, and this is:"
   ],
   "metadata": {
    "collapsed": false
   },
   "id": "146b05038e567798"
  },
  {
   "cell_type": "code",
   "execution_count": 124,
   "outputs": [
    {
     "data": {
      "text/plain": "True"
     },
     "execution_count": 124,
     "metadata": {},
     "output_type": "execute_result"
    }
   ],
   "source": [
    "# isalnum() returns True if all characters in the string are alphanumeric\n",
    "# it is a method of the class str\n",
    "'abcd3'.isalnum()"
   ],
   "metadata": {
    "collapsed": false,
    "ExecuteTime": {
     "end_time": "2023-08-06T19:09:54.040012136Z",
     "start_time": "2023-08-06T19:09:53.977743314Z"
    }
   },
   "id": "b3d52bb9156c220c"
  },
  {
   "cell_type": "markdown",
   "source": [
    "## Q133 - Modules\n",
    "\n",
    "Knowing that a function named randint()\n",
    "resides in the module named random\n",
    "choose the proper way to import it:"
   ],
   "metadata": {
    "collapsed": false
   },
   "id": "65dc52f7d7469b8d"
  },
  {
   "cell_type": "code",
   "execution_count": 127,
   "outputs": [
    {
     "data": {
      "text/plain": "6"
     },
     "execution_count": 127,
     "metadata": {},
     "output_type": "execute_result"
    }
   ],
   "source": [
    "from random import randint\n",
    "randint(1, 10)"
   ],
   "metadata": {
    "collapsed": false,
    "ExecuteTime": {
     "end_time": "2023-08-06T19:10:56.889551128Z",
     "start_time": "2023-08-06T19:10:56.862384867Z"
    }
   },
   "id": "d93f563e282f0dc0"
  },
  {
   "cell_type": "markdown",
   "source": [
    "## Q173 - OOP\n",
    "\n",
    "What is the expected output of the following code?"
   ],
   "metadata": {
    "collapsed": false
   },
   "id": "f69fd11f8dabe389"
  },
  {
   "cell_type": "code",
   "execution_count": 129,
   "outputs": [
    {
     "ename": "AttributeError",
     "evalue": "'A' object has no attribute '__a'",
     "output_type": "error",
     "traceback": [
      "\u001B[0;31m---------------------------------------------------------------------------\u001B[0m",
      "\u001B[0;31mAttributeError\u001B[0m                            Traceback (most recent call last)",
      "Cell \u001B[0;32mIn[129], line 14\u001B[0m\n\u001B[1;32m     12\u001B[0m a \u001B[38;5;241m=\u001B[39m A(\u001B[38;5;241m0\u001B[39m)\n\u001B[1;32m     13\u001B[0m \u001B[38;5;66;03m# create an object of the class A\u001B[39;00m\n\u001B[0;32m---> 14\u001B[0m \u001B[38;5;28mprint\u001B[39m(\u001B[43ma\u001B[49m\u001B[38;5;241;43m.\u001B[39;49m\u001B[43m__a\u001B[49m)\n",
      "\u001B[0;31mAttributeError\u001B[0m: 'A' object has no attribute '__a'"
     ]
    }
   ],
   "source": [
    "class A:\n",
    "    def __init__(self, x):\n",
    "        # __init__ is a constructor\n",
    "        # __init__ is also called a magic method\n",
    "        # a magic method is a method that is called automatically\n",
    "        self.__a = x + 1\n",
    "        # the attribute __a is defined in the class A\n",
    "        # the attribute __a is initialized with the value of the parameter x + 1\n",
    "        # __a is a private attribute\n",
    " \n",
    " \n",
    "a = A(0)\n",
    "# create an object of the class A\n",
    "print(a.__a)\n",
    "# the value of the attribute __a is 1\n",
    "# but the attribute __a is private\n",
    "# so the result is AttributeError: 'A' object has no attribute '__a'"
   ],
   "metadata": {
    "collapsed": false,
    "ExecuteTime": {
     "end_time": "2023-08-06T19:48:03.117901018Z",
     "start_time": "2023-08-06T19:48:03.058505765Z"
    }
   },
   "id": "db5672976ec50f8f"
  },
  {
   "cell_type": "markdown",
   "source": [
    "## Q127 - Error Handling\n",
    "\n",
    "What is the expected output of the following code?"
   ],
   "metadata": {
    "collapsed": false
   },
   "id": "b77f5b3aa2efc676"
  },
  {
   "cell_type": "code",
   "execution_count": 131,
   "outputs": [
    {
     "name": "stdout",
     "output_type": "stream",
     "text": [
      "23\n",
      "42\n"
     ]
    }
   ],
   "source": [
    "def func():\n",
    "    try:\n",
    "        # try to execute the code in the try block\n",
    "        # if an exception occurs, the code in the except block is executed\n",
    "        print(23)\n",
    "    finally:\n",
    "        # the code in the finally block is always executed\n",
    "        # even if an exception occurs\n",
    "        print(42)\n",
    " \n",
    " \n",
    "func()\n"
   ],
   "metadata": {
    "collapsed": false,
    "ExecuteTime": {
     "end_time": "2023-08-06T19:49:53.583758616Z",
     "start_time": "2023-08-06T19:49:53.521836686Z"
    }
   },
   "id": "fb26d8e57a23e877"
  },
  {
   "cell_type": "markdown",
   "source": [
    "## Q120 - Basics\n",
    "\n",
    "What is the expected output of the following code?"
   ],
   "metadata": {
    "collapsed": false
   },
   "id": "abd31e82512b2217"
  },
  {
   "cell_type": "code",
   "execution_count": 133,
   "outputs": [
    {
     "name": "stdout",
     "output_type": "stream",
     "text": [
      "1 1 2\n"
     ]
    }
   ],
   "source": [
    "x = 1\n",
    "y = 2\n",
    "x, y, z = x, x, y\n",
    "# the value of x is 1\n",
    "# the value of y is 1\n",
    "# the value of z is 2\n",
    "z, y, z = x, y, z\n",
    "# the value of x is 1\n",
    "# the value of y is 1\n",
    "# the value of z is 2\n",
    "print(x, y, z)\n",
    "# the result is 1 1 2"
   ],
   "metadata": {
    "collapsed": false,
    "ExecuteTime": {
     "end_time": "2023-08-06T19:51:50.905311777Z",
     "start_time": "2023-08-06T19:51:50.843165322Z"
    }
   },
   "id": "16f4a0e94b14a325"
  },
  {
   "cell_type": "markdown",
   "source": [
    "## Q159 - Modules\n",
    "\n",
    "What is the expected output of the following code?"
   ],
   "metadata": {
    "collapsed": false
   },
   "id": "e1567c15699b9235"
  },
  {
   "cell_type": "code",
   "execution_count": 136,
   "outputs": [
    {
     "name": "stdout",
     "output_type": "stream",
     "text": [
      "1\n"
     ]
    }
   ],
   "source": [
    "import math\n",
    " \n",
    "result = math.e != math.pow(2, 4)\n",
    "# math.e is the mathematical constant e\n",
    "# math.pow(2, 4) is 2 to the power of 4\n",
    "# result is True since e is not equal to 2 to the power of 4\n",
    "print(int(result))\n",
    "# the result is 1 since True is equal to 1"
   ],
   "metadata": {
    "collapsed": false,
    "ExecuteTime": {
     "end_time": "2023-08-06T19:53:50.226275101Z",
     "start_time": "2023-08-06T19:53:50.163433491Z"
    }
   },
   "id": "8350141c6f96f86c"
  },
  {
   "cell_type": "code",
   "execution_count": 135,
   "outputs": [
    {
     "name": "stdout",
     "output_type": "stream",
     "text": [
      "2.718281828459045\n",
      "16.0\n"
     ]
    }
   ],
   "source": [
    "print(math.e)\n",
    "print(math.pow(2, 4))"
   ],
   "metadata": {
    "collapsed": false,
    "ExecuteTime": {
     "end_time": "2023-08-06T19:53:06.325696744Z",
     "start_time": "2023-08-06T19:53:06.233433689Z"
    }
   },
   "id": "4dc988c76a82cf35"
  },
  {
   "cell_type": "markdown",
   "source": [
    "## Q149 - Functions\n",
    "\n",
    "What is the expected behavior of the following snippet?"
   ],
   "metadata": {
    "collapsed": false
   },
   "id": "1c9329a753b4c6c9"
  },
  {
   "cell_type": "code",
   "execution_count": 138,
   "outputs": [
    {
     "name": "stdout",
     "output_type": "stream",
     "text": [
      "8\n"
     ]
    }
   ],
   "source": [
    "x = 1\n",
    " \n",
    "def a(x):\n",
    "    return 2 * x\n",
    " \n",
    "x = 2 + a(x)      # Line 8\n",
    "# the value of x is 1\n",
    "# the value of x is passed to the function a\n",
    "# the function a returns 2 * x and the result is 2\n",
    "# the value of x is 2 + 2 and the result is 4\n",
    "print(a(x))       # Line 9\n",
    "# the value of x is 4\n",
    "# the value of x is passed to the function a\n",
    "# the function a returns 2 * x and the result is 8\n"
   ],
   "metadata": {
    "collapsed": false,
    "ExecuteTime": {
     "end_time": "2023-08-06T19:56:28.912986901Z",
     "start_time": "2023-08-06T19:56:28.863027005Z"
    }
   },
   "id": "3bc565bf2c189fa1"
  },
  {
   "cell_type": "markdown",
   "source": [
    "## Q177 - Data Types\n",
    "\n",
    "Which of the following are valid Python string literals?\n",
    "\n",
    "(Select two answers.)"
   ],
   "metadata": {
    "collapsed": false
   },
   "id": "7163deb2bcea366a"
  },
  {
   "cell_type": "code",
   "execution_count": 139,
   "outputs": [
    {
     "ename": "SyntaxError",
     "evalue": "unterminated string literal (detected at line 1) (3244528198.py, line 1)",
     "output_type": "error",
     "traceback": [
      "\u001B[0;36m  Cell \u001B[0;32mIn[139], line 1\u001B[0;36m\u001B[0m\n\u001B[0;31m    'all kin'gs'\u001B[0m\n\u001B[0m               ^\u001B[0m\n\u001B[0;31mSyntaxError\u001B[0m\u001B[0;31m:\u001B[0m unterminated string literal (detected at line 1)\n"
     ]
    }
   ],
   "source": [
    "'all kin'gs'"
   ],
   "metadata": {
    "collapsed": false,
    "ExecuteTime": {
     "end_time": "2023-08-06T19:58:08.687080797Z",
     "start_time": "2023-08-06T19:58:08.588682910Z"
    }
   },
   "id": "bc325431d62e856b"
  },
  {
   "cell_type": "code",
   "execution_count": 140,
   "outputs": [
    {
     "ename": "SyntaxError",
     "evalue": "unterminated string literal (detected at line 1) (3269433483.py, line 1)",
     "output_type": "error",
     "traceback": [
      "\u001B[0;36m  Cell \u001B[0;32mIn[140], line 1\u001B[0;36m\u001B[0m\n\u001B[0;31m    \"\\\"\u001B[0m\n\u001B[0m    ^\u001B[0m\n\u001B[0;31mSyntaxError\u001B[0m\u001B[0;31m:\u001B[0m unterminated string literal (detected at line 1)\n"
     ]
    }
   ],
   "source": [
    "\"\\\""
   ],
   "metadata": {
    "collapsed": false,
    "ExecuteTime": {
     "end_time": "2023-08-06T19:58:18.032841209Z",
     "start_time": "2023-08-06T19:58:17.926615507Z"
    }
   },
   "id": "4960aa6a6356afe5"
  },
  {
   "cell_type": "code",
   "execution_count": 141,
   "outputs": [
    {
     "data": {
      "text/plain": "\"all king's\""
     },
     "execution_count": 141,
     "metadata": {},
     "output_type": "execute_result"
    }
   ],
   "source": [
    "\"\"\"all king's\"\"\""
   ],
   "metadata": {
    "collapsed": false,
    "ExecuteTime": {
     "end_time": "2023-08-06T19:58:30.896209352Z",
     "start_time": "2023-08-06T19:58:30.779824212Z"
    }
   },
   "id": "50028a1453198276"
  },
  {
   "cell_type": "code",
   "execution_count": 142,
   "outputs": [
    {
     "data": {
      "text/plain": "\"all king's\""
     },
     "execution_count": 142,
     "metadata": {},
     "output_type": "execute_result"
    }
   ],
   "source": [
    "\"all king's\""
   ],
   "metadata": {
    "collapsed": false,
    "ExecuteTime": {
     "end_time": "2023-08-06T19:58:44.096490977Z",
     "start_time": "2023-08-06T19:58:43.982885728Z"
    }
   },
   "id": "59ed79714e92b2d7"
  },
  {
   "cell_type": "markdown",
   "source": [
    "## Q160 - Basics\n",
    "\n",
    "The digraph written as #! is used to:"
   ],
   "metadata": {
    "collapsed": false
   },
   "id": "8a2f5bf1a22ab270"
  },
  {
   "cell_type": "code",
   "execution_count": 143,
   "outputs": [],
   "source": [
    "# the digraph written as #! is used to indicate the beginning of a Python script"
   ],
   "metadata": {
    "collapsed": false,
    "ExecuteTime": {
     "end_time": "2023-08-06T19:59:45.849455319Z",
     "start_time": "2023-08-06T19:59:45.729606130Z"
    }
   },
   "id": "31b9c8aa063ad655"
  },
  {
   "cell_type": "markdown",
   "source": [
    "## Q171 - Error Handling\n",
    "\n",
    "Entering the try: block implies that:"
   ],
   "metadata": {
    "collapsed": false
   },
   "id": "9023dfa0bd2924df"
  },
  {
   "cell_type": "code",
   "execution_count": 144,
   "outputs": [],
   "source": [
    "# entering the try: block implies that the code in the try: block will be executed"
   ],
   "metadata": {
    "collapsed": false,
    "ExecuteTime": {
     "end_time": "2023-08-06T20:01:11.086806072Z",
     "start_time": "2023-08-06T20:01:10.965246024Z"
    }
   },
   "id": "9157b4e679c55352"
  },
  {
   "cell_type": "markdown",
   "source": [
    "## Q186 - Error Handling\n",
    "\n",
    "What is the expected behavior of the following program?"
   ],
   "metadata": {
    "collapsed": false
   },
   "id": "a0eb1bab92e51e8e"
  },
  {
   "cell_type": "code",
   "execution_count": 146,
   "outputs": [
    {
     "ename": "SyntaxError",
     "evalue": "'break' outside loop (4069651059.py, line 3)",
     "output_type": "error",
     "traceback": [
      "\u001B[0;36m  Cell \u001B[0;32mIn[146], line 3\u001B[0;36m\u001B[0m\n\u001B[0;31m    break\u001B[0m\n\u001B[0m    ^\u001B[0m\n\u001B[0;31mSyntaxError\u001B[0m\u001B[0;31m:\u001B[0m 'break' outside loop\n"
     ]
    }
   ],
   "source": [
    "try:\n",
    "    print(5/0)\n",
    "    break\n",
    "except:\n",
    "    print(\"Sorry, something went wrong...\")\n",
    "except (ValueError, ZeroDivisionError):\n",
    "    print(\"Too bad...\")"
   ],
   "metadata": {
    "collapsed": false,
    "ExecuteTime": {
     "end_time": "2023-08-06T20:02:08.177343207Z",
     "start_time": "2023-08-06T20:02:08.151945252Z"
    }
   },
   "id": "7e65199058f88956"
  },
  {
   "cell_type": "markdown",
   "source": [
    "## Q128 - OOP\n",
    "\n",
    "What is the expected output of the following code?"
   ],
   "metadata": {
    "collapsed": false
   },
   "id": "7e39d9258a7a8fdd"
  },
  {
   "cell_type": "code",
   "execution_count": null,
   "outputs": [],
   "source": [],
   "metadata": {
    "collapsed": false
   },
   "id": "299e31c0495f46f9"
  },
  {
   "cell_type": "code",
   "execution_count": 148,
   "outputs": [
    {
     "name": "stdout",
     "output_type": "stream",
     "text": [
      "23\n"
     ]
    }
   ],
   "source": [
    "class Test:\n",
    "    def __init__(self, id):\n",
    "        # id is a parameter of the constructor\n",
    "        self.id = id\n",
    "        # the attribute id is defined in the class Test\n",
    "        # the attribute id is initialized with the value of the parameter id\n",
    "        # id is a public attribute\n",
    "        id = 100\n",
    "        # the value of the parameter id is 100\n",
    "        # the value of the parameter id is not assigned to the attribute id\n",
    " \n",
    " \n",
    "x = Test(23)\n",
    "# create an object of the class Test\n",
    "# the value of the parameter id is 23\n",
    " \n",
    "print(x.id)\n",
    "# the value of the attribute id is 23"
   ],
   "metadata": {
    "collapsed": false,
    "ExecuteTime": {
     "end_time": "2023-08-06T20:07:45.794038331Z",
     "start_time": "2023-08-06T20:07:45.748383526Z"
    }
   },
   "id": "2391ece662ba5e3a"
  },
  {
   "cell_type": "code",
   "execution_count": 149,
   "outputs": [
    {
     "name": "stdout",
     "output_type": "stream",
     "text": [
      "{'id': 23}\n"
     ]
    }
   ],
   "source": [
    "print(x.__dict__)"
   ],
   "metadata": {
    "collapsed": false,
    "ExecuteTime": {
     "end_time": "2023-08-06T20:08:05.314503585Z",
     "start_time": "2023-08-06T20:08:05.224165768Z"
    }
   },
   "id": "88d79423da10464f"
  },
  {
   "cell_type": "markdown",
   "source": [
    "## Q178 - Data Types\n",
    "\n",
    "Which of the following snippets outputs 123 to the screen?\n",
    "\n",
    "(Select two answers.)"
   ],
   "metadata": {
    "collapsed": false
   },
   "id": "44979377bb129e56"
  },
  {
   "cell_type": "code",
   "execution_count": 1,
   "outputs": [
    {
     "name": "stdout",
     "output_type": "stream",
     "text": [
      "Help on built-in function sorted in module builtins:\n",
      "\n",
      "sorted(iterable, /, *, key=None, reverse=False)\n",
      "    Return a new list containing all items from the iterable in ascending order.\n",
      "    \n",
      "    A custom key function can be supplied to customize the sort order, and the\n",
      "    reverse flag can be set to request the result in descending order.\n"
     ]
    }
   ],
   "source": [
    "help(sorted)"
   ],
   "metadata": {
    "collapsed": false,
    "ExecuteTime": {
     "end_time": "2023-08-08T18:45:34.543795565Z",
     "start_time": "2023-08-08T18:45:34.539952943Z"
    }
   },
   "id": "a8dc98761ae51a41"
  },
  {
   "cell_type": "code",
   "execution_count": 3,
   "outputs": [
    {
     "ename": "AttributeError",
     "evalue": "'str' object has no attribute 'sort'",
     "output_type": "error",
     "traceback": [
      "\u001B[0;31m---------------------------------------------------------------------------\u001B[0m",
      "\u001B[0;31mAttributeError\u001B[0m                            Traceback (most recent call last)",
      "Cell \u001B[0;32mIn[3], line 1\u001B[0m\n\u001B[0;32m----> 1\u001B[0m help(\u001B[38;5;124;43m\"\u001B[39;49m\u001B[38;5;124;43m\"\u001B[39;49m\u001B[38;5;241;43m.\u001B[39;49m\u001B[43msort\u001B[49m())\n",
      "\u001B[0;31mAttributeError\u001B[0m: 'str' object has no attribute 'sort'"
     ]
    }
   ],
   "source": [
    "help(\"\".)"
   ],
   "metadata": {
    "collapsed": false,
    "ExecuteTime": {
     "end_time": "2023-08-08T18:46:17.854884992Z",
     "start_time": "2023-08-08T18:46:17.797462646Z"
    }
   },
   "id": "a694b8bb31bf5d1f"
  },
  {
   "cell_type": "code",
   "execution_count": 9,
   "outputs": [
    {
     "name": "stdout",
     "output_type": "stream",
     "text": [
      "['3', '2', '1']\n",
      "['1', '2', '3']\n",
      "123\n"
     ]
    }
   ],
   "source": [
    "tmp = list(\"321\")\n",
    "# tmp is a list with the elements 3, 2, 1\n",
    "print(tmp)\n",
    "tmp.sort()\n",
    "# sort the list tmp, the result is 1, 2, 3\n",
    "print(tmp)\n",
    "print(''.join(tmp))\n",
    "# join the elements of the list tmp to a string\n",
    "# the result is 123\n",
    "# the join method has the behaviour to join the elements of a list to a string. the string is the separator."
   ],
   "metadata": {
    "collapsed": false,
    "ExecuteTime": {
     "end_time": "2023-08-08T18:49:59.903787755Z",
     "start_time": "2023-08-08T18:49:59.878402679Z"
    }
   },
   "id": "980f507638e2dd92"
  },
  {
   "cell_type": "markdown",
   "source": [
    "## Q157 - Error Handling\n",
    "\n",
    "The Exception class contains a property named args and it is a:"
   ],
   "metadata": {
    "collapsed": false
   },
   "id": "890709d210de06d5"
  },
  {
   "cell_type": "code",
   "execution_count": 10,
   "outputs": [],
   "source": [
    "# tuple"
   ],
   "metadata": {
    "collapsed": false,
    "ExecuteTime": {
     "end_time": "2023-08-08T18:50:55.650071713Z",
     "start_time": "2023-08-08T18:50:55.573232055Z"
    }
   },
   "id": "27ed38b8cac573c9"
  },
  {
   "cell_type": "markdown",
   "source": [
    "## Q169 - Functions\n",
    "\n",
    "Select the true statements about the map() function.\n",
    "\n",
    "Choose two."
   ],
   "metadata": {
    "collapsed": false
   },
   "id": "5eb832aa88321bf0"
  },
  {
   "cell_type": "code",
   "execution_count": 11,
   "outputs": [
    {
     "name": "stdout",
     "output_type": "stream",
     "text": [
      "Help on class map in module builtins:\n",
      "\n",
      "class map(object)\n",
      " |  map(func, *iterables) --> map object\n",
      " |  \n",
      " |  Make an iterator that computes the function using arguments from\n",
      " |  each of the iterables.  Stops when the shortest iterable is exhausted.\n",
      " |  \n",
      " |  Methods defined here:\n",
      " |  \n",
      " |  __getattribute__(self, name, /)\n",
      " |      Return getattr(self, name).\n",
      " |  \n",
      " |  __iter__(self, /)\n",
      " |      Implement iter(self).\n",
      " |  \n",
      " |  __next__(self, /)\n",
      " |      Implement next(self).\n",
      " |  \n",
      " |  __reduce__(...)\n",
      " |      Return state information for pickling.\n",
      " |  \n",
      " |  ----------------------------------------------------------------------\n",
      " |  Static methods defined here:\n",
      " |  \n",
      " |  __new__(*args, **kwargs) from builtins.type\n",
      " |      Create and return a new object.  See help(type) for accurate signature.\n"
     ]
    }
   ],
   "source": [
    "help(map)"
   ],
   "metadata": {
    "collapsed": false,
    "ExecuteTime": {
     "end_time": "2023-08-08T18:51:49.303854436Z",
     "start_time": "2023-08-08T18:51:49.217563584Z"
    }
   },
   "id": "f6b7939202ce205b"
  },
  {
   "cell_type": "markdown",
   "source": [
    "map(function, iterable, ...)\n",
    "Here's an explanation of the possible arguments of the map() function:\n",
    "\n",
    "function: This is the function that you want to apply to each element of the iterable. The function can be a built-in function, a user-defined function, or even a lambda function. It should take one argument (the element from the iterable) and return a transformed value.\n",
    "\n",
    "iterable: This is the collection of elements on which the function will be applied. It can be any iterable, such as a list, tuple, or string.\n",
    "\n",
    "Additional iterables (optional): You can provide additional iterables as arguments to the map() function if the function requires multiple input values. In this case, the function should accept as many arguments as there are iterables provided.\n",
    "\n",
    "The map() function returns an iterator that produces the results of applying the function to each corresponding element in the provided iterables. To actually see the results, you can convert the iterator to a list, tuple, or another iterable type."
   ],
   "metadata": {
    "collapsed": false
   },
   "id": "e5ec81cfa03cc1ed"
  },
  {
   "cell_type": "markdown",
   "source": [
    "## Q185 - Error Handling\n",
    "\n",
    "The system that allows you to diagnose input/output errors in Python is called:"
   ],
   "metadata": {
    "collapsed": false
   },
   "id": "8cca25dd6cd809b8"
  },
  {
   "cell_type": "code",
   "execution_count": 12,
   "outputs": [],
   "source": [
    "# errno"
   ],
   "metadata": {
    "collapsed": false,
    "ExecuteTime": {
     "end_time": "2023-08-08T18:54:58.259179612Z",
     "start_time": "2023-08-08T18:54:58.169189768Z"
    }
   },
   "id": "a58ee4519aab505b"
  },
  {
   "cell_type": "markdown",
   "source": [
    "## Q113 - Operators\n",
    "\n",
    "An operator able to check whether two values are not equal is coded as:"
   ],
   "metadata": {
    "collapsed": false
   },
   "id": "e61e8c9277ae5ccd"
  },
  {
   "cell_type": "code",
   "execution_count": 13,
   "outputs": [],
   "source": [
    "# !="
   ],
   "metadata": {
    "collapsed": false,
    "ExecuteTime": {
     "end_time": "2023-08-08T18:55:34.774757870Z",
     "start_time": "2023-08-08T18:55:34.689715163Z"
    }
   },
   "id": "c2fc61b7ff890469"
  },
  {
   "cell_type": "markdown",
   "source": [
    "## Q179 - Operators\n",
    "\n",
    "Which of the following expressions evaluates to True and raises no exception?"
   ],
   "metadata": {
    "collapsed": false
   },
   "id": "834ab0eb39b06608"
  },
  {
   "cell_type": "code",
   "execution_count": 14,
   "outputs": [
    {
     "data": {
      "text/plain": "True"
     },
     "execution_count": 14,
     "metadata": {},
     "output_type": "execute_result"
    }
   ],
   "source": [
    "10 != '1' + '0'"
   ],
   "metadata": {
    "collapsed": false,
    "ExecuteTime": {
     "end_time": "2023-08-08T18:57:17.065288268Z",
     "start_time": "2023-08-08T18:57:16.943361708Z"
    }
   },
   "id": "c337cc16b386e801"
  },
  {
   "cell_type": "markdown",
   "source": [
    "## Q125 - I/O\n",
    "\n",
    "What is the expected output of the following code?"
   ],
   "metadata": {
    "collapsed": false
   },
   "id": "41f99e6570b9a702"
  },
  {
   "cell_type": "code",
   "execution_count": 15,
   "outputs": [
    {
     "name": "stdout",
     "output_type": "stream",
     "text": [
      "Name of the file:  data.txt\n",
      "Peter Wellert\n",
      "\n",
      "Hello everybody\n"
     ]
    }
   ],
   "source": [
    "file = open('data.txt', 'w+')\n",
    "# open the file data.txt for writing and reading\n",
    "# the w indicates that the file is opened for writing\n",
    "# the + indicates that the file is opened for reading\n",
    "print('Name of the file: ', file.name)\n",
    "# the name of the file is data.txt\n",
    "# name is an attribute of the file object\n",
    " \n",
    "s = 'Peter Wellert\\nHello everybody'\n",
    "file.write(s)\n",
    "# write the string s to the file\n",
    "file.seek(0)\n",
    "# move the file pointer to the beginning of the file\n",
    "for line in file:\n",
    "    # iterate over the lines of the file\n",
    "    print(line)\n",
    "    # print the line\n",
    " \n",
    "file.close()\n",
    "# close the file"
   ],
   "metadata": {
    "collapsed": false,
    "ExecuteTime": {
     "end_time": "2023-08-08T18:58:46.945955435Z",
     "start_time": "2023-08-08T18:58:46.859127689Z"
    }
   },
   "id": "f8e34b85978ea55"
  },
  {
   "cell_type": "markdown",
   "source": [
    "## Q118 - Control Flow\n",
    "\n",
    "How many stars will the following snippet print to the monitor?"
   ],
   "metadata": {
    "collapsed": false
   },
   "id": "46135cf64d8099c3"
  },
  {
   "cell_type": "code",
   "execution_count": 17,
   "outputs": [
    {
     "name": "stdout",
     "output_type": "stream",
     "text": [
      "*\n"
     ]
    }
   ],
   "source": [
    "i = 4\n",
    "while i > 0:\n",
    "    i -= 2\n",
    "    print('*')\n",
    "    if i == 2:\n",
    "        break\n",
    "else:\n",
    " \n",
    "    print('*')"
   ],
   "metadata": {
    "collapsed": false,
    "ExecuteTime": {
     "end_time": "2023-08-08T19:01:01.770963976Z",
     "start_time": "2023-08-08T19:01:01.645586948Z"
    }
   },
   "id": "b6c8dfc2fc5cb8b0"
  },
  {
   "cell_type": "markdown",
   "source": [
    "## Q156 - Control Flow\n",
    "\n",
    "The ABC organics company needs a simple program\n",
    "\n",
    "that their call center will use to enter survey data for a new coffee variety.\n",
    "\n",
    "The program must accept input\n",
    "\n",
    "and return the average rating based on a five-star scale.\n",
    "\n",
    "The output must be rounded to two decimal places.\n",
    "\n",
    "\n",
    "\n",
    "You need to complete the code to meet the requirements.\n",
    "\n",
    "What should you insert instead of XXX, YYY and ZZZ?"
   ],
   "metadata": {
    "collapsed": false
   },
   "id": "8a39fc3cccb05e4a"
  },
  {
   "cell_type": "code",
   "execution_count": 19,
   "outputs": [
    {
     "name": "stdout",
     "output_type": "stream",
     "text": [
      "Average rating is:  3.17\n"
     ]
    }
   ],
   "source": [
    "\n",
    "sum = count = done = 0\n",
    "average = 0.0\n",
    " \n",
    "while done != -1:\n",
    "    rating = float(input('Enter rating (1-5): , if done enter -1 '))\n",
    "    if rating == -1:\n",
    "        break\n",
    "    sum += rating\n",
    "    count += 1\n",
    " \n",
    "average = float(sum / count)\n",
    " \n",
    "print('Average rating is: ', format(average, '.2f'))"
   ],
   "metadata": {
    "collapsed": false,
    "ExecuteTime": {
     "end_time": "2023-08-08T19:08:19.806053211Z",
     "start_time": "2023-08-08T19:08:10.159097820Z"
    }
   },
   "id": "f5683ac1cbf72bb2"
  },
  {
   "cell_type": "markdown",
   "source": [
    "## Q170 - Modules\n",
    "\n",
    "What happens if you run the following code, assuming that the d directory already exists?"
   ],
   "metadata": {
    "collapsed": false
   },
   "id": "80cfd1a4026152a9"
  },
  {
   "cell_type": "code",
   "execution_count": 20,
   "outputs": [
    {
     "ename": "FileNotFoundError",
     "evalue": "[Errno 2] No such file or directory: 'a/b/c/d'",
     "output_type": "error",
     "traceback": [
      "\u001B[0;31m---------------------------------------------------------------------------\u001B[0m",
      "\u001B[0;31mFileNotFoundError\u001B[0m                         Traceback (most recent call last)",
      "Cell \u001B[0;32mIn[20], line 2\u001B[0m\n\u001B[1;32m      1\u001B[0m \u001B[38;5;28;01mimport\u001B[39;00m \u001B[38;5;21;01mos\u001B[39;00m\n\u001B[0;32m----> 2\u001B[0m \u001B[43mos\u001B[49m\u001B[38;5;241;43m.\u001B[39;49m\u001B[43mmkdir\u001B[49m\u001B[43m(\u001B[49m\u001B[38;5;124;43m\"\u001B[39;49m\u001B[38;5;124;43ma/b/c/d\u001B[39;49m\u001B[38;5;124;43m\"\u001B[39;49m\u001B[43m)\u001B[49m\n",
      "\u001B[0;31mFileNotFoundError\u001B[0m: [Errno 2] No such file or directory: 'a/b/c/d'"
     ]
    }
   ],
   "source": [
    "import os\n",
    "os.mkdir(\"a/b/c/d\")\n",
    "# create the directory d in the directory c in the directory b in the directory a\n",
    "# if directory d already exists, an error occurs"
   ],
   "metadata": {
    "collapsed": false,
    "ExecuteTime": {
     "end_time": "2023-08-08T19:10:08.458389367Z",
     "start_time": "2023-08-08T19:10:08.352715397Z"
    }
   },
   "id": "44c5f1fe38afef4d"
  },
  {
   "cell_type": "markdown",
   "source": [
    "## Q188 - Error Handling\n",
    "\n",
    "What is the output of the following program\n",
    "\n",
    "if the user enters kangaroo at the first prompt\n",
    "\n",
    "and 0 at the second prompt?"
   ],
   "metadata": {
    "collapsed": false
   },
   "id": "4e00ee9455bfa989"
  },
  {
   "cell_type": "code",
   "execution_count": 21,
   "outputs": [
    {
     "name": "stdout",
     "output_type": "stream",
     "text": [
      "4.0\n"
     ]
    }
   ],
   "source": [
    "try:\n",
    "    first_prompt = input(\"Enter the first value: \")\n",
    "    # first_prompt is a string\n",
    "    a = len(first_prompt)\n",
    "    # a is the length of the string first_prompt\n",
    "    # the format of a is integer of the value of the length of the string first_prompt\n",
    "    second_prompt = input(\"Enter the second value: \")\n",
    "    # second_prompt is a string\n",
    "    b = len(second_prompt) * 2\n",
    "    # b is the length of the string second_prompt multiplied by 2\n",
    "    # b is an integer\n",
    "    print(a/b)\n",
    "    # print the result of a/b\n",
    "    # a/b is a float\n",
    "except ZeroDivisionError:\n",
    "    print(\"Do not divide by zero!\")\n",
    "except ValueError:\n",
    "    print(\"Wrong value.\")\n",
    "except:\n",
    "    print(\"Error.Error.Error.\")"
   ],
   "metadata": {
    "collapsed": false,
    "ExecuteTime": {
     "end_time": "2023-08-08T19:12:37.548165289Z",
     "start_time": "2023-08-08T19:12:31.686543166Z"
    }
   },
   "id": "e8f9be8d6e04c238"
  },
  {
   "cell_type": "markdown",
   "source": [
    "## Q146 - Data Aggregates\n",
    "\n",
    "What is the expected output of the following code?"
   ],
   "metadata": {
    "collapsed": false
   },
   "id": "2d7b3bedd3959358"
  },
  {
   "cell_type": "code",
   "execution_count": 22,
   "outputs": [
    {
     "name": "stdout",
     "output_type": "stream",
     "text": [
      "[3, 5, 20, 5, 25, 1, 3]\n"
     ]
    }
   ],
   "source": [
    "nums = [3, 4, 5, 20, 5, 25, 1, 3]\n",
    "nums.pop(1)\n",
    "print(nums)"
   ],
   "metadata": {
    "collapsed": false,
    "ExecuteTime": {
     "end_time": "2023-08-08T19:14:46.020543529Z",
     "start_time": "2023-08-08T19:14:45.907607128Z"
    }
   },
   "id": "ba1deede84475654"
  },
  {
   "cell_type": "markdown",
   "source": [
    "## Q176 - Basics\n",
    "\n",
    "Which of the following statements are true?\n",
    "\n",
    "(Select two answers.)"
   ],
   "metadata": {
    "collapsed": false
   },
   "id": "eefe523f22ab5d7"
  },
  {
   "cell_type": "markdown",
   "source": [
    "## Q141 - Operators\n",
    "\n",
    "What is the expected output of the following code?"
   ],
   "metadata": {
    "collapsed": false
   },
   "id": "2bbafdcd0841b7a8"
  },
  {
   "cell_type": "code",
   "execution_count": 23,
   "outputs": [
    {
     "name": "stdout",
     "output_type": "stream",
     "text": [
      "0.2\n"
     ]
    }
   ],
   "source": [
    "x = 1 // 5 + 1 / 5\n",
    "\n",
    "print(x)"
   ],
   "metadata": {
    "collapsed": false,
    "ExecuteTime": {
     "end_time": "2023-08-08T19:16:26.514520989Z",
     "start_time": "2023-08-08T19:16:26.395677657Z"
    }
   },
   "id": "491ce187e15b277d"
  },
  {
   "cell_type": "markdown",
   "source": [
    "## Q123 - Functions\n",
    "\n",
    "What is the expected output of the following code?"
   ],
   "metadata": {
    "collapsed": false
   },
   "id": "64811e8c384f218e"
  },
  {
   "cell_type": "code",
   "execution_count": 25,
   "outputs": [
    {
     "name": "stdout",
     "output_type": "stream",
     "text": [
      "****"
     ]
    }
   ],
   "source": [
    "def func(num):\n",
    "    # define a function func with one parameter num\n",
    "    res = '*'\n",
    "    # res is a string with the value *\n",
    "    for _ in range(num):\n",
    "        # iterate num times\n",
    "        res += res\n",
    "        # res is res + res\n",
    "        # res is * + *\n",
    "    return res\n",
    " \n",
    " \n",
    "for x in func(2):\n",
    "    # call the function func with the argument 2\n",
    "    # iterate over the characters of the string res\n",
    "    print(x, end='')\n",
    "    # print the character\n",
    "# the result is ****   \n",
    "# because res is * + * + * + * = ****\n"
   ],
   "metadata": {
    "collapsed": false,
    "ExecuteTime": {
     "end_time": "2023-08-08T19:18:43.289607038Z",
     "start_time": "2023-08-08T19:18:43.245529740Z"
    }
   },
   "id": "4877caab27e37f1b"
  },
  {
   "cell_type": "markdown",
   "source": [
    "## Stop bei Frage 80 "
   ],
   "metadata": {
    "collapsed": false
   },
   "id": "e28cd34a859e3e4c"
  },
  {
   "cell_type": "code",
   "execution_count": null,
   "outputs": [],
   "source": [],
   "metadata": {
    "collapsed": false
   },
   "id": "92196ae273d5c47a"
  }
 ],
 "metadata": {
  "kernelspec": {
   "display_name": "Python 3",
   "language": "python",
   "name": "python3"
  },
  "language_info": {
   "codemirror_mode": {
    "name": "ipython",
    "version": 2
   },
   "file_extension": ".py",
   "mimetype": "text/x-python",
   "name": "python",
   "nbconvert_exporter": "python",
   "pygments_lexer": "ipython2",
   "version": "2.7.6"
  }
 },
 "nbformat": 4,
 "nbformat_minor": 5
}

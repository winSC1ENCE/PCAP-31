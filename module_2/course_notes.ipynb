{
 "cells": [
  {
   "cell_type": "markdown",
   "id": "637a301c-d144-4491-b2a2-5a402a36886f",
   "metadata": {
    "tags": []
   },
   "source": [
    "# Python Essentials 2 - Module 2\n",
    "\n",
    "- Strings, String and List Methods, Exceptions\n",
    "- In this module, you will learn about:\n",
    "- Characters, strings and coding standards;\n",
    "- Strings vs. lists – similarities and differences;\n",
    "- Lists methods;\n",
    "- String methods;\n",
    "- Python's way of handling runtime errors;\n",
    "- Controlling the flow of errors using try and except;\n",
    "- Hierarchy of exceptions."
   ]
  },
  {
   "cell_type": "markdown",
   "id": "4f4da254-e0a1-447a-8c5f-1a0493c354ae",
   "metadata": {},
   "source": [
    "## Characters and Strings vs. Computers"
   ]
  },
  {
   "cell_type": "markdown",
   "id": "2555bf2d-15ba-484e-a56f-d3747b4d4931",
   "metadata": {},
   "source": [
    "### How computers understand single characters"
   ]
  },
  {
   "cell_type": "markdown",
   "id": "88500f66-261a-43c0-8324-7af1ff14c921",
   "metadata": {},
   "source": [
    "You've written some interesting programs since you've started this course, but all of them have processed only one kind of data - numbers. As you know (you can see this everywhere around you) lots of computer data are not numbers: first names, last names, addresses, titles, poems, scientific papers, emails, court judgements, love confessions, and much, much more.\n",
    "\n",
    "The concept of characters and strings\n",
    "\n",
    "\n",
    "All these data must be stored, input, output, searched, and transformed by contemporary computers just like any other data, no matter if they are single characters or multi-volume encyclopedias.\n",
    "\n",
    "How is it possible?\n",
    "\n",
    "How can you do it in Python? This is what we'll discuss now. Let's start with how computers understand single characters.\n",
    "\n",
    "\n",
    "Computers store characters as numbers. Every character used by a computer corresponds to a unique number, and vice versa. This assignment must include more characters than you might expect. Many of them are invisible to humans, but essential to computers.\n",
    "\n",
    "Some of these characters are called whitespaces, while others are named control characters, because their purpose is to control input/output devices.\n",
    "\n",
    "An example of a whitespace that is completely invisible to the naked eye is a special code, or a pair of codes (different operating systems may treat this issue differently), which are used to mark the ends of the lines inside text files.\n",
    "\n",
    "People do not see this sign (or these signs), but are able to observe the effect of their application where the lines are broken.\n",
    "\n",
    "We can create virtually any number of character-number assignments, but life in a world in which every type of computer uses a different character encoding would not be very convenient. This system has led to a need to introduce a universal and widely accepted standard implemented by (almost) all computers and operating systems all over the world.\n",
    "\n",
    "\n",
    "\n",
    "\n",
    "The one named ASCII (short for American Standard Code for Information Interchange) is the most widely used, and you can assume that nearly all modern devices (like computers, printers, mobile phones, tablets, etc.) use that code.\n",
    "\n",
    "The code provides space for 256 different characters, but we are interested only in the first 128. If you want to see how the code is constructed, look at the table below. Click the table to enlarge it. Look at it carefully - there are some interesting facts. Look at the code of the most common character - the space. This is 32.\n",
    "\n",
    "[The ASCII Table](https://en.wikipedia.org/wiki/ASCII#/media/File:USASCII_code_chart.png)\n",
    "\n",
    "Now check the code of the lower-case letter a. This is 97. And now find the upper-case A. Its code is 65. Now work out the difference between the code of a and A. It is equal to 32. That's the code of a space. Interesting, isn't it?\n",
    "\n",
    "Also note that the letters are arranged in the same order as in the Latin alphabet."
   ]
  },
  {
   "cell_type": "markdown",
   "id": "c062b8fe-6648-4d17-b507-156639ee1d27",
   "metadata": {},
   "source": [
    "### I18N"
   ]
  },
  {
   "cell_type": "markdown",
   "id": "2e5cdf68-2bb7-4f8a-b9dd-749664d71ea4",
   "metadata": {},
   "source": [
    "Of course, the Latin alphabet is not sufficient for the whole of mankind. Users of that alphabet are in the minority. It was necessary to come up with something more flexible and capacious than ASCII, something able to make all the software in the world amenable to internationalization, because different languages use completely different alphabets, and sometimes these alphabets are not as simple as the Latin one.\n",
    "\n",
    "The word internationalization is commonly shortened to I18N.\n",
    "\n",
    "I18N Internationalization\n",
    "\n",
    "Why? Look carefully - there is an I at the front of the word, next there are 18 different letters, and an N at the end.\n",
    "\n",
    "Despite the slightly humorous origin, the term is officially used in many documents and standards.\n",
    "\n",
    "The software I18N is a standard in present times. Each program has to be written in a way that enables it to be used all around the world, among different cultures, languages and alphabets.\n",
    "\n",
    "A classic form of ASCII code uses eight bits for each sign. Eight bits mean 256 different characters. The first 128 are used for the standard Latin alphabet (both upper-case and lower-case characters). Is it possible to push all the other national characters used around the world into the remaining 128 locations?\n",
    "\n",
    "No. It isn't."
   ]
  },
  {
   "cell_type": "markdown",
   "id": "34dfcf22-de7d-4478-ba1f-37e86a54fa5c",
   "metadata": {},
   "source": [
    "### Code points and code pages"
   ]
  },
  {
   "cell_type": "markdown",
   "id": "39dc2564-c185-4b07-8d43-eb1e63173b96",
   "metadata": {},
   "source": [
    "We need a new term now: a code point.\n",
    "\n",
    "A code point is a number which makes a character. For example, 32 is a code point which makes a space in ASCII encoding. We can say that standard ASCII code consists of 128 code points.\n",
    "\n",
    "As standard ASCII occupies 128 out of 256 possible code points, you can only make use of the remaining 128.\n",
    "\n",
    "It's not enough for all possible languages, but it may be sufficient for one language, or for a small group of similar languages.\n",
    "\n",
    "Can you set the higher half of the code points differently for different languages? Yes, you can. Such a concept is called a code page.\n",
    "\n",
    "A code page is a standard for using the upper 128 code points to store specific national characters. For example, there are different code pages for Western Europe and Eastern Europe, Cyrillic and Greek alphabets, Arabic and Hebrew languages, and so on.\n",
    "\n",
    "This means that the one and same code point can make different characters when used in different code pages.\n",
    "\n",
    "For example, the code point 200 makes Č (a letter used by some Slavic languages) when utilized by the ISO/IEC 8859-2 code page, and makes Ш (a Cyrillic letter) when used by the ISO/IEC 8859-5 code page.\n",
    "\n",
    "In consequence, to determine the meaning of a specific code point, you have to know the target code page.\n",
    "\n",
    "In other words, the code points derived from the code page concept are ambiguous.\n",
    "\n"
   ]
  },
  {
   "cell_type": "markdown",
   "id": "cd7367c6-c5e6-4948-9ecc-aa7220fe51cc",
   "metadata": {},
   "source": [
    "### Unicode"
   ]
  },
  {
   "cell_type": "markdown",
   "id": "87b3ebaa-f5f1-45c9-8c70-165d98d1366e",
   "metadata": {},
   "source": [
    "Code pages helped the computer industry to solve I18N issues for some time, but it soon turned out that they would not be a permanent solution.\n",
    "\n",
    "The concept that solved the problem in the long term was Unicode.\n",
    "\n"
   ]
  },
  {
   "cell_type": "markdown",
   "id": "a5c4e4f1-f6d9-412a-a101-2bc7c18ed20a",
   "metadata": {},
   "source": [
    "### UCS-4"
   ]
  },
  {
   "cell_type": "markdown",
   "id": "75ce0c8e-5d4d-4128-8cd6-561894489873",
   "metadata": {},
   "source": [
    "The Unicode standard says nothing about how to code and store the characters in the memory and files. It only names all available characters and assigns them to planes (a group of characters of similar origin, application, or nature).\n",
    "\n",
    "UCS-4\n",
    "\n",
    "There is more than one standard describing the techniques used to implement Unicode in actual computers and computer storage systems. The most general of them is UCS-4.\n",
    "\n",
    "The name comes from Universal Character Set.\n",
    "\n",
    "UCS-4 uses 32 bits (four bytes) to store each character, and the code is just the Unicode code points' unique number. A file containing UCS-4 encoded text may start with a BOM (byte order mark), an unprintable combination of bits announcing the nature of the file's contents. Some utilities may require it.\n",
    "\n",
    "\n",
    "\n",
    "\n",
    "As you can see, UCS-4 is a rather wasteful standard - it increases a text's size by four times compared to standard ASCII. Fortunately, there are smarter forms of encoding Unicode texts."
   ]
  },
  {
   "cell_type": "markdown",
   "id": "a46432bb-39ce-469b-94ed-879f6693f854",
   "metadata": {},
   "source": [
    "### UTF-8"
   ]
  },
  {
   "cell_type": "markdown",
   "id": "03c2fd8f-4b24-4d30-887d-cf9d45d55fdd",
   "metadata": {},
   "source": [
    "One of the most commonly used is UTF-8.\n",
    "\n",
    "The name is derived from Unicode Transformation Format.\n",
    "\n",
    "The concept is very smart. UTF-8 uses as many bits for each of the code points as it really needs to represent them.\n",
    "\n",
    "UTF-8 - humorous graphics\n",
    "\n",
    "For example:\n",
    "\n",
    "- all Latin characters (and all standard ASCII characters) occupy eight bits;\n",
    "- non-Latin characters occupy 16 bits;\n",
    "- CJK (China-Japan-Korea) ideographs occupy 24 bits.\n",
    "\n",
    "Due to features of the method used by UTF-8 to store the code points, there is no need to use the BOM, but some of the tools look for it when reading the file, and many editors set it up during the save.\n",
    "\n",
    "Python 3 fully supports Unicode and UTF-8:\n",
    "\n",
    "- you can use Unicode/UTF-8 encoded characters to name -- -  - variables and other entities;\n",
    "- you can use them during all input and output.\n",
    "\n",
    "This means that Python3 is completely I18Ned.\n",
    "\n"
   ]
  },
  {
   "cell_type": "markdown",
   "id": "c1699bba-4084-4499-bfbe-a334ef17d5f1",
   "metadata": {},
   "source": [
    "### Key takeaways\n"
   ]
  },
  {
   "cell_type": "markdown",
   "id": "95933d1d-6d1a-4dad-9f7a-caf241da64d7",
   "metadata": {},
   "source": [
    "1. Computers store characters as numbers. There is more than one possible way of encoding characters, but only some of them gained worldwide popularity and are commonly used in IT: these are ASCII (used mainly to encode the Latin alphabet and some of its derivates) and UNICODE (able to encode virtually all alphabets being used by humans).\n",
    "\n",
    "\n",
    "2. A number corresponding to a particular character is called a codepoint.\n",
    "\n",
    "\n",
    "3. UNICODE uses different ways of encoding when it comes to storing the characters using files or computer memory: two of them are UCS-4 and UTF-8 (the latter is the most common as it wastes less memory space).\n",
    "\n"
   ]
  },
  {
   "cell_type": "markdown",
   "id": "9cbfbbff-67ca-49fc-a32b-50213f17e9d1",
   "metadata": {},
   "source": [
    "#### Excersise 1"
   ]
  },
  {
   "cell_type": "markdown",
   "id": "196dda4d-9a7d-4a45-9c1c-994e45ff51d9",
   "metadata": {},
   "source": [
    "What is BOM?\n",
    "\n",
    "<details>\n",
    "  <summary>Check</summary>\n",
    "  \n",
    "\tBOM (Byte Order Mark) is a special combination of bits announcing the encoding used by a file's contents (e.g. UCS-4 or UTF-8).\n",
    "\n",
    "</details>"
   ]
  },
  {
   "cell_type": "markdown",
   "id": "71e826f0-9640-4a95-82f9-50b6f600c734",
   "metadata": {},
   "source": [
    "Is Python 3 I18Ned?\n",
    "\n",
    "<details>\n",
    "  <summary>Check</summary>\n",
    "  \n",
    "\tYes, it's completely internationalized – we can use UNICODE characters inside our code, read them from the input and send them to the output.\n",
    "\n",
    "</details>"
   ]
  },
  {
   "cell_type": "markdown",
   "id": "b5d63990-9978-46f0-86e0-26b96d18ac5b",
   "metadata": {},
   "source": [
    "## The nature of strings in Python\n"
   ]
  },
  {
   "cell_type": "markdown",
   "id": "5c124dd6-0fea-49f7-8daf-f4886e919a99",
   "metadata": {},
   "source": [
    "### Strings - a brief review"
   ]
  },
  {
   "cell_type": "markdown",
   "id": "19f58940-6686-4126-abce-1b020faf1fbf",
   "metadata": {},
   "source": [
    "Let's do a brief review of the nature of Python's strings.\n",
    "\n",
    "First of all, Python's strings (or simply strings, as we're not going to discuss any other language's strings) are immutable sequences.\n",
    "\n",
    "It's very important to note this, because it means that you should expect some familiar behavior from them.\n",
    "\n",
    "Let's analyze the code in the editor to understand what we're talking about:\n",
    "\n",
    "- Take a look at Example 1. The len() function used for strings returns a number of characters contained by the arguments. The snippet outputs 2.\n",
    "- Any string can be empty. Its length is 0 then - just like in Example 2.\n",
    "-  Don't forget that a backslash (\\) used as an escape character is not included in the string's total length. The code in Example 3, therefore, outputs 3.\n",
    "\n",
    "Run the three example codes and check.\n",
    "\n"
   ]
  },
  {
   "cell_type": "code",
   "execution_count": 3,
   "id": "0648d944-2a3b-4f87-9bf6-15fe1ccd4dd5",
   "metadata": {},
   "outputs": [
    {
     "name": "stdout",
     "output_type": "stream",
     "text": [
      "2\n",
      "0\n",
      "3\n"
     ]
    }
   ],
   "source": [
    "# Example 1\n",
    "\n",
    "word = 'by'\n",
    "print(len(word))\n",
    "\n",
    "\n",
    "# Example 2\n",
    "\n",
    "empty = ''\n",
    "print(len(empty))\n",
    "\n",
    "\n",
    "# Example 3\n",
    "\n",
    "i_am = 'I\\'m'\n",
    "print(len(i_am))"
   ]
  },
  {
   "cell_type": "markdown",
   "id": "49bda597-0243-4e21-aaf3-ade9ae87de77",
   "metadata": {},
   "source": [
    "### Multiline strings"
   ]
  },
  {
   "cell_type": "markdown",
   "id": "d992490f-d5bd-4cfb-82ec-8ebda98c1c86",
   "metadata": {},
   "source": [
    "Now is a very good moment to show you another way of specifying strings inside the Python source code. Note that the syntax you already know won't let you use a string occupying more than one line of text.\n",
    "\n",
    "For this reason, the code here is erroneous:\n",
    "\n",
    "```python\n",
    "multiline = 'Line #1\n",
    "Line #2'\n",
    "\n",
    "print(len(multiline))\n",
    "```\n",
    "\n",
    "Fortunately, for these kinds of strings, Python offers separate, convenient, and simple syntax.\n",
    "\n",
    "\n",
    "Look at the code in the editor. This is what it looks like.\n",
    "\n",
    "As you can see, the string starts with three apostrophes, not one. The same tripled apostrophe is used to terminate it.\n",
    "\n",
    "The number of text lines put inside such a string is arbitrary.\n",
    "\n",
    "The snippet outputs 15.\n",
    "\n",
    "Count the characters carefully. Is this result correct or not? It looks okay at first glance, but when you count the characters, it doesn't.\n",
    "\n",
    "Line #1 contains seven characters. Two such lines comprise 14 characters. Did we lose a character? Where? How?\n",
    "\n",
    "No, we didn't.\n",
    "\n",
    "The missing character is simply invisible - it's a whitespace. It's located between the two text lines.\n",
    "\n",
    "It's denoted as: \\n.\n",
    "\n",
    "Do you remember? It's a special (control) character used to force a line feed (hence its name: LF). You can't see it, but it counts.\n",
    "\n",
    "The multiline strings can be delimited by triple quotes, too, just like here:\n",
    "\n",
    "```python\n",
    "multiline = \"\"\"Line #1\n",
    "Line #2\"\"\"\n",
    "\n",
    "print(len(multiline))\n",
    "```\n",
    "\n",
    "Choose the method that is more comfortable for you. Both work the same.\n",
    "\n",
    "\n"
   ]
  },
  {
   "cell_type": "code",
   "execution_count": 4,
   "id": "91d5a8a6-7656-48f1-9291-9304a44b60fb",
   "metadata": {},
   "outputs": [
    {
     "ename": "SyntaxError",
     "evalue": "unterminated string literal (detected at line 1) (2887293872.py, line 1)",
     "output_type": "error",
     "traceback": [
      "\u001b[0;36m  Cell \u001b[0;32mIn[4], line 1\u001b[0;36m\u001b[0m\n\u001b[0;31m    multiline = 'Line #1\u001b[0m\n\u001b[0m                ^\u001b[0m\n\u001b[0;31mSyntaxError\u001b[0m\u001b[0;31m:\u001b[0m unterminated string literal (detected at line 1)\n"
     ]
    }
   ],
   "source": [
    "multiline = 'Line #1\n",
    "Line #2'\n",
    "\n",
    "print(len(multiline))"
   ]
  },
  {
   "cell_type": "code",
   "execution_count": 5,
   "id": "fb8fb360-659b-45fd-9328-5d5abaf8d149",
   "metadata": {},
   "outputs": [
    {
     "name": "stdout",
     "output_type": "stream",
     "text": [
      "15\n"
     ]
    }
   ],
   "source": [
    "multiline = '''Line #1\n",
    "Line #2'''\n",
    "\n",
    "print(len(multiline))\n"
   ]
  },
  {
   "cell_type": "markdown",
   "id": "5b6d7b7f-101c-4032-a054-6d547dab8ddc",
   "metadata": {},
   "source": [
    "### Operations on strings"
   ]
  },
  {
   "cell_type": "markdown",
   "id": "642739ba-84e4-42f1-a8cb-cb057f892fc7",
   "metadata": {},
   "source": [
    "ike other kinds of data, strings have their own set of permissible operations, although they're rather limited compared to numbers.\n",
    "\n",
    "In general, strings can be:\n",
    "\n",
    "- concatenated (joined)\n",
    "- replicated.\n",
    "\n",
    "The first operation is performed by the + operator (note: it's not an addition) while the second by the * operator (note again: it's not a multiplication).\n",
    "\n",
    "The ability to use the same operator against completely different kinds of data (like numbers vs. strings) is called overloading (as such an operator is overloaded with different duties).\n",
    "\n",
    "Analyze the example:\n",
    "\n",
    "- The + operator used against two or more strings produces a new string containing all the characters from its arguments (note: the order matters - this overloaded +, in contrast to its numerical version, is not commutative)\n",
    "- the * operator needs a string and a number as arguments; in this case, the order doesn't matter - you can put the number before the string, or vice versa, the result will be the same - a new string created by the nth replication of the argument's string.\n",
    "\n",
    "The snippet produces the following output:\n",
    "\n",
    "```python\n",
    "ab\n",
    "ba\n",
    "aaaaa\n",
    "bbbb\n",
    "```\n",
    "\n",
    "\n",
    "Note: shortcut variants of the above operators are also applicable for strings (+= and *=)."
   ]
  },
  {
   "cell_type": "code",
   "execution_count": 6,
   "id": "c4053300-5ea4-4c37-9815-71b71d8e7b84",
   "metadata": {},
   "outputs": [
    {
     "name": "stdout",
     "output_type": "stream",
     "text": [
      "ab\n",
      "ba\n",
      "aaaaa\n",
      "bbbb\n",
      "ababab\n"
     ]
    }
   ],
   "source": [
    "str1 = 'a'\n",
    "str2 = 'b'\n",
    "\n",
    "print(str1 + str2)\n",
    "print(str2 + str1)\n",
    "print(5 * 'a')\n",
    "print('b' * 4)\n",
    "print((str1 + str2)*3) "
   ]
  },
  {
   "cell_type": "markdown",
   "id": "d72bbbfb-7f91-42fa-9c59-ff0c246ff754",
   "metadata": {},
   "source": [
    "### Operations on strings: ord()"
   ]
  },
  {
   "cell_type": "markdown",
   "id": "2ec8e057-f564-417f-b13f-a75dfca7f7b5",
   "metadata": {},
   "source": [
    "If you want to know a specific character's ASCII/UNICODE code point value, you can use a function named ord() (as in ordinal).\n",
    "\n",
    "The function needs a one-character string as its argument - breaching this requirement causes a TypeError exception, and returns a number representing the argument's code point.\n",
    "\n",
    "Look at the code in the editor, and run it. The snippet outputs:\n",
    "\n",
    "```python\n",
    "97\n",
    "32\n",
    "```\n",
    "\n",
    "Now assign different values to char_1 and char_2, e.g., α (Greek alpha), and ę (a letter in the Polish alphabet); then run the code and see what result it outputs. Carry out your own experiments."
   ]
  },
  {
   "cell_type": "code",
   "execution_count": 7,
   "id": "f7782a11-b037-40a9-98d7-88b00976351b",
   "metadata": {},
   "outputs": [
    {
     "name": "stdout",
     "output_type": "stream",
     "text": [
      "Help on built-in function ord in module builtins:\n",
      "\n",
      "ord(c, /)\n",
      "    Return the Unicode code point for a one-character string.\n",
      "\n"
     ]
    }
   ],
   "source": [
    "help(ord)"
   ]
  },
  {
   "cell_type": "code",
   "execution_count": 8,
   "id": "0151ba87-dad1-47b5-8bd7-1e59492a58be",
   "metadata": {},
   "outputs": [
    {
     "name": "stdout",
     "output_type": "stream",
     "text": [
      "97\n",
      "32\n"
     ]
    }
   ],
   "source": [
    "# Demonstrating the ord() function.\n",
    "\n",
    "char_1 = 'a'\n",
    "char_2 = ' '  # space\n",
    "\n",
    "print(ord(char_1))\n",
    "print(ord(char_2))"
   ]
  },
  {
   "cell_type": "code",
   "execution_count": 10,
   "id": "d9fad6e0-dd4f-410c-89fa-4d4f5f08b0c9",
   "metadata": {},
   "outputs": [
    {
     "name": "stdout",
     "output_type": "stream",
     "text": [
      "281\n",
      "945\n"
     ]
    }
   ],
   "source": [
    "print(ord('ę'))\n",
    "print(ord('α'))"
   ]
  },
  {
   "cell_type": "markdown",
   "id": "52407041-8e8b-44e0-a711-2fdba420c40a",
   "metadata": {},
   "source": [
    "### Operations on strings: chr()"
   ]
  },
  {
   "cell_type": "markdown",
   "id": "dd0547ff-2192-49c6-ae57-672ef98c8527",
   "metadata": {},
   "source": [
    "If you know the code point (number) and want to get the corresponding character, you can use a function named chr().\n",
    "\n",
    "The function takes a code point and returns its character.\n",
    "\n",
    "Invoking it with an invalid argument (e.g., a negative or invalid code point) causes ValueError or TypeError exceptions.\n",
    "\n",
    "Run the code in the editor. The example snippet outputs:\n",
    "\n",
    "```python\n",
    "a\n",
    "α\n",
    "```\n",
    "\n",
    "Note:\n",
    "\n",
    "- `chr(ord(x)) == x`\n",
    "- `ord(chr(x)) == x`\n",
    "\n",
    "Again, run your own experiments.\n",
    "\n"
   ]
  },
  {
   "cell_type": "code",
   "execution_count": 12,
   "id": "407b852d-82b9-4c33-89fb-0a82b5373f04",
   "metadata": {},
   "outputs": [
    {
     "name": "stdout",
     "output_type": "stream",
     "text": [
      "Help on built-in function chr in module builtins:\n",
      "\n",
      "chr(i, /)\n",
      "    Return a Unicode string of one character with ordinal i; 0 <= i <= 0x10ffff.\n",
      "\n"
     ]
    }
   ],
   "source": [
    "help(chr)"
   ]
  },
  {
   "cell_type": "code",
   "execution_count": 11,
   "id": "7c76721c-4ae9-4878-bdf3-97c64c3e8b6f",
   "metadata": {},
   "outputs": [
    {
     "name": "stdout",
     "output_type": "stream",
     "text": [
      "a\n",
      "α\n"
     ]
    }
   ],
   "source": [
    "# Demonstrating the chr() function.\n",
    "\n",
    "print(chr(97))\n",
    "print(chr(945))\n"
   ]
  },
  {
   "cell_type": "markdown",
   "id": "b1c04d92-250d-491c-b780-e62b1922bf9d",
   "metadata": {},
   "source": [
    "### Strings as sequences: indexing"
   ]
  },
  {
   "cell_type": "markdown",
   "id": "bf452881-8fd0-4f19-a206-69862ae5662f",
   "metadata": {},
   "source": [
    "We told you before that Python strings are sequences. It's time to show you what that actually means.\n",
    "\n",
    "Strings aren't lists, but you can treat them like lists in many particular cases.\n",
    "\n",
    "For example, if you want to access any of a string's characters, you can do it using indexing, just like in the example below. Run the program:\n",
    "\n",
    "```python\n",
    "# Indexing strings.\n",
    "\n",
    "the_string = 'silly walks'\n",
    "\n",
    "for ix in range(len(the_string)):\n",
    "    print(the_string[ix], end=' ')\n",
    "\n",
    "print()\n",
    "```\n",
    "\n",
    "Be careful - don't try to pass a string's boundaries - it will cause an exception.\n",
    "\n",
    "The example output is:\n",
    "\n",
    "`S i l l y   w a l k s`\n",
    "\n",
    "\n",
    "By the way, negative indices behave as expected, too. Check this yourself.\n",
    "\n"
   ]
  },
  {
   "cell_type": "code",
   "execution_count": 13,
   "id": "b079f5f7-1813-4b90-ae2e-3103c29347fc",
   "metadata": {},
   "outputs": [
    {
     "name": "stdout",
     "output_type": "stream",
     "text": [
      "s i l l y   w a l k s \n"
     ]
    }
   ],
   "source": [
    "# Indexing strings.\n",
    "\n",
    "the_string = 'silly walks'\n",
    "\n",
    "for ix in range(len(the_string)):\n",
    "    print(the_string[ix], end=' ')\n",
    "\n",
    "print()"
   ]
  },
  {
   "cell_type": "markdown",
   "id": "caf8aed9-3409-4857-924c-ed55d1330e59",
   "metadata": {},
   "source": [
    "### Strings as sequences: iterating"
   ]
  },
  {
   "cell_type": "markdown",
   "id": "0225767e-3c77-4878-ba87-6d9a3c2df1aa",
   "metadata": {},
   "source": [
    "Iterating through the strings works, too. Look at the example below:\n",
    "\n",
    "```python\n",
    "\n",
    "# Iterating through a string.\n",
    "\n",
    "the_string = 'silly walks'\n",
    "\n",
    "for character in the_string:\n",
    "    print(character, end=' ')\n",
    "\n",
    "print()\n",
    "\n",
    "```\n",
    "\n",
    "The output is the same as previously. Check."
   ]
  },
  {
   "cell_type": "code",
   "execution_count": 19,
   "id": "9e748d6c-d174-4e90-b666-0bbc06dfa2d5",
   "metadata": {},
   "outputs": [
    {
     "name": "stdout",
     "output_type": "stream",
     "text": [
      "s i l l y   w a l k s "
     ]
    }
   ],
   "source": [
    "# Iterating through a string.\n",
    "\n",
    "the_string = 'silly walks'\n",
    "\n",
    "for character in the_string:\n",
    "    print(character, end=' ')\n"
   ]
  },
  {
   "cell_type": "code",
   "execution_count": 17,
   "id": "31283dd3-b6e2-4fb7-b307-9ecd181a09a7",
   "metadata": {},
   "outputs": [
    {
     "name": "stdout",
     "output_type": "stream",
     "text": [
      "Help on built-in function print in module builtins:\n",
      "\n",
      "print(...)\n",
      "    print(value, ..., sep=' ', end='\\n', file=sys.stdout, flush=False)\n",
      "    \n",
      "    Prints the values to a stream, or to sys.stdout by default.\n",
      "    Optional keyword arguments:\n",
      "    file:  a file-like object (stream); defaults to the current sys.stdout.\n",
      "    sep:   string inserted between values, default a space.\n",
      "    end:   string appended after the last value, default a newline.\n",
      "    flush: whether to forcibly flush the stream.\n",
      "\n"
     ]
    }
   ],
   "source": [
    "help(print)"
   ]
  },
  {
   "cell_type": "markdown",
   "id": "3a109719-33a9-4fc6-b642-e00655d6f201",
   "metadata": {},
   "source": [
    "### Slices"
   ]
  },
  {
   "cell_type": "markdown",
   "id": "f2af3aad-7063-43e9-a584-b577adf2ba97",
   "metadata": {},
   "source": [
    "Moreover, everything you know about slices is still usable.\n",
    "\n",
    "We've gathered some examples showing how slices work in the string world. Look at the code in the editor, analyze it, and run it.\n",
    "\n",
    "You won't see anything new in the example, but we want you to be sure that you can explain all the lines of the code.\n",
    "\n",
    "The code's output is:\n",
    "\n",
    "```python\n",
    "bd\n",
    "efg\n",
    "abd\n",
    "e\n",
    "e\n",
    "adf\n",
    "beg\n",
    "\n",
    "```\n",
    "\n",
    "Now do your own experiments.\n",
    "\n"
   ]
  },
  {
   "cell_type": "code",
   "execution_count": 21,
   "id": "1068ec8a-adbd-4740-869d-798df260cbf8",
   "metadata": {},
   "outputs": [
    {
     "name": "stdout",
     "output_type": "stream",
     "text": [
      "bd\n",
      "efg\n",
      "abd\n",
      "e\n",
      "e\n",
      "adf\n",
      "beg\n"
     ]
    }
   ],
   "source": [
    "# Slices\n",
    "\n",
    "alpha = \"abdefg\"\n",
    "\n",
    "print(alpha[1:3])\n",
    "print(alpha[3:])\n",
    "print(alpha[:3])\n",
    "print(alpha[3:-2])\n",
    "print(alpha[-3:4])\n",
    "print(alpha[::2])\n",
    "print(alpha[1::2])"
   ]
  },
  {
   "cell_type": "code",
   "execution_count": 41,
   "id": "0b379655-a818-42f9-bb60-c57a5a013968",
   "metadata": {},
   "outputs": [],
   "source": [
    "#help(str)"
   ]
  },
  {
   "cell_type": "markdown",
   "id": "cdc2932c-c49d-4be1-a859-e03948484809",
   "metadata": {},
   "source": [
    "### The in and not in operators"
   ]
  },
  {
   "cell_type": "markdown",
   "id": "aa1e5be4-e4b2-4d2e-a7ae-5d53090014ae",
   "metadata": {},
   "source": [
    "**The in operator**\n",
    "\n",
    "The in operator shouldn't surprise you when applied to strings - it simply checks if its left argument (a string) can be found anywhere within the right argument (another string).\n",
    "\n",
    "The result of the check is simply True or False.\n",
    "\n",
    "Look at the example program below. This is how the in operator works:\n",
    "\n",
    "```python\n",
    "\n",
    "alphabet = \"abcdefghijklmnopqrstuvwxyz\"\n",
    "\n",
    "print(\"f\" in alphabet)\n",
    "print(\"F\" in alphabet)\n",
    "print(\"1\" in alphabet)\n",
    "print(\"ghi\" in alphabet)\n",
    "print(\"Xyz\" in alphabet)\n",
    "\n",
    "```\n",
    "\n",
    "The example output is:\n",
    "\n",
    "```python\n",
    "True\n",
    "False\n",
    "False\n",
    "True\n",
    "False\n",
    "```\n",
    "\n",
    "The not in operator\n",
    "\n",
    "As you probably suspect, the not in operator is also applicable here.\n",
    "\n",
    "This is how it works:\n",
    "\n",
    "```python\n",
    "alphabet = \"abcdefghijklmnopqrstuvwxyz\n",
    "print(\"f\" not in alphabet)\n",
    "print(\"F\" not in alphabet)\n",
    "print(\"1\" not in alphabet)\n",
    "print(\"ghi\" not in alphabet)\n",
    "print(\"Xyz\" not in alphabet)\n",
    "\n",
    "```\n",
    "\n",
    "The example output is:\n",
    "\n",
    "```python\n",
    "False\n",
    "True\n",
    "True\n",
    "False\n",
    "True\n",
    "```\n",
    "\n"
   ]
  },
  {
   "cell_type": "code",
   "execution_count": 23,
   "id": "1867ed03-891b-43c4-9116-8da9e6046a2f",
   "metadata": {},
   "outputs": [
    {
     "name": "stdout",
     "output_type": "stream",
     "text": [
      "True\n",
      "False\n",
      "False\n",
      "True\n",
      "False\n"
     ]
    }
   ],
   "source": [
    "alphabet = \"abcdefghijklmnopqrstuvwxyz\"\n",
    "\n",
    "print(\"f\" in alphabet)\n",
    "print(\"F\" in alphabet)\n",
    "print(\"1\" in alphabet)\n",
    "print(\"ghi\" in alphabet)\n",
    "print(\"Xyz\" in alphabet)\n"
   ]
  },
  {
   "cell_type": "code",
   "execution_count": 24,
   "id": "55de0233-f6a4-4628-a232-df677c5b5e5c",
   "metadata": {},
   "outputs": [
    {
     "name": "stdout",
     "output_type": "stream",
     "text": [
      "False\n",
      "True\n",
      "True\n",
      "False\n",
      "True\n"
     ]
    }
   ],
   "source": [
    "alphabet = \"abcdefghijklmnopqrstuvwxyz\"\n",
    "\n",
    "print(\"f\" not in alphabet)\n",
    "print(\"F\" not in alphabet)\n",
    "print(\"1\" not in alphabet)\n",
    "print(\"ghi\" not in alphabet)\n",
    "print(\"Xyz\" not in alphabet)\n",
    "\n"
   ]
  },
  {
   "cell_type": "markdown",
   "id": "df272a2f-6aa4-45a4-afdc-fae3782704b8",
   "metadata": {},
   "source": [
    "### Python strings are immutable"
   ]
  },
  {
   "cell_type": "markdown",
   "id": "cf627bef-fddf-41bb-9ef4-e81d58e5aebd",
   "metadata": {},
   "source": [
    "We've also told you that Python's strings are immutable. This is a very important feature. What does it mean?\n",
    "\n",
    "This primarily means that the similarity of strings and lists is limited. Not everything you can do with a list may be done with a string.\n",
    "\n",
    "The first important difference doesn't allow you to use the del instruction to remove anything from a string.\n",
    "\n",
    "The example here won't work:"
   ]
  },
  {
   "cell_type": "code",
   "execution_count": 26,
   "id": "f66b2c1a-e795-4b7d-b304-7117c53b857e",
   "metadata": {},
   "outputs": [
    {
     "ename": "TypeError",
     "evalue": "'str' object doesn't support item deletion",
     "output_type": "error",
     "traceback": [
      "\u001b[0;31m---------------------------------------------------------------------------\u001b[0m",
      "\u001b[0;31mTypeError\u001b[0m                                 Traceback (most recent call last)",
      "Cell \u001b[0;32mIn[26], line 2\u001b[0m\n\u001b[1;32m      1\u001b[0m alphabet \u001b[38;5;241m=\u001b[39m \u001b[38;5;124m\"\u001b[39m\u001b[38;5;124mabcdefghijklmnopqrstuvwxyz\u001b[39m\u001b[38;5;124m\"\u001b[39m\n\u001b[0;32m----> 2\u001b[0m \u001b[38;5;28;01mdel\u001b[39;00m alphabet[\u001b[38;5;241m0\u001b[39m]\n",
      "\u001b[0;31mTypeError\u001b[0m: 'str' object doesn't support item deletion"
     ]
    }
   ],
   "source": [
    "alphabet = \"abcdefghijklmnopqrstuvwxyz\"\n",
    "del alphabet[0]"
   ]
  },
  {
   "cell_type": "markdown",
   "id": "e047c0f8-9318-4d3d-91a7-beb445473dde",
   "metadata": {},
   "source": [
    "The only thing you can do with del and a string is to remove the string as a whole. Try to do it.\n",
    "\n",
    "\n",
    "Python strings don't have the append() method - you cannot expand them in any way.\n",
    "\n",
    "The example below is erroneous:"
   ]
  },
  {
   "cell_type": "code",
   "execution_count": 27,
   "id": "f1984219-2ffe-4c02-89df-10ee3e9e9cfb",
   "metadata": {},
   "outputs": [
    {
     "ename": "AttributeError",
     "evalue": "'str' object has no attribute 'append'",
     "output_type": "error",
     "traceback": [
      "\u001b[0;31m---------------------------------------------------------------------------\u001b[0m",
      "\u001b[0;31mAttributeError\u001b[0m                            Traceback (most recent call last)",
      "Cell \u001b[0;32mIn[27], line 2\u001b[0m\n\u001b[1;32m      1\u001b[0m alphabet \u001b[38;5;241m=\u001b[39m \u001b[38;5;124m\"\u001b[39m\u001b[38;5;124mabcdefghijklmnopqrstuvwxyz\u001b[39m\u001b[38;5;124m\"\u001b[39m\n\u001b[0;32m----> 2\u001b[0m \u001b[43malphabet\u001b[49m\u001b[38;5;241;43m.\u001b[39;49m\u001b[43mappend\u001b[49m(\u001b[38;5;124m\"\u001b[39m\u001b[38;5;124mA\u001b[39m\u001b[38;5;124m\"\u001b[39m)\n",
      "\u001b[0;31mAttributeError\u001b[0m: 'str' object has no attribute 'append'"
     ]
    }
   ],
   "source": [
    "alphabet = \"abcdefghijklmnopqrstuvwxyz\"\n",
    "alphabet.append(\"A\")"
   ]
  },
  {
   "cell_type": "markdown",
   "id": "3673aee5-f79f-4021-a3df-7aadf03052dc",
   "metadata": {},
   "source": [
    "with the absence of the append() method, the insert() method is illegal, too:"
   ]
  },
  {
   "cell_type": "code",
   "execution_count": 28,
   "id": "f8213f5a-d664-48a9-a64a-ac81254ef45a",
   "metadata": {},
   "outputs": [
    {
     "ename": "AttributeError",
     "evalue": "'str' object has no attribute 'insert'",
     "output_type": "error",
     "traceback": [
      "\u001b[0;31m---------------------------------------------------------------------------\u001b[0m",
      "\u001b[0;31mAttributeError\u001b[0m                            Traceback (most recent call last)",
      "Cell \u001b[0;32mIn[28], line 2\u001b[0m\n\u001b[1;32m      1\u001b[0m alphabet \u001b[38;5;241m=\u001b[39m \u001b[38;5;124m\"\u001b[39m\u001b[38;5;124mabcdefghijklmnopqrstuvwxyz\u001b[39m\u001b[38;5;124m\"\u001b[39m\n\u001b[0;32m----> 2\u001b[0m \u001b[43malphabet\u001b[49m\u001b[38;5;241;43m.\u001b[39;49m\u001b[43minsert\u001b[49m(\u001b[38;5;241m0\u001b[39m, \u001b[38;5;124m\"\u001b[39m\u001b[38;5;124mA\u001b[39m\u001b[38;5;124m\"\u001b[39m)\n",
      "\u001b[0;31mAttributeError\u001b[0m: 'str' object has no attribute 'insert'"
     ]
    }
   ],
   "source": [
    "alphabet = \"abcdefghijklmnopqrstuvwxyz\"\n",
    "alphabet.insert(0, \"A\")"
   ]
  },
  {
   "cell_type": "markdown",
   "id": "98178bd3-07d3-4c09-9e51-f4d700179c37",
   "metadata": {},
   "source": [
    "Don't think that a string's immutability limits your ability to operate with strings.\n",
    "\n",
    "The only consequence is that you have to remember about it, and implement your code in a slightly different way - look at the example code in the editor.\n",
    "\n",
    "This form of code is fully acceptable, will work without bending Python's rules, and will bring the full Latin alphabet to your screen:\n",
    "\n",
    "`abcdefghijklmnopqrstuvwxyz`\n",
    "\n",
    "You may want to ask if creating a new copy of a string each time you modify its contents worsens the effectiveness of the code.\n",
    "\n",
    "Yes, it does. A bit. It's not a problem at all, though."
   ]
  },
  {
   "cell_type": "code",
   "execution_count": 29,
   "id": "25e294d6-a914-403a-959f-4d8c0c7fe2fb",
   "metadata": {},
   "outputs": [
    {
     "name": "stdout",
     "output_type": "stream",
     "text": [
      "abcdefghijklmnopqrstuvwxyz\n"
     ]
    }
   ],
   "source": [
    "alphabet = \"bcdefghijklmnopqrstuvwxy\"\n",
    "\n",
    "alphabet = \"a\" + alphabet\n",
    "alphabet = alphabet + \"z\"\n",
    "\n",
    "print(alphabet)\n"
   ]
  },
  {
   "cell_type": "markdown",
   "id": "55cb6e37-eda8-4de4-a16a-38463da068a0",
   "metadata": {},
   "source": [
    "### Operations on strings: min()"
   ]
  },
  {
   "cell_type": "markdown",
   "id": "e41c72b7-5194-40aa-a011-c2c07ce4f20a",
   "metadata": {},
   "source": [
    "Now that you understand that strings are sequences, we can show you some less obvious sequence capabilities. We'll present them using strings, but don't forget that lists can adopt the same tricks, too.\n",
    "\n",
    "Let's start with a function named min().\n",
    "\n",
    "The function finds the minimum element of the sequence passed as an argument. There is one condition - the sequence (string, list, it doesn't matter) cannot be empty, or else you'll get a ValueError exception.\n",
    "\n",
    "The Example 1 program outputs:"
   ]
  },
  {
   "cell_type": "code",
   "execution_count": 30,
   "id": "d007c20d-87cd-4d76-97e9-0559b78a5864",
   "metadata": {},
   "outputs": [
    {
     "name": "stdout",
     "output_type": "stream",
     "text": [
      "A\n"
     ]
    }
   ],
   "source": [
    "# Demonstrating min() - Example 1:\n",
    "print(min(\"aAbByYzZ\"))"
   ]
  },
  {
   "cell_type": "markdown",
   "id": "db00023d-7520-454c-979b-96f8ae9c00c0",
   "metadata": {},
   "source": [
    "Note: It's an upper-case A. Why? Recall the ASCII table - which letters occupy first locations - upper or lower?\n",
    "\n",
    "We've prepared two more examples to analyze: Examples 2 & 3.\n",
    "\n",
    "As you can see, they present more than just strings. The expected output looks as follows:"
   ]
  },
  {
   "cell_type": "code",
   "execution_count": 31,
   "id": "f5e2d70e-da24-4508-bf39-713e026255ea",
   "metadata": {},
   "outputs": [
    {
     "name": "stdout",
     "output_type": "stream",
     "text": [
      "[ ]\n",
      "0\n"
     ]
    }
   ],
   "source": [
    "# Demonstrating min() - Examples 2 & 3:\n",
    "t = 'The Knights Who Say \"Ni!\"'\n",
    "print('[' + min(t) + ']')\n",
    "\n",
    "t = [0, 1, 2]\n",
    "print(min(t))\n"
   ]
  },
  {
   "cell_type": "markdown",
   "id": "b8c176ce-d175-473f-9b4a-2f445a204d62",
   "metadata": {},
   "source": [
    "Note: we've used the square brackets to prevent the space from being overlooked on your screen."
   ]
  },
  {
   "cell_type": "markdown",
   "id": "df08b7a2-ced8-40e5-b924-f329d0515f83",
   "metadata": {},
   "source": [
    "### Operations on strings: max()"
   ]
  },
  {
   "cell_type": "markdown",
   "id": "5c054c4b-523e-4116-be95-eb9e4c8bf730",
   "metadata": {},
   "source": [
    "Similarly, a function named max() finds the maximum element of the sequence.\n",
    "\n",
    "Look at Example 1 in the editor. The example program outputs:"
   ]
  },
  {
   "cell_type": "code",
   "execution_count": null,
   "id": "b74fa18d-ce85-44dd-a1fc-dd0d5b156c4e",
   "metadata": {},
   "outputs": [],
   "source": [
    "# Demonstrating max() - Example 1:\n",
    "print(max(\"aAbByYzZ\"))\n"
   ]
  },
  {
   "cell_type": "markdown",
   "id": "8aec7d54-b43a-4b43-b4df-948f233edc7c",
   "metadata": {},
   "source": [
    "Note: It's a lower-case z.\n",
    "\n",
    "Now let's see the max() function applied to the same data as previously. Look at Examples 2 & 3 in the editor.\n",
    "\n",
    "The expected output is:"
   ]
  },
  {
   "cell_type": "code",
   "execution_count": 33,
   "id": "4f6cd151-c538-4f74-a219-be0bc7111519",
   "metadata": {},
   "outputs": [
    {
     "name": "stdout",
     "output_type": "stream",
     "text": [
      "[y]\n",
      "2\n"
     ]
    }
   ],
   "source": [
    "# Demonstrating max() - Examples 2 & 3:\n",
    "t = 'The Knights Who Say \"Ni!\"'\n",
    "print('[' + max(t) + ']')\n",
    "\n",
    "t = [0, 1, 2]\n",
    "print(max(t))"
   ]
  },
  {
   "cell_type": "markdown",
   "id": "27bfe2d1-d95a-4638-8c1b-7cef6c92be49",
   "metadata": {},
   "source": [
    "Carry out your own experiments."
   ]
  },
  {
   "cell_type": "markdown",
   "id": "06efdb82-d29f-4c44-bb3b-71f9d92d080a",
   "metadata": {},
   "source": [
    "### Operations on strings: the index() method"
   ]
  },
  {
   "cell_type": "markdown",
   "id": "31df17ce-4211-4a39-ac7c-301ff8aa1d2c",
   "metadata": {},
   "source": [
    "he index() method (it's a method, not a function) searches the sequence from the beginning, in order to find the first element of the value specified in its argument.\n",
    "\n",
    "Note: the element searched for must occur in the sequence - its absence will cause a ValueError exception.\n",
    "\n",
    "The method returns the index of the first occurrence of the argument (which means that the lowest possible result is 0, while the highest is the length of argument decremented by 1).\n",
    "\n",
    "Therefore, the example in the editor outputs:\n",
    "\n"
   ]
  },
  {
   "cell_type": "code",
   "execution_count": 42,
   "id": "60fdd822-0b3d-4987-8087-505aa0e24d9a",
   "metadata": {},
   "outputs": [
    {
     "name": "stdout",
     "output_type": "stream",
     "text": [
      "2\n",
      "7\n",
      "1\n"
     ]
    }
   ],
   "source": [
    "# Demonstrating the index() method:\n",
    "print(\"aAbByYzZaA\".index(\"b\"))\n",
    "print(\"aAbByYzZaA\".index(\"Z\"))\n",
    "print(\"aAbByYzZaA\".index(\"A\"))\n"
   ]
  },
  {
   "cell_type": "code",
   "execution_count": 35,
   "id": "906686a4-b0ce-400f-b91d-ac8ffe723c6b",
   "metadata": {},
   "outputs": [
    {
     "name": "stdout",
     "output_type": "stream",
     "text": [
      "Help on built-in function index:\n",
      "\n",
      "index(...) method of builtins.str instance\n",
      "    S.index(sub[, start[, end]]) -> int\n",
      "    \n",
      "    Return the lowest index in S where substring sub is found,\n",
      "    such that sub is contained within S[start:end].  Optional\n",
      "    arguments start and end are interpreted as in slice notation.\n",
      "    \n",
      "    Raises ValueError when the substring is not found.\n",
      "\n"
     ]
    }
   ],
   "source": [
    "help(''.index)"
   ]
  },
  {
   "cell_type": "markdown",
   "id": "1e4d991a-7511-4ea4-863d-e638e4f43841",
   "metadata": {},
   "source": [
    "### Operations on strings: the list() function"
   ]
  },
  {
   "cell_type": "markdown",
   "id": "adb153cd-96d8-480c-9804-fd7f230746f4",
   "metadata": {},
   "source": [
    "The list() function takes its argument (a string) and creates a new list containing all the string's characters, one per list element.\n",
    "\n",
    "Note: it's not strictly a string function - list() is able to create a new list from many other entities (e.g., from tuples and dictionaries).\n",
    "\n",
    "Take a look at the code example in the editor.\n",
    "\n",
    "The example outputs:"
   ]
  },
  {
   "cell_type": "code",
   "execution_count": 45,
   "id": "24d4abb8-9979-4884-959f-496623bcae0d",
   "metadata": {},
   "outputs": [
    {
     "name": "stdout",
     "output_type": "stream",
     "text": [
      "['a', 'b', 'c', 'a', 'b', 'c']\n"
     ]
    }
   ],
   "source": [
    "# Demonstrating the list() function:\n",
    "print(list(\"abcabc\"))\n"
   ]
  },
  {
   "cell_type": "code",
   "execution_count": 47,
   "id": "0fe1adcd-11cd-4df2-8662-45fc2ceda77b",
   "metadata": {},
   "outputs": [],
   "source": [
    "#help(list)"
   ]
  },
  {
   "cell_type": "markdown",
   "id": "1316c68c-b4cb-4b97-be9f-cfe25b7d4fd6",
   "metadata": {},
   "source": [
    "### Operations on strings: the count() method"
   ]
  },
  {
   "cell_type": "markdown",
   "id": "81e61602-1389-49ef-a8bc-105410365344",
   "metadata": {},
   "source": [
    "The count() method counts all occurrences of the element inside the sequence. The absence of such elements doesn't cause any problems.\n",
    "\n",
    "Look at the second example in the editor. Can you guess its output?\n",
    "\n",
    "It is:\n",
    "\n"
   ]
  },
  {
   "cell_type": "code",
   "execution_count": 46,
   "id": "6482688d-bf2c-492c-9775-e3a145b1d501",
   "metadata": {},
   "outputs": [
    {
     "name": "stdout",
     "output_type": "stream",
     "text": [
      "2\n",
      "0\n"
     ]
    }
   ],
   "source": [
    "# Demonstrating the count() method:\n",
    "print(\"abcabc\".count(\"b\"))\n",
    "print('abcabc'.count(\"d\"))"
   ]
  },
  {
   "cell_type": "code",
   "execution_count": 52,
   "id": "96763bc1-f0a9-41d3-b152-6cb28aaaa447",
   "metadata": {},
   "outputs": [],
   "source": [
    "#help(''.count(''))"
   ]
  },
  {
   "cell_type": "markdown",
   "id": "ca2423f4-dfde-45ac-83da-2140a733cd83",
   "metadata": {},
   "source": [
    "### Key takeaways"
   ]
  },
  {
   "cell_type": "markdown",
   "id": "d89cff59-910b-4285-a234-c7c3fe98ca4b",
   "metadata": {},
   "source": [
    "1. Python strings are immutable sequences and can be indexed, sliced, and iterated like any other sequence, as well as being subject to the in and not in operators. There are two kinds of strings in Python:\n",
    "\n",
    "- one-line strings, which cannot cross line boundaries – we denote them using either apostrophes ('string') or quotes (\"string\")\n",
    "- multi-line strings, which occupy more than one line of source code, delimited by trigraphs:\n",
    "\n",
    "```python\n",
    "\n",
    "'''\n",
    "string\n",
    "'''\n",
    "\n",
    "# or\n",
    "\n",
    "\"\"\"\n",
    "string\n",
    "\"\"\"\n",
    "\n",
    "```\n",
    "\n",
    "2. The length of a string is determined by the len() function. The escape character (\\) is not counted. For example:\n",
    "\n",
    "```python\n",
    "print(len(\"\\n\\n\"))\n",
    "#outputs 2.\n",
    "```\n",
    "\n",
    "\n",
    "3. Strings can be concatenated using the + operator, and replicated using the * operator. For example:\n",
    "\n",
    "```python\n",
    "asterisk = '*'\n",
    "plus = \"+\"\n",
    "decoration = (asterisk + plus) * 4 + asterisk\n",
    "print(decoration)\n",
    "\n",
    "#outputs *+*+*+*+*.\n",
    "```\n",
    "\n",
    "\n",
    "4. The pair of functions chr() and ord() can be used to create a character using its codepoint, and to determine a codepoint corresponding to a character. Both of the following expressions are always true:\n",
    "\n",
    "```python\n",
    "chr(ord(character)) == character\n",
    "ord(chr(codepoint)) == codepoint\n",
    "\n",
    "```\n",
    "\n",
    "5. Some other functions that can be applied to strings are:\n",
    "\n",
    "```python\n",
    "list() – create a list consisting of all the string's characters;\n",
    "max() – finds the character with the maximal codepoint;\n",
    "min() – finds the character with the minimal codepoint.\n",
    "\n",
    "```\n",
    "\n",
    "6. The method named index() finds the index of a given substring inside the string."
   ]
  },
  {
   "cell_type": "markdown",
   "id": "42cbed96-10cf-4380-8474-1cbfe5c4466e",
   "metadata": {},
   "source": [
    "#### Exercise 1\n",
    "\n",
    "What is the length of the following string assuming there is no whitespaces between the quotes?\n",
    "```python\n",
    "\"\"\"\n",
    "\"\"\"\n",
    "```\n",
    "\n",
    "<details>\n",
    "  <summary>Check</summary>\n",
    "  \n",
    "\t1\n",
    "\n",
    "</details>"
   ]
  },
  {
   "cell_type": "markdown",
   "id": "4c2c0fe9-f49e-4b9f-862c-4be39e9f6e0d",
   "metadata": {},
   "source": [
    "#### Exercise 2\n",
    "\n",
    "What is the expected output of the following code?\n",
    "\n",
    "```python\n",
    "s = 'yesteryears'\n",
    "the_list = list(s)\n",
    "print(the_list[3:6])\n",
    "```\n",
    "\n",
    "<details>\n",
    "  <summary>Check</summary>\n",
    "  \n",
    "\t['t', 'e', 'r']\n",
    "\n",
    "</details>"
   ]
  },
  {
   "cell_type": "markdown",
   "id": "efb4e1fb-cfd4-40e3-888c-f1772626ea02",
   "metadata": {},
   "source": [
    "#### Exercise 3\n",
    "\n",
    "What is the expected output of the following code?\n",
    "\n",
    "```python\n",
    "for ch in \"abc\":\n",
    "    print(chr(ord(ch) + 1), end='')\n",
    "```\n",
    "\n",
    "<details>\n",
    "  <summary>Check</summary>\n",
    "  \n",
    "\tbcd\n",
    "\n",
    "</details>"
   ]
  },
  {
   "cell_type": "markdown",
   "id": "09c84767-e1f5-4dc5-a2b2-7f839f446eea",
   "metadata": {},
   "source": [
    "##  String methods"
   ]
  },
  {
   "cell_type": "markdown",
   "id": "87a8d1ef-5162-4cc9-b63f-fd792999c9bd",
   "metadata": {},
   "source": [
    "### The capitalize() method"
   ]
  },
  {
   "cell_type": "markdown",
   "id": "3c7a58d0-6355-46f7-9e08-8641e20a083c",
   "metadata": {},
   "source": [
    "Let's go through some standard Python string methods. We're going to go through them in alphabetical order - to be honest, any order has as many disadvantages as advantages, so the choice may as well be random.\n",
    "\n",
    "The capitalize() method does exactly what it says - it creates a new string filled with characters taken from the source string, but it tries to modify them in the following way:\n",
    "\n",
    "- if the first character inside the string is a letter (note: the first character is an element with an index equal to 0, not just the first visible character), it will be converted to upper-case;\n",
    "- all remaining letters from the string will be converted to lower-case.\n",
    "\n",
    "Don't forget that:\n",
    "\n",
    "- the original string (from which the method is invoked) is not changed in any way (a string's immutability must be obeyed without reservation)\n",
    "- the modified (capitalized in this case) string is returned as a result - if you don't use it in any way (assign it to a variable, or pass it to a function/method) it will disappear without a trace.\n",
    "\n",
    "Note: methods don't have to be invoked from within variables only. They can be invoked directly from within string literals. We're going to use that convention regularly - it will simplify the examples, as the most important aspects will not disappear among unnecessary assignments.\n",
    "\n",
    "Take a look at the example in the editor. Run it.\n",
    "\n",
    "This is what it prints:"
   ]
  },
  {
   "cell_type": "code",
   "execution_count": 54,
   "id": "d5927367-3301-470b-ad52-e8c846b61e90",
   "metadata": {},
   "outputs": [
    {
     "name": "stdout",
     "output_type": "stream",
     "text": [
      "Abcd\n"
     ]
    }
   ],
   "source": [
    "# Demonstrating the capitalize() method:\n",
    "print('aBcD'.capitalize())\n"
   ]
  },
  {
   "cell_type": "code",
   "execution_count": 63,
   "id": "a6897595-3d4d-4ad6-b560-3ce528cce4f9",
   "metadata": {},
   "outputs": [],
   "source": [
    "# help(str)"
   ]
  },
  {
   "cell_type": "markdown",
   "id": "21622d0f-b260-4a6a-b3f9-0fb89cdb5a1e",
   "metadata": {},
   "source": [
    "Try some more advanced examples and test their output:"
   ]
  },
  {
   "cell_type": "code",
   "execution_count": 64,
   "id": "22441e4c-e8a2-4f9c-a42e-0daa2ff38e54",
   "metadata": {},
   "outputs": [
    {
     "name": "stdout",
     "output_type": "stream",
     "text": [
      "Alpha\n",
      "Alpha\n",
      " alpha\n",
      "123\n",
      "Αβγδ\n"
     ]
    }
   ],
   "source": [
    "print(\"Alpha\".capitalize())\n",
    "print('ALPHA'.capitalize())\n",
    "print(' Alpha'.capitalize())\n",
    "print('123'.capitalize())\n",
    "print(\"αβγδ\".capitalize())"
   ]
  },
  {
   "cell_type": "markdown",
   "id": "28f07466-889f-4359-a777-3965e27af78f",
   "metadata": {},
   "source": [
    "### The center() method "
   ]
  },
  {
   "cell_type": "markdown",
   "id": "c5019843-19a6-451a-91c1-35f317b1a90d",
   "metadata": {},
   "source": [
    "The one-parameter variant of the center() method makes a copy of the original string, trying to center it inside a field of a specified width.\n",
    "\n",
    "The centering is actually done by adding some spaces before and after the string.\n",
    "\n",
    "Don't expect this method to demonstrate any sophisticated skills. It's rather simple.\n",
    "\n",
    "The example in the editor uses brackets to clearly show you where the centered string actually begins and terminates.\n",
    "\n",
    "Its output looks as follows:"
   ]
  },
  {
   "cell_type": "code",
   "execution_count": 65,
   "id": "202f9c62-1e93-4787-82fd-6767f396f3ae",
   "metadata": {},
   "outputs": [
    {
     "name": "stdout",
     "output_type": "stream",
     "text": [
      "[  alpha   ]\n"
     ]
    }
   ],
   "source": [
    "# Demonstrating the center() method:\n",
    "print('[' + 'alpha'.center(10) + ']')\n"
   ]
  },
  {
   "cell_type": "markdown",
   "id": "6589d888-91ce-4b56-be4c-d493ec467e29",
   "metadata": {},
   "source": [
    "If the target field's length is too small to fit the string, the original string is returned.\n",
    "\n",
    "You can see the center() method in more examples here:"
   ]
  },
  {
   "cell_type": "code",
   "execution_count": 66,
   "id": "8204025c-94f3-44c5-8260-6e66399fde56",
   "metadata": {},
   "outputs": [
    {
     "name": "stdout",
     "output_type": "stream",
     "text": [
      "[Beta]\n",
      "[Beta]\n",
      "[ Beta ]\n"
     ]
    }
   ],
   "source": [
    "print('[' + 'Beta'.center(2) + ']')\n",
    "print('[' + 'Beta'.center(4) + ']')\n",
    "print('[' + 'Beta'.center(6) + ']')\n",
    "\n"
   ]
  },
  {
   "cell_type": "markdown",
   "id": "f739dd08-6c93-4686-bf98-2f1ccabacaa2",
   "metadata": {},
   "source": [
    "The two-parameter variant of center() makes use of the character from the second argument, instead of a space. Analyze the example below:"
   ]
  },
  {
   "cell_type": "code",
   "execution_count": 68,
   "id": "e4a73be8-4aab-47a9-ab6a-4fad411912c3",
   "metadata": {},
   "outputs": [
    {
     "name": "stdout",
     "output_type": "stream",
     "text": [
      "[*******gamma********]\n"
     ]
    }
   ],
   "source": [
    "print('[' + 'gamma'.center(20, '*') + ']')"
   ]
  },
  {
   "cell_type": "markdown",
   "id": "e2b48784-bdd8-456d-89aa-90875f245510",
   "metadata": {},
   "source": [
    "Carry out more experiments."
   ]
  },
  {
   "cell_type": "markdown",
   "id": "24fea410-a9a7-4030-ab69-7b89d736eef0",
   "metadata": {},
   "source": [
    "### The endswith() method"
   ]
  },
  {
   "cell_type": "markdown",
   "id": "3404443e-1591-4d39-a87f-21b60d57fe46",
   "metadata": {},
   "source": [
    "The endswith() method checks if the given string ends with the specified argument and returns True or False, depending on the check result.\n",
    "\n",
    "Note: the substring must adhere to the string's last character - it cannot just be located somewhere near the end of the string.\n",
    "\n",
    "Look at our example in the editor, analyze it, and run it. It outputs:"
   ]
  },
  {
   "cell_type": "code",
   "execution_count": 71,
   "id": "8e843a25-97a6-490d-8f4f-1b42fcb1c24f",
   "metadata": {},
   "outputs": [
    {
     "name": "stdout",
     "output_type": "stream",
     "text": [
      "yes\n"
     ]
    }
   ],
   "source": [
    "# Demonstrating the endswith() method:\n",
    "if \"epsilon\".endswith(\"on\"):\n",
    "    print(\"yes\")\n",
    "else:\n",
    "    print(\"no\")"
   ]
  },
  {
   "cell_type": "markdown",
   "id": "24540cfa-c5c8-442c-a606-21350bea72f0",
   "metadata": {},
   "source": [
    "You should now be able to predict the output of the snippet below:"
   ]
  },
  {
   "cell_type": "code",
   "execution_count": 72,
   "id": "89b50a28-3f7b-4262-8edd-745d9d289cf1",
   "metadata": {},
   "outputs": [
    {
     "name": "stdout",
     "output_type": "stream",
     "text": [
      "True\n",
      "False\n",
      "False\n",
      "True\n"
     ]
    }
   ],
   "source": [
    "t = \"zeta\"\n",
    "print(t.endswith(\"a\"))\n",
    "print(t.endswith(\"A\"))\n",
    "print(t.endswith(\"et\"))\n",
    "print(t.endswith(\"eta\"))"
   ]
  },
  {
   "cell_type": "markdown",
   "id": "eb1c980a-3583-440d-9ad7-bc1da3ce9e0e",
   "metadata": {},
   "source": [
    "### The find() method"
   ]
  },
  {
   "cell_type": "markdown",
   "id": "ce2baa44-892e-471a-8bc8-2901f578f6f2",
   "metadata": {},
   "source": [
    "The find() method is similar to index(), which you already know - it looks for a substring and returns the index of first occurrence of this substring, but:\n",
    "\n",
    "it's safer - it doesn't generate an error for an argument containing a non-existent substring (it returns -1 then)\n",
    "it works with strings only - don't try to apply it to any other sequence.\n",
    "Look at the code in the editor. This is how you can use it.\n",
    "\n",
    "The example prints:"
   ]
  },
  {
   "cell_type": "code",
   "execution_count": 74,
   "id": "e772e144-9951-4154-bc49-3b88ccdfb0d6",
   "metadata": {},
   "outputs": [
    {
     "name": "stdout",
     "output_type": "stream",
     "text": [
      "0\n",
      "1\n",
      "2\n",
      "1\n",
      "-1\n",
      "-1\n"
     ]
    }
   ],
   "source": [
    "# Demonstrating the find() method:\n",
    "print(\"Eta\".find(\"E\"))\n",
    "print(\"Eta\".find(\"t\"))\n",
    "print(\"Eta\".find(\"a\"))\n",
    "print(\"Eta\".find(\"ta\"))\n",
    "print(\"Eta\".find(\"e\"))\n",
    "print(\"Eta\".find(\"mma\"))"
   ]
  },
  {
   "cell_type": "markdown",
   "id": "87943e04-492d-43a8-9885-01806caa8b49",
   "metadata": {},
   "source": [
    "Note: don't use find() if you only want to check if a single character occurs within a string - the in operator will be significantly faster."
   ]
  },
  {
   "cell_type": "code",
   "execution_count": 76,
   "id": "a75d29b2-0845-4000-8092-5a3afd3318a6",
   "metadata": {},
   "outputs": [
    {
     "name": "stdout",
     "output_type": "stream",
     "text": [
      "True\n"
     ]
    }
   ],
   "source": [
    "print(\"q\" in \"dfjsöoiqjdfoijsfo\")"
   ]
  },
  {
   "cell_type": "markdown",
   "id": "5fe32f4d-c9a6-44ec-b745-6dfd5e82552f",
   "metadata": {},
   "source": [
    "Here is another example:\n",
    "Can you predict the output? Run it and check your predictions."
   ]
  },
  {
   "cell_type": "code",
   "execution_count": 75,
   "id": "9162a81c-3593-4d90-bfc4-aabf2f350933",
   "metadata": {},
   "outputs": [
    {
     "name": "stdout",
     "output_type": "stream",
     "text": [
      "2\n",
      "2\n",
      "0\n",
      "-1\n"
     ]
    }
   ],
   "source": [
    "t = 'theta'\n",
    "print(t.find('eta'))\n",
    "print(t.find('et'))\n",
    "print(t.find('the'))\n",
    "print(t.find('ha'))"
   ]
  },
  {
   "cell_type": "markdown",
   "id": "faa25eee-278e-4974-93c2-a89359ab9ef3",
   "metadata": {},
   "source": [
    "If you want to perform the find, not from the string's beginning, but from any position, you can use a two-parameter variant of the find() method. Look at the example:"
   ]
  },
  {
   "cell_type": "code",
   "execution_count": 77,
   "id": "1b93f7df-f365-4147-b09f-fa2c21ea6bc0",
   "metadata": {},
   "outputs": [
    {
     "name": "stdout",
     "output_type": "stream",
     "text": [
      "4\n"
     ]
    }
   ],
   "source": [
    "print('kappa'.find('a', 2))"
   ]
  },
  {
   "cell_type": "markdown",
   "id": "859a6624-1cc1-4b7f-a38b-4267d77a9964",
   "metadata": {},
   "source": [
    "The second argument specifies the index at which the search will be started (it doesn't have to fit inside the string).\n",
    "\n",
    "Among the two a letters, only the second will be found. Run the snippet and check.\n",
    "\n",
    "\n",
    "You can use the find() method to search for all the substring's occurrences, like here:"
   ]
  },
  {
   "cell_type": "code",
   "execution_count": 82,
   "id": "1e12adb5-e498-4ba0-8b6c-6c31a7120d41",
   "metadata": {},
   "outputs": [
    {
     "name": "stdout",
     "output_type": "stream",
     "text": [
      "15\n",
      "80\n",
      "198\n",
      "221\n",
      "238\n"
     ]
    }
   ],
   "source": [
    "the_text = \"\"\"A variation of the ordinary lorem ipsum\n",
    "text has been used in typesetting since the 1960s \n",
    "or earlier, when it was popularized by advertisements \n",
    "for Letraset transfer sheets. It was introduced to \n",
    "the Information Age in the mid-1980s by the Aldus Corporation, \n",
    "which employed it in graphics and word-processing templates\n",
    "for its desktop publishing program PageMaker (from Wikipedia)\"\"\"\n",
    "\n",
    "fnd = the_text.find('the')\n",
    "# print(the_text.find('the'))\n",
    "\n",
    "while fnd != -1:\n",
    "    print(fnd)\n",
    "    fnd = the_text.find('the', fnd + 1)"
   ]
  },
  {
   "cell_type": "markdown",
   "id": "c2e1a0e6-9047-4f8a-843a-3d8bbb03a939",
   "metadata": {},
   "source": [
    "There is also a three-parameter mutation of the find() method - the third argument points to the first index which won't be taken into consideration during the search (it's actually the upper limit of the search).\n",
    "\n",
    "Look at our example below:"
   ]
  },
  {
   "cell_type": "code",
   "execution_count": 85,
   "id": "656a69ec-efd4-4ea8-8922-95c12035c935",
   "metadata": {},
   "outputs": [
    {
     "name": "stdout",
     "output_type": "stream",
     "text": [
      "1\n",
      "-1\n"
     ]
    }
   ],
   "source": [
    "print('kappa'.find('a', 1, 4))\n",
    "print('kappa'.find('a', 2, 4))"
   ]
  },
  {
   "cell_type": "markdown",
   "id": "fa9f513e-4ba0-4ed4-9e57-7970ce02085d",
   "metadata": {},
   "source": [
    "(a cannot be found within the given search boundaries in the second print()."
   ]
  },
  {
   "cell_type": "markdown",
   "id": "9a560ab0-ec30-4871-bf18-f4c6814e0d3f",
   "metadata": {},
   "source": [
    "### The isalnum() method"
   ]
  },
  {
   "cell_type": "markdown",
   "id": "6fae37ba-cf55-4268-adb8-26cbd1e1ac9c",
   "metadata": {},
   "source": [
    "The parameterless method named isalnum() checks if the string contains only digits or alphabetical characters (letters), and returns True or False according to the result.\n",
    "\n",
    "Look at the example in the editor and run it.\n",
    "\n",
    "Note: any string element that is not a digit or a letter causes the method to return False. An empty string does, too.\n",
    "\n",
    "The example output is:"
   ]
  },
  {
   "cell_type": "code",
   "execution_count": 87,
   "id": "530e2e9b-5ea8-4e6a-8f2d-7219926147fd",
   "metadata": {},
   "outputs": [
    {
     "name": "stdout",
     "output_type": "stream",
     "text": [
      "True\n",
      "True\n",
      "True\n",
      "False\n",
      "False\n",
      "False\n",
      "False\n"
     ]
    }
   ],
   "source": [
    "# Demonstrating the isalnum() method:\n",
    "print('lambda30'.isalnum())\n",
    "print('lambda'.isalnum())\n",
    "print('30'.isalnum())\n",
    "print('30.'.isalnum())\n",
    "print('@'.isalnum())\n",
    "print('lambda_30'.isalnum())\n",
    "print(''.isalnum())\n"
   ]
  },
  {
   "cell_type": "markdown",
   "id": "bec66328-6516-4f2d-b4ca-00982d52377f",
   "metadata": {},
   "source": [
    "Three more intriguing examples are here:"
   ]
  },
  {
   "cell_type": "code",
   "execution_count": 88,
   "id": "47b624c1-767e-4a5a-9aef-7ce3d2cf6f6b",
   "metadata": {},
   "outputs": [
    {
     "name": "stdout",
     "output_type": "stream",
     "text": [
      "False\n",
      "True\n",
      "True\n"
     ]
    }
   ],
   "source": [
    "t = 'Six lambdas'\n",
    "print(t.isalnum())\n",
    "\n",
    "t = 'ΑβΓδ'\n",
    "print(t.isalnum())\n",
    "\n",
    "t = '20E1'\n",
    "print(t.isalnum())"
   ]
  },
  {
   "cell_type": "markdown",
   "id": "b7dbad4b-cd5f-420a-8ca5-9d37370d5d30",
   "metadata": {},
   "source": [
    "Run them and check their output.\n",
    "\n",
    "Hint: the cause of the first result is a space - it's neither a digit nor a letter."
   ]
  },
  {
   "cell_type": "markdown",
   "id": "e75a2466-f134-4509-8add-210a4cd42671",
   "metadata": {},
   "source": [
    "### The isalpha() method"
   ]
  },
  {
   "cell_type": "markdown",
   "id": "c2ca6f83-53ea-4edd-b83e-0659a3d5407d",
   "metadata": {},
   "source": [
    "The isalpha() method is more specialized - it's interested in letters only.\n",
    "\n",
    "Look at Example 1 - its output is:"
   ]
  },
  {
   "cell_type": "code",
   "execution_count": 89,
   "id": "c612b159-11ce-4e1a-adfb-1d16c89a7d99",
   "metadata": {},
   "outputs": [
    {
     "name": "stdout",
     "output_type": "stream",
     "text": [
      "True\n",
      "False\n"
     ]
    }
   ],
   "source": [
    "# Example 1: Demonstrating the isapha() method:\n",
    "print(\"Moooo\".isalpha())\n",
    "print('Mu40'.isalpha())"
   ]
  },
  {
   "cell_type": "markdown",
   "id": "d0a56299-81f2-4be4-9311-04fa5799369d",
   "metadata": {},
   "source": [
    "### The isdigit() method"
   ]
  },
  {
   "cell_type": "markdown",
   "id": "dcad8998-811d-4703-8dea-97703b0edaf0",
   "metadata": {},
   "source": [
    "In turn, the isdigit() method looks at digits only - anything else produces False as the result.\n",
    "\n",
    "Look at Example 2 - its output is:"
   ]
  },
  {
   "cell_type": "code",
   "execution_count": 90,
   "id": "aaacaa17-ed4f-4f45-b515-2c89643b5aa1",
   "metadata": {},
   "outputs": [
    {
     "name": "stdout",
     "output_type": "stream",
     "text": [
      "True\n",
      "False\n"
     ]
    }
   ],
   "source": [
    "# Example 2: Demonstrating the isdigit() method:\n",
    "print('2018'.isdigit())\n",
    "print(\"Year2019\".isdigit())\n"
   ]
  },
  {
   "cell_type": "markdown",
   "id": "5b9eaaaa-8fe9-40e7-84aa-e54e6d955ca1",
   "metadata": {},
   "source": [
    "### The islower() method"
   ]
  },
  {
   "cell_type": "markdown",
   "id": "874df74d-3246-4cdf-9d40-584dc8df5c32",
   "metadata": {},
   "source": [
    "The islower() method is a fussy variant of isalpha() – it accepts lower-case letters only.\n",
    "\n",
    "Look at Example 1 in the editor – it outputs:"
   ]
  },
  {
   "cell_type": "code",
   "execution_count": 91,
   "id": "925e8b60-a3ac-4b19-9c6e-5285b8ae8fae",
   "metadata": {},
   "outputs": [
    {
     "name": "stdout",
     "output_type": "stream",
     "text": [
      "False\n",
      "True\n"
     ]
    }
   ],
   "source": [
    "# Example 1: Demonstrating the islower() method:\n",
    "print(\"Moooo\".islower())\n",
    "print('moooo'.islower())"
   ]
  },
  {
   "cell_type": "markdown",
   "id": "7c4b679e-ffe7-4bb3-a47f-2731c26bdba2",
   "metadata": {},
   "source": [
    "### The isspace() method"
   ]
  },
  {
   "cell_type": "markdown",
   "id": "fe585709-5dc4-4f0c-bfe5-e6fe34b914f1",
   "metadata": {},
   "source": [
    "The isspace() method identifies whitespaces only – it disregards any other character (the result is False then).\n",
    "\n",
    "Look at Example 2 in the editor – the output is:"
   ]
  },
  {
   "cell_type": "code",
   "execution_count": 94,
   "id": "646dc65d-a618-4a0a-8ddc-ab56200d7419",
   "metadata": {},
   "outputs": [
    {
     "name": "stdout",
     "output_type": "stream",
     "text": [
      "True\n",
      "True\n",
      "False\n"
     ]
    }
   ],
   "source": [
    "# Example 2: Demonstrating the isspace() method:\n",
    "print(' \\n '.isspace())\n",
    "print(\" \".isspace())\n",
    "print(\"mooo mooo mooo\".isspace())"
   ]
  },
  {
   "cell_type": "markdown",
   "id": "67187dc4-5cd5-4718-beb8-26a65bb49554",
   "metadata": {},
   "source": [
    "### The isupper() method"
   ]
  },
  {
   "cell_type": "markdown",
   "id": "204440ba-386b-4aa8-a671-d04506382509",
   "metadata": {},
   "source": [
    "The isupper() method is the upper-case version of islower() – it concentrates on upper-case letters only.\n",
    "\n",
    "Again, Look at the code in the editor – Example 3 produces the following output:"
   ]
  },
  {
   "cell_type": "code",
   "execution_count": 95,
   "id": "9670685b-10af-4218-94e7-06f718744254",
   "metadata": {},
   "outputs": [
    {
     "name": "stdout",
     "output_type": "stream",
     "text": [
      "False\n",
      "False\n",
      "True\n"
     ]
    }
   ],
   "source": [
    "# Example 3: Demonstrating the isupper() method:\n",
    "print(\"Moooo\".isupper())\n",
    "print('moooo'.isupper())\n",
    "print('MOOOO'.isupper())"
   ]
  },
  {
   "cell_type": "markdown",
   "id": "ec904935-dd79-4015-84fe-a1e557be0242",
   "metadata": {},
   "source": [
    "### The join() method "
   ]
  },
  {
   "cell_type": "markdown",
   "id": "81d33545-e27f-42ff-baf1-4802826fa59e",
   "metadata": {},
   "source": [
    "The join() method is rather complicated, so let us guide you step by step thorough it:\n",
    "\n",
    "- as its name suggests, the method performs a join - it expects one argument as a list; it must be assured that all the list's elements are strings - the method will raise a TypeError exception otherwise;\n",
    "- all the list's elements will be joined into one string but...\n",
    "- ...the string from which the method has been invoked is used as a separator, put among the strings;\n",
    "- the newly created string is returned as a result.\n",
    "\n",
    "Take a look at the example in the editor. Let's analyze it:\n",
    "\n",
    "- the join() method is invoked from within a string containing a comma (the string can be arbitrarily long, or it can be empty)\n",
    "- the join's argument is a list containing three strings;\n",
    "- the method returns a new string.\n",
    "\n",
    "Here it is:"
   ]
  },
  {
   "cell_type": "code",
   "execution_count": 96,
   "id": "3693b553-cc0c-46b2-b16d-60b3eb1cea14",
   "metadata": {},
   "outputs": [
    {
     "name": "stdout",
     "output_type": "stream",
     "text": [
      "omicron,pi,rho\n"
     ]
    }
   ],
   "source": [
    "# Demonstrating the join() method:\n",
    "print(\",\".join([\"omicron\", \"pi\", \"rho2\"]))\n"
   ]
  },
  {
   "cell_type": "code",
   "execution_count": 98,
   "id": "76c98b69-e0cc-4176-8eb4-8eaa1e995eee",
   "metadata": {},
   "outputs": [
    {
     "ename": "TypeError",
     "evalue": "sequence item 2: expected str instance, int found",
     "output_type": "error",
     "traceback": [
      "\u001b[0;31m---------------------------------------------------------------------------\u001b[0m",
      "\u001b[0;31mTypeError\u001b[0m                                 Traceback (most recent call last)",
      "Cell \u001b[0;32mIn[98], line 1\u001b[0m\n\u001b[0;32m----> 1\u001b[0m \u001b[38;5;28mprint\u001b[39m(\u001b[38;5;124;43m\"\u001b[39;49m\u001b[38;5;124;43m,\u001b[39;49m\u001b[38;5;124;43m\"\u001b[39;49m\u001b[38;5;241;43m.\u001b[39;49m\u001b[43mjoin\u001b[49m\u001b[43m(\u001b[49m\u001b[43m[\u001b[49m\u001b[38;5;124;43m\"\u001b[39;49m\u001b[38;5;124;43momicron\u001b[39;49m\u001b[38;5;124;43m\"\u001b[39;49m\u001b[43m,\u001b[49m\u001b[43m \u001b[49m\u001b[38;5;124;43m\"\u001b[39;49m\u001b[38;5;124;43mpi\u001b[39;49m\u001b[38;5;124;43m\"\u001b[39;49m\u001b[43m,\u001b[49m\u001b[43m \u001b[49m\u001b[38;5;241;43m4\u001b[39;49m\u001b[43m]\u001b[49m\u001b[43m)\u001b[49m)\n",
      "\u001b[0;31mTypeError\u001b[0m: sequence item 2: expected str instance, int found"
     ]
    }
   ],
   "source": [
    "print(\",\".join([\"omicron\", \"pi\", 4]))"
   ]
  },
  {
   "cell_type": "markdown",
   "id": "fbd4d95e-8fea-448e-8ca7-d1c2d605a957",
   "metadata": {},
   "source": [
    "### The lower() method"
   ]
  },
  {
   "cell_type": "markdown",
   "id": "94289984-4b6c-4ccc-900b-ee2c5ae77382",
   "metadata": {},
   "source": [
    "The lower() method makes a copy of a source string, replaces all upper-case letters with their lower-case counterparts, and returns the string as the result. Again, the source string remains untouched.\n",
    "\n",
    "If the string doesn't contain any upper-case characters, the method returns the original string.\n",
    "\n",
    "Note: The lower() method doesn't take any parameters.\n",
    "\n",
    "The example in the editor outputs:"
   ]
  },
  {
   "cell_type": "code",
   "execution_count": 99,
   "id": "37194dc7-0ea2-43e9-acbf-3f51cd7b134a",
   "metadata": {},
   "outputs": [
    {
     "name": "stdout",
     "output_type": "stream",
     "text": [
      "sigma=60\n"
     ]
    }
   ],
   "source": [
    "# Demonstrating the lower() method:\n",
    "print(\"SiGmA=60\".lower())\n"
   ]
  },
  {
   "cell_type": "markdown",
   "id": "eace5497-d81a-4dcd-8427-bebfa169af26",
   "metadata": {},
   "source": [
    "### The lstrip() method"
   ]
  },
  {
   "cell_type": "markdown",
   "id": "806cff00-b4e7-451d-9d0f-8cc922b9eb4d",
   "metadata": {},
   "source": [
    "The parameterless lstrip() method returns a newly created string formed from the original one by removing all leading whitespaces.\n",
    "\n",
    "Analyze the example code in the editor.\n",
    "\n",
    "The brackets are not a part of the result - they only show the result's boundaries.\n",
    "\n",
    "The example outputs:"
   ]
  },
  {
   "cell_type": "code",
   "execution_count": 100,
   "id": "98b95f25-3170-4aa5-8627-f2fa3589ef48",
   "metadata": {},
   "outputs": [
    {
     "name": "stdout",
     "output_type": "stream",
     "text": [
      "[tau ]\n"
     ]
    }
   ],
   "source": [
    "# Demonstrating the lstrip() method:\n",
    "print(\"[\" + \" tau \".lstrip() + \"]\")\n"
   ]
  },
  {
   "cell_type": "markdown",
   "id": "a5c08e54-225b-46ee-82c8-fd624735033e",
   "metadata": {},
   "source": [
    "The one-parameter lstrip() method does the same as its parameterless version, but removes all characters enlisted in its argument (a string), not just whitespaces:"
   ]
  },
  {
   "cell_type": "code",
   "execution_count": 101,
   "id": "4273c341-83aa-4fe8-b6aa-e88534f99d0c",
   "metadata": {},
   "outputs": [
    {
     "name": "stdout",
     "output_type": "stream",
     "text": [
      "cisco.com\n"
     ]
    }
   ],
   "source": [
    "print(\"www.cisco.com\".lstrip(\"w.\"))\n"
   ]
  },
  {
   "cell_type": "markdown",
   "id": "7b0111bb-d151-4805-a64f-001240c83ec7",
   "metadata": {},
   "source": [
    "Can you guess the output of the snippet below? Think carefully. Run the code and check your predictions.\n",
    "\n"
   ]
  },
  {
   "cell_type": "code",
   "execution_count": 102,
   "id": "e314ba2b-ada3-4507-97ab-1adec3315f22",
   "metadata": {},
   "outputs": [
    {
     "name": "stdout",
     "output_type": "stream",
     "text": [
      "pythoninstitute.org\n"
     ]
    }
   ],
   "source": [
    "print(\"pythoninstitute.org\".lstrip(\".org\"))\n",
    "\n"
   ]
  },
  {
   "cell_type": "code",
   "execution_count": 105,
   "id": "0e132606-7ad9-476a-9172-23600e4a360a",
   "metadata": {},
   "outputs": [
    {
     "name": "stdout",
     "output_type": "stream",
     "text": [
      "institute.org\n"
     ]
    }
   ],
   "source": [
    "print(\"pythoninstitute.org\".lstrip(\"python\"))"
   ]
  },
  {
   "cell_type": "markdown",
   "id": "e218a08c-9286-4d34-ab24-90b945e9d8cd",
   "metadata": {},
   "source": [
    "### The replace() method"
   ]
  },
  {
   "cell_type": "markdown",
   "id": "03a23ff3-a501-4c9f-8c66-dce05f27a404",
   "metadata": {},
   "source": [
    "The two-parameter replace() method returns a copy of the original string in which all occurrences of the first argument have been replaced by the second argument.\n",
    "\n",
    "Look at the example code in the editor. Run it.\n",
    "\n",
    "The example outputs:"
   ]
  },
  {
   "cell_type": "code",
   "execution_count": 106,
   "id": "1bbce75c-d8a4-4723-b038-4a03e910cede",
   "metadata": {},
   "outputs": [
    {
     "name": "stdout",
     "output_type": "stream",
     "text": [
      "www.pythoninstitute.org\n",
      "Thare are it!\n",
      "Apple \n"
     ]
    }
   ],
   "source": [
    "# Demonstrating the replace() method:\n",
    "print(\"www.netacad.com\".replace(\"netacad.com\", \"pythoninstitute.org\"))\n",
    "print(\"This is it!\".replace(\"is\", \"are\"))\n",
    "print(\"Apple juice\".replace(\"juice\", \"\"))"
   ]
  },
  {
   "cell_type": "markdown",
   "id": "a190dab2-c5be-4c45-ac6c-dbafbc052b1a",
   "metadata": {},
   "source": [
    "If the second argument is an empty string, replacing is actually removing the first argument's string. What kind of magic happens if the first argument is an empty string?\n",
    "\n",
    "\n",
    "The three-parameter replace() variant uses the third argument (a number) to limit the number of replacements.\n",
    "\n",
    "Look at the modified example code below:\n",
    "Can you guess its output? Run the code and check your guesses."
   ]
  },
  {
   "cell_type": "code",
   "execution_count": 107,
   "id": "1b253da4-632b-4a32-8b57-2b84f21aefcd",
   "metadata": {},
   "outputs": [
    {
     "name": "stdout",
     "output_type": "stream",
     "text": [
      "Thare is it!\n",
      "Thare are it!\n"
     ]
    }
   ],
   "source": [
    "print(\"This is it!\".replace(\"is\", \"are\", 1))\n",
    "print(\"This is it!\".replace(\"is\", \"are\", 2))\n"
   ]
  },
  {
   "cell_type": "markdown",
   "id": "d9fb2e68-f445-42f6-88ce-d49dd8f12380",
   "metadata": {},
   "source": [
    "### The rfind() method"
   ]
  },
  {
   "cell_type": "markdown",
   "id": "cdde1480-d9c4-44e9-a74e-c4265eafbfca",
   "metadata": {},
   "source": [
    "The one-, two-, and three-parameter methods named rfind() do nearly the same things as their counterparts (the ones devoid of the r prefix), but start their searches from the end of the string, not the beginning (hence the prefix r, for right).\n",
    "\n",
    "Take a look at the example code in the editor and try to predict its output. Run the code to check if you were right"
   ]
  },
  {
   "cell_type": "code",
   "execution_count": 108,
   "id": "0dde61a6-98ff-4fbb-a31a-b561a84317c7",
   "metadata": {},
   "outputs": [
    {
     "name": "stdout",
     "output_type": "stream",
     "text": [
      "8\n",
      "-1\n",
      "4\n"
     ]
    }
   ],
   "source": [
    "# Demonstrating the rfind() method:\n",
    "print(\"tau tau tau\".rfind(\"ta\"))\n",
    "print(\"tau tau tau\".rfind(\"ta\", 9))\n",
    "print(\"tau tau tau\".rfind(\"ta\", 3, 9))\n"
   ]
  },
  {
   "cell_type": "markdown",
   "id": "df2893b3-f1de-4009-973a-fda0b689580d",
   "metadata": {},
   "source": [
    "### The rstrip() method"
   ]
  },
  {
   "cell_type": "markdown",
   "id": "b805d540-5f5a-46e1-8c5e-ad8c801c0d95",
   "metadata": {},
   "source": [
    "Two variants of the rstrip() method do nearly the same as lstrips, but affect the opposite side of the string.\n",
    "\n",
    "Look at the code example in the editor. Can you guess its output? Run the code to check your guesses.\n",
    "\n",
    "As usual, we encourage you to experiment with your own examples."
   ]
  },
  {
   "cell_type": "code",
   "execution_count": 109,
   "id": "05e060bd-4e80-44b6-a7dd-4bcf17843b5b",
   "metadata": {},
   "outputs": [
    {
     "name": "stdout",
     "output_type": "stream",
     "text": [
      "[ upsilon]\n",
      "cis\n"
     ]
    }
   ],
   "source": [
    "# Demonstrating the rstrip() method:\n",
    "print(\"[\" + \" upsilon \".rstrip() + \"]\")\n",
    "print(\"cisco.com\".rstrip(\".com\"))\n"
   ]
  },
  {
   "cell_type": "code",
   "execution_count": 115,
   "id": "e1d9a934-8a08-4594-bce9-99489232ba3f",
   "metadata": {},
   "outputs": [
    {
     "name": "stdout",
     "output_type": "stream",
     "text": [
      "cisco.\n"
     ]
    }
   ],
   "source": [
    "print(\"cisco.com\".rstrip(\"com\"))\n"
   ]
  },
  {
   "cell_type": "markdown",
   "id": "1d212f88-a838-4908-9bed-87bbbc74ba37",
   "metadata": {},
   "source": [
    "### The split() method"
   ]
  },
  {
   "cell_type": "markdown",
   "id": "ff76e3d4-6985-4812-8ad6-b4c52b7cbccf",
   "metadata": {},
   "source": [
    "The split() method does what it says - it splits the string and builds a list of all detected substrings.\n",
    "\n",
    "The method assumes that the substrings are delimited by whitespaces - the spaces don't take part in the operation, and aren't copied into the resulting list.\n",
    "\n",
    "If the string is empty, the resulting list is empty too.\n",
    "\n",
    "Look at the code in the editor. The example produces the following output:"
   ]
  },
  {
   "cell_type": "code",
   "execution_count": 116,
   "id": "803cf160-7f21-4dc0-98a8-0ea91b546596",
   "metadata": {},
   "outputs": [
    {
     "name": "stdout",
     "output_type": "stream",
     "text": [
      "['phi', 'chi', 'psi']\n"
     ]
    }
   ],
   "source": [
    "# Demonstrating the split() method:\n",
    "print(\"phi       chi\\npsi\".split())"
   ]
  },
  {
   "cell_type": "markdown",
   "id": "08c2b66c-cd0b-423d-817c-fc4cd305dcb7",
   "metadata": {},
   "source": [
    "Note: the reverse operation can be performed by the join() method."
   ]
  },
  {
   "cell_type": "markdown",
   "id": "121844a6-76f1-4d0a-b089-cb4ba5608c74",
   "metadata": {},
   "source": [
    "### The startswith() method"
   ]
  },
  {
   "cell_type": "markdown",
   "id": "7302bf9b-a380-4946-9588-c480526e1751",
   "metadata": {},
   "source": [
    "The startswith() method is a mirror reflection of endswith() - it checks if a given string starts with the specified substring.\n",
    "\n",
    "Look at the example in the editor. This is the result from it:"
   ]
  },
  {
   "cell_type": "code",
   "execution_count": 118,
   "id": "3145e804-23af-457a-a2d0-c1f9cb1f5d61",
   "metadata": {},
   "outputs": [
    {
     "name": "stdout",
     "output_type": "stream",
     "text": [
      "False\n",
      "True\n",
      "\n"
     ]
    }
   ],
   "source": [
    "# Demonstrating the startswith() method:\n",
    "print(\"omega\".startswith(\"meg\"))\n",
    "print(\"omega\".startswith(\"om\"))\n",
    "\n",
    "print()"
   ]
  },
  {
   "cell_type": "markdown",
   "id": "561b5f6d-904d-49d5-bba4-f5863872b480",
   "metadata": {},
   "source": [
    "### The strip() method"
   ]
  },
  {
   "cell_type": "markdown",
   "id": "9f7caa73-56d7-43cc-b410-3a694b51912e",
   "metadata": {},
   "source": [
    "The strip() method combines the effects caused by rstrip() and lstrip() - it makes a new string lacking all the leading and trailing whitespaces.\n",
    "\n",
    "Look at the second example in the editor. This is the result it returns:"
   ]
  },
  {
   "cell_type": "code",
   "execution_count": 119,
   "id": "c40c9e13-d07e-4ae9-b7cb-367da03e5b54",
   "metadata": {},
   "outputs": [
    {
     "name": "stdout",
     "output_type": "stream",
     "text": [
      "[aleph]\n"
     ]
    }
   ],
   "source": [
    "# Demonstrating the strip() method:\n",
    "print(\"[\" + \"   aleph   \".strip() + \"]\")"
   ]
  },
  {
   "cell_type": "markdown",
   "id": "3201b003-1424-462b-a749-7010c669f5ee",
   "metadata": {},
   "source": [
    "### The swapcase() method"
   ]
  },
  {
   "cell_type": "markdown",
   "id": "e9f978c4-dd91-4e11-9999-54c56c884174",
   "metadata": {},
   "source": [
    "The swapcase() method makes a new string by swapping the case of all letters within the source string: lower-case characters become upper-case, and vice versa.\n",
    "\n",
    "All other characters remain untouched.\n",
    "\n",
    "Look at the first example in the editor. Can you guess the output? It won't look good, but you must see it:"
   ]
  },
  {
   "cell_type": "code",
   "execution_count": 120,
   "id": "6cdc7313-70bc-448f-bce9-10434722789b",
   "metadata": {},
   "outputs": [
    {
     "name": "stdout",
     "output_type": "stream",
     "text": [
      "i KNOW THAT i KNOW NOTHING.\n",
      "\n"
     ]
    }
   ],
   "source": [
    "# Demonstrating the swapcase() method:\n",
    "print(\"I know that I know nothing.\".swapcase())\n",
    "\n",
    "print()\n"
   ]
  },
  {
   "cell_type": "markdown",
   "id": "f2583f37-dd15-4819-a2cf-4404e7b8e911",
   "metadata": {},
   "source": [
    "### The title() method"
   ]
  },
  {
   "cell_type": "markdown",
   "id": "176d7183-9e38-4ed2-bd5d-19a3bcff5437",
   "metadata": {},
   "source": [
    "The title() method performs a somewhat similar function - it changes every word's first letter to upper-case, turning all other ones to lower-case.\n",
    "\n",
    "Look at the second example in the editor. Can you guess its output? This is the result:"
   ]
  },
  {
   "cell_type": "code",
   "execution_count": 121,
   "id": "b73cfa9e-3bf7-4050-897e-d66558c1a3e4",
   "metadata": {},
   "outputs": [
    {
     "name": "stdout",
     "output_type": "stream",
     "text": [
      "I Know That I Know Nothing. Part 1.\n",
      "\n"
     ]
    }
   ],
   "source": [
    "# Demonstrating the title() method:\n",
    "print(\"I know that I know nothing. Part 1.\".title())\n",
    "\n",
    "print()"
   ]
  },
  {
   "cell_type": "markdown",
   "id": "cb13c914-739c-40d5-bab0-4dcf32a92453",
   "metadata": {},
   "source": [
    "### The upper() method"
   ]
  },
  {
   "cell_type": "markdown",
   "id": "ca0c47a1-fb0e-49dc-ae53-5e5a75b86016",
   "metadata": {},
   "source": [
    "Last but not least, the upper() method makes a copy of the source string, replaces all lower-case letters with their upper-case counterparts, and returns the string as the result.\n",
    "\n",
    "Look at the third example in the editor. It outputs:"
   ]
  },
  {
   "cell_type": "code",
   "execution_count": 122,
   "id": "c81d7134-020e-41eb-9d15-9c2a04f2d4b9",
   "metadata": {},
   "outputs": [
    {
     "name": "stdout",
     "output_type": "stream",
     "text": [
      "I KNOW THAT I KNOW NOTHING. PART 2.\n"
     ]
    }
   ],
   "source": [
    "# Demonstrating the upper() method:\n",
    "print(\"I know that I know nothing. Part 2.\".upper())"
   ]
  },
  {
   "cell_type": "markdown",
   "id": "accb65e9-cff4-4602-bab4-834a3bc5a05b",
   "metadata": {},
   "source": [
    "Hoooray! We've made it to the end of this section. Are you surprised with any of the string methods we've discussed so far? Take a couple of minutes to review them, and let's move on to the next part of the course where we'll show you what great things we can do with strings.\n",
    "\n"
   ]
  },
  {
   "cell_type": "markdown",
   "id": "5d67c2e7-3ab2-4191-b6bd-3845abc06eab",
   "metadata": {},
   "source": [
    "### Key takeaways"
   ]
  },
  {
   "cell_type": "markdown",
   "id": "99b22ec1-8c51-453d-a5a3-ac84ea8f37a7",
   "metadata": {},
   "source": [
    "1. Some of the methods offered by strings are:\n",
    "\n",
    "- capitalize() – changes all string letters to capitals;\n",
    "- center() – centers the string inside the field of a known - length;\n",
    "- count() – counts the occurrences of a given character;\n",
    "- join() – joins all items of a tuple/list into one string;\n",
    "- lower() – converts all the string's letters into lower-case letters;\n",
    "- lstrip() – removes the white characters from the beginning of the string;\n",
    "- replace() – replaces a given substring with another;\n",
    "- rfind() – finds a substring starting from the end of the string;\n",
    "- rstrip() – removes the trailing white spaces from the end of the string;\n",
    "- split() – splits the string into a substring using a given delimiter;\n",
    "- strip() – removes the leading and trailing white spaces;\n",
    "- swapcase() – swaps the letters' cases (lower to upper and vice versa)\n",
    "- title() – makes the first letter in each word upper-case;\n",
    "- upper() – converts all the string's letter into upper-case letters.\n",
    "\n",
    "2. String content can be determined using the following methods (all of them return Boolean values):\n",
    "\n",
    "- endswith() – does the string end with a given substring?\n",
    "- isalnum() – does the string consist only of letters and digits?\n",
    "- isalpha() – does the string consist only of letters?\n",
    "- islower() – does the string consists only of lower-case letters?\n",
    "- isspace() – does the string consists only of white spaces?\n",
    "- isupper() – does the string consists only of upper-case letters?\n",
    "- startswith() – does the string begin with a given substring?"
   ]
  },
  {
   "cell_type": "markdown",
   "id": "b0d3d8df-ee8e-4fdb-99f8-8e29e3eda92f",
   "metadata": {},
   "source": [
    "#### Exercise 1\n",
    "\n",
    "What is the expected output of the following code?\n",
    "\n",
    "```python\n",
    "for ch in \"abc123XYX\":\n",
    "    if ch.isupper():\n",
    "        print(ch.lower(), end='')\n",
    "    elif ch.islower():\n",
    "        print(ch.upper(), end='')\n",
    "    else:\n",
    "        print(ch, end='')\n",
    "```\n",
    "\n",
    "<details>\n",
    "  <summary>CHECK</summary>\n",
    "  \n",
    "\tABC123xyx\n",
    "\n",
    "</details>"
   ]
  },
  {
   "cell_type": "markdown",
   "id": "1197188d-d808-4424-a4c9-4bf78e64e344",
   "metadata": {},
   "source": [
    "#### Exercise 2\n",
    "\n",
    "What is the expected output of the following code?\n",
    "\n",
    "```python\n",
    "s1 = 'Where are the snows of yesteryear?'\n",
    "s2 = s1.split()\n",
    "print(s2[-2])\n",
    "```\n",
    "\n",
    "<details>\n",
    "  <summary>CHECK</summary>\n",
    "  \n",
    "\tof\n",
    "\n",
    "</details>"
   ]
  },
  {
   "cell_type": "markdown",
   "id": "52030b73-6f06-41ae-b88b-e6bbe6f0d9cb",
   "metadata": {},
   "source": [
    "#### Exercise 3\n",
    "\n",
    "What is the expected output of the following code?\n",
    "\n",
    "```python\n",
    "the_list = ['Where', 'are', 'the', 'snows?']\n",
    "s = '*'.join(the_list)\n",
    "print(s)\n",
    "```\n",
    "\n",
    "<details>\n",
    "  <summary>Check</summary>\n",
    "  \n",
    "\tWhere*are*the*snows?\n",
    "\n",
    "</details>"
   ]
  },
  {
   "cell_type": "markdown",
   "id": "ebd47d59-a09c-4d52-9ded-1b60a3cf766d",
   "metadata": {},
   "source": [
    "#### Exercise 4\n",
    "\n",
    "What is the expected output of the following code?\n",
    "\n",
    "```python\n",
    "s = 'It is either easy or impossible'\n",
    "s = s.replace('easy', 'hard').replace('im', '')\n",
    "print(s)\n",
    "```\n",
    "\n",
    "<details>\n",
    "  <summary>Check</summary>\n",
    "  \n",
    "\tIt is either hard or possible\n",
    "\n",
    "</details>"
   ]
  },
  {
   "cell_type": "markdown",
   "id": "f52133c5-a07a-4c4d-878f-baf373a5e745",
   "metadata": {},
   "source": [
    "## LAB: Your own split"
   ]
  },
  {
   "cell_type": "markdown",
   "id": "e518c0d7-b58e-47b0-b5e0-13da904ca4bf",
   "metadata": {},
   "source": [
    "Estimated time\n",
    "20-25 minutes\n",
    "\n",
    "Level of difficulty\n",
    "Medium\n",
    "\n",
    "Objectives\n",
    "improving the student's skills in operating with strings;\n",
    "using built-in Python string methods.\n",
    "Scenario\n",
    "You already know how split() works. Now we want you to prove it.\n",
    "\n",
    "Your task is to write your own function, which behaves almost exactly like the original split() method, i.e.:\n",
    "\n",
    "it should accept exactly one argument - a string;\n",
    "it should return a list of words created from the string, divided in the places where the string contains whitespaces;\n",
    "if the string is empty, the function should return an empty list;\n",
    "its name should be mysplit()\n",
    "Use the template in the editor. Test your code carefully.\n",
    "\n",
    "Expected output\n",
    "\n",
    "```python\n",
    "['To', 'be', 'or', 'not', 'to', 'be,', 'that', 'is', 'the', 'question']\n",
    "['To', 'be', 'or', 'not', 'to', 'be,that', 'is', 'the', 'question']\n",
    "[]\n",
    "['abc']\n",
    "[]\n",
    "\n",
    "```"
   ]
  },
  {
   "cell_type": "code",
   "execution_count": 159,
   "id": "720283fa-11ec-4442-8d60-a2dc8703263e",
   "metadata": {},
   "outputs": [
    {
     "name": "stdout",
     "output_type": "stream",
     "text": [
      "['To', 'be', 'or', 'not', 'to', 'be,', 'that', 'is', 'the', 'question']\n",
      "['To', 'be', 'or', 'not', 'to', 'be,that', 'is', 'the', 'question']\n",
      "[]\n",
      "['abc']\n",
      "[]\n"
     ]
    }
   ],
   "source": [
    "def mysplit(strng):\n",
    "    my_list = []\n",
    "    tmp_word = ''\n",
    "    chr_count = len(strng)\n",
    "    i = 0\n",
    "    for chr in strng:\n",
    "        if chr.isspace():\n",
    "            if tmp_word != '':\n",
    "                my_list.append(tmp_word)\n",
    "            tmp_word = ''\n",
    "            i += 1\n",
    "        else:\n",
    "            tmp_word += chr\n",
    "            i += 1\n",
    "            if i == chr_count:\n",
    "                my_list.append(tmp_word)\n",
    "    return my_list\n",
    "            \n",
    "print(mysplit(\"To be or not to be, that is the question\"))\n",
    "print(mysplit(\"To be or not to be,that is the question\"))\n",
    "print(mysplit(\"   \"))\n",
    "print(mysplit(\" abc \"))\n",
    "print(mysplit(\"\"))"
   ]
  },
  {
   "cell_type": "markdown",
   "id": "ac463fb1-5a35-48dd-bf45-588202475d66",
   "metadata": {},
   "source": [
    "## String in action"
   ]
  },
  {
   "cell_type": "markdown",
   "id": "f06fc4e4-c871-4bb9-ae22-5793a98c1b19",
   "metadata": {},
   "source": [
    "### Comparing strings"
   ]
  },
  {
   "cell_type": "markdown",
   "id": "579f4235-560b-45c1-b66f-3227d3bb1516",
   "metadata": {},
   "source": [
    "Python's strings can be compared using the same set of operators which are in use in relation to numbers.\n",
    "\n",
    "Take a look at these operators - they can all compare strings, too:\n",
    "\n",
    "- ```==```\n",
    "- ```!=```\n",
    "- ```>```\n",
    "- ```>=```\n",
    "- ```<```\n",
    "- ```<=```\n",
    "\n",
    "There is one \"but\" - the results of such comparisons may sometimes be a bit surprising. Don't forget that Python is not aware (it cannot be in any way) of subtle linguistic issues - it just compares code point values, character by character.\n",
    "\n",
    "The results you get from such an operation are sometimes astonishing. Let's start with the simplest cases.\n",
    "\n",
    "\n",
    "Two strings are equal when they consist of the same characters in the same order. By the same fashion, two strings are not equal when they don't consist of the same characters in the same order.\n",
    "\n",
    "Both comparisons give True as a result:\n",
    "\n",
    "```python\n",
    "'alpha' == 'alpha'\n",
    "'alpha' != 'Alpha'\n",
    "\n",
    "```\n",
    "\n",
    "The final relation between strings is determined by comparing the first different character in both strings (keep ASCII/UNICODE code points in mind at all times.)\n",
    "\n",
    "When you compare two strings of different lengths and the shorter one is identical to the longer one's beginning, the longer string is considered greater.\n",
    "\n",
    "Just like here:\n",
    "\n",
    "```python\n",
    "'alpha' < 'alphabet'\n",
    "\n",
    "```\n",
    "\n",
    "\n",
    "The relation is True.\n",
    "\n",
    "String comparison is always case-sensitive (upper-case letters are taken as lesser than lower-case).\n",
    "\n",
    "The expression is True:\n",
    "\n",
    "```python\n",
    "'beta' > 'Beta'\n",
    "\n",
    "```"
   ]
  },
  {
   "cell_type": "code",
   "execution_count": 161,
   "id": "e5c6089f-3b54-4bb3-bda6-d78717e622ef",
   "metadata": {},
   "outputs": [
    {
     "data": {
      "text/plain": [
       "True"
      ]
     },
     "execution_count": 161,
     "metadata": {},
     "output_type": "execute_result"
    }
   ],
   "source": [
    "'alpha' == 'alpha'"
   ]
  },
  {
   "cell_type": "code",
   "execution_count": 162,
   "id": "4563fb7e-c0f2-4e9d-a6af-ac02ec29c373",
   "metadata": {},
   "outputs": [
    {
     "data": {
      "text/plain": [
       "True"
      ]
     },
     "execution_count": 162,
     "metadata": {},
     "output_type": "execute_result"
    }
   ],
   "source": [
    "'alpha' != 'Alpha'"
   ]
  },
  {
   "cell_type": "code",
   "execution_count": 163,
   "id": "6a9e7566-fb5d-49ee-8923-e3a8dc1f62f6",
   "metadata": {},
   "outputs": [
    {
     "data": {
      "text/plain": [
       "True"
      ]
     },
     "execution_count": 163,
     "metadata": {},
     "output_type": "execute_result"
    }
   ],
   "source": [
    "'alpha' < 'alphabet'"
   ]
  },
  {
   "cell_type": "code",
   "execution_count": 164,
   "id": "fc6a3c91-5585-4156-8161-c62732676fce",
   "metadata": {},
   "outputs": [
    {
     "data": {
      "text/plain": [
       "True"
      ]
     },
     "execution_count": 164,
     "metadata": {},
     "output_type": "execute_result"
    }
   ],
   "source": [
    "'beta' > 'Beta'"
   ]
  },
  {
   "cell_type": "markdown",
   "id": "4d009cf6-bcf0-4a37-866f-ef8534946d4e",
   "metadata": {},
   "source": [
    "Even if a string contains digits only, it's still not a number. It's interpreted as-is, like any other regular string, and its (potential) numerical aspect is not taken into consideration in any way.\n",
    "\n",
    "Look at the examples:"
   ]
  },
  {
   "cell_type": "code",
   "execution_count": 166,
   "id": "0aa902a0-103e-47da-9403-6df9769a5fff",
   "metadata": {},
   "outputs": [
    {
     "name": "stdout",
     "output_type": "stream",
     "text": [
      "False\n",
      "True\n",
      "False\n",
      "True\n",
      "True\n"
     ]
    }
   ],
   "source": [
    "print('10' == '010')\n",
    "print('10' > '010')\n",
    "print('10' > '8')\n",
    "print('20' < '8')\n",
    "print('20' < '80')"
   ]
  },
  {
   "cell_type": "markdown",
   "id": "7ffa0777-1e05-45e7-8fb3-8af3b29bfef5",
   "metadata": {},
   "source": [
    "Comparing strings against numbers is generally a bad idea.\n",
    "\n",
    "The only comparisons you can perform with impunity are these symbolized by the == and != operators. The former always gives False, while the latter always produces True.\n",
    "\n",
    "Using any of the remaining comparison operators will raise a TypeError exception.\n",
    "\n",
    "Let's check it:"
   ]
  },
  {
   "cell_type": "code",
   "execution_count": 167,
   "id": "c214ee37-55b4-4d81-b806-75f312d38b77",
   "metadata": {},
   "outputs": [
    {
     "name": "stdout",
     "output_type": "stream",
     "text": [
      "False\n",
      "True\n",
      "False\n",
      "True\n"
     ]
    },
    {
     "ename": "TypeError",
     "evalue": "'>' not supported between instances of 'str' and 'int'",
     "output_type": "error",
     "traceback": [
      "\u001b[0;31m---------------------------------------------------------------------------\u001b[0m",
      "\u001b[0;31mTypeError\u001b[0m                                 Traceback (most recent call last)",
      "Cell \u001b[0;32mIn[167], line 5\u001b[0m\n\u001b[1;32m      3\u001b[0m \u001b[38;5;28mprint\u001b[39m(\u001b[38;5;124m'\u001b[39m\u001b[38;5;124m10\u001b[39m\u001b[38;5;124m'\u001b[39m \u001b[38;5;241m==\u001b[39m \u001b[38;5;241m1\u001b[39m)\n\u001b[1;32m      4\u001b[0m \u001b[38;5;28mprint\u001b[39m(\u001b[38;5;124m'\u001b[39m\u001b[38;5;124m10\u001b[39m\u001b[38;5;124m'\u001b[39m \u001b[38;5;241m!=\u001b[39m \u001b[38;5;241m1\u001b[39m)\n\u001b[0;32m----> 5\u001b[0m \u001b[38;5;28mprint\u001b[39m(\u001b[38;5;124;43m'\u001b[39;49m\u001b[38;5;124;43m10\u001b[39;49m\u001b[38;5;124;43m'\u001b[39;49m\u001b[43m \u001b[49m\u001b[38;5;241;43m>\u001b[39;49m\u001b[43m \u001b[49m\u001b[38;5;241;43m10\u001b[39;49m)\n",
      "\u001b[0;31mTypeError\u001b[0m: '>' not supported between instances of 'str' and 'int'"
     ]
    }
   ],
   "source": [
    "print('10' == 10)\n",
    "print('10' != 10)\n",
    "print('10' == 1)\n",
    "print('10' != 1)\n",
    "print('10' > 10)"
   ]
  },
  {
   "cell_type": "markdown",
   "id": "7933a222-5832-4341-ba9f-f10497077d62",
   "metadata": {},
   "source": [
    "### Sorting"
   ]
  },
  {
   "cell_type": "markdown",
   "id": "760fe43b-4026-49c3-93bd-8b1fd49b098a",
   "metadata": {},
   "source": [
    "Comparing is closely related to sorting (or rather, sorting is in fact a very sophisticated case of comparing).\n",
    "\n",
    "This is a good opportunity to show you two possible ways to sort lists containing strings. Such an operation is very common in the real world - any time you see a list of names, goods, titles, or cities, you expect them to be sorted.\n",
    "\n",
    "Let's assume that you want to sort the following list:\n",
    "\n",
    "```python\n",
    "greek = ['omega', 'alpha', 'pi', 'gamma']\n",
    "\n",
    "```\n",
    "\n",
    "In general, Python offers two different ways to sort lists.\n",
    "\n",
    "The first is implemented as a function named sorted().\n",
    "\n",
    "The function takes one argument (a list) and returns a new list, filled with the sorted argument's elements. (Note: this description is a bit simplified compared to the actual implementation - we'll discuss it later.)\n",
    "\n",
    "The original list remains untouched.\n",
    "\n",
    "Look at the code in the editor, and run it. The snippet produces the following output:\n",
    "\n",
    "```python\n",
    "['omega', 'alpha', 'pi', 'gamma']\n",
    "['alpha', 'gamma', 'omega', 'pi']\n",
    "```\n",
    "\n",
    "The second method affects the list itself - no new list is created. Ordering is performed in situ by the method named sort().\n",
    "\n",
    "The output hasn't changed:\n",
    "\n",
    "```python\n",
    "['omega', 'alpha', 'pi', 'gamma']\n",
    "['alpha', 'gamma', 'omega', 'pi']\n",
    "```\n",
    "\n",
    "If you need an order other than non-descending, you have to convince the function/method to change its default behaviors. We'll discuss it soon."
   ]
  },
  {
   "cell_type": "code",
   "execution_count": 169,
   "id": "178e5458-d71c-46a4-b29e-39c85c9d0af4",
   "metadata": {},
   "outputs": [
    {
     "name": "stdout",
     "output_type": "stream",
     "text": [
      "['omega', 'alpha', 'pi', 'gamma']\n",
      "['alpha', 'gamma', 'omega', 'pi']\n"
     ]
    }
   ],
   "source": [
    "# Demonstrating the sorted() function:\n",
    "first_greek = ['omega', 'alpha', 'pi', 'gamma']\n",
    "first_greek_2 = sorted(first_greek)\n",
    "\n",
    "print(first_greek)\n",
    "print(first_greek_2)"
   ]
  },
  {
   "cell_type": "code",
   "execution_count": 170,
   "id": "f8083f5a-795b-462d-9777-07d341ea83d1",
   "metadata": {},
   "outputs": [
    {
     "name": "stdout",
     "output_type": "stream",
     "text": [
      "['omega', 'alpha', 'pi', 'gamma']\n",
      "['alpha', 'gamma', 'omega', 'pi']\n"
     ]
    }
   ],
   "source": [
    "# Demonstrating the sort() method:\n",
    "second_greek = ['omega', 'alpha', 'pi', 'gamma']\n",
    "print(second_greek)\n",
    "\n",
    "second_greek.sort()\n",
    "print(second_greek)"
   ]
  },
  {
   "cell_type": "markdown",
   "id": "e49359aa-0717-4292-a470-6ad1416655c3",
   "metadata": {},
   "source": [
    "### Strings vs. numbers"
   ]
  },
  {
   "cell_type": "markdown",
   "id": "1c05c54d-aa48-476b-a6c1-785eee77f143",
   "metadata": {},
   "source": [
    "There are two additional issues that should be discussed here: how to convert a number (an integer or a float) into a string, and vice versa. It may be necessary to perform such a transformation. Moreover, it's a routine way to process input/output data.\n",
    "\n",
    "The number-string conversion is simple, as it is always possible. It's done by a function named str().\n",
    "\n",
    "Just like here:"
   ]
  },
  {
   "cell_type": "code",
   "execution_count": 171,
   "id": "6bf9d4eb-f88e-4ca1-ae21-699d643984e5",
   "metadata": {},
   "outputs": [
    {
     "name": "stdout",
     "output_type": "stream",
     "text": [
      "13 1.3\n"
     ]
    }
   ],
   "source": [
    "itg = 13\n",
    "flt = 1.3\n",
    "si = str(itg)\n",
    "sf = str(flt)\n",
    "\n",
    "print(si + ' ' + sf)\n"
   ]
  },
  {
   "cell_type": "markdown",
   "id": "e60c4134-f412-4a99-8224-febcec81d73e",
   "metadata": {},
   "source": [
    "The reverse transformation (string-number) is possible when and only when the string represents a valid number. If the condition is not met, expect a ValueError exception.\n",
    "\n",
    "Use the int() function if you want to get an integer, and float() if you need a floating-point value.\n",
    "\n",
    "Just like here:"
   ]
  },
  {
   "cell_type": "code",
   "execution_count": 172,
   "id": "093f38d3-7ff8-4c3f-aa4c-204f2417304f",
   "metadata": {},
   "outputs": [
    {
     "name": "stdout",
     "output_type": "stream",
     "text": [
      "14.3\n"
     ]
    }
   ],
   "source": [
    "si = '13'\n",
    "sf = '1.3'\n",
    "itg = int(si)\n",
    "flt = float(sf)\n",
    "\n",
    "print(itg + flt)"
   ]
  },
  {
   "cell_type": "markdown",
   "id": "4d99d4ee-e745-4edb-9106-fce30f591eb3",
   "metadata": {},
   "source": [
    "### Key takeaways"
   ]
  },
  {
   "cell_type": "markdown",
   "id": "0e7ae208-2439-4e4e-80b5-103330e6c2ac",
   "metadata": {},
   "source": [
    "1. Strings can be compared to strings using general comparison operators, but comparing them to numbers gives no reasonable result, because no string can be equal to any number. For example:\n",
    "\n",
    "   - string == number is always False;\n",
    "   - string != number is always True;\n",
    "   - string >= number always raises an exception.\n",
    "\n",
    "2. Sorting lists of strings can be done by:\n",
    "\n",
    "   - a function named sorted(), creating a new, sorted list;\n",
    "   - a method named sort(), which sorts the list in situ\n",
    "\n",
    "3. A number can be converted to a string using the str() function.\n",
    "\n",
    "4. A string can be converted to a number (although not every string) using either the int() or float() function. The conversion fails if a string doesn't contain a valid number image (an exception is raised then).\n",
    "\n"
   ]
  },
  {
   "cell_type": "markdown",
   "id": "7da15a47-a387-4780-8a8b-53c1fc6ba67d",
   "metadata": {},
   "source": [
    "#### Exercise 1\n",
    "\n",
    "Which of the following lines describe a true condition?\n",
    "\n",
    "```python\n",
    "'smith' > 'Smith'\n",
    "\n",
    "'Smiths' < 'Smith'\n",
    "\n",
    "'Smith' > '1000'\n",
    "\n",
    "'11' < '8'\n",
    "```\n",
    "\n",
    "<details>\n",
    "  <summary>Check</summary>\n",
    "  \n",
    "\t1, 3 and 4\n",
    "\n",
    "</details>"
   ]
  },
  {
   "cell_type": "markdown",
   "id": "557ef948-3f80-46bf-a07d-1f403f5aebf2",
   "metadata": {},
   "source": [
    "#### Exercise 2\n",
    "\n",
    "What is the expected output of the following code?\n",
    "\n",
    "```python\n",
    "s1 = 'Where are the snows of yesteryear?'\n",
    "s2 = s1.split()\n",
    "s3 = sorted(s2)\n",
    "print(s3[1])\n",
    "```\n",
    "\n",
    "<details>\n",
    "  <summary>Check</summary>\n",
    "  \n",
    "\tare\n",
    "\n",
    "</details>"
   ]
  },
  {
   "cell_type": "markdown",
   "id": "3269b947-c071-4119-9c84-ec4b8417677c",
   "metadata": {},
   "source": [
    "#### Exercise 3\n",
    "\n",
    "What is the expected result of the following code?\n",
    "\n",
    "```python\n",
    "s1 = '12.8'\n",
    "i = int(s1)\n",
    "s2 = str(i)\n",
    "f = float(s2)\n",
    "print(s1 == s2)\n",
    "```\n",
    "\n",
    "<details>\n",
    "  <summary>Check</summary>\n",
    "  \n",
    "\tThe code raises a ValueError exception\n",
    "\n",
    "</details>"
   ]
  },
  {
   "cell_type": "markdown",
   "id": "4cdbf40d-6a66-4d50-8d78-e89e70006f29",
   "metadata": {},
   "source": [
    "## LAB: A LED Display"
   ]
  },
  {
   "cell_type": "markdown",
   "id": "c103d310-b202-4ba5-9ecd-d6e7c158369a",
   "metadata": {},
   "source": [
    "Estimated time\n",
    "30 minutes\n",
    "\n",
    "Level of difficulty\n",
    "Medium\n",
    "\n",
    "Objectives\n",
    "improving the student's skills in operating with strings;\n",
    "using strings to represent non-text data.\n",
    "Scenario\n",
    "You've surely seen a seven-segment display.\n",
    "\n",
    "It's a device (sometimes electronic, sometimes mechanical) designed to present one decimal digit using a subset of seven segments. If you still don't know what it is, refer to the following Wikipedia article.\n",
    "\n",
    "Your task is to write a program which is able to simulate the work of a seven-display device, although you're going to use single LEDs instead of segments.\n",
    "\n",
    "Each digit is constructed from 13 LEDs (some lit, some dark, of course) - that's how we imagine it:\n",
    "\n",
    "```python\n",
    "  # ### ### # # ### ### ### ### ### ### \n",
    "  #   #   # # # #   #     # # # # # # # \n",
    "  # ### ### ### ### ###   # ### ### # # \n",
    "  # #     #   #   # # #   # # #   # # # \n",
    "  # ### ###   # ### ###   # ### ### ###\n",
    "\n",
    "```\n",
    "\n",
    "Note: the number 8 shows all the LED lights on.\n",
    "\n",
    "Your code has to display any non-negative integer number entered by the user.\n",
    "\n",
    "Tip: using a list containing patterns of all ten digits may be very helpful.\n",
    "\n",
    "Test data\n",
    "Sample input:\n",
    "\n",
    "```python\n",
    "123\n",
    "\n",
    "# Sample output:\n",
    "\n",
    "  # ### ### \n",
    "  #   #   # \n",
    "  # ### ### \n",
    "  # #     # \n",
    "  # ### ### \n",
    "\n",
    "# Sample input:\n",
    "\n",
    "9081726354\n",
    "\n",
    "# Sample output:\n",
    "\n",
    "### ### ###   # ### ### ### ### ### # # \n",
    "# # # # # #   #   #   # #     # #   # # \n",
    "### # # ###   #   # ### ### ### ### ### \n",
    "  # # # # #   #   # #   # #   #   #   # \n",
    "### ### ###   #   # ### ### ### ###   # \n",
    "```"
   ]
  },
  {
   "cell_type": "code",
   "execution_count": 191,
   "id": "849bf7b9-0573-43f4-a7f7-2288667cff03",
   "metadata": {},
   "outputs": [],
   "source": [
    "# print(\"#\\n#\\n#\\n#\\n#\")\n",
    "# print(\"\\n\")\n",
    "# print(\"###\\n  #\\n###\\n#  \\n###\")\n",
    "# print(\"\\n\")\n",
    "# print(\"###\\n  #\\n###\\n  #\\n###\")\n",
    "# print(\"\\n\")\n",
    "# print(\"# #\\n# #\\n###\\n  #\\n  #\")\n",
    "# print(\"\\n\")\n",
    "# print(\"###\\n#  \\n###\\n  #\\n###\")\n",
    "# print(\"\\n\")\n",
    "# print(\"###\\n#  \\n###\\n# #\\n###\")\n",
    "# print(\"\\n\")\n",
    "# print(\"###\\n  #\\n  #\\n  #\\n  #\")\n",
    "# print(\"\\n\")\n",
    "# print(\"###\\n# #\\n###\\n# #\\n###\")\n",
    "# print(\"\\n\")\n",
    "# print(\"###\\n# #\\n###\\n  #\\n###\")\n",
    "# print(\"\\n\")\n",
    "# print(\"###\\n# #\\n# #\\n# #\\n###\")\n",
    "# print(\"\\n\")"
   ]
  },
  {
   "cell_type": "code",
   "execution_count": 274,
   "id": "8e01c789-e5eb-44ef-8fd6-7b367c26b2c6",
   "metadata": {},
   "outputs": [],
   "source": [
    "my_dict = {\n",
    "    \"1\": \"  #  #  #  #  #\",\n",
    "    \"2\": \"###  #####  ###\",\n",
    "    \"3\": \"###  ####  ####\",\n",
    "    \"4\": \"# ## ####  #  #\",\n",
    "    \"5\": \"####  ###  ####\",\n",
    "    \"6\": \"####  #### ####\",\n",
    "    \"7\": \"###  #  #  #  #\",\n",
    "    \"8\": \"#### ##### ####\",\n",
    "    \"9\": \"#### ####  ####\",\n",
    "    \"0\": \"#### ## ## ####\",\n",
    "}\n",
    "def print_number(input_data):\n",
    "    _strng = str(input_data)\n",
    "    _display = ''\n",
    "    _from = 0\n",
    "    _to = 3\n",
    "    _start = 1\n",
    "    _stop = 6\n",
    "    _step = 1\n",
    "    for iterator in range(_start, _stop, _step):\n",
    "        _full_line = ''\n",
    "        for num in _strng:\n",
    "            _line = ''\n",
    "            _line = my_dict[num][_from:_to]\n",
    "            _full_line = _full_line + _line + ' '\n",
    "        _display = _display + _full_line + '\\n'\n",
    "        _from += 3 \n",
    "        _to += 3\n",
    "    \n",
    "    print(_display)"
   ]
  },
  {
   "cell_type": "code",
   "execution_count": 275,
   "id": "35bdf8db-57ea-4efe-b25e-fd999da522c2",
   "metadata": {},
   "outputs": [
    {
     "name": "stdout",
     "output_type": "stream",
     "text": [
      "  # ### ### \n",
      "  #   #   # \n",
      "  # ### ### \n",
      "  # #     # \n",
      "  # ### ### \n",
      "\n"
     ]
    }
   ],
   "source": [
    "print_number(123)"
   ]
  },
  {
   "cell_type": "code",
   "execution_count": 276,
   "id": "85730c61-bc9d-4743-810b-a2f0ccbd535d",
   "metadata": {},
   "outputs": [
    {
     "name": "stdout",
     "output_type": "stream",
     "text": [
      "### ### ###   # ### ### ### ### ### # # \n",
      "# # # # # #   #   #   # #     # #   # # \n",
      "### # # ###   #   # ### ### ### ### ### \n",
      "  # # # # #   #   # #   # #   #   #   # \n",
      "### ### ###   #   # ### ### ### ###   # \n",
      "\n"
     ]
    }
   ],
   "source": [
    "print_number(9081726354)"
   ]
  },
  {
   "cell_type": "code",
   "execution_count": 279,
   "id": "7f74e628-0558-49aa-9051-039b94a75933",
   "metadata": {},
   "outputs": [
    {
     "name": "stdin",
     "output_type": "stream",
     "text": [
      "Enter a non-negative integer number:  123\n"
     ]
    },
    {
     "name": "stdout",
     "output_type": "stream",
     "text": [
      "  # ### ### \n",
      "  #   #   # \n",
      "  # ### ### \n",
      "  # #     # \n",
      "  # ### ### \n"
     ]
    }
   ],
   "source": [
    "# Define LED patterns for all 10 digits\n",
    "patterns = [\n",
    "    [\"###\", \"# #\", \"# #\", \"# #\", \"###\"],  # 0\n",
    "    [\"  #\", \"  #\", \"  #\", \"  #\", \"  #\"],  # 1\n",
    "    [\"###\", \"  #\", \"###\", \"#  \", \"###\"],  # 2\n",
    "    [\"###\", \"  #\", \"###\", \"  #\", \"###\"],  # 3\n",
    "    [\"# #\", \"# #\", \"###\", \"  #\", \"  #\"],  # 4\n",
    "    [\"###\", \"#  \", \"###\", \"  #\", \"###\"],  # 5\n",
    "    [\"###\", \"#  \", \"###\", \"# #\", \"###\"],  # 6\n",
    "    [\"###\", \"  #\", \"  #\", \"  #\", \"  #\"],  # 7\n",
    "    [\"###\", \"# #\", \"###\", \"# #\", \"###\"],  # 8\n",
    "    [\"###\", \"# #\", \"###\", \"  #\", \"###\"],  # 9\n",
    "]\n",
    "\n",
    "# Get user input for the number to display\n",
    "number = input(\"Enter a non-negative integer number: \")\n",
    "\n",
    "# Display the number using LEDs\n",
    "for i in range(5):\n",
    "    row = \"\"\n",
    "    for digit in number:\n",
    "        pattern = patterns[int(digit)]\n",
    "        row += pattern[i] + \" \"\n",
    "    print(row)"
   ]
  },
  {
   "cell_type": "markdown",
   "id": "8bc19744-f762-4cc6-a50d-74068f72fe01",
   "metadata": {},
   "source": [
    "## Four simple programs\n",
    " \n",
    "### The Caesar Cipher: encrypting a message"
   ]
  },
  {
   "cell_type": "markdown",
   "id": "08947f14-b493-4e79-aab5-6455b4c4ae72",
   "metadata": {},
   "source": [
    "We're going to show you four simple programs in order to present some aspects of string processing in Python. They are purposefully simple, but the lab problems will be significantly more complicated.\n",
    "\n",
    "The first problem we want to show you is called the Caesar cipher - more details here: https://en.wikipedia.org/wiki/Caesar_cipher.\n",
    "\n",
    "This cipher was (probably) invented and used by Gaius Julius Caesar and his troops during the Gallic Wars. The idea is rather simple - every letter of the message is replaced by its nearest consequent (A becomes B, B becomes C, and so on). The only exception is Z, which becomes A.\n",
    "\n",
    "The program in the editor is a very simple (but working) implementation of the algorithm.\n",
    "\n",
    "We've written it using the following assumptions:\n",
    "\n",
    "- it accepts Latin letters only (note: the Romans used neither whitespaces nor digits)\n",
    "- all letters of the message are in upper case (note: the Romans knew only capitals)\n",
    "\n",
    "Let's trace the code:\n",
    "\n",
    "- line 02: ask the user to enter the open (unencrypted), one-line message;\n",
    "- line 03: prepare a string for an encrypted message (empty for now)\n",
    "- line 04: start the iteration through the message;\n",
    "- line 05: if the current character is not alphabetic...\n",
    "- line 06: ...ignore it;\n",
    "- line 07: convert the letter to upper-case (it's preferable to do it blindly, rather than check whether it's needed or not)\n",
    "- line 08: get the code of the letter and increment it by one;\n",
    "- line 09: if the resulting code has \"left\" the Latin alphabet (if it's greater than the Z code)...\n",
    "- line 10: ...change it to the A code;\n",
    "- line 11: append the received character to the end of the encrypted message;\n",
    "- line 13: print the cipher.\n",
    "\n",
    "The code, fed with this message:\n",
    "\n",
    "```python\n",
    "AVE CAESAR\n",
    "\n",
    "#outputs:\n",
    "\n",
    "BWFDBFTBS\n",
    "\n",
    "```\n",
    "\n",
    "Do your own tests."
   ]
  },
  {
   "cell_type": "code",
   "execution_count": 290,
   "id": "435cf501-5ee6-4c40-8e03-6fa23de61cbf",
   "metadata": {},
   "outputs": [
    {
     "name": "stdin",
     "output_type": "stream",
     "text": [
      "Enter your message:  Hello my friend\n"
     ]
    },
    {
     "name": "stdout",
     "output_type": "stream",
     "text": [
      "IFMMP NZ GSJFOE\n"
     ]
    }
   ],
   "source": [
    "# Caesar cipher.\n",
    "text = input(\"Enter your message: \")\n",
    "cipher = ''\n",
    "code = ''\n",
    "for char in text:\n",
    "    if not char.isalpha():\n",
    "        code = ' '\n",
    "        # continue\n",
    "    char = char.upper()\n",
    "    if code == ' ':\n",
    "        code = ord(char)\n",
    "    else:\n",
    "        code = ord(char) + 1\n",
    "    if code > ord('Z') and code != ord(' '):\n",
    "        code = ord('A')\n",
    "    cipher += chr(code)\n",
    "\n",
    "print(cipher)\n"
   ]
  },
  {
   "cell_type": "markdown",
   "id": "a13c709a-f378-49da-9f9e-7725605d1bb0",
   "metadata": {},
   "source": [
    "### The Caesar Cipher: decrypting a message"
   ]
  },
  {
   "cell_type": "markdown",
   "id": "f2090fe7-1796-4cc1-8c9c-64dbb5a10a08",
   "metadata": {},
   "source": [
    "The reverse transformation should now be clear to you - let's just present you with the code as-is, without any explanations.\n",
    "\n",
    "Look at the code in the editor. Check carefully if it works. Use the cryptogram from the previous program.\n",
    "\n"
   ]
  },
  {
   "cell_type": "code",
   "execution_count": 291,
   "id": "1b802c30-95f3-4526-a579-dc73b081fee5",
   "metadata": {},
   "outputs": [
    {
     "name": "stdin",
     "output_type": "stream",
     "text": [
      "Enter your cryptogram:  IFMMP NZ GSJFOE\n"
     ]
    },
    {
     "name": "stdout",
     "output_type": "stream",
     "text": [
      "HELLO MY FRIEND\n"
     ]
    }
   ],
   "source": [
    "# Caesar cipher - decrypting a message.\n",
    "cipher = input('Enter your cryptogram: ')\n",
    "text = ''\n",
    "for char in cipher:\n",
    "    if not char.isalpha():\n",
    "        code = ' '\n",
    "    char = char.upper()\n",
    "    if code == ' ':\n",
    "        code = ord(char)\n",
    "    else:\n",
    "        code = ord(char) - 1\n",
    "    if code < ord('A') and code != ord(' '):\n",
    "        code = ord('Z')\n",
    "    text += chr(code)\n",
    "\n",
    "print(text)\n"
   ]
  },
  {
   "cell_type": "markdown",
   "id": "e62b3f15-2ad8-4cf9-9680-8df1c5744bfa",
   "metadata": {},
   "source": [
    "### The Numbers Processor"
   ]
  },
  {
   "cell_type": "markdown",
   "id": "9139377d-1a8b-4ebc-92f8-20e0f20742db",
   "metadata": {},
   "source": [
    "The third program shows a simple method allowing you to input a line filled with numbers, and to process them easily. Note: the routine input() function, combined together with the int() or float() functions, is unsuitable for this purpose.\n",
    "\n",
    "The processing will be extremely easy - we want the numbers to be summed.\n",
    "\n",
    "Look at the code in the editor. Let's analyze it.\n",
    "\n",
    "Using list comprehension may make the code slimmer. You can do that if you want.\n",
    "\n",
    "Let's present our version:\n",
    "\n",
    "- line 03: ask the user to enter a line filled with any number of numbers (the numbers can be floats)\n",
    "- line 04: split the line receiving a list of substrings;\n",
    "- line 05: initiate the total sum to zero;\n",
    "- line 06: as the string-float conversion may raise an - exception, it's best to continue with the protection of the try-except block;\n",
    "- line 07: iterate through the list...\n",
    "- line 08: ...and try to convert all its elements into float numbers; if it works, increase the sum;\n",
    "- line 09: everything is good so far, so print the sum;\n",
    "- line 10: the program ends here in the case of an error;\n",
    "- line 11: print a diagnostic message showing the user the reason for the failure.\n",
    "\n",
    "The code has one important weakness - it displays a bogus result when the user enters an empty line. Can you fix it?"
   ]
  },
  {
   "cell_type": "code",
   "execution_count": 296,
   "id": "ddc22058-cd6d-4036-9839-275ea117e810",
   "metadata": {},
   "outputs": [
    {
     "name": "stdin",
     "output_type": "stream",
     "text": [
      "Enter a line of numbers - separate them with spaces:  2 5 6\n"
     ]
    },
    {
     "name": "stdout",
     "output_type": "stream",
     "text": [
      "['2', '5', '6']\n",
      "The total is: 13.0\n"
     ]
    }
   ],
   "source": [
    "# Numbers Processor.\n",
    "\n",
    "line = input(\"Enter a line of numbers - separate them with spaces: \")\n",
    "strings = line.split()\n",
    "print(strings)\n",
    "total = 0\n",
    "try:\n",
    "    for substr in strings:\n",
    "        total += float(substr)\n",
    "    print(\"The total is:\", total)\n",
    "except:\n",
    "    print(substr, \"is not a number.\")\n"
   ]
  },
  {
   "cell_type": "markdown",
   "id": "1edff9a4-998f-4677-9e9d-acf4271e11e0",
   "metadata": {},
   "source": [
    "### The IBAN Validator"
   ]
  },
  {
   "cell_type": "markdown",
   "id": "1ee9ed04-3340-4154-a4c0-7fc08e4630d5",
   "metadata": {},
   "source": [
    "The fourth program implements (in a slightly simplified form) an algorithm used by European banks to specify account numbers. The standard named IBAN (International Bank Account Number) provides a simple and fairly reliable method for validating account numbers against simple typos that can occur during rewriting of the number, for example, from paper documents, like invoices or bills, into computers.\n",
    "\n",
    "You can find more details here: https://en.wikipedia.org/wiki/International_Bank_Account_Number.\n",
    "\n",
    "An IBAN-compliant account number consists of:\n",
    "\n",
    "- a two-letter country code taken from the ISO 3166-1 standard (e.g., FR for France, GB for Great Britain, DE for Germany, and so on)\n",
    "- two check digits used to perform the validity checks – fast and simple, but not fully reliable, tests, showing whether a number is invalid (distorted by a typo) or seems to be good;\n",
    "- the actual account number (up to 30 alphanumeric characters – the length of that part depends on the country)\n",
    "\n",
    "The standard says that validation requires the following steps (according to Wikipedia):\n",
    "\n",
    "- (step 1) Check that the total IBAN length is correct as per the country (this program won't do that, but you can modify the code to meet this requirement if you wish; note: you have to teach the code all the lengths used in Europe)\n",
    "- (step 2) Move the four initial characters to the end of the string (i.e., the country code and the check digits)\n",
    "- (step 3) Replace each letter in the string with two digits, thereby expanding the string, where A = 10, B = 11 ... Z = 35;\n",
    "- (step 4) Interpret the string as a decimal integer and compute the remainder of that number by modulo-dividing it by 97; If the remainder is 1, the check digit test is passed and the IBAN might be valid.\n",
    "\n",
    "Look at the code in the editor. Let's analyze it:\n",
    "\n",
    "- line 03: ask the user to enter the IBAN (the number can contain spaces, as they significantly improve number readability...\n",
    "- line 04: ...but remove them immediately)\n",
    "- line 06: the entered IBAN must consist of digits and - letters only – if it doesn't...\n",
    "- line 07: ...output the message;\n",
    "- line 08: the IBAN mustn't be shorter than 15 characters (this is the shortest variant, used in Norway)\n",
    "- line 09: if it is shorter, the user is informed;\n",
    "- line 10: moreover, the IBAN cannot be longer than 31 characters (this is the longest variant, used in Malta)\n",
    "- line 11: if it is longer, make an announcement;\n",
    "- line 12: start the actual processing;\n",
    "- line 13: move the four initial characters to the number's end, and convert all letters to upper case (step 02 of the algorithm)\n",
    "- line 14: this is the variable used to complete the number, created by replacing the letters with digits (according to the algorithm's step 03)\n",
    "- line 15: iterate through the IBAN;\n",
    "- line 16: if the character is a digit...\n",
    "- line 17: just copy it;\n",
    "- line 18: otherwise...\n",
    "- line 19: ...convert it into two digits (note the way it's done here)\n",
    "- line 20: the converted form of the IBAN is ready – make an integer out of it;\n",
    "- line 21: is the remainder of the division of iban2 by 97 equal to 1?\n",
    "- line 22: If yes, then success;\n",
    "- line 23: Otherwise...\n",
    "- line 24: ...the number is invalid.\n",
    "\n",
    "Let's add some test data (all these numbers are valid – you can invalidate them by changing any character).\n",
    "\n",
    "- British: GB72 HBZU 7006 7212 1253 00\n",
    "- French: FR76 30003 03620 00020216907 50\n",
    "- German: DE02100100100152517108\n",
    "\n",
    "If you are an EU resident, you can use you own account number for tests."
   ]
  },
  {
   "cell_type": "code",
   "execution_count": 319,
   "id": "ab7e1c2e-ee00-427b-8a52-227c43a6c954",
   "metadata": {},
   "outputs": [
    {
     "name": "stdin",
     "output_type": "stream",
     "text": [
      "Enter IBAN, please:  FR76 30003 03620 00020216907 50\n"
     ]
    },
    {
     "name": "stdout",
     "output_type": "stream",
     "text": [
      "RESULT:\n",
      "IBAN entered is valid.\n"
     ]
    }
   ],
   "source": [
    "# IBAN Validator.\n",
    "\n",
    "iban = input(\"Enter IBAN, please: \")\n",
    "iban = iban.replace(' ','')\n",
    "\n",
    "if not iban.isalnum():\n",
    "    print(\"You have entered invalid characters.\")\n",
    "elif len(iban) < 15:\n",
    "    print(\"IBAN entered is too short.\")\n",
    "elif len(iban) > 31:\n",
    "    print(\"IBAN entered is too long.\")\n",
    "else:\n",
    "    iban = (iban[4:] + iban[0:4]).upper()\n",
    "    # print(iban)\n",
    "    iban2 = ''\n",
    "    for ch in iban:\n",
    "        if ch.isdigit():\n",
    "            iban2 += ch\n",
    "        else:\n",
    "            iban2 += str(10 + ord(ch) - ord('A'))\n",
    "    iban = int(iban2)\n",
    "    if iban % 97 == 1:\n",
    "        print('RESULT:')\n",
    "        print(\"IBAN entered is valid.\")\n",
    "    else:\n",
    "        print('RESULT:')\n",
    "        print(\"IBAN entered is invalid.\")\n"
   ]
  },
  {
   "cell_type": "markdown",
   "id": "e21509da-095b-4dfc-b623-b7b3d49061a1",
   "metadata": {},
   "source": [
    "#### ChatGPT example "
   ]
  },
  {
   "cell_type": "code",
   "execution_count": 302,
   "id": "35675237-d367-4265-8cab-958f33dd2b10",
   "metadata": {},
   "outputs": [],
   "source": [
    "IBAN_LENGTH = {\n",
    "    'AD': 24, 'AE': 23, 'AL': 28, 'AT': 20, 'AZ': 28, 'BA': 20, 'BE': 16, 'BG': 22,\n",
    "    'BH': 22, 'BR': 29, 'CH': 21, 'CR': 22, 'CY': 28, 'CZ': 24, 'DE': 22, 'DK': 18,\n",
    "    'DO': 28, 'EE': 20, 'ES': 24, 'FI': 18, 'FO': 18, 'FR': 27, 'GB': 22, 'GE': 22,\n",
    "    'GI': 23, 'GL': 18, 'GR': 27, 'GT': 28, 'HR': 21, 'HU': 28, 'IE': 22, 'IL': 23,\n",
    "    'IQ': 23, 'IS': 26, 'IT': 27, 'JO': 30, 'KW': 30, 'KZ': 20, 'LB': 28, 'LI': 21,\n",
    "    'LT': 20, 'LU': 20, 'LV': 21, 'MC': 27, 'MD': 24, 'ME': 22, 'MK': 19, 'MR': 27,\n",
    "    'MT': 31, 'MU': 30, 'NL': 18, 'NO': 15, 'PK': 24, 'PL': 28, 'PS': 29, 'PT': 25,\n",
    "    'QA': 29, 'RO': 24, 'RS': 22, 'SA': 24, 'SE': 24, 'SI': 19, 'SK': 24, 'SM': 27,\n",
    "    'ST': 25, 'SV': 28, 'TL': 23, 'TN': 24, 'TR': 26, 'UA': 29, 'VA': 22, 'VG': 24,\n",
    "    'XK': 20, 'CH': 21  # Switzerland\n",
    "}"
   ]
  },
  {
   "cell_type": "code",
   "execution_count": 303,
   "id": "640f0d50-5565-4d54-806b-651ff7a23394",
   "metadata": {},
   "outputs": [],
   "source": [
    "def validate_iban(iban):\n",
    "    \"\"\"\n",
    "    Validate an International Bank Account Number (IBAN).\n",
    "\n",
    "    :param iban: The IBAN to validate.\n",
    "    :return: True if the IBAN is valid, False otherwise.\n",
    "    \"\"\"\n",
    "    iban = iban.replace(' ', '')  # Remove any spaces\n",
    "    if not iban.isalnum():\n",
    "        return False\n",
    "    iban = iban.upper()  # Convert to uppercase\n",
    "    country_code = iban[:2]\n",
    "    if len(iban) != IBAN_LENGTH.get(country_code):\n",
    "        return False\n",
    "    iban = iban[4:] + iban[:4]  # Move first 4 characters to end\n",
    "    iban_digits = ''\n",
    "    for char in iban:\n",
    "        if char.isdigit():\n",
    "            iban_digits += char\n",
    "        else:\n",
    "            iban_digits += str(10 + ord(char) - ord('A'))\n",
    "    remainder = int(iban_digits[:9]) % 97\n",
    "    for i in range(9, len(iban_digits), 7):\n",
    "        remainder = int(str(remainder) + iban_digits[i:i+7]) % 97\n",
    "    return remainder == 1"
   ]
  },
  {
   "cell_type": "code",
   "execution_count": 314,
   "id": "c6c3715d-93b8-48fa-a1cf-25bdc28dee52",
   "metadata": {},
   "outputs": [
    {
     "data": {
      "text/plain": [
       "True"
      ]
     },
     "execution_count": 314,
     "metadata": {},
     "output_type": "execute_result"
    }
   ],
   "source": [
    "validate_iban('CH93 0076 2011 6238 5295 7')"
   ]
  },
  {
   "cell_type": "markdown",
   "id": "05073447-5147-43fb-8f02-cdadf284fd86",
   "metadata": {},
   "source": [
    "### Key takeaways"
   ]
  },
  {
   "cell_type": "markdown",
   "id": "ddd0e990-ce7b-41cd-a0e2-cd2a2bc16737",
   "metadata": {},
   "source": [
    "1. Strings are key tools in modern data processing, as most useful data are actually strings. For example, using a web search engine (which seems quite trivial these days) utilizes extremely complex and complicated string processing, involving unimaginable amounts of data.\n",
    "\n",
    "2. Comparing strings in a strict way (as Python does) can be very unsatisfactory when it comes to advanced searches (e.g. during extensive database queries). Responding to this demand, a number of fuzzy string comparison algorithms has been created and implemented. These algorithms are able to find strings which aren't equal in the Python sense, but are similar.\n",
    "One such concept is the Hamming distance, which is used to determine the similarity of two strings. If this problem interests you, you can find out more about it here: https://en.wikipedia.org/wiki/Hamming_distance. Another solution of the same kind, but based on a different assumption, is the Levenshtein distance described here: https://en.wikipedia.org/wiki/Levenshtein_distance.\n",
    "\n",
    "\n",
    "\n",
    "\n",
    "3. Another way of comparing strings is finding their acoustic similarity, which means a process leading to determine if two strings sound similar (like \"raise\" and \"race\"). Such a similarity has to be established for every language (or even dialect) separately.\n",
    "An algorithm used to perform such a comparison for the English language is called Soundex and was invented – you won't believe – in 1918. You can find out more about it here: https://en.wikipedia.org/wiki/Soundex.\n",
    "\n",
    "\n",
    "4. Due to limited native float and integer data precision, it's sometimes reasonable to store and process huge numeric values as strings. This is the technique Python uses when you force it to operate on an integer number consisting of a very large number of digits.\n",
    "\n"
   ]
  },
  {
   "cell_type": "markdown",
   "id": "faf03992-1aab-41c2-ba53-2c6895f77c3c",
   "metadata": {},
   "source": [
    "#### Soundex\n",
    "\n",
    "ChatGPT code "
   ]
  },
  {
   "cell_type": "code",
   "execution_count": 324,
   "id": "acf1d653-f90c-48c4-a7c3-fa3ffffcf372",
   "metadata": {},
   "outputs": [],
   "source": [
    "def soundex(name):\n",
    "    # Step 1: Convert to uppercase and replace certain letters\n",
    "    name = name.upper().replace('H', '').replace('W', '').replace('Y', '')\n",
    "\n",
    "    # Step 2: Keep the first letter and discard the rest of the vowels and 'H', 'W', 'Y'\n",
    "    first_letter = name[0]\n",
    "    name = name[1:].replace('A', '').replace('E', '').replace('I', '').replace('O', '').replace('U', '')\n",
    "\n",
    "    # Step 3: Replace each consonant with its corresponding Soundex digit\n",
    "    soundex_digits = ''\n",
    "    for letter in name:\n",
    "        if letter in ['B', 'F', 'P', 'V']:\n",
    "            soundex_digits += '1'\n",
    "        elif letter in ['C', 'G', 'J', 'K', 'Q', 'S', 'X', 'Z']:\n",
    "            soundex_digits += '2'\n",
    "        elif letter in ['D', 'T']:\n",
    "            soundex_digits += '3'\n",
    "        elif letter == 'L':\n",
    "            soundex_digits += '4'\n",
    "        elif letter in ['M', 'N']:\n",
    "            soundex_digits += '5'\n",
    "        elif letter == 'R':\n",
    "            soundex_digits += '6'\n",
    "\n",
    "    # Step 4: Replace consecutive digits with a single digit and remove any '0's\n",
    "    last_digit = ''\n",
    "    soundex_code = ''\n",
    "    for digit in soundex_digits:\n",
    "        if digit != last_digit:\n",
    "            soundex_code += digit\n",
    "        last_digit = digit\n",
    "    soundex_code = soundex_code.replace('0', '')\n",
    "\n",
    "    # Step 5: Pad with '0's until the Soundex code is 4 characters long\n",
    "    soundex_code = (soundex_code + '000')[:4]\n",
    "\n",
    "    # Step 6: Return the Soundex code with the first letter\n",
    "    return first_letter + soundex_code"
   ]
  },
  {
   "cell_type": "code",
   "execution_count": 325,
   "id": "0ac73f55-63bd-43ca-9674-d1d6e95631ab",
   "metadata": {},
   "outputs": [
    {
     "name": "stdout",
     "output_type": "stream",
     "text": [
      "N2420\n",
      "N2400\n",
      "N2000\n",
      "N2420\n"
     ]
    }
   ],
   "source": [
    "print(soundex('nicolas'))\n",
    "print(soundex('nicola'))\n",
    "print(soundex('nico'))\n",
    "print(soundex('nikolaus'))"
   ]
  },
  {
   "cell_type": "code",
   "execution_count": 327,
   "id": "6a7e4383-6e72-42a6-b3bd-6cbf49c51458",
   "metadata": {},
   "outputs": [
    {
     "data": {
      "text/plain": [
       "True"
      ]
     },
     "execution_count": 327,
     "metadata": {},
     "output_type": "execute_result"
    }
   ],
   "source": [
    "soundex('nicolas') == soundex('nikolaus')"
   ]
  },
  {
   "cell_type": "markdown",
   "id": "11a36d13-4b85-447a-b75d-919aa678ce51",
   "metadata": {},
   "source": [
    "## LAB"
   ]
  },
  {
   "cell_type": "markdown",
   "id": "ea4dc905-e893-4a9f-b301-9010319a49c6",
   "metadata": {},
   "source": [
    "### LAB: Improving the Caesar cipher\n"
   ]
  },
  {
   "cell_type": "markdown",
   "id": "fe486ecd-3047-43bc-90f8-5deb9d148707",
   "metadata": {},
   "source": [
    "stimated time\n",
    "30-90 minutes\n",
    "\n",
    "Level of difficulty\n",
    "Hard\n",
    "\n",
    "Pre-requisites\n",
    "Module 1.11.1.1, Module 1.11.1.2\n",
    "\n",
    "Objectives\n",
    "improving the student's skills in operating with strings;\n",
    "converting characters into ASCII code, and vice versa.\n",
    "Scenario\n",
    "You are already familiar with the Caesar cipher, and this is why we want you to improve the code we showed you recently.\n",
    "\n",
    "The original Caesar cipher shifts each character by one: a becomes b, z becomes a, and so on. Let's make it a bit harder, and allow the shifted value to come from the range 1..25 inclusive.\n",
    "\n",
    "Moreover, let the code preserve the letters' case (lower-case letters will remain lower-case) and all non-alphabetical characters should remain untouched.\n",
    "\n",
    "Your task is to write a program which:\n",
    "\n",
    "asks the user for one line of text to encrypt;\n",
    "asks the user for a shift value (an integer number from the range 1..25 - note: you should force the user to enter a valid shift value (don't give up and don't let bad data fool you!)\n",
    "prints out the encoded text.\n",
    "Test your code using the data we've provided.\n",
    "\n",
    "Test data\n",
    "Sample input:\n",
    "\n",
    "```python\n",
    "abcxyzABCxyz 123\n",
    "2\n",
    "\n",
    "# Sample output:\n",
    "\n",
    "cdezabCDEzab 123\n",
    "\n",
    "# Sample input:\n",
    "\n",
    "The die is cast\n",
    "25\n",
    "\n",
    "# Sample output:\n",
    "\n",
    "Sgd chd hr bzrs\n",
    "\n",
    "```\n"
   ]
  },
  {
   "cell_type": "code",
   "execution_count": 345,
   "id": "88eb2c7a-f07b-49ec-a031-93bc5fda272f",
   "metadata": {},
   "outputs": [
    {
     "name": "stdin",
     "output_type": "stream",
     "text": [
      "Enter text to encrypt:  abcxyzABCxyz 123\n",
      "Enter shift value (1-25):  2\n"
     ]
    },
    {
     "name": "stdout",
     "output_type": "stream",
     "text": [
      "Encrypted text: cdezabCDEzab 123\n"
     ]
    }
   ],
   "source": [
    "def caesar_cipher(text, shift):\n",
    "    \"\"\"\n",
    "    Encrypts text using the Caesar Cipher with a shift value\n",
    "    \"\"\"\n",
    "    encrypted = \"\"\n",
    "    for char in text:\n",
    "        if char.isalpha():\n",
    "            if char.islower():\n",
    "                encrypted += chr((ord(char) - 97 + shift) % 26 + 97)\n",
    "            else:\n",
    "                encrypted += chr((ord(char) - 65 + shift) % 26 + 65)\n",
    "        else:\n",
    "            encrypted += char\n",
    "    return encrypted\n",
    "\n",
    "text = input(\"Enter text to encrypt: \")\n",
    "while True:\n",
    "    try:\n",
    "        shift = int(input(\"Enter shift value (1-25): \"))\n",
    "        if 1 <= shift <= 25:\n",
    "            break\n",
    "        else:\n",
    "            print(\"Shift value must be between 1 and 25\")\n",
    "    except ValueError:\n",
    "        print(\"Invalid input. Please enter a valid integer.\")\n",
    "\n",
    "encrypted_text = caesar_cipher(text, shift)\n",
    "print(\"Encrypted text:\", encrypted_text)"
   ]
  },
  {
   "cell_type": "markdown",
   "id": "fc7b54af-d2cf-435b-8319-ef6706cc0939",
   "metadata": {},
   "source": [
    "### LAB: Palindromes\n"
   ]
  },
  {
   "cell_type": "markdown",
   "id": "7cfa3c18-e52f-4937-9fba-bb1a9b820f61",
   "metadata": {},
   "source": [
    "Estimated time\n",
    "15-30 minutes\n",
    "\n",
    "Level of difficulty\n",
    "Easy\n",
    "\n",
    "Objectives\n",
    "- improving the student's skills in operating with strings;\n",
    "- encouraging the student to look for non-obvious solutions.\n",
    "\n",
    "Scenario\n",
    "Do you know what a palindrome is?\n",
    "\n",
    "It's a word which look the same when read forward and backward. For example, \"kayak\" is a palindrome, while \"loyal\" is not.\n",
    "\n",
    "Your task is to write a program which:\n",
    "\n",
    "- asks the user for some text;\n",
    "- checks whether the entered text is a palindrome, and prints result.\n",
    "\n",
    "Note:\n",
    "\n",
    "- assume that an empty string isn't a palindrome;\n",
    "- treat upper- and lower-case letters as equal;\n",
    "- spaces are not taken into account during the check - treat them as non-existent;\n",
    "- there are more than a few correct solutions - try to find more than one.\n",
    "\n",
    "Test your code using the data we've provided.\n",
    "\n",
    "Test data\n",
    "Sample input:\n",
    "    \n",
    "```python\n",
    "Ten animals I slam in a net\n",
    "\n",
    "# Sample output:\n",
    "\n",
    "It's a palindrome\n",
    "\n",
    "\n",
    "# Sample input:\n",
    "\n",
    "Eleven animals I slam in a net\n",
    "\n",
    "# Sample output:\n",
    "\n",
    "It's not a palindrome\n",
    "\n",
    "\n",
    "```"
   ]
  },
  {
   "cell_type": "code",
   "execution_count": 391,
   "id": "9f7ec014-4ab8-42c7-92b4-91a13b88297b",
   "metadata": {},
   "outputs": [],
   "source": [
    "def palindrom(text):\n",
    "    text_in = text.lower()\n",
    "    text_in = text_in.replace(' ', '')\n",
    "    text_flip = text_in[::-1]\n",
    "    if text_in == text_flip:\n",
    "        print('palidrom')\n",
    "    else:\n",
    "        print('No palindrom')\n",
    "    return\n"
   ]
  },
  {
   "cell_type": "code",
   "execution_count": 396,
   "id": "92845b9c-d271-4cff-a84e-ae9fa42caa62",
   "metadata": {},
   "outputs": [
    {
     "name": "stdout",
     "output_type": "stream",
     "text": [
      "palidrom\n",
      "No palindrom\n"
     ]
    }
   ],
   "source": [
    "palindrom('Ten animals I slam in a net')\n",
    "palindrom('Eleven animals I slam in a net')"
   ]
  },
  {
   "cell_type": "code",
   "execution_count": 397,
   "id": "923aa8a8-37a4-47c9-bf47-5ddfd2a61e0f",
   "metadata": {},
   "outputs": [
    {
     "name": "stdin",
     "output_type": "stream",
     "text": [
      "Enter some text:  kayak\n"
     ]
    },
    {
     "name": "stdout",
     "output_type": "stream",
     "text": [
      "It's a palindrome\n"
     ]
    }
   ],
   "source": [
    "# ask the user for some text\n",
    "text = input(\"Enter some text: \")\n",
    "\n",
    "# remove spaces and convert to lowercase\n",
    "text = text.replace(\" \", \"\").lower()\n",
    "\n",
    "# check if the text is a palindrome\n",
    "if text == text[::-1] and len(text) > 0:\n",
    "    print(\"It's a palindrome\")\n",
    "else:\n",
    "    print(\"It's not a palindrome\")"
   ]
  },
  {
   "cell_type": "markdown",
   "id": "f1748ed3-57b0-4889-b1b0-5bcf6bb8f4b9",
   "metadata": {},
   "source": [
    "### LAB: Anagrams"
   ]
  },
  {
   "cell_type": "markdown",
   "id": "4fc883ac-36e4-4cf9-aa97-de81b330fed2",
   "metadata": {},
   "source": [
    "Estimated time\n",
    "30-60 minutes\n",
    "\n",
    "Level of difficulty\n",
    "Easy\n",
    "\n",
    "Objectives\n",
    "- improving the student's skills in operating with strings;\n",
    "- converting strings into lists, and vice versa.\n",
    "\n",
    "Scenario\n",
    "An anagram is a new word formed by rearranging the letters of a word, using all the original letters exactly once. For example, the phrases \"rail safety\" and \"fairy tales\" are anagrams, while \"I am\" and \"You are\" are not.\n",
    "\n",
    "Your task is to write a program which:\n",
    "\n",
    "- asks the user for two separate texts;\n",
    "- checks whether, the entered texts are anagrams and prints the result.\n",
    "\n",
    "Note:\n",
    "\n",
    "- assume that two empty strings are not anagrams;\n",
    "- treat upper- and lower-case letters as equal;\n",
    "- spaces are not taken into account during the check - treat them as non-existent\n",
    "\n",
    "Test your code using the data we've provided.\n",
    "\n",
    "Test data\n",
    "Sample input:\n",
    "\n",
    "```python\n",
    "Listen\n",
    "Silent\n",
    "\n",
    "# Sample output:\n",
    "\n",
    "Anagrams\n",
    "\n",
    "\n",
    "# Sample input:\n",
    "\n",
    "modern\n",
    "norman\n",
    "\n",
    "# Sample output:\n",
    "\n",
    "Not anagrams\n",
    "\n",
    "```\n"
   ]
  },
  {
   "cell_type": "code",
   "execution_count": 402,
   "id": "2aa3a817-9469-4971-881a-6953f28c50f6",
   "metadata": {},
   "outputs": [
    {
     "name": "stdin",
     "output_type": "stream",
     "text": [
      "Enter first text:  modern\n",
      "Enter a second text:  modernn\n"
     ]
    },
    {
     "name": "stdout",
     "output_type": "stream",
     "text": [
      "no anagram\n"
     ]
    }
   ],
   "source": [
    "def anagrams(text1, text2):\n",
    "    \"\"\"\n",
    "    Checks for Anagrams\n",
    "    \"\"\"\n",
    "    text1 = text1.replace(\" \", \"\").lower()\n",
    "    text2 = text2.replace(\" \", \"\").lower()\n",
    "    if len(text1) == len(text2) and sorted(text1) == sorted(text2):\n",
    "        print('it is an anagram')\n",
    "    else:\n",
    "        print('no anagram')\n",
    "        \n",
    "text1 = input(\"Enter first text: \")\n",
    "while True:\n",
    "    try:\n",
    "        text2 = input(\"Enter a second text: \")\n",
    "        if len(text2) > 0:\n",
    "            break\n",
    "        else:\n",
    "            print(\"You have to enter a sceond text\")\n",
    "    except ValueError:\n",
    "        print(\"Invalid input. Please enter a valid text.\")\n",
    "\n",
    "anagrams(text1, text2)"
   ]
  },
  {
   "cell_type": "markdown",
   "id": "ee6ad4cb-1c5c-4379-8ff5-625b4a70a4b9",
   "metadata": {},
   "source": [
    "### LAB: The Digit of Life"
   ]
  },
  {
   "cell_type": "markdown",
   "id": "4071d08d-28a9-4b8d-a4c3-b1b6276b2f94",
   "metadata": {},
   "source": [
    "Estimated time\n",
    "15-30 minutes\n",
    "\n",
    "Level of difficulty\n",
    "Easy\n",
    "\n",
    "Objectives\n",
    "\n",
    "- improving the student's skills in operating with strings;\n",
    "- converting integers into strings, and vice versa.\n",
    "\n",
    "Scenario\n",
    "Some say that the Digit of Life is a digit evaluated using somebody's birthday. It's simple - you just need to sum all the digits of the date. If the result contains more than one digit, you have to repeat the addition until you get exactly one digit. For example:\n",
    "\n",
    "- 1 January 2017 = 2017 01 01\n",
    "- 2 + 0 + 1 + 7 + 0 + 1 + 0 + 1 = 12\n",
    "- 1 + 2 = 3\n",
    "\n",
    "3 is the digit we searched for and found.\n",
    "\n",
    "Your task is to write a program which:\n",
    "\n",
    "- asks the user her/his birthday (in the format YYYYMMDD, or YYYYDDMM, or MMDDYYYY - actually, the order of the digits doesn't matter)\n",
    "- outputs the Digit of Life for the date.\n",
    "Test your code using the data we've provided.\n",
    "\n",
    "Test data\n",
    "\n",
    "```python\n",
    "# Sample input:\n",
    "19991229\n",
    "\n",
    "# Sample output:\n",
    "6\n",
    "\n",
    "# Sample input:\n",
    "20000101\n",
    "\n",
    "#Sample output:\n",
    "4\n",
    "```"
   ]
  },
  {
   "cell_type": "code",
   "execution_count": 3,
   "id": "2824dc6f-0e6a-47cd-941a-dfe5d59bc6ee",
   "metadata": {},
   "outputs": [
    {
     "name": "stdin",
     "output_type": "stream",
     "text": [
      "Enter your birthday (in the format YYYYMMDD, or YYYYDDMM, or MMDDYYYY: ):  2017 01 01\n"
     ]
    },
    {
     "name": "stdout",
     "output_type": "stream",
     "text": [
      "Invalid input. Please enter a valid number.\n"
     ]
    },
    {
     "name": "stdin",
     "output_type": "stream",
     "text": [
      "Enter your birthday (in the format YYYYMMDD, or YYYYDDMM, or MMDDYYYY: ):  20170101\n"
     ]
    },
    {
     "name": "stdout",
     "output_type": "stream",
     "text": [
      "digit of life: 3\n"
     ]
    }
   ],
   "source": [
    "def digit_of_life(birthday):\n",
    "    \"\"\"\n",
    "    Calculate the digit of life\n",
    "    \"\"\"\n",
    "    _dol = 0\n",
    "    while _dol > 10 or _dol == 0:\n",
    "        _dol = 0\n",
    "        for num in str(birthday):\n",
    "            _dol += int(num)\n",
    "        birthday = _dol\n",
    "    return _dol\n",
    "        \n",
    "while True:\n",
    "    try:\n",
    "        birthday = int(input(\"Enter your birthday (in the format YYYYMMDD, or YYYYDDMM, or MMDDYYYY: ): \"))\n",
    "        if birthday > 0 and len(str(birthday)) == 8:\n",
    "            break\n",
    "        else:\n",
    "            print(\"You have to enter a valid birthday\")\n",
    "    except ValueError:\n",
    "        print(\"Invalid input. Please enter a valid number.\")\n",
    "\n",
    "dol = digit_of_life(birthday)\n",
    "print(f'digit of life: {dol}')"
   ]
  },
  {
   "cell_type": "code",
   "execution_count": 5,
   "id": "dc41b351-0ed0-4485-861d-255c9b59610d",
   "metadata": {},
   "outputs": [
    {
     "name": "stdin",
     "output_type": "stream",
     "text": [
      "Enter your birthday (in the format YYYYMMDD, YYYYDDMM, or MMDDYYYY):  03041980\n"
     ]
    },
    {
     "name": "stdout",
     "output_type": "stream",
     "text": [
      "Your Digit of Life is: 7\n"
     ]
    }
   ],
   "source": [
    "# ask the user for their birthday in the format YYYYMMDD or YYYYDDMM or MMDDYYYY\n",
    "birthday = input(\"Enter your birthday (in the format YYYYMMDD, YYYYDDMM, or MMDDYYYY): \")\n",
    "\n",
    "# remove any spaces and convert to a string\n",
    "birthday = str(birthday).replace(\" \", \"\")\n",
    "\n",
    "# loop through and add up all the digits of the birthday\n",
    "digit_sum = 0\n",
    "for digit in birthday:\n",
    "    digit_sum += int(digit)\n",
    "\n",
    "# repeat the addition until you get exactly one digit\n",
    "while digit_sum > 9:\n",
    "    digit_sum = sum(int(digit) for digit in str(digit_sum))\n",
    "\n",
    "# output the Digit of Life\n",
    "print(\"Your Digit of Life is:\", digit_sum)\n"
   ]
  },
  {
   "cell_type": "markdown",
   "id": "1e7b78e5-8722-4531-a1ab-3d25c948892b",
   "metadata": {},
   "source": [
    "###  LAB: Find a word!"
   ]
  },
  {
   "cell_type": "markdown",
   "id": "1f713883-c29a-4363-b979-c1ecfdc596f9",
   "metadata": {},
   "source": [
    "Estimated time\n",
    "30-45 minutes\n",
    "\n",
    "Level of difficulty\n",
    "Medium\n",
    "\n",
    "Objectives\n",
    "\n",
    "- improving the student's skills in operating with strings;\n",
    "- using the find() method for searching strings.\n",
    "\n",
    "Scenario\n",
    "- Let's play a game. We will give you two strings: one being a word (e.g., \"dog\") and the second being a combination of any characters.\n",
    "\n",
    "Your task is to write a program which answers the following question: are the characters comprising the first string hidden inside the second string?\n",
    "\n",
    "For example:\n",
    "\n",
    "- if the second string is given as \"vcxzxduybfdsobywuefgas\", the answer is yes;\n",
    "- if the second string is \"vcxzxdcybfdstbywuefsas\", the answer is no (as there are neither the letters \"d\", \"o\", or \"g\", in this order)\n",
    "\n",
    "Hints:\n",
    "\n",
    "you should use the two-argument variants of the pos() functions inside your code;\n",
    "don't worry about case sensitivity.\n",
    "Test your code using the data we've provided.\n",
    "\n",
    "Test data\n",
    "```python\n",
    "# Sample input:\n",
    "donor\n",
    "Nabucodonosor\n",
    "\n",
    "# Sample output:\n",
    "Yes\n",
    "\n",
    "# Sample input:\n",
    "donut\n",
    "Nabucodonosor\n",
    "\n",
    "# Sample output:\n",
    "No\n",
    "\n",
    "```"
   ]
  },
  {
   "cell_type": "code",
   "execution_count": 17,
   "id": "140221d3-62c4-4c9d-9479-a820be28da1b",
   "metadata": {},
   "outputs": [
    {
     "name": "stdin",
     "output_type": "stream",
     "text": [
      "Enter the search characters:  donut\n",
      "Enter a second text:  Nabucodonosor\n"
     ]
    },
    {
     "name": "stdout",
     "output_type": "stream",
     "text": [
      "no\n"
     ]
    }
   ],
   "source": [
    "def find_a_word(text1, text2):\n",
    "    \"\"\"\n",
    "    Checks for Anagrams\n",
    "    \"\"\"\n",
    "    text1 = text1.replace(\" \", \"\").lower()\n",
    "    text2 = text2.replace(\" \", \"\").lower()\n",
    "    size = len(text1)\n",
    "    i = 0\n",
    "    \n",
    "    for char in text1:\n",
    "        if text2.find(char) > -1:\n",
    "            i += 1\n",
    "            \n",
    "    if size == i:\n",
    "        print('yes')\n",
    "    else:\n",
    "        print('no')\n",
    "            \n",
    "        \n",
    "text1 = input(\"Enter the search characters: \")\n",
    "while True:\n",
    "    try:\n",
    "        text2 = input(\"Enter a second text: \")\n",
    "        if len(text2) > 0:\n",
    "            break\n",
    "        else:\n",
    "            print(\"You have to enter a sceond text\")\n",
    "    except ValueError:\n",
    "        print(\"Invalid input. Please enter a valid text.\")\n",
    "\n",
    "find_a_word(text1, text2)"
   ]
  },
  {
   "cell_type": "code",
   "execution_count": 14,
   "id": "2adfe39a-8283-4e73-a227-264c60312ec9",
   "metadata": {},
   "outputs": [
    {
     "data": {
      "text/plain": [
       "-1"
      ]
     },
     "execution_count": 14,
     "metadata": {},
     "output_type": "execute_result"
    }
   ],
   "source": [
    "'nabucodonosor'.find('x')"
   ]
  },
  {
   "cell_type": "markdown",
   "id": "15a895a0-6bb7-474f-8646-9eb6bb3a8268",
   "metadata": {},
   "source": [
    "### LAB: Sudoku"
   ]
  },
  {
   "cell_type": "markdown",
   "id": "4138f72d-4ece-4b08-9cfe-1a4cc48ef8df",
   "metadata": {},
   "source": [
    "stimated time\n",
    "60-90 minutes\n",
    "\n",
    "Level of difficulty\n",
    "Hard\n",
    "\n",
    "Objectives\n",
    "- improving the student's skills in operating with strings and lists;\n",
    "- converting strings into lists.\n",
    "\n",
    "Scenario\n",
    "As you probably know, Sudoku is a number-placing puzzle played on a 9x9 board. The player has to fill the board in a very specific way:\n",
    "\n",
    "- each row of the board must contain all digits from 0 to 9 (the order doesn't matter)\n",
    "- each column of the board must contain all digits from 0 to 9 (again, the order doesn't matter)\n",
    "- each of the nine 3x3 \"tiles\" (we will name them \"sub-squares\") of the table must contain all digits from 0 to 9.\n",
    "\n",
    "If you need more details, you can find them here.\n",
    "\n",
    "Your task is to write a program which:\n",
    "\n",
    "- reads 9 rows of the Sudoku, each containing 9 digits (check carefully if the data entered are valid)\n",
    "- outputs Yes if the Sudoku is valid, and No otherwise.\n",
    "\n",
    "Test your code using the data we've provided.\n",
    "\n",
    "Test data\n",
    "\n",
    "```python\n",
    "# Sample input:\n",
    "\n",
    "295743861\n",
    "431865927\n",
    "876192543\n",
    "387459216\n",
    "612387495\n",
    "549216738\n",
    "763524189\n",
    "928671354\n",
    "154938672\n",
    "\n",
    "# Sample output:\n",
    "Yes\n",
    "\n",
    "\n",
    "# Sample input:\n",
    "195743862\n",
    "431865927\n",
    "876192543\n",
    "387459216\n",
    "612387495\n",
    "549216738\n",
    "763524189\n",
    "928671354\n",
    "254938671\n",
    "\n",
    "# Sample output:\n",
    "No\n",
    "```"
   ]
  },
  {
   "cell_type": "code",
   "execution_count": 3,
   "id": "6a3ef931-94f8-44a6-8248-dfbf36375c9a",
   "metadata": {},
   "outputs": [
    {
     "name": "stdin",
     "output_type": "stream",
     "text": [
      "Enter row 1:  195743862\n",
      "Enter row 2:  431865927\n",
      "Enter row 3:  876192543\n",
      "Enter row 4:  387459216\n",
      "Enter row 5:  612387495\n",
      "Enter row 6:  549216738\n",
      "Enter row 7:  763524189\n",
      "Enter row 8:  928671354\n",
      "Enter row 9:  254938671\n"
     ]
    },
    {
     "name": "stdout",
     "output_type": "stream",
     "text": [
      "No\n"
     ]
    }
   ],
   "source": [
    "def check_sudoku(sudoku):\n",
    "    # Check rows\n",
    "    for row in sudoku:\n",
    "        if len(set(row)) != 9:\n",
    "            return False\n",
    "    \n",
    "    # Check columns\n",
    "    for col in range(9):\n",
    "        if len(set([row[col] for row in sudoku])) != 9:\n",
    "            return False\n",
    "    \n",
    "    # Check sub-squares\n",
    "    for i in range(0, 9, 3):\n",
    "        for j in range(0, 9, 3):\n",
    "            sub_square = [sudoku[x][y] for x in range(i, i+3) for y in range(j, j+3)]\n",
    "            if len(set(sub_square)) != 9:\n",
    "                return False\n",
    "    \n",
    "    return True\n",
    "\n",
    "# Test the function using the sample input\n",
    "sudoku = []\n",
    "for i in range(9):\n",
    "    row = input(\"Enter row \" + str(i+1) + \": \").strip()\n",
    "    if len(row) != 9 or not row.isdigit():\n",
    "        print(\"Invalid input\")\n",
    "        break\n",
    "    sudoku.append([int(digit) for digit in row])\n",
    "\n",
    "if check_sudoku(sudoku):\n",
    "    print(\"Yes\")\n",
    "else:\n",
    "    print(\"No\")\n"
   ]
  },
  {
   "cell_type": "markdown",
   "id": "460591b8-2dea-45c9-a291-1ce75df9d7a7",
   "metadata": {},
   "source": [
    "## Errors - the programmer's daily bread"
   ]
  },
  {
   "cell_type": "markdown",
   "id": "93a25a9a-714a-4775-af31-7750fa587bf8",
   "metadata": {},
   "source": [
    "### Errors, failures, and other plagues"
   ]
  },
  {
   "cell_type": "markdown",
   "id": "43978945-9823-4824-8e7a-78dc841959bf",
   "metadata": {},
   "source": [
    "Anything that can go wrong, will go wrong.\n",
    "\n",
    "This is Murphy's law, and it works everywhere and always. Your code's execution can go wrong, too. If it can, it will.\n",
    "\n",
    "Look the code in the editor. There are at least two possible ways it can \"go wrong\". Can you see them?\n",
    "\n",
    "As a user is able to enter a completely arbitrary string of characters, there is no guarantee that the string can be converted into a float value - this is the first vulnerability of the code;\n",
    "the second is that the sqrt() function fails if it gets a negative argument.\n",
    "You may get one of the following error messages.\n",
    "\n",
    "Something like this:\n",
    "\n",
    "```python\n",
    "Enter x: Abracadabra\n",
    "\n",
    "Traceback (most recent call last):\n",
    "\n",
    "  File \"sqrt.py\", line 3, in <module>\n",
    "\n",
    "    x = float(input(\"Enter x: \"))\n",
    "\n",
    "ValueError: could not convert string to float: 'Abracadabra'\n",
    "\n",
    "```\n",
    "\n",
    "Or something like this:\n",
    "\n",
    "```python\n",
    "Enter x: -1\n",
    "\n",
    "Traceback (most recent call last):\n",
    "\n",
    "  File \"sqrt.py\", line 4, in <module>\n",
    "\n",
    "    y = math.sqrt(x)\n",
    "\n",
    "ValueError: math domain error\n",
    "\n",
    "```\n",
    "\n",
    "Can you protect yourself from such surprises? Of course you can. Moreover, you have to do it in order to be considered a good programmer."
   ]
  },
  {
   "cell_type": "code",
   "execution_count": 4,
   "id": "40131653-092b-4652-986a-8d58674bebc7",
   "metadata": {},
   "outputs": [
    {
     "name": "stdin",
     "output_type": "stream",
     "text": [
      "Enter x:  23\n"
     ]
    },
    {
     "name": "stdout",
     "output_type": "stream",
     "text": [
      "The square root of 23.0 equals to 4.795831523312719\n"
     ]
    }
   ],
   "source": [
    "import math\n",
    "\n",
    "x = float(input(\"Enter x: \"))\n",
    "y = math.sqrt(x)\n",
    "\n",
    "print(\"The square root of\", x, \"equals to\", y)"
   ]
  }
 ],
 "metadata": {
  "kernelspec": {
   "display_name": "Python 3 (ipykernel)",
   "language": "python",
   "name": "python3"
  },
  "language_info": {
   "codemirror_mode": {
    "name": "ipython",
    "version": 3
   },
   "file_extension": ".py",
   "mimetype": "text/x-python",
   "name": "python",
   "nbconvert_exporter": "python",
   "pygments_lexer": "ipython3",
   "version": "3.9.13"
  }
 },
 "nbformat": 4,
 "nbformat_minor": 5
}

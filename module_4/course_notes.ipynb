{
 "cells": [
  {
   "cell_type": "markdown",
   "source": [
    "# Miscellaneous\n",
    "\n",
    "In this module, you will learn about:\n",
    "\n",
    "- Generators, iterators and closures;\n",
    "- Working with file-system, directory tree and files;\n",
    "- Selected Python Standard Library modules (os, datetime, time, and calendar.)"
   ],
   "metadata": {
    "collapsed": false
   }
  },
  {
   "cell_type": "markdown",
   "source": [
    "## Generators and closures\n"
   ],
   "metadata": {
    "collapsed": false
   }
  },
  {
   "cell_type": "markdown",
   "source": [
    "### Generators - where to find them\n",
    "\n",
    "**Generator** - what do you associate this word with? Perhaps it refers to some electronic device. Or perhaps it refers to a heavy and serious machine designed to produce power, electrical or other.\n",
    "\n",
    "A Python generator is **a piece of specialized code able to produce a series of values, and to control the iteration process**. This is why generators are very often called **iterators**, and although some may find a very subtle distinction between these two, we'll treat them as one.\n",
    "\n",
    "You may not realize it, but you've encountered generators many, many times before. Take a look at the very simple snippet:\n",
    "\n",
    "```python\n",
    "for i in range(5):\n",
    "    print(i)\n",
    "\n",
    "```\n",
    "\n",
    "\n",
    "The `range()` function is, in fact, a generator, which is (in fact, again) an iterator.\n",
    "\n",
    "What is the difference?\n",
    "\n",
    "A function returns one, well-defined value - it may be the result of a more or less complex evaluation of, e.g., a polynomial, and is invoked once - only once.\n",
    "\n",
    "A generator **returns a series of values**, and in general, is (implicitly) invoked more than once.\n",
    "\n",
    "In the example, the `range()` generator is invoked six times, providing five subsequent values from zero to four, and finally signaling that the series is complete.\n",
    "\n",
    "The above process is completely transparent. Let's shed some light on it. Let's show you the **iterator protocol**.\n"
   ],
   "metadata": {
    "collapsed": false
   }
  },
  {
   "cell_type": "code",
   "execution_count": 2,
   "outputs": [
    {
     "name": "stdout",
     "output_type": "stream",
     "text": [
      "0\n",
      "1\n",
      "2\n",
      "3\n",
      "4\n"
     ]
    }
   ],
   "source": [
    "for i in range(5):\n",
    "    print(i)\n"
   ],
   "metadata": {
    "collapsed": false,
    "ExecuteTime": {
     "end_time": "2023-05-30T18:12:58.965745102Z",
     "start_time": "2023-05-30T18:12:58.925516423Z"
    }
   }
  },
  {
   "cell_type": "markdown",
   "source": [
    "### Generators - where to find them: continued\n",
    "\n",
    "The **iterator protocol is a way in which an object should behave to conform to the rules imposed by the context of the `for` and `in` statements**. An object conforming to the iterator protocol is called an **iterator**.\n",
    "\n",
    "An iterator must provide two methods:\n",
    "\n",
    "-   `__iter__()` which should **return the object itself** and which is invoked once (it's needed for Python to successfully start the iteration)\n",
    "-   `__next__()` which is intended to **return the next value** (first, second, and so on) of the desired series - it will be invoked by the `for`/`in` statements in order to pass through the next iteration; if there are no more values to provide, the method should **raise the `StopIteration` exception**.\n",
    "\n",
    "Does it sound strange? Not at all. Look at the example in the editor.\n",
    "\n",
    "We've built a class able to iterate through the first `n` values (where `n` is a constructor parameter) of the Fibonacci numbers.\n",
    "\n",
    "Let us remind you - the Fibonacci numbers (Fib<sub>i</sub>) are defined as follows:\n",
    "\n",
    "Fib<sub>1</sub> = 1\n",
    "Fib<sub>2</sub> = 1\n",
    "Fib<sub>i</sub> = Fib<sub>i-1</sub> + Fib<sub>i-2</sub>\n",
    "\n",
    "In other words:\n",
    "\n",
    "-   the first two Fibonacci numbers are equal to 1;\n",
    "-   any other Fibonacci number is the sum of the two previous ones (e.g., Fib<sub>3</sub> = 2, Fib<sub>4</sub> = 3, Fib<sub>5</sub> = 5, and so on)\n",
    "\n",
    "Let's dive into the code:\n",
    "\n",
    "-   lines 2 through 6: the class constructor prints a message (we'll use this to trace the class's behavior), prepares some variables (`__n` to store the series limit, `__i` to track the current Fibonacci number to provide, and `__p1` along with `__p2` to save the two previous numbers);\n",
    "\n",
    "-   lines 8 through 10: the `__iter__` method is obliged to return the iterator object itself; its purpose may be a bit ambiguous here, but there's no mystery; try to imagine an object which is not an iterator (e.g., it's a collection of some entities), but one of its components is an iterator able to scan the collection; the `__iter__` method should **extract the iterator and entrust it with the execution of the iteration protocol**; as you can see, the method starts its action by printing a message;\n",
    "\n",
    "-   lines 12 through 21: the `__next__` method is responsible for creating the sequence; it's somewhat wordy, but this should make it more readable; first, it prints a message, then it updates the number of desired values, and if it reaches the end of the sequence, the method breaks the iteration by raising the StopIteration exception; the rest of the code is simple, and it precisely reflects the definition we showed you earlier;\n",
    "\n",
    "-   lines 24 and 25 make use of the iterator.\n",
    "\n",
    "\n",
    "The code produces the following output:\n",
    "\n",
    "```python\n",
    "__init__\n",
    "__iter__\n",
    "__next__\n",
    "1\n",
    "__next__\n",
    "1\n",
    "__next__\n",
    "2\n",
    "__next__\n",
    "3\n",
    "__next__\n",
    "5\n",
    "__next__\n",
    "8\n",
    "__next__\n",
    "13\n",
    "__next__\n",
    "21\n",
    "__next__\n",
    "34\n",
    "__next__\n",
    "55\n",
    "__next__\n",
    "```\n",
    "\n",
    "Look:\n",
    "\n",
    "-   the iterator object is instantiated first;\n",
    "-   next, Python invokes the `__iter__` method to get access to the actual iterator;\n",
    "-   the `__next__` method is invoked eleven times - the first ten times produce useful values, while the eleventh terminates the iteration.\n"
   ],
   "metadata": {
    "collapsed": false
   }
  },
  {
   "cell_type": "code",
   "execution_count": 3,
   "outputs": [
    {
     "name": "stdout",
     "output_type": "stream",
     "text": [
      "__init__\n",
      "__iter__\n",
      "__next__\n",
      "1\n",
      "__next__\n",
      "1\n",
      "__next__\n",
      "2\n",
      "__next__\n",
      "3\n",
      "__next__\n",
      "5\n",
      "__next__\n",
      "8\n",
      "__next__\n",
      "13\n",
      "__next__\n",
      "21\n",
      "__next__\n",
      "34\n",
      "__next__\n",
      "55\n",
      "__next__\n"
     ]
    }
   ],
   "source": [
    "class Fib:\n",
    "    def __init__(self, nn):\n",
    "        print(\"__init__\")\n",
    "        self.__n = nn\n",
    "        self.__i = 0\n",
    "        self.__p1 = self.__p2 = 1\n",
    "\n",
    "    def __iter__(self):\n",
    "        print(\"__iter__\")\n",
    "        return self\n",
    "\n",
    "    def __next__(self):\n",
    "        print(\"__next__\")\n",
    "        self.__i += 1\n",
    "        if self.__i > self.__n:\n",
    "            raise StopIteration\n",
    "        if self.__i in [1, 2]:\n",
    "            return 1\n",
    "        ret = self.__p1 + self.__p2\n",
    "        self.__p1, self.__p2 = self.__p2, ret\n",
    "        return ret\n",
    "\n",
    "\n",
    "for i in Fib(10):\n",
    "    print(i)\n"
   ],
   "metadata": {
    "collapsed": false,
    "ExecuteTime": {
     "end_time": "2023-05-30T18:17:31.661647411Z",
     "start_time": "2023-05-30T18:17:31.618243820Z"
    }
   }
  },
  {
   "cell_type": "markdown",
   "source": [
    "## Generators - where to find them: continued\n",
    "\n",
    "The previous example shows you a solution where the **iterator object is a part of a more complex class**.\n",
    "\n",
    "The code isn't really sophisticated, but it presents the concept in a clear way.\n",
    "\n",
    "Take a look at the code in the editor.\n",
    "\n",
    "We've built the `Fib` iterator into another class (we can say that we've composed it into the `Class` class). It's instantiated along with `Class`'s object.\n",
    "\n",
    "The object of the class may be used as an iterator when (and only when) it positively answers to the `__iter__` invocation - this class can do it, and if it's invoked in this way, it provides an object able to obey the iteration protocol.\n",
    "\n",
    "This is why the output of the code is the same as previously, although the object of the `Fib` class isn't used explicitly inside the `for` loop's context.\n"
   ],
   "metadata": {
    "collapsed": false
   }
  },
  {
   "cell_type": "code",
   "execution_count": 5,
   "outputs": [
    {
     "name": "stdout",
     "output_type": "stream",
     "text": [
      "Class iter\n",
      "1\n",
      "1\n",
      "2\n",
      "3\n",
      "5\n",
      "8\n",
      "13\n",
      "21\n",
      "34\n",
      "55\n"
     ]
    }
   ],
   "source": [
    "class Fib:\n",
    "    def __init__(self, nn):\n",
    "        self.__n = nn\n",
    "        self.__i = 0\n",
    "        self.__p1 = self.__p2 = 1\n",
    "\n",
    "    def __iter__(self):\n",
    "        print(\"Fib iter\")\n",
    "        return self\n",
    "\n",
    "    def __next__(self):\n",
    "        self.__i += 1\n",
    "        if self.__i > self.__n:\n",
    "            raise StopIteration\n",
    "        if self.__i in [1, 2]:\n",
    "            return 1\n",
    "        ret = self.__p1 + self.__p2\n",
    "        self.__p1, self.__p2 = self.__p2, ret\n",
    "        return ret\n",
    "\n",
    "class Class:\n",
    "    def __init__(self, n):\n",
    "        self.__iter = Fib(n)\n",
    "\n",
    "    def __iter__(self):\n",
    "        print(\"Class iter\")\n",
    "        return self.__iter;\n",
    "\n",
    "\n",
    "object = Class(10)\n",
    "\n",
    "for i in object:\n",
    "    print(i)"
   ],
   "metadata": {
    "collapsed": false,
    "ExecuteTime": {
     "end_time": "2023-05-30T18:26:11.033848719Z",
     "start_time": "2023-05-30T18:26:10.992808605Z"
    }
   }
  },
  {
   "cell_type": "markdown",
   "source": [
    "### The yield statement\n",
    "\n",
    "The iterator protocol isn't particularly difficult to understand and use, but it is also indisputable that the **protocol is rather inconvenient**.\n",
    "\n",
    "The main discomfort it brings is **the need to save the state of the iteration between subsequent `__iter__` invocations**.\n",
    "\n",
    "For example, the `Fib` iterator is forced to precisely store the place in which the last invocation has been stopped (i.e., the evaluated number and the values of the two previous elements). This makes the code larger and less comprehensible.\n",
    "\n",
    "This is why Python offers a much more effective, convenient, and elegant way of writing iterators.\n",
    "\n",
    "The concept is fundamentally based on a very specific and powerful mechanism provided by the `yield` keyword.\n",
    "\n",
    "You may think of the `yield` keyword as a smarter sibling of the `return` statement, with one essential difference.\n",
    "\n",
    "Take a look at this function:\n",
    "\n",
    "```python\n",
    "def fun(n):\n",
    "    for i in range(n):\n",
    "        return i\n",
    "\n",
    "\n",
    "```\n",
    "\n",
    "It looks strange, doesn't it? It's clear that the `for` loop has no chance to finish its first execution, as the `return` will break it irrevocably.\n",
    "\n",
    "Moreover, invoking the function won't change anything - the `for` loop will start from scratch and will be broken immediately.\n",
    "\n",
    "We can say that such a function is not able to save and restore its state between subsequent invocations.\n",
    "\n",
    "This also means that a function like this **cannot be used as a generator**.\n",
    "\n",
    "We've replaced exactly one word in the code - can you see it?\n",
    "\n",
    "```python\n",
    "def fun(n):\n",
    "    for i in range(n):\n",
    "        yield i\n",
    "\n",
    "```\n",
    "\n",
    "We've added `yield` instead of `return`. This little amendment **turns the function into a generator**, and executing the `yield` statement has some very interesting effects.\n",
    "\n",
    "First of all, it provides the value of the expression specified after the `yield` keyword, just like `return`, but doesn't lose the state of the function.\n",
    "\n",
    "All the variables' values are frozen, and wait for the next invocation, when the execution is resumed (not taken from scratch, like after `return`).\n",
    "\n",
    "There is one important limitation: such a **function should not be invoked explicitly** as - in fact - it isn't a function anymore; **it's a generator object**.\n",
    "\n",
    "The invocation will **return the object's identifier**, not the series we expect from the generator.\n",
    "\n",
    "Due to the same reasons, the previous function (the one with the `return` statement) may only be invoked explicitly, and must not be used as a generator.\n",
    "\n",
    "### How to build a generator\n",
    "\n",
    "Let us show you the new generator in action.\n",
    "\n",
    "This is how we can use it:\n",
    "\n",
    "```python\n",
    "def fun(n):\n",
    "    for i in range(n):\n",
    "        yield i\n",
    "\n",
    "\n",
    "for v in fun(5):\n",
    "    print(v)\n",
    "\n",
    "```\n",
    "\n",
    "Can you guess the output?"
   ],
   "metadata": {
    "collapsed": false
   }
  },
  {
   "cell_type": "code",
   "execution_count": 7,
   "outputs": [
    {
     "data": {
      "text/plain": "0"
     },
     "execution_count": 7,
     "metadata": {},
     "output_type": "execute_result"
    }
   ],
   "source": [
    "def fun(n):\n",
    "    for i in range(n):\n",
    "        return i\n",
    "\n",
    "fun(10)"
   ],
   "metadata": {
    "collapsed": false,
    "ExecuteTime": {
     "end_time": "2023-05-30T18:30:41.730271322Z",
     "start_time": "2023-05-30T18:30:41.722650302Z"
    }
   }
  },
  {
   "cell_type": "code",
   "execution_count": 10,
   "outputs": [
    {
     "data": {
      "text/plain": "<generator object fun at 0x7f98780b9c40>"
     },
     "execution_count": 10,
     "metadata": {},
     "output_type": "execute_result"
    }
   ],
   "source": [
    "def fun(n):\n",
    "    for i in range(n):\n",
    "        yield i\n",
    "\n",
    "fun(10)"
   ],
   "metadata": {
    "collapsed": false,
    "ExecuteTime": {
     "end_time": "2023-05-30T18:31:57.722074681Z",
     "start_time": "2023-05-30T18:31:57.678755061Z"
    }
   }
  },
  {
   "cell_type": "code",
   "execution_count": 11,
   "outputs": [
    {
     "name": "stdout",
     "output_type": "stream",
     "text": [
      "0\n",
      "1\n",
      "2\n",
      "3\n",
      "4\n"
     ]
    }
   ],
   "source": [
    "def fun(n):\n",
    "    for i in range(n):\n",
    "        yield i\n",
    "\n",
    "\n",
    "for v in fun(5):\n",
    "    print(v)\n"
   ],
   "metadata": {
    "collapsed": false,
    "ExecuteTime": {
     "end_time": "2023-05-30T18:33:42.057632739Z",
     "start_time": "2023-05-30T18:33:42.022073897Z"
    }
   }
  },
  {
   "cell_type": "markdown",
   "source": [
    "### How to build your own generator\n",
    "\n",
    "What if you need a **generator to produce the first _n_ powers of _2_**?\n",
    "\n",
    "Nothing easier. Just look at the code below:\n",
    "\n",
    "```python\n",
    "def powers_of_2(n):\n",
    "    power = 1\n",
    "    for i in range(n):\n",
    "        yield power\n",
    "        power *= 2\n",
    "\n",
    "\n",
    "for v in powers_of_2(8):\n",
    "    print(v)\n",
    "\n",
    "```\n",
    "\n",
    "Can you guess the output? Copy the code to the editor and run it to check your guesses.\n",
    "\n",
    "**List comprehensions**\n",
    "\n",
    "Generators may also be used within **list comprehensions**, just like here:\n",
    "\n",
    "```python\n",
    "def powers_of_2(n):\n",
    "    power = 1\n",
    "    for i in range(n):\n",
    "        yield power\n",
    "        power *= 2\n",
    "\n",
    "\n",
    "t = [x for x in powers_of_2(5)]\n",
    "print(t)\n",
    "\n",
    "\n",
    "```\n",
    "\n",
    "Run the example and check the output.\n",
    "\n",
    "**The list() function**\n",
    "\n",
    "The `list()` function can transform a series of subsequent generator invocations into **a real list**:\n",
    "\n",
    "```python\n",
    "def powers_of_2(n):\n",
    "    power = 1\n",
    "    for i in range(n):\n",
    "        yield power\n",
    "        power *= 2\n",
    "\n",
    "\n",
    "t = list(powers_of_2(3))\n",
    "print(t)\n",
    "\n",
    "\n",
    "```\n",
    "\n",
    "Again, try to predict the output and run the code to check your predictions.\n",
    "\n",
    "**The in operator**\n",
    "\n",
    "Moreover, the context created by the `in` operator allows you to use a generator, too.\n",
    "\n",
    "The example shows how to do it:\n",
    "\n",
    "```python\n",
    "def powers_of_2(n):\n",
    "    power = 1\n",
    "    for i in range(n):\n",
    "        yield power\n",
    "        power *= 2\n",
    "\n",
    "\n",
    "for i in range(20):\n",
    "    if i in powers_of_2(4):\n",
    "        print(i)\n",
    "\n",
    "```\n",
    "\n",
    "What's the code's output? Run the program and check.\n",
    "\n",
    "**The Fibanacci number generator**\n",
    "\n",
    "Now let's see a **Fibonacci number generator**, and ensure that it looks much better than the objective version based on the direct iterator protocol implementation.\n",
    "\n",
    "Here it is:\n",
    "\n",
    "```python\n",
    "def fibonacci(n):\n",
    "    p = pp = 1\n",
    "    for i in range(n):\n",
    "        if i in [0, 1]:\n",
    "            yield 1\n",
    "        else:\n",
    "            n = p + pp\n",
    "            pp, p = p, n\n",
    "            yield n\n",
    "\n",
    "fibs = list(fibonacci(10))\n",
    "print(fibs)\n",
    "\n",
    "```\n",
    "\n",
    "Guess the output (a list) produced by the generator, and run the code to check if you were right.\n"
   ],
   "metadata": {
    "collapsed": false
   }
  },
  {
   "cell_type": "code",
   "execution_count": 1,
   "outputs": [
    {
     "name": "stdout",
     "output_type": "stream",
     "text": [
      "1\n",
      "2\n",
      "4\n",
      "8\n",
      "16\n",
      "32\n",
      "64\n",
      "128\n"
     ]
    }
   ],
   "source": [
    "def powers_of_2(n):\n",
    "    power = 1\n",
    "    for i in range(n):\n",
    "        yield power\n",
    "        power *= 2\n",
    "\n",
    "\n",
    "for v in powers_of_2(8):\n",
    "    print(v)\n"
   ],
   "metadata": {
    "collapsed": false,
    "ExecuteTime": {
     "end_time": "2023-05-30T18:48:59.019791172Z",
     "start_time": "2023-05-30T18:48:59.018915488Z"
    }
   }
  },
  {
   "cell_type": "code",
   "execution_count": 5,
   "outputs": [
    {
     "name": "stdout",
     "output_type": "stream",
     "text": [
      "[1, 2, 4, 8, 16]\n"
     ]
    }
   ],
   "source": [
    "t = [x for x in powers_of_2(5)]\n",
    "print(t)\n"
   ],
   "metadata": {
    "collapsed": false,
    "ExecuteTime": {
     "end_time": "2023-05-30T18:52:10.218555966Z",
     "start_time": "2023-05-30T18:52:10.176073779Z"
    }
   }
  },
  {
   "cell_type": "code",
   "execution_count": 4,
   "outputs": [
    {
     "name": "stdout",
     "output_type": "stream",
     "text": [
      "[2, 4, 8, 16, 32]\n"
     ]
    }
   ],
   "source": [
    "t = [x*2 for x in powers_of_2(5)]\n",
    "print(t)"
   ],
   "metadata": {
    "collapsed": false,
    "ExecuteTime": {
     "end_time": "2023-05-30T18:51:28.369869264Z",
     "start_time": "2023-05-30T18:51:28.359884249Z"
    }
   }
  },
  {
   "cell_type": "code",
   "execution_count": 7,
   "outputs": [
    {
     "name": "stdout",
     "output_type": "stream",
     "text": [
      "[1, 2, 4]\n"
     ]
    }
   ],
   "source": [
    "t = list(powers_of_2(3))\n",
    "print(t)"
   ],
   "metadata": {
    "collapsed": false,
    "ExecuteTime": {
     "end_time": "2023-05-30T19:04:19.327264919Z",
     "start_time": "2023-05-30T19:04:19.318447108Z"
    }
   }
  },
  {
   "cell_type": "code",
   "execution_count": 8,
   "outputs": [
    {
     "name": "stdout",
     "output_type": "stream",
     "text": [
      "1\n",
      "2\n",
      "4\n",
      "8\n"
     ]
    }
   ],
   "source": [
    "for i in range(20):\n",
    "    if i in powers_of_2(4):\n",
    "        print(i)\n"
   ],
   "metadata": {
    "collapsed": false,
    "ExecuteTime": {
     "end_time": "2023-05-30T19:06:02.340558205Z",
     "start_time": "2023-05-30T19:06:02.317531372Z"
    }
   }
  },
  {
   "cell_type": "code",
   "execution_count": 9,
   "outputs": [
    {
     "name": "stdout",
     "output_type": "stream",
     "text": [
      "[1, 1, 2, 3, 5, 8, 13, 21, 34, 55]\n"
     ]
    }
   ],
   "source": [
    "def fibonacci(n):\n",
    "    p = pp = 1\n",
    "    for i in range(n):\n",
    "        if i in [0, 1]:\n",
    "            yield 1\n",
    "        else:\n",
    "            n = p + pp\n",
    "            pp, p = p, n\n",
    "            yield n\n",
    "\n",
    "fibs = list(fibonacci(10))\n",
    "print(fibs)\n"
   ],
   "metadata": {
    "collapsed": false,
    "ExecuteTime": {
     "end_time": "2023-05-30T19:08:04.589838277Z",
     "start_time": "2023-05-30T19:08:04.554726206Z"
    }
   }
  },
  {
   "cell_type": "markdown",
   "source": [
    "### More about list comprehensions\n",
    "\n",
    "You should be able to remember the rules governing the creation and use of a very special Python phenomenon named **list comprehension - a simple and very impressive way of creating lists and their contents**.\n",
    "\n",
    "In case you need it, we've provided a quick reminder in the editor.\n",
    "\n",
    "There are two parts inside the code, both creating a list containing a few of the first natural powers of ten.\n",
    "\n",
    "The former uses a routine way of utilizing the `for` loop, while the latter makes use of the list comprehension and builds the list in situ, without needing a loop, or any other extended code.\n",
    "\n",
    "It looks like the list is created inside itself - it's not true, of course, as Python has to perform nearly the same operations as in the first snippet, but it is indisputable that the second formalism is simply more elegant, and lets the reader avoid any unnecessary details.\n",
    "\n",
    "The example outputs two identical lines containing the following text:\n",
    "\n",
    "`[1, 10, 100, 1000, 10000, 100000]`\n",
    "`[1, 10, 100, 1000, 10000, 100000]`\n"
   ],
   "metadata": {
    "collapsed": false
   }
  },
  {
   "cell_type": "code",
   "execution_count": 10,
   "outputs": [
    {
     "name": "stdout",
     "output_type": "stream",
     "text": [
      "[1, 10, 100, 1000, 10000, 100000]\n",
      "[1, 10, 100, 1000, 10000, 100000]\n"
     ]
    }
   ],
   "source": [
    "# the first way\n",
    "list_1 = []\n",
    "for ex in range(6):\n",
    "    list_1.append(10 ** ex)\n",
    "\n",
    "# the second way\n",
    "list_2 = [10 ** ex for ex in range(6)]\n",
    "\n",
    "# both lists are the same\n",
    "print(list_1)\n",
    "print(list_2)\n"
   ],
   "metadata": {
    "collapsed": false,
    "ExecuteTime": {
     "end_time": "2023-05-30T19:13:15.958598630Z",
     "start_time": "2023-05-30T19:13:15.923470249Z"
    }
   }
  },
  {
   "cell_type": "code",
   "execution_count": 23,
   "outputs": [],
   "source": [
    "List_str = ['__' + strs + '__' for strs in 'Python']"
   ],
   "metadata": {
    "collapsed": false,
    "ExecuteTime": {
     "end_time": "2023-05-30T19:16:34.534410728Z",
     "start_time": "2023-05-30T19:16:34.493173392Z"
    }
   }
  },
  {
   "cell_type": "code",
   "execution_count": 24,
   "outputs": [
    {
     "name": "stdout",
     "output_type": "stream",
     "text": [
      "['__P__', '__y__', '__t__', '__h__', '__o__', '__n__']\n"
     ]
    }
   ],
   "source": [
    "print(List_str)"
   ],
   "metadata": {
    "collapsed": false,
    "ExecuteTime": {
     "end_time": "2023-05-30T19:16:34.918668910Z",
     "start_time": "2023-05-30T19:16:34.914834957Z"
    }
   }
  },
  {
   "cell_type": "markdown",
   "source": [
    "### More about list comprehensions: continued\n",
    "\n",
    "There is a very interesting syntax we want to show you now. Its usability is not limited to list comprehensions, but we have to admit that comprehensions are the ideal environment for it.\n",
    "\n",
    "It's a **conditional expression - a way of selecting one of two different values based on the result of a Boolean expression**.\n",
    "\n",
    "Look:\n",
    "\n",
    "expression\\_one if condition else expression\\_two\n",
    "\n",
    "It may look a bit surprising at first glance, but you have to keep in mind that it is **not a conditional instruction**. Moreover, it's not an instruction at all. It's an operator.\n",
    "\n",
    "The value it provides is equal to expression\\_one when the condition is `True`, and expression\\_two otherwise.\n",
    "\n",
    "A good example will tell you more. Look at the code in the editor.\n",
    "\n",
    "The code fills a list with `1`'s and `0`s - if the index of a particular element is odd, the element is set to `0`, and to `1` otherwise.\n",
    "\n",
    "Simple? Maybe not at first glance. Elegant? Indisputably.\n",
    "\n",
    "Can you use the same trick within a list comprehension? Yes, you can.\n"
   ],
   "metadata": {
    "collapsed": false
   }
  },
  {
   "cell_type": "code",
   "execution_count": 25,
   "outputs": [
    {
     "name": "stdout",
     "output_type": "stream",
     "text": [
      "[1, 0, 1, 0, 1, 0, 1, 0, 1, 0]\n"
     ]
    }
   ],
   "source": [
    "the_list = []\n",
    "\n",
    "for x in range(10):\n",
    "    the_list.append(1 if x % 2 == 0 else 0)\n",
    "\n",
    "print(the_list)\n"
   ],
   "metadata": {
    "collapsed": false,
    "ExecuteTime": {
     "end_time": "2023-05-30T19:18:35.404947911Z",
     "start_time": "2023-05-30T19:18:35.371485814Z"
    }
   }
  },
  {
   "cell_type": "code",
   "execution_count": 28,
   "outputs": [
    {
     "name": "stdout",
     "output_type": "stream",
     "text": [
      "[1, 0, 1, 0, 1, 0, 1, 0, 1, 0]\n"
     ]
    }
   ],
   "source": [
    "the_list = [1 if x % 2 == 0 else 0 for x in range(10)]\n",
    "print(the_list)"
   ],
   "metadata": {
    "collapsed": false,
    "ExecuteTime": {
     "end_time": "2023-05-30T19:22:05.994417575Z",
     "start_time": "2023-05-30T19:22:05.952280698Z"
    }
   }
  },
  {
   "cell_type": "markdown",
   "source": [
    "### More about list comprehensions: continued\n",
    "\n",
    "Look at the example in the editor.\n",
    "\n",
    "Compactness and elegance - these two words come to mind when looking at the code.\n",
    "\n",
    "So, what do they have in common, generators and list comprehensions? Is there any connection between them? Yes. A rather loose connection, but an unequivocal one.\n",
    "\n",
    "Just one change can **turn any list comprehension into a generator**.\n",
    "\n",
    "**List comprehensions vs. generators**\n",
    "\n",
    "Now look at the code below and see if you can find the detail that turns a list comprehension into a generator:\n",
    "\n",
    "```python\n",
    "the_list = [1 if x % 2 == 0 else 0 for x in range(10)]\n",
    "the_generator = (1 if x % 2 == 0 else 0 for x in range(10))\n",
    "\n",
    "for v in the_list:\n",
    "    print(v, end=\" \")\n",
    "print()\n",
    "\n",
    "for v in the_generator:\n",
    "    print(v, end=\" \")\n",
    "print()\n",
    "\n",
    "```\n",
    "\n",
    "It's the **parentheses**. The brackets make a comprehension, the parentheses make a generator.\n",
    "\n",
    "The code, however, when run, produces two identical lines:\n",
    "\n",
    "`1 0 1 0 1 0 1 0 1 0 1 0 1 0 1 0 1 0 1 0`\n",
    "\n",
    "How can you know that the second assignment creates a generator, not a list?\n",
    "\n",
    "There is some proof we can show you. Apply the `len()` function to both these entities.\n",
    "\n",
    "`len(the_list)` will evaluate to `10`. Clear and predictable. `len(the_generator)` will raise an exception, and you will see the following message:\n",
    "\n",
    "`TypeError: object of type 'generator' has no len()`\n",
    "\n",
    "Of course, saving either the list or the generator is not necessary - you can create them exactly in the place where you need them - just like here:\n",
    "\n",
    "```python\n",
    "for v in [1 if x % 2 == 0 else 0 for x in range(10)]:\n",
    "    print(v, end=\" \")\n",
    "print()\n",
    "\n",
    "for v in (1 if x % 2 == 0 else 0 for x in range(10)):\n",
    "    print(v, end=\" \")\n",
    "print()\n",
    "\n",
    "```\n",
    "\n",
    "Note: the same appearance of the output doesn't mean that both loops work in the same way. In the first loop, the list is created (and iterated through) as a whole - it actually exists when the loop is being executed.\n",
    "\n",
    "In the second loop, there is no list at all - there are only subsequent values produced by the generator, one by one.\n",
    "\n",
    "Carry out your own experiments."
   ],
   "metadata": {
    "collapsed": false
   }
  },
  {
   "cell_type": "code",
   "execution_count": 29,
   "outputs": [
    {
     "name": "stdout",
     "output_type": "stream",
     "text": [
      "[1, 0, 1, 0, 1, 0, 1, 0, 1, 0]\n"
     ]
    }
   ],
   "source": [
    "the_list = [1 if x % 2 == 0 else 0 for x in range(10)]\n",
    "\n",
    "print(the_list)\n"
   ],
   "metadata": {
    "collapsed": false,
    "ExecuteTime": {
     "end_time": "2023-05-31T18:00:36.384831383Z",
     "start_time": "2023-05-31T18:00:36.370496014Z"
    }
   }
  },
  {
   "cell_type": "code",
   "execution_count": 31,
   "outputs": [
    {
     "name": "stdout",
     "output_type": "stream",
     "text": [
      "1 0 1 0 1 0 1 0 1 0 \n",
      "1 0 1 0 1 0 1 0 1 0 \n",
      "[1, 0, 1, 0, 1, 0, 1, 0, 1, 0]\n",
      "<generator object <genexpr> at 0x7f36400c3220>\n"
     ]
    }
   ],
   "source": [
    "the_list = [1 if x % 2 == 0 else 0 for x in range(10)]\n",
    "the_generator = (1 if x % 2 == 0 else 0 for x in range(10))\n",
    "\n",
    "for v in the_list:\n",
    "    print(v, end=\" \")\n",
    "print()\n",
    "\n",
    "for v in the_generator:\n",
    "    print(v, end=\" \")\n",
    "print()\n",
    "\n",
    "print(the_list)\n",
    "print(the_generator)"
   ],
   "metadata": {
    "collapsed": false,
    "ExecuteTime": {
     "end_time": "2023-05-31T18:03:16.097965556Z",
     "start_time": "2023-05-31T18:03:16.081731867Z"
    }
   }
  },
  {
   "cell_type": "code",
   "execution_count": 33,
   "outputs": [
    {
     "name": "stdout",
     "output_type": "stream",
     "text": [
      "10\n"
     ]
    },
    {
     "ename": "TypeError",
     "evalue": "object of type 'generator' has no len()",
     "output_type": "error",
     "traceback": [
      "\u001B[0;31m---------------------------------------------------------------------------\u001B[0m",
      "\u001B[0;31mTypeError\u001B[0m                                 Traceback (most recent call last)",
      "Cell \u001B[0;32mIn[33], line 2\u001B[0m\n\u001B[1;32m      1\u001B[0m \u001B[38;5;28mprint\u001B[39m(\u001B[38;5;28mlen\u001B[39m(the_list))\n\u001B[0;32m----> 2\u001B[0m \u001B[38;5;28mprint\u001B[39m(\u001B[38;5;28;43mlen\u001B[39;49m\u001B[43m(\u001B[49m\u001B[43mthe_generator\u001B[49m\u001B[43m)\u001B[49m)\n",
      "\u001B[0;31mTypeError\u001B[0m: object of type 'generator' has no len()"
     ]
    }
   ],
   "source": [
    "print(len(the_list))\n",
    "print(len(the_generator))"
   ],
   "metadata": {
    "collapsed": false,
    "ExecuteTime": {
     "end_time": "2023-05-31T18:04:45.820450063Z",
     "start_time": "2023-05-31T18:04:45.796978321Z"
    }
   }
  },
  {
   "cell_type": "code",
   "execution_count": 35,
   "outputs": [
    {
     "name": "stdout",
     "output_type": "stream",
     "text": [
      "<class 'list'>\n",
      "<class 'generator'>\n"
     ]
    }
   ],
   "source": [
    "print(type(the_list))\n",
    "print(type(the_generator))"
   ],
   "metadata": {
    "collapsed": false,
    "ExecuteTime": {
     "end_time": "2023-05-31T18:05:42.482052921Z",
     "start_time": "2023-05-31T18:05:42.447061855Z"
    }
   }
  },
  {
   "cell_type": "code",
   "execution_count": 36,
   "outputs": [
    {
     "name": "stdout",
     "output_type": "stream",
     "text": [
      "1 0 1 0 1 0 1 0 1 0 \n",
      "1 0 1 0 1 0 1 0 1 0 \n"
     ]
    }
   ],
   "source": [
    "for v in [1 if x % 2 == 0 else 0 for x in range(10)]:\n",
    "    print(v, end=\" \")\n",
    "print()\n",
    "\n",
    "for v in (1 if x % 2 == 0 else 0 for x in range(10)):\n",
    "    print(v, end=\" \")\n",
    "print()\n",
    "\n"
   ],
   "metadata": {
    "collapsed": false,
    "ExecuteTime": {
     "end_time": "2023-05-31T18:05:52.234423040Z",
     "start_time": "2023-05-31T18:05:52.204851678Z"
    }
   }
  },
  {
   "cell_type": "markdown",
   "source": [
    "## The lambda function\n",
    "\n",
    "The `lambda` function is a concept borrowed from mathematics, more specifically, from a part called _the Lambda calculus_, but these two phenomena are not the same.\n",
    "\n",
    "Mathematicians use _the Lambda calculus_ in many formal systems connected with logic, recursion, or theorem provability. Programmers use the `lambda` function to simplify the code, to make it clearer and easier to understand.\n",
    "\n",
    "A `lambda` function is a function without a name (you can also call it **an anonymous function**). Of course, such a statement immediately raises the question: how do you use anything that cannot be identified?\n",
    "\n",
    "Fortunately, it's not a problem, as you can name such a function if you really need, but, in fact, in many cases the `lambda` function can exist and work while remaining fully incognito.\n",
    "\n",
    "The declaration of the `lambda` function doesn't resemble a normal function declaration in any way - see for yourself:\n",
    "\n",
    "`lambda parameters: expression`\n",
    "\n",
    "Such a clause **returns the value of the expression when taking into account the current value of the current `lambda` argument**.\n",
    "\n",
    "As usual, an example will be helpful. Our example uses three `lambda` functions, but gives them names. Look at it carefully:\n",
    "\n",
    "```python\n",
    "two = lambda: 2\n",
    "sqr = lambda x: x * x\n",
    "pwr = lambda x, y: x ** y\n",
    "\n",
    "for a in range(-2, 3):\n",
    "    print(sqr(a), end=\" \")\n",
    "    print(pwr(a, two()))\n",
    "\n",
    "```\n",
    "\n",
    "Let's analzye it:\n",
    "\n",
    "-   the first `lambda` is an anonymous **parameterless function** that always returns `2`. As we've **assigned it to a variable named `two`**, we can say that the function is not anonymous anymore, and we can use the name to invoke it.\n",
    "\n",
    "-   the second one is a **one-parameter anonymous function** that returns the value of its squared argument. We've named it as such, too.\n",
    "\n",
    "-   the third `lambda` **takes two parameters** and returns the value of the first one raised to the power of the second one. The name of the variable which carries the `lambda` speaks for itself. We don't use `pow` to avoid confusion with the built-in function of the same name and the same purpose.\n",
    "\n",
    "\n",
    "The program produces the following output:\n",
    "\n",
    "`4 4 1 1 0 0 1 1 4 4`\n",
    "\n",
    "**output**\n",
    "\n",
    "This example is clear enough to show how `lambda`s are declared and how they behave, but it says nothing about why they're necessary, and what they're used for, since they can all be replaced with routine Python functions.\n",
    "\n",
    "Where is the benefit?"
   ],
   "metadata": {
    "collapsed": false
   }
  },
  {
   "cell_type": "code",
   "execution_count": 37,
   "outputs": [
    {
     "name": "stdout",
     "output_type": "stream",
     "text": [
      "4 4\n",
      "1 1\n",
      "0 0\n",
      "1 1\n",
      "4 4\n"
     ]
    }
   ],
   "source": [
    "two = lambda: 2\n",
    "sqr = lambda x: x * x\n",
    "pwr = lambda x, y: x ** y\n",
    "\n",
    "for a in range(-2, 3):\n",
    "    print(sqr(a), end=\" \")\n",
    "    print(pwr(a, two()))\n",
    "\n"
   ],
   "metadata": {
    "collapsed": false,
    "ExecuteTime": {
     "end_time": "2023-05-31T18:10:05.696241321Z",
     "start_time": "2023-05-31T18:10:05.658109576Z"
    }
   }
  },
  {
   "cell_type": "markdown",
   "source": [
    "### How to use lambdas and what for?\n",
    "\n",
    "The most interesting part of using lambdas appears when you can use them in their pure form - **as anonymous parts of code intended to evaluate a result**.\n",
    "\n",
    "Imagine that we need a function (we'll name it `print_function`) which prints the values of a given (other) function for a set of selected arguments.\n",
    "\n",
    "We want `print_function` to be universal - it should accept a set of arguments put in a list and a function to be evaluated, both as arguments - we don't want to hardcode anything.\n",
    "\n",
    "Look at the example in the editor. This is how we've implemented the idea.\n",
    "\n",
    "Let's analyze it. The `print_function()` function takes two parameters:\n",
    "\n",
    "-   the first, a list of arguments for which we want to print the results;\n",
    "-   the second, a function which should be invoked as many times as the number of values that are collected inside the first parameter.\n",
    "\n",
    "Note: we've also defined a function named `poly()` - this is the function whose values we're going to print. The calculation the function performs isn't very sophisticated - it's the polynomial (hence its name) of a form:\n",
    "\n",
    "f(x) = 2x<sup>2</sup> - 4x + 2\n",
    "\n",
    "The name of the function is then passed to the `print_function()` along with a set of five different arguments - the set is built with a list comprehension clause.\n",
    "\n",
    "The code prints the following lines:\n",
    "\n",
    "`f(-2)=18 f(-1)=8 f(0)=2 f(1)=0 f(2)=2`\n",
    "\n",
    "**output**\n",
    "\n",
    "Can we avoid defining the `poly()` function, as we're not going to use it more than once? Yes, we can - this is the benefit a lambda can bring.\n",
    "\n",
    "Look at the example below. Can you see the difference?\n",
    "\n",
    "`def print_function(args, fun):`\n",
    "\n",
    "`for x in args:`\n",
    "\n",
    "`print('f(', x,')=', fun(x), sep='')`\n",
    "\n",
    "`print_function([x for x in range(-2, 3)], lambda x: 2 * x**2 - 4 * x + 2)`\n",
    "\n",
    "The `print_function()` has remained exactly the same, but there is no `poly()` function. We don't need it anymore, as the polynomial is now directly inside the `print_function()` invocation in the form of a lambda defined in the following way:\n",
    "\n",
    "`lambda x: 2 * x**2 - 4 * x + 2`\n",
    "\n",
    "The code has become shorter, clearer, and more legible.\n",
    "\n",
    "Let us show you another place where lambdas can be useful. We'll start with a description of `map()`, a built-in Python function. Its name isn't too descriptive, its idea is simple, and the function itself is really usable."
   ],
   "metadata": {
    "collapsed": false
   }
  },
  {
   "cell_type": "code",
   "execution_count": 39,
   "outputs": [
    {
     "name": "stdout",
     "output_type": "stream",
     "text": [
      "f(-2)=18\n",
      "f(-1)=8\n",
      "f(0)=2\n",
      "f(1)=0\n",
      "f(2)=2\n"
     ]
    }
   ],
   "source": [
    "def print_function(args, fun):\n",
    "    for x in args:\n",
    "        print('f(', x,')=', fun(x), sep='')\n",
    "\n",
    "\n",
    "def poly(x):\n",
    "    return 2 * x**2 - 4 * x + 2\n",
    "\n",
    "\n",
    "print_function([x for x in range(-2, 3)], poly)\n"
   ],
   "metadata": {
    "collapsed": false,
    "ExecuteTime": {
     "end_time": "2023-05-31T18:14:34.204411057Z",
     "start_time": "2023-05-31T18:14:34.162320710Z"
    }
   }
  },
  {
   "cell_type": "code",
   "execution_count": 47,
   "outputs": [
    {
     "name": "stdout",
     "output_type": "stream",
     "text": [
      "f(-2) = 18\n",
      "f(-1) = 8\n",
      "f(0) = 2\n",
      "f(1) = 0\n",
      "f(2) = 2\n"
     ]
    }
   ],
   "source": [
    "def print_function(args):\n",
    "    for x in args:\n",
    "        print('f(', x,') = ', (lambda x: 2 * x**2 -4 * x + 2)(x), sep='')\n",
    "\n",
    "print_function([x for x in range(-2, 3)])"
   ],
   "metadata": {
    "collapsed": false,
    "ExecuteTime": {
     "end_time": "2023-05-31T18:19:52.573869256Z",
     "start_time": "2023-05-31T18:19:52.569166903Z"
    }
   }
  },
  {
   "cell_type": "code",
   "execution_count": 48,
   "outputs": [
    {
     "name": "stdout",
     "output_type": "stream",
     "text": [
      "f(-2)=18\n",
      "f(-1)=8\n",
      "f(0)=2\n",
      "f(1)=0\n",
      "f(2)=2\n"
     ]
    }
   ],
   "source": [
    "def print_function(args, fun):\n",
    "    for x in args:\n",
    "        print('f(', x,')=', fun(x), sep='')\n",
    "\n",
    "print_function([x for x in range(-2, 3)], lambda x: 2 * x**2 - 4 * x + 2)\n",
    "\n"
   ],
   "metadata": {
    "collapsed": false,
    "ExecuteTime": {
     "end_time": "2023-05-31T18:20:26.147068026Z",
     "start_time": "2023-05-31T18:20:26.094848844Z"
    }
   }
  },
  {
   "cell_type": "markdown",
   "source": [
    "### Lambdas and the map() function\n",
    "\n",
    "In the simplest of all possible cases, the `map()` function:\n",
    "\n",
    "takes two arguments:\n",
    "\n",
    "-   a function;\n",
    "-   a list.\n",
    "\n",
    "The above description is extremely simplified, as:\n",
    "\n",
    "-   the second `map()` argument may be any entity that can be iterated (e.g., a tuple, or just a generator)\n",
    "-   `map()` can accept more than two arguments.\n",
    "\n",
    "The **`map()` function applies the function passed by its first argument to all its second argument's elements, and returns an iterator delivering all subsequent function results**.\n",
    "\n",
    "You can use the resulting iterator in a loop, or convert it into a list using the `list()` function.\n",
    "\n",
    "Can you see a role for any lambda here?\n",
    "\n",
    "Look at the code in the editor - we've used two lambdas in it.\n",
    "\n",
    "This is the intrigue:\n",
    "\n",
    "-   build the `list_1` with values from `0` to `4`;\n",
    "-   next, use `map` along with the first `lambda` to create a new list in which all elements have been evaluated as `2` raised to the power taken from the corresponding element from `list_1`;\n",
    "-   `list_2` is printed then;\n",
    "-   in the next step, use the `map()` function again to make use of the generator it returns and to directly print all the values it delivers; as you can see, we've engaged the second `lambda` here - it just squares each element from `list_2`.\n",
    "\n",
    "Try to imagine the same code without lambdas. Would it be any better? It's unlikely."
   ],
   "metadata": {
    "collapsed": false
   }
  },
  {
   "cell_type": "code",
   "execution_count": 49,
   "outputs": [
    {
     "name": "stdout",
     "output_type": "stream",
     "text": [
      "[1, 2, 4, 8, 16]\n",
      "1 4 16 64 256 \n"
     ]
    }
   ],
   "source": [
    "list_1 = [x for x in range(5)]\n",
    "list_2 = list(map(lambda x: 2 ** x, list_1))\n",
    "print(list_2)\n",
    "\n",
    "for x in map(lambda x: x * x, list_2):\n",
    "    print(x, end=' ')\n",
    "print()"
   ],
   "metadata": {
    "collapsed": false,
    "ExecuteTime": {
     "end_time": "2023-05-31T18:28:15.982183552Z",
     "start_time": "2023-05-31T18:28:15.935154921Z"
    }
   }
  },
  {
   "cell_type": "markdown",
   "source": [
    "### Lambdas and the filter() function\n",
    "\n",
    "Another Python function which can be significantly beautified by the application of a lambda is `filter()`.\n",
    "\n",
    "It expects the same kind of arguments as `map()`, but does something different - it **filters its second argument while being guided by directions flowing from the function specified as the first argument** (the function is invoked for each list element, just like in `map()`).\n",
    "\n",
    "The elements which return `True` from the function **pass the filter** - the others are rejected.\n",
    "\n",
    "The example in the editor shows the `filter()` function in action.\n",
    "\n",
    "Note: we've made use of the `random` module to initialize the random number generator (not to be confused with the generators we've just talked about) with the `seed()` function, and to produce five random integer values from `-10` to `10` using the `randint()` function.\n",
    "\n",
    "The list is then filtered, and only the numbers which are even and greater than zero are accepted.\n",
    "\n",
    "Of course, it's not likely that you'll receive the same results, but this is what our results looked like:\n",
    "\n",
    "`[6, 3, 3, 2, -7] [6, 2]`"
   ],
   "metadata": {
    "collapsed": false
   }
  },
  {
   "cell_type": "code",
   "execution_count": 57,
   "outputs": [
    {
     "name": "stdout",
     "output_type": "stream",
     "text": [
      "[2, 4, 0, 5, 5]\n",
      "[2, 4]\n"
     ]
    }
   ],
   "source": [
    "from random import seed, randint\n",
    "\n",
    "seed()\n",
    "data = [randint(-10,10) for x in range(5)]\n",
    "filtered = list(filter(lambda x: x > 0 and x % 2 == 0, data))\n",
    "\n",
    "print(data)\n",
    "print(filtered)\n"
   ],
   "metadata": {
    "collapsed": false,
    "ExecuteTime": {
     "end_time": "2023-05-31T18:32:57.949302002Z",
     "start_time": "2023-05-31T18:32:57.938823078Z"
    }
   }
  },
  {
   "cell_type": "markdown",
   "source": [
    "### A brief look at closures\n",
    "\n",
    "Let's start with a definition: **closure is a technique which allows the storing of values in spite of the fact that the context in which they have been created does not exist anymore**. Intricate? A bit.\n",
    "\n",
    "Let's analyze a simple example:\n",
    "\n",
    "```python\n",
    "def outer(par):\n",
    "    loc = par\n",
    "\n",
    "\n",
    "var = 1\n",
    "outer(var)\n",
    "\n",
    "print(par)\n",
    "print(loc)\n",
    "\n",
    "```\n",
    "\n",
    "The example is obviously erroneous.\n",
    "\n",
    "The last two lines will cause a NameError exception – neither `par` nor `loc` is accessible outside the function. Both the variables exist when and only when the `outer()` function is being executed.\n",
    "\n",
    "Look at the example in the editor. We've modified the code significantly.\n",
    "\n",
    "There is a brand new element in it – a function (named `inner`) inside another function (named `outer`).\n",
    "\n",
    "How does it work? Just like any other function except for the fact that `inner()` may be invoked only from within `outer()`. We can say that `inner()` is `outer()`'s private tool – no other part of the code can access it.\n",
    "\n",
    "Look carefully:\n",
    "\n",
    "-   the `inner()` function returns the value of the variable accessible inside its scope, as `inner()` can use any of the entities at the disposal of `outer()`\n",
    "-   the `outer()` function returns the `inner()` function itself; more precisely, it returns a copy of the `inner()` function, the one which was frozen at the moment of `outer()`'s invocation; the frozen function contains its full environment, including the state of all local variables, which also means that the value of `loc` is successfully retained, although `outer()` ceased to exist a long time ago.\n",
    "\n",
    "In effect, the code is fully valid, and outputs:\n",
    "\n",
    "`1`"
   ],
   "metadata": {
    "collapsed": false
   }
  },
  {
   "cell_type": "code",
   "execution_count": 59,
   "outputs": [
    {
     "ename": "NameError",
     "evalue": "name 'par' is not defined",
     "output_type": "error",
     "traceback": [
      "\u001B[0;31m---------------------------------------------------------------------------\u001B[0m",
      "\u001B[0;31mNameError\u001B[0m                                 Traceback (most recent call last)",
      "Cell \u001B[0;32mIn[59], line 8\u001B[0m\n\u001B[1;32m      5\u001B[0m var \u001B[38;5;241m=\u001B[39m \u001B[38;5;241m1\u001B[39m\n\u001B[1;32m      6\u001B[0m outer(var)\n\u001B[0;32m----> 8\u001B[0m \u001B[38;5;28mprint\u001B[39m(\u001B[43mpar\u001B[49m)\n\u001B[1;32m      9\u001B[0m \u001B[38;5;28mprint\u001B[39m(loc)\n",
      "\u001B[0;31mNameError\u001B[0m: name 'par' is not defined"
     ]
    }
   ],
   "source": [
    "def outer(par):\n",
    "    loc = par\n",
    "\n",
    "\n",
    "var = 1\n",
    "outer(var)\n",
    "\n",
    "print(par)\n",
    "print(loc)\n"
   ],
   "metadata": {
    "collapsed": false,
    "ExecuteTime": {
     "end_time": "2023-05-31T18:36:04.096903066Z",
     "start_time": "2023-05-31T18:36:04.046896911Z"
    }
   }
  },
  {
   "cell_type": "code",
   "execution_count": 58,
   "outputs": [
    {
     "name": "stdout",
     "output_type": "stream",
     "text": [
      "1\n"
     ]
    }
   ],
   "source": [
    "def outer(par):\n",
    "    loc = par\n",
    "\n",
    "    def inner():\n",
    "        return loc\n",
    "    return inner\n",
    "\n",
    "\n",
    "var = 1\n",
    "fun = outer(var)\n",
    "print(fun())\n"
   ],
   "metadata": {
    "collapsed": false,
    "ExecuteTime": {
     "end_time": "2023-05-31T18:35:33.136042980Z",
     "start_time": "2023-05-31T18:35:33.087960495Z"
    }
   }
  },
  {
   "cell_type": "markdown",
   "source": [
    "### A brief look at closures: continued\n",
    "\n",
    "**A closure has to be invoked in exactly the same way in which it has been declared**.\n",
    "\n",
    "In the example below:\n",
    "\n",
    "```python\n",
    "def outer(par):\n",
    "    loc = par\n",
    "\n",
    "    def inner():\n",
    "        return loc\n",
    "    return inner\n",
    "\n",
    "\n",
    "var = 1\n",
    "fun = outer(var)\n",
    "print(fun())\n",
    "\n",
    "```\n",
    "\n",
    "the `inner()` function is parameterless, so we have to invoke it without arguments.\n",
    "\n",
    "Now look at the code in the editor. It is fully possible to **declare a closure equipped with an arbitrary number of parameters**, e.g., one, just like the `power()` function.\n",
    "\n",
    "This means that the closure not only makes use of the frozen environment, but it can also **modify its behavior by using values taken from the outside**.\n",
    "\n",
    "This example shows one more interesting circumstance - you can **create as many closures as you want using one and the same piece of code**. This is done with a function named `make_closure()`. Note:\n",
    "\n",
    "-   the first closure obtained from `make_closure()` defines a tool squaring its argument;\n",
    "-   the second one is designed to cube the argument.\n",
    "\n",
    "This is why the code produces the following output:\n",
    "\n",
    "`0 0 0 1 1 1 2 4 8 3 9 27 4 16 64`\n",
    "\n",
    "**output**\n",
    "\n",
    "Carry out your own tests.\n"
   ],
   "metadata": {
    "collapsed": false
   }
  },
  {
   "cell_type": "code",
   "execution_count": 60,
   "outputs": [
    {
     "name": "stdout",
     "output_type": "stream",
     "text": [
      "1\n"
     ]
    }
   ],
   "source": [
    "def outer(par):\n",
    "    loc = par\n",
    "\n",
    "    def inner():\n",
    "        return loc\n",
    "    return inner\n",
    "\n",
    "\n",
    "var = 1\n",
    "fun = outer(var)\n",
    "print(fun())\n",
    "\n"
   ],
   "metadata": {
    "collapsed": false,
    "ExecuteTime": {
     "end_time": "2023-05-31T18:39:38.064552314Z",
     "start_time": "2023-05-31T18:39:38.002889242Z"
    }
   }
  },
  {
   "cell_type": "code",
   "execution_count": 61,
   "outputs": [
    {
     "name": "stdout",
     "output_type": "stream",
     "text": [
      "0 0 0\n",
      "1 1 1\n",
      "2 4 8\n",
      "3 9 27\n",
      "4 16 64\n"
     ]
    }
   ],
   "source": [
    "def make_closure(par):\n",
    "    loc = par\n",
    "\n",
    "    def power(p):\n",
    "        return p ** loc\n",
    "    return power\n",
    "\n",
    "\n",
    "fsqr = make_closure(2)\n",
    "fcub = make_closure(3)\n",
    "\n",
    "for i in range(5):\n",
    "    print(i, fsqr(i), fcub(i))\n"
   ],
   "metadata": {
    "collapsed": false,
    "ExecuteTime": {
     "end_time": "2023-05-31T18:40:44.012763345Z",
     "start_time": "2023-05-31T18:40:43.959377288Z"
    }
   }
  },
  {
   "cell_type": "code",
   "execution_count": 73,
   "outputs": [
    {
     "name": "stdout",
     "output_type": "stream",
     "text": [
      "16\n",
      "1024\n"
     ]
    }
   ],
   "source": [
    "f2 = make_closure(2)\n",
    "print(f2(4)) # 4 ** 2 = 16\n",
    "\n",
    "f5 = make_closure(5)\n",
    "print(f5(4)) # 4 ** 5 = 1024"
   ],
   "metadata": {
    "collapsed": false,
    "ExecuteTime": {
     "end_time": "2023-05-31T18:45:40.011932150Z",
     "start_time": "2023-05-31T18:45:39.959092640Z"
    }
   }
  },
  {
   "cell_type": "code",
   "execution_count": 72,
   "outputs": [
    {
     "data": {
      "text/plain": "1024"
     },
     "execution_count": 72,
     "metadata": {},
     "output_type": "execute_result"
    }
   ],
   "source": [
    "4**5"
   ],
   "metadata": {
    "collapsed": false,
    "ExecuteTime": {
     "end_time": "2023-05-31T18:45:23.292557660Z",
     "start_time": "2023-05-31T18:45:23.273057145Z"
    }
   }
  },
  {
   "cell_type": "markdown",
   "source": [
    "### Key takeaways\n",
    "\n",
    "1\\. An **iterator** is an object of a class providing at least **two** methods (not counting the constructor):\n",
    "\n",
    "-   `__iter__()` is invoked once when the iterator is created and returns the iterator's object **itself**;\n",
    "-   `__next__()` is invoked to provide the **next iteration's value** and raises the `StopIteration` exception when the iteration **comes to an end**."
   ],
   "metadata": {
    "collapsed": false
   }
  },
  {
   "cell_type": "markdown",
   "source": [
    "2\\. The `yield` statement can be used only inside functions. The `yield` statement suspends function execution and causes the function to return the yield's argument as a result. Such a function cannot be invoked in a regular way – its only purpose is to be used as a **generator** (i.e. in a context that requires a series of values, like a `for` loop.)"
   ],
   "metadata": {
    "collapsed": false
   }
  },
  {
   "cell_type": "markdown",
   "source": [
    "\n",
    "3\\. A **conditional expression** is an expression built using the `if-else` operator. For example:"
   ],
   "metadata": {
    "collapsed": false
   }
  },
  {
   "cell_type": "code",
   "execution_count": 74,
   "outputs": [
    {
     "name": "stdout",
     "output_type": "stream",
     "text": [
      "True\n"
     ]
    }
   ],
   "source": [
    "print(True if 0 >= 0 else False)\n"
   ],
   "metadata": {
    "collapsed": false,
    "ExecuteTime": {
     "end_time": "2023-05-31T18:52:11.902163397Z",
     "start_time": "2023-05-31T18:52:11.848161342Z"
    }
   }
  },
  {
   "cell_type": "markdown",
   "source": [
    "4\\. A **list comprehension** becomes a **generator** when used inside **parentheses** (used inside brackets, it produces a regular list). For example:\n"
   ],
   "metadata": {
    "collapsed": false
   }
  },
  {
   "cell_type": "code",
   "execution_count": 75,
   "outputs": [
    {
     "name": "stdout",
     "output_type": "stream",
     "text": [
      "0\n",
      "2\n",
      "4\n",
      "6\n",
      "8\n"
     ]
    }
   ],
   "source": [
    "for x in (el * 2 for el in range(5)):\n",
    "    print(x)\n"
   ],
   "metadata": {
    "collapsed": false,
    "ExecuteTime": {
     "end_time": "2023-05-31T18:54:27.328172161Z",
     "start_time": "2023-05-31T18:54:27.264355654Z"
    }
   }
  },
  {
   "cell_type": "code",
   "execution_count": 78,
   "outputs": [
    {
     "name": "stdout",
     "output_type": "stream",
     "text": [
      "0\n",
      "2\n",
      "4\n",
      "6\n",
      "8\n"
     ]
    }
   ],
   "source": [
    "for x in [el * 2 for el in range(5)]:\n",
    "    print(x)"
   ],
   "metadata": {
    "collapsed": false,
    "ExecuteTime": {
     "end_time": "2023-05-31T19:14:58.595172464Z",
     "start_time": "2023-05-31T19:14:58.574475738Z"
    }
   }
  },
  {
   "cell_type": "code",
   "execution_count": 79,
   "outputs": [
    {
     "name": "stdout",
     "output_type": "stream",
     "text": [
      "[0, 2, 4, 6, 8]\n",
      "<generator object <genexpr> at 0x7f364014f0d0>\n"
     ]
    }
   ],
   "source": [
    "print([el * 2 for el in range(5)])\n",
    "print((el * 2 for el in range(5)))"
   ],
   "metadata": {
    "collapsed": false,
    "ExecuteTime": {
     "end_time": "2023-05-31T19:15:32.132296688Z",
     "start_time": "2023-05-31T19:15:32.078361315Z"
    }
   }
  },
  {
   "cell_type": "markdown",
   "source": [
    "5\\. A **lambda function** is a tool for creating **anonymous functions**. For example:\n"
   ],
   "metadata": {
    "collapsed": false
   }
  },
  {
   "cell_type": "code",
   "execution_count": 80,
   "outputs": [
    {
     "name": "stdout",
     "output_type": "stream",
     "text": [
      "3.0\n"
     ]
    }
   ],
   "source": [
    "def foo(x, f):\n",
    "    return f(x)\n",
    "\n",
    "print(foo(9, lambda x: x ** 0.5))\n",
    "\n"
   ],
   "metadata": {
    "collapsed": false,
    "ExecuteTime": {
     "end_time": "2023-05-31T19:15:58.296909256Z",
     "start_time": "2023-05-31T19:15:58.262277195Z"
    }
   }
  },
  {
   "cell_type": "markdown",
   "source": [
    "6\\. The `map(fun, list)` function creates a **copy** of a `list` argument, and applies the `fun` function to all of its elements, returning a **generator** that provides the new list content element by element. For example:"
   ],
   "metadata": {
    "collapsed": false
   }
  },
  {
   "cell_type": "code",
   "execution_count": 81,
   "outputs": [
    {
     "name": "stdout",
     "output_type": "stream",
     "text": [
      "['Mython', 'Python', 'Fell', 'On', 'The', 'Floor']\n"
     ]
    }
   ],
   "source": [
    "short_list = ['mython', 'python', 'fell', 'on', 'the', 'floor']\n",
    "new_list = list(map(lambda s: s.title(), short_list))\n",
    "print(new_list)\n"
   ],
   "metadata": {
    "collapsed": false,
    "ExecuteTime": {
     "end_time": "2023-05-31T19:16:15.192261050Z",
     "start_time": "2023-05-31T19:16:15.117885397Z"
    }
   }
  },
  {
   "cell_type": "markdown",
   "source": [
    "7\\. The `filter(fun, list)` function creates a **copy** of those `list` elements, which cause the `fun` function to return `True`. The function's result is a **generator** providing the new list content element by element. For example:\n"
   ],
   "metadata": {
    "collapsed": false
   }
  },
  {
   "cell_type": "code",
   "execution_count": 82,
   "outputs": [
    {
     "name": "stdout",
     "output_type": "stream",
     "text": [
      "['Python', 'Monty']\n"
     ]
    }
   ],
   "source": [
    "short_list = [1, \"Python\", -1, \"Monty\"]\n",
    "new_list = list(filter(lambda s: isinstance(s, str), short_list))\n",
    "print(new_list)\n"
   ],
   "metadata": {
    "collapsed": false,
    "ExecuteTime": {
     "end_time": "2023-05-31T19:16:49.518219832Z",
     "start_time": "2023-05-31T19:16:49.454702712Z"
    }
   }
  },
  {
   "cell_type": "markdown",
   "source": [
    "8\\. A closure is a technique which allows the **storing of values** in spite of the fact that the **context** in which they have been created **does not exist anymore**\n",
    "\n",
    "For example:\n"
   ],
   "metadata": {
    "collapsed": false
   }
  },
  {
   "cell_type": "code",
   "execution_count": 83,
   "outputs": [
    {
     "name": "stdout",
     "output_type": "stream",
     "text": [
      "<b>Monty Python</b>\n"
     ]
    }
   ],
   "source": [
    "def tag(tg):\n",
    "    tg2 = tg\n",
    "    tg2 = tg[0] + '/' + tg[1:]\n",
    "\n",
    "    def inner(str):\n",
    "        return tg + str + tg2\n",
    "    return inner\n",
    "\n",
    "\n",
    "b_tag = tag('<b>')\n",
    "print(b_tag('Monty Python'))\n"
   ],
   "metadata": {
    "collapsed": false,
    "ExecuteTime": {
     "end_time": "2023-05-31T19:17:43.209044556Z",
     "start_time": "2023-05-31T19:17:43.141141098Z"
    }
   }
  },
  {
   "cell_type": "markdown",
   "source": [
    "**Exercise 1**\n",
    "\n",
    "What is the expected output of the following code?"
   ],
   "metadata": {
    "collapsed": false
   }
  },
  {
   "cell_type": "code",
   "execution_count": null,
   "outputs": [],
   "source": [
    "class Vowels:\n",
    "    def __init__(self):\n",
    "        self.vow = \"aeiouy \"  # Yes, we know that y is not always considered a vowel.\n",
    "        self.pos = 0\n",
    "\n",
    "    def __iter__(self):\n",
    "        return self\n",
    "\n",
    "    def __next__(self):\n",
    "        if self.pos == len(self.vow):\n",
    "            raise StopIteration\n",
    "        self.pos += 1\n",
    "        return self.vow[self.pos - 1]\n",
    "\n",
    "\n",
    "vowels = Vowels()\n",
    "for v in vowels:\n",
    "    print(v, end=' ')"
   ],
   "metadata": {
    "collapsed": false
   }
  },
  {
   "cell_type": "markdown",
   "source": [],
   "metadata": {
    "collapsed": false
   }
  },
  {
   "cell_type": "markdown",
   "source": [
    "**Exercise 2**\n",
    "\n",
    "Write a **lambda** function, setting the least significant bit of its integer argument, and apply it to the `map()` function to produce the string `1 3 3 5` on the console.\n"
   ],
   "metadata": {
    "collapsed": false
   }
  },
  {
   "cell_type": "code",
   "execution_count": 87,
   "outputs": [
    {
     "name": "stdout",
     "output_type": "stream",
     "text": [
      "[1, 3, 3, 5]\n"
     ]
    }
   ],
   "source": [
    "any_list = [1, 2, 3, 4]\n",
    "even_list = list(map(lambda x: x if x % 2 else x + 1, any_list))\n",
    "print(even_list)\n"
   ],
   "metadata": {
    "collapsed": false,
    "ExecuteTime": {
     "end_time": "2023-05-31T19:25:38.085460451Z",
     "start_time": "2023-05-31T19:25:38.040925637Z"
    }
   }
  },
  {
   "cell_type": "code",
   "execution_count": 88,
   "outputs": [
    {
     "name": "stdout",
     "output_type": "stream",
     "text": [
      "[1, 3, 3, 5]\n"
     ]
    }
   ],
   "source": [
    "any_list = [1, 2, 3, 4]\n",
    "even_list = list(map(lambda n: n | 1, any_list))\n",
    "print(even_list)"
   ],
   "metadata": {
    "collapsed": false,
    "ExecuteTime": {
     "end_time": "2023-05-31T19:26:21.239267240Z",
     "start_time": "2023-05-31T19:26:21.218674609Z"
    }
   }
  },
  {
   "cell_type": "markdown",
   "source": [
    "**Exercise 3**\n",
    "\n",
    "What is the expected output of the following code?"
   ],
   "metadata": {
    "collapsed": false
   }
  },
  {
   "cell_type": "code",
   "execution_count": null,
   "outputs": [],
   "source": [
    "def replace_spaces(replacement='*'):\n",
    "    def new_replacement(text):\n",
    "        return text.replace(' ', replacement)\n",
    "    return new_replacement\n",
    "\n",
    "\n",
    "stars = replace_spaces()\n",
    "print(stars(\"And Now for Something Completely Different\"))"
   ],
   "metadata": {
    "collapsed": false
   }
  },
  {
   "cell_type": "markdown",
   "source": [
    "\n",
    "**Note**\n",
    "\n",
    "[PEP 8](https://www.python.org/dev/peps/pep-0008/#programming-recommendations), the Style Guide for Python Code, recommends that **lambdas should not be assigned to variables, but rather they should be defined as functions**.\n",
    "\n",
    "This means that it is better to use a `def` statement, and avoid using an assignment statement that binds a lambda expression to an identifer. Analyze the code below:\n",
    "\n",
    "```python\n",
    "# Recommended:\n",
    "def f(x): return 3*x\n",
    "\n",
    "\n",
    "# Not recommended:\n",
    "f = lambda x: 3*x\n",
    "```\n",
    "\n",
    "Binding lambdas to identifiers generally duplicates the functionality of the `def` statement. Using `def` statements, on the other hand, generates more lines of code.\n",
    "\n",
    "It is important to understand that reality often likes to draw its own scenarios, which do not necessarily follow the conventions or formal recommendations. Whether you decide to follow them or not will depend on many things: your preferences, other conventions adopted, company internal guidelines, compatibility with existing code, etc. Be aware of this."
   ],
   "metadata": {
    "collapsed": false
   }
  },
  {
   "cell_type": "markdown",
   "source": [
    "## Processing files\n"
   ],
   "metadata": {
    "collapsed": false
   }
  },
  {
   "cell_type": "markdown",
   "source": [
    "### Accessing files from Python code\n",
    "\n",
    "One of the most common issues in the developer's job is to **process data stored in files** while the files are usually physically stored using storage devices - hard, optical, network, or solid-state disks.\n",
    "\n",
    "It's easy to imagine a program that sorts 20 numbers, and it's equally easy to imagine the user of this program entering these twenty numbers directly from the keyboard.\n",
    "\n",
    "It's much harder to imagine the same task when there are 20,000 numbers to be sorted, and there isn't a single user who is able to enter these numbers without making a mistake.\n",
    "\n",
    "It's much easier to imagine that these numbers are stored in the disk file which is read by the program. The program sorts the numbers and doesn't send them to the screen, but instead creates a new file and saves the sorted sequence of numbers there.\n",
    "\n",
    "If we want to implement a simple database, the only way to store the information between program runs is to save it into a file (or files if your database is more complex).\n",
    "\n",
    "In principle, any non-simple programming problem relies on the use of files, whether it processes images (stored in files), multiplies matrices (stored in files), or calculates wages and taxes (reading data stored in files).\n",
    "\n",
    "![test](../img/module_4/baf3c7a32db23a6ee8e80a0696b374bad5394501.png)\n",
    "\n",
    "You may ask why we have waited until now to show you these issues.\n",
    "\n",
    "The answer is very simple - Python's way of accessing and processing files is implemented using a consistent set of objects. There is no better moment to talk about it."
   ],
   "metadata": {
    "collapsed": false
   }
  },
  {
   "cell_type": "markdown",
   "source": [
    "### File names\n",
    "\n",
    "Different operating systems can treat the files in different ways. For example, Windows uses a different naming convention than the one adopted in Unix/Linux systems.\n",
    "\n",
    "If we use the notion of a canonical file name (a name which uniquely defines the location of the file regardless of its level in the directory tree) we can realize that these names look different in Windows and in Unix/Linux:\n",
    "\n",
    "![The concept of file paths](../img/module_4/8dd129d92508b1867df5d26866d66f79bde3af1a.png)\n",
    "\n",
    "As you can see, systems derived from Unix/Linux don't use the disk drive letter (e.g., `C:`) and all the directories grow from one root directory called `/`, while Windows systems recognize the root directory as `\\`.\n",
    "\n",
    "In addition, Unix/Linux system file names are case-sensitive. Windows systems store the case of letters used in the file name, but don't distinguish between their cases at all.\n",
    "\n",
    "This means that these two strings: `ThisIsTheNameOfTheFile` and `thisisthenameofthefile` describe two different files in Unix/Linux systems, but are the same name for just one file in Windows systems.\n",
    "\n",
    "The main and most striking difference is that you have to use **two different separators for the directory names**: `\\` in Windows, and `/` in Unix/Linux.\n",
    "\n",
    "This difference is not very important to the normal user, but is **very important when writing programs in Python**.\n",
    "\n",
    "To understand why, try to recall the very specific role played by the `\\` inside Python strings."
   ],
   "metadata": {
    "collapsed": false
   }
  },
  {
   "cell_type": "markdown",
   "source": [
    "### File names: continued\n",
    "\n",
    "Suppose you're interested in a particular file located in the directory dir, and named file.\n",
    "\n",
    "Suppose also that you want to assign a string containing the name of the file.\n",
    "\n",
    "In Unix/Linux systems, it may look as follows:\n",
    "\n",
    "`name = \"/dir/file\"`\n",
    "\n",
    "But if you try to code it for the Windows system:\n",
    "\n",
    "`name = \"\\dir\\file\"`\n",
    "\n",
    "you'll get an unpleasant surprise: either Python will generate an error, or the execution of the program will behave strangely, as if the file name has been distorted in some way.\n",
    "\n",
    "In fact, it's not strange at all, but quite obvious and natural. Python uses the `\\` as an escape character (like `\\n`).\n",
    "\n",
    "This means that Windows file names must be written as follows:\n",
    "\n",
    "`name = \"\\\\dir\\\\file\"`\n",
    "\n",
    "Fortunately, there is also one more solution. Python is smart enough to be able to convert slashes into backslashes each time it discovers that it's required by the OS.\n",
    "\n",
    "This means that any the following assignments:\n",
    "\n",
    "`name = \"/dir/file\" name = \"c:/dir/file\"`\n",
    "\n",
    "will work with Windows, too.\n",
    "\n",
    "Any program written in Python (and not only in Python, because that convention applies to virtually all programming languages) does not communicate with the files directly, but through some abstract entities that are named differently in different languages or environments - the most-used terms are **handles** or **streams** (we'll use them as synonyms here).\n",
    "\n",
    "The programmer, having a more- or less-rich set of functions/methods, is able to perform certain operations on the stream, which affect the real files using mechanisms contained in the operating system kernel.\n",
    "\n",
    "In this way, you can implement the process of accessing any file, even when the name of the file is unknown at the time of writing the program.\n",
    "\n",
    "The operations performed with the abstract stream reflect the activities related to the physical file.\n",
    "\n",
    "![Accessing files - a tree structure concept](../img/module_4/278d1abf2ed4c9cfd0bce451c387aad365ed4a72.png)\n",
    "\n",
    "To connect (bind) the stream with the file, it's necessary to perform an explicit operation.\n",
    "\n",
    "The operation of connecting the stream with a file is called **opening the file**, while disconnecting this link is named **closing the file**.\n",
    "\n",
    "Hence, the conclusion is that the very first operation performed on the stream is always `open` and the last one is `close`. The program, in effect, is free to manipulate the stream between these two events and to handle the associated file.\n",
    "\n",
    "This freedom is limited, of course, by the physical characteristics of the file and the way in which the file has been opened.\n",
    "\n",
    "Let us say again that the opening of the stream can fail, and it may happen due to several reasons: the most common is the lack of a file with a specified name.\n",
    "\n",
    "It can also happen that the physical file exists, but the program is not allowed to open it. There's also the risk that the program has opened too many streams, and the specific operating system may not allow the simultaneous opening of more than n files (e.g., 200).\n",
    "\n",
    "A well-written program should detect these failed openings, and react accordingly."
   ],
   "metadata": {
    "collapsed": false
   }
  },
  {
   "cell_type": "markdown",
   "source": [
    "## File streams\n",
    "\n",
    "The opening of the stream is not only associated with the file, but should also declare the manner in which the stream will be processed. This declaration is called an **open mode**.\n",
    "\n",
    "If the opening is successful, the **program will be allowed to perform only the operations which are consistent with the declared open mode**.\n",
    "\n",
    "There are two basic operations performed on the stream:\n",
    "\n",
    "-   **read** from the stream: the portions of the data are retrieved from the file and placed in a memory area managed by the program (e.g., a variable);\n",
    "-   **write** to the stream: the portions of the data from the memory (e.g., a variable) are transferred to the file.\n",
    "\n",
    "There are three basic modes used to open the stream:\n",
    "\n",
    "-   **read mode**: a stream opened in this mode allows **read operations only**; trying to write to the stream will cause an exception (the exception is named UnsupportedOperation, which inherits OSError and ValueError, and comes from the io module);\n",
    "-   **write mode**: a stream opened in this mode allows **write operations only**; attempting to read the stream will cause the exception mentioned above;\n",
    "-   **update mode**: a stream opened in this mode allows **both writes and reads**.\n",
    "\n",
    "Before we discuss how to manipulate the streams, we owe you some explanation. **The stream behaves almost like a tape recorder**.\n",
    "\n",
    "When you read something from a stream, a virtual head moves over the stream according to the number of bytes transferred from the stream.\n",
    "\n",
    "When you write something to the stream, the same head moves along the stream recording the data from the memory.\n",
    "\n",
    "Whenever we talk about reading from and writing to the stream, try to imagine this analogy. The programming books refer to this mechanism as the **current file position**, and we'll also use this term.\n",
    "\n",
    "\n",
    "\n",
    "![The read/write concept](../img/module_4/193c0b58a122298556fe12d7bf37c53d40d50545.png)\n",
    "\n",
    "It's necessary now to show you the object responsible for representing streams in programs."
   ],
   "metadata": {
    "collapsed": false
   }
  },
  {
   "cell_type": "markdown",
   "source": [
    "### File handles\n",
    "\n",
    "Python assumes that **every file is hidden behind an object of an adequate class**.\n",
    "\n",
    "Of course, it's hard not to ask how to interpret the word _adequate_.\n",
    "\n",
    "Files can be processed in many different ways - some of them depend on the file's contents, some on the programmer's intentions.\n",
    "\n",
    "In any case, different files may require different sets of operations, and behave in different ways.\n",
    "\n",
    "An object of an adequate class is **created when you open the file and annihilate it at the time of closing**.\n",
    "\n",
    "Between these two events, you can use the object to specify what operations should be performed on a particular stream. The operations you're allowed to use are imposed by **the way in which you've opened the file**.\n",
    "\n",
    "In general, the object comes from one of the classes shown here:\n",
    "\n",
    "![The origin of objects: IOBase, RawIOBase, BufferedIOBase, TextIOBase](../img/module_4/d19a0e31aababa721f84ccfe27bf35970493fb3c.png)\n",
    "\n",
    "Note: you never use constructors to bring these objects to life. The only way you **obtain them is to invoke the function named `open()`**.\n",
    "\n",
    "The function analyses the arguments you've provided, and automatically creates the required object.\n",
    "\n",
    "If you want to **get rid of the object, you invoke the method named `close()`**.\n",
    "\n",
    "The invocation will sever the connection to the object, and the file and will remove the object.\n",
    "\n",
    "For our purposes, we'll concern ourselves only with streams represented by `BufferIOBase` and `TextIOBase` objects. You'll understand why soon.\n",
    "\n",
    "Be the first to leave a comment!"
   ],
   "metadata": {
    "collapsed": false
   }
  },
  {
   "cell_type": "markdown",
   "source": [
    "### File handles: continued\n",
    "\n",
    "Due to the type of the stream's contents, **all the streams are divided into text and binary streams**.\n",
    "\n",
    "The text streams ones are structured in lines; that is, they contain typographical characters (letters, digits, punctuation, etc.) arranged in rows (lines), as seen with the naked eye when you look at the contents of the file in the editor.\n",
    "\n",
    "This file is written (or read) mostly character by character, or line by line.\n",
    "\n",
    "The binary streams don't contain text but a sequence of bytes of any value. This sequence can be, for example, an executable program, an image, an audio or a video clip, a database file, etc.\n",
    "\n",
    "Because these files don't contain lines, the reads and writes relate to portions of data of any size. Hence the data is read/written byte by byte, or block by block, where the size of the block usually ranges from one to an arbitrarily chosen value.\n",
    "\n",
    "Then comes a subtle problem. In Unix/Linux systems, the line ends are marked by a single character named `LF` (ASCII code 10) designated in Python programs as `\\n`.\n",
    "\n",
    "Other operating systems, especially these derived from the prehistoric CP/M system (which applies to Windows family systems, too) use a different convention: the end of line is marked by a pair of characters, `CR` and `LF` (ASCII codes 13 and 10) which can be encoded as `\\r\\n`.\n",
    "\n",
    "\n",
    "\n",
    "![Text vs. binary streams concept](../img/module_4/4947f81ce6cd3f37d08c0b1f3657983360d22395.png)\n",
    "\n",
    "This ambiguity can cause various unpleasant consequences.\n",
    "\n",
    "If you create a program responsible for processing a text file, and it is written for Windows, you can recognize the ends of the lines by finding the `\\r\\n` characters, but the same program running in a Unix/Linux environment will be completely useless, and vice versa: the program written for Unix/Linux systems might be useless in Windows.\n",
    "\n",
    "Such undesirable features of the program, which prevent or hinder the use of the program in different environments, are called **non-portability**.\n",
    "\n",
    "Similarly, the trait of the program allowing execution in different environments is called **portability**. A program endowed with such a trait is called a **portable program**."
   ],
   "metadata": {
    "collapsed": false
   }
  },
  {
   "cell_type": "markdown",
   "source": [
    "### File handles: continued\n",
    "\n",
    "Since portability issues were (and still are) very serious, a decision was made to definitely resolve the issue in a way that doesn't engage the developer's attention.\n",
    "\n",
    "\n",
    "\n",
    "![Text vs. binary streams concept](../img/module_4/a505b9d471830698e22faf258b8f5754bdf48534.png)\n",
    "\n",
    "It was done at the level of classes, which are responsible for reading and writing characters to and from the stream. It works in the following way:\n",
    "\n",
    "-   when the stream is open and it's advised that the data in the associated file will be processed as text (or there is no such advisory at all), it is **switched into text mode**;\n",
    "\n",
    "-   during reading/writing of lines from/to the associated file, nothing special occurs in the Unix environment, but when the same operations are performed in the Windows environment, a process called a **translation of newline characters** occurs: when you read a line from the file, every pair of `\\r\\n` characters is replaced with a single `\\n` character, and vice versa; during write operations, every `\\n` character is replaced with a pair of `\\r\\n` characters;\n",
    "\n",
    "-   the mechanism is completely **transparent** to the program, which can be written as if it was intended for processing Unix/Linux text files only; the source code run in a Windows environment will work properly, too;\n",
    "\n",
    "-   when the stream is open and it's advised to do so, its contents are taken as-is, **without any conversion** - no bytes are added or omitted.\n",
    "\n",
    "## Opening the streams\n",
    "\n",
    "The **opening of the stream** is performed by a function which can be invoked in the following way:\n",
    "\n",
    "`stream = open(file, mode = 'r', encoding = None)`\n",
    "\n",
    "Let's analyze it:\n",
    "\n",
    "-   the name of the function (`open`) speaks for itself; if the opening is successful, the function returns a stream object; otherwise, an exception is raised (e.g., FileNotFoundError **if the file you're going to read doesn't exist**);\n",
    "\n",
    "-   the first parameter of the function (`file`) specifies the name of the file to be associated with the stream;\n",
    "\n",
    "-   the second parameter (`mode`) specifies the open mode used for the stream; it's a string filled with a sequence of characters, and each of them has its own special meaning (more details soon);\n",
    "\n",
    "-   the third parameter (`encoding`) specifies the encoding type (e.g., UTF-8 when working with text files)\n",
    "\n",
    "-   the opening must be the very first operation performed on the stream.\n",
    "\n",
    "Note: the mode and encoding arguments may be omitted - their default values are assumed then. The default opening mode is reading in text mode, while the default encoding depends on the platform used.\n",
    "\n",
    "Let us now present you with the most important and useful open modes. Ready?"
   ],
   "metadata": {
    "collapsed": false
   }
  },
  {
   "cell_type": "code",
   "execution_count": 4,
   "outputs": [],
   "source": [
    "file = \"example.txt\"\n",
    "stream = open(file, mode = 'r', encoding = None)"
   ],
   "metadata": {
    "collapsed": false,
    "ExecuteTime": {
     "end_time": "2023-06-04T18:08:53.332226199Z",
     "start_time": "2023-06-04T18:08:53.313575253Z"
    }
   }
  },
  {
   "cell_type": "code",
   "execution_count": 5,
   "outputs": [
    {
     "name": "stdout",
     "output_type": "stream",
     "text": [
      "    Lorem ipsum dolor sit amet, consectetuer adipiscing elit. Donec est. Aliquam vitae elit eu diam interdum consequat. In hac habitasse platea dictumst. Praesent placerat, justo vel sagittis congue, elit diam feugiat ante, eget faucibus est metus ac dui. Suspendisse semper lectus. Integer vel quam vel sapien ornare egestas. Ut ultrices nunc et urna. Vestibulum vel mi semper sapien interdum adipiscing.\n",
      "\n",
      "    Vivamus iaculis tellus vel nulla. Pellentesque vel sapien ac odio molestie consectetuer. Curabitur arcu. Integer feugiat. Nulla nulla tortor, malesuada et, tincidunt quis, pharetra sit amet, est.\n",
      "\n",
      "    Duis venenatis, turpis at viverra rutrum, mauris ligula molestie orci, eu varius augue wisi id tellus. Integer cursus congue sapien. Fusce sit amet ligula. Vivamus dolor. Mauris et metus. In condimentum feugiat sapien.\n",
      "\n",
      "    Aliquam sit amet purus vel felis congue porttitor. Aliquam consectetuer. Donec laoreet. Integer eros. Duis hendrerit, erat sed mattis luctus, sem diam aliquet magna, et euismod mauris enim semper elit.\n",
      "\n",
      "    Cras dui tortor, dictum in, tincidunt vel, tincidunt non, purus. Etiam mi quam, ultrices sit amet, rhoncus ut, viverra vel, eros. Lorem ipsum dolor sit amet, consectetuer adipiscing elit. Proin sollicitudin. Nunc augue. Aenean tempor posuere diam.\n",
      "\n",
      "    Integer adipiscing arcu ut eros. Aenean vitae felis. Vivamus iaculis. Quisque molestie massa sed turpis. Sed est mi, rutrum sed, varius semper, posuere a, diam. Fusce ipsum est, vestibulum ut, egestas in, elementum ac, lacus. Duis fringilla molestie ante.\n",
      "\n",
      "    Proin diam. Morbi urna turpis, pellentesque at, placerat sed, vulputate vel, augue. Ut semper odio quis ipsum. Nunc auctor purus ut augue. Donec fermentum. Pellentesque hendrerit mi eget wisi. Cum sociis natoque penatibus et magnis dis parturient montes, nascetur ridiculus mus.\n",
      "\n",
      "    Phasellus enim. Lorem ipsum dolor sit amet, consectetuer adipiscing elit. Praesent interdum cursus velit. Class aptent taciti sociosqu ad litora torquent per conubia nostra, per inceptos hymenaeos. Nulla mauris magna, posuere eu, ullamcorper semper, hendrerit semper, lorem. Vestibulum semper ante.\n",
      "\n",
      "    Curabitur tempus, arcu et vestibulum fringilla, eros lectus tincidunt lectus, sit amet tincidunt purus tellus vel massa. Quisque wisi. Cras vestibulum lorem vel purus. Pellentesque libero turpis, euismod sit amet, dictum id, luctus nec, elit. Ut tempor consequat massa. Nunc sed arcu. Mauris wisi. Praesent sapien. Mauris pharetra venenatis pede. Class aptent taciti sociosqu ad litora torquent per conubia nostra, per inceptos hymenaeos. Pellentesque sagittis volutpat wisi. Class aptent taciti sociosqu ad litora torquent per conubia nostra, per inceptos hymenaeos. Curabitur sed arcu.\n",
      "\n",
      "    Vivamus vulputate, tellus non accumsan consectetuer, justo tortor molestie augue, in feugiat lorem ipsum vel nisl. Nam gravida. Curabitur purus. Cras non tortor. Vivamus fermentum, nunc sed fringilla egestas, urna tellus porttitor urna, ut convallis purus nibh a orci. Integer rutrum sodales sem. Vivamus eget arcu.\n",
      "\n",
      "    Pellentesque habitant morbi tristique senectus et netus et malesuada fames ac turpis egestas. Ut sed elit vitae dolor vehicula mattis. Suspendisse dapibus luctus ipsum. Integer pretium egestas lorem. Pellentesque sit amet velit. Quisque placerat volutpat dolor. Nulla pulvinar nulla eget metus. Aenean tincidunt leo vel est. Donec tempus.\n",
      "\n",
      "    In accumsan tortor non urna. Ut viverra. Duis in pede. Ut ipsum. Vivamus elit massa, rutrum et, vestibulum nec, auctor et, massa. Donec blandit massa eu diam. Nunc vel neque. Vestibulum in diam a leo tristique rutrum.\n",
      "\n",
      "    Donec posuere interdum erat. Integer lectus tellus, commodo sed, aliquet ut, malesuada sit amet, pede. Quisque ac sem. Integer gravida sapien vel purus. Proin vel turpis nec diam consectetuer dignissim. Quisque aliquam. Vivamus nunc. Donec sed massa ut dui ornare ultricies. Donec ante libero, semper quis, luctus eu, malesuada semper, odio. Nam non eros.\n",
      "\n",
      "    Vestibulum pretium, magna vel scelerisque vehicula, nulla pede fermentum lectus, semper commodo velit diam vel urna.\n"
     ]
    }
   ],
   "source": [
    "for line in stream:\n",
    "    print(line)"
   ],
   "metadata": {
    "collapsed": false,
    "ExecuteTime": {
     "end_time": "2023-06-04T18:10:04.768360274Z",
     "start_time": "2023-06-04T18:10:04.714865687Z"
    }
   }
  },
  {
   "cell_type": "markdown",
   "source": [
    "### Opening the streams: modes\n",
    "\n",
    "`r` open mode: read\n",
    "\n",
    "-   the stream will be opened in **read mode**;\n",
    "-   the file associated with the stream **must exist** and has to be readable, otherwise the `open()` function raises an exception.\n",
    "\n",
    "`w` open mode: write\n",
    "\n",
    "-   the stream will be opened in **write mode**;\n",
    "-   the file associated with the stream **doesn't need to exist**; if it doesn't exist it will be created; if it exists, it will be truncated to the length of zero (erased); if the creation isn't possible (e.g., due to system permissions) the `open()` function raises an exception.\n",
    "\n",
    "`a` open mode: append\n",
    "\n",
    "-   the stream will be opened in **append mode**;\n",
    "-   the file associated with the stream **doesn't need to exist**; if it doesn't exist, it will be created; if it exists the virtual recording head will be set at the end of the file (the previous content of the file remains untouched.)\n",
    "\n",
    "`r+` open mode: read and update\n",
    "\n",
    "-   the stream will be opened in **read and update mode**;\n",
    "-   the file associated with the stream **must exist and has to be writeable**, otherwise the `open()` function raises an exception;\n",
    "-   both read and write operations are allowed for the stream.\n",
    "\n",
    "`w+` open mode: write and update\n",
    "\n",
    "-   the stream will be opened in **write and update** mode;\n",
    "-   the file associated with the stream **doesn't need to exist**; if it doesn't exist, it will be created; the previous content of the file remains untouched;\n",
    "-   both read and write operations are allowed for the stream.\n",
    "\n",
    "## Selecting text and binary modes\n",
    "\n",
    "If there is a letter `b` at the end of the mode string it means that the stream is to be opened in the **binary mode**.\n",
    "\n",
    "If the mode string ends with a letter `t` the stream is opened in the **text mode**.\n",
    "\n",
    "Text mode is the default behaviour assumed when no binary/text mode specifier is used.\n",
    "\n",
    "Finally, the successful opening of the file will set the current file position (the virtual reading/writing head) before the first byte of the file **if the mode is not `a`** and after the last byte of file **if the mode is set to `a`**.\n",
    "\n",
    "\n",
    "\n",
    "| Text mode | Binary mode | Description |\n",
    "| --- | --- | --- |\n",
    "| `rt` | `rb` | read |\n",
    "| `wt` | `wb` | write |\n",
    "| `at` | `ab` | append |\n",
    "| `r+t` | `r+b` | read and update |\n",
    "| `w+t` | `w+b` | write and update |\n",
    "\n",
    "**EXTRA**\n",
    "\n",
    "You can also open a file for its exclusive creation. You can do this using the `x` open mode. If the file already exists, the `open()` function will raise an exception."
   ],
   "metadata": {
    "collapsed": false
   }
  },
  {
   "cell_type": "markdown",
   "source": [
    "### Opening the stream for the first time\n",
    "\n",
    "Imagine that we want to develop a program that reads content of the text file named: C:\\\\Users\\\\User\\\\Desktop\\\\file.txt.\n",
    "\n",
    "How to open that file for reading? Here's the relevant snippet of the code:\n",
    "\n",
    "```python\n",
    "try:\n",
    "    stream = open(\"C:\\Users\\User\\Desktop\\file.txt\", \"rt\")\n",
    "    # Processing goes here.\n",
    "    stream.close()\n",
    "except Exception as exc:\n",
    "    print(\"Cannot open the file:\", exc)\n",
    "\n",
    "```\n",
    "\n",
    "What's going on here?\n",
    "\n",
    "-   we open the try-except block as we want to handle runtime errors softly;\n",
    "-   we use the `open()` function to try to open the specified file (note the way we've specified the file name)\n",
    "-   the open mode is defined as text to read (as **text is the default setting**, we can skip the `t` in mode string)\n",
    "-   in case of success we get an object from the `open()` function and we assign it to the stream variable;\n",
    "-   if `open()` fails, we handle the exception printing full error information (it's definitely good to know what exactly happened)\n",
    "\n",
    "### Pre-opened streams\n",
    "\n",
    "We said earlier that any stream operation must be preceded by the `open()` function invocation. There are three well-defined exceptions to the rule.\n",
    "\n",
    "When our program starts, the three streams are already opened and don't require any extra preparations. What's more, your program can use these streams explicitly if you take care to import the `sys` module:\n",
    "\n",
    "`import sys`\n",
    "\n",
    "because that's where the declaration of the three streams is placed.\n",
    "\n",
    "The names of these streams are: `sys.stdin`, `sys.stdout`, and `sys.stderr`.\n",
    "\n",
    "Let's analyze them:\n",
    "\n",
    "-   `sys.stdin`\n",
    "\n",
    "-   stdin (as _standard input_)\n",
    "-   the `stdin` stream is normally associated with the keyboard, pre-open for reading and regarded as the primary data source for the running programs;\n",
    "-   the well-known `input()` function reads data from `stdin` by default.\n",
    "\n",
    "\n",
    "-   `sys.stdout`\n",
    "\n",
    "-   stdout (as _standard output_)\n",
    "-   the `stdout` stream is normally associated with the screen, pre-open for writing, regarded as the primary target for outputting data by the running program;\n",
    "-   the well-known `print()` function outputs the data to the `stdout` stream.\n",
    "\n",
    "\n",
    "-   `sys.stderr`\n",
    "\n",
    "-   stderr (as _standard error output_)\n",
    "-   the `stderr` stream is normally associated with the screen, pre-open for writing, regarded as the primary place where the running program should send information on the errors encountered during its work;\n",
    "-   we haven't presented any method to send the data to this stream (we will do it soon, we promise)\n",
    "-   the separation of `stdout` (useful results produced by the program) from the `stderr` (error messages, undeniably useful but does not provide results) gives the possibility of redirecting these two types of information to the different targets. More extensive discussion of this issue is beyond the scope of our course. The operation system handbook will provide more information on these issues."
   ],
   "metadata": {
    "collapsed": false
   }
  },
  {
   "cell_type": "code",
   "execution_count": 7,
   "outputs": [],
   "source": [
    "try:\n",
    "    stream = open(\"example.txt\", \"rt\")\n",
    "    # Processing goes here.\n",
    "    stream.close()\n",
    "except Exception as exc:\n",
    "    print(\"Cannot open the file:\", exc)\n",
    "\n"
   ],
   "metadata": {
    "collapsed": false,
    "ExecuteTime": {
     "end_time": "2023-06-04T18:52:02.661133409Z",
     "start_time": "2023-06-04T18:52:02.616097733Z"
    }
   }
  },
  {
   "cell_type": "markdown",
   "source": [
    "### Closing streams\n",
    "\n",
    "The last operation performed on a stream (this doesn't include the `stdin`, `stdout`, and `stderr` streams which don't require it) should be **closing**.\n",
    "\n",
    "That action is performed by a method invoked from within open stream object: `stream.close()`.\n",
    "\n",
    "-   the name of the function is definitely self-commenting: `close()`\n",
    "-   the function expects exactly no arguments; the stream doesn't need to be opened\n",
    "-   the function returns nothing but raises IOError exception in case of error;\n",
    "-   most developers believe that the `close()` function always succeeds and thus there is no need to check if it's done its task properly.\n",
    "\n",
    "    This belief is only partly justified. If the stream was opened for writing and then a series of write operations were performed, it may happen that the data sent to the stream has not been transferred to the physical device yet (due to mechanism called **caching** or **buffering**).\n",
    "\n",
    "    Since the closing of the stream forces the buffers to flush them, it may be that the flushes fail and therefore the `close()` fails too.\n",
    "\n",
    "\n",
    "We have already mentioned failures caused by functions operating with streams but not mentioned a word how exactly we can identify the cause of the failure.\n",
    "\n",
    "The possibility of making a diagnosis exists and is provided by one of streams' exception component which we are going to tell you about just now.\n",
    "\n",
    "### Diagnosing stream problems\n",
    "\n",
    "The `IOError` object is equipped with a property named `errno` (the name comes from the phrase _error number_) and you can access it as follows:\n",
    "\n",
    "```python\n",
    "try:\n",
    "    # Some stream operations.\n",
    "except IOError as exc:\n",
    "    print(exc.errno)\n",
    "\n",
    "```\n",
    "\n",
    "The value of the `errno` attribute can be compared with one of the predefined symbolic constants defined in the `errno` module.\n",
    "\n",
    "Let's take a look at some selected **constants useful for detecting stream errors**:\n",
    "\n",
    "-   `errno.EACCES` → Permission denied\n",
    "\n",
    "    The error occurs when you try, for example, to open a file with the _read only_ attribute for writing.\n",
    "\n",
    "\n",
    "-   `errno.EBADF` → Bad file number\n",
    "\n",
    "    The error occurs when you try, for example, to operate with an unopened stream.\n",
    "\n",
    "\n",
    "-   `errno.EEXIST` → File exists\n",
    "\n",
    "    The error occurs when you try, for example, to rename a file with its previous name.\n",
    "\n",
    "\n",
    "-   `errno.EFBIG` → File too large\n",
    "\n",
    "    The error occurs when you try to create a file that is larger than the maximum allowed by the operating system.\n",
    "\n",
    "\n",
    "-   `errno.EISDIR` → Is a directory\n",
    "\n",
    "    The error occurs when you try to treat a directory name as the name of an ordinary file.\n",
    "\n",
    "\n",
    "-   `errno.EMFILE` → Too many open files\n",
    "\n",
    "    The error occurs when you try to simultaneously open more streams than acceptable for your operating system.\n",
    "\n",
    "\n",
    "-   `errno.ENOENT` → No such file or directory\n",
    "\n",
    "    The error occurs when you try to access a non-existent file/directory.\n",
    "\n",
    "\n",
    "-   `errno.ENOSPC` → No space left on device\n",
    "\n",
    "    The error occurs when there is no free space on the media.\n",
    "\n",
    "\n",
    "The complete list is much longer (it includes also some error codes not related to the stream processing.)"
   ],
   "metadata": {
    "collapsed": false
   }
  },
  {
   "cell_type": "code",
   "execution_count": 8,
   "outputs": [
    {
     "name": "stdout",
     "output_type": "stream",
     "text": [
      "2\n"
     ]
    }
   ],
   "source": [
    "try:\n",
    "    # Some stream operations.\n",
    "    stream = open('example_2.txt')\n",
    "except IOError as exc:\n",
    "    print(exc.errno)\n",
    "\n"
   ],
   "metadata": {
    "collapsed": false,
    "ExecuteTime": {
     "end_time": "2023-06-04T18:55:35.709079971Z",
     "start_time": "2023-06-04T18:55:35.599898338Z"
    }
   }
  },
  {
   "cell_type": "markdown",
   "source": [
    "### Diagnosing stream problems: continued\n",
    "\n",
    "If you are a very careful programmer, you may feel the need to use the sequence of statements similar to those presented in the editor.\n",
    "\n",
    "Fortunately, there is a function that can dramatically **simplify the error handling code**.\n",
    "\n",
    "Its name is `strerror()`, and it comes from the `os` module and **expects just one argument - an error number**.\n",
    "\n",
    "Its role is simple: you give an error number and get a string describing the meaning of the error.\n",
    "\n",
    "Note: if you pass a non-existent error code (a number which is not bound to any actual error), the function will raise ValueError exception.\n",
    "\n",
    "Now we can simplify our code in the following way:\n",
    "\n",
    "```python\n",
    "from os import strerror\n",
    "\n",
    "try:\n",
    "    s = open(\"c:/users/user/Desktop/file.txt\", \"rt\")\n",
    "    # Actual processing goes here.\n",
    "    s.close()\n",
    "except Exception as exc:\n",
    "    print(\"The file could not be opened:\", strerror(exc.errno))\n",
    "\n",
    "\n",
    "```\n",
    "\n",
    "Okay. Now it's time to deal with text files and get familiar with some basic techniques you can use to process them.\n"
   ],
   "metadata": {
    "collapsed": false
   }
  },
  {
   "cell_type": "code",
   "execution_count": 9,
   "outputs": [
    {
     "name": "stdout",
     "output_type": "stream",
     "text": [
      "The file doesn't exist.\n"
     ]
    }
   ],
   "source": [
    "import errno\n",
    "\n",
    "try:\n",
    "    s = open(\"c:/users/user/Desktop/file.txt\", \"rt\")\n",
    "    # Actual processing goes here.\n",
    "    s.close()\n",
    "except Exception as exc:\n",
    "    if exc.errno == errno.ENOENT:\n",
    "        print(\"The file doesn't exist.\")\n",
    "    elif exc.errno == errno.EMFILE:\n",
    "        print(\"You've opened too many files.\")\n",
    "    else:\n",
    "        print(\"The error number is:\", exc.errno)\n"
   ],
   "metadata": {
    "collapsed": false,
    "ExecuteTime": {
     "end_time": "2023-06-04T19:01:13.651442806Z",
     "start_time": "2023-06-04T19:01:13.587118465Z"
    }
   }
  },
  {
   "cell_type": "code",
   "execution_count": 10,
   "outputs": [
    {
     "name": "stdout",
     "output_type": "stream",
     "text": [
      "The file could not be opened: No such file or directory\n"
     ]
    }
   ],
   "source": [
    "from os import strerror\n",
    "\n",
    "try:\n",
    "    s = open(\"c:/users/user/Desktop/file.txt\", \"rt\")\n",
    "    # Actual processing goes here.\n",
    "    s.close()\n",
    "except Exception as exc:\n",
    "    print(\"The file could not be opened:\", strerror(exc.errno))\n",
    "\n"
   ],
   "metadata": {
    "collapsed": false,
    "ExecuteTime": {
     "end_time": "2023-06-04T19:02:15.020738406Z",
     "start_time": "2023-06-04T19:02:14.950422082Z"
    }
   }
  },
  {
   "cell_type": "markdown",
   "source": [
    "### Key takeaways\n",
    "\n",
    "1\\. A file needs to be **open** before it can be processed by a program, and it should be **closed** when the processing is finished.\n",
    "\n",
    "Opening the file associates it with the **stream**, which is an abstract representation of the physical data stored on the media. The way in which the stream is processed is called **open mode**. **Three** open modes exist:\n",
    "\n",
    "-   **read mode** – only read operations are allowed;\n",
    "-   **write mode** – only write operations are allowed;\n",
    "-   **update mode** – both writes and reads are allowed.\n",
    "\n",
    "2\\. Depending on the physical file content, different Python classes can be used to process files. In general, the `BufferedIOBase` is able to process any file, while `TextIOBase` is a specialized class dedicated to processing text files (i.e. files containing human-visible texts divided into lines using new-line markers). Thus, the streams can be divided into **binary** and **text** ones.\n",
    "\n",
    "\n",
    "\n",
    "3\\. The following `open()` function syntax is used to open a file:\n",
    "\n",
    "`open(file_name, mode=open_mode, encoding=text_encoding)`\n",
    "The invocation creates a stream object and associates it with the file named `file_name`, using the specified `open_mode` and setting the specified `text_encoding`, or it **raises an exception in the case of an error**.\n",
    "\n",
    "4\\. Three **predefined** streams are already open when the program starts:\n",
    "\n",
    "-   `sys.stdin` – standard input;\n",
    "-   `sys.stdout` – standard output;\n",
    "-   `sys.stderr` – standard error output.\n",
    "\n",
    "5\\. The `IOError` exception object, created when any file operations fails (including open operations), contains a property named `errno`, which contains the completion code of the failed action. Use this value to diagnose the problem.\n"
   ],
   "metadata": {
    "collapsed": false
   }
  },
  {
   "cell_type": "markdown",
   "source": [],
   "metadata": {
    "collapsed": false
   }
  },
  {
   "cell_type": "markdown",
   "source": [
    "#### Exercise 1\n",
    "\n",
    "How do you encode an `open()` function’s `mode` argument value if you're going to create a new text file to only fill it with an article?\n"
   ],
   "metadata": {
    "collapsed": false
   }
  },
  {
   "cell_type": "code",
   "execution_count": 14,
   "outputs": [],
   "source": [
    "with open('example_3.txt', 'wt') as f:  # wt or w\n",
    "    f.write('hello world!')\n"
   ],
   "metadata": {
    "collapsed": false,
    "ExecuteTime": {
     "end_time": "2023-06-04T19:10:02.825116623Z",
     "start_time": "2023-06-04T19:10:02.776286971Z"
    }
   }
  },
  {
   "cell_type": "markdown",
   "source": [
    "#### Exercise 2\n",
    "\n",
    "What is the meaning of the value represented by `errno.EACCES`?\n"
   ],
   "metadata": {
    "collapsed": false
   }
  },
  {
   "cell_type": "code",
   "execution_count": 16,
   "outputs": [
    {
     "name": "stdout",
     "output_type": "stream",
     "text": [
      "Permission denied\n"
     ]
    }
   ],
   "source": [
    "import os\n",
    "import errno\n",
    "\n",
    "error_code = errno.EACCES\n",
    "error_message = os.strerror(error_code)\n",
    "\n",
    "print(error_message)"
   ],
   "metadata": {
    "collapsed": false,
    "ExecuteTime": {
     "end_time": "2023-06-04T19:13:12.408928586Z",
     "start_time": "2023-06-04T19:13:12.366309441Z"
    }
   }
  },
  {
   "cell_type": "markdown",
   "source": [
    "#### Exercise 3\n",
    "\n",
    "What is the expected output of the following code, assuming that the file named _file_ does not exist?"
   ],
   "metadata": {
    "collapsed": false
   }
  },
  {
   "cell_type": "code",
   "execution_count": 18,
   "outputs": [
    {
     "name": "stdout",
     "output_type": "stream",
     "text": [
      "absent\n"
     ]
    }
   ],
   "source": [
    "import errno\n",
    "\n",
    "try:\n",
    "    stream = open(\"file\", \"rb\")\n",
    "    print(\"exists\")\n",
    "    stream.close()\n",
    "except IOError as error:\n",
    "    if error.errno == errno.ENOENT:\n",
    "        print(\"absent\")\n",
    "    else:\n",
    "        print(\"unknown\")\n"
   ],
   "metadata": {
    "collapsed": false,
    "ExecuteTime": {
     "end_time": "2023-06-04T19:14:45.978411838Z",
     "start_time": "2023-06-04T19:14:45.958192768Z"
    }
   }
  },
  {
   "cell_type": "code",
   "execution_count": 19,
   "outputs": [
    {
     "name": "stdout",
     "output_type": "stream",
     "text": [
      "No such file or directory\n"
     ]
    }
   ],
   "source": [
    "print(os.strerror(errno.ENOENT))"
   ],
   "metadata": {
    "collapsed": false,
    "ExecuteTime": {
     "end_time": "2023-06-04T19:14:48.749704245Z",
     "start_time": "2023-06-04T19:14:48.723444500Z"
    }
   }
  },
  {
   "cell_type": "markdown",
   "source": [
    "## Working with real files\n"
   ],
   "metadata": {
    "collapsed": false
   }
  },
  {
   "cell_type": "markdown",
   "source": [
    "### Processing text files\n",
    "\n",
    "In this lesson we're going to prepare a simple text file with some short, simple content.\n",
    "\n",
    "We're going to show you some basic techniques you can utilize to **read the file contents** in order to process them.\n",
    "\n",
    "The processing will be very simple - you're going to copy the file's contents to the console, and count all the characters the program has read in.\n",
    "\n",
    "But remember - our understanding of a text file is very strict. In our sense, it's a plain text file - it may contain only text, without any additional decorations (formatting, different fonts, etc.).\n",
    "\n",
    "That's why you should avoid creating the file using any advanced text processor like MS Word, LibreOffice Writer, or something like this. Use the very basics your OS offers: Notepad, vim, gedit, etc.\n",
    "\n",
    "If your text files contain some national characters not covered by the standard ASCII charset, you may need an additional step. Your `open()` function invocation may require an argument denoting specific text encoding.\n",
    "\n",
    "For example, if you're using a Unix/Linux OS configured to use UTF-8 as a system-wide setting, the `open()` function may look as follows:\n",
    "\n",
    "`stream = open('file.txt', 'rt', encoding='utf-8')`\n",
    "\n",
    "where the encoding argument has to be set to a value which is a string representing proper text encoding (UTF-8, here).\n",
    "\n",
    "Consult your OS documentation to find an encoding name adequate to your environment.\n",
    "\n",
    "**Note**\n",
    "\n",
    "For the purposes of our experiments with file processing carried out in this section, we're going to use a pre-uploaded set of files (i.e., tzop.txt, or text.txt files) which you'll be able to work with. If you'd like to work with your own files locally on your machine, we strongly encourage you to do so, and to use IDLE (or any other IDE that you may prefer) to carry out your own tests.\n"
   ],
   "metadata": {
    "collapsed": false
   }
  },
  {
   "cell_type": "code",
   "execution_count": 22,
   "outputs": [
    {
     "name": "stdout",
     "output_type": "stream",
     "text": [
      "    Lorem ipsum dolor sit amet, consectetuer adipiscing elit. Donec est. Aliquam vitae elit eu diam interdum consequat. In hac habitasse platea dictumst. Praesent placerat, justo vel sagittis congue, elit diam feugiat ante, eget faucibus est metus ac dui. Suspendisse semper lectus. Integer vel quam vel sapien ornare egestas. Ut ultrices nunc et urna. Vestibulum vel mi semper sapien interdum adipiscing.\n",
      "    Vivamus iaculis tellus vel nulla. Pellentesque vel sapien ac odio molestie consectetuer. Curabitur arcu. Integer feugiat. Nulla nulla tortor, malesuada et, tincidunt quis, pharetra sit amet, est.\n",
      "    Duis venenatis, turpis at viverra rutrum, mauris ligula molestie orci, eu varius augue wisi id tellus. Integer cursus congue sapien. Fusce sit amet ligula. Vivamus dolor. Mauris et metus. In condimentum feugiat sapien.\n",
      "    Aliquam sit amet purus vel felis congue porttitor. Aliquam consectetuer. Donec laoreet. Integer eros. Duis hendrerit, erat sed mattis luctus, sem diam aliquet magna, et euismod mauris enim semper elit.\n",
      "    Cras dui tortor, dictum in, tincidunt vel, tincidunt non, purus. Etiam mi quam, ultrices sit amet, rhoncus ut, viverra vel, eros. Lorem ipsum dolor sit amet, consectetuer adipiscing elit. Proin sollicitudin. Nunc augue. Aenean tempor posuere diam.\n",
      "    Integer adipiscing arcu ut eros. Aenean vitae felis. Vivamus iaculis. Quisque molestie massa sed turpis. Sed est mi, rutrum sed, varius semper, posuere a, diam. Fusce ipsum est, vestibulum ut, egestas in, elementum ac, lacus. Duis fringilla molestie ante.\n",
      "    Proin diam. Morbi urna turpis, pellentesque at, placerat sed, vulputate vel, augue. Ut semper odio quis ipsum. Nunc auctor purus ut augue. Donec fermentum. Pellentesque hendrerit mi eget wisi. Cum sociis natoque penatibus et magnis dis parturient montes, nascetur ridiculus mus.\n",
      "    Phasellus enim. Lorem ipsum dolor sit amet, consectetuer adipiscing elit. Praesent interdum cursus velit. Class aptent taciti sociosqu ad litora torquent per conubia nostra, per inceptos hymenaeos. Nulla mauris magna, posuere eu, ullamcorper semper, hendrerit semper, lorem. Vestibulum semper ante.\n",
      "    Curabitur tempus, arcu et vestibulum fringilla, eros lectus tincidunt lectus, sit amet tincidunt purus tellus vel massa. Quisque wisi. Cras vestibulum lorem vel purus. Pellentesque libero turpis, euismod sit amet, dictum id, luctus nec, elit. Ut tempor consequat massa. Nunc sed arcu. Mauris wisi. Praesent sapien. Mauris pharetra venenatis pede. Class aptent taciti sociosqu ad litora torquent per conubia nostra, per inceptos hymenaeos. Pellentesque sagittis volutpat wisi. Class aptent taciti sociosqu ad litora torquent per conubia nostra, per inceptos hymenaeos. Curabitur sed arcu.\n",
      "    Vivamus vulputate, tellus non accumsan consectetuer, justo tortor molestie augue, in feugiat lorem ipsum vel nisl. Nam gravida. Curabitur purus. Cras non tortor. Vivamus fermentum, nunc sed fringilla egestas, urna tellus porttitor urna, ut convallis purus nibh a orci. Integer rutrum sodales sem. Vivamus eget arcu.\n",
      "    Pellentesque habitant morbi tristique senectus et netus et malesuada fames ac turpis egestas. Ut sed elit vitae dolor vehicula mattis. Suspendisse dapibus luctus ipsum. Integer pretium egestas lorem. Pellentesque sit amet velit. Quisque placerat volutpat dolor. Nulla pulvinar nulla eget metus. Aenean tincidunt leo vel est. Donec tempus.\n",
      "    In accumsan tortor non urna. Ut viverra. Duis in pede. Ut ipsum. Vivamus elit massa, rutrum et, vestibulum nec, auctor et, massa. Donec blandit massa eu diam. Nunc vel neque. Vestibulum in diam a leo tristique rutrum.\n",
      "    Donec posuere interdum erat. Integer lectus tellus, commodo sed, aliquet ut, malesuada sit amet, pede. Quisque ac sem. Integer gravida sapien vel purus. Proin vel turpis nec diam consectetuer dignissim. Quisque aliquam. Vivamus nunc. Donec sed massa ut dui ornare ultricies. Donec ante libero, semper quis, luctus eu, malesuada semper, odio. Nam non eros.\n",
      "    Vestibulum pretium, magna vel scelerisque vehicula, nulla pede fermentum lectus, semper commodo velit diam vel urna.\n"
     ]
    }
   ],
   "source": [
    "# Opening tzop.txt in read mode, returning it as a file object:\n",
    "stream = open(\"example.txt\", \"rt\", encoding = \"utf-8\")\n",
    "\n",
    "print(stream.read()) # printing the content of the file\n"
   ],
   "metadata": {
    "collapsed": false,
    "ExecuteTime": {
     "end_time": "2023-06-04T19:16:23.065290478Z",
     "start_time": "2023-06-04T19:16:23.043325011Z"
    }
   }
  },
  {
   "cell_type": "code",
   "execution_count": null,
   "outputs": [],
   "source": [
    "\n"
   ],
   "metadata": {
    "collapsed": false
   }
  }
 ],
 "metadata": {
  "kernelspec": {
   "display_name": "Python 3",
   "language": "python",
   "name": "python3"
  },
  "language_info": {
   "codemirror_mode": {
    "name": "ipython",
    "version": 2
   },
   "file_extension": ".py",
   "mimetype": "text/x-python",
   "name": "python",
   "nbconvert_exporter": "python",
   "pygments_lexer": "ipython2",
   "version": "2.7.6"
  }
 },
 "nbformat": 4,
 "nbformat_minor": 0
}

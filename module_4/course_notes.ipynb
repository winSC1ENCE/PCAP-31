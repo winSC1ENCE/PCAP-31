{
 "cells": [
  {
   "cell_type": "markdown",
   "source": [
    "# Miscellaneous\n",
    "\n",
    "In this module, you will learn about:\n",
    "\n",
    "- Generators, iterators and closures;\n",
    "- Working with file-system, directory tree and files;\n",
    "- Selected Python Standard Library modules (os, datetime, time, and calendar.)"
   ],
   "metadata": {
    "collapsed": false
   }
  },
  {
   "cell_type": "markdown",
   "source": [
    "## Generators and closures\n"
   ],
   "metadata": {
    "collapsed": false
   }
  },
  {
   "cell_type": "markdown",
   "source": [
    "### Generators - where to find them\n",
    "\n",
    "**Generator** - what do you associate this word with? Perhaps it refers to some electronic device. Or perhaps it refers to a heavy and serious machine designed to produce power, electrical or other.\n",
    "\n",
    "A Python generator is **a piece of specialized code able to produce a series of values, and to control the iteration process**. This is why generators are very often called **iterators**, and although some may find a very subtle distinction between these two, we'll treat them as one.\n",
    "\n",
    "You may not realize it, but you've encountered generators many, many times before. Take a look at the very simple snippet:\n",
    "\n",
    "```python\n",
    "for i in range(5):\n",
    "    print(i)\n",
    "\n",
    "```\n",
    "\n",
    "\n",
    "The `range()` function is, in fact, a generator, which is (in fact, again) an iterator.\n",
    "\n",
    "What is the difference?\n",
    "\n",
    "A function returns one, well-defined value - it may be the result of a more or less complex evaluation of, e.g., a polynomial, and is invoked once - only once.\n",
    "\n",
    "A generator **returns a series of values**, and in general, is (implicitly) invoked more than once.\n",
    "\n",
    "In the example, the `range()` generator is invoked six times, providing five subsequent values from zero to four, and finally signaling that the series is complete.\n",
    "\n",
    "The above process is completely transparent. Let's shed some light on it. Let's show you the **iterator protocol**.\n"
   ],
   "metadata": {
    "collapsed": false
   }
  },
  {
   "cell_type": "code",
   "execution_count": 2,
   "outputs": [
    {
     "name": "stdout",
     "output_type": "stream",
     "text": [
      "0\n",
      "1\n",
      "2\n",
      "3\n",
      "4\n"
     ]
    }
   ],
   "source": [
    "for i in range(5):\n",
    "    print(i)\n"
   ],
   "metadata": {
    "collapsed": false,
    "ExecuteTime": {
     "end_time": "2023-05-30T18:12:58.965745102Z",
     "start_time": "2023-05-30T18:12:58.925516423Z"
    }
   }
  },
  {
   "cell_type": "markdown",
   "source": [
    "### Generators - where to find them: continued\n",
    "\n",
    "The **iterator protocol is a way in which an object should behave to conform to the rules imposed by the context of the `for` and `in` statements**. An object conforming to the iterator protocol is called an **iterator**.\n",
    "\n",
    "An iterator must provide two methods:\n",
    "\n",
    "-   `__iter__()` which should **return the object itself** and which is invoked once (it's needed for Python to successfully start the iteration)\n",
    "-   `__next__()` which is intended to **return the next value** (first, second, and so on) of the desired series - it will be invoked by the `for`/`in` statements in order to pass through the next iteration; if there are no more values to provide, the method should **raise the `StopIteration` exception**.\n",
    "\n",
    "Does it sound strange? Not at all. Look at the example in the editor.\n",
    "\n",
    "We've built a class able to iterate through the first `n` values (where `n` is a constructor parameter) of the Fibonacci numbers.\n",
    "\n",
    "Let us remind you - the Fibonacci numbers (Fib<sub>i</sub>) are defined as follows:\n",
    "\n",
    "Fib<sub>1</sub> = 1\n",
    "Fib<sub>2</sub> = 1\n",
    "Fib<sub>i</sub> = Fib<sub>i-1</sub> + Fib<sub>i-2</sub>\n",
    "\n",
    "In other words:\n",
    "\n",
    "-   the first two Fibonacci numbers are equal to 1;\n",
    "-   any other Fibonacci number is the sum of the two previous ones (e.g., Fib<sub>3</sub> = 2, Fib<sub>4</sub> = 3, Fib<sub>5</sub> = 5, and so on)\n",
    "\n",
    "Let's dive into the code:\n",
    "\n",
    "-   lines 2 through 6: the class constructor prints a message (we'll use this to trace the class's behavior), prepares some variables (`__n` to store the series limit, `__i` to track the current Fibonacci number to provide, and `__p1` along with `__p2` to save the two previous numbers);\n",
    "\n",
    "-   lines 8 through 10: the `__iter__` method is obliged to return the iterator object itself; its purpose may be a bit ambiguous here, but there's no mystery; try to imagine an object which is not an iterator (e.g., it's a collection of some entities), but one of its components is an iterator able to scan the collection; the `__iter__` method should **extract the iterator and entrust it with the execution of the iteration protocol**; as you can see, the method starts its action by printing a message;\n",
    "\n",
    "-   lines 12 through 21: the `__next__` method is responsible for creating the sequence; it's somewhat wordy, but this should make it more readable; first, it prints a message, then it updates the number of desired values, and if it reaches the end of the sequence, the method breaks the iteration by raising the StopIteration exception; the rest of the code is simple, and it precisely reflects the definition we showed you earlier;\n",
    "\n",
    "-   lines 24 and 25 make use of the iterator.\n",
    "\n",
    "\n",
    "The code produces the following output:\n",
    "\n",
    "```python\n",
    "__init__\n",
    "__iter__\n",
    "__next__\n",
    "1\n",
    "__next__\n",
    "1\n",
    "__next__\n",
    "2\n",
    "__next__\n",
    "3\n",
    "__next__\n",
    "5\n",
    "__next__\n",
    "8\n",
    "__next__\n",
    "13\n",
    "__next__\n",
    "21\n",
    "__next__\n",
    "34\n",
    "__next__\n",
    "55\n",
    "__next__\n",
    "```\n",
    "\n",
    "Look:\n",
    "\n",
    "-   the iterator object is instantiated first;\n",
    "-   next, Python invokes the `__iter__` method to get access to the actual iterator;\n",
    "-   the `__next__` method is invoked eleven times - the first ten times produce useful values, while the eleventh terminates the iteration.\n"
   ],
   "metadata": {
    "collapsed": false
   }
  },
  {
   "cell_type": "code",
   "execution_count": 3,
   "outputs": [
    {
     "name": "stdout",
     "output_type": "stream",
     "text": [
      "__init__\n",
      "__iter__\n",
      "__next__\n",
      "1\n",
      "__next__\n",
      "1\n",
      "__next__\n",
      "2\n",
      "__next__\n",
      "3\n",
      "__next__\n",
      "5\n",
      "__next__\n",
      "8\n",
      "__next__\n",
      "13\n",
      "__next__\n",
      "21\n",
      "__next__\n",
      "34\n",
      "__next__\n",
      "55\n",
      "__next__\n"
     ]
    }
   ],
   "source": [
    "class Fib:\n",
    "    def __init__(self, nn):\n",
    "        print(\"__init__\")\n",
    "        self.__n = nn\n",
    "        self.__i = 0\n",
    "        self.__p1 = self.__p2 = 1\n",
    "\n",
    "    def __iter__(self):\n",
    "        print(\"__iter__\")\n",
    "        return self\n",
    "\n",
    "    def __next__(self):\n",
    "        print(\"__next__\")\n",
    "        self.__i += 1\n",
    "        if self.__i > self.__n:\n",
    "            raise StopIteration\n",
    "        if self.__i in [1, 2]:\n",
    "            return 1\n",
    "        ret = self.__p1 + self.__p2\n",
    "        self.__p1, self.__p2 = self.__p2, ret\n",
    "        return ret\n",
    "\n",
    "\n",
    "for i in Fib(10):\n",
    "    print(i)\n"
   ],
   "metadata": {
    "collapsed": false,
    "ExecuteTime": {
     "end_time": "2023-05-30T18:17:31.661647411Z",
     "start_time": "2023-05-30T18:17:31.618243820Z"
    }
   }
  },
  {
   "cell_type": "markdown",
   "source": [
    "## Generators - where to find them: continued\n",
    "\n",
    "The previous example shows you a solution where the **iterator object is a part of a more complex class**.\n",
    "\n",
    "The code isn't really sophisticated, but it presents the concept in a clear way.\n",
    "\n",
    "Take a look at the code in the editor.\n",
    "\n",
    "We've built the `Fib` iterator into another class (we can say that we've composed it into the `Class` class). It's instantiated along with `Class`'s object.\n",
    "\n",
    "The object of the class may be used as an iterator when (and only when) it positively answers to the `__iter__` invocation - this class can do it, and if it's invoked in this way, it provides an object able to obey the iteration protocol.\n",
    "\n",
    "This is why the output of the code is the same as previously, although the object of the `Fib` class isn't used explicitly inside the `for` loop's context.\n"
   ],
   "metadata": {
    "collapsed": false
   }
  },
  {
   "cell_type": "code",
   "execution_count": 5,
   "outputs": [
    {
     "name": "stdout",
     "output_type": "stream",
     "text": [
      "Class iter\n",
      "1\n",
      "1\n",
      "2\n",
      "3\n",
      "5\n",
      "8\n",
      "13\n",
      "21\n",
      "34\n",
      "55\n"
     ]
    }
   ],
   "source": [
    "class Fib:\n",
    "    def __init__(self, nn):\n",
    "        self.__n = nn\n",
    "        self.__i = 0\n",
    "        self.__p1 = self.__p2 = 1\n",
    "\n",
    "    def __iter__(self):\n",
    "        print(\"Fib iter\")\n",
    "        return self\n",
    "\n",
    "    def __next__(self):\n",
    "        self.__i += 1\n",
    "        if self.__i > self.__n:\n",
    "            raise StopIteration\n",
    "        if self.__i in [1, 2]:\n",
    "            return 1\n",
    "        ret = self.__p1 + self.__p2\n",
    "        self.__p1, self.__p2 = self.__p2, ret\n",
    "        return ret\n",
    "\n",
    "class Class:\n",
    "    def __init__(self, n):\n",
    "        self.__iter = Fib(n)\n",
    "\n",
    "    def __iter__(self):\n",
    "        print(\"Class iter\")\n",
    "        return self.__iter;\n",
    "\n",
    "\n",
    "object = Class(10)\n",
    "\n",
    "for i in object:\n",
    "    print(i)"
   ],
   "metadata": {
    "collapsed": false,
    "ExecuteTime": {
     "end_time": "2023-05-30T18:26:11.033848719Z",
     "start_time": "2023-05-30T18:26:10.992808605Z"
    }
   }
  },
  {
   "cell_type": "markdown",
   "source": [
    "### The yield statement\n",
    "\n",
    "The iterator protocol isn't particularly difficult to understand and use, but it is also indisputable that the **protocol is rather inconvenient**.\n",
    "\n",
    "The main discomfort it brings is **the need to save the state of the iteration between subsequent `__iter__` invocations**.\n",
    "\n",
    "For example, the `Fib` iterator is forced to precisely store the place in which the last invocation has been stopped (i.e., the evaluated number and the values of the two previous elements). This makes the code larger and less comprehensible.\n",
    "\n",
    "This is why Python offers a much more effective, convenient, and elegant way of writing iterators.\n",
    "\n",
    "The concept is fundamentally based on a very specific and powerful mechanism provided by the `yield` keyword.\n",
    "\n",
    "You may think of the `yield` keyword as a smarter sibling of the `return` statement, with one essential difference.\n",
    "\n",
    "Take a look at this function:\n",
    "\n",
    "```python\n",
    "def fun(n):\n",
    "    for i in range(n):\n",
    "        return i\n",
    "\n",
    "\n",
    "```\n",
    "\n",
    "It looks strange, doesn't it? It's clear that the `for` loop has no chance to finish its first execution, as the `return` will break it irrevocably.\n",
    "\n",
    "Moreover, invoking the function won't change anything - the `for` loop will start from scratch and will be broken immediately.\n",
    "\n",
    "We can say that such a function is not able to save and restore its state between subsequent invocations.\n",
    "\n",
    "This also means that a function like this **cannot be used as a generator**.\n",
    "\n",
    "We've replaced exactly one word in the code - can you see it?\n",
    "\n",
    "```python\n",
    "def fun(n):\n",
    "    for i in range(n):\n",
    "        yield i\n",
    "\n",
    "```\n",
    "\n",
    "We've added `yield` instead of `return`. This little amendment **turns the function into a generator**, and executing the `yield` statement has some very interesting effects.\n",
    "\n",
    "First of all, it provides the value of the expression specified after the `yield` keyword, just like `return`, but doesn't lose the state of the function.\n",
    "\n",
    "All the variables' values are frozen, and wait for the next invocation, when the execution is resumed (not taken from scratch, like after `return`).\n",
    "\n",
    "There is one important limitation: such a **function should not be invoked explicitly** as - in fact - it isn't a function anymore; **it's a generator object**.\n",
    "\n",
    "The invocation will **return the object's identifier**, not the series we expect from the generator.\n",
    "\n",
    "Due to the same reasons, the previous function (the one with the `return` statement) may only be invoked explicitly, and must not be used as a generator.\n",
    "\n",
    "### How to build a generator\n",
    "\n",
    "Let us show you the new generator in action.\n",
    "\n",
    "This is how we can use it:\n",
    "\n",
    "```python\n",
    "def fun(n):\n",
    "    for i in range(n):\n",
    "        yield i\n",
    "\n",
    "\n",
    "for v in fun(5):\n",
    "    print(v)\n",
    "\n",
    "```\n",
    "\n",
    "Can you guess the output?"
   ],
   "metadata": {
    "collapsed": false
   }
  },
  {
   "cell_type": "code",
   "execution_count": 7,
   "outputs": [
    {
     "data": {
      "text/plain": "0"
     },
     "execution_count": 7,
     "metadata": {},
     "output_type": "execute_result"
    }
   ],
   "source": [
    "def fun(n):\n",
    "    for i in range(n):\n",
    "        return i\n",
    "\n",
    "fun(10)"
   ],
   "metadata": {
    "collapsed": false,
    "ExecuteTime": {
     "end_time": "2023-05-30T18:30:41.730271322Z",
     "start_time": "2023-05-30T18:30:41.722650302Z"
    }
   }
  },
  {
   "cell_type": "code",
   "execution_count": 10,
   "outputs": [
    {
     "data": {
      "text/plain": "<generator object fun at 0x7f98780b9c40>"
     },
     "execution_count": 10,
     "metadata": {},
     "output_type": "execute_result"
    }
   ],
   "source": [
    "def fun(n):\n",
    "    for i in range(n):\n",
    "        yield i\n",
    "\n",
    "fun(10)"
   ],
   "metadata": {
    "collapsed": false,
    "ExecuteTime": {
     "end_time": "2023-05-30T18:31:57.722074681Z",
     "start_time": "2023-05-30T18:31:57.678755061Z"
    }
   }
  },
  {
   "cell_type": "code",
   "execution_count": 11,
   "outputs": [
    {
     "name": "stdout",
     "output_type": "stream",
     "text": [
      "0\n",
      "1\n",
      "2\n",
      "3\n",
      "4\n"
     ]
    }
   ],
   "source": [
    "def fun(n):\n",
    "    for i in range(n):\n",
    "        yield i\n",
    "\n",
    "\n",
    "for v in fun(5):\n",
    "    print(v)\n"
   ],
   "metadata": {
    "collapsed": false,
    "ExecuteTime": {
     "end_time": "2023-05-30T18:33:42.057632739Z",
     "start_time": "2023-05-30T18:33:42.022073897Z"
    }
   }
  },
  {
   "cell_type": "markdown",
   "source": [
    "### How to build your own generator\n",
    "\n",
    "What if you need a **generator to produce the first _n_ powers of _2_**?\n",
    "\n",
    "Nothing easier. Just look at the code below:\n",
    "\n",
    "```python\n",
    "def powers_of_2(n):\n",
    "    power = 1\n",
    "    for i in range(n):\n",
    "        yield power\n",
    "        power *= 2\n",
    "\n",
    "\n",
    "for v in powers_of_2(8):\n",
    "    print(v)\n",
    "\n",
    "```\n",
    "\n",
    "Can you guess the output? Copy the code to the editor and run it to check your guesses.\n",
    "\n",
    "**List comprehensions**\n",
    "\n",
    "Generators may also be used within **list comprehensions**, just like here:\n",
    "\n",
    "```python\n",
    "def powers_of_2(n):\n",
    "    power = 1\n",
    "    for i in range(n):\n",
    "        yield power\n",
    "        power *= 2\n",
    "\n",
    "\n",
    "t = [x for x in powers_of_2(5)]\n",
    "print(t)\n",
    "\n",
    "\n",
    "```\n",
    "\n",
    "Run the example and check the output.\n",
    "\n",
    "**The list() function**\n",
    "\n",
    "The `list()` function can transform a series of subsequent generator invocations into **a real list**:\n",
    "\n",
    "```python\n",
    "def powers_of_2(n):\n",
    "    power = 1\n",
    "    for i in range(n):\n",
    "        yield power\n",
    "        power *= 2\n",
    "\n",
    "\n",
    "t = list(powers_of_2(3))\n",
    "print(t)\n",
    "\n",
    "\n",
    "```\n",
    "\n",
    "Again, try to predict the output and run the code to check your predictions.\n",
    "\n",
    "**The in operator**\n",
    "\n",
    "Moreover, the context created by the `in` operator allows you to use a generator, too.\n",
    "\n",
    "The example shows how to do it:\n",
    "\n",
    "```python\n",
    "def powers_of_2(n):\n",
    "    power = 1\n",
    "    for i in range(n):\n",
    "        yield power\n",
    "        power *= 2\n",
    "\n",
    "\n",
    "for i in range(20):\n",
    "    if i in powers_of_2(4):\n",
    "        print(i)\n",
    "\n",
    "```\n",
    "\n",
    "What's the code's output? Run the program and check.\n",
    "\n",
    "**The Fibanacci number generator**\n",
    "\n",
    "Now let's see a **Fibonacci number generator**, and ensure that it looks much better than the objective version based on the direct iterator protocol implementation.\n",
    "\n",
    "Here it is:\n",
    "\n",
    "```python\n",
    "def fibonacci(n):\n",
    "    p = pp = 1\n",
    "    for i in range(n):\n",
    "        if i in [0, 1]:\n",
    "            yield 1\n",
    "        else:\n",
    "            n = p + pp\n",
    "            pp, p = p, n\n",
    "            yield n\n",
    "\n",
    "fibs = list(fibonacci(10))\n",
    "print(fibs)\n",
    "\n",
    "```\n",
    "\n",
    "Guess the output (a list) produced by the generator, and run the code to check if you were right.\n"
   ],
   "metadata": {
    "collapsed": false
   }
  },
  {
   "cell_type": "code",
   "execution_count": 1,
   "outputs": [
    {
     "name": "stdout",
     "output_type": "stream",
     "text": [
      "1\n",
      "2\n",
      "4\n",
      "8\n",
      "16\n",
      "32\n",
      "64\n",
      "128\n"
     ]
    }
   ],
   "source": [
    "def powers_of_2(n):\n",
    "    power = 1\n",
    "    for i in range(n):\n",
    "        yield power\n",
    "        power *= 2\n",
    "\n",
    "\n",
    "for v in powers_of_2(8):\n",
    "    print(v)\n"
   ],
   "metadata": {
    "collapsed": false,
    "ExecuteTime": {
     "end_time": "2023-05-30T18:48:59.019791172Z",
     "start_time": "2023-05-30T18:48:59.018915488Z"
    }
   }
  },
  {
   "cell_type": "code",
   "execution_count": 5,
   "outputs": [
    {
     "name": "stdout",
     "output_type": "stream",
     "text": [
      "[1, 2, 4, 8, 16]\n"
     ]
    }
   ],
   "source": [
    "t = [x for x in powers_of_2(5)]\n",
    "print(t)\n"
   ],
   "metadata": {
    "collapsed": false,
    "ExecuteTime": {
     "end_time": "2023-05-30T18:52:10.218555966Z",
     "start_time": "2023-05-30T18:52:10.176073779Z"
    }
   }
  },
  {
   "cell_type": "code",
   "execution_count": 4,
   "outputs": [
    {
     "name": "stdout",
     "output_type": "stream",
     "text": [
      "[2, 4, 8, 16, 32]\n"
     ]
    }
   ],
   "source": [
    "t = [x*2 for x in powers_of_2(5)]\n",
    "print(t)"
   ],
   "metadata": {
    "collapsed": false,
    "ExecuteTime": {
     "end_time": "2023-05-30T18:51:28.369869264Z",
     "start_time": "2023-05-30T18:51:28.359884249Z"
    }
   }
  },
  {
   "cell_type": "code",
   "execution_count": 7,
   "outputs": [
    {
     "name": "stdout",
     "output_type": "stream",
     "text": [
      "[1, 2, 4]\n"
     ]
    }
   ],
   "source": [
    "t = list(powers_of_2(3))\n",
    "print(t)"
   ],
   "metadata": {
    "collapsed": false,
    "ExecuteTime": {
     "end_time": "2023-05-30T19:04:19.327264919Z",
     "start_time": "2023-05-30T19:04:19.318447108Z"
    }
   }
  },
  {
   "cell_type": "code",
   "execution_count": 8,
   "outputs": [
    {
     "name": "stdout",
     "output_type": "stream",
     "text": [
      "1\n",
      "2\n",
      "4\n",
      "8\n"
     ]
    }
   ],
   "source": [
    "for i in range(20):\n",
    "    if i in powers_of_2(4):\n",
    "        print(i)\n"
   ],
   "metadata": {
    "collapsed": false,
    "ExecuteTime": {
     "end_time": "2023-05-30T19:06:02.340558205Z",
     "start_time": "2023-05-30T19:06:02.317531372Z"
    }
   }
  },
  {
   "cell_type": "code",
   "execution_count": 9,
   "outputs": [
    {
     "name": "stdout",
     "output_type": "stream",
     "text": [
      "[1, 1, 2, 3, 5, 8, 13, 21, 34, 55]\n"
     ]
    }
   ],
   "source": [
    "def fibonacci(n):\n",
    "    p = pp = 1\n",
    "    for i in range(n):\n",
    "        if i in [0, 1]:\n",
    "            yield 1\n",
    "        else:\n",
    "            n = p + pp\n",
    "            pp, p = p, n\n",
    "            yield n\n",
    "\n",
    "fibs = list(fibonacci(10))\n",
    "print(fibs)\n"
   ],
   "metadata": {
    "collapsed": false,
    "ExecuteTime": {
     "end_time": "2023-05-30T19:08:04.589838277Z",
     "start_time": "2023-05-30T19:08:04.554726206Z"
    }
   }
  },
  {
   "cell_type": "markdown",
   "source": [
    "### More about list comprehensions\n",
    "\n",
    "You should be able to remember the rules governing the creation and use of a very special Python phenomenon named **list comprehension - a simple and very impressive way of creating lists and their contents**.\n",
    "\n",
    "In case you need it, we've provided a quick reminder in the editor.\n",
    "\n",
    "There are two parts inside the code, both creating a list containing a few of the first natural powers of ten.\n",
    "\n",
    "The former uses a routine way of utilizing the `for` loop, while the latter makes use of the list comprehension and builds the list in situ, without needing a loop, or any other extended code.\n",
    "\n",
    "It looks like the list is created inside itself - it's not true, of course, as Python has to perform nearly the same operations as in the first snippet, but it is indisputable that the second formalism is simply more elegant, and lets the reader avoid any unnecessary details.\n",
    "\n",
    "The example outputs two identical lines containing the following text:\n",
    "\n",
    "`[1, 10, 100, 1000, 10000, 100000]`\n",
    "`[1, 10, 100, 1000, 10000, 100000]`\n"
   ],
   "metadata": {
    "collapsed": false
   }
  },
  {
   "cell_type": "code",
   "execution_count": 10,
   "outputs": [
    {
     "name": "stdout",
     "output_type": "stream",
     "text": [
      "[1, 10, 100, 1000, 10000, 100000]\n",
      "[1, 10, 100, 1000, 10000, 100000]\n"
     ]
    }
   ],
   "source": [
    "# the first way\n",
    "list_1 = []\n",
    "for ex in range(6):\n",
    "    list_1.append(10 ** ex)\n",
    "\n",
    "# the second way\n",
    "list_2 = [10 ** ex for ex in range(6)]\n",
    "\n",
    "# both lists are the same\n",
    "print(list_1)\n",
    "print(list_2)\n"
   ],
   "metadata": {
    "collapsed": false,
    "ExecuteTime": {
     "end_time": "2023-05-30T19:13:15.958598630Z",
     "start_time": "2023-05-30T19:13:15.923470249Z"
    }
   }
  },
  {
   "cell_type": "code",
   "execution_count": 23,
   "outputs": [],
   "source": [
    "List_str = ['__' + strs + '__' for strs in 'Python']"
   ],
   "metadata": {
    "collapsed": false,
    "ExecuteTime": {
     "end_time": "2023-05-30T19:16:34.534410728Z",
     "start_time": "2023-05-30T19:16:34.493173392Z"
    }
   }
  },
  {
   "cell_type": "code",
   "execution_count": 24,
   "outputs": [
    {
     "name": "stdout",
     "output_type": "stream",
     "text": [
      "['__P__', '__y__', '__t__', '__h__', '__o__', '__n__']\n"
     ]
    }
   ],
   "source": [
    "print(List_str)"
   ],
   "metadata": {
    "collapsed": false,
    "ExecuteTime": {
     "end_time": "2023-05-30T19:16:34.918668910Z",
     "start_time": "2023-05-30T19:16:34.914834957Z"
    }
   }
  },
  {
   "cell_type": "markdown",
   "source": [
    "### More about list comprehensions: continued\n",
    "\n",
    "There is a very interesting syntax we want to show you now. Its usability is not limited to list comprehensions, but we have to admit that comprehensions are the ideal environment for it.\n",
    "\n",
    "It's a **conditional expression - a way of selecting one of two different values based on the result of a Boolean expression**.\n",
    "\n",
    "Look:\n",
    "\n",
    "expression\\_one if condition else expression\\_two\n",
    "\n",
    "It may look a bit surprising at first glance, but you have to keep in mind that it is **not a conditional instruction**. Moreover, it's not an instruction at all. It's an operator.\n",
    "\n",
    "The value it provides is equal to expression\\_one when the condition is `True`, and expression\\_two otherwise.\n",
    "\n",
    "A good example will tell you more. Look at the code in the editor.\n",
    "\n",
    "The code fills a list with `1`'s and `0`s - if the index of a particular element is odd, the element is set to `0`, and to `1` otherwise.\n",
    "\n",
    "Simple? Maybe not at first glance. Elegant? Indisputably.\n",
    "\n",
    "Can you use the same trick within a list comprehension? Yes, you can.\n"
   ],
   "metadata": {
    "collapsed": false
   }
  },
  {
   "cell_type": "code",
   "execution_count": 25,
   "outputs": [
    {
     "name": "stdout",
     "output_type": "stream",
     "text": [
      "[1, 0, 1, 0, 1, 0, 1, 0, 1, 0]\n"
     ]
    }
   ],
   "source": [
    "the_list = []\n",
    "\n",
    "for x in range(10):\n",
    "    the_list.append(1 if x % 2 == 0 else 0)\n",
    "\n",
    "print(the_list)\n"
   ],
   "metadata": {
    "collapsed": false,
    "ExecuteTime": {
     "end_time": "2023-05-30T19:18:35.404947911Z",
     "start_time": "2023-05-30T19:18:35.371485814Z"
    }
   }
  },
  {
   "cell_type": "code",
   "execution_count": 28,
   "outputs": [
    {
     "name": "stdout",
     "output_type": "stream",
     "text": [
      "[1, 0, 1, 0, 1, 0, 1, 0, 1, 0]\n"
     ]
    }
   ],
   "source": [
    "the_list = [1 if x % 2 == 0 else 0 for x in range(10)]\n",
    "print(the_list)"
   ],
   "metadata": {
    "collapsed": false,
    "ExecuteTime": {
     "end_time": "2023-05-30T19:22:05.994417575Z",
     "start_time": "2023-05-30T19:22:05.952280698Z"
    }
   }
  },
  {
   "cell_type": "markdown",
   "source": [
    "### More about list comprehensions: continued\n",
    "\n",
    "Look at the example in the editor.\n",
    "\n",
    "Compactness and elegance - these two words come to mind when looking at the code.\n",
    "\n",
    "So, what do they have in common, generators and list comprehensions? Is there any connection between them? Yes. A rather loose connection, but an unequivocal one.\n",
    "\n",
    "Just one change can **turn any list comprehension into a generator**.\n",
    "\n",
    "**List comprehensions vs. generators**\n",
    "\n",
    "Now look at the code below and see if you can find the detail that turns a list comprehension into a generator:\n",
    "\n",
    "```python\n",
    "the_list = [1 if x % 2 == 0 else 0 for x in range(10)]\n",
    "the_generator = (1 if x % 2 == 0 else 0 for x in range(10))\n",
    "\n",
    "for v in the_list:\n",
    "    print(v, end=\" \")\n",
    "print()\n",
    "\n",
    "for v in the_generator:\n",
    "    print(v, end=\" \")\n",
    "print()\n",
    "\n",
    "```\n",
    "\n",
    "It's the **parentheses**. The brackets make a comprehension, the parentheses make a generator.\n",
    "\n",
    "The code, however, when run, produces two identical lines:\n",
    "\n",
    "`1 0 1 0 1 0 1 0 1 0 1 0 1 0 1 0 1 0 1 0`\n",
    "\n",
    "How can you know that the second assignment creates a generator, not a list?\n",
    "\n",
    "There is some proof we can show you. Apply the `len()` function to both these entities.\n",
    "\n",
    "`len(the_list)` will evaluate to `10`. Clear and predictable. `len(the_generator)` will raise an exception, and you will see the following message:\n",
    "\n",
    "`TypeError: object of type 'generator' has no len()`\n",
    "\n",
    "Of course, saving either the list or the generator is not necessary - you can create them exactly in the place where you need them - just like here:\n",
    "\n",
    "```python\n",
    "for v in [1 if x % 2 == 0 else 0 for x in range(10)]:\n",
    "    print(v, end=\" \")\n",
    "print()\n",
    "\n",
    "for v in (1 if x % 2 == 0 else 0 for x in range(10)):\n",
    "    print(v, end=\" \")\n",
    "print()\n",
    "\n",
    "```\n",
    "\n",
    "Note: the same appearance of the output doesn't mean that both loops work in the same way. In the first loop, the list is created (and iterated through) as a whole - it actually exists when the loop is being executed.\n",
    "\n",
    "In the second loop, there is no list at all - there are only subsequent values produced by the generator, one by one.\n",
    "\n",
    "Carry out your own experiments."
   ],
   "metadata": {
    "collapsed": false
   }
  },
  {
   "cell_type": "code",
   "execution_count": 29,
   "outputs": [
    {
     "name": "stdout",
     "output_type": "stream",
     "text": [
      "[1, 0, 1, 0, 1, 0, 1, 0, 1, 0]\n"
     ]
    }
   ],
   "source": [
    "the_list = [1 if x % 2 == 0 else 0 for x in range(10)]\n",
    "\n",
    "print(the_list)\n"
   ],
   "metadata": {
    "collapsed": false,
    "ExecuteTime": {
     "end_time": "2023-05-31T18:00:36.384831383Z",
     "start_time": "2023-05-31T18:00:36.370496014Z"
    }
   }
  },
  {
   "cell_type": "code",
   "execution_count": 31,
   "outputs": [
    {
     "name": "stdout",
     "output_type": "stream",
     "text": [
      "1 0 1 0 1 0 1 0 1 0 \n",
      "1 0 1 0 1 0 1 0 1 0 \n",
      "[1, 0, 1, 0, 1, 0, 1, 0, 1, 0]\n",
      "<generator object <genexpr> at 0x7f36400c3220>\n"
     ]
    }
   ],
   "source": [
    "the_list = [1 if x % 2 == 0 else 0 for x in range(10)]\n",
    "the_generator = (1 if x % 2 == 0 else 0 for x in range(10))\n",
    "\n",
    "for v in the_list:\n",
    "    print(v, end=\" \")\n",
    "print()\n",
    "\n",
    "for v in the_generator:\n",
    "    print(v, end=\" \")\n",
    "print()\n",
    "\n",
    "print(the_list)\n",
    "print(the_generator)"
   ],
   "metadata": {
    "collapsed": false,
    "ExecuteTime": {
     "end_time": "2023-05-31T18:03:16.097965556Z",
     "start_time": "2023-05-31T18:03:16.081731867Z"
    }
   }
  },
  {
   "cell_type": "code",
   "execution_count": 33,
   "outputs": [
    {
     "name": "stdout",
     "output_type": "stream",
     "text": [
      "10\n"
     ]
    },
    {
     "ename": "TypeError",
     "evalue": "object of type 'generator' has no len()",
     "output_type": "error",
     "traceback": [
      "\u001B[0;31m---------------------------------------------------------------------------\u001B[0m",
      "\u001B[0;31mTypeError\u001B[0m                                 Traceback (most recent call last)",
      "Cell \u001B[0;32mIn[33], line 2\u001B[0m\n\u001B[1;32m      1\u001B[0m \u001B[38;5;28mprint\u001B[39m(\u001B[38;5;28mlen\u001B[39m(the_list))\n\u001B[0;32m----> 2\u001B[0m \u001B[38;5;28mprint\u001B[39m(\u001B[38;5;28;43mlen\u001B[39;49m\u001B[43m(\u001B[49m\u001B[43mthe_generator\u001B[49m\u001B[43m)\u001B[49m)\n",
      "\u001B[0;31mTypeError\u001B[0m: object of type 'generator' has no len()"
     ]
    }
   ],
   "source": [
    "print(len(the_list))\n",
    "print(len(the_generator))"
   ],
   "metadata": {
    "collapsed": false,
    "ExecuteTime": {
     "end_time": "2023-05-31T18:04:45.820450063Z",
     "start_time": "2023-05-31T18:04:45.796978321Z"
    }
   }
  },
  {
   "cell_type": "code",
   "execution_count": 35,
   "outputs": [
    {
     "name": "stdout",
     "output_type": "stream",
     "text": [
      "<class 'list'>\n",
      "<class 'generator'>\n"
     ]
    }
   ],
   "source": [
    "print(type(the_list))\n",
    "print(type(the_generator))"
   ],
   "metadata": {
    "collapsed": false,
    "ExecuteTime": {
     "end_time": "2023-05-31T18:05:42.482052921Z",
     "start_time": "2023-05-31T18:05:42.447061855Z"
    }
   }
  },
  {
   "cell_type": "code",
   "execution_count": 36,
   "outputs": [
    {
     "name": "stdout",
     "output_type": "stream",
     "text": [
      "1 0 1 0 1 0 1 0 1 0 \n",
      "1 0 1 0 1 0 1 0 1 0 \n"
     ]
    }
   ],
   "source": [
    "for v in [1 if x % 2 == 0 else 0 for x in range(10)]:\n",
    "    print(v, end=\" \")\n",
    "print()\n",
    "\n",
    "for v in (1 if x % 2 == 0 else 0 for x in range(10)):\n",
    "    print(v, end=\" \")\n",
    "print()\n",
    "\n"
   ],
   "metadata": {
    "collapsed": false,
    "ExecuteTime": {
     "end_time": "2023-05-31T18:05:52.234423040Z",
     "start_time": "2023-05-31T18:05:52.204851678Z"
    }
   }
  },
  {
   "cell_type": "markdown",
   "source": [
    "## The lambda function\n",
    "\n",
    "The `lambda` function is a concept borrowed from mathematics, more specifically, from a part called _the Lambda calculus_, but these two phenomena are not the same.\n",
    "\n",
    "Mathematicians use _the Lambda calculus_ in many formal systems connected with logic, recursion, or theorem provability. Programmers use the `lambda` function to simplify the code, to make it clearer and easier to understand.\n",
    "\n",
    "A `lambda` function is a function without a name (you can also call it **an anonymous function**). Of course, such a statement immediately raises the question: how do you use anything that cannot be identified?\n",
    "\n",
    "Fortunately, it's not a problem, as you can name such a function if you really need, but, in fact, in many cases the `lambda` function can exist and work while remaining fully incognito.\n",
    "\n",
    "The declaration of the `lambda` function doesn't resemble a normal function declaration in any way - see for yourself:\n",
    "\n",
    "`lambda parameters: expression`\n",
    "\n",
    "Such a clause **returns the value of the expression when taking into account the current value of the current `lambda` argument**.\n",
    "\n",
    "As usual, an example will be helpful. Our example uses three `lambda` functions, but gives them names. Look at it carefully:\n",
    "\n",
    "```python\n",
    "two = lambda: 2\n",
    "sqr = lambda x: x * x\n",
    "pwr = lambda x, y: x ** y\n",
    "\n",
    "for a in range(-2, 3):\n",
    "    print(sqr(a), end=\" \")\n",
    "    print(pwr(a, two()))\n",
    "\n",
    "```\n",
    "\n",
    "Let's analzye it:\n",
    "\n",
    "-   the first `lambda` is an anonymous **parameterless function** that always returns `2`. As we've **assigned it to a variable named `two`**, we can say that the function is not anonymous anymore, and we can use the name to invoke it.\n",
    "\n",
    "-   the second one is a **one-parameter anonymous function** that returns the value of its squared argument. We've named it as such, too.\n",
    "\n",
    "-   the third `lambda` **takes two parameters** and returns the value of the first one raised to the power of the second one. The name of the variable which carries the `lambda` speaks for itself. We don't use `pow` to avoid confusion with the built-in function of the same name and the same purpose.\n",
    "\n",
    "\n",
    "The program produces the following output:\n",
    "\n",
    "`4 4 1 1 0 0 1 1 4 4`\n",
    "\n",
    "**output**\n",
    "\n",
    "This example is clear enough to show how `lambda`s are declared and how they behave, but it says nothing about why they're necessary, and what they're used for, since they can all be replaced with routine Python functions.\n",
    "\n",
    "Where is the benefit?"
   ],
   "metadata": {
    "collapsed": false
   }
  },
  {
   "cell_type": "code",
   "execution_count": 37,
   "outputs": [
    {
     "name": "stdout",
     "output_type": "stream",
     "text": [
      "4 4\n",
      "1 1\n",
      "0 0\n",
      "1 1\n",
      "4 4\n"
     ]
    }
   ],
   "source": [
    "two = lambda: 2\n",
    "sqr = lambda x: x * x\n",
    "pwr = lambda x, y: x ** y\n",
    "\n",
    "for a in range(-2, 3):\n",
    "    print(sqr(a), end=\" \")\n",
    "    print(pwr(a, two()))\n",
    "\n"
   ],
   "metadata": {
    "collapsed": false,
    "ExecuteTime": {
     "end_time": "2023-05-31T18:10:05.696241321Z",
     "start_time": "2023-05-31T18:10:05.658109576Z"
    }
   }
  },
  {
   "cell_type": "markdown",
   "source": [
    "### How to use lambdas and what for?\n",
    "\n",
    "The most interesting part of using lambdas appears when you can use them in their pure form - **as anonymous parts of code intended to evaluate a result**.\n",
    "\n",
    "Imagine that we need a function (we'll name it `print_function`) which prints the values of a given (other) function for a set of selected arguments.\n",
    "\n",
    "We want `print_function` to be universal - it should accept a set of arguments put in a list and a function to be evaluated, both as arguments - we don't want to hardcode anything.\n",
    "\n",
    "Look at the example in the editor. This is how we've implemented the idea.\n",
    "\n",
    "Let's analyze it. The `print_function()` function takes two parameters:\n",
    "\n",
    "-   the first, a list of arguments for which we want to print the results;\n",
    "-   the second, a function which should be invoked as many times as the number of values that are collected inside the first parameter.\n",
    "\n",
    "Note: we've also defined a function named `poly()` - this is the function whose values we're going to print. The calculation the function performs isn't very sophisticated - it's the polynomial (hence its name) of a form:\n",
    "\n",
    "f(x) = 2x<sup>2</sup> - 4x + 2\n",
    "\n",
    "The name of the function is then passed to the `print_function()` along with a set of five different arguments - the set is built with a list comprehension clause.\n",
    "\n",
    "The code prints the following lines:\n",
    "\n",
    "`f(-2)=18 f(-1)=8 f(0)=2 f(1)=0 f(2)=2`\n",
    "\n",
    "**output**\n",
    "\n",
    "Can we avoid defining the `poly()` function, as we're not going to use it more than once? Yes, we can - this is the benefit a lambda can bring.\n",
    "\n",
    "Look at the example below. Can you see the difference?\n",
    "\n",
    "`def print_function(args, fun):`\n",
    "\n",
    "`for x in args:`\n",
    "\n",
    "`print('f(', x,')=', fun(x), sep='')`\n",
    "\n",
    "`print_function([x for x in range(-2, 3)], lambda x: 2 * x**2 - 4 * x + 2)`\n",
    "\n",
    "The `print_function()` has remained exactly the same, but there is no `poly()` function. We don't need it anymore, as the polynomial is now directly inside the `print_function()` invocation in the form of a lambda defined in the following way:\n",
    "\n",
    "`lambda x: 2 * x**2 - 4 * x + 2`\n",
    "\n",
    "The code has become shorter, clearer, and more legible.\n",
    "\n",
    "Let us show you another place where lambdas can be useful. We'll start with a description of `map()`, a built-in Python function. Its name isn't too descriptive, its idea is simple, and the function itself is really usable."
   ],
   "metadata": {
    "collapsed": false
   }
  },
  {
   "cell_type": "code",
   "execution_count": 39,
   "outputs": [
    {
     "name": "stdout",
     "output_type": "stream",
     "text": [
      "f(-2)=18\n",
      "f(-1)=8\n",
      "f(0)=2\n",
      "f(1)=0\n",
      "f(2)=2\n"
     ]
    }
   ],
   "source": [
    "def print_function(args, fun):\n",
    "    for x in args:\n",
    "        print('f(', x,')=', fun(x), sep='')\n",
    "\n",
    "\n",
    "def poly(x):\n",
    "    return 2 * x**2 - 4 * x + 2\n",
    "\n",
    "\n",
    "print_function([x for x in range(-2, 3)], poly)\n"
   ],
   "metadata": {
    "collapsed": false,
    "ExecuteTime": {
     "end_time": "2023-05-31T18:14:34.204411057Z",
     "start_time": "2023-05-31T18:14:34.162320710Z"
    }
   }
  },
  {
   "cell_type": "code",
   "execution_count": 47,
   "outputs": [
    {
     "name": "stdout",
     "output_type": "stream",
     "text": [
      "f(-2) = 18\n",
      "f(-1) = 8\n",
      "f(0) = 2\n",
      "f(1) = 0\n",
      "f(2) = 2\n"
     ]
    }
   ],
   "source": [
    "def print_function(args):\n",
    "    for x in args:\n",
    "        print('f(', x,') = ', (lambda x: 2 * x**2 -4 * x + 2)(x), sep='')\n",
    "\n",
    "print_function([x for x in range(-2, 3)])"
   ],
   "metadata": {
    "collapsed": false,
    "ExecuteTime": {
     "end_time": "2023-05-31T18:19:52.573869256Z",
     "start_time": "2023-05-31T18:19:52.569166903Z"
    }
   }
  },
  {
   "cell_type": "code",
   "execution_count": 48,
   "outputs": [
    {
     "name": "stdout",
     "output_type": "stream",
     "text": [
      "f(-2)=18\n",
      "f(-1)=8\n",
      "f(0)=2\n",
      "f(1)=0\n",
      "f(2)=2\n"
     ]
    }
   ],
   "source": [
    "def print_function(args, fun):\n",
    "    for x in args:\n",
    "        print('f(', x,')=', fun(x), sep='')\n",
    "\n",
    "print_function([x for x in range(-2, 3)], lambda x: 2 * x**2 - 4 * x + 2)\n",
    "\n"
   ],
   "metadata": {
    "collapsed": false,
    "ExecuteTime": {
     "end_time": "2023-05-31T18:20:26.147068026Z",
     "start_time": "2023-05-31T18:20:26.094848844Z"
    }
   }
  },
  {
   "cell_type": "markdown",
   "source": [
    "### Lambdas and the map() function\n",
    "\n",
    "In the simplest of all possible cases, the `map()` function:\n",
    "\n",
    "takes two arguments:\n",
    "\n",
    "-   a function;\n",
    "-   a list.\n",
    "\n",
    "The above description is extremely simplified, as:\n",
    "\n",
    "-   the second `map()` argument may be any entity that can be iterated (e.g., a tuple, or just a generator)\n",
    "-   `map()` can accept more than two arguments.\n",
    "\n",
    "The **`map()` function applies the function passed by its first argument to all its second argument's elements, and returns an iterator delivering all subsequent function results**.\n",
    "\n",
    "You can use the resulting iterator in a loop, or convert it into a list using the `list()` function.\n",
    "\n",
    "Can you see a role for any lambda here?\n",
    "\n",
    "Look at the code in the editor - we've used two lambdas in it.\n",
    "\n",
    "This is the intrigue:\n",
    "\n",
    "-   build the `list_1` with values from `0` to `4`;\n",
    "-   next, use `map` along with the first `lambda` to create a new list in which all elements have been evaluated as `2` raised to the power taken from the corresponding element from `list_1`;\n",
    "-   `list_2` is printed then;\n",
    "-   in the next step, use the `map()` function again to make use of the generator it returns and to directly print all the values it delivers; as you can see, we've engaged the second `lambda` here - it just squares each element from `list_2`.\n",
    "\n",
    "Try to imagine the same code without lambdas. Would it be any better? It's unlikely."
   ],
   "metadata": {
    "collapsed": false
   }
  },
  {
   "cell_type": "code",
   "execution_count": 49,
   "outputs": [
    {
     "name": "stdout",
     "output_type": "stream",
     "text": [
      "[1, 2, 4, 8, 16]\n",
      "1 4 16 64 256 \n"
     ]
    }
   ],
   "source": [
    "list_1 = [x for x in range(5)]\n",
    "list_2 = list(map(lambda x: 2 ** x, list_1))\n",
    "print(list_2)\n",
    "\n",
    "for x in map(lambda x: x * x, list_2):\n",
    "    print(x, end=' ')\n",
    "print()"
   ],
   "metadata": {
    "collapsed": false,
    "ExecuteTime": {
     "end_time": "2023-05-31T18:28:15.982183552Z",
     "start_time": "2023-05-31T18:28:15.935154921Z"
    }
   }
  },
  {
   "cell_type": "markdown",
   "source": [
    "### Lambdas and the filter() function\n",
    "\n",
    "Another Python function which can be significantly beautified by the application of a lambda is `filter()`.\n",
    "\n",
    "It expects the same kind of arguments as `map()`, but does something different - it **filters its second argument while being guided by directions flowing from the function specified as the first argument** (the function is invoked for each list element, just like in `map()`).\n",
    "\n",
    "The elements which return `True` from the function **pass the filter** - the others are rejected.\n",
    "\n",
    "The example in the editor shows the `filter()` function in action.\n",
    "\n",
    "Note: we've made use of the `random` module to initialize the random number generator (not to be confused with the generators we've just talked about) with the `seed()` function, and to produce five random integer values from `-10` to `10` using the `randint()` function.\n",
    "\n",
    "The list is then filtered, and only the numbers which are even and greater than zero are accepted.\n",
    "\n",
    "Of course, it's not likely that you'll receive the same results, but this is what our results looked like:\n",
    "\n",
    "`[6, 3, 3, 2, -7] [6, 2]`"
   ],
   "metadata": {
    "collapsed": false
   }
  },
  {
   "cell_type": "code",
   "execution_count": 57,
   "outputs": [
    {
     "name": "stdout",
     "output_type": "stream",
     "text": [
      "[2, 4, 0, 5, 5]\n",
      "[2, 4]\n"
     ]
    }
   ],
   "source": [
    "from random import seed, randint\n",
    "\n",
    "seed()\n",
    "data = [randint(-10,10) for x in range(5)]\n",
    "filtered = list(filter(lambda x: x > 0 and x % 2 == 0, data))\n",
    "\n",
    "print(data)\n",
    "print(filtered)\n"
   ],
   "metadata": {
    "collapsed": false,
    "ExecuteTime": {
     "end_time": "2023-05-31T18:32:57.949302002Z",
     "start_time": "2023-05-31T18:32:57.938823078Z"
    }
   }
  },
  {
   "cell_type": "markdown",
   "source": [
    "### A brief look at closures\n",
    "\n",
    "Let's start with a definition: **closure is a technique which allows the storing of values in spite of the fact that the context in which they have been created does not exist anymore**. Intricate? A bit.\n",
    "\n",
    "Let's analyze a simple example:\n",
    "\n",
    "```python\n",
    "def outer(par):\n",
    "    loc = par\n",
    "\n",
    "\n",
    "var = 1\n",
    "outer(var)\n",
    "\n",
    "print(par)\n",
    "print(loc)\n",
    "\n",
    "```\n",
    "\n",
    "The example is obviously erroneous.\n",
    "\n",
    "The last two lines will cause a NameError exception – neither `par` nor `loc` is accessible outside the function. Both the variables exist when and only when the `outer()` function is being executed.\n",
    "\n",
    "Look at the example in the editor. We've modified the code significantly.\n",
    "\n",
    "There is a brand new element in it – a function (named `inner`) inside another function (named `outer`).\n",
    "\n",
    "How does it work? Just like any other function except for the fact that `inner()` may be invoked only from within `outer()`. We can say that `inner()` is `outer()`'s private tool – no other part of the code can access it.\n",
    "\n",
    "Look carefully:\n",
    "\n",
    "-   the `inner()` function returns the value of the variable accessible inside its scope, as `inner()` can use any of the entities at the disposal of `outer()`\n",
    "-   the `outer()` function returns the `inner()` function itself; more precisely, it returns a copy of the `inner()` function, the one which was frozen at the moment of `outer()`'s invocation; the frozen function contains its full environment, including the state of all local variables, which also means that the value of `loc` is successfully retained, although `outer()` ceased to exist a long time ago.\n",
    "\n",
    "In effect, the code is fully valid, and outputs:\n",
    "\n",
    "`1`"
   ],
   "metadata": {
    "collapsed": false
   }
  },
  {
   "cell_type": "code",
   "execution_count": 59,
   "outputs": [
    {
     "ename": "NameError",
     "evalue": "name 'par' is not defined",
     "output_type": "error",
     "traceback": [
      "\u001B[0;31m---------------------------------------------------------------------------\u001B[0m",
      "\u001B[0;31mNameError\u001B[0m                                 Traceback (most recent call last)",
      "Cell \u001B[0;32mIn[59], line 8\u001B[0m\n\u001B[1;32m      5\u001B[0m var \u001B[38;5;241m=\u001B[39m \u001B[38;5;241m1\u001B[39m\n\u001B[1;32m      6\u001B[0m outer(var)\n\u001B[0;32m----> 8\u001B[0m \u001B[38;5;28mprint\u001B[39m(\u001B[43mpar\u001B[49m)\n\u001B[1;32m      9\u001B[0m \u001B[38;5;28mprint\u001B[39m(loc)\n",
      "\u001B[0;31mNameError\u001B[0m: name 'par' is not defined"
     ]
    }
   ],
   "source": [
    "def outer(par):\n",
    "    loc = par\n",
    "\n",
    "\n",
    "var = 1\n",
    "outer(var)\n",
    "\n",
    "print(par)\n",
    "print(loc)\n"
   ],
   "metadata": {
    "collapsed": false,
    "ExecuteTime": {
     "end_time": "2023-05-31T18:36:04.096903066Z",
     "start_time": "2023-05-31T18:36:04.046896911Z"
    }
   }
  },
  {
   "cell_type": "code",
   "execution_count": 58,
   "outputs": [
    {
     "name": "stdout",
     "output_type": "stream",
     "text": [
      "1\n"
     ]
    }
   ],
   "source": [
    "def outer(par):\n",
    "    loc = par\n",
    "\n",
    "    def inner():\n",
    "        return loc\n",
    "    return inner\n",
    "\n",
    "\n",
    "var = 1\n",
    "fun = outer(var)\n",
    "print(fun())\n"
   ],
   "metadata": {
    "collapsed": false,
    "ExecuteTime": {
     "end_time": "2023-05-31T18:35:33.136042980Z",
     "start_time": "2023-05-31T18:35:33.087960495Z"
    }
   }
  },
  {
   "cell_type": "markdown",
   "source": [
    "### A brief look at closures: continued\n",
    "\n",
    "**A closure has to be invoked in exactly the same way in which it has been declared**.\n",
    "\n",
    "In the example below:\n",
    "\n",
    "```python\n",
    "def outer(par):\n",
    "    loc = par\n",
    "\n",
    "    def inner():\n",
    "        return loc\n",
    "    return inner\n",
    "\n",
    "\n",
    "var = 1\n",
    "fun = outer(var)\n",
    "print(fun())\n",
    "\n",
    "```\n",
    "\n",
    "the `inner()` function is parameterless, so we have to invoke it without arguments.\n",
    "\n",
    "Now look at the code in the editor. It is fully possible to **declare a closure equipped with an arbitrary number of parameters**, e.g., one, just like the `power()` function.\n",
    "\n",
    "This means that the closure not only makes use of the frozen environment, but it can also **modify its behavior by using values taken from the outside**.\n",
    "\n",
    "This example shows one more interesting circumstance - you can **create as many closures as you want using one and the same piece of code**. This is done with a function named `make_closure()`. Note:\n",
    "\n",
    "-   the first closure obtained from `make_closure()` defines a tool squaring its argument;\n",
    "-   the second one is designed to cube the argument.\n",
    "\n",
    "This is why the code produces the following output:\n",
    "\n",
    "`0 0 0 1 1 1 2 4 8 3 9 27 4 16 64`\n",
    "\n",
    "**output**\n",
    "\n",
    "Carry out your own tests.\n"
   ],
   "metadata": {
    "collapsed": false
   }
  },
  {
   "cell_type": "code",
   "execution_count": 60,
   "outputs": [
    {
     "name": "stdout",
     "output_type": "stream",
     "text": [
      "1\n"
     ]
    }
   ],
   "source": [
    "def outer(par):\n",
    "    loc = par\n",
    "\n",
    "    def inner():\n",
    "        return loc\n",
    "    return inner\n",
    "\n",
    "\n",
    "var = 1\n",
    "fun = outer(var)\n",
    "print(fun())\n",
    "\n"
   ],
   "metadata": {
    "collapsed": false,
    "ExecuteTime": {
     "end_time": "2023-05-31T18:39:38.064552314Z",
     "start_time": "2023-05-31T18:39:38.002889242Z"
    }
   }
  },
  {
   "cell_type": "code",
   "execution_count": 61,
   "outputs": [
    {
     "name": "stdout",
     "output_type": "stream",
     "text": [
      "0 0 0\n",
      "1 1 1\n",
      "2 4 8\n",
      "3 9 27\n",
      "4 16 64\n"
     ]
    }
   ],
   "source": [
    "def make_closure(par):\n",
    "    loc = par\n",
    "\n",
    "    def power(p):\n",
    "        return p ** loc\n",
    "    return power\n",
    "\n",
    "\n",
    "fsqr = make_closure(2)\n",
    "fcub = make_closure(3)\n",
    "\n",
    "for i in range(5):\n",
    "    print(i, fsqr(i), fcub(i))\n"
   ],
   "metadata": {
    "collapsed": false,
    "ExecuteTime": {
     "end_time": "2023-05-31T18:40:44.012763345Z",
     "start_time": "2023-05-31T18:40:43.959377288Z"
    }
   }
  },
  {
   "cell_type": "code",
   "execution_count": 73,
   "outputs": [
    {
     "name": "stdout",
     "output_type": "stream",
     "text": [
      "16\n",
      "1024\n"
     ]
    }
   ],
   "source": [
    "f2 = make_closure(2)\n",
    "print(f2(4)) # 4 ** 2 = 16\n",
    "\n",
    "f5 = make_closure(5)\n",
    "print(f5(4)) # 4 ** 5 = 1024"
   ],
   "metadata": {
    "collapsed": false,
    "ExecuteTime": {
     "end_time": "2023-05-31T18:45:40.011932150Z",
     "start_time": "2023-05-31T18:45:39.959092640Z"
    }
   }
  },
  {
   "cell_type": "code",
   "execution_count": 72,
   "outputs": [
    {
     "data": {
      "text/plain": "1024"
     },
     "execution_count": 72,
     "metadata": {},
     "output_type": "execute_result"
    }
   ],
   "source": [
    "4**5"
   ],
   "metadata": {
    "collapsed": false,
    "ExecuteTime": {
     "end_time": "2023-05-31T18:45:23.292557660Z",
     "start_time": "2023-05-31T18:45:23.273057145Z"
    }
   }
  },
  {
   "cell_type": "markdown",
   "source": [
    "### Key takeaways\n",
    "\n",
    "1\\. An **iterator** is an object of a class providing at least **two** methods (not counting the constructor):\n",
    "\n",
    "-   `__iter__()` is invoked once when the iterator is created and returns the iterator's object **itself**;\n",
    "-   `__next__()` is invoked to provide the **next iteration's value** and raises the `StopIteration` exception when the iteration **comes to an end**."
   ],
   "metadata": {
    "collapsed": false
   }
  },
  {
   "cell_type": "markdown",
   "source": [
    "2\\. The `yield` statement can be used only inside functions. The `yield` statement suspends function execution and causes the function to return the yield's argument as a result. Such a function cannot be invoked in a regular way – its only purpose is to be used as a **generator** (i.e. in a context that requires a series of values, like a `for` loop.)"
   ],
   "metadata": {
    "collapsed": false
   }
  },
  {
   "cell_type": "markdown",
   "source": [
    "\n",
    "3\\. A **conditional expression** is an expression built using the `if-else` operator. For example:"
   ],
   "metadata": {
    "collapsed": false
   }
  },
  {
   "cell_type": "code",
   "execution_count": 74,
   "outputs": [
    {
     "name": "stdout",
     "output_type": "stream",
     "text": [
      "True\n"
     ]
    }
   ],
   "source": [
    "print(True if 0 >= 0 else False)\n"
   ],
   "metadata": {
    "collapsed": false,
    "ExecuteTime": {
     "end_time": "2023-05-31T18:52:11.902163397Z",
     "start_time": "2023-05-31T18:52:11.848161342Z"
    }
   }
  },
  {
   "cell_type": "markdown",
   "source": [
    "4\\. A **list comprehension** becomes a **generator** when used inside **parentheses** (used inside brackets, it produces a regular list). For example:\n"
   ],
   "metadata": {
    "collapsed": false
   }
  },
  {
   "cell_type": "code",
   "execution_count": 75,
   "outputs": [
    {
     "name": "stdout",
     "output_type": "stream",
     "text": [
      "0\n",
      "2\n",
      "4\n",
      "6\n",
      "8\n"
     ]
    }
   ],
   "source": [
    "for x in (el * 2 for el in range(5)):\n",
    "    print(x)\n"
   ],
   "metadata": {
    "collapsed": false,
    "ExecuteTime": {
     "end_time": "2023-05-31T18:54:27.328172161Z",
     "start_time": "2023-05-31T18:54:27.264355654Z"
    }
   }
  },
  {
   "cell_type": "code",
   "execution_count": 78,
   "outputs": [
    {
     "name": "stdout",
     "output_type": "stream",
     "text": [
      "0\n",
      "2\n",
      "4\n",
      "6\n",
      "8\n"
     ]
    }
   ],
   "source": [
    "for x in [el * 2 for el in range(5)]:\n",
    "    print(x)"
   ],
   "metadata": {
    "collapsed": false,
    "ExecuteTime": {
     "end_time": "2023-05-31T19:14:58.595172464Z",
     "start_time": "2023-05-31T19:14:58.574475738Z"
    }
   }
  },
  {
   "cell_type": "code",
   "execution_count": 79,
   "outputs": [
    {
     "name": "stdout",
     "output_type": "stream",
     "text": [
      "[0, 2, 4, 6, 8]\n",
      "<generator object <genexpr> at 0x7f364014f0d0>\n"
     ]
    }
   ],
   "source": [
    "print([el * 2 for el in range(5)])\n",
    "print((el * 2 for el in range(5)))"
   ],
   "metadata": {
    "collapsed": false,
    "ExecuteTime": {
     "end_time": "2023-05-31T19:15:32.132296688Z",
     "start_time": "2023-05-31T19:15:32.078361315Z"
    }
   }
  },
  {
   "cell_type": "markdown",
   "source": [
    "5\\. A **lambda function** is a tool for creating **anonymous functions**. For example:\n"
   ],
   "metadata": {
    "collapsed": false
   }
  },
  {
   "cell_type": "code",
   "execution_count": 80,
   "outputs": [
    {
     "name": "stdout",
     "output_type": "stream",
     "text": [
      "3.0\n"
     ]
    }
   ],
   "source": [
    "def foo(x, f):\n",
    "    return f(x)\n",
    "\n",
    "print(foo(9, lambda x: x ** 0.5))\n",
    "\n"
   ],
   "metadata": {
    "collapsed": false,
    "ExecuteTime": {
     "end_time": "2023-05-31T19:15:58.296909256Z",
     "start_time": "2023-05-31T19:15:58.262277195Z"
    }
   }
  },
  {
   "cell_type": "markdown",
   "source": [
    "6\\. The `map(fun, list)` function creates a **copy** of a `list` argument, and applies the `fun` function to all of its elements, returning a **generator** that provides the new list content element by element. For example:"
   ],
   "metadata": {
    "collapsed": false
   }
  },
  {
   "cell_type": "code",
   "execution_count": 81,
   "outputs": [
    {
     "name": "stdout",
     "output_type": "stream",
     "text": [
      "['Mython', 'Python', 'Fell', 'On', 'The', 'Floor']\n"
     ]
    }
   ],
   "source": [
    "short_list = ['mython', 'python', 'fell', 'on', 'the', 'floor']\n",
    "new_list = list(map(lambda s: s.title(), short_list))\n",
    "print(new_list)\n"
   ],
   "metadata": {
    "collapsed": false,
    "ExecuteTime": {
     "end_time": "2023-05-31T19:16:15.192261050Z",
     "start_time": "2023-05-31T19:16:15.117885397Z"
    }
   }
  },
  {
   "cell_type": "markdown",
   "source": [
    "7\\. The `filter(fun, list)` function creates a **copy** of those `list` elements, which cause the `fun` function to return `True`. The function's result is a **generator** providing the new list content element by element. For example:\n"
   ],
   "metadata": {
    "collapsed": false
   }
  },
  {
   "cell_type": "code",
   "execution_count": 82,
   "outputs": [
    {
     "name": "stdout",
     "output_type": "stream",
     "text": [
      "['Python', 'Monty']\n"
     ]
    }
   ],
   "source": [
    "short_list = [1, \"Python\", -1, \"Monty\"]\n",
    "new_list = list(filter(lambda s: isinstance(s, str), short_list))\n",
    "print(new_list)\n"
   ],
   "metadata": {
    "collapsed": false,
    "ExecuteTime": {
     "end_time": "2023-05-31T19:16:49.518219832Z",
     "start_time": "2023-05-31T19:16:49.454702712Z"
    }
   }
  },
  {
   "cell_type": "markdown",
   "source": [
    "8\\. A closure is a technique which allows the **storing of values** in spite of the fact that the **context** in which they have been created **does not exist anymore**\n",
    "\n",
    "For example:\n"
   ],
   "metadata": {
    "collapsed": false
   }
  },
  {
   "cell_type": "code",
   "execution_count": 83,
   "outputs": [
    {
     "name": "stdout",
     "output_type": "stream",
     "text": [
      "<b>Monty Python</b>\n"
     ]
    }
   ],
   "source": [
    "def tag(tg):\n",
    "    tg2 = tg\n",
    "    tg2 = tg[0] + '/' + tg[1:]\n",
    "\n",
    "    def inner(str):\n",
    "        return tg + str + tg2\n",
    "    return inner\n",
    "\n",
    "\n",
    "b_tag = tag('<b>')\n",
    "print(b_tag('Monty Python'))\n"
   ],
   "metadata": {
    "collapsed": false,
    "ExecuteTime": {
     "end_time": "2023-05-31T19:17:43.209044556Z",
     "start_time": "2023-05-31T19:17:43.141141098Z"
    }
   }
  },
  {
   "cell_type": "markdown",
   "source": [
    "**Exercise 1**\n",
    "\n",
    "What is the expected output of the following code?"
   ],
   "metadata": {
    "collapsed": false
   }
  },
  {
   "cell_type": "code",
   "execution_count": null,
   "outputs": [],
   "source": [
    "class Vowels:\n",
    "    def __init__(self):\n",
    "        self.vow = \"aeiouy \"  # Yes, we know that y is not always considered a vowel.\n",
    "        self.pos = 0\n",
    "\n",
    "    def __iter__(self):\n",
    "        return self\n",
    "\n",
    "    def __next__(self):\n",
    "        if self.pos == len(self.vow):\n",
    "            raise StopIteration\n",
    "        self.pos += 1\n",
    "        return self.vow[self.pos - 1]\n",
    "\n",
    "\n",
    "vowels = Vowels()\n",
    "for v in vowels:\n",
    "    print(v, end=' ')"
   ],
   "metadata": {
    "collapsed": false
   }
  },
  {
   "cell_type": "markdown",
   "source": [],
   "metadata": {
    "collapsed": false
   }
  },
  {
   "cell_type": "markdown",
   "source": [
    "**Exercise 2**\n",
    "\n",
    "Write a **lambda** function, setting the least significant bit of its integer argument, and apply it to the `map()` function to produce the string `1 3 3 5` on the console.\n"
   ],
   "metadata": {
    "collapsed": false
   }
  },
  {
   "cell_type": "code",
   "execution_count": 87,
   "outputs": [
    {
     "name": "stdout",
     "output_type": "stream",
     "text": [
      "[1, 3, 3, 5]\n"
     ]
    }
   ],
   "source": [
    "any_list = [1, 2, 3, 4]\n",
    "even_list = list(map(lambda x: x if x % 2 else x + 1, any_list))\n",
    "print(even_list)\n"
   ],
   "metadata": {
    "collapsed": false,
    "ExecuteTime": {
     "end_time": "2023-05-31T19:25:38.085460451Z",
     "start_time": "2023-05-31T19:25:38.040925637Z"
    }
   }
  },
  {
   "cell_type": "code",
   "execution_count": 88,
   "outputs": [
    {
     "name": "stdout",
     "output_type": "stream",
     "text": [
      "[1, 3, 3, 5]\n"
     ]
    }
   ],
   "source": [
    "any_list = [1, 2, 3, 4]\n",
    "even_list = list(map(lambda n: n | 1, any_list))\n",
    "print(even_list)"
   ],
   "metadata": {
    "collapsed": false,
    "ExecuteTime": {
     "end_time": "2023-05-31T19:26:21.239267240Z",
     "start_time": "2023-05-31T19:26:21.218674609Z"
    }
   }
  },
  {
   "cell_type": "markdown",
   "source": [
    "**Exercise 3**\n",
    "\n",
    "What is the expected output of the following code?"
   ],
   "metadata": {
    "collapsed": false
   }
  },
  {
   "cell_type": "code",
   "execution_count": null,
   "outputs": [],
   "source": [
    "def replace_spaces(replacement='*'):\n",
    "    def new_replacement(text):\n",
    "        return text.replace(' ', replacement)\n",
    "    return new_replacement\n",
    "\n",
    "\n",
    "stars = replace_spaces()\n",
    "print(stars(\"And Now for Something Completely Different\"))"
   ],
   "metadata": {
    "collapsed": false
   }
  },
  {
   "cell_type": "markdown",
   "source": [
    "\n",
    "**Note**\n",
    "\n",
    "[PEP 8](https://www.python.org/dev/peps/pep-0008/#programming-recommendations), the Style Guide for Python Code, recommends that **lambdas should not be assigned to variables, but rather they should be defined as functions**.\n",
    "\n",
    "This means that it is better to use a `def` statement, and avoid using an assignment statement that binds a lambda expression to an identifer. Analyze the code below:\n",
    "\n",
    "```python\n",
    "# Recommended:\n",
    "def f(x): return 3*x\n",
    "\n",
    "\n",
    "# Not recommended:\n",
    "f = lambda x: 3*x\n",
    "```\n",
    "\n",
    "Binding lambdas to identifiers generally duplicates the functionality of the `def` statement. Using `def` statements, on the other hand, generates more lines of code.\n",
    "\n",
    "It is important to understand that reality often likes to draw its own scenarios, which do not necessarily follow the conventions or formal recommendations. Whether you decide to follow them or not will depend on many things: your preferences, other conventions adopted, company internal guidelines, compatibility with existing code, etc. Be aware of this."
   ],
   "metadata": {
    "collapsed": false
   }
  },
  {
   "cell_type": "markdown",
   "source": [
    "## Processing files\n"
   ],
   "metadata": {
    "collapsed": false
   }
  },
  {
   "cell_type": "markdown",
   "source": [
    "### Accessing files from Python code\n",
    "\n",
    "One of the most common issues in the developer's job is to **process data stored in files** while the files are usually physically stored using storage devices - hard, optical, network, or solid-state disks.\n",
    "\n",
    "It's easy to imagine a program that sorts 20 numbers, and it's equally easy to imagine the user of this program entering these twenty numbers directly from the keyboard.\n",
    "\n",
    "It's much harder to imagine the same task when there are 20,000 numbers to be sorted, and there isn't a single user who is able to enter these numbers without making a mistake.\n",
    "\n",
    "It's much easier to imagine that these numbers are stored in the disk file which is read by the program. The program sorts the numbers and doesn't send them to the screen, but instead creates a new file and saves the sorted sequence of numbers there.\n",
    "\n",
    "If we want to implement a simple database, the only way to store the information between program runs is to save it into a file (or files if your database is more complex).\n",
    "\n",
    "In principle, any non-simple programming problem relies on the use of files, whether it processes images (stored in files), multiplies matrices (stored in files), or calculates wages and taxes (reading data stored in files).\n",
    "\n",
    "![test](../img/module_4/baf3c7a32db23a6ee8e80a0696b374bad5394501.png)\n",
    "\n",
    "You may ask why we have waited until now to show you these issues.\n",
    "\n",
    "The answer is very simple - Python's way of accessing and processing files is implemented using a consistent set of objects. There is no better moment to talk about it."
   ],
   "metadata": {
    "collapsed": false
   }
  },
  {
   "cell_type": "markdown",
   "source": [
    "### File names\n",
    "\n",
    "Different operating systems can treat the files in different ways. For example, Windows uses a different naming convention than the one adopted in Unix/Linux systems.\n",
    "\n",
    "If we use the notion of a canonical file name (a name which uniquely defines the location of the file regardless of its level in the directory tree) we can realize that these names look different in Windows and in Unix/Linux:\n",
    "\n",
    "![The concept of file paths](../img/module_4/8dd129d92508b1867df5d26866d66f79bde3af1a.png)\n",
    "\n",
    "As you can see, systems derived from Unix/Linux don't use the disk drive letter (e.g., `C:`) and all the directories grow from one root directory called `/`, while Windows systems recognize the root directory as `\\`.\n",
    "\n",
    "In addition, Unix/Linux system file names are case-sensitive. Windows systems store the case of letters used in the file name, but don't distinguish between their cases at all.\n",
    "\n",
    "This means that these two strings: `ThisIsTheNameOfTheFile` and `thisisthenameofthefile` describe two different files in Unix/Linux systems, but are the same name for just one file in Windows systems.\n",
    "\n",
    "The main and most striking difference is that you have to use **two different separators for the directory names**: `\\` in Windows, and `/` in Unix/Linux.\n",
    "\n",
    "This difference is not very important to the normal user, but is **very important when writing programs in Python**.\n",
    "\n",
    "To understand why, try to recall the very specific role played by the `\\` inside Python strings."
   ],
   "metadata": {
    "collapsed": false
   }
  },
  {
   "cell_type": "markdown",
   "source": [
    "### File names: continued\n",
    "\n",
    "Suppose you're interested in a particular file located in the directory dir, and named file.\n",
    "\n",
    "Suppose also that you want to assign a string containing the name of the file.\n",
    "\n",
    "In Unix/Linux systems, it may look as follows:\n",
    "\n",
    "`name = \"/dir/file\"`\n",
    "\n",
    "But if you try to code it for the Windows system:\n",
    "\n",
    "`name = \"\\dir\\file\"`\n",
    "\n",
    "you'll get an unpleasant surprise: either Python will generate an error, or the execution of the program will behave strangely, as if the file name has been distorted in some way.\n",
    "\n",
    "In fact, it's not strange at all, but quite obvious and natural. Python uses the `\\` as an escape character (like `\\n`).\n",
    "\n",
    "This means that Windows file names must be written as follows:\n",
    "\n",
    "`name = \"\\\\dir\\\\file\"`\n",
    "\n",
    "Fortunately, there is also one more solution. Python is smart enough to be able to convert slashes into backslashes each time it discovers that it's required by the OS.\n",
    "\n",
    "This means that any the following assignments:\n",
    "\n",
    "`name = \"/dir/file\" name = \"c:/dir/file\"`\n",
    "\n",
    "will work with Windows, too.\n",
    "\n",
    "Any program written in Python (and not only in Python, because that convention applies to virtually all programming languages) does not communicate with the files directly, but through some abstract entities that are named differently in different languages or environments - the most-used terms are **handles** or **streams** (we'll use them as synonyms here).\n",
    "\n",
    "The programmer, having a more- or less-rich set of functions/methods, is able to perform certain operations on the stream, which affect the real files using mechanisms contained in the operating system kernel.\n",
    "\n",
    "In this way, you can implement the process of accessing any file, even when the name of the file is unknown at the time of writing the program.\n",
    "\n",
    "The operations performed with the abstract stream reflect the activities related to the physical file.\n",
    "\n",
    "![Accessing files - a tree structure concept](../img/module_4/278d1abf2ed4c9cfd0bce451c387aad365ed4a72.png)\n",
    "\n",
    "To connect (bind) the stream with the file, it's necessary to perform an explicit operation.\n",
    "\n",
    "The operation of connecting the stream with a file is called **opening the file**, while disconnecting this link is named **closing the file**.\n",
    "\n",
    "Hence, the conclusion is that the very first operation performed on the stream is always `open` and the last one is `close`. The program, in effect, is free to manipulate the stream between these two events and to handle the associated file.\n",
    "\n",
    "This freedom is limited, of course, by the physical characteristics of the file and the way in which the file has been opened.\n",
    "\n",
    "Let us say again that the opening of the stream can fail, and it may happen due to several reasons: the most common is the lack of a file with a specified name.\n",
    "\n",
    "It can also happen that the physical file exists, but the program is not allowed to open it. There's also the risk that the program has opened too many streams, and the specific operating system may not allow the simultaneous opening of more than n files (e.g., 200).\n",
    "\n",
    "A well-written program should detect these failed openings, and react accordingly."
   ],
   "metadata": {
    "collapsed": false
   }
  },
  {
   "cell_type": "markdown",
   "source": [
    "## File streams\n",
    "\n",
    "The opening of the stream is not only associated with the file, but should also declare the manner in which the stream will be processed. This declaration is called an **open mode**.\n",
    "\n",
    "If the opening is successful, the **program will be allowed to perform only the operations which are consistent with the declared open mode**.\n",
    "\n",
    "There are two basic operations performed on the stream:\n",
    "\n",
    "-   **read** from the stream: the portions of the data are retrieved from the file and placed in a memory area managed by the program (e.g., a variable);\n",
    "-   **write** to the stream: the portions of the data from the memory (e.g., a variable) are transferred to the file.\n",
    "\n",
    "There are three basic modes used to open the stream:\n",
    "\n",
    "-   **read mode**: a stream opened in this mode allows **read operations only**; trying to write to the stream will cause an exception (the exception is named UnsupportedOperation, which inherits OSError and ValueError, and comes from the io module);\n",
    "-   **write mode**: a stream opened in this mode allows **write operations only**; attempting to read the stream will cause the exception mentioned above;\n",
    "-   **update mode**: a stream opened in this mode allows **both writes and reads**.\n",
    "\n",
    "Before we discuss how to manipulate the streams, we owe you some explanation. **The stream behaves almost like a tape recorder**.\n",
    "\n",
    "When you read something from a stream, a virtual head moves over the stream according to the number of bytes transferred from the stream.\n",
    "\n",
    "When you write something to the stream, the same head moves along the stream recording the data from the memory.\n",
    "\n",
    "Whenever we talk about reading from and writing to the stream, try to imagine this analogy. The programming books refer to this mechanism as the **current file position**, and we'll also use this term.\n",
    "\n",
    "\n",
    "\n",
    "![The read/write concept](../img/module_4/193c0b58a122298556fe12d7bf37c53d40d50545.png)\n",
    "\n",
    "It's necessary now to show you the object responsible for representing streams in programs."
   ],
   "metadata": {
    "collapsed": false
   }
  },
  {
   "cell_type": "markdown",
   "source": [
    "### File handles\n",
    "\n",
    "Python assumes that **every file is hidden behind an object of an adequate class**.\n",
    "\n",
    "Of course, it's hard not to ask how to interpret the word _adequate_.\n",
    "\n",
    "Files can be processed in many different ways - some of them depend on the file's contents, some on the programmer's intentions.\n",
    "\n",
    "In any case, different files may require different sets of operations, and behave in different ways.\n",
    "\n",
    "An object of an adequate class is **created when you open the file and annihilate it at the time of closing**.\n",
    "\n",
    "Between these two events, you can use the object to specify what operations should be performed on a particular stream. The operations you're allowed to use are imposed by **the way in which you've opened the file**.\n",
    "\n",
    "In general, the object comes from one of the classes shown here:\n",
    "\n",
    "![The origin of objects: IOBase, RawIOBase, BufferedIOBase, TextIOBase](../img/module_4/d19a0e31aababa721f84ccfe27bf35970493fb3c.png)\n",
    "\n",
    "Note: you never use constructors to bring these objects to life. The only way you **obtain them is to invoke the function named `open()`**.\n",
    "\n",
    "The function analyses the arguments you've provided, and automatically creates the required object.\n",
    "\n",
    "If you want to **get rid of the object, you invoke the method named `close()`**.\n",
    "\n",
    "The invocation will sever the connection to the object, and the file and will remove the object.\n",
    "\n",
    "For our purposes, we'll concern ourselves only with streams represented by `BufferIOBase` and `TextIOBase` objects. You'll understand why soon.\n",
    "\n",
    "Be the first to leave a comment!"
   ],
   "metadata": {
    "collapsed": false
   }
  },
  {
   "cell_type": "markdown",
   "source": [
    "### File handles: continued\n",
    "\n",
    "Due to the type of the stream's contents, **all the streams are divided into text and binary streams**.\n",
    "\n",
    "The text streams ones are structured in lines; that is, they contain typographical characters (letters, digits, punctuation, etc.) arranged in rows (lines), as seen with the naked eye when you look at the contents of the file in the editor.\n",
    "\n",
    "This file is written (or read) mostly character by character, or line by line.\n",
    "\n",
    "The binary streams don't contain text but a sequence of bytes of any value. This sequence can be, for example, an executable program, an image, an audio or a video clip, a database file, etc.\n",
    "\n",
    "Because these files don't contain lines, the reads and writes relate to portions of data of any size. Hence the data is read/written byte by byte, or block by block, where the size of the block usually ranges from one to an arbitrarily chosen value.\n",
    "\n",
    "Then comes a subtle problem. In Unix/Linux systems, the line ends are marked by a single character named `LF` (ASCII code 10) designated in Python programs as `\\n`.\n",
    "\n",
    "Other operating systems, especially these derived from the prehistoric CP/M system (which applies to Windows family systems, too) use a different convention: the end of line is marked by a pair of characters, `CR` and `LF` (ASCII codes 13 and 10) which can be encoded as `\\r\\n`.\n",
    "\n",
    "\n",
    "\n",
    "![Text vs. binary streams concept](../img/module_4/4947f81ce6cd3f37d08c0b1f3657983360d22395.png)\n",
    "\n",
    "This ambiguity can cause various unpleasant consequences.\n",
    "\n",
    "If you create a program responsible for processing a text file, and it is written for Windows, you can recognize the ends of the lines by finding the `\\r\\n` characters, but the same program running in a Unix/Linux environment will be completely useless, and vice versa: the program written for Unix/Linux systems might be useless in Windows.\n",
    "\n",
    "Such undesirable features of the program, which prevent or hinder the use of the program in different environments, are called **non-portability**.\n",
    "\n",
    "Similarly, the trait of the program allowing execution in different environments is called **portability**. A program endowed with such a trait is called a **portable program**."
   ],
   "metadata": {
    "collapsed": false
   }
  },
  {
   "cell_type": "markdown",
   "source": [
    "### File handles: continued\n",
    "\n",
    "Since portability issues were (and still are) very serious, a decision was made to definitely resolve the issue in a way that doesn't engage the developer's attention.\n",
    "\n",
    "\n",
    "\n",
    "![Text vs. binary streams concept](../img/module_4/a505b9d471830698e22faf258b8f5754bdf48534.png)\n",
    "\n",
    "It was done at the level of classes, which are responsible for reading and writing characters to and from the stream. It works in the following way:\n",
    "\n",
    "-   when the stream is open and it's advised that the data in the associated file will be processed as text (or there is no such advisory at all), it is **switched into text mode**;\n",
    "\n",
    "-   during reading/writing of lines from/to the associated file, nothing special occurs in the Unix environment, but when the same operations are performed in the Windows environment, a process called a **translation of newline characters** occurs: when you read a line from the file, every pair of `\\r\\n` characters is replaced with a single `\\n` character, and vice versa; during write operations, every `\\n` character is replaced with a pair of `\\r\\n` characters;\n",
    "\n",
    "-   the mechanism is completely **transparent** to the program, which can be written as if it was intended for processing Unix/Linux text files only; the source code run in a Windows environment will work properly, too;\n",
    "\n",
    "-   when the stream is open and it's advised to do so, its contents are taken as-is, **without any conversion** - no bytes are added or omitted.\n",
    "\n",
    "## Opening the streams\n",
    "\n",
    "The **opening of the stream** is performed by a function which can be invoked in the following way:\n",
    "\n",
    "`stream = open(file, mode = 'r', encoding = None)`\n",
    "\n",
    "Let's analyze it:\n",
    "\n",
    "-   the name of the function (`open`) speaks for itself; if the opening is successful, the function returns a stream object; otherwise, an exception is raised (e.g., FileNotFoundError **if the file you're going to read doesn't exist**);\n",
    "\n",
    "-   the first parameter of the function (`file`) specifies the name of the file to be associated with the stream;\n",
    "\n",
    "-   the second parameter (`mode`) specifies the open mode used for the stream; it's a string filled with a sequence of characters, and each of them has its own special meaning (more details soon);\n",
    "\n",
    "-   the third parameter (`encoding`) specifies the encoding type (e.g., UTF-8 when working with text files)\n",
    "\n",
    "-   the opening must be the very first operation performed on the stream.\n",
    "\n",
    "Note: the mode and encoding arguments may be omitted - their default values are assumed then. The default opening mode is reading in text mode, while the default encoding depends on the platform used.\n",
    "\n",
    "Let us now present you with the most important and useful open modes. Ready?"
   ],
   "metadata": {
    "collapsed": false
   }
  },
  {
   "cell_type": "code",
   "execution_count": 4,
   "outputs": [],
   "source": [
    "file = \"example.txt\"\n",
    "stream = open(file, mode = 'r', encoding = None)"
   ],
   "metadata": {
    "collapsed": false,
    "ExecuteTime": {
     "end_time": "2023-06-04T18:08:53.332226199Z",
     "start_time": "2023-06-04T18:08:53.313575253Z"
    }
   }
  },
  {
   "cell_type": "code",
   "execution_count": 5,
   "outputs": [
    {
     "name": "stdout",
     "output_type": "stream",
     "text": [
      "    Lorem ipsum dolor sit amet, consectetuer adipiscing elit. Donec est. Aliquam vitae elit eu diam interdum consequat. In hac habitasse platea dictumst. Praesent placerat, justo vel sagittis congue, elit diam feugiat ante, eget faucibus est metus ac dui. Suspendisse semper lectus. Integer vel quam vel sapien ornare egestas. Ut ultrices nunc et urna. Vestibulum vel mi semper sapien interdum adipiscing.\n",
      "\n",
      "    Vivamus iaculis tellus vel nulla. Pellentesque vel sapien ac odio molestie consectetuer. Curabitur arcu. Integer feugiat. Nulla nulla tortor, malesuada et, tincidunt quis, pharetra sit amet, est.\n",
      "\n",
      "    Duis venenatis, turpis at viverra rutrum, mauris ligula molestie orci, eu varius augue wisi id tellus. Integer cursus congue sapien. Fusce sit amet ligula. Vivamus dolor. Mauris et metus. In condimentum feugiat sapien.\n",
      "\n",
      "    Aliquam sit amet purus vel felis congue porttitor. Aliquam consectetuer. Donec laoreet. Integer eros. Duis hendrerit, erat sed mattis luctus, sem diam aliquet magna, et euismod mauris enim semper elit.\n",
      "\n",
      "    Cras dui tortor, dictum in, tincidunt vel, tincidunt non, purus. Etiam mi quam, ultrices sit amet, rhoncus ut, viverra vel, eros. Lorem ipsum dolor sit amet, consectetuer adipiscing elit. Proin sollicitudin. Nunc augue. Aenean tempor posuere diam.\n",
      "\n",
      "    Integer adipiscing arcu ut eros. Aenean vitae felis. Vivamus iaculis. Quisque molestie massa sed turpis. Sed est mi, rutrum sed, varius semper, posuere a, diam. Fusce ipsum est, vestibulum ut, egestas in, elementum ac, lacus. Duis fringilla molestie ante.\n",
      "\n",
      "    Proin diam. Morbi urna turpis, pellentesque at, placerat sed, vulputate vel, augue. Ut semper odio quis ipsum. Nunc auctor purus ut augue. Donec fermentum. Pellentesque hendrerit mi eget wisi. Cum sociis natoque penatibus et magnis dis parturient montes, nascetur ridiculus mus.\n",
      "\n",
      "    Phasellus enim. Lorem ipsum dolor sit amet, consectetuer adipiscing elit. Praesent interdum cursus velit. Class aptent taciti sociosqu ad litora torquent per conubia nostra, per inceptos hymenaeos. Nulla mauris magna, posuere eu, ullamcorper semper, hendrerit semper, lorem. Vestibulum semper ante.\n",
      "\n",
      "    Curabitur tempus, arcu et vestibulum fringilla, eros lectus tincidunt lectus, sit amet tincidunt purus tellus vel massa. Quisque wisi. Cras vestibulum lorem vel purus. Pellentesque libero turpis, euismod sit amet, dictum id, luctus nec, elit. Ut tempor consequat massa. Nunc sed arcu. Mauris wisi. Praesent sapien. Mauris pharetra venenatis pede. Class aptent taciti sociosqu ad litora torquent per conubia nostra, per inceptos hymenaeos. Pellentesque sagittis volutpat wisi. Class aptent taciti sociosqu ad litora torquent per conubia nostra, per inceptos hymenaeos. Curabitur sed arcu.\n",
      "\n",
      "    Vivamus vulputate, tellus non accumsan consectetuer, justo tortor molestie augue, in feugiat lorem ipsum vel nisl. Nam gravida. Curabitur purus. Cras non tortor. Vivamus fermentum, nunc sed fringilla egestas, urna tellus porttitor urna, ut convallis purus nibh a orci. Integer rutrum sodales sem. Vivamus eget arcu.\n",
      "\n",
      "    Pellentesque habitant morbi tristique senectus et netus et malesuada fames ac turpis egestas. Ut sed elit vitae dolor vehicula mattis. Suspendisse dapibus luctus ipsum. Integer pretium egestas lorem. Pellentesque sit amet velit. Quisque placerat volutpat dolor. Nulla pulvinar nulla eget metus. Aenean tincidunt leo vel est. Donec tempus.\n",
      "\n",
      "    In accumsan tortor non urna. Ut viverra. Duis in pede. Ut ipsum. Vivamus elit massa, rutrum et, vestibulum nec, auctor et, massa. Donec blandit massa eu diam. Nunc vel neque. Vestibulum in diam a leo tristique rutrum.\n",
      "\n",
      "    Donec posuere interdum erat. Integer lectus tellus, commodo sed, aliquet ut, malesuada sit amet, pede. Quisque ac sem. Integer gravida sapien vel purus. Proin vel turpis nec diam consectetuer dignissim. Quisque aliquam. Vivamus nunc. Donec sed massa ut dui ornare ultricies. Donec ante libero, semper quis, luctus eu, malesuada semper, odio. Nam non eros.\n",
      "\n",
      "    Vestibulum pretium, magna vel scelerisque vehicula, nulla pede fermentum lectus, semper commodo velit diam vel urna.\n"
     ]
    }
   ],
   "source": [
    "for line in stream:\n",
    "    print(line)"
   ],
   "metadata": {
    "collapsed": false,
    "ExecuteTime": {
     "end_time": "2023-06-04T18:10:04.768360274Z",
     "start_time": "2023-06-04T18:10:04.714865687Z"
    }
   }
  },
  {
   "cell_type": "markdown",
   "source": [
    "### Opening the streams: modes\n",
    "\n",
    "`r` open mode: read\n",
    "\n",
    "-   the stream will be opened in **read mode**;\n",
    "-   the file associated with the stream **must exist** and has to be readable, otherwise the `open()` function raises an exception.\n",
    "\n",
    "`w` open mode: write\n",
    "\n",
    "-   the stream will be opened in **write mode**;\n",
    "-   the file associated with the stream **doesn't need to exist**; if it doesn't exist it will be created; if it exists, it will be truncated to the length of zero (erased); if the creation isn't possible (e.g., due to system permissions) the `open()` function raises an exception.\n",
    "\n",
    "`a` open mode: append\n",
    "\n",
    "-   the stream will be opened in **append mode**;\n",
    "-   the file associated with the stream **doesn't need to exist**; if it doesn't exist, it will be created; if it exists the virtual recording head will be set at the end of the file (the previous content of the file remains untouched.)\n",
    "\n",
    "`r+` open mode: read and update\n",
    "\n",
    "-   the stream will be opened in **read and update mode**;\n",
    "-   the file associated with the stream **must exist and has to be writeable**, otherwise the `open()` function raises an exception;\n",
    "-   both read and write operations are allowed for the stream.\n",
    "\n",
    "`w+` open mode: write and update\n",
    "\n",
    "-   the stream will be opened in **write and update** mode;\n",
    "-   the file associated with the stream **doesn't need to exist**; if it doesn't exist, it will be created; the previous content of the file remains untouched;\n",
    "-   both read and write operations are allowed for the stream.\n",
    "\n",
    "## Selecting text and binary modes\n",
    "\n",
    "If there is a letter `b` at the end of the mode string it means that the stream is to be opened in the **binary mode**.\n",
    "\n",
    "If the mode string ends with a letter `t` the stream is opened in the **text mode**.\n",
    "\n",
    "Text mode is the default behaviour assumed when no binary/text mode specifier is used.\n",
    "\n",
    "Finally, the successful opening of the file will set the current file position (the virtual reading/writing head) before the first byte of the file **if the mode is not `a`** and after the last byte of file **if the mode is set to `a`**.\n",
    "\n",
    "\n",
    "\n",
    "| Text mode | Binary mode | Description |\n",
    "| --- | --- | --- |\n",
    "| `rt` | `rb` | read |\n",
    "| `wt` | `wb` | write |\n",
    "| `at` | `ab` | append |\n",
    "| `r+t` | `r+b` | read and update |\n",
    "| `w+t` | `w+b` | write and update |\n",
    "\n",
    "**EXTRA**\n",
    "\n",
    "You can also open a file for its exclusive creation. You can do this using the `x` open mode. If the file already exists, the `open()` function will raise an exception."
   ],
   "metadata": {
    "collapsed": false
   }
  },
  {
   "cell_type": "markdown",
   "source": [
    "### Opening the stream for the first time\n",
    "\n",
    "Imagine that we want to develop a program that reads content of the text file named: C:\\\\Users\\\\User\\\\Desktop\\\\file.txt.\n",
    "\n",
    "How to open that file for reading? Here's the relevant snippet of the code:\n",
    "\n",
    "```python\n",
    "try:\n",
    "    stream = open(\"C:\\Users\\User\\Desktop\\file.txt\", \"rt\")\n",
    "    # Processing goes here.\n",
    "    stream.close()\n",
    "except Exception as exc:\n",
    "    print(\"Cannot open the file:\", exc)\n",
    "\n",
    "```\n",
    "\n",
    "What's going on here?\n",
    "\n",
    "-   we open the try-except block as we want to handle runtime errors softly;\n",
    "-   we use the `open()` function to try to open the specified file (note the way we've specified the file name)\n",
    "-   the open mode is defined as text to read (as **text is the default setting**, we can skip the `t` in mode string)\n",
    "-   in case of success we get an object from the `open()` function and we assign it to the stream variable;\n",
    "-   if `open()` fails, we handle the exception printing full error information (it's definitely good to know what exactly happened)\n",
    "\n",
    "### Pre-opened streams\n",
    "\n",
    "We said earlier that any stream operation must be preceded by the `open()` function invocation. There are three well-defined exceptions to the rule.\n",
    "\n",
    "When our program starts, the three streams are already opened and don't require any extra preparations. What's more, your program can use these streams explicitly if you take care to import the `sys` module:\n",
    "\n",
    "`import sys`\n",
    "\n",
    "because that's where the declaration of the three streams is placed.\n",
    "\n",
    "The names of these streams are: `sys.stdin`, `sys.stdout`, and `sys.stderr`.\n",
    "\n",
    "Let's analyze them:\n",
    "\n",
    "-   `sys.stdin`\n",
    "\n",
    "-   stdin (as _standard input_)\n",
    "-   the `stdin` stream is normally associated with the keyboard, pre-open for reading and regarded as the primary data source for the running programs;\n",
    "-   the well-known `input()` function reads data from `stdin` by default.\n",
    "\n",
    "\n",
    "-   `sys.stdout`\n",
    "\n",
    "-   stdout (as _standard output_)\n",
    "-   the `stdout` stream is normally associated with the screen, pre-open for writing, regarded as the primary target for outputting data by the running program;\n",
    "-   the well-known `print()` function outputs the data to the `stdout` stream.\n",
    "\n",
    "\n",
    "-   `sys.stderr`\n",
    "\n",
    "-   stderr (as _standard error output_)\n",
    "-   the `stderr` stream is normally associated with the screen, pre-open for writing, regarded as the primary place where the running program should send information on the errors encountered during its work;\n",
    "-   we haven't presented any method to send the data to this stream (we will do it soon, we promise)\n",
    "-   the separation of `stdout` (useful results produced by the program) from the `stderr` (error messages, undeniably useful but does not provide results) gives the possibility of redirecting these two types of information to the different targets. More extensive discussion of this issue is beyond the scope of our course. The operation system handbook will provide more information on these issues."
   ],
   "metadata": {
    "collapsed": false
   }
  },
  {
   "cell_type": "code",
   "execution_count": 7,
   "outputs": [],
   "source": [
    "try:\n",
    "    stream = open(\"example.txt\", \"rt\")\n",
    "    # Processing goes here.\n",
    "    stream.close()\n",
    "except Exception as exc:\n",
    "    print(\"Cannot open the file:\", exc)\n",
    "\n"
   ],
   "metadata": {
    "collapsed": false,
    "ExecuteTime": {
     "end_time": "2023-06-04T18:52:02.661133409Z",
     "start_time": "2023-06-04T18:52:02.616097733Z"
    }
   }
  },
  {
   "cell_type": "markdown",
   "source": [
    "### Closing streams\n",
    "\n",
    "The last operation performed on a stream (this doesn't include the `stdin`, `stdout`, and `stderr` streams which don't require it) should be **closing**.\n",
    "\n",
    "That action is performed by a method invoked from within open stream object: `stream.close()`.\n",
    "\n",
    "-   the name of the function is definitely self-commenting: `close()`\n",
    "-   the function expects exactly no arguments; the stream doesn't need to be opened\n",
    "-   the function returns nothing but raises IOError exception in case of error;\n",
    "-   most developers believe that the `close()` function always succeeds and thus there is no need to check if it's done its task properly.\n",
    "\n",
    "    This belief is only partly justified. If the stream was opened for writing and then a series of write operations were performed, it may happen that the data sent to the stream has not been transferred to the physical device yet (due to mechanism called **caching** or **buffering**).\n",
    "\n",
    "    Since the closing of the stream forces the buffers to flush them, it may be that the flushes fail and therefore the `close()` fails too.\n",
    "\n",
    "\n",
    "We have already mentioned failures caused by functions operating with streams but not mentioned a word how exactly we can identify the cause of the failure.\n",
    "\n",
    "The possibility of making a diagnosis exists and is provided by one of streams' exception component which we are going to tell you about just now.\n",
    "\n",
    "### Diagnosing stream problems\n",
    "\n",
    "The `IOError` object is equipped with a property named `errno` (the name comes from the phrase _error number_) and you can access it as follows:\n",
    "\n",
    "```python\n",
    "try:\n",
    "    # Some stream operations.\n",
    "except IOError as exc:\n",
    "    print(exc.errno)\n",
    "\n",
    "```\n",
    "\n",
    "The value of the `errno` attribute can be compared with one of the predefined symbolic constants defined in the `errno` module.\n",
    "\n",
    "Let's take a look at some selected **constants useful for detecting stream errors**:\n",
    "\n",
    "-   `errno.EACCES` → Permission denied\n",
    "\n",
    "    The error occurs when you try, for example, to open a file with the _read only_ attribute for writing.\n",
    "\n",
    "\n",
    "-   `errno.EBADF` → Bad file number\n",
    "\n",
    "    The error occurs when you try, for example, to operate with an unopened stream.\n",
    "\n",
    "\n",
    "-   `errno.EEXIST` → File exists\n",
    "\n",
    "    The error occurs when you try, for example, to rename a file with its previous name.\n",
    "\n",
    "\n",
    "-   `errno.EFBIG` → File too large\n",
    "\n",
    "    The error occurs when you try to create a file that is larger than the maximum allowed by the operating system.\n",
    "\n",
    "\n",
    "-   `errno.EISDIR` → Is a directory\n",
    "\n",
    "    The error occurs when you try to treat a directory name as the name of an ordinary file.\n",
    "\n",
    "\n",
    "-   `errno.EMFILE` → Too many open files\n",
    "\n",
    "    The error occurs when you try to simultaneously open more streams than acceptable for your operating system.\n",
    "\n",
    "\n",
    "-   `errno.ENOENT` → No such file or directory\n",
    "\n",
    "    The error occurs when you try to access a non-existent file/directory.\n",
    "\n",
    "\n",
    "-   `errno.ENOSPC` → No space left on device\n",
    "\n",
    "    The error occurs when there is no free space on the media.\n",
    "\n",
    "\n",
    "The complete list is much longer (it includes also some error codes not related to the stream processing.)"
   ],
   "metadata": {
    "collapsed": false
   }
  },
  {
   "cell_type": "code",
   "execution_count": 8,
   "outputs": [
    {
     "name": "stdout",
     "output_type": "stream",
     "text": [
      "2\n"
     ]
    }
   ],
   "source": [
    "try:\n",
    "    # Some stream operations.\n",
    "    stream = open('example_2.txt')\n",
    "except IOError as exc:\n",
    "    print(exc.errno)\n",
    "\n"
   ],
   "metadata": {
    "collapsed": false,
    "ExecuteTime": {
     "end_time": "2023-06-04T18:55:35.709079971Z",
     "start_time": "2023-06-04T18:55:35.599898338Z"
    }
   }
  },
  {
   "cell_type": "markdown",
   "source": [
    "### Diagnosing stream problems: continued\n",
    "\n",
    "If you are a very careful programmer, you may feel the need to use the sequence of statements similar to those presented in the editor.\n",
    "\n",
    "Fortunately, there is a function that can dramatically **simplify the error handling code**.\n",
    "\n",
    "Its name is `strerror()`, and it comes from the `os` module and **expects just one argument - an error number**.\n",
    "\n",
    "Its role is simple: you give an error number and get a string describing the meaning of the error.\n",
    "\n",
    "Note: if you pass a non-existent error code (a number which is not bound to any actual error), the function will raise ValueError exception.\n",
    "\n",
    "Now we can simplify our code in the following way:\n",
    "\n",
    "```python\n",
    "from os import strerror\n",
    "\n",
    "try:\n",
    "    s = open(\"c:/users/user/Desktop/file.txt\", \"rt\")\n",
    "    # Actual processing goes here.\n",
    "    s.close()\n",
    "except Exception as exc:\n",
    "    print(\"The file could not be opened:\", strerror(exc.errno))\n",
    "\n",
    "\n",
    "```\n",
    "\n",
    "Okay. Now it's time to deal with text files and get familiar with some basic techniques you can use to process them.\n"
   ],
   "metadata": {
    "collapsed": false
   }
  },
  {
   "cell_type": "code",
   "execution_count": 9,
   "outputs": [
    {
     "name": "stdout",
     "output_type": "stream",
     "text": [
      "The file doesn't exist.\n"
     ]
    }
   ],
   "source": [
    "import errno\n",
    "\n",
    "try:\n",
    "    s = open(\"c:/users/user/Desktop/file.txt\", \"rt\")\n",
    "    # Actual processing goes here.\n",
    "    s.close()\n",
    "except Exception as exc:\n",
    "    if exc.errno == errno.ENOENT:\n",
    "        print(\"The file doesn't exist.\")\n",
    "    elif exc.errno == errno.EMFILE:\n",
    "        print(\"You've opened too many files.\")\n",
    "    else:\n",
    "        print(\"The error number is:\", exc.errno)\n"
   ],
   "metadata": {
    "collapsed": false,
    "ExecuteTime": {
     "end_time": "2023-06-04T19:01:13.651442806Z",
     "start_time": "2023-06-04T19:01:13.587118465Z"
    }
   }
  },
  {
   "cell_type": "code",
   "execution_count": 10,
   "outputs": [
    {
     "name": "stdout",
     "output_type": "stream",
     "text": [
      "The file could not be opened: No such file or directory\n"
     ]
    }
   ],
   "source": [
    "from os import strerror\n",
    "\n",
    "try:\n",
    "    s = open(\"c:/users/user/Desktop/file.txt\", \"rt\")\n",
    "    # Actual processing goes here.\n",
    "    s.close()\n",
    "except Exception as exc:\n",
    "    print(\"The file could not be opened:\", strerror(exc.errno))\n",
    "\n"
   ],
   "metadata": {
    "collapsed": false,
    "ExecuteTime": {
     "end_time": "2023-06-04T19:02:15.020738406Z",
     "start_time": "2023-06-04T19:02:14.950422082Z"
    }
   }
  },
  {
   "cell_type": "markdown",
   "source": [
    "### Key takeaways\n",
    "\n",
    "1\\. A file needs to be **open** before it can be processed by a program, and it should be **closed** when the processing is finished.\n",
    "\n",
    "Opening the file associates it with the **stream**, which is an abstract representation of the physical data stored on the media. The way in which the stream is processed is called **open mode**. **Three** open modes exist:\n",
    "\n",
    "-   **read mode** – only read operations are allowed;\n",
    "-   **write mode** – only write operations are allowed;\n",
    "-   **update mode** – both writes and reads are allowed.\n",
    "\n",
    "2\\. Depending on the physical file content, different Python classes can be used to process files. In general, the `BufferedIOBase` is able to process any file, while `TextIOBase` is a specialized class dedicated to processing text files (i.e. files containing human-visible texts divided into lines using new-line markers). Thus, the streams can be divided into **binary** and **text** ones.\n",
    "\n",
    "\n",
    "\n",
    "3\\. The following `open()` function syntax is used to open a file:\n",
    "\n",
    "`open(file_name, mode=open_mode, encoding=text_encoding)`\n",
    "The invocation creates a stream object and associates it with the file named `file_name`, using the specified `open_mode` and setting the specified `text_encoding`, or it **raises an exception in the case of an error**.\n",
    "\n",
    "4\\. Three **predefined** streams are already open when the program starts:\n",
    "\n",
    "-   `sys.stdin` – standard input;\n",
    "-   `sys.stdout` – standard output;\n",
    "-   `sys.stderr` – standard error output.\n",
    "\n",
    "5\\. The `IOError` exception object, created when any file operations fails (including open operations), contains a property named `errno`, which contains the completion code of the failed action. Use this value to diagnose the problem.\n"
   ],
   "metadata": {
    "collapsed": false
   }
  },
  {
   "cell_type": "markdown",
   "source": [],
   "metadata": {
    "collapsed": false
   }
  },
  {
   "cell_type": "markdown",
   "source": [
    "#### Exercise 1\n",
    "\n",
    "How do you encode an `open()` function’s `mode` argument value if you're going to create a new text file to only fill it with an article?\n"
   ],
   "metadata": {
    "collapsed": false
   }
  },
  {
   "cell_type": "code",
   "execution_count": 14,
   "outputs": [],
   "source": [
    "with open('example_3.txt', 'wt') as f:  # wt or w\n",
    "    f.write('hello world!')\n"
   ],
   "metadata": {
    "collapsed": false,
    "ExecuteTime": {
     "end_time": "2023-06-04T19:10:02.825116623Z",
     "start_time": "2023-06-04T19:10:02.776286971Z"
    }
   }
  },
  {
   "cell_type": "markdown",
   "source": [
    "#### Exercise 2\n",
    "\n",
    "What is the meaning of the value represented by `errno.EACCES`?\n"
   ],
   "metadata": {
    "collapsed": false
   }
  },
  {
   "cell_type": "code",
   "execution_count": 16,
   "outputs": [
    {
     "name": "stdout",
     "output_type": "stream",
     "text": [
      "Permission denied\n"
     ]
    }
   ],
   "source": [
    "import os\n",
    "import errno\n",
    "\n",
    "error_code = errno.EACCES\n",
    "error_message = os.strerror(error_code)\n",
    "\n",
    "print(error_message)"
   ],
   "metadata": {
    "collapsed": false,
    "ExecuteTime": {
     "end_time": "2023-06-04T19:13:12.408928586Z",
     "start_time": "2023-06-04T19:13:12.366309441Z"
    }
   }
  },
  {
   "cell_type": "markdown",
   "source": [
    "#### Exercise 3\n",
    "\n",
    "What is the expected output of the following code, assuming that the file named _file_ does not exist?"
   ],
   "metadata": {
    "collapsed": false
   }
  },
  {
   "cell_type": "code",
   "execution_count": 18,
   "outputs": [
    {
     "name": "stdout",
     "output_type": "stream",
     "text": [
      "absent\n"
     ]
    }
   ],
   "source": [
    "import errno\n",
    "\n",
    "try:\n",
    "    stream = open(\"file\", \"rb\")\n",
    "    print(\"exists\")\n",
    "    stream.close()\n",
    "except IOError as error:\n",
    "    if error.errno == errno.ENOENT:\n",
    "        print(\"absent\")\n",
    "    else:\n",
    "        print(\"unknown\")\n"
   ],
   "metadata": {
    "collapsed": false,
    "ExecuteTime": {
     "end_time": "2023-06-04T19:14:45.978411838Z",
     "start_time": "2023-06-04T19:14:45.958192768Z"
    }
   }
  },
  {
   "cell_type": "code",
   "execution_count": 19,
   "outputs": [
    {
     "name": "stdout",
     "output_type": "stream",
     "text": [
      "No such file or directory\n"
     ]
    }
   ],
   "source": [
    "print(os.strerror(errno.ENOENT))"
   ],
   "metadata": {
    "collapsed": false,
    "ExecuteTime": {
     "end_time": "2023-06-04T19:14:48.749704245Z",
     "start_time": "2023-06-04T19:14:48.723444500Z"
    }
   }
  },
  {
   "cell_type": "markdown",
   "source": [
    "## Working with real files\n"
   ],
   "metadata": {
    "collapsed": false
   }
  },
  {
   "cell_type": "markdown",
   "source": [
    "### Processing text files\n",
    "\n",
    "In this lesson we're going to prepare a simple text file with some short, simple content.\n",
    "\n",
    "We're going to show you some basic techniques you can utilize to **read the file contents** in order to process them.\n",
    "\n",
    "The processing will be very simple - you're going to copy the file's contents to the console, and count all the characters the program has read in.\n",
    "\n",
    "But remember - our understanding of a text file is very strict. In our sense, it's a plain text file - it may contain only text, without any additional decorations (formatting, different fonts, etc.).\n",
    "\n",
    "That's why you should avoid creating the file using any advanced text processor like MS Word, LibreOffice Writer, or something like this. Use the very basics your OS offers: Notepad, vim, gedit, etc.\n",
    "\n",
    "If your text files contain some national characters not covered by the standard ASCII charset, you may need an additional step. Your `open()` function invocation may require an argument denoting specific text encoding.\n",
    "\n",
    "For example, if you're using a Unix/Linux OS configured to use UTF-8 as a system-wide setting, the `open()` function may look as follows:\n",
    "\n",
    "`stream = open('file.txt', 'rt', encoding='utf-8')`\n",
    "\n",
    "where the encoding argument has to be set to a value which is a string representing proper text encoding (UTF-8, here).\n",
    "\n",
    "Consult your OS documentation to find an encoding name adequate to your environment.\n",
    "\n",
    "**Note**\n",
    "\n",
    "For the purposes of our experiments with file processing carried out in this section, we're going to use a pre-uploaded set of files (i.e., tzop.txt, or text.txt files) which you'll be able to work with. If you'd like to work with your own files locally on your machine, we strongly encourage you to do so, and to use IDLE (or any other IDE that you may prefer) to carry out your own tests.\n"
   ],
   "metadata": {
    "collapsed": false
   }
  },
  {
   "cell_type": "code",
   "execution_count": 22,
   "outputs": [
    {
     "name": "stdout",
     "output_type": "stream",
     "text": [
      "    Lorem ipsum dolor sit amet, consectetuer adipiscing elit. Donec est. Aliquam vitae elit eu diam interdum consequat. In hac habitasse platea dictumst. Praesent placerat, justo vel sagittis congue, elit diam feugiat ante, eget faucibus est metus ac dui. Suspendisse semper lectus. Integer vel quam vel sapien ornare egestas. Ut ultrices nunc et urna. Vestibulum vel mi semper sapien interdum adipiscing.\n",
      "    Vivamus iaculis tellus vel nulla. Pellentesque vel sapien ac odio molestie consectetuer. Curabitur arcu. Integer feugiat. Nulla nulla tortor, malesuada et, tincidunt quis, pharetra sit amet, est.\n",
      "    Duis venenatis, turpis at viverra rutrum, mauris ligula molestie orci, eu varius augue wisi id tellus. Integer cursus congue sapien. Fusce sit amet ligula. Vivamus dolor. Mauris et metus. In condimentum feugiat sapien.\n",
      "    Aliquam sit amet purus vel felis congue porttitor. Aliquam consectetuer. Donec laoreet. Integer eros. Duis hendrerit, erat sed mattis luctus, sem diam aliquet magna, et euismod mauris enim semper elit.\n",
      "    Cras dui tortor, dictum in, tincidunt vel, tincidunt non, purus. Etiam mi quam, ultrices sit amet, rhoncus ut, viverra vel, eros. Lorem ipsum dolor sit amet, consectetuer adipiscing elit. Proin sollicitudin. Nunc augue. Aenean tempor posuere diam.\n",
      "    Integer adipiscing arcu ut eros. Aenean vitae felis. Vivamus iaculis. Quisque molestie massa sed turpis. Sed est mi, rutrum sed, varius semper, posuere a, diam. Fusce ipsum est, vestibulum ut, egestas in, elementum ac, lacus. Duis fringilla molestie ante.\n",
      "    Proin diam. Morbi urna turpis, pellentesque at, placerat sed, vulputate vel, augue. Ut semper odio quis ipsum. Nunc auctor purus ut augue. Donec fermentum. Pellentesque hendrerit mi eget wisi. Cum sociis natoque penatibus et magnis dis parturient montes, nascetur ridiculus mus.\n",
      "    Phasellus enim. Lorem ipsum dolor sit amet, consectetuer adipiscing elit. Praesent interdum cursus velit. Class aptent taciti sociosqu ad litora torquent per conubia nostra, per inceptos hymenaeos. Nulla mauris magna, posuere eu, ullamcorper semper, hendrerit semper, lorem. Vestibulum semper ante.\n",
      "    Curabitur tempus, arcu et vestibulum fringilla, eros lectus tincidunt lectus, sit amet tincidunt purus tellus vel massa. Quisque wisi. Cras vestibulum lorem vel purus. Pellentesque libero turpis, euismod sit amet, dictum id, luctus nec, elit. Ut tempor consequat massa. Nunc sed arcu. Mauris wisi. Praesent sapien. Mauris pharetra venenatis pede. Class aptent taciti sociosqu ad litora torquent per conubia nostra, per inceptos hymenaeos. Pellentesque sagittis volutpat wisi. Class aptent taciti sociosqu ad litora torquent per conubia nostra, per inceptos hymenaeos. Curabitur sed arcu.\n",
      "    Vivamus vulputate, tellus non accumsan consectetuer, justo tortor molestie augue, in feugiat lorem ipsum vel nisl. Nam gravida. Curabitur purus. Cras non tortor. Vivamus fermentum, nunc sed fringilla egestas, urna tellus porttitor urna, ut convallis purus nibh a orci. Integer rutrum sodales sem. Vivamus eget arcu.\n",
      "    Pellentesque habitant morbi tristique senectus et netus et malesuada fames ac turpis egestas. Ut sed elit vitae dolor vehicula mattis. Suspendisse dapibus luctus ipsum. Integer pretium egestas lorem. Pellentesque sit amet velit. Quisque placerat volutpat dolor. Nulla pulvinar nulla eget metus. Aenean tincidunt leo vel est. Donec tempus.\n",
      "    In accumsan tortor non urna. Ut viverra. Duis in pede. Ut ipsum. Vivamus elit massa, rutrum et, vestibulum nec, auctor et, massa. Donec blandit massa eu diam. Nunc vel neque. Vestibulum in diam a leo tristique rutrum.\n",
      "    Donec posuere interdum erat. Integer lectus tellus, commodo sed, aliquet ut, malesuada sit amet, pede. Quisque ac sem. Integer gravida sapien vel purus. Proin vel turpis nec diam consectetuer dignissim. Quisque aliquam. Vivamus nunc. Donec sed massa ut dui ornare ultricies. Donec ante libero, semper quis, luctus eu, malesuada semper, odio. Nam non eros.\n",
      "    Vestibulum pretium, magna vel scelerisque vehicula, nulla pede fermentum lectus, semper commodo velit diam vel urna.\n"
     ]
    }
   ],
   "source": [
    "# Opening tzop.txt in read mode, returning it as a file object:\n",
    "stream = open(\"example.txt\", \"rt\", encoding = \"utf-8\")\n",
    "\n",
    "print(stream.read()) # printing the content of the file\n"
   ],
   "metadata": {
    "collapsed": false,
    "ExecuteTime": {
     "end_time": "2023-06-04T19:16:23.065290478Z",
     "start_time": "2023-06-04T19:16:23.043325011Z"
    }
   }
  },
  {
   "cell_type": "markdown",
   "source": [
    "### Processing text files: continued\n",
    "\n",
    "Reading a text file's contents can be performed using several different methods - none of them is any better or worse than any other. It's up to you which of them you prefer and like.\n",
    "\n",
    "Some of them will sometimes be handier, and sometimes more troublesome. Be flexible. Don't be afraid to change your preferences.\n",
    "\n",
    "The most basic of these methods is the one offered by the `read()` function, which you were able to see in action in the previous lesson.\n",
    "\n",
    "If applied to a text file, the function is able to:\n",
    "\n",
    "-   read a desired number of characters (including just one) from the file, and return them as a string;\n",
    "-   read all the file contents, and return them as a string;\n",
    "-   if there is nothing more to read (the virtual reading head reaches the end of the file), the function returns an empty string.\n",
    "\n",
    "We'll start with the simplest variant and use a file named `text.txt`. The file has the following contents:\n",
    "\n",
    "`Beautiful is better than ugly. Explicit is better than implicit. Simple is better than complex. Complex is better than complicated.`\n",
    "\n",
    "**text.txt**\n",
    "\n",
    "Now look at the code in the editor, and let's analyze it.\n",
    "\n",
    "The routine is rather simple:\n",
    "\n",
    "-   use the try-except mechanism and open the file of the predetermined name (text.txt in our case)\n",
    "-   try to read the very first character from the file (`ch = s.read(1)`)\n",
    "-   if you succeed (this is proven by a positive result of the `while` condition check), output the character (note the `end=` argument - it's important! You don't want to skip to a new line after every character!);\n",
    "-   update the counter (`cnt`), too;\n",
    "-   try to read the next character, and the process repeats.\n",
    "\n"
   ],
   "metadata": {
    "collapsed": false
   }
  },
  {
   "cell_type": "code",
   "execution_count": 1,
   "outputs": [
    {
     "name": "stdout",
     "output_type": "stream",
     "text": [
      "    Lorem ipsum dolor sit amet, consectetuer adipiscing elit. Donec est. Aliquam vitae elit eu diam interdum consequat. In hac habitasse platea dictumst. Praesent placerat, justo vel sagittis congue, elit diam feugiat ante, eget faucibus est metus ac dui. Suspendisse semper lectus. Integer vel quam vel sapien ornare egestas. Ut ultrices nunc et urna. Vestibulum vel mi semper sapien interdum adipiscing.\n",
      "    Vivamus iaculis tellus vel nulla. Pellentesque vel sapien ac odio molestie consectetuer. Curabitur arcu. Integer feugiat. Nulla nulla tortor, malesuada et, tincidunt quis, pharetra sit amet, est.\n",
      "    Duis venenatis, turpis at viverra rutrum, mauris ligula molestie orci, eu varius augue wisi id tellus. Integer cursus congue sapien. Fusce sit amet ligula. Vivamus dolor. Mauris et metus. In condimentum feugiat sapien.\n",
      "    Aliquam sit amet purus vel felis congue porttitor. Aliquam consectetuer. Donec laoreet. Integer eros. Duis hendrerit, erat sed mattis luctus, sem diam aliquet magna, et euismod mauris enim semper elit.\n",
      "    Cras dui tortor, dictum in, tincidunt vel, tincidunt non, purus. Etiam mi quam, ultrices sit amet, rhoncus ut, viverra vel, eros. Lorem ipsum dolor sit amet, consectetuer adipiscing elit. Proin sollicitudin. Nunc augue. Aenean tempor posuere diam.\n",
      "    Integer adipiscing arcu ut eros. Aenean vitae felis. Vivamus iaculis. Quisque molestie massa sed turpis. Sed est mi, rutrum sed, varius semper, posuere a, diam. Fusce ipsum est, vestibulum ut, egestas in, elementum ac, lacus. Duis fringilla molestie ante.\n",
      "    Proin diam. Morbi urna turpis, pellentesque at, placerat sed, vulputate vel, augue. Ut semper odio quis ipsum. Nunc auctor purus ut augue. Donec fermentum. Pellentesque hendrerit mi eget wisi. Cum sociis natoque penatibus et magnis dis parturient montes, nascetur ridiculus mus.\n",
      "    Phasellus enim. Lorem ipsum dolor sit amet, consectetuer adipiscing elit. Praesent interdum cursus velit. Class aptent taciti sociosqu ad litora torquent per conubia nostra, per inceptos hymenaeos. Nulla mauris magna, posuere eu, ullamcorper semper, hendrerit semper, lorem. Vestibulum semper ante.\n",
      "    Curabitur tempus, arcu et vestibulum fringilla, eros lectus tincidunt lectus, sit amet tincidunt purus tellus vel massa. Quisque wisi. Cras vestibulum lorem vel purus. Pellentesque libero turpis, euismod sit amet, dictum id, luctus nec, elit. Ut tempor consequat massa. Nunc sed arcu. Mauris wisi. Praesent sapien. Mauris pharetra venenatis pede. Class aptent taciti sociosqu ad litora torquent per conubia nostra, per inceptos hymenaeos. Pellentesque sagittis volutpat wisi. Class aptent taciti sociosqu ad litora torquent per conubia nostra, per inceptos hymenaeos. Curabitur sed arcu.\n",
      "    Vivamus vulputate, tellus non accumsan consectetuer, justo tortor molestie augue, in feugiat lorem ipsum vel nisl. Nam gravida. Curabitur purus. Cras non tortor. Vivamus fermentum, nunc sed fringilla egestas, urna tellus porttitor urna, ut convallis purus nibh a orci. Integer rutrum sodales sem. Vivamus eget arcu.\n",
      "    Pellentesque habitant morbi tristique senectus et netus et malesuada fames ac turpis egestas. Ut sed elit vitae dolor vehicula mattis. Suspendisse dapibus luctus ipsum. Integer pretium egestas lorem. Pellentesque sit amet velit. Quisque placerat volutpat dolor. Nulla pulvinar nulla eget metus. Aenean tincidunt leo vel est. Donec tempus.\n",
      "    In accumsan tortor non urna. Ut viverra. Duis in pede. Ut ipsum. Vivamus elit massa, rutrum et, vestibulum nec, auctor et, massa. Donec blandit massa eu diam. Nunc vel neque. Vestibulum in diam a leo tristique rutrum.\n",
      "    Donec posuere interdum erat. Integer lectus tellus, commodo sed, aliquet ut, malesuada sit amet, pede. Quisque ac sem. Integer gravida sapien vel purus. Proin vel turpis nec diam consectetuer dignissim. Quisque aliquam. Vivamus nunc. Donec sed massa ut dui ornare ultricies. Donec ante libero, semper quis, luctus eu, malesuada semper, odio. Nam non eros.\n",
      "    Vestibulum pretium, magna vel scelerisque vehicula, nulla pede fermentum lectus, semper commodo velit diam vel urna.\n",
      "\n",
      "Characters in file: 4090\n"
     ]
    }
   ],
   "source": [
    "\n",
    "from os import strerror\n",
    "\n",
    "try:\n",
    "    cnt = 0\n",
    "    s = open('example.txt', \"rt\")\n",
    "    ch = s.read(1)\n",
    "    while ch != '':\n",
    "        print(ch, end='')\n",
    "        cnt += 1\n",
    "        ch = s.read(1)\n",
    "    s.close()\n",
    "    print(\"\\n\\nCharacters in file:\", cnt)\n",
    "except IOError as e:\n",
    "    print(\"I/O error occurred: \", strerror(e.errno))\n"
   ],
   "metadata": {
    "collapsed": false,
    "ExecuteTime": {
     "end_time": "2023-06-12T19:11:32.707843504Z",
     "start_time": "2023-06-12T19:11:32.703718972Z"
    }
   }
  },
  {
   "cell_type": "code",
   "execution_count": 7,
   "outputs": [],
   "source": [
    "s = open('example.txt', \"rt\")"
   ],
   "metadata": {
    "collapsed": false,
    "ExecuteTime": {
     "end_time": "2023-06-12T19:17:18.857872370Z",
     "start_time": "2023-06-12T19:17:18.800201411Z"
    }
   }
  },
  {
   "cell_type": "code",
   "execution_count": 26,
   "outputs": [
    {
     "name": "stdout",
     "output_type": "stream",
     "text": [
      "l\n"
     ]
    }
   ],
   "source": [
    "ch = s.read(1)\n",
    "print(ch)"
   ],
   "metadata": {
    "collapsed": false,
    "ExecuteTime": {
     "end_time": "2023-06-12T19:17:52.200183003Z",
     "start_time": "2023-06-12T19:17:52.183432183Z"
    }
   }
  },
  {
   "cell_type": "markdown",
   "source": [
    "### Processing text files: continued\n",
    "\n",
    "If you're absolutely sure that the file's length is safe and you can read the whole file to the memory at once, you can do it - the `read()` function, invoked without any arguments or with an argument that evaluates to `None`, will do the job for you.\n",
    "\n",
    "Remember - **reading a terabyte-long file using this method may corrupt your OS**.\n",
    "\n",
    "Don't expect miracles - computer memory isn't stretchable.\n",
    "\n",
    "Look at the code in the editor. What do you think of it?\n",
    "\n",
    "Let's analyze it:\n",
    "\n",
    "-   open the file as previously;\n",
    "-   read its contents by one `read()` function invocation;\n",
    "-   next, process the text, iterating through it with a regular `for` loop, and updating the counter value at each turn of the loop;\n",
    "\n",
    "The result will be exactly the same as previously.\n"
   ],
   "metadata": {
    "collapsed": false
   }
  },
  {
   "cell_type": "code",
   "execution_count": 29,
   "outputs": [
    {
     "name": "stdout",
     "output_type": "stream",
     "text": [
      "    Lorem ipsum dolor sit amet, consectetuer adipiscing elit. Donec est. Aliquam vitae elit eu diam interdum consequat. In hac habitasse platea dictumst. Praesent placerat, justo vel sagittis congue, elit diam feugiat ante, eget faucibus est metus ac dui. Suspendisse semper lectus. Integer vel quam vel sapien ornare egestas. Ut ultrices nunc et urna. Vestibulum vel mi semper sapien interdum adipiscing.\n",
      "    Vivamus iaculis tellus vel nulla. Pellentesque vel sapien ac odio molestie consectetuer. Curabitur arcu. Integer feugiat. Nulla nulla tortor, malesuada et, tincidunt quis, pharetra sit amet, est.\n",
      "    Duis venenatis, turpis at viverra rutrum, mauris ligula molestie orci, eu varius augue wisi id tellus. Integer cursus congue sapien. Fusce sit amet ligula. Vivamus dolor. Mauris et metus. In condimentum feugiat sapien.\n",
      "    Aliquam sit amet purus vel felis congue porttitor. Aliquam consectetuer. Donec laoreet. Integer eros. Duis hendrerit, erat sed mattis luctus, sem diam aliquet magna, et euismod mauris enim semper elit.\n",
      "    Cras dui tortor, dictum in, tincidunt vel, tincidunt non, purus. Etiam mi quam, ultrices sit amet, rhoncus ut, viverra vel, eros. Lorem ipsum dolor sit amet, consectetuer adipiscing elit. Proin sollicitudin. Nunc augue. Aenean tempor posuere diam.\n",
      "    Integer adipiscing arcu ut eros. Aenean vitae felis. Vivamus iaculis. Quisque molestie massa sed turpis. Sed est mi, rutrum sed, varius semper, posuere a, diam. Fusce ipsum est, vestibulum ut, egestas in, elementum ac, lacus. Duis fringilla molestie ante.\n",
      "    Proin diam. Morbi urna turpis, pellentesque at, placerat sed, vulputate vel, augue. Ut semper odio quis ipsum. Nunc auctor purus ut augue. Donec fermentum. Pellentesque hendrerit mi eget wisi. Cum sociis natoque penatibus et magnis dis parturient montes, nascetur ridiculus mus.\n",
      "    Phasellus enim. Lorem ipsum dolor sit amet, consectetuer adipiscing elit. Praesent interdum cursus velit. Class aptent taciti sociosqu ad litora torquent per conubia nostra, per inceptos hymenaeos. Nulla mauris magna, posuere eu, ullamcorper semper, hendrerit semper, lorem. Vestibulum semper ante.\n",
      "    Curabitur tempus, arcu et vestibulum fringilla, eros lectus tincidunt lectus, sit amet tincidunt purus tellus vel massa. Quisque wisi. Cras vestibulum lorem vel purus. Pellentesque libero turpis, euismod sit amet, dictum id, luctus nec, elit. Ut tempor consequat massa. Nunc sed arcu. Mauris wisi. Praesent sapien. Mauris pharetra venenatis pede. Class aptent taciti sociosqu ad litora torquent per conubia nostra, per inceptos hymenaeos. Pellentesque sagittis volutpat wisi. Class aptent taciti sociosqu ad litora torquent per conubia nostra, per inceptos hymenaeos. Curabitur sed arcu.\n",
      "    Vivamus vulputate, tellus non accumsan consectetuer, justo tortor molestie augue, in feugiat lorem ipsum vel nisl. Nam gravida. Curabitur purus. Cras non tortor. Vivamus fermentum, nunc sed fringilla egestas, urna tellus porttitor urna, ut convallis purus nibh a orci. Integer rutrum sodales sem. Vivamus eget arcu.\n",
      "    Pellentesque habitant morbi tristique senectus et netus et malesuada fames ac turpis egestas. Ut sed elit vitae dolor vehicula mattis. Suspendisse dapibus luctus ipsum. Integer pretium egestas lorem. Pellentesque sit amet velit. Quisque placerat volutpat dolor. Nulla pulvinar nulla eget metus. Aenean tincidunt leo vel est. Donec tempus.\n",
      "    In accumsan tortor non urna. Ut viverra. Duis in pede. Ut ipsum. Vivamus elit massa, rutrum et, vestibulum nec, auctor et, massa. Donec blandit massa eu diam. Nunc vel neque. Vestibulum in diam a leo tristique rutrum.\n",
      "    Donec posuere interdum erat. Integer lectus tellus, commodo sed, aliquet ut, malesuada sit amet, pede. Quisque ac sem. Integer gravida sapien vel purus. Proin vel turpis nec diam consectetuer dignissim. Quisque aliquam. Vivamus nunc. Donec sed massa ut dui ornare ultricies. Donec ante libero, semper quis, luctus eu, malesuada semper, odio. Nam non eros.\n",
      "    Vestibulum pretium, magna vel scelerisque vehicula, nulla pede fermentum lectus, semper commodo velit diam vel urna.\n",
      "\n",
      "Characters in file: 4090\n"
     ]
    }
   ],
   "source": [
    "from os import strerror\n",
    "\n",
    "try:\n",
    "    cnt = 0\n",
    "    s = open('example.txt', \"rt\")\n",
    "    content = s.read()\n",
    "    for ch in content:\n",
    "        print(ch, end='')\n",
    "        cnt += 1\n",
    "    s.close()\n",
    "    print(\"\\n\\nCharacters in file:\", cnt)\n",
    "except IOError as e:\n",
    "    print(\"I/O error occurred: \", strerror(e.errno))\n"
   ],
   "metadata": {
    "collapsed": false,
    "ExecuteTime": {
     "end_time": "2023-06-12T19:20:15.160969031Z",
     "start_time": "2023-06-12T19:20:15.105455706Z"
    }
   }
  },
  {
   "cell_type": "markdown",
   "source": [
    "### Processing text files: readline()\n",
    "\n",
    "If you want to treat the file's contents **as a set of lines**, not a bunch of characters, the `readline()` method will help you with that.\n",
    "\n",
    "The method tries to **read a complete line of text from the file**, and returns it as a string in the case of success. Otherwise, it returns an empty string.\n",
    "\n",
    "This opens up new opportunities - now you can also count lines easily, not only characters.\n",
    "\n",
    "Let's make use of it. Look at the code in the editor.\n",
    "\n",
    "As you can see, the general idea is exactly the same as in both previous examples.\n"
   ],
   "metadata": {
    "collapsed": false
   }
  },
  {
   "cell_type": "code",
   "execution_count": 32,
   "outputs": [
    {
     "name": "stdout",
     "output_type": "stream",
     "text": [
      "    Lorem ipsum dolor sit amet, consectetuer adipiscing elit. Donec est. Aliquam vitae elit eu diam interdum consequat. In hac habitasse platea dictumst. Praesent placerat, justo vel sagittis congue, elit diam feugiat ante, eget faucibus est metus ac dui. Suspendisse semper lectus. Integer vel quam vel sapien ornare egestas. Ut ultrices nunc et urna. Vestibulum vel mi semper sapien interdum adipiscing.\n",
      "    Vivamus iaculis tellus vel nulla. Pellentesque vel sapien ac odio molestie consectetuer. Curabitur arcu. Integer feugiat. Nulla nulla tortor, malesuada et, tincidunt quis, pharetra sit amet, est.\n",
      "    Duis venenatis, turpis at viverra rutrum, mauris ligula molestie orci, eu varius augue wisi id tellus. Integer cursus congue sapien. Fusce sit amet ligula. Vivamus dolor. Mauris et metus. In condimentum feugiat sapien.\n",
      "    Aliquam sit amet purus vel felis congue porttitor. Aliquam consectetuer. Donec laoreet. Integer eros. Duis hendrerit, erat sed mattis luctus, sem diam aliquet magna, et euismod mauris enim semper elit.\n",
      "    Cras dui tortor, dictum in, tincidunt vel, tincidunt non, purus. Etiam mi quam, ultrices sit amet, rhoncus ut, viverra vel, eros. Lorem ipsum dolor sit amet, consectetuer adipiscing elit. Proin sollicitudin. Nunc augue. Aenean tempor posuere diam.\n",
      "    Integer adipiscing arcu ut eros. Aenean vitae felis. Vivamus iaculis. Quisque molestie massa sed turpis. Sed est mi, rutrum sed, varius semper, posuere a, diam. Fusce ipsum est, vestibulum ut, egestas in, elementum ac, lacus. Duis fringilla molestie ante.\n",
      "    Proin diam. Morbi urna turpis, pellentesque at, placerat sed, vulputate vel, augue. Ut semper odio quis ipsum. Nunc auctor purus ut augue. Donec fermentum. Pellentesque hendrerit mi eget wisi. Cum sociis natoque penatibus et magnis dis parturient montes, nascetur ridiculus mus.\n",
      "    Phasellus enim. Lorem ipsum dolor sit amet, consectetuer adipiscing elit. Praesent interdum cursus velit. Class aptent taciti sociosqu ad litora torquent per conubia nostra, per inceptos hymenaeos. Nulla mauris magna, posuere eu, ullamcorper semper, hendrerit semper, lorem. Vestibulum semper ante.\n",
      "    Curabitur tempus, arcu et vestibulum fringilla, eros lectus tincidunt lectus, sit amet tincidunt purus tellus vel massa. Quisque wisi. Cras vestibulum lorem vel purus. Pellentesque libero turpis, euismod sit amet, dictum id, luctus nec, elit. Ut tempor consequat massa. Nunc sed arcu. Mauris wisi. Praesent sapien. Mauris pharetra venenatis pede. Class aptent taciti sociosqu ad litora torquent per conubia nostra, per inceptos hymenaeos. Pellentesque sagittis volutpat wisi. Class aptent taciti sociosqu ad litora torquent per conubia nostra, per inceptos hymenaeos. Curabitur sed arcu.\n",
      "    Vivamus vulputate, tellus non accumsan consectetuer, justo tortor molestie augue, in feugiat lorem ipsum vel nisl. Nam gravida. Curabitur purus. Cras non tortor. Vivamus fermentum, nunc sed fringilla egestas, urna tellus porttitor urna, ut convallis purus nibh a orci. Integer rutrum sodales sem. Vivamus eget arcu.\n",
      "    Pellentesque habitant morbi tristique senectus et netus et malesuada fames ac turpis egestas. Ut sed elit vitae dolor vehicula mattis. Suspendisse dapibus luctus ipsum. Integer pretium egestas lorem. Pellentesque sit amet velit. Quisque placerat volutpat dolor. Nulla pulvinar nulla eget metus. Aenean tincidunt leo vel est. Donec tempus.\n",
      "    In accumsan tortor non urna. Ut viverra. Duis in pede. Ut ipsum. Vivamus elit massa, rutrum et, vestibulum nec, auctor et, massa. Donec blandit massa eu diam. Nunc vel neque. Vestibulum in diam a leo tristique rutrum.\n",
      "    Donec posuere interdum erat. Integer lectus tellus, commodo sed, aliquet ut, malesuada sit amet, pede. Quisque ac sem. Integer gravida sapien vel purus. Proin vel turpis nec diam consectetuer dignissim. Quisque aliquam. Vivamus nunc. Donec sed massa ut dui ornare ultricies. Donec ante libero, semper quis, luctus eu, malesuada semper, odio. Nam non eros.\n",
      "    Vestibulum pretium, magna vel scelerisque vehicula, nulla pede fermentum lectus, semper commodo velit diam vel urna.\n",
      "\n",
      "Characters in file: 4090\n",
      "Lines in file:      14\n"
     ]
    }
   ],
   "source": [
    "from os import strerror\n",
    "\n",
    "try:\n",
    "    ccnt = lcnt = 0\n",
    "    s = open('example.txt', 'rt')\n",
    "    line = s.readline()\n",
    "    while line != '':\n",
    "        lcnt += 1\n",
    "        for ch in line:\n",
    "            print(ch, end='')\n",
    "            ccnt += 1\n",
    "        line = s.readline()\n",
    "    s.close()\n",
    "    print(\"\\n\\nCharacters in file:\", ccnt)\n",
    "    print(\"Lines in file:     \", lcnt)\n",
    "except IOError as e:\n",
    "    print(\"I/O error occurred:\", strerror(e.errno))\n"
   ],
   "metadata": {
    "collapsed": false,
    "ExecuteTime": {
     "end_time": "2023-06-12T20:18:11.369874861Z",
     "start_time": "2023-06-12T20:18:11.302387151Z"
    }
   }
  },
  {
   "cell_type": "markdown",
   "source": [
    "## Processing text files: readlines()\n",
    "\n",
    "Another method, which treats text file as a set of lines, not characters, is `readlines()`.\n",
    "\n",
    "The `readlines()` method, when invoked without arguments, tries to **read all the file contents, and returns a list of strings, one element per file line**.\n",
    "\n",
    "If you're not sure if the file size is small enough and don't want to test the OS, you can convince the `readlines()` method to read not more than a specified number of bytes at once (the returning value remains the same - it's a list of a string).\n",
    "\n",
    "Feel free to experiment with the following example code to understand how the `readlines()` method works:"
   ],
   "metadata": {
    "collapsed": false
   }
  },
  {
   "cell_type": "code",
   "execution_count": 1,
   "outputs": [
    {
     "name": "stdout",
     "output_type": "stream",
     "text": [
      "['    Lorem ipsum dolor sit amet, consectetuer adipiscing elit. Donec est. Aliquam vitae elit eu diam interdum consequat. In hac habitasse platea dictumst. Praesent placerat, justo vel sagittis congue, elit diam feugiat ante, eget faucibus est metus ac dui. Suspendisse semper lectus. Integer vel quam vel sapien ornare egestas. Ut ultrices nunc et urna. Vestibulum vel mi semper sapien interdum adipiscing.\\n']\n",
      "['    Vivamus iaculis tellus vel nulla. Pellentesque vel sapien ac odio molestie consectetuer. Curabitur arcu. Integer feugiat. Nulla nulla tortor, malesuada et, tincidunt quis, pharetra sit amet, est.\\n']\n",
      "['    Duis venenatis, turpis at viverra rutrum, mauris ligula molestie orci, eu varius augue wisi id tellus. Integer cursus congue sapien. Fusce sit amet ligula. Vivamus dolor. Mauris et metus. In condimentum feugiat sapien.\\n']\n",
      "['    Aliquam sit amet purus vel felis congue porttitor. Aliquam consectetuer. Donec laoreet. Integer eros. Duis hendrerit, erat sed mattis luctus, sem diam aliquet magna, et euismod mauris enim semper elit.\\n']\n"
     ]
    }
   ],
   "source": [
    "s = open(\"example.txt\")\n",
    "print(s.readlines(20))\n",
    "print(s.readlines(20))\n",
    "print(s.readlines(20))\n",
    "print(s.readlines(20))\n",
    "s.close()"
   ],
   "metadata": {
    "collapsed": false,
    "ExecuteTime": {
     "end_time": "2023-06-25T12:58:31.251759605Z",
     "start_time": "2023-06-25T12:58:31.229880707Z"
    }
   }
  },
  {
   "cell_type": "markdown",
   "source": [
    "**The maximum accepted input buffer size is passed to the method as its argument**.\n",
    "\n",
    "You may expect that `readlines()` can process a file's contents more effectively than `readline()`, as it may need to be invoked fewer times.\n",
    "\n",
    "Note: when there is nothing to read from the file, the method returns an empty list. Use it to detect the end of the file.\n",
    "\n",
    "To the extent of the buffer's size, you can expect that increasing it may improve input performance, but there is no golden rule for it - try to find the optimal values yourself.\n",
    "\n",
    "Look at the code in the editor. We've modified it to show you how to use `readlines()`.\n",
    "\n",
    "We've decided to use a 15-byte-long buffer. Don't think it's a recommendation.\n",
    "\n",
    "We've used such a value to avoid the situation in which the first `readlines()` invocation consumes the whole file.\n",
    "\n",
    "We want the method to be forced to work harder, and to demonstrate its capabilities.\n",
    "\n",
    "There are **two nested loops in the code**: the outer one uses `readlines()`'s result to iterate through it, while the inner one prints the lines character by character.\n"
   ],
   "metadata": {
    "collapsed": false
   }
  },
  {
   "cell_type": "code",
   "execution_count": 33,
   "outputs": [
    {
     "name": "stdout",
     "output_type": "stream",
     "text": [
      "    Lorem ipsum dolor sit amet, consectetuer adipiscing elit. Donec est. Aliquam vitae elit eu diam interdum consequat. In hac habitasse platea dictumst. Praesent placerat, justo vel sagittis congue, elit diam feugiat ante, eget faucibus est metus ac dui. Suspendisse semper lectus. Integer vel quam vel sapien ornare egestas. Ut ultrices nunc et urna. Vestibulum vel mi semper sapien interdum adipiscing.\n",
      "    Vivamus iaculis tellus vel nulla. Pellentesque vel sapien ac odio molestie consectetuer. Curabitur arcu. Integer feugiat. Nulla nulla tortor, malesuada et, tincidunt quis, pharetra sit amet, est.\n",
      "    Duis venenatis, turpis at viverra rutrum, mauris ligula molestie orci, eu varius augue wisi id tellus. Integer cursus congue sapien. Fusce sit amet ligula. Vivamus dolor. Mauris et metus. In condimentum feugiat sapien.\n",
      "    Aliquam sit amet purus vel felis congue porttitor. Aliquam consectetuer. Donec laoreet. Integer eros. Duis hendrerit, erat sed mattis luctus, sem diam aliquet magna, et euismod mauris enim semper elit.\n",
      "    Cras dui tortor, dictum in, tincidunt vel, tincidunt non, purus. Etiam mi quam, ultrices sit amet, rhoncus ut, viverra vel, eros. Lorem ipsum dolor sit amet, consectetuer adipiscing elit. Proin sollicitudin. Nunc augue. Aenean tempor posuere diam.\n",
      "    Integer adipiscing arcu ut eros. Aenean vitae felis. Vivamus iaculis. Quisque molestie massa sed turpis. Sed est mi, rutrum sed, varius semper, posuere a, diam. Fusce ipsum est, vestibulum ut, egestas in, elementum ac, lacus. Duis fringilla molestie ante.\n",
      "    Proin diam. Morbi urna turpis, pellentesque at, placerat sed, vulputate vel, augue. Ut semper odio quis ipsum. Nunc auctor purus ut augue. Donec fermentum. Pellentesque hendrerit mi eget wisi. Cum sociis natoque penatibus et magnis dis parturient montes, nascetur ridiculus mus.\n",
      "    Phasellus enim. Lorem ipsum dolor sit amet, consectetuer adipiscing elit. Praesent interdum cursus velit. Class aptent taciti sociosqu ad litora torquent per conubia nostra, per inceptos hymenaeos. Nulla mauris magna, posuere eu, ullamcorper semper, hendrerit semper, lorem. Vestibulum semper ante.\n",
      "    Curabitur tempus, arcu et vestibulum fringilla, eros lectus tincidunt lectus, sit amet tincidunt purus tellus vel massa. Quisque wisi. Cras vestibulum lorem vel purus. Pellentesque libero turpis, euismod sit amet, dictum id, luctus nec, elit. Ut tempor consequat massa. Nunc sed arcu. Mauris wisi. Praesent sapien. Mauris pharetra venenatis pede. Class aptent taciti sociosqu ad litora torquent per conubia nostra, per inceptos hymenaeos. Pellentesque sagittis volutpat wisi. Class aptent taciti sociosqu ad litora torquent per conubia nostra, per inceptos hymenaeos. Curabitur sed arcu.\n",
      "    Vivamus vulputate, tellus non accumsan consectetuer, justo tortor molestie augue, in feugiat lorem ipsum vel nisl. Nam gravida. Curabitur purus. Cras non tortor. Vivamus fermentum, nunc sed fringilla egestas, urna tellus porttitor urna, ut convallis purus nibh a orci. Integer rutrum sodales sem. Vivamus eget arcu.\n",
      "    Pellentesque habitant morbi tristique senectus et netus et malesuada fames ac turpis egestas. Ut sed elit vitae dolor vehicula mattis. Suspendisse dapibus luctus ipsum. Integer pretium egestas lorem. Pellentesque sit amet velit. Quisque placerat volutpat dolor. Nulla pulvinar nulla eget metus. Aenean tincidunt leo vel est. Donec tempus.\n",
      "    In accumsan tortor non urna. Ut viverra. Duis in pede. Ut ipsum. Vivamus elit massa, rutrum et, vestibulum nec, auctor et, massa. Donec blandit massa eu diam. Nunc vel neque. Vestibulum in diam a leo tristique rutrum.\n",
      "    Donec posuere interdum erat. Integer lectus tellus, commodo sed, aliquet ut, malesuada sit amet, pede. Quisque ac sem. Integer gravida sapien vel purus. Proin vel turpis nec diam consectetuer dignissim. Quisque aliquam. Vivamus nunc. Donec sed massa ut dui ornare ultricies. Donec ante libero, semper quis, luctus eu, malesuada semper, odio. Nam non eros.\n",
      "    Vestibulum pretium, magna vel scelerisque vehicula, nulla pede fermentum lectus, semper commodo velit diam vel urna.\n",
      "\n",
      "Characters in file: 4090\n",
      "Lines in file:      14\n"
     ]
    }
   ],
   "source": [
    "from os import strerror\n",
    "\n",
    "try:\n",
    "    ccnt = lcnt = 0\n",
    "    s = open('example.txt', 'rt')\n",
    "    lines = s.readlines(20)\n",
    "    while len(lines) != 0:\n",
    "        for line in lines:\n",
    "            lcnt += 1\n",
    "            for ch in line:\n",
    "                print(ch, end='')\n",
    "                ccnt += 1\n",
    "        lines = s.readlines(10)\n",
    "    s.close()\n",
    "    print(\"\\n\\nCharacters in file:\", ccnt)\n",
    "    print(\"Lines in file:     \", lcnt)\n",
    "except IOError as e:\n",
    "    print(\"I/O error occurred:\", strerror(e.errno))\n"
   ],
   "metadata": {
    "collapsed": false,
    "ExecuteTime": {
     "end_time": "2023-06-12T20:19:52.487738913Z",
     "start_time": "2023-06-12T20:19:52.391532257Z"
    }
   }
  },
  {
   "cell_type": "code",
   "execution_count": null,
   "outputs": [],
   "source": [],
   "metadata": {
    "collapsed": false
   }
  },
  {
   "cell_type": "markdown",
   "source": [
    "### Processing text files: continued\n",
    "\n",
    "The last example we want to present shows a very interesting trait of the object returned by the `open()` function in text mode.\n",
    "\n",
    "We think it may surprise you - **the object is an instance of the iterable class**.\n",
    "\n",
    "Strange? Not at all. Usable? Yes, absolutely.\n",
    "\n",
    "The **iteration protocol defined for the file object** is very simple - its `__next__` method just **returns the next line read in from the file**.\n",
    "\n",
    "Moreover, you can expect that the object automatically invokes `close()` when any of the file reads reaches the end of the file.\n",
    "\n",
    "Look at the editor and see how simple and clear the code has now become."
   ],
   "metadata": {
    "collapsed": false
   }
  },
  {
   "cell_type": "code",
   "execution_count": 2,
   "outputs": [
    {
     "name": "stdout",
     "output_type": "stream",
     "text": [
      "    Lorem ipsum dolor sit amet, consectetuer adipiscing elit. Donec est. Aliquam vitae elit eu diam interdum consequat. In hac habitasse platea dictumst. Praesent placerat, justo vel sagittis congue, elit diam feugiat ante, eget faucibus est metus ac dui. Suspendisse semper lectus. Integer vel quam vel sapien ornare egestas. Ut ultrices nunc et urna. Vestibulum vel mi semper sapien interdum adipiscing.\n",
      "    Vivamus iaculis tellus vel nulla. Pellentesque vel sapien ac odio molestie consectetuer. Curabitur arcu. Integer feugiat. Nulla nulla tortor, malesuada et, tincidunt quis, pharetra sit amet, est.\n",
      "    Duis venenatis, turpis at viverra rutrum, mauris ligula molestie orci, eu varius augue wisi id tellus. Integer cursus congue sapien. Fusce sit amet ligula. Vivamus dolor. Mauris et metus. In condimentum feugiat sapien.\n",
      "    Aliquam sit amet purus vel felis congue porttitor. Aliquam consectetuer. Donec laoreet. Integer eros. Duis hendrerit, erat sed mattis luctus, sem diam aliquet magna, et euismod mauris enim semper elit.\n",
      "    Cras dui tortor, dictum in, tincidunt vel, tincidunt non, purus. Etiam mi quam, ultrices sit amet, rhoncus ut, viverra vel, eros. Lorem ipsum dolor sit amet, consectetuer adipiscing elit. Proin sollicitudin. Nunc augue. Aenean tempor posuere diam.\n",
      "    Integer adipiscing arcu ut eros. Aenean vitae felis. Vivamus iaculis. Quisque molestie massa sed turpis. Sed est mi, rutrum sed, varius semper, posuere a, diam. Fusce ipsum est, vestibulum ut, egestas in, elementum ac, lacus. Duis fringilla molestie ante.\n",
      "    Proin diam. Morbi urna turpis, pellentesque at, placerat sed, vulputate vel, augue. Ut semper odio quis ipsum. Nunc auctor purus ut augue. Donec fermentum. Pellentesque hendrerit mi eget wisi. Cum sociis natoque penatibus et magnis dis parturient montes, nascetur ridiculus mus.\n",
      "    Phasellus enim. Lorem ipsum dolor sit amet, consectetuer adipiscing elit. Praesent interdum cursus velit. Class aptent taciti sociosqu ad litora torquent per conubia nostra, per inceptos hymenaeos. Nulla mauris magna, posuere eu, ullamcorper semper, hendrerit semper, lorem. Vestibulum semper ante.\n",
      "    Curabitur tempus, arcu et vestibulum fringilla, eros lectus tincidunt lectus, sit amet tincidunt purus tellus vel massa. Quisque wisi. Cras vestibulum lorem vel purus. Pellentesque libero turpis, euismod sit amet, dictum id, luctus nec, elit. Ut tempor consequat massa. Nunc sed arcu. Mauris wisi. Praesent sapien. Mauris pharetra venenatis pede. Class aptent taciti sociosqu ad litora torquent per conubia nostra, per inceptos hymenaeos. Pellentesque sagittis volutpat wisi. Class aptent taciti sociosqu ad litora torquent per conubia nostra, per inceptos hymenaeos. Curabitur sed arcu.\n",
      "    Vivamus vulputate, tellus non accumsan consectetuer, justo tortor molestie augue, in feugiat lorem ipsum vel nisl. Nam gravida. Curabitur purus. Cras non tortor. Vivamus fermentum, nunc sed fringilla egestas, urna tellus porttitor urna, ut convallis purus nibh a orci. Integer rutrum sodales sem. Vivamus eget arcu.\n",
      "    Pellentesque habitant morbi tristique senectus et netus et malesuada fames ac turpis egestas. Ut sed elit vitae dolor vehicula mattis. Suspendisse dapibus luctus ipsum. Integer pretium egestas lorem. Pellentesque sit amet velit. Quisque placerat volutpat dolor. Nulla pulvinar nulla eget metus. Aenean tincidunt leo vel est. Donec tempus.\n",
      "    In accumsan tortor non urna. Ut viverra. Duis in pede. Ut ipsum. Vivamus elit massa, rutrum et, vestibulum nec, auctor et, massa. Donec blandit massa eu diam. Nunc vel neque. Vestibulum in diam a leo tristique rutrum.\n",
      "    Donec posuere interdum erat. Integer lectus tellus, commodo sed, aliquet ut, malesuada sit amet, pede. Quisque ac sem. Integer gravida sapien vel purus. Proin vel turpis nec diam consectetuer dignissim. Quisque aliquam. Vivamus nunc. Donec sed massa ut dui ornare ultricies. Donec ante libero, semper quis, luctus eu, malesuada semper, odio. Nam non eros.\n",
      "    Vestibulum pretium, magna vel scelerisque vehicula, nulla pede fermentum lectus, semper commodo velit diam vel urna.\n",
      "\n",
      "Characters in file: 4090\n",
      "Lines in file:      14\n"
     ]
    }
   ],
   "source": [
    "from os import strerror\n",
    "\n",
    "try:\n",
    "\tccnt = lcnt = 0\n",
    "\tfor line in open('example.txt', 'rt'):\n",
    "\t\tlcnt += 1\n",
    "\t\tfor ch in line:\n",
    "\t\t\tprint(ch, end='')\n",
    "\t\t\tccnt += 1\n",
    "\tprint(\"\\n\\nCharacters in file:\", ccnt)\n",
    "\tprint(\"Lines in file:     \", lcnt)\n",
    "except IOError as e:\n",
    "\tprint(\"I/O error occurred: \", strerror(e.errno))\n"
   ],
   "metadata": {
    "collapsed": false,
    "ExecuteTime": {
     "end_time": "2023-06-25T13:07:25.540103926Z",
     "start_time": "2023-06-25T13:07:25.518551769Z"
    }
   }
  },
  {
   "cell_type": "markdown",
   "source": [
    "### Dealing with text files: write()\n",
    "\n",
    "Writing text files seems to be simpler, as in fact there is one method that can be used to perform such a task.\n",
    "\n",
    "The method is named `write()` and it expects just one argument - a string that will be transferred to an open file (don't forget - the open mode should reflect the way in which the data is transferred - **writing a file opened in read mode won't succeed**).\n",
    "\n",
    "No newline character is added to the `write()`'s argument, so you have to add it yourself if you want the file to be filled with a number of lines.\n",
    "\n",
    "The example in the editor shows a very simple code that creates a file named newtext.txt (note: the open mode `w` ensures that **the file will be created from scratch**, even if it exists and contains data) and then puts ten lines into it.\n",
    "\n",
    "The string to be recorded consists of the word line, followed by the line number. We've decided to write the string's contents character by character (this is done by the inner `for` loop) but you're not obliged to do it in this way.\n",
    "\n",
    "We just wanted to show you that `write()` is able to operate on single characters.\n",
    "\n",
    "The code creates a file filled with the following text:\n",
    "\n",
    "```python\n",
    "line #1\n",
    "line #2\n",
    "line #3\n",
    "line #4\n",
    "line #5\n",
    "line #6\n",
    "line #7\n",
    "line #8\n",
    "line #9\n",
    "line #10\n",
    "```\n",
    "\n",
    "**output**\n",
    "\n",
    "Can you print the file's contents to the console?\n",
    "\n",
    "We encourage you to test the behavior of the `write()` method locally on your machine."
   ],
   "metadata": {
    "collapsed": false
   }
  },
  {
   "cell_type": "code",
   "execution_count": 3,
   "outputs": [],
   "source": [
    "from os import strerror\n",
    "\n",
    "try:\n",
    "\tfo = open('newtext.txt', 'wt') # A new file (newtext.txt) is created.\n",
    "\tfor i in range(10):\n",
    "\t\ts = \"line #\" + str(i+1) + \"\\n\"\n",
    "\t\tfor ch in s:\n",
    "\t\t\tfo.write(ch)\n",
    "\tfo.close()\n",
    "except IOError as e:\n",
    "\tprint(\"I/O error occurred: \", strerror(e.errno))\n"
   ],
   "metadata": {
    "collapsed": false,
    "ExecuteTime": {
     "end_time": "2023-06-25T13:19:36.544955522Z",
     "start_time": "2023-06-25T13:19:36.474018097Z"
    }
   }
  },
  {
   "cell_type": "markdown",
   "source": [
    "### Dealing with text files: continued\n",
    "\n",
    "Look at the example in the editor. We've modified the previous code to write whole lines to the text file.\n",
    "\n",
    "The contents of the newly created file are the same.\n",
    "\n",
    "Note: you can use the same method to write to the `stderr` stream, but don't try to open it, as it's always open implicitly.\n",
    "\n",
    "For example, if you want to send a message string to `stderr` to distinguish it from normal program output, it may look like this:\n",
    "\n",
    "\n",
    "```python\n",
    "import sys\n",
    "sys.stderr.write(\"Error message\")\n",
    "\n",
    "```"
   ],
   "metadata": {
    "collapsed": false
   }
  },
  {
   "cell_type": "code",
   "execution_count": 7,
   "outputs": [],
   "source": [
    "from os import strerror\n",
    "\n",
    "try:\n",
    "    fo = open('newtext_v2.txt', 'wt')\n",
    "    for i in range(12):\n",
    "        fo.write(\"line #\" + str(i+1) + \"\\n\")\n",
    "    fo.close()\n",
    "except IOError as e:\n",
    "    print(\"I/O error occurred: \", strerror(e.errno))\n"
   ],
   "metadata": {
    "collapsed": false,
    "ExecuteTime": {
     "end_time": "2023-06-25T13:30:00.399832155Z",
     "start_time": "2023-06-25T13:30:00.383759925Z"
    }
   }
  },
  {
   "cell_type": "markdown",
   "source": [
    "### What is a bytearray?\n",
    "\n",
    "Before we start talking about binary files, we have to tell you about one of the **specialized classes Python uses to store amorphous data**.\n",
    "\n",
    "**Amorphous data is data which have no specific shape or form** - they are just a series of bytes.\n",
    "\n",
    "This doesn't mean that these bytes cannot have their own meaning, or cannot represent any useful object, e.g., bitmap graphics.\n",
    "\n",
    "The most important aspect of this is that in the place where we have contact with the data, we are not able to, or simply don't want to, know anything about it.\n",
    "\n",
    "Amorphous data cannot be stored using any of the previously presented means - they are neither strings nor lists.\n",
    "\n",
    "There should be a special container able to handle such data.\n",
    "\n",
    "Python has more than one such container - one of them is **a specialized class name bytearray** - as the name suggests, it's **an array containing (amorphous) bytes**.\n",
    "\n",
    "If you want to have such a container, e.g., in order to read in a bitmap image and process it in any way, you need to create it explicitly, using one of available constructors.\n",
    "\n",
    "Take a look:\n",
    "\n",
    "`data = bytearray(10)`\n",
    "\n",
    "Such an invocation creates a bytearray object able to store ten bytes.\n",
    "\n",
    "Note: such a constructor **fills the whole array with zeros**."
   ],
   "metadata": {
    "collapsed": false
   }
  },
  {
   "cell_type": "code",
   "execution_count": 8,
   "outputs": [
    {
     "name": "stdout",
     "output_type": "stream",
     "text": [
      "<class 'bytearray'>\n",
      "bytearray(b'\\x00\\x00\\x00\\x00\\x00\\x00\\x00\\x00\\x00\\x00')\n"
     ]
    }
   ],
   "source": [
    "data = bytearray(10)\n",
    "print(type(data))\n",
    "print(data)"
   ],
   "metadata": {
    "collapsed": false,
    "ExecuteTime": {
     "end_time": "2023-06-25T13:32:17.835078705Z",
     "start_time": "2023-06-25T13:32:17.768798392Z"
    }
   }
  },
  {
   "cell_type": "markdown",
   "source": [
    "### Bytearrays: continued\n",
    "\n",
    "Bytearrays resemble lists in many respects. For example, they are **mutable**, they're a subject of the `len()` function, and you can access any of their elements using conventional indexing.\n",
    "\n",
    "There is one important limitation - **you mustn't set any byte array elements with a value which is not an integer** (violating this rule will cause a TypeError exception) and you're **not allowed to assign a value that doesn't come from the range 0 to 255 inclusive** (unless you want to provoke a ValueError exception).\n",
    "\n",
    "You can **treat any byte array elements as integer values** - just like in the example in the editor.\n",
    "\n",
    "Note: we've used two methods to iterate the byte arrays, and made use of the `hex()` function to see the elements printed as hexadecimal values.\n",
    "\n",
    "Now we're going to show you **how to write a byte array to a binary file** - binary, as we don't want to save its readable representation - we want to write a one-to-one copy of the physical memory content, byte by byte."
   ],
   "metadata": {
    "collapsed": false
   }
  },
  {
   "cell_type": "code",
   "execution_count": 9,
   "outputs": [
    {
     "name": "stdout",
     "output_type": "stream",
     "text": [
      "0xa\n",
      "0x9\n",
      "0x8\n",
      "0x7\n",
      "0x6\n",
      "0x5\n",
      "0x4\n",
      "0x3\n",
      "0x2\n",
      "0x1\n"
     ]
    }
   ],
   "source": [
    "data = bytearray(10)\n",
    "\n",
    "for i in range(len(data)):\n",
    "    data[i] = 10 - i\n",
    "\n",
    "for b in data:\n",
    "    print(hex(b))\n"
   ],
   "metadata": {
    "collapsed": false,
    "ExecuteTime": {
     "end_time": "2023-06-25T13:35:13.133803174Z",
     "start_time": "2023-06-25T13:35:13.052623947Z"
    }
   }
  },
  {
   "cell_type": "markdown",
   "source": [
    "### Bytearrays: continued\n",
    "\n",
    "So, how do we write a byte array to a binary file?\n",
    "\n",
    "Look at the code in the editor. Let's analyze it:\n",
    "\n",
    "-   first, we initialize `bytearray` with subsequent values starting from `10`; if you want the file's contents to be clearly readable, replace `10` with something like `ord('a')` - this will produce bytes containing values corresponding to the alphabetical part of the ASCII code (don't think it will make the file a text file - it's still binary, as it was created with a `wb` flag);\n",
    "-   then, we create the file using the `open()` function - the only difference compared to the previous variants is the open mode containing the `b` flag;\n",
    "-   the `write()` method takes its argument (`bytearray`) and sends it (as a whole) to the file;\n",
    "-   the stream is then closed in a routine way.\n",
    "\n",
    "The `write()` method returns a number of successfully written bytes.\n",
    "\n",
    "If the values differ from the length of the method's arguments, it may announce some write errors.\n",
    "\n",
    "In this case, we haven't made use of the result - this may not be appropriate in every case.\n",
    "\n",
    "Try to run the code and analyze the contents of the newly created output file.\n",
    "\n",
    "You're going to use it in the next step."
   ],
   "metadata": {
    "collapsed": false
   }
  },
  {
   "cell_type": "code",
   "execution_count": 14,
   "outputs": [],
   "source": [
    "from os import strerror\n",
    "\n",
    "data = bytearray(10)\n",
    "\n",
    "for i in range(len(data)):\n",
    "    data[i] = 10 + i\n",
    "\n",
    "try:\n",
    "    bf = open('file.bin', 'wb')\n",
    "    bf.write(data)\n",
    "    bf.close()\n",
    "except IOError as e:\n",
    "    print(\"I/O error occurred:\", strerror(e.errno))\n",
    "\n",
    "# Your code that reads bytes from the stream should go here.\n"
   ],
   "metadata": {
    "collapsed": false,
    "ExecuteTime": {
     "end_time": "2023-06-25T13:42:09.352801791Z",
     "start_time": "2023-06-25T13:42:09.281142362Z"
    }
   }
  },
  {
   "cell_type": "markdown",
   "source": [
    "### How to read bytes from a stream\n",
    "\n",
    "Reading from a binary file requires use of a specialized method name `readinto()`, as the method doesn't create a new byte array object, but fills a previously created one with the values taken from the binary file.\n",
    "\n",
    "Note:\n",
    "\n",
    "-   the method returns the number of successfully read bytes;\n",
    "-   the method tries to fill the whole space available inside its argument; if there are more data in the file than space in the argument, the read operation will stop before the end of the file; otherwise, the method's result may indicate that the byte array has only been filled fragmentarily (the result will show you that, too, and the part of the array not being used by the newly read contents remains untouched)\n",
    "\n",
    "Look at the complete code below:"
   ],
   "metadata": {
    "collapsed": false
   }
  },
  {
   "cell_type": "code",
   "execution_count": 13,
   "outputs": [
    {
     "name": "stdout",
     "output_type": "stream",
     "text": [
      "0xa 0xb 0xc 0xd 0xe 0xf 0x10 0x11 0x12 0x13 "
     ]
    }
   ],
   "source": [
    "from os import strerror\n",
    "\n",
    "data = bytearray(10)\n",
    "\n",
    "try:\n",
    "    bf = open('file.bin', 'rb')\n",
    "    bf.readinto(data)\n",
    "    bf.close()\n",
    "\n",
    "    for b in data:\n",
    "        print(hex(b), end=' ')\n",
    "except IOError as e:\n",
    "    print(\"I/O error occurred:\", strerror(e.errno))"
   ],
   "metadata": {
    "collapsed": false,
    "ExecuteTime": {
     "end_time": "2023-06-25T13:41:28.873445930Z",
     "start_time": "2023-06-25T13:41:28.806138102Z"
    }
   }
  },
  {
   "cell_type": "markdown",
   "source": [
    "Let's analyze it:\n",
    "\n",
    "-   first, we open the file (the one you created using the previous code) with the mode described as `rb`;\n",
    "-   then, we read its contents into the byte array named `data`, of size ten bytes;\n",
    "-   finally, we print the byte array contents - are they the same as you expected?\n",
    "\n",
    "Run the code and check if it's working."
   ],
   "metadata": {
    "collapsed": false
   }
  },
  {
   "cell_type": "markdown",
   "source": [
    "### How to read bytes from a stream\n",
    "\n",
    "An alternative way of reading the contents of a binary file is offered by the method named `read()`.\n",
    "\n",
    "Invoked without arguments, it tries to **read all the contents of the file into the memory**, making them a part of a newly created object of the bytes class.\n",
    "\n",
    "This class has some similarities to `bytearray`, with the exception of one significant difference - it's **immutable**.\n",
    "\n",
    "Fortunately, there are no obstacles to creating a byte array by taking its initial value directly from the bytes object, just like here:\n",
    "\n",
    "Be careful - **don't use this kind of read if you're not sure that the file's contents will fit the available memory**.\n"
   ],
   "metadata": {
    "collapsed": false
   }
  },
  {
   "cell_type": "code",
   "execution_count": 15,
   "outputs": [
    {
     "name": "stdout",
     "output_type": "stream",
     "text": [
      "0xa 0xb 0xc 0xd 0xe 0xf 0x10 0x11 0x12 0x13 "
     ]
    }
   ],
   "source": [
    "from os import strerror\n",
    "\n",
    "try:\n",
    "    bf = open('file.bin', 'rb')\n",
    "    data = bytearray(bf.read())\n",
    "    bf.close()\n",
    "\n",
    "    for b in data:\n",
    "        print(hex(b), end=' ')\n",
    "\n",
    "except IOError as e:\n",
    "    print(\"I/O error occurred:\", strerror(e.errno))"
   ],
   "metadata": {
    "collapsed": false,
    "ExecuteTime": {
     "end_time": "2023-06-25T13:43:48.639311983Z",
     "start_time": "2023-06-25T13:43:48.569330721Z"
    }
   }
  },
  {
   "cell_type": "markdown",
   "source": [],
   "metadata": {
    "collapsed": false
   }
  },
  {
   "cell_type": "code",
   "execution_count": 17,
   "outputs": [
    {
     "ename": "SyntaxError",
     "evalue": "invalid syntax (4175485959.py, line 3)",
     "output_type": "error",
     "traceback": [
      "\u001B[0;36m  Cell \u001B[0;32mIn[17], line 3\u001B[0;36m\u001B[0m\n\u001B[0;31m    If the `read()` method is invoked with an argument, it **specifies the maximum number of bytes to be read**.\u001B[0m\n\u001B[0m       ^\u001B[0m\n\u001B[0;31mSyntaxError\u001B[0m\u001B[0;31m:\u001B[0m invalid syntax\n"
     ]
    }
   ],
   "source": [
    "## How to read bytes from a stream: continued\n",
    "\n",
    "If the `read()` method is invoked with an argument, it **specifies the maximum number of bytes to be read**.\n",
    "\n",
    "The method tries to read the desired number of bytes from the file, and the length of the returned object can be used to determine the number of bytes actually read.\n",
    "\n",
    "You can use the method just like here:\n"
   ],
   "metadata": {
    "collapsed": false,
    "ExecuteTime": {
     "end_time": "2023-06-25T13:47:24.325146229Z",
     "start_time": "2023-06-25T13:47:24.303316262Z"
    }
   }
  },
  {
   "cell_type": "code",
   "execution_count": 18,
   "outputs": [
    {
     "name": "stdout",
     "output_type": "stream",
     "text": [
      "0xa 0xb 0xc 0xd 0xe "
     ]
    }
   ],
   "source": [
    "try:\n",
    "    bf = open('file.bin', 'rb')\n",
    "    data = bytearray(bf.read(5))\n",
    "    bf.close()\n",
    "\n",
    "    for b in data:\n",
    "        print(hex(b), end=' ')\n",
    "\n",
    "except IOError as e:\n",
    "    print(\"I/O error occurred:\", strerror(e.errno))\n",
    "\n"
   ],
   "metadata": {
    "collapsed": false,
    "ExecuteTime": {
     "end_time": "2023-06-25T13:47:24.726736168Z",
     "start_time": "2023-06-25T13:47:24.710342076Z"
    }
   }
  },
  {
   "cell_type": "markdown",
   "source": [
    "Note: the first five bytes of the file have been read by the code - the next five are still waiting to be processed."
   ],
   "metadata": {
    "collapsed": false
   }
  },
  {
   "cell_type": "markdown",
   "source": [
    "### Copying files - a simple and functional tool\n",
    "\n",
    "Now you're going to amalgamate all this new knowledge, add some fresh elements to it, and use it to write a real code which is able to actually copy a file's contents.\n",
    "\n",
    "Of course, the purpose is not to make a better replacement for commands like _copy_ (MS Windows) or _cp_ (Unix/Linux) but to see one possible way of creating a working tool, even if nobody wants to use it.\n",
    "\n",
    "Look at the code in the editor. Let's analyze it:\n",
    "\n",
    "-   lines 3 through 8: ask the user for the name of the file to copy, and try to open it to read; terminate the program execution if the open fails; note: use the `exit()` function to stop program execution and to pass the completion code to the OS; any completion code other than `0` says that the program has encountered some problems; use the `errno` value to specify the nature of the issue;\n",
    "-   lines 10 through 16: repeat nearly the same action, but this time for the output file;\n",
    "-   line 18: prepare a piece of memory for transferring data from the source file to the target one; such a transfer area is often called a buffer, hence the name of the variable; the size of the buffer is arbitrary - in this case, we decided to use 64 kilobytes; technically, a larger buffer is faster at copying items, as a larger buffer means fewer I/O operations; actually, there is always a limit, the crossing of which renders no further improvements; test it yourself if you want.\n",
    "-   line 19: count the bytes copied - this is the counter and its initial value;\n",
    "-   line 21: try to fill the buffer for the very first time;\n",
    "-   line 22: as long as you get a non-zero number of bytes, repeat the same actions;\n",
    "-   line 23: write the buffer's contents to the output file (note: we've used a slice to limit the number of bytes being written, as `write()` always prefer to write the whole buffer)\n",
    "-   line 24: update the counter;\n",
    "-   line 25: read the next file chunk;\n",
    "-   lines 30 through 32: some final cleaning - the job is done.\n"
   ],
   "metadata": {
    "collapsed": false
   }
  },
  {
   "cell_type": "code",
   "execution_count": 21,
   "outputs": [
    {
     "name": "stdout",
     "output_type": "stream",
     "text": [
      "81 byte(s) succesfully written\n"
     ]
    }
   ],
   "source": [
    "from os import strerror\n",
    "\n",
    "srcname = input(\"Enter the source file name: \")\n",
    "try:\n",
    "    src = open(srcname, 'rb')\n",
    "except IOError as e:\n",
    "    print(\"Cannot open the source file: \", strerror(e.errno))\n",
    "    exit(e.errno)\n",
    "\n",
    "dstname = input(\"Enter the destination file name: \")\n",
    "try:\n",
    "    dst = open(dstname, 'wb')\n",
    "except Exception as e:\n",
    "    print(\"Cannot create the destination file: \", strerror(e.errno))\n",
    "    src.close()\n",
    "    exit(e.errno)\n",
    "\n",
    "buffer = bytearray(65536)\n",
    "total  = 0\n",
    "try:\n",
    "    readin = src.readinto(buffer)\n",
    "    while readin > 0:\n",
    "        written = dst.write(buffer[:readin])\n",
    "        total += written\n",
    "        readin = src.readinto(buffer)\n",
    "except IOError as e:\n",
    "    print(\"Cannot create the destination file: \", strerror(e.errno))\n",
    "    exit(e.errno)\n",
    "\n",
    "print(total,'byte(s) succesfully written')\n",
    "src.close()\n",
    "dst.close()\n"
   ],
   "metadata": {
    "collapsed": false,
    "ExecuteTime": {
     "end_time": "2023-06-25T13:52:58.403055135Z",
     "start_time": "2023-06-25T13:52:32.764467658Z"
    }
   }
  },
  {
   "cell_type": "markdown",
   "source": [
    "### LAB"
   ],
   "metadata": {
    "collapsed": false
   }
  },
  {
   "cell_type": "markdown",
   "source": [
    "#### Character frequency histogram\n",
    "\n",
    "**Estimated time**\n",
    "\n",
    "30-60 minutes\n",
    "\n",
    "**Level of difficulty**\n",
    "\n",
    "Medium\n",
    "\n",
    "**Objectives**\n",
    "\n",
    "-   improving the student's skills in operating with files (reading)\n",
    "-   using data collections for counting numerous data.\n",
    "\n",
    "**Scenario**\n",
    "\n",
    "A text file contains some text (nothing unusual) but we need to know how often (or how rare) each letter appears in the text. Such an analysis may be useful in cryptography, so we want to be able to do that in reference to the Latin alphabet.\n",
    "\n",
    "Your task is to write a program which:\n",
    "\n",
    "-   asks the user for the input file's name;\n",
    "-   reads the file (if possible) and counts all the Latin letters (lower- and upper-case letters are treated as equal)\n",
    "-   prints a simple histogram in alphabetical order (only non-zero counts should be presented)\n",
    "\n",
    "Create a test file for the code, and check if your histogram contains valid results.\n",
    "\n",
    "Assuming that the test file contains just one line filled with:\n",
    "\n",
    "`aBc`\n",
    "\n",
    "**samplefile.txt**\n",
    "\n",
    "the expected output should look as follows:\n",
    "\n",
    "`a -> 1 b -> 1 c -> 1`\n",
    "\n",
    "**output**\n",
    "\n",
    "**Tip**: We think that a dictionary is a perfect data collection medium for storing the counts. The letters may be keys while the counters can be values."
   ],
   "metadata": {
    "collapsed": false
   }
  },
  {
   "cell_type": "code",
   "execution_count": 57,
   "outputs": [],
   "source": [
    "def count_char():\n",
    "    file_name = input(\"Enter the file name: \")\n",
    "    #file_name = \"samplefile.txt\"\n",
    "    from os import strerror\n",
    "    dict = {}\n",
    "    try:\n",
    "        s = open(file_name, 'rt')\n",
    "        content = s.read().lower()\n",
    "        for ch in content:\n",
    "            if ch in dict:\n",
    "                dict[ch] += 1\n",
    "            else:\n",
    "                dict[ch] = 1\n",
    "    except IOError as e:\n",
    "        print(\"I/O error occurred: \", strerror(e.errno))\n",
    "\n",
    "    return sorted(dict.items())"
   ],
   "metadata": {
    "collapsed": false,
    "ExecuteTime": {
     "end_time": "2023-06-30T12:48:45.272276526Z",
     "start_time": "2023-06-30T12:48:45.200099799Z"
    }
   }
  },
  {
   "cell_type": "code",
   "execution_count": 58,
   "outputs": [
    {
     "name": "stdout",
     "output_type": "stream",
     "text": [
      "I/O error occurred:  No such file or directory\n"
     ]
    }
   ],
   "source": [
    "for ch, count in count_char():\n",
    "    if ch.isalpha() and count > 0:\n",
    "        print(ch, \"->\", count)"
   ],
   "metadata": {
    "collapsed": false,
    "ExecuteTime": {
     "end_time": "2023-06-30T12:48:49.179940854Z",
     "start_time": "2023-06-30T12:48:46.302103928Z"
    }
   }
  },
  {
   "cell_type": "code",
   "execution_count": 59,
   "outputs": [
    {
     "name": "stdout",
     "output_type": "stream",
     "text": [
      "The file  does not exist.\n"
     ]
    }
   ],
   "source": [
    "import string\n",
    "\n",
    "def count_letters(filename):\n",
    "    # Initialize a dictionary with keys as letters from a-z and values as 0\n",
    "    counter = dict.fromkeys(string.ascii_lowercase, 0)\n",
    "\n",
    "    # Try to open the file\n",
    "    try:\n",
    "        with open(filename, 'r') as file:\n",
    "            for line in file:\n",
    "                # Convert each line to lowercase and count each letter\n",
    "                for letter in line.lower():\n",
    "                    if letter in counter:\n",
    "                        counter[letter] += 1\n",
    "\n",
    "    except FileNotFoundError:\n",
    "        print(f\"The file {filename} does not exist.\")\n",
    "        return\n",
    "\n",
    "    # Print the histogram for letters which counts are not zero\n",
    "    for letter, count in sorted(counter.items()):\n",
    "        if count > 0:\n",
    "            print(f\"{letter} -> {count}\")\n",
    "\n",
    "def main():\n",
    "    filename = input(\"Enter the name of the file: \")\n",
    "    count_letters(filename)\n",
    "\n",
    "if __name__ == \"__main__\":\n",
    "    main()\n"
   ],
   "metadata": {
    "collapsed": false,
    "ExecuteTime": {
     "end_time": "2023-06-30T12:48:53.532902031Z",
     "start_time": "2023-06-30T12:48:51.116487300Z"
    }
   }
  },
  {
   "cell_type": "code",
   "execution_count": 60,
   "outputs": [
    {
     "name": "stdout",
     "output_type": "stream",
     "text": [
      "{'a': 0, 'b': 0, 'c': 0, 'd': 0, 'e': 0, 'f': 0, 'g': 0, 'h': 0, 'i': 0, 'j': 0, 'k': 0, 'l': 0, 'm': 0, 'n': 0, 'o': 0, 'p': 0, 'q': 0, 'r': 0, 's': 0, 't': 0, 'u': 0, 'v': 0, 'w': 0, 'x': 0, 'y': 0, 'z': 0}\n"
     ]
    }
   ],
   "source": [
    "counter = dict.fromkeys(string.ascii_lowercase, 0)\n",
    "print(counter)"
   ],
   "metadata": {
    "collapsed": false,
    "ExecuteTime": {
     "end_time": "2023-06-30T12:48:54.247480088Z",
     "start_time": "2023-06-30T12:48:54.194611740Z"
    }
   }
  },
  {
   "cell_type": "markdown",
   "source": [
    "#### Sorted character frequency histogram\n",
    "\n",
    "**Estimated time**\n",
    "\n",
    "15-30 minutes\n",
    "\n",
    "**Level of difficulty**\n",
    "\n",
    "Medium\n",
    "\n",
    "**Prerequisites**\n",
    "\n",
    "4.3.1.15\n",
    "\n",
    "**Objectives**\n",
    "\n",
    "-   improve the student's skills in operating with files (reading/writing)\n",
    "-   using lambdas to change the sort order.\n",
    "\n",
    "**Scenario**\n",
    "\n",
    "The previous code needs to be improved. It's okay, but it has to be better.\n",
    "\n",
    "Your task is to make some amendments, which generate the following results:\n",
    "\n",
    "-   the output histogram will be sorted based on the characters' frequency (the bigger counter should be presented first)\n",
    "-   the histogram should be sent to a file with the same name as the input one, but with the suffix '.hist' (it should be concatenated to the original name)\n",
    "\n",
    "Assuming that the input file contains just one line filled with:\n",
    "\n",
    "`cBabAa`\n",
    "\n",
    "**samplefile.txt**\n",
    "\n",
    "the expected output should look as follows:\n",
    "\n",
    "`a -> 3 b -> 2 c -> 1`\n",
    "\n",
    "**output**\n",
    "\n",
    "**Tip**: Use a `lambda` to change the sort order."
   ],
   "metadata": {
    "collapsed": false
   }
  },
  {
   "cell_type": "code",
   "execution_count": 61,
   "outputs": [
    {
     "name": "stdout",
     "output_type": "stream",
     "text": [
      "The file  does not exist.\n"
     ]
    }
   ],
   "source": [
    "import string\n",
    "\n",
    "def count_letters(filename):\n",
    "    # Initialize a dictionary with keys as letters from a-z and values as 0\n",
    "    counter = dict.fromkeys(string.ascii_lowercase, 0)\n",
    "\n",
    "    # Try to open the file\n",
    "    try:\n",
    "        with open(filename, 'r') as file:\n",
    "            for line in file:\n",
    "                # Convert each line to lowercase and count each letter\n",
    "                for letter in line.lower():\n",
    "                    if letter in counter:\n",
    "                        counter[letter] += 1\n",
    "    except FileNotFoundError:\n",
    "        print(f\"The file {filename} does not exist.\")\n",
    "        return\n",
    "\n",
    "    # Create the output filename\n",
    "    output_filename = filename + '.hist'\n",
    "\n",
    "    # Open the output file and write the histogram\n",
    "    with open(output_filename, 'w') as file:\n",
    "        # Sort the counter dictionary by value in descending order\n",
    "        for letter, count in sorted(counter.items(), key=lambda item: item[1], reverse=True):\n",
    "            if count > 0:\n",
    "                file.write(f\"{letter} -> {count}\\n\")\n",
    "\n",
    "def main():\n",
    "    filename = input(\"Enter the name of the file: \")\n",
    "    count_letters(filename)\n",
    "\n",
    "if __name__ == \"__main__\":\n",
    "    main()"
   ],
   "metadata": {
    "collapsed": false,
    "ExecuteTime": {
     "end_time": "2023-06-30T12:49:01.351760158Z",
     "start_time": "2023-06-30T12:49:00.142316874Z"
    }
   }
  },
  {
   "cell_type": "code",
   "execution_count": 62,
   "outputs": [
    {
     "data": {
      "text/plain": "[('c', 3), ('b', 2), ('a', 1)]"
     },
     "execution_count": 62,
     "metadata": {},
     "output_type": "execute_result"
    }
   ],
   "source": [
    "counter = {'a': 1, 'b': 2, 'c': 3}\n",
    "\n",
    "sorted(counter.items(), key=lambda item: item[1], reverse=True)"
   ],
   "metadata": {
    "collapsed": false,
    "ExecuteTime": {
     "end_time": "2023-06-30T12:49:02.328764176Z",
     "start_time": "2023-06-30T12:49:02.275215285Z"
    }
   }
  },
  {
   "cell_type": "markdown",
   "source": [
    "#### Evaluating students' results\n",
    "\n",
    "**Estimated time**\n",
    "\n",
    "30-90 minutes\n",
    "\n",
    "**Level of difficulty**\n",
    "\n",
    "Medium\n",
    "\n",
    "**Objectives**\n",
    "\n",
    "-   improve the student's skills in operating with files (reading)\n",
    "-   perfecting the student's abilities in defining and using self-defined exceptions and dictionaries.\n",
    "\n",
    "**Scenario**\n",
    "\n",
    "Prof. Jekyll conducts classes with students and regularly makes notes in a text file. Each line of the file contains three elements: the student's first name, the student's last name, and the number of point the student received during certain classes.\n",
    "\n",
    "The elements are separated with white spaces. Each student may appear more than once inside Prof. Jekyll's file.\n",
    "\n",
    "The file may look as follows:\n",
    "\n",
    "`John Smith 5 Anna Boleyn 4.5 John Smith 2 Anna Boleyn 11 Andrew Cox 1.5`\n",
    "\n",
    "**samplefile.txt**\n",
    "\n",
    "Your task is to write a program which:\n",
    "\n",
    "-   asks the user for Prof. Jekyll's file name;\n",
    "-   reads the file contents and counts the sum of the received points for each student;\n",
    "-   prints a simple (but sorted) report, just like this one:\n",
    "\n",
    "`Andrew Cox 1.5 Anna Boleyn 15.5 John Smith 7.0`\n",
    "\n",
    "**output**\n",
    "\n",
    "Note:\n",
    "\n",
    "-   your program must be fully protected against all possible failures: the file's non-existence, the file's emptiness, or any input data failures; encountering any data error should cause immediate program termination, and the erroneous should be presented to the user;\n",
    "-   implement and use your own exceptions hierarchy - we've presented it in the editor; the second exception should be raised when a bad line is detect, and the third when the source file exists but is empty.\n",
    "\n",
    "**Tip**: Use a dictionary to store the students' data."
   ],
   "metadata": {
    "collapsed": false
   }
  },
  {
   "cell_type": "code",
   "execution_count": 64,
   "outputs": [],
   "source": [
    "def get_students_points(filename):\n",
    "    grades = {}\n",
    "    # Try to open the file\n",
    "    try:\n",
    "        with open(filename, 'r') as file:\n",
    "            for line in file:\n",
    "                student = line.split()\n",
    "                key = student[0] + \" \" + student[1]\n",
    "                if key in grades:\n",
    "                    grades[key] += float(student[2])\n",
    "                else:\n",
    "                    grades[key] = float(student[2])\n",
    "        return sorted(grades.items(), key=lambda item: item[0])\n",
    "    except FileNotFoundError:\n",
    "        print(f\"The file {filename} does not exist.\")\n",
    "        return"
   ],
   "metadata": {
    "collapsed": false,
    "ExecuteTime": {
     "end_time": "2023-06-30T12:49:16.243920508Z",
     "start_time": "2023-06-30T12:49:16.215172322Z"
    }
   }
  },
  {
   "cell_type": "code",
   "execution_count": 65,
   "outputs": [
    {
     "data": {
      "text/plain": "[('Andrew Cox', 1.5), ('Anna Boleyn', 15.5), ('John Smith', 7.0)]"
     },
     "execution_count": 65,
     "metadata": {},
     "output_type": "execute_result"
    }
   ],
   "source": [
    "filename=\"students.txt\"\n",
    "get_students_points(filename)"
   ],
   "metadata": {
    "collapsed": false,
    "ExecuteTime": {
     "end_time": "2023-06-30T12:49:16.716747430Z",
     "start_time": "2023-06-30T12:49:16.686262546Z"
    }
   }
  },
  {
   "cell_type": "code",
   "execution_count": 66,
   "outputs": [],
   "source": [
    "class StudentsDataException(Exception):\n",
    "    pass\n",
    "\n",
    "\n",
    "class BadLine(StudentsDataException):\n",
    "    pass\n",
    "\n",
    "\n",
    "class FileEmpty(StudentsDataException):\n",
    "    pass\n",
    "\n",
    "\n",
    "def process_file(file_name):\n",
    "    try:\n",
    "        with open(file_name, 'r') as file:\n",
    "            lines = file.readlines()\n",
    "            if len(lines) == 0:\n",
    "                raise FileEmpty(\"The file is empty.\")\n",
    "\n",
    "            students_data = {}\n",
    "            for line in lines:\n",
    "                line = line.strip()\n",
    "                if line == '':\n",
    "                    continue\n",
    "\n",
    "                try:\n",
    "                    first_name, last_name, points = line.split()\n",
    "                    points = float(points)\n",
    "                    full_name = f\"{first_name} {last_name}\"\n",
    "\n",
    "                    if full_name in students_data:\n",
    "                        students_data[full_name] += points\n",
    "                    else:\n",
    "                        students_data[full_name] = points\n",
    "                except ValueError:\n",
    "                    raise BadLine(f\"Bad line: {line}\")\n",
    "\n",
    "            sorted_data = sorted(students_data.items(), key=lambda x: x[0])\n",
    "            for student, total_points in sorted_data:\n",
    "                print(f\"{student} {total_points}\")\n",
    "    except FileNotFoundError:\n",
    "        print(f\"File '{file_name}' not found.\")\n",
    "    except FileEmpty as e:\n",
    "        print(e)\n",
    "    except BadLine as e:\n",
    "        print(e)"
   ],
   "metadata": {
    "collapsed": false,
    "ExecuteTime": {
     "end_time": "2023-06-30T12:49:17.799939378Z",
     "start_time": "2023-06-30T12:49:17.770964484Z"
    }
   }
  },
  {
   "cell_type": "code",
   "execution_count": 78,
   "outputs": [
    {
     "name": "stdout",
     "output_type": "stream",
     "text": [
      "File '' not found.\n"
     ]
    }
   ],
   "source": [
    "file_name = input(\"Enter the file name: \")\n",
    "process_file(file_name)"
   ],
   "metadata": {
    "collapsed": false,
    "ExecuteTime": {
     "end_time": "2023-06-30T13:25:52.080477603Z",
     "start_time": "2023-06-30T13:25:50.376482160Z"
    }
   }
  },
  {
   "cell_type": "markdown",
   "source": [
    "### Key takeaways\n",
    "\n",
    "1\\. To read a file’s contents, the following stream methods can be used:\n",
    "\n",
    "-   `read(number)` – reads the `number` characters/bytes from the file and returns them as a string; is able to read the whole file at once;\n",
    "-   `readline()` – reads a single line from the text file;\n",
    "-   `readlines(number)` – reads the `number` lines from the text file; is able to read all lines at once;\n",
    "-   `readinto(bytearray)` – reads the bytes from the file and fills the `bytearray` with them;\n",
    "\n",
    "2\\. To write new content into a file, the following stream methods can be used:\n",
    "\n",
    "-   `write(string)` – writes a `string` to a text file;\n",
    "-   `write(bytearray)` – writes all the bytes of `bytearray` to a file;\n",
    "\n",
    "3\\. The `open()` method returns an iterable object which can be used to iterate through all the file's lines inside a `for` loop. For example:\n",
    "\n",
    "`for line in open(\"file\", \"rt\"):`\n",
    "\n",
    "`print(line, end='')`\n",
    "\n",
    "The code copies the file's contents to the console, line by line. **Note**: the stream closes itself **automatically** when it reaches the end of the file."
   ],
   "metadata": {
    "collapsed": false
   }
  },
  {
   "cell_type": "markdown",
   "source": [
    "**Exercise 1**\n",
    "\n",
    "What do we expect from the `readlines()` method when the stream is associated with an empty file?"
   ],
   "metadata": {
    "collapsed": false
   }
  },
  {
   "cell_type": "code",
   "execution_count": 79,
   "outputs": [],
   "source": [
    "# s = open(\"empty.txt\")\n",
    "# s.readlines()"
   ],
   "metadata": {
    "collapsed": false,
    "ExecuteTime": {
     "end_time": "2023-06-30T13:25:54.873375073Z",
     "start_time": "2023-06-30T13:25:54.826686246Z"
    }
   }
  },
  {
   "cell_type": "markdown",
   "source": [
    "**Exercise 2**\n",
    "\n",
    "What is the following code intended to do?\n",
    "\n",
    "`for line in open(\"file\", \"rt\"): for char in line: if char.lower() not in \"aeiouy \": print(char, end='')`"
   ],
   "metadata": {
    "collapsed": false
   }
  },
  {
   "cell_type": "code",
   "execution_count": 80,
   "outputs": [],
   "source": [
    "for line in open(\"students.txt\", \"rt\"):\n",
    "    for char in line:\n",
    "        if char.lower() not in \"aeiouy \":\n",
    "            pass\n",
    "            #print(char, end='')"
   ],
   "metadata": {
    "collapsed": false,
    "ExecuteTime": {
     "end_time": "2023-06-30T13:25:55.346715463Z",
     "start_time": "2023-06-30T13:25:55.290231221Z"
    }
   }
  },
  {
   "cell_type": "markdown",
   "source": [
    "**Exercise 3**\n",
    "\n",
    "You're going to process a bitmap stored in a file named `image.png`, and you want to read its contents as a whole into a _bytearray_ variable named `image`. Add a line to the following code to achieve this goal.\n",
    "\n",
    "`try: stream = open(\"image.png\", \"rb\") # Insert a line here. stream.close() except IOError: print(\"failed\") else: print(\"success\")`"
   ],
   "metadata": {
    "collapsed": false
   }
  },
  {
   "cell_type": "code",
   "execution_count": 82,
   "outputs": [
    {
     "name": "stdout",
     "output_type": "stream",
     "text": [
      "success\n"
     ]
    }
   ],
   "source": [
    "try:\n",
    "    stream = open(\"image.png\", \"rb\")\n",
    "    image = stream.read()\n",
    "    #print(image)\n",
    "    stream.close()\n",
    "except IOError:\n",
    "    print(\"failed\")\n",
    "else:\n",
    "    print(\"success\")"
   ],
   "metadata": {
    "collapsed": false,
    "ExecuteTime": {
     "end_time": "2023-06-30T13:26:03.215229021Z",
     "start_time": "2023-06-30T13:26:03.168310904Z"
    }
   }
  },
  {
   "cell_type": "code",
   "execution_count": null,
   "outputs": [],
   "source": [],
   "metadata": {
    "collapsed": false
   }
  },
  {
   "cell_type": "markdown",
   "source": [
    "# ab hier noch formatierung notwendig"
   ],
   "metadata": {
    "collapsed": false
   }
  },
  {
   "cell_type": "markdown",
   "source": [
    "## Introduction to the os module\n",
    "\n",
    "In this section, you'll learn about a module called _os_, which lets you **interact with the operating system using Python**.\n",
    "\n",
    "It provides functions that are available on Unix and/or Windows systems. If you're familiar with the command console, you'll see that some functions give the same results as the commands available on the operating systems.\n",
    "\n",
    "A good example of this is the `mkdir` function, which allows you to create a directory just like the _mkdir_ command in Unix and Windows. If you don't know this command, don't worry.\n",
    "\n",
    "You'll soon have the opportunity to learn the functions of the _os_ module, to perform operations on files and directories along with the corresponding commands.\n",
    "\n",
    "In addition to file and directory operations, the _os_ module enables you to:\n",
    "\n",
    "-   get information about the operating system;\n",
    "-   manage processes;\n",
    "-   operate on I/O streams using file descriptors.\n",
    "\n",
    "\n",
    "\n",
    "![A penguin, a snake, and a window](https://edube.org/uploads/media/default/0001/02/acff888e657173efaea1bc8feacc5a61c1190038.png)\n",
    "\n",
    "In a moment, you'll see how to get basic information about your operating system, although process management and working with file descriptors won't be discussed here, because these are more advanced topics that require knowledge of operating system mechanisms.\n",
    "\n",
    "Ready?"
   ],
   "metadata": {
    "collapsed": false
   }
  },
  {
   "cell_type": "markdown",
   "source": [
    "### Getting information about the operating system\n",
    "\n",
    "Before you create your first directory structure, you'll see how you can get information about the current operating system. This is really easy because the _os_ module provides a function called _uname_, which returns an object containing the following attributes:\n",
    "\n",
    "-   **systemname** — stores the name of the operating system;\n",
    "-   **nodename** — stores the machine name on the network;\n",
    "-   **release** — stores the operating system release;\n",
    "-   **version** — stores the operating system version;\n",
    "-   **machine** — stores the hardware identifier, e.g., x86\\_64.\n",
    "\n",
    "Let's look at how it is in practice:\n",
    "\n",
    "```python\n",
    "import os\n",
    "print(os.uname())\n",
    "\n",
    "```\n",
    "\n",
    "Result:\n",
    "\n",
    "```python\n",
    "posix.uname_result(sysname='Linux', nodename='192d19f04766', release='4.4.0-164-generic', version='#192-Ubuntu SMP Fri Sep 13 12:02:50 UTC 2019', machine='x86_64')\n",
    "```\n",
    "\n",
    "**output**\n",
    "\n",
    "As you can see, the _uname_ function returns an object containing information about the operating system. The above code was launched on Ubuntu 16.04.6 LTS, so don't be surprised if you get a different result, because it depends on your operating system.\n",
    "\n",
    "Unfortunately, the _uname_ function only works on some Unix systems. If you use Windows, you can use the _uname_ function in the _platform_ module, which returns a similar result.\n",
    "\n",
    "The _os_ module allows you to quickly distinguish the operating system using the _name_ attribute, which supports one of the following names:\n",
    "\n",
    "-   **posix** — you'll get this name if you use Unix;\n",
    "-   **nt** — you'll get this name if you use Windows;\n",
    "-   **java** — you'll get this name if your code is written in Jython.\n",
    "\n",
    "For Ubuntu 16.04.6 LTS, the _name_ attribute returns the name _posix_:\n",
    "\n",
    "```python\n",
    "import os\n",
    "print(os.name)\n",
    "\n",
    "```\n",
    "\n",
    "Result:\n",
    "\n",
    "`posix`\n",
    "\n",
    "**output**\n",
    "\n",
    "**NOTE:** On Unix systems, there's a command called _uname_ that returns the same information (if you run it with the -a option) as the _uname_ function."
   ],
   "metadata": {
    "collapsed": false
   }
  },
  {
   "cell_type": "code",
   "execution_count": 85,
   "outputs": [
    {
     "name": "stdout",
     "output_type": "stream",
     "text": [
      "posix.uname_result(sysname='Linux', nodename='win-yoga', release='5.19.0-42-generic', version='#43~22.04.1-Ubuntu SMP PREEMPT_DYNAMIC Fri Apr 21 16:51:08 UTC 2', machine='x86_64')\n"
     ]
    }
   ],
   "source": [
    "import os\n",
    "print(os.uname())\n"
   ],
   "metadata": {
    "collapsed": false,
    "ExecuteTime": {
     "end_time": "2023-06-30T13:31:32.962079088Z",
     "start_time": "2023-06-30T13:31:32.876408695Z"
    }
   }
  },
  {
   "cell_type": "code",
   "execution_count": 86,
   "outputs": [
    {
     "name": "stdout",
     "output_type": "stream",
     "text": [
      "posix\n"
     ]
    }
   ],
   "source": [
    "import os\n",
    "print(os.name)"
   ],
   "metadata": {
    "collapsed": false,
    "ExecuteTime": {
     "end_time": "2023-06-30T13:31:33.168155794Z",
     "start_time": "2023-06-30T13:31:33.093708380Z"
    }
   }
  },
  {
   "cell_type": "markdown",
   "source": [],
   "metadata": {
    "collapsed": false
   }
  },
  {
   "cell_type": "markdown",
   "source": [
    "### Creating directories in Python\n",
    "\n",
    "The _os_ module provides a function called _mkdir_, which, like the _mkdir_ command in Unix and Windows, allows you to create a directory. The _mkdir_ function requires a path that can be relative or absolute. Let's recall what both paths look like in practice:\n",
    "\n",
    "-   **my\\_first\\_directory** — this is a relative path which will create the _my\\_first\\_directory_ directory in the current working directory;\n",
    "-   **./my\\_first\\_directory** — this is a relative path that explicitly points to the current working directory. It has the same effect as the path above;\n",
    "-   **../my\\_first\\_directory** — this is a relative path that will create the _my\\_first\\_directory_ directory in the parent directory of the current working directory;\n",
    "-   **/python/my\\_first\\_directory** — this is the absolute path that will create the _my\\_first\\_directory_ directory, which in turn is in the _python_ directory in the root directory.\n",
    "\n",
    "Look at the code in the editor. It shows an example of how to create the _my\\_first\\_directory_ directory using a relative path. This is the simplest variant of the relative path, which consists of passing only the directory name.\n",
    "\n",
    "If you test your code here, it will output the newly created `['my_first_directory']` directory (and the entire content of the current working catalog).\n",
    "\n",
    "The _mkdir_ function creates a directory in the specified path. Note that running the program twice will raise a _FileExistsError_.\n",
    "\n",
    "This means that we cannot create a directory if it already exists. In addition to the path argument, the _mkdir_ function can optionally take the _mode_ argument, which specifies directory permissions. However, on some systems, the _mode_ argument is ignored.\n",
    "\n",
    "To change the directory permissions, we recommend the _chmod_ function, which works similarly to the _chmod_ command on Unix systems. You can find more information about it in the documentation.\n",
    "\n",
    "In the above example, another function provided by the _os_ module named _listdir_ is used. The _listdir_ function returns a list containing the names of the files and directories that are in the path passed as an argument.\n",
    "\n",
    "If no argument is passed to it, the current working directory will be used (as in the example above). It's important that the result of the _listdir_ function omits the entries '.' and '..', which are displayed, e.g., when using the _ls -a_ command on Unix systems.\n",
    "\n",
    "**NOTE:** In both Windows and Unix, there's a command called _mkdir_, which requires a directory path. The equivalent of the above code that creates the _my\\_first\\_directory_ directory is the _mkdir my\\_first\\_directory_ command.\n"
   ],
   "metadata": {
    "collapsed": false
   }
  },
  {
   "cell_type": "markdown",
   "source": [],
   "metadata": {
    "collapsed": false
   }
  },
  {
   "cell_type": "code",
   "execution_count": 101,
   "outputs": [
    {
     "name": "stdout",
     "output_type": "stream",
     "text": [
      "The directory already exists\n",
      "['image.png', 'copy_newtext.txt', 'example.txt', 'file.bin', 'newtext.txt', 'course_notes.ipynb', 'my_first_directory', 'example.txt.hist', 'students.txt', 'example_3.txt', 'samplefile.txt', 'empty.txt', 'newtext_v2.txt']\n",
      "['module_4', '.git', 'README.md', '.gitignore', 'img', 'module_3', '.idea', 'module_1', 'playground.ipynb', '.ipynb_checkpoints', 'module_2']\n"
     ]
    }
   ],
   "source": [
    "import os\n",
    "\n",
    "try:\n",
    "    os.mkdir(\"my_first_directory\")\n",
    "except FileExistsError:\n",
    "    print('The directory already exists')\n",
    "\n",
    "print(os.listdir())\n",
    "print(os.listdir('../'))\n"
   ],
   "metadata": {
    "collapsed": false,
    "ExecuteTime": {
     "end_time": "2023-06-30T15:55:04.933716509Z",
     "start_time": "2023-06-30T15:55:04.908592182Z"
    }
   }
  },
  {
   "cell_type": "markdown",
   "source": [
    "### Recursive directory creation\n",
    "\n",
    "The `mkdir` function is very useful, but what if you need to create another directory in the directory you've just created. Of course, you can go to the created directory and create another directory inside it, but fortunately the _os_ module provides a function called `makedirs`, which makes this task easier.\n",
    "\n",
    "The _makedirs_ function enables recursive directory creation, which means that all directories in the path will be created. Let's look at the code in the editor and see how it is in practice.\n",
    "\n",
    "The code should produce the following result:\n",
    "\n",
    "`['my_second_directory']`\n",
    "\n",
    "**output**\n",
    "\n",
    "The code creates two directories. The first of them is created in the current working directory, while the second in the _my\\_first\\_directory_ directory.\n",
    "\n",
    "You don't have to go to the _my\\_first\\_directory_ directory to create the _my\\_second\\_directory_ directory, because the _makedirs_ function does this for you. In the example above, we go to the _my\\_first\\_directory_ directory to show that the _makedirs_ command creates the _my\\_second\\_directory_ subdirectory.\n",
    "\n",
    "To move between directories, you can use a function called _chdir_, which changes the current working directory to the specified path. As an argument, it takes any relative or absolute path. In our example, we pass the first directory name to it.\n",
    "\n",
    "**NOTE:** The equivalent of the _makedirs_ function on Unix systems is the _mkdir_ command with the _\\-p_ flag, while in Windows, simply the _mkdir_ command with the path:\n",
    "\n",
    "-   Unix-like systems:\n",
    "\n",
    "    `mkdir -p my_first_directory/my_second_directory`\n",
    "\n",
    "\n",
    "-   Windows:\n",
    "\n",
    "    `mkdir my_first_directory/my_second_directory`"
   ],
   "metadata": {
    "collapsed": false
   }
  },
  {
   "cell_type": "code",
   "execution_count": 102,
   "outputs": [
    {
     "name": "stdout",
     "output_type": "stream",
     "text": [
      "['my_second_directory']\n"
     ]
    }
   ],
   "source": [
    "import os\n",
    "\n",
    "os.makedirs(\"my_first_directory/my_second_directory\")\n",
    "os.chdir(\"my_first_directory\")\n",
    "print(os.listdir())\n"
   ],
   "metadata": {
    "collapsed": false,
    "ExecuteTime": {
     "end_time": "2023-06-30T15:56:22.840043417Z",
     "start_time": "2023-06-30T15:56:22.738536435Z"
    }
   }
  },
  {
   "cell_type": "markdown",
   "source": [
    "### Where am I now?\n",
    "\n",
    "You already know how to create directories and how to move between them. Sometimes, when you have a really large directory structure that you navigate, you may not know which directory you're currently working in.\n",
    "\n",
    "\n",
    "\n",
    "![Lost programmer](https://edube.org/uploads/media/default/0001/02/83ab8d8cfb449367a7bb349a63730cb219770c2e.png)\n",
    "\n",
    "As you’ve probably guessed, the _os_ module provides a function that returns information about the current working directory. It's called `getcwd`. Look at the code in the editor to see how to use it in practice.\n",
    "\n",
    "Result:\n",
    "\n",
    "`.../my_first_directory .../my_first_directory/my_second_directory`\n",
    "\n",
    "**output**\n",
    "\n",
    "In the example, we create the _my\\_first\\_directory_ directory, and the _my\\_second\\_directory_ directory inside it. In the next step, we change the current working directory to the _my\\_first\\_directory_ directory, and then display the current working directory (first line of the result).\n",
    "\n",
    "Next, we go to the _my\\_second\\_directory_ directory and again display the current working directory (second line of the result). As you can see, the _getcwd_ function returns the absolute path to the directories.\n",
    "\n",
    "**NOTE:** On Unix-like systems, the equivalent of the _getcwd_ function is the _pwd_ command, which prints the name of the current working directory.\n"
   ],
   "metadata": {
    "collapsed": false
   }
  },
  {
   "cell_type": "code",
   "execution_count": 103,
   "outputs": [
    {
     "name": "stdout",
     "output_type": "stream",
     "text": [
      "/home/win/src/PCAP-31/module_4/my_first_directory/my_first_directory\n",
      "/home/win/src/PCAP-31/module_4/my_first_directory/my_first_directory/my_second_directory\n"
     ]
    }
   ],
   "source": [
    "import os\n",
    "\n",
    "os.makedirs(\"my_first_directory/my_second_directory\")\n",
    "os.chdir(\"my_first_directory\")\n",
    "print(os.getcwd())\n",
    "os.chdir(\"my_second_directory\")\n",
    "print(os.getcwd())\n"
   ],
   "metadata": {
    "collapsed": false,
    "ExecuteTime": {
     "end_time": "2023-06-30T15:59:17.275755995Z",
     "start_time": "2023-06-30T15:59:17.170222059Z"
    }
   }
  },
  {
   "cell_type": "markdown",
   "source": [
    "### Deleting directories in Python\n",
    "\n",
    "The _os_ module also allows you to delete directories. It gives you the option of deleting a single directory or a directory with its subdirectories. To delete a single directory, you can use a function called `rmdir`, which takes the path as its argument. Look at the code in the editor.\n",
    "\n",
    "The above example is really simple. First, the _my\\_first\\_directory_ directory is created, and then it's removed using the _rmdir_ function. The _listdir_ function is used as proof that the directory has been removed successfully. In this case, it returns an empty list. When deleting a directory, make sure it exists and is empty, otherwise an exception will be raised.\n",
    "\n",
    "To remove a directory and its subdirectories, you can use the `removedirs` function, which requires you to specify a path containing all directories that should be removed:\n",
    "\n",
    "`import os`\n",
    "\n",
    "`os.makedirs(\"my_first_directory/my_second_directory\")`\n",
    "\n",
    "`os.removedirs(\"my_first_directory/my_second_directory\")`\n",
    "\n",
    "`print(os.listdir())`\n",
    "\n",
    "As with the _rmdir_ function, if one of the directories doesn't exist or isn't empty, an exception will be raised.\n",
    "\n",
    "**NOTE:** In both Windows and Unix, there's a command called _rmdir_, which, just like the _rmdir_ function, removes directories. What's more, both systems have commands to delete a directory and its contents. In Unix, this is the _rm_ command with the _\\-r_ flag.\n"
   ],
   "metadata": {
    "collapsed": false
   }
  },
  {
   "cell_type": "code",
   "execution_count": 104,
   "outputs": [
    {
     "name": "stdout",
     "output_type": "stream",
     "text": [
      "['my_first_directory']\n",
      "[]\n"
     ]
    }
   ],
   "source": [
    "import os\n",
    "\n",
    "os.mkdir(\"my_first_directory\")\n",
    "print(os.listdir())\n",
    "os.rmdir(\"my_first_directory\")\n",
    "print(os.listdir())\n"
   ],
   "metadata": {
    "collapsed": false,
    "ExecuteTime": {
     "end_time": "2023-06-30T16:00:14.366511492Z",
     "start_time": "2023-06-30T16:00:14.268216934Z"
    }
   }
  },
  {
   "cell_type": "code",
   "execution_count": 109,
   "outputs": [
    {
     "name": "stdout",
     "output_type": "stream",
     "text": [
      "/home/win/src/PCAP-31/module_4\n",
      "/home/win/src/PCAP-31/module_4\n"
     ]
    }
   ],
   "source": [
    "print(os.getcwd())\n",
    "os.chdir(\"/home/win/src/PCAP-31/module_4/\")\n",
    "print(os.getcwd())"
   ],
   "metadata": {
    "collapsed": false,
    "ExecuteTime": {
     "end_time": "2023-06-30T16:03:10.588040629Z",
     "start_time": "2023-06-30T16:03:10.560668546Z"
    }
   }
  },
  {
   "cell_type": "code",
   "execution_count": 113,
   "outputs": [
    {
     "name": "stdout",
     "output_type": "stream",
     "text": [
      "['image.png', 'copy_newtext.txt', 'example.txt', 'file.bin', 'newtext.txt', 'course_notes.ipynb', 'example.txt.hist', 'students.txt', 'example_3.txt', 'samplefile.txt', 'empty.txt', 'newtext_v2.txt']\n"
     ]
    }
   ],
   "source": [
    "import os\n",
    "\n",
    "os.makedirs(\"my_first_directory/my_second_directory\")\n",
    "os.removedirs(\"my_first_directory/my_second_directory\")\n",
    "print(os.listdir())\n",
    "\n"
   ],
   "metadata": {
    "collapsed": false,
    "ExecuteTime": {
     "end_time": "2023-06-30T16:04:22.736505610Z",
     "start_time": "2023-06-30T16:04:22.710144448Z"
    }
   }
  },
  {
   "cell_type": "markdown",
   "source": [
    "### The system() function\n",
    "\n",
    "All functions presented in this part of the course can be replaced by a function called _system_, which executes a command passed to it as a string.\n",
    "\n",
    "The `system` function is available in both Windows and Unix. Depending on the system, it returns a different result.\n",
    "\n",
    "In Windows, it returns the value returned by the shell after running the command given, while in Unix, it returns the exit status of the process.\n",
    "\n",
    "Let's look at the code in the editor and see how it is in practice.\n",
    "\n",
    "Result:\n",
    "\n",
    "`0`\n",
    "\n",
    "**output**\n",
    "\n",
    "The above example will work in both Windows and Unix. In our case, we receive exit status 0, which indicates success on Unix systems.\n",
    "\n",
    "This means that the _my\\_first\\_directory_ directory has been created. As part of the exercise, try to list the contents of the directory where you created the _my\\_first\\_directory_ directory.\n"
   ],
   "metadata": {
    "collapsed": false
   }
  },
  {
   "cell_type": "code",
   "execution_count": 114,
   "outputs": [
    {
     "name": "stdout",
     "output_type": "stream",
     "text": [
      "0\n"
     ]
    }
   ],
   "source": [
    "import os\n",
    "\n",
    "returned_value = os.system(\"mkdir my_first_directory\")\n",
    "print(returned_value)\n"
   ],
   "metadata": {
    "collapsed": false,
    "ExecuteTime": {
     "end_time": "2023-06-30T16:05:17.189296593Z",
     "start_time": "2023-06-30T16:05:17.091179122Z"
    }
   }
  },
  {
   "cell_type": "code",
   "execution_count": 116,
   "outputs": [
    {
     "name": "stdout",
     "output_type": "stream",
     "text": [
      "total 744K\n",
      "-rw-rw-r-- 1 win win   81 Jun 25 15:52 copy_newtext.txt\n",
      "-rw-rw-r-- 1 win win 209K Jun 30 18:47 course_notes.ipynb\n",
      "-rw-rw-r-- 1 win win    0 Jun 30 14:21 empty.txt\n",
      "-rw-rw-r-- 1 win win   12 Jun  4 21:10 example_3.txt\n",
      "-rw-rw-r-- 1 win win 4.0K Jun  4 20:08 example.txt\n",
      "-rw-rw-r-- 1 win win  194 Jun 25 21:43 example.txt.hist\n",
      "-rw-rw-r-- 1 win win   10 Jun 25 15:42 file.bin\n",
      "-rw-rw-r-- 1 win win 491K Jun 25 20:43 image.png\n",
      "drwxrwxr-x 2 win win 4.0K Jun 30 18:05 my_first_directory\n",
      "-rw-rw-r-- 1 win win   81 Jun 25 15:19 newtext.txt\n",
      "-rw-rw-r-- 1 win win   99 Jun 25 15:30 newtext_v2.txt\n",
      "-rw-rw-r-- 1 win win    7 Jun 25 21:23 samplefile.txt\n",
      "-rw-rw-r-- 1 win win   71 Jun 30 13:54 students.txt\n"
     ]
    },
    {
     "data": {
      "text/plain": "0"
     },
     "execution_count": 116,
     "metadata": {},
     "output_type": "execute_result"
    }
   ],
   "source": [
    "os.system(\"ls -lh\")"
   ],
   "metadata": {
    "collapsed": false,
    "ExecuteTime": {
     "end_time": "2023-06-30T16:47:54.448369890Z",
     "start_time": "2023-06-30T16:47:54.419685471Z"
    }
   }
  },
  {
   "cell_type": "markdown",
   "source": [
    "### LAB\n",
    "#### The os module\n",
    "\n",
    "**Estimated time**\n",
    "\n",
    "15-30 min\n",
    "\n",
    "**Level of difficulty**\n",
    "\n",
    "Easy\n",
    "\n",
    "**Objectives**\n",
    "\n",
    "-   improving the student's skills in interacting with the operating system;\n",
    "-   practical use of known functions provided by the _os_ module.\n",
    "\n",
    "**Scenario**\n",
    "\n",
    "It goes without saying that operating systems allow you to search for files and directories. While studying this part of the course, you learned about the functions of the _os_ module, which have everything you need to write a program that will search for directories in a given location.\n",
    "\n",
    "To make your task easier, we have prepared a test directory structure for you:\n",
    "\n",
    "![Directory structure](https://edube.org/uploads/media/default/0001/02/be753bf656f7fc78964037c6f0ab149e2b89b7ef.png)\n",
    "\n",
    "Your program should meet the following requirements:\n",
    "\n",
    "1.  Write a function or method called _find_ that takes two arguments called _path_ and _dir_. The _path_ argument should accept a relative or absolute path to a directory where the search should start, while the _dir_ argument should be the name of a directory that you want to find in the given path. Your program should display the absolute paths if it finds a directory with the given name.\n",
    "2.  The directory search should be done recursively. This means that the search should also include all subdirectories in the given path.\n",
    "\n",
    "**Example input:**\n",
    "\n",
    "`path=\"./tree\", dir=\"python\"`\n",
    "\n",
    "**Example output:**\n",
    "\n",
    "`.../tree/python .../tree/cpp/other_courses/python .../tree/c/other_courses/python`\n"
   ],
   "metadata": {
    "collapsed": false
   }
  },
  {
   "cell_type": "code",
   "execution_count": 118,
   "outputs": [],
   "source": [
    "os.makedirs(\"tree/c/other_courses/cpp\")\n",
    "os.makedirs(\"tree/c/other_courses/python\")\n",
    "os.makedirs(\"tree/cpp/other_courses/c\")\n",
    "os.makedirs(\"tree/cpp/other_courses/python\")\n",
    "os.makedirs(\"tree/python/other_courses/c\")\n",
    "os.makedirs(\"tree/python/other_courses/cpp\")"
   ],
   "metadata": {
    "collapsed": false,
    "ExecuteTime": {
     "end_time": "2023-06-30T16:54:24.001269370Z",
     "start_time": "2023-06-30T16:54:23.971325018Z"
    }
   }
  },
  {
   "cell_type": "code",
   "execution_count": 122,
   "outputs": [],
   "source": [
    "def find(path, dir):\n",
    "    os.system(f\"find {path} -name '{dir}'\")"
   ],
   "metadata": {
    "collapsed": false,
    "ExecuteTime": {
     "end_time": "2023-06-30T16:57:52.660741422Z",
     "start_time": "2023-06-30T16:57:52.631861049Z"
    }
   }
  },
  {
   "cell_type": "code",
   "execution_count": 125,
   "outputs": [
    {
     "name": "stdout",
     "output_type": "stream",
     "text": [
      "./tree/c/other_courses/python\n",
      "./tree/cpp/other_courses/python\n",
      "./tree/python\n"
     ]
    }
   ],
   "source": [
    "path = \"./tree\"\n",
    "dir = \"python\"\n",
    "find(path, dir)"
   ],
   "metadata": {
    "collapsed": false,
    "ExecuteTime": {
     "end_time": "2023-06-30T16:58:49.214270731Z",
     "start_time": "2023-06-30T16:58:49.185943447Z"
    }
   }
  },
  {
   "cell_type": "markdown",
   "source": [
    "### Key takeaways\n",
    "\n",
    "1\\. The `uname` function returns an object that contains information about the current operating system. The object has the following attributes:\n",
    "\n",
    "-   _systemname_ (stores the name of the operating system)\n",
    "-   _nodename_ (stores the machine name on the network)\n",
    "-   _release_ (stores the operating system release)\n",
    "-   _version_ (stores the operating system version)\n",
    "-   _machine_ (stores the hardware identifier, e.g. x86\\_64.)\n",
    "\n",
    "2\\. The _name_ attribute available in the `os` module allows you to distinguish the operating system. It returns one of the following three values:\n",
    "\n",
    "-   _posix_ (you'll get this name if you use Unix)\n",
    "-   _nt_ (you'll get this name if you use Windows)\n",
    "-   _java_ (you'll get this name if your code is written in something like Jython)\n",
    "\n",
    "3\\. The `mkdir` function creates a directory in the path passed as its argument. The path can be either relative or absolute, e.g:\n",
    "\n",
    "`import os`\n",
    "\n",
    "`os.mkdir(\"hello\") # the relative path`\n",
    "\n",
    "`os.mkdir(\"/home/python/hello\") # the absolute path`\n",
    "\n",
    "**Note**: If the directory exists, a `FileExistsError` exception will be thrown. In addition to the `mkdir` function, the `os` module provides the `makedirs` function, which allows you to recursively create all directories in a path.\n",
    "\n",
    "4\\. The result of the `listdir()` function is a list containing the names of the files and directories that are in the path passed as its argument.\n",
    "\n",
    "It's important to remember that the `listdir` function omits the entries '.' and '..', which are displayed, for example, when using the `ls -a` command on Unix systems. If the path isn't passed, the result will be returned for the current working directory.\n",
    "\n",
    "5\\. To move between directories, you can use a function called `chdir()`, which changes the current working directory to the specified path. As its argument, it takes any relative or absolute path.\n",
    "\n",
    "If you want to find out what the current working directory is, you can use the `getcwd()` function, which returns the path to it.\n",
    "\n",
    "6\\. To remove a directory, you can use the `rmdir()` function, but to remove a directory and its subdirectories, use the `removedirs()` function.\n",
    "\n",
    "7\\. On both Unix and Windows, you can use the system function, which executes a command passed to it as a string, e.g.:\n",
    "\n",
    "`import os`\n",
    "\n",
    "`returned_value = os.system(\"mkdir hello\")`\n",
    "\n",
    "The system function on Windows returns the value returned by shell after running the command given, while on Unix it returns the exit status of the process."
   ],
   "metadata": {
    "collapsed": false
   }
  },
  {
   "cell_type": "markdown",
   "source": [
    "**Exercise 1**\n",
    "\n",
    "What is the output of the following snippet if you run it on Unix?\n",
    "\n",
    "`import os print(os.name)`"
   ],
   "metadata": {
    "collapsed": false
   }
  },
  {
   "cell_type": "code",
   "execution_count": 128,
   "outputs": [],
   "source": [
    "import os\n",
    "#print(os.name)"
   ],
   "metadata": {
    "collapsed": false,
    "ExecuteTime": {
     "end_time": "2023-06-30T17:00:32.707179455Z",
     "start_time": "2023-06-30T17:00:32.600119670Z"
    }
   }
  },
  {
   "cell_type": "markdown",
   "source": [
    "**Exercise 2**\n",
    "\n",
    "What is the output of the following snippet?\n",
    "\n",
    "`import os os.mkdir(\"hello\") print(os.listdir())`"
   ],
   "metadata": {
    "collapsed": false
   }
  },
  {
   "cell_type": "code",
   "execution_count": 129,
   "outputs": [],
   "source": [
    "import os\n",
    "#os.mkdir(\"hello\")\n",
    "#print(os.listdir())"
   ],
   "metadata": {
    "collapsed": false,
    "ExecuteTime": {
     "end_time": "2023-06-30T17:00:58.867948597Z",
     "start_time": "2023-06-30T17:00:58.753194481Z"
    }
   }
  },
  {
   "cell_type": "markdown",
   "source": [
    "## Introduction to the datetime module\n",
    "\n",
    "In this section, you'll learn about a Python module called _datetime_.\n",
    "\n",
    "As you can guess, it provides **classes for working with date and time**. If you think you don't need to delve into this topic, let's talk about examples of using date and time in programming.\n",
    "\n",
    "Date and time have countless uses and it's probably hard to find a production application that doesn't use them. Here are some examples:\n",
    "\n",
    "-   **event logging** — thanks to the knowledge of date and time, we are able to determine when exactly a critical error occurs in our application. When creating logs, you can specify the date and time format;\n",
    "-   **tracking changes in the database** — sometimes it's necessary to store information about when a record was created or modified. The _datetime_ module will be perfect for this case;\n",
    "-   **data validation** — you'll soon learn how to read the current date and time in Python. Knowing the current date and time, we're able to validate various types of data, e.g., whether a discount coupon entered by a user in our application is still valid;\n",
    "-   **storing important information** — can you imagine bank transfers without storing the information of when they were made? The date and time of certain actions must be preserved, and we must deal with it.\n",
    "\n",
    "\n",
    "\n",
    "![A snake and an hourglass](https://edube.org/uploads/media/default/0001/02/9d991359070d226d0ae497f442ee1b4511b2a435.png)\n",
    "\n",
    "Date and time are used in almost every area of our lives, so it's important to familiarize yourself with the Python _datetime_ module. Are you ready for a new dose of knowledge?"
   ],
   "metadata": {
    "collapsed": false
   }
  },
  {
   "cell_type": "markdown",
   "source": [
    "### Getting the current local date and creating date objects\n",
    "\n",
    "One of the classes provided by the `datetime` module is a class called `date`. Objects of this class represent a date consisting of the year, month, and day. Look at the code in the editor to see what it looks like in practice and get the current local date using the `today` method.\n",
    "\n",
    "Run the code to see what happens.\n",
    "\n",
    "The `today` method returns a `date` object representing the current local date. Note that the `date` object has three attributes: _year_, _month_, and _day_.\n",
    "\n",
    "Be careful, because these attributes are read-only. To create a `date` object, you must pass the _year_, _month_, and _day_ parameters as follows:\n",
    "\n",
    "`from datetime import date`\n",
    "\n",
    "`my_date = date(2019, 11, 4)`\n",
    "\n",
    "`print(my_date)`\n",
    "\n",
    "Run the example to see what happens.\n",
    "\n",
    "When creating a _date_ object, keep the following restrictions in mind:\n",
    "\n",
    "| Parameter | Restrictions |\n",
    "| --- | --- |\n",
    "| `year` |The _year_ parameter must be greater than or equal to 1 (MINYEAR constant) and less than or equal to 9999 (MAXYEAR constant).|\n",
    "| `month` |The _month_ parameter must be greater than or equal to 1 and less than or equal to 12.|\n",
    "| `day` |The _day_ parameter must be greater than or equal to 1 and less than or equal to the last day of the given month and year.|\n",
    "\n",
    "**Note:** Later in this course you'll learn how to change the default date format.\n"
   ],
   "metadata": {
    "collapsed": false
   }
  },
  {
   "cell_type": "code",
   "execution_count": 132,
   "outputs": [
    {
     "name": "stdout",
     "output_type": "stream",
     "text": [
      "2019-11-04\n"
     ]
    }
   ],
   "source": [
    "from datetime import date\n",
    "\n",
    "my_date = date(2019, 11, 4)\n",
    "print(my_date)\n",
    "\n"
   ],
   "metadata": {
    "collapsed": false,
    "ExecuteTime": {
     "end_time": "2023-06-30T17:05:30.745268357Z",
     "start_time": "2023-06-30T17:05:30.669178936Z"
    }
   }
  },
  {
   "cell_type": "code",
   "execution_count": 133,
   "outputs": [
    {
     "name": "stdout",
     "output_type": "stream",
     "text": [
      "Today: 2023-06-30\n",
      "Year: 2023\n",
      "Month: 6\n",
      "Day: 30\n"
     ]
    }
   ],
   "source": [
    "from datetime import date\n",
    "\n",
    "today = date.today()\n",
    "\n",
    "print(\"Today:\", today)\n",
    "print(\"Year:\", today.year)\n",
    "print(\"Month:\", today.month)\n",
    "print(\"Day:\", today.day)"
   ],
   "metadata": {
    "collapsed": false,
    "ExecuteTime": {
     "end_time": "2023-06-30T17:05:58.463856851Z",
     "start_time": "2023-06-30T17:05:58.357714648Z"
    }
   }
  },
  {
   "cell_type": "markdown",
   "source": [
    "### Creating a date object from a timestamp\n",
    "\n",
    "The `date` class gives us the ability to create a _date_ object from a _timestamp_.\n",
    "\n",
    "In Unix, the timestamp expresses the number of seconds since January 1, 1970, 00:00:00 (UTC). This date is called the **Unix epoch**, because this is when the counting of time began on Unix systems.\n",
    "\n",
    "The timestamp is actually the difference between a particular date (including time) and January 1, 1970, 00:00:00 (UTC), expressed in seconds.\n",
    "\n",
    "To create a date object from a timestamp, we must pass a Unix timestamp to the `fromtimestamp` method.\n",
    "\n",
    "For this purpose, we can use the `time` module, which provides time-related functions. One of them is a function called `time()` that returns the number of seconds from January 1, 1970 to the current moment in the form of a float number. Take a look at the example in the editor.\n",
    "\n",
    "Run the code to see the output.\n",
    "\n",
    "If you run the sample code several times, you'll be able to see how the timestamp increments itself. It's worth adding that the result of the `time` function depends on the platform, because **in Unix and Windows systems, leap seconds aren't counted**.\n",
    "\n",
    "**Note:** In this part of the course we'll also talk about the _time_ module."
   ],
   "metadata": {
    "collapsed": false
   }
  },
  {
   "cell_type": "code",
   "execution_count": 134,
   "outputs": [
    {
     "name": "stdout",
     "output_type": "stream",
     "text": [
      "Timestamp: 1688145458.666425\n",
      "Date: 2023-06-30\n"
     ]
    }
   ],
   "source": [
    "from datetime import date\n",
    "import time\n",
    "\n",
    "timestamp = time.time()\n",
    "print(\"Timestamp:\", timestamp)\n",
    "\n",
    "d = date.fromtimestamp(timestamp)\n",
    "print(\"Date:\", d)\n"
   ],
   "metadata": {
    "collapsed": false,
    "ExecuteTime": {
     "end_time": "2023-06-30T17:17:38.875999332Z",
     "start_time": "2023-06-30T17:17:38.746750674Z"
    }
   }
  },
  {
   "cell_type": "markdown",
   "source": [
    "### Creating a date object using the ISO format\n",
    "\n",
    "The `datetime` module provides several methods to create a `date` object. One of them is the `fromisoformat` method, which takes a date in the **YYYY-MM-DD** format compliant with the ISO 8601 standard.\n",
    "\n",
    "The ISO 8601 standard defines how the date and time are represented. It's often used, so it's worth taking a moment to familiarize yourself with it. Take a look at the picture describing the values required by the format:\n",
    "\n",
    "\n",
    "\n",
    "![The ISO 8601 date and time format](https://edube.org/uploads/media/default/0001/02/datetime.01.04.png)\n",
    "\n",
    "Now look at the code in the editor and run it.\n",
    "\n",
    "In our example, YYYY is 2019, MM is 11 (November), and DD is 04 (fourth day of November).\n",
    "\n",
    "When substituting the date, be sure to add 0 before a month or a day that is expressed by a number less than 10.\n",
    "\n",
    "**Note:** The `fromisoformat` method has been available in Python since version 3.7.\n"
   ],
   "metadata": {
    "collapsed": false
   }
  },
  {
   "cell_type": "code",
   "execution_count": 135,
   "outputs": [
    {
     "name": "stdout",
     "output_type": "stream",
     "text": [
      "2019-11-04\n"
     ]
    }
   ],
   "source": [
    "from datetime import date\n",
    "\n",
    "d = date.fromisoformat('2019-11-04')\n",
    "print(d)\n"
   ],
   "metadata": {
    "collapsed": false,
    "ExecuteTime": {
     "end_time": "2023-06-30T17:22:57.969168389Z",
     "start_time": "2023-06-30T17:22:57.882780732Z"
    }
   }
  },
  {
   "cell_type": "markdown",
   "source": [
    "### The replace() method\n",
    "\n",
    "Sometimes you may need to replace the year, month, or day with a different value. You can’t do this with the year, month, and day attributes because they're read-only. In this case, you can use the method named `replace`.\n",
    "\n",
    "Run the code in the editor.\n",
    "\n",
    "Result:\n",
    "\n",
    "`1991-02-05 1992-01-16`\n",
    "\n",
    "**output**\n",
    "\n",
    "The _year_, _month_, and _day_ parameters are optional. You can pass only one parameter to the `replace` method, e.g., _year_, or all three as in the example.\n",
    "\n",
    "The `replace` method returns a changed _date_ object, so you must remember to assign it to some variable.\n"
   ],
   "metadata": {
    "collapsed": false
   }
  },
  {
   "cell_type": "code",
   "execution_count": 137,
   "outputs": [
    {
     "name": "stdout",
     "output_type": "stream",
     "text": [
      "1991-02-05\n",
      "1992-01-16\n",
      "2099-01-16\n"
     ]
    }
   ],
   "source": [
    "from datetime import date\n",
    "\n",
    "d = date(1991, 2, 5)\n",
    "print(d)\n",
    "\n",
    "d = d.replace(year=1992, month=1, day=16)\n",
    "print(d)\n",
    "\n",
    "d = d.replace(year=2099)\n",
    "print(d)"
   ],
   "metadata": {
    "collapsed": false,
    "ExecuteTime": {
     "end_time": "2023-06-30T17:25:09.529638279Z",
     "start_time": "2023-06-30T17:25:09.498617696Z"
    }
   }
  },
  {
   "cell_type": "markdown",
   "source": [
    "### What day of the week is it?\n",
    "\n",
    "One of the more helpful methods that makes working with dates easier is the method called `weekday`. It returns the day of the week as an integer, where 0 is Monday and 6 is Sunday. Run the code in the editor.\n",
    "\n",
    "Result:\n",
    "\n",
    "`0`\n",
    "\n",
    "**output**\n",
    "\n",
    "\n",
    "\n",
    "![A man and the calendar - what day is today?](https://edube.org/uploads/media/default/0001/02/5f445d2e3aead8fd461418e896da9973e5feb594.png)\n",
    "\n",
    "The `date` class has a similar method called `isoweekday`, which also returns the day of the week as an integer, but 1 is Monday, and 7 is Sunday:\n",
    "\n",
    "`from datetime import date`\n",
    "\n",
    "`d = date(2019, 11, 4)`\n",
    "\n",
    "`print(d.isoweekday())`\n",
    "\n",
    "Result:\n",
    "\n",
    "`1`\n",
    "\n",
    "**output**\n",
    "\n",
    "As you can see, for the same date we get a different integer, but expressing the same day of the week. The integer returned by the `isodayweek` method follows the ISO 85601 specification."
   ],
   "metadata": {
    "collapsed": false
   }
  },
  {
   "cell_type": "code",
   "execution_count": 139,
   "outputs": [
    {
     "name": "stdout",
     "output_type": "stream",
     "text": [
      "4\n"
     ]
    }
   ],
   "source": [
    "from datetime import date\n",
    "\n",
    "\n",
    "d = date(2023, 6, 30)\n",
    "print(d.weekday())\n"
   ],
   "metadata": {
    "collapsed": false,
    "ExecuteTime": {
     "end_time": "2023-06-30T17:26:25.322146724Z",
     "start_time": "2023-06-30T17:26:25.292643301Z"
    }
   }
  },
  {
   "cell_type": "code",
   "execution_count": 141,
   "outputs": [
    {
     "name": "stdout",
     "output_type": "stream",
     "text": [
      "Friday\n",
      "Fri\n",
      "5\n"
     ]
    }
   ],
   "source": [
    "print(d.strftime(\"%A\"))\n",
    "print(d.strftime(\"%a\"))\n",
    "print(d.strftime(\"%w\"))"
   ],
   "metadata": {
    "collapsed": false,
    "ExecuteTime": {
     "end_time": "2023-06-30T17:46:52.714939811Z",
     "start_time": "2023-06-30T17:46:52.679924986Z"
    }
   }
  },
  {
   "cell_type": "code",
   "execution_count": 143,
   "outputs": [
    {
     "name": "stdout",
     "output_type": "stream",
     "text": [
      "5\n"
     ]
    }
   ],
   "source": [
    "from datetime import date\n",
    "\n",
    "d = date(2023, 6, 30)\n",
    "print(d.isoweekday())"
   ],
   "metadata": {
    "collapsed": false,
    "ExecuteTime": {
     "end_time": "2023-06-30T17:47:40.774328735Z",
     "start_time": "2023-06-30T17:47:40.634056505Z"
    }
   }
  },
  {
   "cell_type": "markdown",
   "source": [
    "### Creating time objects\n",
    "\n",
    "You already know how to present a date using the `date` object. The `datetime` module also has a class that allows you to present time. Can you guess its name? Yes, it's called `time`:\n",
    "\n",
    "`time(hour, minute, second, microsecond, _tzinfo, fold_)`\n",
    "\n",
    "The `time` class constructor accepts the following optional parameters:\n",
    "\n",
    "| Parameter | Restrictions |\n",
    "| --- | --- |\n",
    "| `hour` | The _hour_ parameter must be greater than or equal to 0 and less than 23.|\n",
    "| `minute` | The _minute_ parameter must be greater than or equal to 0 and less than 59.|\n",
    "| `second` | The _second_ parameter must be greater than or equal to 0 and less than 59.|\n",
    "| `microsecond` | The _microsecond_ parameter must be greater than or equal to 0 and less than 1000000.|\n",
    "| `tzinfo` | The _tzinfo_ parameter must be a `tzinfo` subclass object or `None` (default).|\n",
    "| `fold` | The _fold_ parameter must be 0 or 1 (default 0).|\n",
    "\n",
    "The _tzinfo_ parameter is associated with time zones, while _fold_ with wall times. We won't use them during this course, but we encourage you to familiarize yourself with them.\n",
    "\n",
    "Let's look at how to create a time object in practice. Run the code in the editor.\n",
    "\n",
    "Result:\n",
    "\n",
    "`Time: 14:53:20.000001 Hour: 14 Minute: 53 Second: 20 Microsecond: 1`\n",
    "\n",
    "**output**\n",
    "\n",
    "In the example, we passed four parameters to the class constructor: _hour_, _minute_, _second_, and _microsecond_. Each of them can be accessed using the class attributes.\n",
    "\n",
    "**Note:** Soon we'll tell you how you can change the default time formatting.\n"
   ],
   "metadata": {
    "collapsed": false
   }
  },
  {
   "cell_type": "code",
   "execution_count": 149,
   "outputs": [
    {
     "name": "stdout",
     "output_type": "stream",
     "text": [
      "Time: 14:53:20.000001\n",
      "Hour: 14\n",
      "Minute: 53\n",
      "Second: 20\n",
      "Microsecond: 1\n"
     ]
    }
   ],
   "source": [
    "from datetime import time\n",
    "\n",
    "t = time(14, 53, 20, 1)\n",
    "\n",
    "print(\"Time:\", t)\n",
    "print(\"Hour:\", t.hour)\n",
    "print(\"Minute:\", t.minute)\n",
    "print(\"Second:\", t.second)\n",
    "print(\"Microsecond:\", t.microsecond)\n"
   ],
   "metadata": {
    "collapsed": false,
    "ExecuteTime": {
     "end_time": "2023-06-30T17:55:40.222425713Z",
     "start_time": "2023-06-30T17:55:40.186756083Z"
    }
   }
  },
  {
   "cell_type": "markdown",
   "source": [
    "### The time module\n",
    "\n",
    "In addition to the `time` class, the Python standard library offers a module called `time`, which provides a time-related function. You already had the opportunity to learn the function called `time` when discussing the `date` class. Now we'll look at another useful function available in this module.\n",
    "\n",
    "You must spend many hours in front of a computer while doing this course. Sometimes you may feel the need to take a nap. Why not? Let's write a program that simulates a student's short nap. Have a look at the code in the editor.\n",
    "\n",
    "Result:\n",
    "\n",
    "`I'm very tired. I have to take a nap. See you later. I slept well! I feel great!`\n",
    "\n",
    "**output**\n",
    "\n",
    "The most important part of the sample code is the use of the `sleep` function (yes, you may remember it from one of the previous labs earlier in the course), which suspends program execution for the given number of seconds.\n",
    "\n",
    "In our example it's 5 seconds. You're right, it's a very short nap.\n",
    "\n",
    "Extend the student's sleep by changing the number of seconds. Note that the `sleep` function accepts only an integer or a floating point number.\n"
   ],
   "metadata": {
    "collapsed": false
   }
  },
  {
   "cell_type": "code",
   "execution_count": 150,
   "outputs": [
    {
     "name": "stdout",
     "output_type": "stream",
     "text": [
      "I'm very tired. I have to take a nap. See you later.\n",
      "I slept well! I feel great!\n"
     ]
    }
   ],
   "source": [
    "import time\n",
    "\n",
    "class Student:\n",
    "    def take_nap(self, seconds):\n",
    "        print(\"I'm very tired. I have to take a nap. See you later.\")\n",
    "        time.sleep(seconds)\n",
    "        print(\"I slept well! I feel great!\")\n",
    "\n",
    "student = Student()\n",
    "student.take_nap(5)\n"
   ],
   "metadata": {
    "collapsed": false,
    "ExecuteTime": {
     "end_time": "2023-06-30T17:56:42.476231242Z",
     "start_time": "2023-06-30T17:56:37.530282426Z"
    }
   }
  },
  {
   "cell_type": "markdown",
   "source": [
    "### The ctime() function\n",
    "\n",
    "The `time` module provides a function called `ctime`, which **converts the time in seconds since January 1, 1970 (Unix epoch) to a string**.\n",
    "\n",
    "Do you remember the result of the `time` function? That's what you need to pass to `ctime`. Take a look at the example in the editor.\n",
    "\n",
    "Result:\n",
    "\n",
    "`Mon Nov 4 14:53:00 2019`\n",
    "\n",
    "**output**\n",
    "\n",
    "The `ctime` function returns a string for the passed timestamp. In our example, the timestamp expresses November 4, 2019 at 14:53:00.\n",
    "\n",
    "It's also possible to call the `ctime` function without specifying the time in seconds. In this case, the current time will be returned:\n",
    "\n",
    "`import time`\n",
    "\n",
    "`print(time.ctime())`\n"
   ],
   "metadata": {
    "collapsed": false
   }
  },
  {
   "cell_type": "code",
   "execution_count": 151,
   "outputs": [
    {
     "name": "stdout",
     "output_type": "stream",
     "text": [
      "Mon Nov  4 15:53:00 2019\n"
     ]
    }
   ],
   "source": [
    "import time\n",
    "\n",
    "timestamp = 1572879180\n",
    "print(time.ctime(timestamp))\n"
   ],
   "metadata": {
    "collapsed": false,
    "ExecuteTime": {
     "end_time": "2023-06-30T17:57:46.239362301Z",
     "start_time": "2023-06-30T17:57:46.114920312Z"
    }
   }
  },
  {
   "cell_type": "code",
   "execution_count": 152,
   "outputs": [
    {
     "name": "stdout",
     "output_type": "stream",
     "text": [
      "Fri Jun 30 19:57:50 2023\n"
     ]
    }
   ],
   "source": [
    "import time\n",
    "print(time.ctime())\n",
    "\n"
   ],
   "metadata": {
    "collapsed": false,
    "ExecuteTime": {
     "end_time": "2023-06-30T17:57:51.174451720Z",
     "start_time": "2023-06-30T17:57:51.058959178Z"
    }
   }
  },
  {
   "cell_type": "markdown",
   "source": [
    "### The gmtime() and localtime() functions\n",
    "\n",
    "Some of the functions available in the `time` module require knowledge of the _struct\\_time_ class, but before we get to know them, let's see what the class looks like:\n",
    "\n",
    "`time.struct_time:`\n",
    "\n",
    "`tm_year # specifies the year`\n",
    "\n",
    "`tm_mon # specifies the month (value from 1 to 12)`\n",
    "\n",
    "`tm_mday # specifies the day of the month (value from 1 to 31)`\n",
    "\n",
    "`tm_hour # specifies the hour (value from 0 to 23)`\n",
    "\n",
    "`tm_min # specifies the minute (value from 0 to 59)`\n",
    "\n",
    "`tm_sec # specifies the second (value from 0 to 61 )`\n",
    "\n",
    "`tm_wday # specifies the weekday (value from 0 to 6)`\n",
    "\n",
    "`tm_yday # specifies the year day (value from 1 to 366)`\n",
    "\n",
    "`tm_isdst # specifies whether daylight saving time applies (1 – yes, 0 – no, -1 – it isn't known)`\n",
    "\n",
    "`tm_zone # specifies the timezone name (value in an abbreviated form)`\n",
    "\n",
    "`tm_gmtoff # specifies the offset east of UTC (value in seconds)`\n",
    "\n",
    "The _struct\\_time_ class also allows access to values using indexes. Index `0` returns the value in _tm\\_year_, while `8` returns the value in _tm\\_isdst_.\n",
    "\n",
    "The exceptions are _tm\\_zone_ and _tm\\_gmoff_, which cannot be accessed using indexes. Let's look at how to use the _struct\\_time_ class in practice. Run the code in the editor.\n",
    "\n",
    "Result:\n",
    "\n",
    "`time.struct_time(tm_year=2019, tm_mon=11, tm_mday=4, tm_hour=14, tm_min=53, tm_sec=0, tm_wday=0, tm_yday=308, tm_isdst=0) time.struct_time(tm_year=2019, tm_mon=11, tm_mday=4, tm_hour=14, tm_min=53, tm_sec=0, tm_wday=0, tm_yday=308, tm_isdst=0)`\n",
    "\n",
    "**output**\n",
    "\n",
    "The example shows two functions that convert the elapsed time from the Unix epoch to the _struct\\_time_ object. The difference between them is that the `gmtime` function returns the _struct\\_time_ object in UTC, while the `localtime` function returns local time. For the `gmtime` function, the _tm\\_isdst_ attribute is always 0.\n"
   ],
   "metadata": {
    "collapsed": false
   }
  },
  {
   "cell_type": "code",
   "execution_count": 155,
   "outputs": [
    {
     "name": "stdout",
     "output_type": "stream",
     "text": [
      "time.struct_time(tm_year=2019, tm_mon=11, tm_mday=4, tm_hour=14, tm_min=53, tm_sec=0, tm_wday=0, tm_yday=308, tm_isdst=0)\n",
      "time.struct_time(tm_year=2019, tm_mon=11, tm_mday=4, tm_hour=15, tm_min=53, tm_sec=0, tm_wday=0, tm_yday=308, tm_isdst=0)\n"
     ]
    }
   ],
   "source": [
    "import time\n",
    "\n",
    "timestamp = 1572879180\n",
    "print(time.gmtime(timestamp))\n",
    "print(time.localtime(timestamp))\n"
   ],
   "metadata": {
    "collapsed": false,
    "ExecuteTime": {
     "end_time": "2023-06-30T18:30:33.228169126Z",
     "start_time": "2023-06-30T18:30:33.097835232Z"
    }
   }
  },
  {
   "cell_type": "markdown",
   "source": [
    "### The asctime() and mktime() functions\n",
    "\n",
    "The `time` module has functions that expect a _struct\\_time_ object or a tuple that stores values according to the indexes presented when discussing the _struct\\_time_ class. Run the example in the editor.\n",
    "\n",
    "Result:\n",
    "\n",
    "`Mon Nov 4 14:53:00 2019 1572879180.0`\n",
    "\n",
    "**output**\n",
    "\n",
    "The first of the functions, called `asctime`, converts a _struct\\_time_ object or a tuple to a string. Note that the familiar `gmtime` function is used to get the _struct\\_time_ object. If you don't provide an argument to the `asctime` function, the time returned by the `localtime` function will be used.\n",
    "\n",
    "The second function called `mktime` converts a _struct\\_time_ object or a tuple that expresses the local time to the number of seconds since the Unix epoch. In our example, we passed a tuple to it, which consists of the following values:\n",
    "\n",
    "2019 => tm\\_year\n",
    "11 => tm\\_mon\n",
    "4 => tm\\_mday\n",
    "14 => tm\\_hour\n",
    "53 => tm\\_min\n",
    "0 => tm\\_sec\n",
    "0 => tm\\_wday\n",
    "308 => tm\\_yday\n",
    "0 => tm\\_isdst\n",
    "\n"
   ],
   "metadata": {
    "collapsed": false
   }
  },
  {
   "cell_type": "code",
   "execution_count": 157,
   "outputs": [
    {
     "name": "stdout",
     "output_type": "stream",
     "text": [
      "Mon Nov  4 14:53:00 2019\n",
      "1572875580.0\n"
     ]
    }
   ],
   "source": [
    "import time\n",
    "\n",
    "timestamp = 1572879180\n",
    "st = time.gmtime(timestamp)\n",
    "\n",
    "print(time.asctime(st))\n",
    "print(time.mktime((2019, 11, 4, 14, 53, 0, 0, 308, 0)))\n"
   ],
   "metadata": {
    "collapsed": false,
    "ExecuteTime": {
     "end_time": "2023-06-30T18:33:01.804100598Z",
     "start_time": "2023-06-30T18:33:01.666132752Z"
    }
   }
  },
  {
   "cell_type": "markdown",
   "source": [
    "## Creating datetime objects\n",
    "\n",
    "In the `datetime` module, date and time can be represented as separate objects or as one. The class that combines date and time is called `datetime`.\n",
    "\n",
    "`datetime(year, month, day, hour, minute, second, microsecond, _tzinfo, fold_)`\n",
    "\n",
    "Its constructor accepts the following parameters:\n",
    "\n",
    "| Parameter | Restrictions |\n",
    "| --- | --- |\n",
    "| `year` |The _year_ parameter must be greater than or equal to 1 (MINYEAR constant) and less than or equal to 9999 (MAXYEAR constant).|\n",
    "| `month` | The _month_ parameter must be greater than or equal to 1 and less than or equal to 12.|\n",
    "| `day` |The _day_ parameter must be greater than or equal to 1 and less than or equal to the last day of the given month and year.|\n",
    "| `hour` |The _hour_ parameter must be greater than or equal to 0 and less than 23.|\n",
    "| `minute` |The _minute_ parameter must be greater than or equal to 0 and less than 59.|\n",
    "| `second` |The _second_ parameter must be greater than or equal to 0 and less than 59.|\n",
    "| `microsecond` |The _microsecond_ parameter must be greater than or equal to 0 and less than 1000000.|\n",
    "| `tzinfo` |The _tzinfo_ parameter must be a `tzinfo` subclass object or `None` (default).|\n",
    "| `fold` |The _fold_ parameter must be 0 or 1 (default 0).|\n",
    "\n",
    "Now let's have a look at the code in the editor to see how we create a datetime object.\n",
    "\n",
    "Result:\n",
    "\n",
    "`Datetime: 2019-11-04 14:53:00 Date: 2019-11-04 Time: 14:53:00`\n",
    "\n",
    "**output**\n",
    "\n",
    "The example creates a `datetime` object representing November 4, 2019 at 14:53:00. All parameters passed to the constructor go to read-only class attributes. They're _year_, _month_, _day_, _hour_, _minute_, _second_, _microsecond_, _tzinfo_, and _fold_.\n",
    "\n",
    "The example shows two methods that return two different objects. The method called `date` returns the _date_ object with the given year, month, and day, while the method called `time` returns the _time_ object with the given hour and minute.\n"
   ],
   "metadata": {
    "collapsed": false
   }
  },
  {
   "cell_type": "code",
   "execution_count": 158,
   "outputs": [
    {
     "name": "stdout",
     "output_type": "stream",
     "text": [
      "Datetime: 2019-11-04 14:53:00\n",
      "Date: 2019-11-04\n",
      "Time: 14:53:00\n"
     ]
    }
   ],
   "source": [
    "from datetime import datetime\n",
    "\n",
    "dt = datetime(2019, 11, 4, 14, 53)\n",
    "\n",
    "print(\"Datetime:\", dt)\n",
    "print(\"Date:\", dt.date())\n",
    "print(\"Time:\", dt.time())\n"
   ],
   "metadata": {
    "collapsed": false,
    "ExecuteTime": {
     "end_time": "2023-06-30T18:35:49.090392015Z",
     "start_time": "2023-06-30T18:35:48.932082059Z"
    }
   }
  },
  {
   "cell_type": "markdown",
   "source": [
    "### Methods that return the current date and time\n",
    "\n",
    "The `datetime` class has several methods that return the current date and time. These methods are:\n",
    "\n",
    "-   `today()` — returns the current local date and time with the _tzinfo_ attribute set to _None_;\n",
    "-   `now()` — returns the current local date and time the same as the _today_ method, unless we pass the optional argument _tz_ to it. The argument of this method must be an object of the _tzinfo_ subclass;\n",
    "-   `utcnow()` — returns the current UTC date and time with the _tzinfo_ attribute set to _None_.\n",
    "\n",
    "Run the code in the editor to see them all in practice. What can you say about the output?\n",
    "\n",
    "As you can see, the result of all the three methods is the same. The small differences are caused by the time elapsed between subsequent calls.\n",
    "\n",
    "**Note:** You can read more about _tzinfo_ objects in the documentation.\n"
   ],
   "metadata": {
    "collapsed": false
   }
  },
  {
   "cell_type": "code",
   "execution_count": 159,
   "outputs": [
    {
     "name": "stdout",
     "output_type": "stream",
     "text": [
      "today: 2023-06-30 20:36:50.000795\n",
      "now: 2023-06-30 20:36:50.000838\n",
      "utcnow: 2023-06-30 18:36:50.000869\n"
     ]
    }
   ],
   "source": [
    "from datetime import datetime\n",
    "\n",
    "print(\"today:\", datetime.today())\n",
    "print(\"now:\", datetime.now())\n",
    "print(\"utcnow:\", datetime.utcnow())\n"
   ],
   "metadata": {
    "collapsed": false,
    "ExecuteTime": {
     "end_time": "2023-06-30T18:36:50.212092385Z",
     "start_time": "2023-06-30T18:36:50.072925630Z"
    }
   }
  },
  {
   "cell_type": "markdown",
   "source": [
    "### Getting a timestamp\n",
    "\n",
    "There are many converters available on the Internet that can calculate a timestamp based on a given date and time, but how can we do it in the `datetime` module?\n",
    "\n",
    "This is possible thanks to the `timestamp` method provided by the `datetime` class. Look at the code in the editor.\n",
    "\n",
    "Result:\n",
    "\n",
    "`Timestamp: 1601823300.0`\n",
    "\n",
    "**output**\n",
    "\n",
    "The `timestamp` method returns a float value expressing the number of seconds elapsed between the date and time indicated by the _datetime_ object and January 1, 1970, 00:00:00 (UTC).\n"
   ],
   "metadata": {
    "collapsed": false
   }
  },
  {
   "cell_type": "code",
   "execution_count": 161,
   "outputs": [
    {
     "name": "stdout",
     "output_type": "stream",
     "text": [
      "Timestamp: 1601816100.0\n"
     ]
    }
   ],
   "source": [
    "from datetime import datetime\n",
    "\n",
    "dt = datetime(2020, 10, 4, 14, 55)\n",
    "print(\"Timestamp:\", dt.timestamp())\n"
   ],
   "metadata": {
    "collapsed": false,
    "ExecuteTime": {
     "end_time": "2023-06-30T18:37:51.236279193Z",
     "start_time": "2023-06-30T18:37:51.117449617Z"
    }
   }
  },
  {
   "cell_type": "markdown",
   "source": [
    "Include front/back template\n",
    "Edube Interactive  4.5.1.15 The datetime and time modules (continued)\n",
    "## Date and time formatting (part 1)\n",
    "​\n",
    "All `datetime` module classes presented so far have a method called `strftime`. This is a very important method, because it allows us to return the date and time in the format we specify.\n",
    "​\n",
    "The `strftime` method takes only one argument in the form of a string specifying the format that can consist of directives.\n",
    "​\n",
    "A directive is a string consisting of the character `%` (percent) and a lowercase or uppercase letter, e.g., the directive `%Y` means the year with the century as a decimal number. Let's see it in an example. Run the code in the editor.\n",
    "​\n",
    "Result:\n",
    "​\n",
    "`2020/01/04`\n",
    "​\n",
    "**output**\n",
    "​\n",
    "In the example, we passed a format consisting of three directives separated by `/` (slash) to the `strftime` method. Of course, the separator character can be replaced by another character, or even by a string.\n",
    "​\n",
    "You can put any characters in the format, but only recognizable directives will be replaced with the appropriate values. In our format we've used the following directives:\n",
    "​\n",
    "-   `%Y` – returns the year with the century as a decimal number. In our example, this is 2020.\n",
    "-   `%m` – returns the month as a zero-padded decimal number. In our example, it's 01.\n",
    "-   `%d` – returns the day as a zero-padded decimal number. In our example, it's 04.\n",
    "​\n",
    "**Note:** You can find all available directives [here](https://docs.python.org/3/library/datetime.html#strftime-and-strptime-format-codes).\n",
    "​\n",
    "Download"
   ],
   "metadata": {
    "collapsed": false
   }
  },
  {
   "cell_type": "code",
   "execution_count": 164,
   "outputs": [
    {
     "name": "stdout",
     "output_type": "stream",
     "text": [
      "2020/01/04\n",
      "<class 'str'>\n"
     ]
    }
   ],
   "source": [
    "from datetime import date\n",
    "\n",
    "d = date(2020, 1, 4)\n",
    "print(d.strftime('%Y/%m/%d'))\n",
    "print(type(d.strftime('%Y/%m/%d')))\n",
    "\n"
   ],
   "metadata": {
    "collapsed": false,
    "ExecuteTime": {
     "end_time": "2023-06-30T18:39:34.361376501Z",
     "start_time": "2023-06-30T18:39:34.325090326Z"
    }
   }
  },
  {
   "cell_type": "code",
   "execution_count": 168,
   "outputs": [
    {
     "name": "stdout",
     "output_type": "stream",
     "text": [
      "Help on class date in module datetime:\n",
      "\n",
      "class date(builtins.object)\n",
      " |  date(year, month, day) --> date object\n",
      " |  \n",
      " |  Methods defined here:\n",
      " |  \n",
      " |  __add__(self, value, /)\n",
      " |      Return self+value.\n",
      " |  \n",
      " |  __eq__(self, value, /)\n",
      " |      Return self==value.\n",
      " |  \n",
      " |  __format__(...)\n",
      " |      Formats self with strftime.\n",
      " |  \n",
      " |  __ge__(self, value, /)\n",
      " |      Return self>=value.\n",
      " |  \n",
      " |  __getattribute__(self, name, /)\n",
      " |      Return getattr(self, name).\n",
      " |  \n",
      " |  __gt__(self, value, /)\n",
      " |      Return self>value.\n",
      " |  \n",
      " |  __hash__(self, /)\n",
      " |      Return hash(self).\n",
      " |  \n",
      " |  __le__(self, value, /)\n",
      " |      Return self<=value.\n",
      " |  \n",
      " |  __lt__(self, value, /)\n",
      " |      Return self<value.\n",
      " |  \n",
      " |  __ne__(self, value, /)\n",
      " |      Return self!=value.\n",
      " |  \n",
      " |  __radd__(self, value, /)\n",
      " |      Return value+self.\n",
      " |  \n",
      " |  __reduce__(...)\n",
      " |      __reduce__() -> (cls, state)\n",
      " |  \n",
      " |  __repr__(self, /)\n",
      " |      Return repr(self).\n",
      " |  \n",
      " |  __rsub__(self, value, /)\n",
      " |      Return value-self.\n",
      " |  \n",
      " |  __str__(self, /)\n",
      " |      Return str(self).\n",
      " |  \n",
      " |  __sub__(self, value, /)\n",
      " |      Return self-value.\n",
      " |  \n",
      " |  ctime(...)\n",
      " |      Return ctime() style string.\n",
      " |  \n",
      " |  isocalendar(...)\n",
      " |      Return a named tuple containing ISO year, week number, and weekday.\n",
      " |  \n",
      " |  isoformat(...)\n",
      " |      Return string in ISO 8601 format, YYYY-MM-DD.\n",
      " |  \n",
      " |  isoweekday(...)\n",
      " |      Return the day of the week represented by the date.\n",
      " |      Monday == 1 ... Sunday == 7\n",
      " |  \n",
      " |  replace(...)\n",
      " |      Return date with new specified fields.\n",
      " |  \n",
      " |  strftime(...)\n",
      " |      format -> strftime() style string.\n",
      " |  \n",
      " |  timetuple(...)\n",
      " |      Return time tuple, compatible with time.localtime().\n",
      " |  \n",
      " |  toordinal(...)\n",
      " |      Return proleptic Gregorian ordinal.  January 1 of year 1 is day 1.\n",
      " |  \n",
      " |  weekday(...)\n",
      " |      Return the day of the week represented by the date.\n",
      " |      Monday == 0 ... Sunday == 6\n",
      " |  \n",
      " |  ----------------------------------------------------------------------\n",
      " |  Class methods defined here:\n",
      " |  \n",
      " |  fromisocalendar(...) from builtins.type\n",
      " |      int, int, int -> Construct a date from the ISO year, week number and weekday.\n",
      " |      \n",
      " |      This is the inverse of the date.isocalendar() function\n",
      " |  \n",
      " |  fromisoformat(...) from builtins.type\n",
      " |      str -> Construct a date from the output of date.isoformat()\n",
      " |  \n",
      " |  fromordinal(...) from builtins.type\n",
      " |      int -> date corresponding to a proleptic Gregorian ordinal.\n",
      " |  \n",
      " |  fromtimestamp(timestamp, /) from builtins.type\n",
      " |      Create a date from a POSIX timestamp.\n",
      " |      \n",
      " |      The timestamp is a number, e.g. created via time.time(), that is interpreted\n",
      " |      as local time.\n",
      " |  \n",
      " |  today(...) from builtins.type\n",
      " |      Current date or datetime:  same as self.__class__.fromtimestamp(time.time()).\n",
      " |  \n",
      " |  ----------------------------------------------------------------------\n",
      " |  Static methods defined here:\n",
      " |  \n",
      " |  __new__(*args, **kwargs) from builtins.type\n",
      " |      Create and return a new object.  See help(type) for accurate signature.\n",
      " |  \n",
      " |  ----------------------------------------------------------------------\n",
      " |  Data descriptors defined here:\n",
      " |  \n",
      " |  day\n",
      " |  \n",
      " |  month\n",
      " |  \n",
      " |  year\n",
      " |  \n",
      " |  ----------------------------------------------------------------------\n",
      " |  Data and other attributes defined here:\n",
      " |  \n",
      " |  max = datetime.date(9999, 12, 31)\n",
      " |  \n",
      " |  min = datetime.date(1, 1, 1)\n",
      " |  \n",
      " |  resolution = datetime.timedelta(days=1)\n",
      "\n"
     ]
    }
   ],
   "source": [
    "help(date)"
   ],
   "metadata": {
    "collapsed": false,
    "ExecuteTime": {
     "end_time": "2023-06-30T18:41:05.471270482Z",
     "start_time": "2023-06-30T18:41:05.436528355Z"
    }
   }
  },
  {
   "cell_type": "markdown",
   "source": [
    "### Date and time formatting (part 2)\n",
    "\n",
    "Time formatting works in the same way as date formatting, but requires the use of appropriate directives. Let's take a closer look at a few of them in the editor.\n",
    "\n",
    "Result:\n",
    "\n",
    "`14:53:00 20/November/04 14:53:00`\n",
    "\n",
    "**output**\n",
    "\n",
    "The first of the formats used concerns only time. As you can guess, `%H` returns the hour as a zero-padded decimal number, `%M` returns the minute as a zero-padded decimal number, while `%S` returns the second as a zero-padded decimal number. In our example, `%H` is replaced by 14, `%M` by 53, and `%S` by 00.\n",
    "\n",
    "The second format used combines date and time directives. There are two new directives, `%Y` and `%B`. The directive `%Y` returns the year without a century as a zero-padded decimal number (in our example it's 20). The `%B` directive returns the month as the locale’s full name (in our example, it's November).\n",
    "\n",
    "In general, you've got a lot of freedom in creating formats, but you must remember to use the directives properly. As an exercise, you can check what happens if, for example, you try to use the `%Y` directive in the format passed to the time object's _strftime_ method. Try to find out why you got this result yourself. Good luck!\n"
   ],
   "metadata": {
    "collapsed": false
   }
  },
  {
   "cell_type": "code",
   "execution_count": 169,
   "outputs": [
    {
     "name": "stdout",
     "output_type": "stream",
     "text": [
      "14:53:00\n",
      "20/November/04 14:53:00\n"
     ]
    }
   ],
   "source": [
    "from datetime import time\n",
    "from datetime import datetime\n",
    "\n",
    "t = time(14, 53)\n",
    "print(t.strftime(\"%H:%M:%S\"))\n",
    "\n",
    "dt = datetime(2020, 11, 4, 14, 53)\n",
    "print(dt.strftime(\"%y/%B/%d %H:%M:%S\"))\n"
   ],
   "metadata": {
    "collapsed": false,
    "ExecuteTime": {
     "end_time": "2023-06-30T18:42:25.586353640Z",
     "start_time": "2023-06-30T18:42:25.437296811Z"
    }
   }
  },
  {
   "cell_type": "markdown",
   "source": [
    "### The strftime() function in the time module\n",
    "\n",
    "You probably won't be surprised to learn that the `strftime` function is available in the `time` module. It differs slightly from the `strftime` methods in the classes provided by the `datetime` module because, in addition to the format argument, it can also take (optionally) a tuple or struct\\_time object.\n",
    "\n",
    "If you don't pass a tuple or _struct\\_time_ object, the formatting will be done using the current local time. Take a look at the example in the editor.\n",
    "\n",
    "Our result looks as follows:\n",
    "\n",
    "`2019/11/04 14:53:00 2020/10/12 12:19:40`\n",
    "\n",
    "**sample output**\n",
    "\n",
    "Creating a format looks the same as for the `strftime` methods in the `datetime` module. In our example, we use the `%Y`, `%m`, `%d`, `%H`, `%M`, and `%S` directives that you already know.\n",
    "\n",
    "In the first function call, we format the _struct\\_time_ object, while in the second call (without the optional argument), we format the local time. You can find all available directives in the `time` module [here](https://docs.python.org/3/library/time.html#time.strftime).\n"
   ],
   "metadata": {
    "collapsed": false
   }
  },
  {
   "cell_type": "code",
   "execution_count": 171,
   "outputs": [
    {
     "name": "stdout",
     "output_type": "stream",
     "text": [
      "2019/11/04 14:53:00\n",
      "2023/06/30 20:44:58\n"
     ]
    }
   ],
   "source": [
    "import time\n",
    "\n",
    "timestamp = 1572879180\n",
    "st = time.gmtime(timestamp)\n",
    "\n",
    "print(time.strftime(\"%Y/%m/%d %H:%M:%S\", st))\n",
    "print(time.strftime(\"%Y/%m/%d %H:%M:%S\"))\n"
   ],
   "metadata": {
    "collapsed": false,
    "ExecuteTime": {
     "end_time": "2023-06-30T18:44:58.112684553Z",
     "start_time": "2023-06-30T18:44:58.017233102Z"
    }
   }
  },
  {
   "cell_type": "markdown",
   "source": [
    "### The strptime() method\n",
    "\n",
    "Knowing how to create a format can be helpful when using a method called `strptime` in the `datetime` class. Unlike the `strftime` method, it creates a `datetime` object from a string representing a date and time.\n",
    "\n",
    "The `strptime` method requires you to specify the format in which you saved the date and time. Let's see it in an example. Take a look at the code in the editor.\n",
    "\n",
    "Result:\n",
    "\n",
    "`2019-11-04 14:53:00`\n",
    "\n",
    "**output**\n",
    "\n",
    "In the example, we've specified two required arguments. The first is a date and time as a string: `\"2019/11/04 14:53:00\"`, while the second is a format that facilitates parsing to a `datetime` object. Be careful, because if the format you specify doesn't match the date and time in the string, it'll raise a _ValueError_.\n",
    "\n",
    "**Note:** In the `time` module, you can find a function called `strptime`, which parses a string representing a time to a _struct\\_time_ object. Its use is analogous to the `strptime` method in the `datetime` class:\n",
    "\n",
    "`import time`\n",
    "\n",
    "`print(time.strptime(\"2019/11/04 14:53:00\", \"%Y/%m/%d %H:%M:%S\"))`\n",
    "\n",
    "Its result will be as follows:\n",
    "\n",
    "`time.struct_time(tm_year=2019, tm_mon=11, tm_mday=4, tm_hour=14, tm_min=53, tm_sec=0, tm_wday=0, tm_yday=308, tm_isdst=-1)`\n",
    "\n",
    "**output**\n"
   ],
   "metadata": {
    "collapsed": false
   }
  },
  {
   "cell_type": "code",
   "execution_count": 177,
   "outputs": [
    {
     "name": "stdout",
     "output_type": "stream",
     "text": [
      "2019-11-04 14:53:00\n",
      "<class 'datetime.datetime'>\n"
     ]
    }
   ],
   "source": [
    "from datetime import datetime\n",
    "print(datetime.strptime(\"2019/11/04 14:53:00\", \"%Y/%m/%d %H:%M:%S\"))\n",
    "print(type(datetime.strptime(\"2019/11/04 14:53:00\", \"%Y/%m/%d %H:%M:%S\")))\n"
   ],
   "metadata": {
    "collapsed": false,
    "ExecuteTime": {
     "end_time": "2023-06-30T18:45:53.511055728Z",
     "start_time": "2023-06-30T18:45:53.452745941Z"
    }
   }
  },
  {
   "cell_type": "code",
   "execution_count": 178,
   "outputs": [
    {
     "name": "stdout",
     "output_type": "stream",
     "text": [
      "time.struct_time(tm_year=2019, tm_mon=11, tm_mday=4, tm_hour=14, tm_min=53, tm_sec=0, tm_wday=0, tm_yday=308, tm_isdst=-1)\n"
     ]
    }
   ],
   "source": [
    "import time\n",
    "print(time.strptime(\"2019/11/04 14:53:00\", \"%Y/%m/%d %H:%M:%S\"))\n"
   ],
   "metadata": {
    "collapsed": false,
    "ExecuteTime": {
     "end_time": "2023-06-30T18:47:03.174811575Z",
     "start_time": "2023-06-30T18:47:02.997490099Z"
    }
   }
  },
  {
   "cell_type": "markdown",
   "source": [
    "### Date and time operations\n",
    "\n",
    "Sooner or later you'll have to perform some calculations on the date and time. Fortunately, there's a class called `timedelta` in the `datetime` module that was created for just such a purpose.\n",
    "\n",
    "To create a `timedelta` object, just do subtraction on the `date` or `datetime` objects, just like we did in the example in the editor. Run it.\n",
    "\n",
    "Result:\n",
    "\n",
    "`366 days, 0:00:00 365 days, 9:07:00`\n",
    "\n",
    "**output**\n",
    "\n",
    "The example shows subtraction for both the `date` and `datetime` objects. In the first case, we receive the difference in days, which is 366 days. Note that the difference in hours, minutes, and seconds is also displayed. In the second case, we receive a different result, because we specified the time that was included in the calculations. As a result, we receive 365 days, 9 hours, and 7 minutes.\n",
    "\n",
    "In a moment you'll learn more about creating `timedelta` objects and about the operations you can do with them.\n"
   ],
   "metadata": {
    "collapsed": false
   }
  },
  {
   "cell_type": "code",
   "execution_count": 179,
   "outputs": [
    {
     "name": "stdout",
     "output_type": "stream",
     "text": [
      "366 days, 0:00:00\n",
      "365 days, 9:07:00\n"
     ]
    }
   ],
   "source": [
    "from datetime import date\n",
    "from datetime import datetime\n",
    "\n",
    "d1 = date(2020, 11, 4)\n",
    "d2 = date(2019, 11, 4)\n",
    "\n",
    "print(d1 - d2)\n",
    "\n",
    "dt1 = datetime(2020, 11, 4, 0, 0, 0)\n",
    "dt2 = datetime(2019, 11, 4, 14, 53, 0)\n",
    "\n",
    "print(dt1 - dt2)\n"
   ],
   "metadata": {
    "collapsed": false,
    "ExecuteTime": {
     "end_time": "2023-06-30T18:47:42.143678746Z",
     "start_time": "2023-06-30T18:47:42.013941067Z"
    }
   }
  },
  {
   "cell_type": "markdown",
   "source": [
    "### Creating timedelta objects\n",
    "\n",
    "You've already learned that a `timedelta` object can be returned as a result of subtracting two `date` or `datetime` objects.\n",
    "\n",
    "Of course, you can also create an object yourself. For this purpose, let's get acquainted with the arguments accepted by the class constructor, which are: `days`, `seconds`, `microseconds`, `milliseconds`, `minutes`, `hours`, and `weeks`. Each of them is optional and defaults to 0.\n",
    "\n",
    "The arguments should be integers or floating point numbers, and can be either positive or negative. Let's look at a simple example in the editor.\n",
    "\n",
    "Result:\n",
    "\n",
    "`16 days, 3:00:00`\n",
    "\n",
    "**output**\n",
    "\n",
    "The result of 16 days is obtained by converting the `weeks` argument to days (2 weeks = 14 days) and adding the `days` argument (2 days). This is normal behavior, because the `timedelta` object only stores days, seconds, and microseconds internally. Similarly, the `hour` argument is converted to minutes. Take a look at the example below:\n",
    "\n",
    "`from datetime import timedelta`\n",
    "\n",
    "`delta = timedelta(weeks=2, days=2, hours=3)`\n",
    "\n",
    "`print(\"Days:\", delta.days)`\n",
    "\n",
    "`print(\"Seconds:\", delta.seconds)`\n",
    "\n",
    "`print(\"Microseconds:\", delta.microseconds)`\n",
    "\n",
    "Result:\n",
    "\n",
    "`Days: 16 Seconds: 10800 Microseconds: 0`\n",
    "\n",
    "**output**\n",
    "\n",
    "The result of 10800 is obtained by converting 3 hours into seconds. In this way the `timedelta` object stores the arguments passed during its creation. Weeks are converted to days, hours and minutes to seconds, and milliseconds to microseconds.\n"
   ],
   "metadata": {
    "collapsed": false
   }
  },
  {
   "cell_type": "code",
   "execution_count": 180,
   "outputs": [
    {
     "name": "stdout",
     "output_type": "stream",
     "text": [
      "16 days, 3:00:00\n"
     ]
    }
   ],
   "source": [
    "from datetime import timedelta\n",
    "\n",
    "delta = timedelta(weeks=2, days=2, hours=3)\n",
    "print(delta)\n"
   ],
   "metadata": {
    "collapsed": false,
    "ExecuteTime": {
     "end_time": "2023-06-30T18:49:07.621283344Z",
     "start_time": "2023-06-30T18:49:07.435427912Z"
    }
   }
  },
  {
   "cell_type": "code",
   "execution_count": 181,
   "outputs": [
    {
     "name": "stdout",
     "output_type": "stream",
     "text": [
      "Days: 16\n",
      "Seconds: 10800\n",
      "Microseconds: 0\n"
     ]
    }
   ],
   "source": [
    "from datetime import timedelta\n",
    "\n",
    "delta = timedelta(weeks=2, days=2, hours=3)\n",
    "print(\"Days:\", delta.days)\n",
    "print(\"Seconds:\", delta.seconds)\n",
    "print(\"Microseconds:\", delta.microseconds)\n",
    "\n"
   ],
   "metadata": {
    "collapsed": false,
    "ExecuteTime": {
     "end_time": "2023-06-30T18:49:37.853600033Z",
     "start_time": "2023-06-30T18:49:37.692553922Z"
    }
   }
  },
  {
   "cell_type": "markdown",
   "source": [
    "### Creating timedelta objects: continued\n",
    "\n",
    "You already know how the `timedelta` object stores the passed arguments internally. It's time to see how it can be used in practice.\n",
    "\n",
    "Let's look at some operations supported by the `datetime` module classes. Run the code we've provided in the editor.\n",
    "\n",
    "Result:\n",
    "\n",
    "`16 days, 2:00:00 32 days, 4:00:00 2019-11-05 2019-11-05 18:53:00`\n",
    "\n",
    "**output**\n",
    "\n",
    "The `timedelta` object can be multiplied by an integer. In our example, we multiply the object representing 16 days and 2 hours by 2. As a result, we receive a `timedelta` object representing 32 days and 4 hours.\n",
    "\n",
    "Note that both days and hours have been multiplied by 2. Another interesting operation using the `timedelta` object is adding. In the example, we've added the `timedelta` object to the _date_ and `datetime` objects.\n",
    "\n",
    "As a result of these operations, we receive _date_ and `datetime` objects increased by days and hours stored in the `timedelta` object.\n",
    "\n",
    "The presented multiplication operation allows you to quickly increase the value of the `timedelta` object, while multiplication can also help you get a date from the future.\n",
    "\n",
    "Of course, the `timedelta`, `date`, and `datetime` classes support many more operations. We encourage you to familiarize yourself with them in the documentation.\n"
   ],
   "metadata": {
    "collapsed": false
   }
  },
  {
   "cell_type": "code",
   "execution_count": 188,
   "outputs": [
    {
     "name": "stdout",
     "output_type": "stream",
     "text": [
      "16 days, 2:00:00\n",
      "32 days, 4:00:00\n",
      "2019-11-05\n",
      "2019-11-05 18:53:00\n"
     ]
    }
   ],
   "source": [
    "from datetime import timedelta\n",
    "from datetime import date\n",
    "from datetime import datetime\n",
    "\n",
    "delta = timedelta(weeks=2, days=2, hours=2)\n",
    "print(delta)\n",
    "\n",
    "delta2 = delta * 2\n",
    "print(delta2)\n",
    "\n",
    "d = date(2019, 10, 4) + delta2\n",
    "print(d)\n",
    "\n",
    "dt = datetime(2019, 10, 4, 14, 53) + delta2\n",
    "print(dt)\n"
   ],
   "metadata": {
    "collapsed": false,
    "ExecuteTime": {
     "end_time": "2023-06-30T18:57:46.653919374Z",
     "start_time": "2023-06-30T18:57:46.509056626Z"
    }
   }
  },
  {
   "cell_type": "markdown",
   "source": [
    "### LAB\n",
    "#### The datetime and time modules\n",
    "\n",
    "\n",
    "**Estimated time**\n",
    "\n",
    "15-45 min\n",
    "\n",
    "**Level of difficulty**\n",
    "\n",
    "Easy\n",
    "\n",
    "**Objectives**\n",
    "\n",
    "-   improving the student's skills in date and time formatting;\n",
    "-   improving the student's skills in using the `strftime` method.\n",
    "\n",
    "**Scenario**\n",
    "\n",
    "During this course, you learned about the `strftime` method, which requires knowledge of directives to create a format. It's time to put the known directives into practice.\n",
    "\n",
    "By the way, you'll have the opportunity to practice working with documentation, because you'll have to find directives that you don't yet know.\n",
    "\n",
    "**Here's your task:**\n",
    "\n",
    "Write a program that creates a `datetime` object for November 4, 2020 , 14:53:00. The object created should call the `strftime` method with the appropriate format to display the following result:\n",
    "\n",
    "```\n",
    "2020/11/04 14:53:00\n",
    "20/November/04 14:53:00 PM Wed\n",
    "2020 Nov 04 Wednesday\n",
    "2020 November 04\n",
    "Weekday: 3\n",
    "Day of the year: 309\n",
    "Week number of the year: 44\n",
    "```\n",
    "\n",
    "**expected output**\n",
    "\n",
    "**Note:** Each result line should be created by calling the _strftime_ method with at least one directive in the format argument.\n"
   ],
   "metadata": {
    "collapsed": false
   }
  },
  {
   "cell_type": "code",
   "execution_count": 194,
   "outputs": [
    {
     "name": "stdout",
     "output_type": "stream",
     "text": [
      "2020/11/04 14:53:00\n",
      "20/November/04 14:53:00 PM Wed\n",
      "2020 Nov 04 Wednesday\n",
      "2020 November 04\n",
      "Weekday: 3\n",
      "Day of the year: 309\n",
      "Week number of the year: 44\n"
     ]
    }
   ],
   "source": [
    "from datetime import datetime\n",
    "\n",
    "dt = datetime(2020, 11, 4, 14, 53, 00)\n",
    "\n",
    "print(dt.strftime(\"%Y/%m/%d %H:%M:%S\"))\n",
    "print(dt.strftime(\"%y/%B/%d %H:%M:%S %p %a\"))\n",
    "print(dt.strftime(\"%Y %b %d %A\"))\n",
    "print(dt.strftime(\"%Y %B %d\"))\n",
    "print(dt.strftime(\"Weekday: %w\"))\n",
    "print(dt.strftime(\"Day of the year: %j\"))\n",
    "print(dt.strftime(\"Week number of the year: %U\"))\n"
   ],
   "metadata": {
    "collapsed": false,
    "ExecuteTime": {
     "end_time": "2023-06-30T19:02:24.872543466Z",
     "start_time": "2023-06-30T19:02:24.833129952Z"
    }
   }
  },
  {
   "cell_type": "markdown",
   "source": [
    "### Key takeaways\n",
    "\n",
    "1\\. To create a `date` object, you must pass the year, month, and day arguments as follows:\n",
    "\n",
    "`from datetime import date`\n",
    "\n",
    "`my_date = date(2020, 9, 29)`\n",
    "\n",
    "`print(\"Year:\", my_date.year) # Year: 2020`\n",
    "\n",
    "`print(\"Month:\", my_date.month) # Month: 9`\n",
    "\n",
    "`print(\"Day:\", my_date.day) # Day: 29`\n",
    "\n",
    "The `date` object has three (read-only) attributes: year, month, and day.\n",
    "\n",
    "2\\. The `today` method returns a date object representing the current local date:\n",
    "\n",
    "`from datetime import date`\n",
    "\n",
    "`print(\"Today:\", date.today()) # Displays: Today: 2020-09-29`\n",
    "\n",
    "3\\. In Unix, the timestamp expresses the number of seconds since January 1, 1970, 00:00:00 (UTC). This date is called the \"Unix epoch\", because it began the counting of time on Unix systems. The timestamp is actually the difference between a particular date (including time) and January 1, 1970, 00:00:00 (UTC), expressed in seconds. To create a date object from a timestamp, we must pass a Unix timestamp to the `fromtimestamp` method:\n",
    "\n",
    "`from datetime import date`\n",
    "\n",
    "`import time`\n",
    "\n",
    "`timestamp = time.time()`\n",
    "\n",
    "`d = date.fromtimestamp(timestamp)`\n",
    "\n",
    "Note: The `time` function returns the number of seconds from January 1, 1970 to the current moment in the form of a float number.\n",
    "\n",
    "4\\. The constructor of the `time` class accepts six arguments (_hour_, _minute_, _second_, _microsecond_, _tzinfo_, and _fold_). Each of these arguments is optional.\n",
    "\n",
    "`from datetime import time`\n",
    "\n",
    "`t = time(13, 22, 20)`\n",
    "\n",
    "`print(\"Hour:\", t.hour) # Hour: 13`\n",
    "\n",
    "`print(\"Minute:\", t.minute) # Minute: 22`\n",
    "\n",
    "`print(\"Second:\", t.second) # Second: 20`\n",
    "\n",
    "5\\. The `time` module contains the `sleep` function, which suspends program execution for a given number of seconds, e.g.:\n",
    "\n",
    "`import time`\n",
    "\n",
    "`time.sleep(10)`\n",
    "\n",
    "`print(\"Hello world!\") # This text will be displayed after 10 seconds.`\n",
    "\n",
    "6\\. In the `datetime` module, date and time can be represented either as separate objects, or as one object. The class that combines date and time is called _datetime_. All arguments passed to the constructor go to read-only class attributes. They are _year_, _month_, _day_, _hour_, _minute_, _second_, _microsecond_, _tzinfo_, and _fold_:\n",
    "\n",
    "`from datetime import datetime`\n",
    "\n",
    "`dt = datetime(2020, 9, 29, 13, 51)`\n",
    "\n",
    "`print(\"Datetime:\", dt) # Displays: Datetime: 2020-09-29 13:51:00`\n",
    "\n",
    "7\\. The `strftime` method takes only one argument in the form of a string specifying a format that can consist of directives. A directive is a string consisting of the character `%` (percent) and a lower-case or upper-case letter. Below are some useful directives:\n",
    "\n",
    "-   `%Y` – returns the year with the century as a decimal number;\n",
    "-   `%m` – returns the month as a zero-padded decimal number;\n",
    "-   `%d` – returns the day as a zero-padded decimal number;\n",
    "-   `%H` – returns the hour as a zero-padded decimal number;\n",
    "-   `%M` – returns the minute as a zero-padded decimal number;\n",
    "-   `%S` – returns the second as a zero-padded decimal number.\n",
    "\n",
    "Example:\n",
    "\n",
    "`from datetime import date`\n",
    "\n",
    "`d = date(2020, 9, 29)`\n",
    "\n",
    "`print(d.strftime('%Y/%m/%d')) # Displays: 2020/09/29`\n",
    "\n",
    "8\\. It's possible to perform calculations on `date` and `datetime` objects, e.g.:\n",
    "\n",
    "`from datetime import date`\n",
    "\n",
    "`d1 = date(2020, 11, 4)`\n",
    "\n",
    "`d2 = date(2019, 11, 4)`\n",
    "\n",
    "`d = d1 - d2`\n",
    "\n",
    "`print(d) # Displays: 366 days, 0:00:00.`\n",
    "\n",
    "`print(d * 2) # Displays: 732 days, 0:00:00.`\n",
    "\n",
    "The result of the subtraction is returned as a `timedelta` object that expresses the difference in days between the two dates in the example above.\n",
    "\n",
    "Note that the difference in hours, minutes, and seconds is also displayed. The `timedelta` object can be used for further calculations (e.g. you can multiply it by 2).\n"
   ],
   "metadata": {
    "collapsed": false
   }
  },
  {
   "cell_type": "markdown",
   "source": [
    "**Exercise 1**\n",
    "\n",
    "What is the output of the following snippet?\n",
    "\n",
    "`from datetime import time t = time(14, 53) print(t.strftime(\"%H:%M:%S\"))`\n"
   ],
   "metadata": {
    "collapsed": false
   }
  },
  {
   "cell_type": "code",
   "execution_count": 195,
   "outputs": [
    {
     "name": "stdout",
     "output_type": "stream",
     "text": [
      "14:53:00\n"
     ]
    }
   ],
   "source": [
    "from datetime import time\n",
    "t = time(14, 53)\n",
    "print(t.strftime(\"%H:%M:%S\"))"
   ],
   "metadata": {
    "collapsed": false,
    "ExecuteTime": {
     "end_time": "2023-06-30T19:04:10.218631202Z",
     "start_time": "2023-06-30T19:04:10.169632945Z"
    }
   }
  },
  {
   "cell_type": "markdown",
   "source": [
    "**Exercise 2**\n",
    "\n",
    "What is the output of the following snippet?\n",
    "\n",
    "`from datetime import datetime dt1 = datetime(2020, 9, 29, 14, 41, 0) dt2 = datetime(2020, 9, 28, 14, 41, 0) print(dt1 - dt2)`"
   ],
   "metadata": {
    "collapsed": false
   }
  },
  {
   "cell_type": "code",
   "execution_count": 196,
   "outputs": [
    {
     "name": "stdout",
     "output_type": "stream",
     "text": [
      "1 day, 0:00:00\n"
     ]
    }
   ],
   "source": [
    "from datetime import datetime\n",
    "dt1 = datetime(2020, 9, 29, 14, 41, 0)\n",
    "dt2 = datetime(2020, 9, 28, 14, 41, 0)\n",
    "print(dt1 - dt2)"
   ],
   "metadata": {
    "collapsed": false,
    "ExecuteTime": {
     "end_time": "2023-06-30T19:04:19.507544532Z",
     "start_time": "2023-06-30T19:04:19.455943948Z"
    }
   }
  },
  {
   "cell_type": "markdown",
   "source": [
    "## Introduction to the calendar module\n",
    "\n",
    "In addition to the `datetime` and `time` modules, the Python standard library provides a module called `calendar` which, as the name suggests, offers **calendar-related functions**.\n",
    "\n",
    "One of them is of course displaying the calendar. It's important that the days of the week are displayed from Monday to Sunday, and each day of the week has its representation in the form of an integer:\n",
    "\n",
    "| Day of the week | Integer value | Constant |\n",
    "| --- | --- | --- |\n",
    "| Monday | 0 | `calendar.MONDAY` |\n",
    "| Tuesday | 1 | `calendar.TUESDAY` |\n",
    "| Wednesday | 2 | `calendar.WEDNESDAY` |\n",
    "| Thursday | 3 | `calendar.THURSDAY` |\n",
    "| Friday | 4 | `calendar.FRIDAY` |\n",
    "| Saturday | 5 | `calendar.SATURDAY` |\n",
    "| Sunday | 6 | `calendar.SUNDAY` |\n",
    "\n",
    "The table above shows the representation of the days of the week in the `calendar` module. The first day of the week (Monday) is represented by the value _0_ and the _calendar.MONDAY_ constant, while the last day of the week (Sunday) is represented by the value _6_ and the _calendar.SUNDAY_ constant.\n",
    "\n",
    "\n",
    "\n",
    "![A snake and a calendar](https://edube.org/uploads/media/default/0001/02/b7803b762467a1a3d5910cb93726710f60f5756a.png)\n",
    "\n",
    "For months, integer values are indexed from 1, i.e., January is represented by 1, and December by 12. Unfortunately, there aren't constants that express the months.\n",
    "\n",
    "The above information will be useful to you when working with the `calendar` module in this part of the course, but first let's start with some simple calendar examples."
   ],
   "metadata": {
    "collapsed": false
   }
  },
  {
   "cell_type": "markdown",
   "source": [
    "### Your first calendar\n",
    "\n",
    "You will start your adventure with the `calendar` module with a simple function called `calendar`, which allows you to **display the calendar for the whole year**. Let's look at how to use it to display the calendar for 2020. Run the code in the editor and see what happens.\n",
    "\n",
    "The result displayed is similar to the result of the _cal_ command available in Unix. If you want to change the default calendar formatting, you can use the following parameters:\n",
    "\n",
    "-   `w` – date column width (default 2)\n",
    "-   `l` – number of lines per week (default 1)\n",
    "-   `c` – number of spaces between month columns (default 6)\n",
    "-   `m` – number of columns (default 3)\n",
    "\n",
    "The calendar function requires you to specify the year, while the other parameters responsible for formatting are optional. We encourage you to try these parameters yourself.\n",
    "\n",
    "A good alternative to the above function is the function called _prcal_, which also takes the same parameters as the `calendar` function, but doesn't require the use of the `print` function to display the calendar. Its use looks like this:\n",
    "\n",
    "`import calendar`\n",
    "\n",
    "`calendar.prcal(2020)`\n"
   ],
   "metadata": {
    "collapsed": false
   }
  },
  {
   "cell_type": "code",
   "execution_count": 198,
   "outputs": [
    {
     "name": "stdout",
     "output_type": "stream",
     "text": [
      "                                  2020\n",
      "\n",
      "      January                   February                   March\n",
      "Mo Tu We Th Fr Sa Su      Mo Tu We Th Fr Sa Su      Mo Tu We Th Fr Sa Su\n",
      "       1  2  3  4  5                      1  2                         1\n",
      " 6  7  8  9 10 11 12       3  4  5  6  7  8  9       2  3  4  5  6  7  8\n",
      "13 14 15 16 17 18 19      10 11 12 13 14 15 16       9 10 11 12 13 14 15\n",
      "20 21 22 23 24 25 26      17 18 19 20 21 22 23      16 17 18 19 20 21 22\n",
      "27 28 29 30 31            24 25 26 27 28 29         23 24 25 26 27 28 29\n",
      "                                                    30 31\n",
      "\n",
      "       April                      May                       June\n",
      "Mo Tu We Th Fr Sa Su      Mo Tu We Th Fr Sa Su      Mo Tu We Th Fr Sa Su\n",
      "       1  2  3  4  5                   1  2  3       1  2  3  4  5  6  7\n",
      " 6  7  8  9 10 11 12       4  5  6  7  8  9 10       8  9 10 11 12 13 14\n",
      "13 14 15 16 17 18 19      11 12 13 14 15 16 17      15 16 17 18 19 20 21\n",
      "20 21 22 23 24 25 26      18 19 20 21 22 23 24      22 23 24 25 26 27 28\n",
      "27 28 29 30               25 26 27 28 29 30 31      29 30\n",
      "\n",
      "        July                     August                  September\n",
      "Mo Tu We Th Fr Sa Su      Mo Tu We Th Fr Sa Su      Mo Tu We Th Fr Sa Su\n",
      "       1  2  3  4  5                      1  2          1  2  3  4  5  6\n",
      " 6  7  8  9 10 11 12       3  4  5  6  7  8  9       7  8  9 10 11 12 13\n",
      "13 14 15 16 17 18 19      10 11 12 13 14 15 16      14 15 16 17 18 19 20\n",
      "20 21 22 23 24 25 26      17 18 19 20 21 22 23      21 22 23 24 25 26 27\n",
      "27 28 29 30 31            24 25 26 27 28 29 30      28 29 30\n",
      "                          31\n",
      "\n",
      "      October                   November                  December\n",
      "Mo Tu We Th Fr Sa Su      Mo Tu We Th Fr Sa Su      Mo Tu We Th Fr Sa Su\n",
      "          1  2  3  4                         1          1  2  3  4  5  6\n",
      " 5  6  7  8  9 10 11       2  3  4  5  6  7  8       7  8  9 10 11 12 13\n",
      "12 13 14 15 16 17 18       9 10 11 12 13 14 15      14 15 16 17 18 19 20\n",
      "19 20 21 22 23 24 25      16 17 18 19 20 21 22      21 22 23 24 25 26 27\n",
      "26 27 28 29 30 31         23 24 25 26 27 28 29      28 29 30 31\n",
      "                          30\n",
      "\n"
     ]
    }
   ],
   "source": [
    "import calendar\n",
    "print(calendar.calendar(2020))\n"
   ],
   "metadata": {
    "collapsed": false,
    "ExecuteTime": {
     "end_time": "2023-06-30T19:05:59.993773341Z",
     "start_time": "2023-06-30T19:05:59.840898201Z"
    }
   }
  },
  {
   "cell_type": "code",
   "execution_count": 199,
   "outputs": [
    {
     "name": "stdout",
     "output_type": "stream",
     "text": [
      "                                  2020\n",
      "\n",
      "      January                   February                   March\n",
      "Mo Tu We Th Fr Sa Su      Mo Tu We Th Fr Sa Su      Mo Tu We Th Fr Sa Su\n",
      "       1  2  3  4  5                      1  2                         1\n",
      " 6  7  8  9 10 11 12       3  4  5  6  7  8  9       2  3  4  5  6  7  8\n",
      "13 14 15 16 17 18 19      10 11 12 13 14 15 16       9 10 11 12 13 14 15\n",
      "20 21 22 23 24 25 26      17 18 19 20 21 22 23      16 17 18 19 20 21 22\n",
      "27 28 29 30 31            24 25 26 27 28 29         23 24 25 26 27 28 29\n",
      "                                                    30 31\n",
      "\n",
      "       April                      May                       June\n",
      "Mo Tu We Th Fr Sa Su      Mo Tu We Th Fr Sa Su      Mo Tu We Th Fr Sa Su\n",
      "       1  2  3  4  5                   1  2  3       1  2  3  4  5  6  7\n",
      " 6  7  8  9 10 11 12       4  5  6  7  8  9 10       8  9 10 11 12 13 14\n",
      "13 14 15 16 17 18 19      11 12 13 14 15 16 17      15 16 17 18 19 20 21\n",
      "20 21 22 23 24 25 26      18 19 20 21 22 23 24      22 23 24 25 26 27 28\n",
      "27 28 29 30               25 26 27 28 29 30 31      29 30\n",
      "\n",
      "        July                     August                  September\n",
      "Mo Tu We Th Fr Sa Su      Mo Tu We Th Fr Sa Su      Mo Tu We Th Fr Sa Su\n",
      "       1  2  3  4  5                      1  2          1  2  3  4  5  6\n",
      " 6  7  8  9 10 11 12       3  4  5  6  7  8  9       7  8  9 10 11 12 13\n",
      "13 14 15 16 17 18 19      10 11 12 13 14 15 16      14 15 16 17 18 19 20\n",
      "20 21 22 23 24 25 26      17 18 19 20 21 22 23      21 22 23 24 25 26 27\n",
      "27 28 29 30 31            24 25 26 27 28 29 30      28 29 30\n",
      "                          31\n",
      "\n",
      "      October                   November                  December\n",
      "Mo Tu We Th Fr Sa Su      Mo Tu We Th Fr Sa Su      Mo Tu We Th Fr Sa Su\n",
      "          1  2  3  4                         1          1  2  3  4  5  6\n",
      " 5  6  7  8  9 10 11       2  3  4  5  6  7  8       7  8  9 10 11 12 13\n",
      "12 13 14 15 16 17 18       9 10 11 12 13 14 15      14 15 16 17 18 19 20\n",
      "19 20 21 22 23 24 25      16 17 18 19 20 21 22      21 22 23 24 25 26 27\n",
      "26 27 28 29 30 31         23 24 25 26 27 28 29      28 29 30 31\n",
      "                          30\n"
     ]
    }
   ],
   "source": [
    "import calendar\n",
    "calendar.prcal(2020)"
   ],
   "metadata": {
    "collapsed": false,
    "ExecuteTime": {
     "end_time": "2023-06-30T19:06:19.467184287Z",
     "start_time": "2023-06-30T19:06:19.330047565Z"
    }
   }
  },
  {
   "cell_type": "markdown",
   "source": [
    "### Calendar for a specific month\n",
    "\n",
    "The `calendar` module has a function called `month`, which allows you to display a calendar for a specific month. Its use is really simple, you just need to specify the year and month - check out the code in the editor.\n",
    "\n",
    "The example displays the calendar for November 2020. As in the `calendar` function, you can change the default formatting using the following parameters:\n",
    "\n",
    "-   `w` – date column width (default 2)\n",
    "-   `l` – number of lines per week (default 1)\n",
    "\n",
    "**Note:** You can also use the `prmonth` function, which has the same parameters as the `month` function, but doesn't require you to use the `print` function to display the calendar.\n"
   ],
   "metadata": {
    "collapsed": false
   }
  },
  {
   "cell_type": "code",
   "execution_count": 200,
   "outputs": [
    {
     "name": "stdout",
     "output_type": "stream",
     "text": [
      "   November 2020\n",
      "Mo Tu We Th Fr Sa Su\n",
      "                   1\n",
      " 2  3  4  5  6  7  8\n",
      " 9 10 11 12 13 14 15\n",
      "16 17 18 19 20 21 22\n",
      "23 24 25 26 27 28 29\n",
      "30\n",
      "\n"
     ]
    }
   ],
   "source": [
    "import calendar\n",
    "print(calendar.month(2020, 11))\n"
   ],
   "metadata": {
    "collapsed": false,
    "ExecuteTime": {
     "end_time": "2023-06-30T19:07:18.709577611Z",
     "start_time": "2023-06-30T19:07:18.527877124Z"
    }
   }
  },
  {
   "cell_type": "markdown",
   "source": [
    "### The setfirstweekday() function\n",
    "\n",
    "As you already know, by default in the `calendar` module, the first day of the week is Monday. However, you can change this behavior using a function called `setfirstweekday`.\n",
    "\n",
    "Do you remember the table showing the days of the week and their representation in the form of integer values? It's time to use it, because the `setfirstweekday` method requires a parameter expressing the day of the week in the form of an integer value. Take a look at the example in the editor.\n",
    "\n",
    "The example uses the `calendar.SUNDAY` constant, which contains a value of _6_. Of course, you could pass this value directly to the `setfirstweekday` function, but the version with a constant is more elegant.\n",
    "\n",
    "As a result, we get a calendar showing the month of December 2020, in which the first day of all the weeks is Sunday.\n"
   ],
   "metadata": {
    "collapsed": false
   }
  },
  {
   "cell_type": "code",
   "execution_count": 205,
   "outputs": [
    {
     "name": "stdout",
     "output_type": "stream",
     "text": [
      "   December 2020\n",
      "Su Mo Tu We Th Fr Sa\n",
      "       1  2  3  4  5\n",
      " 6  7  8  9 10 11 12\n",
      "13 14 15 16 17 18 19\n",
      "20 21 22 23 24 25 26\n",
      "27 28 29 30 31\n"
     ]
    }
   ],
   "source": [
    "import calendar\n",
    "\n",
    "calendar.setfirstweekday(calendar.SUNDAY)\n",
    "calendar.prmonth(2020, 12)\n"
   ],
   "metadata": {
    "collapsed": false,
    "ExecuteTime": {
     "end_time": "2023-06-30T19:30:02.522335322Z",
     "start_time": "2023-06-30T19:30:02.312051368Z"
    }
   }
  },
  {
   "cell_type": "markdown",
   "source": [
    "### The weekday() function\n",
    "\n",
    "Another useful function provided by the `calendar` module is the function called `weekday`, which returns the day of the week as an integer value for the given year, month, and day. Let's see it in practice.\n",
    "\n",
    "Run the code in the editor to check the day of the week that falls on December 24, 2020.\n",
    "\n",
    "Result:\n",
    "\n",
    "`3`\n",
    "\n",
    "**output**\n",
    "\n",
    "The `weekday` function returns 3, which means that December 24, 2020 is a Thursday.\n"
   ],
   "metadata": {
    "collapsed": false
   }
  },
  {
   "cell_type": "code",
   "execution_count": 206,
   "outputs": [
    {
     "name": "stdout",
     "output_type": "stream",
     "text": [
      "3\n"
     ]
    }
   ],
   "source": [
    "import calendar\n",
    "print(calendar.weekday(2020, 12, 24))\n"
   ],
   "metadata": {
    "collapsed": false,
    "ExecuteTime": {
     "end_time": "2023-06-30T19:30:02.869335383Z",
     "start_time": "2023-06-30T19:30:02.339435685Z"
    }
   }
  },
  {
   "cell_type": "markdown",
   "source": [
    "### The weekheader() function\n",
    "\n",
    "You've probably noticed that the calendar contains weekly headers in a shortened form. If needed, you can get short weekday names using the `weekheader` method.\n",
    "\n",
    "The `weekheader` method requires you to specify the width in characters for one day of the week. If the width you provide is greater than 3, you'll still get the abbreviated weekday names consisting of three characters.\n",
    "\n",
    "So let's look at how to get a smaller header. Run the code in the editor.\n",
    "\n",
    "Result:\n",
    "\n",
    "`Mo Tu We Th Fr Sa Su`\n",
    "\n",
    "**output**\n",
    "\n",
    "**Note:** If you change the first day of the week, e.g., using the `setfirstweekday` function, it'll affect the result of the `weekheader` function.\n"
   ],
   "metadata": {
    "collapsed": false
   }
  },
  {
   "cell_type": "code",
   "execution_count": 213,
   "outputs": [
    {
     "name": "stdout",
     "output_type": "stream",
     "text": [
      "W T F S S M T\n",
      "We Th Fr Sa Su Mo Tu\n",
      "Wed Thu Fri Sat Sun Mon Tue\n",
      "Wed  Thu  Fri  Sat  Sun  Mon  Tue \n"
     ]
    }
   ],
   "source": [
    "import calendar\n",
    "print(calendar.weekheader(1))\n",
    "print(calendar.weekheader(2))\n",
    "print(calendar.weekheader(3))\n",
    "print(calendar.weekheader(4))\n",
    "\n"
   ],
   "metadata": {
    "collapsed": false,
    "ExecuteTime": {
     "end_time": "2023-06-30T19:32:08.252460287Z",
     "start_time": "2023-06-30T19:32:08.214076417Z"
    }
   }
  },
  {
   "cell_type": "markdown",
   "source": [
    "### How do we check if a year is a leap year?\n",
    "\n",
    "The `calendar` module provides two useful functions to check whether years are leap years.\n",
    "\n",
    "\n",
    "\n",
    "![February 29th](https://edube.org/uploads/media/default/0001/02/9aff0c71eb503a0e78239867a888e0162715e31a.png)\n",
    "\n",
    "The first one, called `isleap`, returns _True_ if the passed year is leap, or _False_ otherwise. The second one, called `leapdays`, returns the number of leap years in the given range of years.\n",
    "\n",
    "Run the code in the editor.\n",
    "\n",
    "Result:\n",
    "\n",
    "`True 3`\n",
    "\n",
    "**output**\n",
    "\n",
    "In the example, we obtain the result 3, because in the period from 2010 to 2020 there are only three leap years (note: 2021 is not included). They are the years 2012, 2016, and 2020.\n"
   ],
   "metadata": {
    "collapsed": false
   }
  },
  {
   "cell_type": "code",
   "execution_count": 216,
   "outputs": [
    {
     "name": "stdout",
     "output_type": "stream",
     "text": [
      "True\n",
      "3\n"
     ]
    }
   ],
   "source": [
    "import calendar\n",
    "\n",
    "print(calendar.isleap(2020))\n",
    "print(calendar.leapdays(2010, 2021))  # Up to but not including 2021.\n"
   ],
   "metadata": {
    "collapsed": false,
    "ExecuteTime": {
     "end_time": "2023-06-30T19:34:15.643422232Z",
     "start_time": "2023-06-30T19:34:15.572790643Z"
    }
   }
  },
  {
   "cell_type": "markdown",
   "source": [
    "### Classes for creating calendars\n",
    "\n",
    "The presented functions aren't everything the `calendar` module offers. In addition to them, we can use the following classes:\n",
    "\n",
    "-   `calendar.Calendar` – provides methods to prepare calendar data for formatting;\n",
    "-   `calendar.TextCalendar` – is used to create regular text calendars;\n",
    "-   `calendar.HTMLCalendar` – is used to create HTML calendars;\n",
    "-   `calendar.LocalTextCalendar` – is a subclass of the `calendar.TextCalendar` class. The constructor of this class takes the _locale_ parameter, which is used to return the appropriate months and weekday names.\n",
    "-   `calendar.LocalHTMLCalendar` – is a subclass of the `calendar.HTMLCalendar` class. The constructor of this class takes the locale parameter, which is used to return the appropriate months and weekday names.\n",
    "\n",
    "During this course, you've already had the opportunity to create text calendars when discussing the functions of the `calendar` module.\n",
    "\n",
    "Time to try something new. Let's take a closer look at the methods of the `calendar` class.\n",
    "\n",
    "\n",
    "\n",
    "\n",
    "\n",
    "![Different calendars](https://edube.org/uploads/media/default/0001/02/84ebbab8e240af991a55bcb3e17c9cf836e3d609.png)"
   ],
   "metadata": {
    "collapsed": false
   }
  },
  {
   "cell_type": "markdown",
   "source": [
    "### Creating a Calendar object\n",
    "\n",
    "The `Calendar` class constructor takes one optional parameter named `firstweekday`, by default equal to 0 (Monday).\n",
    "\n",
    "The `firstweekday` parameter must be an integer between 0-6. For this purpose, we can use the already-known constants - look at the code in the editor.\n",
    "\n",
    "The program will output the following result:\n",
    "\n",
    "`6 0 1 2 3 4 5`\n",
    "\n",
    "**output**\n",
    "\n",
    "The code example uses the `Calendar` class method named `iterweekdays`, which returns an iterator for week day numbers.\n",
    "\n",
    "The first value returned is always equal to the value of the `firstweekday` property. Because in our example the first value returned is 6, it means that the week starts on a Sunday.\n"
   ],
   "metadata": {
    "collapsed": false
   }
  },
  {
   "cell_type": "code",
   "execution_count": 217,
   "outputs": [
    {
     "name": "stdout",
     "output_type": "stream",
     "text": [
      "6 0 1 2 3 4 5 "
     ]
    }
   ],
   "source": [
    "import calendar\n",
    "\n",
    "c = calendar.Calendar(calendar.SUNDAY)\n",
    "\n",
    "for weekday in c.iterweekdays():\n",
    "    print(weekday, end=\" \")\n"
   ],
   "metadata": {
    "collapsed": false,
    "ExecuteTime": {
     "end_time": "2023-06-30T19:35:13.042240850Z",
     "start_time": "2023-06-30T19:35:12.876417445Z"
    }
   }
  },
  {
   "cell_type": "markdown",
   "source": [
    "### The itermonthdates() method\n",
    "\n",
    "The `Calendar` class has several methods that return an iterator. One of them is the `itermonthdates` method, which requires specifying the year and month.\n",
    "\n",
    "As a result, all days in the specified month and year are returned, as well as all days before the beginning of the month or the end of the month that are necessary to get a complete week.\n",
    "\n",
    "Each day is represented by a `datetime.date` object. Take a look at the example in the editor.\n",
    "\n",
    "The code displays all days in November 2019. Because the first day of November 2019 was a Friday, the following days are also returned to get the complete week: 10/28/2019 (Monday) 10/29/2019 (Tuesday) 10/30/2019 (Wednesday) 10/31/2019 (Thursday).\n",
    "\n",
    "The last day of November 2019 was a Saturday, so in order to keep the complete week, one more day is returned 12/01/2019 (Sunday)."
   ],
   "metadata": {
    "collapsed": false
   }
  },
  {
   "cell_type": "code",
   "execution_count": 218,
   "outputs": [
    {
     "name": "stdout",
     "output_type": "stream",
     "text": [
      "2019-10-28 2019-10-29 2019-10-30 2019-10-31 2019-11-01 2019-11-02 2019-11-03 2019-11-04 2019-11-05 2019-11-06 2019-11-07 2019-11-08 2019-11-09 2019-11-10 2019-11-11 2019-11-12 2019-11-13 2019-11-14 2019-11-15 2019-11-16 2019-11-17 2019-11-18 2019-11-19 2019-11-20 2019-11-21 2019-11-22 2019-11-23 2019-11-24 2019-11-25 2019-11-26 2019-11-27 2019-11-28 2019-11-29 2019-11-30 2019-12-01 "
     ]
    }
   ],
   "source": [
    "import calendar\n",
    "\n",
    "c = calendar.Calendar()\n",
    "\n",
    "for date in c.itermonthdates(2019, 11):\n",
    "    print(date, end=\" \")\n"
   ],
   "metadata": {
    "collapsed": false,
    "ExecuteTime": {
     "end_time": "2023-06-30T19:37:19.580721916Z",
     "start_time": "2023-06-30T19:37:19.450875893Z"
    }
   }
  },
  {
   "cell_type": "markdown",
   "source": [
    "### Other methods that return iterators\n",
    "\n",
    "Another useful method in the `Calendar` class is the method called `itermonthdates`, which takes year and month as parameters, and then returns the iterator to the days of the week represented by numbers.\n",
    "\n",
    "Take a look at the example in the editor.\n",
    "\n",
    "You’ll have certainly noticed the large number of 0s returned as a result of the example code. These are days outside the specified month range that are added to keep the complete week.\n",
    "\n",
    "The first four zeros represent 10/28/2019 (Monday) 10/29/2019 (Tuesday) 10/30/2019 (Wednesday) 10/31/2019 (Thursday). The remaining numbers are days in the month, except the last value of 0, which replaces the date 12/01/2019 (Sunday).\n",
    "\n",
    "There are four other similar methods in the `Calendar` class that differ in data returned:\n",
    "\n",
    "-   `itermonthdates2` – returns days in the form of tuples consisting of a day of the month number and a week day number;\n",
    "-   `itermonthdates3` – returns days in the form of tuples consisting of a year, a month, and a day of the month numbers. This method has been available since version 3.7;\n",
    "-   `itermonthdates4` – returns days in the form of tuples consisting of a year, a month, a day of the month, and a day of the week numbers. This method has been available since Python version 3.7.\n",
    "\n",
    "For testing purposes, use the example above and see how the return values of the described methods look in practice.\n"
   ],
   "metadata": {
    "collapsed": false
   }
  },
  {
   "cell_type": "code",
   "execution_count": 219,
   "outputs": [
    {
     "name": "stdout",
     "output_type": "stream",
     "text": [
      "0 0 0 0 1 2 3 4 5 6 7 8 9 10 11 12 13 14 15 16 17 18 19 20 21 22 23 24 25 26 27 28 29 30 0 "
     ]
    }
   ],
   "source": [
    "import calendar\n",
    "\n",
    "c = calendar.Calendar()\n",
    "\n",
    "for iter in c.itermonthdays(2019, 11):\n",
    "    print(iter, end=\" \")\n"
   ],
   "metadata": {
    "collapsed": false,
    "ExecuteTime": {
     "end_time": "2023-06-30T19:45:21.146743114Z",
     "start_time": "2023-06-30T19:45:20.974328058Z"
    }
   }
  },
  {
   "cell_type": "code",
   "execution_count": 220,
   "outputs": [
    {
     "name": "stdout",
     "output_type": "stream",
     "text": [
      "(0, 0) (0, 1) (0, 2) (0, 3) (1, 4) (2, 5) (3, 6) (4, 0) (5, 1) (6, 2) (7, 3) (8, 4) (9, 5) (10, 6) (11, 0) (12, 1) (13, 2) (14, 3) (15, 4) (16, 5) (17, 6) (18, 0) (19, 1) (20, 2) (21, 3) (22, 4) (23, 5) (24, 6) (25, 0) (26, 1) (27, 2) (28, 3) (29, 4) (30, 5) (0, 6) "
     ]
    }
   ],
   "source": [
    "for iter in c.itermonthdays2(2019, 11):\n",
    "    print(iter, end=\" \")"
   ],
   "metadata": {
    "collapsed": false,
    "ExecuteTime": {
     "end_time": "2023-06-30T19:46:54.268166978Z",
     "start_time": "2023-06-30T19:46:54.091442832Z"
    }
   }
  },
  {
   "cell_type": "code",
   "execution_count": 221,
   "outputs": [
    {
     "name": "stdout",
     "output_type": "stream",
     "text": [
      "(2019, 10, 28) (2019, 10, 29) (2019, 10, 30) (2019, 10, 31) (2019, 11, 1) (2019, 11, 2) (2019, 11, 3) (2019, 11, 4) (2019, 11, 5) (2019, 11, 6) (2019, 11, 7) (2019, 11, 8) (2019, 11, 9) (2019, 11, 10) (2019, 11, 11) (2019, 11, 12) (2019, 11, 13) (2019, 11, 14) (2019, 11, 15) (2019, 11, 16) (2019, 11, 17) (2019, 11, 18) (2019, 11, 19) (2019, 11, 20) (2019, 11, 21) (2019, 11, 22) (2019, 11, 23) (2019, 11, 24) (2019, 11, 25) (2019, 11, 26) (2019, 11, 27) (2019, 11, 28) (2019, 11, 29) (2019, 11, 30) (2019, 12, 1) "
     ]
    }
   ],
   "source": [
    "for iter in c.itermonthdays3(2019, 11):\n",
    "    print(iter, end=\" \")"
   ],
   "metadata": {
    "collapsed": false,
    "ExecuteTime": {
     "end_time": "2023-06-30T19:47:00.857015001Z",
     "start_time": "2023-06-30T19:47:00.712335760Z"
    }
   }
  },
  {
   "cell_type": "code",
   "execution_count": 222,
   "outputs": [
    {
     "name": "stdout",
     "output_type": "stream",
     "text": [
      "(2019, 10, 28, 0) (2019, 10, 29, 1) (2019, 10, 30, 2) (2019, 10, 31, 3) (2019, 11, 1, 4) (2019, 11, 2, 5) (2019, 11, 3, 6) (2019, 11, 4, 0) (2019, 11, 5, 1) (2019, 11, 6, 2) (2019, 11, 7, 3) (2019, 11, 8, 4) (2019, 11, 9, 5) (2019, 11, 10, 6) (2019, 11, 11, 0) (2019, 11, 12, 1) (2019, 11, 13, 2) (2019, 11, 14, 3) (2019, 11, 15, 4) (2019, 11, 16, 5) (2019, 11, 17, 6) (2019, 11, 18, 0) (2019, 11, 19, 1) (2019, 11, 20, 2) (2019, 11, 21, 3) (2019, 11, 22, 4) (2019, 11, 23, 5) (2019, 11, 24, 6) (2019, 11, 25, 0) (2019, 11, 26, 1) (2019, 11, 27, 2) (2019, 11, 28, 3) (2019, 11, 29, 4) (2019, 11, 30, 5) (2019, 12, 1, 6) "
     ]
    }
   ],
   "source": [
    "for iter in c.itermonthdays4(2019, 11):\n",
    "    print(iter, end=\" \")"
   ],
   "metadata": {
    "collapsed": false,
    "ExecuteTime": {
     "end_time": "2023-06-30T19:47:04.797727649Z",
     "start_time": "2023-06-30T19:47:04.588076170Z"
    }
   }
  },
  {
   "cell_type": "markdown",
   "source": [
    "### The monthdays2calendar() method\n",
    "\n",
    "The `Calendar` class has several other useful methods that you can learn more about in the documentation ([https://docs.python.org/3/library/calendar.html](https://docs.python.org/3/library/calendar.html)).\n",
    "\n",
    "One of them is the `monthdays2calendar` method, which takes the year and month, and then returns a list of weeks in a specific month. Each week is a tuple consisting of day numbers and weekday numbers. Look at the code in the editor.\n",
    "\n",
    "Note that the days numbers outside the month are represented by 0, while the weekday numbers are a number from 0-6, where 0 is Monday and 6 is Sunday.\n",
    "\n",
    "In a moment, this method may be useful for you to complete a laboratory task. Are you ready?"
   ],
   "metadata": {
    "collapsed": false
   }
  },
  {
   "cell_type": "code",
   "execution_count": 223,
   "outputs": [
    {
     "name": "stdout",
     "output_type": "stream",
     "text": [
      "[(0, 0), (1, 1), (2, 2), (3, 3), (4, 4), (5, 5), (6, 6)]\n",
      "[(7, 0), (8, 1), (9, 2), (10, 3), (11, 4), (12, 5), (13, 6)]\n",
      "[(14, 0), (15, 1), (16, 2), (17, 3), (18, 4), (19, 5), (20, 6)]\n",
      "[(21, 0), (22, 1), (23, 2), (24, 3), (25, 4), (26, 5), (27, 6)]\n",
      "[(28, 0), (29, 1), (30, 2), (31, 3), (0, 4), (0, 5), (0, 6)]\n"
     ]
    }
   ],
   "source": [
    "import calendar\n",
    "\n",
    "c = calendar.Calendar()\n",
    "\n",
    "for data in c.monthdays2calendar(2020, 12):\n",
    "    print(data)\n"
   ],
   "metadata": {
    "collapsed": false,
    "ExecuteTime": {
     "end_time": "2023-06-30T19:47:45.035244404Z",
     "start_time": "2023-06-30T19:47:44.905739453Z"
    }
   }
  },
  {
   "cell_type": "markdown",
   "source": [
    "### LAB\n",
    "\n",
    "#### the calendar module\n",
    "\n",
    "**Estimated time**\n",
    "\n",
    "30-60 minutes\n",
    "\n",
    "**Level of difficulty**\n",
    "\n",
    "Easy\n",
    "\n",
    "**Objectives**\n",
    "\n",
    "-   Improving the student's skills in using the _Calendar_ class.\n",
    "\n",
    "**Scenario**\n",
    "\n",
    "During this course, we looked at the `Calendar` class a bit. Your task is to extend its functionality with a new method called `count_weekday_in_year`, which takes a year and a weekday as parameters, and then returns the number of occurrences of a specific weekday in the year.\n",
    "\n",
    "Use the following tips:\n",
    "\n",
    "-   Create a class called `MyCalendar` that extends the `Calendar` class;\n",
    "-   create the `count_weekday_in_year` method with the year and weekday parameters. The weekday parameter should be a value between 0-6, where 0 is Monday and 6 is Sunday. The method should return the number of days as an integer;\n",
    "-   in your implementation, use the `monthdays2calendar` method of the `Calendar` class.\n",
    "\n",
    "The following are the expected results:\n",
    "\n",
    "**Sample arguments**\n",
    "\n",
    "`year=2019, weekday=0`\n",
    "\n",
    "**Expected output**\n",
    "\n",
    "`52`\n",
    "\n",
    "**Sample arguments**\n",
    "\n",
    "`year=2000, weekday=6`\n",
    "\n",
    "**Expected output**\n",
    "\n",
    "`53`\n"
   ],
   "metadata": {
    "collapsed": false
   }
  },
  {
   "cell_type": "code",
   "execution_count": 227,
   "outputs": [],
   "source": [
    "import calendar\n",
    "\n",
    "class MyCalendar(calendar.Calendar):\n",
    "    def count_weekday_in_year(self, year, weekday):\n",
    "        count = 0\n",
    "        for month in range(1, 13):  # months in a year\n",
    "            for week in self.monthdays2calendar(year, month):\n",
    "                for day, wd in week:\n",
    "                    if day != 0 and wd == weekday:  # day is not a padding day and weekday matches\n",
    "                        count += 1\n",
    "        return count\n",
    "\n",
    "# Create an instance of MyCalendar\n",
    "my_cal = MyCalendar()\n",
    "# Expected output: 53\n"
   ],
   "metadata": {
    "collapsed": false,
    "ExecuteTime": {
     "end_time": "2023-06-30T19:55:09.720716369Z",
     "start_time": "2023-06-30T19:55:09.646450293Z"
    }
   }
  },
  {
   "cell_type": "code",
   "execution_count": 228,
   "outputs": [
    {
     "name": "stdout",
     "output_type": "stream",
     "text": [
      "52\n",
      "53\n"
     ]
    }
   ],
   "source": [
    "\n",
    "# Test the function with sample arguments\n",
    "print(my_cal.count_weekday_in_year(2019, 0))  # Expected output: 52\n",
    "print(my_cal.count_weekday_in_year(2000, 6))"
   ],
   "metadata": {
    "collapsed": false,
    "ExecuteTime": {
     "end_time": "2023-06-30T19:55:10.672523330Z",
     "start_time": "2023-06-30T19:55:10.263345810Z"
    }
   }
  },
  {
   "cell_type": "markdown",
   "source": [
    "### Key takeaways\n",
    "\n",
    "1\\. In the `calendar` module, the days of the week are displayed from Monday to Sunday. Each day of the week has its representation in the form of an integer, where the first day of the week (Monday) is represented by the value 0, while the last day of the week (Sunday) is represented by the value 6.\n",
    "\n",
    "2\\. To display a calendar for any year, call the `calendar` function with the year passed as its argument, e.g.:\n",
    "\n",
    "`import calendar`\n",
    "\n",
    "`print(calendar.calendar(2020))`\n",
    "\n",
    "Note: A good alternative to the above function is the function called `prcal`, which also takes the same parameters as the `calendar` function, but doesn't require the use of the `print` function to display the calendar.\n",
    "\n",
    "3\\. To display a calendar for any month of the year, call the `month` function, passing year and month to it. For example:\n",
    "\n",
    "`import calendar`\n",
    "\n",
    "`print(calendar.month(2020, 9))`\n",
    "\n",
    "Note: You can also use the `prmonth` function, which has the same parameters as the `month` function, but doesn't require the use of the `print` function to display the calendar.\n",
    "\n",
    "4\\. The `setfirstweekday` function allows you to change the first day of the week. It takes a value from 0 to 6, where 0 is Sunday and 6 is Saturday.\n",
    "\n",
    "5\\. The result of the `weekday` function is a day of the week as an integer value for a given year, month, and day:\n",
    "\n",
    "`import calendar`\n",
    "\n",
    "`print(calendar.weekday(2020, 9, 29)) # This displays 1, which means Tuesday.`\n",
    "\n",
    "6\\. The `weekheader` function returns the weekday names in a shortened form. The `weekheader` method requires you to specify the width in characters for one day of the week. If the width you provide is greater than 3, you'll still get the abbreviated weekday names consisting of only three characters. For example:\n",
    "\n",
    "`import calendar`\n",
    "\n",
    "`print(calendar.weekheader(2)) # This display: Mo Tu We Th Fr Sa Su`\n",
    "\n",
    "7\\. A very useful function available in the `calendar` module is the function called `isleap`, which, as the name suggests, allows you to check whether the year is a leap year or not:\n",
    "\n",
    "`import calendar`\n",
    "\n",
    "`print(calendar.isleap(2020)) # This displays: True`\n",
    "\n",
    "8\\. You can create a `calendar` object yourself using the `Calendar` class, which, when creating its object, allows you to change the first day of the week with the optional `firstweekday` parameter, e.g.:\n",
    "\n",
    "`import calendar`\n",
    "\n",
    "`c = calendar.Calendar(2)`\n",
    "\n",
    "`for weekday in c.iterweekdays():`\n",
    "\n",
    "`print(weekday, end=\" \")`\n",
    "\n",
    "`# Result: 2 3 4 5 6 0 1`\n",
    "\n",
    "The `iterweekdays` returns an iterator for weekday numbers. The first value returned is always equal to the value of the `firstweekday` property.\n",
    "\n"
   ],
   "metadata": {
    "collapsed": false
   }
  },
  {
   "cell_type": "markdown",
   "source": [
    "\n",
    "**Exercise 1**\n",
    "\n",
    "What is the output of the following snippet?\n",
    "\n",
    "`import calendar print(calendar.weekheader(1))`\n"
   ],
   "metadata": {
    "collapsed": false
   }
  },
  {
   "cell_type": "code",
   "execution_count": 230,
   "outputs": [
    {
     "name": "stdout",
     "output_type": "stream",
     "text": [
      "W T F S S M T\n"
     ]
    }
   ],
   "source": [
    "import calendar\n",
    "print(calendar.weekheader(1))"
   ],
   "metadata": {
    "collapsed": false,
    "ExecuteTime": {
     "end_time": "2023-06-30T19:57:25.859024590Z",
     "start_time": "2023-06-30T19:57:25.754433153Z"
    }
   }
  },
  {
   "cell_type": "markdown",
   "source": [
    "**Exercise 2**\n",
    "\n",
    "What is the output of the following snippet?\n",
    "\n",
    "`import calendar c = calendar.Calendar() for weekday in c.iterweekdays(): print(weekday, end=\" \")`"
   ],
   "metadata": {
    "collapsed": false
   }
  },
  {
   "cell_type": "code",
   "execution_count": 231,
   "outputs": [
    {
     "name": "stdout",
     "output_type": "stream",
     "text": [
      "0 1 2 3 4 5 6 "
     ]
    }
   ],
   "source": [
    "import calendar\n",
    "c = calendar.Calendar()\n",
    "for weekday in c.iterweekdays():\n",
    "    print(weekday, end=\" \")"
   ],
   "metadata": {
    "collapsed": false,
    "ExecuteTime": {
     "end_time": "2023-06-30T19:57:45.961390017Z",
     "start_time": "2023-06-30T19:57:45.766844079Z"
    }
   }
  }
 ],
 "metadata": {
  "kernelspec": {
   "display_name": "Python 3",
   "language": "python",
   "name": "python3"
  },
  "language_info": {
   "codemirror_mode": {
    "name": "ipython",
    "version": 2
   },
   "file_extension": ".py",
   "mimetype": "text/x-python",
   "name": "python",
   "nbconvert_exporter": "python",
   "pygments_lexer": "ipython2",
   "version": "2.7.6"
  }
 },
 "nbformat": 4,
 "nbformat_minor": 0
}

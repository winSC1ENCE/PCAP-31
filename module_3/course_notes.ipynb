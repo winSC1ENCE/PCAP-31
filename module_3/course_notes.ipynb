{
 "cells": [
  {
   "cell_type": "markdown",
   "source": [
    "# Object-Oriented Programming\n",
    "\n",
    "In this module, you will learn about:\n",
    "\n",
    "- Basic concepts of object-oriented programming (OOP)\n",
    "- The differences between the procedural and object approaches (motivations and profits)\n",
    "- Classes, objects, properties, and methods;\n",
    "- Designing reusable classes and creating objects;\n",
    "- Inheritance and polymorphism;\n",
    "- Exceptions as objects."
   ],
   "metadata": {
    "collapsed": false
   }
  },
  {
   "cell_type": "markdown",
   "source": [
    "## The foundations of OOP"
   ],
   "metadata": {
    "collapsed": false
   }
  },
  {
   "cell_type": "markdown",
   "source": [
    "### The basic concepts of the object-oriented approach\n",
    "\n",
    "Let's take a step outside of computer programming and computers in general, and discuss object programming issues.\n",
    "\n",
    "Nearly all of the programs and techniques you have used till now fall under the procedural style of programming. Admittedly, you have made use of some built-in objects, but when referring to them, we just mentioned the absolute minimum.\n",
    "\n",
    "The procedural style of programming was the dominant approach to software development for decades of IT, and it is still in use today. Moreover, it isn't going to disappear in the future, as it works very well for specific types of projects (generally, not very complex ones and not large ones, but there are lots of exceptions to that rule).\n",
    "\n",
    "The object approach is quite young (much younger than the procedural approach) and is particularly useful when applied to big and complex projects carried out by large teams consisting of many developers.\n",
    "\n",
    "This kind of understanding of a project's structure makes many important tasks easier, e.g., dividing the project into small, independent parts, and independent development of different project elements.\n",
    "\n",
    "**Python is a universal tool for both object and procedural programming**. It may be successfully utilized in both spheres.\n",
    "\n",
    "\n",
    "\n",
    "Furthermore, you can create lots of useful applications, even if you know nothing about classes and objects, but you have to keep in mind that some of the problems (e.g., graphical user interface handling) may require a strict object approach.\n",
    "\n",
    "Fortunately, object programming is relatively simple.\n",
    "\n",
    "<img src=\"../img/module_3/a5f01e4d5011f349a3d53504b67d450a2e42f548.jpeg\" alt= “” width=\"400\" height=\"400\">"
   ],
   "metadata": {
    "collapsed": false
   }
  },
  {
   "cell_type": "markdown",
   "source": [
    "### Procedural vs. the object-oriented approach\n",
    "\n",
    "In the **procedural approach**, it's possible to distinguish two different and completely separate worlds: **the world of data, and the world of code**. The world of data is populated with variables of different kinds, while the world of code is inhabited by code grouped into modules and functions.\n",
    "\n",
    "Functions are able to use data, but not vice versa. Furthermore, functions are able to abuse data, i.e., to use the value in an unauthorized manner (e.g., when the sine function gets a bank account balance as a parameter).\n",
    "\n",
    "We said in the past that data cannot use functions. But is this entirely true? Are there some special kinds of data that can use functions?\n",
    "\n",
    "Yes, there are - the ones named methods. These are functions which are invoked from within the data, not beside them. If you can see this distinction, you've taken the first step into object programming.\n",
    "\n",
    "The **object approach** suggests a completely different way of thinking. The data and the code are enclosed together in the same world, divided into classes.\n",
    "\n",
    "Every **class is like a recipe which can be used when you want to create a useful object** (this is where the name of the approach comes from). You may produce as many objects as you need to solve your problem.\n",
    "\n",
    "Every object has a set of traits (they are called properties or attributes - we'll use both words synonymously) and is able to perform a set of activities (which are called methods).\n",
    "\n",
    "The recipes may be modified if they are inadequate for specific purposes and, in effect, new classes may be created. These new classes inherit properties and methods from the originals, and usually add some new ones, creating new, more specific tools.\n",
    "\n",
    "\n",
    "\n",
    "**Objects are incarnations** of ideas expressed in classes, like a cheesecake on your plate is an incarnation of the idea expressed in a recipe printed in an old cookbook.\n",
    "\n",
    "The objects interact with each other, exchanging data or activating their methods. A properly constructed class (and thus, its objects) are able to protect the sensible data and hide it from unauthorized modifications.\n",
    "\n",
    "There is no clear border between data and code: they live as one in objects.\n",
    "\n",
    "All these concepts are not as abstract as you may at first suspect. On the contrary, they all are taken from real-life experiences, and therefore are extremely useful in computer programming: they don't create artificial life - **they reflect real facts, relationships, and circumstances**.\n",
    "\n",
    "<img src=\"../img/module_3/2746184e3dea52e1a39df3b1ae510e9dd99e34bc.png\" alt= “” width=\"50%\" height=\"50%\">"
   ],
   "metadata": {
    "collapsed": false
   }
  },
  {
   "cell_type": "markdown",
   "source": [
    "### Class hierarchies\n",
    "\n",
    "The word _class_ has many meanings, but not all of them are compatible with the ideas we want to discuss here. The _class_ that we are concerned with is like a _category_, as a result of precisely defined similarities.\n",
    "\n",
    "We'll try to point out a few classes which are good examples of this concept.\n",
    "\n",
    "<img src=\"../img/module_3/09e4ad95eae46acc8e0f6427751452cbd255b004.png\" alt= “” width=\"50%\" height=\"50%\">\n",
    "\n",
    "Let's look for a moment at vehicles. All existing vehicles (and those that don't exist yet) are **related by a single, important feature**: the ability to move. You may argue that a dog moves, too; is a dog a vehicle? No, it isn't. We have to improve the definition, i.e., enrich it with other criteria, distinguishing vehicles from other beings, and creating a stronger connection. Let's take the following circumstances into consideration: vehicles are artificially created entities used for transportation, moved by forces of nature, and directed (driven) by humans.\n",
    "\n",
    "Based on this definition, a dog is not a vehicle.\n",
    "\n",
    "The _vehicles_ class is very broad. Too broad. We have to define some more **specialized classes**, then. The specialized classes are the **subclasses**. The _vehicles_ class will be a **superclass** for them all.\n",
    "\n",
    "\n",
    "\n",
    "Note: **the hierarchy grows from top to bottom, like tree roots, not branches**. The most general, and the widest, class is always at the top (the superclass) while its descendants are located below (the subclasses).\n",
    "\n",
    "By now, you can probably point out some potential subclasses for the _Vehicles_ superclass. There are many possible classifications. We've chosen subclasses based on the environment, and say that there are (at least) four subclasses:\n",
    "\n",
    "-   land vehicles;\n",
    "-   water vehicles;\n",
    "-   air vehicles;\n",
    "-   space vehicles.\n",
    "\n",
    "In this example, we'll discuss the first subclass only - land vehicles. If you wish, you can continue with the remaining classes.\n",
    "\n",
    "Land vehicles may be further divided, depending on the method with which they impact the ground. So, we can enumerate:\n",
    "\n",
    "-   wheeled vehicles;\n",
    "-   tracked vehicles;\n",
    "-   hovercrafts.\n",
    "\n",
    "The hierarchy we've created is illustrated by the figure.\n",
    "\n",
    "Note the direction of the arrows - they always point to the superclass. The top-level class is an exception - it doesn't have its own superclass.\n",
    "\n",
    "Be the first to leave a comment!"
   ],
   "metadata": {
    "collapsed": false
   }
  },
  {
   "cell_type": "markdown",
   "source": [
    "### Class hierarchies: continued\n",
    "\n",
    "Another example is the hierarchy of the taxonomic kingdom of animals.\n",
    "\n",
    "We can say that all _animals_ (our top-level class) can be divided into five subclasses:\n",
    "\n",
    "-   mammals;\n",
    "-   reptiles;\n",
    "-   birds;\n",
    "-   fish;\n",
    "-   amphibians.\n",
    "\n",
    "We'll take the first one for further analysis.\n",
    "\n",
    "We have identified the following subclasses:\n",
    "\n",
    "-   wild mammals;\n",
    "-   domesticated mammals.\n",
    "\n",
    "\n",
    "\n",
    "![The concept of class hierarchies: animals](https://edube.org/uploads/media/default/0001/01/ba793dabd8d611439ef7e513755c5f090bb8f222.png)\n",
    "<img src=\"../img/module_3/ba793dabd8d611439ef7e513755c5f090bb8f222.png\" alt= “” width=\"50%\" height=\"50%\">\n",
    "\n",
    "Try to extend the hierarchy any way you want, and find the right place for humans."
   ],
   "metadata": {
    "collapsed": false
   }
  },
  {
   "cell_type": "markdown",
   "source": [
    "### What is an object?\n",
    "\n",
    "A class (among other definitions) is a **set of objects**. An object is **a being belonging to a class**.\n",
    "\n",
    "An object is **an incarnation of the requirements, traits, and qualities assigned to a specific class**. This may sound simple, but note the following important circumstances. Classes form a hierarchy.\n",
    "\n",
    "This may mean that an object belonging to a specific class belongs to all the superclasses at the same time. It may also mean that any object belonging to a superclass may not belong to any of its subclasses.\n",
    "\n",
    "For example: any personal car is an object belonging to the _wheeled vehicles_ class. It also means that the same car belongs to all superclasses of its home class; therefore, it is a member of the _vehicles_ class, too.\n",
    "\n",
    "Your dog (or your cat) is an object included in the _domesticated mammals_ class, which explicitly means that it is included in the _animals_ class as well.\n",
    "\n",
    "Each **subclass is more specialized** (or more specific) than its superclass. Conversely, each **superclass is more general** (more abstract) than any of its subclasses.\n",
    "\n",
    "Note that we've presumed that a class may only have one superclass - this is not always true, but we'll discuss this issue more a bit later.\n",
    "\n",
    "## Inheritance\n",
    "\n",
    "Let's define one of the fundamental concepts of object programming, named **inheritance**. Any object bound to a specific level of a class hierarchy **inherits all the traits (as well as the requirements and qualities) defined inside any of the superclasses**.\n",
    "\n",
    "The object's home class may define new traits (as well as requirements and qualities) which will be inherited by any of its subclasses.\n",
    "\n",
    "<img src=\"../img/module_3/a099081349764cfda3d91329ee4a3345643802d4.png\" alt= “” width=\"50%\" height=\"50%\">\n",
    "\n",
    "You shouldn't have any problems matching this rule to specific examples, whether it applies to animals, or to vehicles.m"
   ],
   "metadata": {
    "collapsed": false
   }
  },
  {
   "cell_type": "markdown",
   "source": [
    "### What does an object have?\n",
    "\n",
    "The object programming convention assumes that **every existing object may be equipped with three groups of attributes**:\n",
    "\n",
    "-   an object has a **name** that uniquely identifies it within its home namespace (although there may be some anonymous objects, too)\n",
    "-   an object has a **set of individual properties** which make it original, unique, or outstanding (although it's possible that some objects may have no properties at all)\n",
    "-   an object has a **set of abilities to perform specific activities**, able to change the object itself, or some of the other objects.\n",
    "\n",
    "There is a hint (although this doesn't always work) which can help you identify any of the three spheres above. Whenever you describe an object and you use:\n",
    "\n",
    "-   a noun – you probably define the object's name;\n",
    "-   an adjective – you probably define the object's property;\n",
    "-   a verb – you probably define the object's activity.\n",
    "\n",
    "Two sample phrases should serve as a good example:\n",
    "\n",
    "-   A pink Cadillac went quickly.\n",
    "\n",
    "    Object name = Cadillac\n",
    "    Home class = Wheeled vehicles\n",
    "    Property = Color (pink)\n",
    "    Activity = Go (quickly)m"
   ],
   "metadata": {
    "collapsed": false
   }
  },
  {
   "cell_type": "markdown",
   "source": [
    "### Your first class\n",
    "\n",
    "Object programming is **the art of defining and expanding classes**. A class is a model of a very specific part of reality, reflecting properties and activities found in the real world.\n",
    "\n",
    "The classes defined at the beginning are too general and imprecise to cover the largest possible number of real cases.\n",
    "\n",
    "There's no obstacle to defining new, more precise subclasses. They'll inherit everything from their superclass, so the work that went into its creation isn't wasted.\n",
    "\n",
    "The new class may add new properties and new activities, and therefore may be more useful in specific applications. Obviously, it may be used as a superclass for any number of newly created subclasses.\n",
    "\n",
    "The process doesn't need to have an end. You can create as many classes as you need.\n",
    "\n",
    "The class you define has nothing to do with the object: **the existence of a class does not mean that any of the compatible objects will automatically be created**. The class itself isn't able to create an object - you have to create it yourself, and Python allows you to do this.\n",
    "\n",
    "It's time to define the simplest class and to create an object. Take a look at the example below:\n",
    "\n",
    "`class TheSimplestClass:`\n",
    "\n",
    "`pass`\n",
    "\n",
    "We've defined a class there. The class is rather poor: it has neither properties nor activities. It's **empty**, actually, but that doesn't matter for now. The simpler the class, the better for our purposes.\n",
    "\n",
    "**The definition begins with the keyword `class`**. The keyword is followed by an **identifier which will name the class** (note: don't confuse it with the object's name - these are two different things).\n",
    "\n",
    "Next, you add a **colon** (`:`), as classes, like functions, form their own nested block. The content inside the block define all the class's properties and activities.\n",
    "\n",
    "The `pass` keyword fills the class with nothing. It doesn't contain any methods or properties.\n",
    "\n",
    "## Your first object\n",
    "\n",
    "The newly defined class becomes a tool that is able to create new objects. The tool has to be used explicitly, on demand.\n",
    "\n",
    "Imagine that you want to create one (exactly one) object of the `TheSimplestClass` class.\n",
    "\n",
    "To do this, you need to assign a variable to store the newly created object of that class, and create an object at the same time.\n",
    "\n",
    "You do it in the following way:\n",
    "\n",
    "`my_first_object = TheSimplestClass()`\n",
    "\n",
    "Note:\n",
    "\n",
    "-   the class name tries to pretend that it's a function - can you see this? We'll discuss it soon;\n",
    "-   the newly created object is equipped with everything the class brings; as this class is completely empty, the object is empty, too.\n",
    "\n",
    "The act of creating an object of the selected class is also called an **instantiation** (as the object becomes an **instance of the class**).\n",
    "\n",
    "Let's leave classes alone for a short moment, as we're now going to tell you a few words about _stacks_. We know the concept of classes and objects may not be fully clear yet. Don't worry, we'll explain everything very soon."
   ],
   "metadata": {
    "collapsed": false
   }
  },
  {
   "cell_type": "markdown",
   "source": [
    "### Key takeaways\n",
    "\n",
    "1\\. A **class** is an idea (more or less abstract) which can be used to create a number of incarnations – such an incarnation is called an **object**.\n",
    "\n",
    "2\\. When a class is derived from another class, their relation is named **inheritance**. The class which derives from the other class is named a **subclass**. The second side of this relation is named **superclass**. A way to present such a relation is an **inheritance diagram**, where:\n",
    "\n",
    "-   superclasses are always presented **above** their subclasses;\n",
    "-   relations between classes are shown as arrows directed **from the subclass toward its superclass**.\n",
    "\n",
    "3\\. Objects are equipped with:\n",
    "\n",
    "-   a **name** which identifies them and allows us to distinguish between them;\n",
    "-   a set of **properties** (the set can be empty)\n",
    "-   a set of **methods** (can be empty, too)\n",
    "\n",
    "4\\. To define a Python class, you need to use the `class` keyword. For example:\n",
    "\n",
    "`class This_Is_A_Class:`\n",
    "\n",
    "`pass`\n",
    "\n",
    "5\\. To create an object of the previously defined class, you need to use the class as if it were a function. For example:\n",
    "\n",
    "`this_is_an_object = This_Is_A_Class()`\n",
    "\n",
    "\n",
    "\n",
    "**Exercise 1**\n",
    "\n",
    "If we assume that pythons, vipers, and cobras are subclasses of the same superclass, how would you call it?\n",
    "\n",
    "<details>\n",
    "  <summary>Click me</summary>\n",
    "\n",
    "\tSnake, reptile, vertebrate, animal – all these answers are acceptable.\n",
    "\n",
    "</details>\n",
    "\n",
    "**Exercise 2**\n",
    "\n",
    "Try to name a few python class subclasses.\n",
    "\n",
    "<details>\n",
    "  <summary>Click me</summary>\n",
    "\n",
    "\tIndian python, African rock python, ball python, Burmese python – the list is long.\n",
    "</details>\n",
    "\n",
    "**Exercise 3**\n",
    "\n",
    "Can you name one of your classes just \"class\"?\n",
    "\n",
    "<details>\n",
    "  <summary>Click me</summary>\n",
    "\n",
    "\tNo, you can't – class is a keyword!\n",
    "\n",
    "</details>"
   ],
   "metadata": {
    "collapsed": false
   }
  },
  {
   "cell_type": "markdown",
   "source": [
    "## A short journey from procedural to object approach"
   ],
   "metadata": {
    "collapsed": false
   }
  },
  {
   "cell_type": "markdown",
   "source": [
    "### What is a stack?\n",
    "\n",
    "**A stack is a structure developed to store data in a very specific way**. Imagine a stack of coins. You aren't able to put a coin anywhere else but on the top of the stack.\n",
    "\n",
    "Similarly, you can't get a coin off the stack from any place other than the top of the stack. If you want to get the coin that lies on the bottom, you have to remove all the coins from the higher levels.\n",
    "\n",
    "The alternative name for a stack (but only in IT terminology) is **LIFO**.\n",
    "\n",
    "It's an abbreviation for a very clear description of the stack's behavior: **Last In - First Out**. The coin that came last onto the stack will leave first.\n",
    "\n",
    "**A stack is an object** with two elementary operations, conventionally named **push** (when a new element is put on the top) and **pop** (when an existing element is taken away from the top).\n",
    "\n",
    "Stacks are used very often in many classical algorithms, and it's hard to imagine the implementation of many widely used tools without the use of stacks.\n",
    "\n",
    "\n",
    "<img src=\"../img/module_3/ffe6a36f13d0c549e0a01688e5e372a36421e84a.png\" alt= “” width=\"50%\" height=\"50%\">\n",
    "\n",
    "Let's implement a stack in Python. This will be a very simple stack, and we'll show you how to do it in two independent approaches: procedural and objective.\n",
    "\n",
    "Let's start with the first one."
   ],
   "metadata": {
    "collapsed": false
   }
  },
  {
   "cell_type": "markdown",
   "source": [
    "### The stack - the procedural approach\n",
    "\n",
    "First, you have to decide how to store the values which will arrive onto the stack. We suggest using the simplest of methods, and **employing a list** for this job. Let's assume that the size of the stack is not limited in any way. Let's also assume that the last element of the list stores the top element.\n",
    "\n",
    "The stack itself is already created:\n",
    "\n",
    "`stack = []`\n",
    "\n",
    "We're ready to **define a function that puts a value onto the stack**. Here are the presuppositions for it:\n",
    "\n",
    "-   the name for the function is `push`;\n",
    "-   the function gets one parameter (this is the value to be put onto the stack)\n",
    "-   the function returns nothing;\n",
    "-   the function appends the parameter's value to the end of the stack;\n",
    "\n",
    "This is how we've done it - take a look:\n",
    "\n",
    "`def push(val):`\n",
    "\n",
    "`stack.append(val)`\n",
    "\n",
    "Now it's time for a **function to take a value off the stack**. This is how you can do it:\n",
    "\n",
    "-   the name of the function is pop;\n",
    "-   the function doesn't get any parameters;\n",
    "-   the function returns the value taken from the stack\n",
    "-   the function reads the value from the top of the stack and removes it.\n",
    "\n",
    "The function is here:\n",
    "\n",
    "`def pop():`\n",
    "\n",
    "`val = stack[-1]`\n",
    "\n",
    "`del stack[-1]`\n",
    "\n",
    "`return val`\n",
    "\n",
    "Note: the function doesn't check if there is any element in the stack.\n",
    "\n",
    "Let's assemble all the pieces together to set the stack in motion. The **complete program** pushes three numbers onto the stack, pulls them off, and prints their values on the screen. You can see it in the editor window.\n",
    "\n",
    "The program outputs the following text to the screen:\n",
    "\n",
    "`1 2 3`\n",
    "\n",
    "Test it"
   ],
   "metadata": {
    "collapsed": false
   }
  },
  {
   "cell_type": "code",
   "execution_count": 1,
   "outputs": [],
   "source": [
    "stack = []\n",
    "\n",
    "\n",
    "def push(val):\n",
    "    stack.append(val)\n",
    "\n",
    "\n",
    "def pop():\n",
    "    val = stack[-1]\n",
    "    del stack[-1]\n",
    "    return val\n"
   ],
   "metadata": {
    "collapsed": false,
    "ExecuteTime": {
     "end_time": "2023-05-27T15:00:38.252984012Z",
     "start_time": "2023-05-27T15:00:38.251742578Z"
    }
   }
  },
  {
   "cell_type": "code",
   "execution_count": 2,
   "outputs": [],
   "source": [
    "push(3)\n",
    "push(2)\n",
    "push(1)\n"
   ],
   "metadata": {
    "collapsed": false,
    "ExecuteTime": {
     "end_time": "2023-05-27T15:00:49.382786137Z",
     "start_time": "2023-05-27T15:00:49.376766211Z"
    }
   }
  },
  {
   "cell_type": "code",
   "execution_count": 3,
   "outputs": [
    {
     "name": "stdout",
     "output_type": "stream",
     "text": [
      "1\n",
      "2\n",
      "3\n"
     ]
    }
   ],
   "source": [
    "print(pop())\n",
    "print(pop())\n",
    "print(pop())\n"
   ],
   "metadata": {
    "collapsed": false,
    "ExecuteTime": {
     "end_time": "2023-05-27T15:01:02.352197267Z",
     "start_time": "2023-05-27T15:01:02.306511441Z"
    }
   }
  },
  {
   "cell_type": "code",
   "execution_count": 4,
   "outputs": [
    {
     "name": "stdout",
     "output_type": "stream",
     "text": [
      "[]\n"
     ]
    }
   ],
   "source": [
    "print(stack)"
   ],
   "metadata": {
    "collapsed": false,
    "ExecuteTime": {
     "end_time": "2023-05-27T15:03:25.946843322Z",
     "start_time": "2023-05-27T15:03:25.898307737Z"
    }
   }
  },
  {
   "cell_type": "code",
   "execution_count": 5,
   "outputs": [
    {
     "ename": "IndexError",
     "evalue": "list index out of range",
     "output_type": "error",
     "traceback": [
      "\u001B[0;31m---------------------------------------------------------------------------\u001B[0m",
      "\u001B[0;31mIndexError\u001B[0m                                Traceback (most recent call last)",
      "Cell \u001B[0;32mIn[5], line 1\u001B[0m\n\u001B[0;32m----> 1\u001B[0m \u001B[38;5;28mprint\u001B[39m(\u001B[43mpop\u001B[49m\u001B[43m(\u001B[49m\u001B[43m)\u001B[49m)\n",
      "Cell \u001B[0;32mIn[1], line 9\u001B[0m, in \u001B[0;36mpop\u001B[0;34m()\u001B[0m\n\u001B[1;32m      8\u001B[0m \u001B[38;5;28;01mdef\u001B[39;00m \u001B[38;5;21mpop\u001B[39m():\n\u001B[0;32m----> 9\u001B[0m     val \u001B[38;5;241m=\u001B[39m \u001B[43mstack\u001B[49m\u001B[43m[\u001B[49m\u001B[38;5;241;43m-\u001B[39;49m\u001B[38;5;241;43m1\u001B[39;49m\u001B[43m]\u001B[49m\n\u001B[1;32m     10\u001B[0m     \u001B[38;5;28;01mdel\u001B[39;00m stack[\u001B[38;5;241m-\u001B[39m\u001B[38;5;241m1\u001B[39m]\n\u001B[1;32m     11\u001B[0m     \u001B[38;5;28;01mreturn\u001B[39;00m val\n",
      "\u001B[0;31mIndexError\u001B[0m: list index out of range"
     ]
    }
   ],
   "source": [
    "print(pop())"
   ],
   "metadata": {
    "collapsed": false,
    "ExecuteTime": {
     "end_time": "2023-05-27T15:03:34.831448628Z",
     "start_time": "2023-05-27T15:03:34.568284829Z"
    }
   }
  },
  {
   "cell_type": "markdown",
   "source": [
    "### The stack - the procedural approach vs. the object-oriented approach\n",
    "\n",
    "The procedural stack is ready. Of course, there are some weaknesses, and the implementation could be improved in many ways (harnessing exceptions to work is a good idea), but in general the stack is fully implemented, and you can use it if you need to.\n",
    "\n",
    "But the more often you use it, the more disadvantages you'll encounter. Here are some of them:\n",
    "\n",
    "-   the essential variable (the stack list) is highly **vulnerable**; anyone can modify it in an uncontrollable way, destroying the stack, in effect; this doesn't mean that it's been done maliciously - on the contrary, it may happen as a result of carelessness, e.g., when somebody confuses variable names; imagine that you have accidentally written something like this:\n",
    "    The functioning of the stack will be completely disorganized;\n",
    "\n",
    "-   it may also happen that one day you need more than one stack; you'll have to create another list for the stack's storage, and probably other `push` and `pop` functions too;\n",
    "\n",
    "-   it may also happen that you need not only `push` and `pop` functions, but also some other conveniences; you could certainly implement them, but try to imagine what would happen if you had dozens of separately implemented stacks.\n",
    "\n",
    "\n",
    "\n",
    "The objective approach delivers solutions for each of the above problems. Let's name them first:\n",
    "\n",
    "-   the ability to hide (protect) selected values against unauthorized access is called **encapsulation; the encapsulated values can be neither accessed nor modified if you want to use them exclusively**;\n",
    "\n",
    "-   when you have a class implementing all the needed stack behaviors, you can produce as many stacks as you want; you needn't copy or replicate any part of the code;\n",
    "\n",
    "-   the ability to enrich the stack with new functions comes from inheritance; you can create a new class (a subclass) which inherits all the existing traits from the superclass, and adds some new ones.\n",
    "\n",
    "\n",
    "<img src=\"../img/module_3/00f7cd2f53aecda61072500eac63095453d5fb08.png\" alt= “” width=\"50%\" height=\"50%\">\n",
    "\n",
    "Let's now write a brand new stack implementation from scratch. This time, we'll use the objective approach, guiding you step by step into the world of object programming."
   ],
   "metadata": {
    "collapsed": false
   }
  },
  {
   "cell_type": "markdown",
   "source": [],
   "metadata": {
    "collapsed": false
   }
  },
  {
   "cell_type": "markdown",
   "source": [
    "\n",
    "### The stack - the object approach\n",
    "\n",
    "Of course, the main idea remains the same. We'll use a list as the stack's storage. We only have to know how to put the list into the class.\n",
    "\n",
    "Let's start from the absolute beginning - this is how the objective stack begins:\n",
    "\n",
    "`class Stack:`\n",
    "\n",
    "Now, we expect two things from it:\n",
    "\n",
    "-   we want the class to have **one property as the stack's storage** - we have to **\"install\" a list inside each object of the class** (note: each object has to have its own list - the list mustn't be shared among different stacks)\n",
    "-   then, we want **the list to be hidden** from the class users' sight.\n",
    "\n",
    "How is this done?\n",
    "\n",
    "In contrast to other programming languages, Python has no means of allowing you to declare such a property just like that.\n",
    "\n",
    "Instead, you need to add a specific statement or instruction. The properties have to be added to the class manually.\n",
    "\n",
    "How do you guarantee that such an activity takes place every time the new stack is created?\n",
    "\n",
    "There is a simple way to do it - you have to **equip the class with a specific function** - its specificity is dual:\n",
    "\n",
    "-   it has to be named in a strict way;\n",
    "-   it is invoked implicitly, when the new object is created.\n",
    "\n",
    "Such a function is called a **constructor**, as its general purpose is to **construct a new object**. The constructor should know everything about the object's structure, and must perform all the needed initializations.\n",
    "\n",
    "Let's add a very simple constructor to the new class. Take a look at the snippet:\n",
    "\n",
    "`class Stack:`\n",
    "\n",
    "`def __init__(self):`\n",
    "\n",
    "`print(\"Hi!\")`\n",
    "\n",
    "`stack_object = Stack()`\n",
    "\n",
    "And now:\n",
    "\n",
    "-   the constructor's name is always `__init__`;\n",
    "-   it has to have **at least one parameter** (we'll discuss this later); the parameter is used to represent the newly created object - you can use the parameter to manipulate the object, and to enrich it with the needed properties; you'll make use of this soon;\n",
    "-   note: the obligatory parameter is usually named `self` - it's only **a convention, but you should follow it** - it simplifies the process of reading and understanding your code.\n",
    "\n",
    "The code is in the editor. Run it now.\n",
    "\n",
    "Here is its output:\n",
    "\n",
    "`Hi!`\n",
    "\n",
    "**output**\n",
    "\n",
    "Note - there is no trace of invoking the constructor inside the code. It has been invoked implicitly and automatically. Let's make use of that now."
   ],
   "metadata": {
    "collapsed": false
   }
  },
  {
   "cell_type": "code",
   "execution_count": 6,
   "outputs": [
    {
     "name": "stdout",
     "output_type": "stream",
     "text": [
      "Hi!\n"
     ]
    }
   ],
   "source": [
    "class Stack:  # Defining the Stack class.\n",
    "    def __init__(self):  # Defining the constructor function.\n",
    "        print(\"Hi!\")\n",
    "\n",
    "\n",
    "stack_object = Stack()  # Instantiating the object."
   ],
   "metadata": {
    "collapsed": false,
    "ExecuteTime": {
     "end_time": "2023-05-27T15:11:24.194753196Z",
     "start_time": "2023-05-27T15:11:24.164034087Z"
    }
   }
  },
  {
   "cell_type": "markdown",
   "source": [
    "### The stack – the object approach: continued\n",
    "\n",
    "Any change you make inside the constructor that modifies the state of the `self` parameter will be reflected in the newly created object.\n",
    "\n",
    "This means you can add any property to the object and the property will remain there until the object finishes its life or the property is explicitly removed.\n",
    "\n",
    "Now let's **add just one property to the new object** – a list for a stack. We'll name it `stack_list`.\n",
    "\n",
    "Just like here:\n",
    "\n",
    "`class Stack:`\n",
    "\n",
    "`def __init__(self):`\n",
    "\n",
    "`self.stack_list = []`\n",
    "\n",
    "`stack_object = Stack()`\n",
    "\n",
    "`print(len(stack_object.stack_list))`\n",
    "\n",
    "Note:\n",
    "\n",
    "-   we've used **dot notation**, just like when invoking methods; this is the general convention for accessing an object's properties  you need to name the object, put a dot (`.`) after it, and specify the desired property's name; don't use parentheses! You don't want to invoke a method – you want to **access a property**;\n",
    "-   if you set a property's value for the very first time (like in the constructor), you are creating it; from that moment on, the object has got the property and is ready to use its value;\n",
    "-   we've done something more in the code – we've tried to access the `stack_list` property from outside the class immediately after the object has been created; we want to check the current length of the stack – have we succeeded?\n",
    "\n",
    "Yes, we have – the code produces the following output:\n",
    "\n",
    "`0`\n",
    "\n",
    "**output**\n",
    "\n",
    "This is not what we want from the stack. We prefer `stack_list` to be **hidden from the outside world**. Is that possible?\n",
    "\n",
    "Yes, and it's simple, but not very intuitive."
   ],
   "metadata": {
    "collapsed": false
   }
  },
  {
   "cell_type": "code",
   "execution_count": 7,
   "outputs": [
    {
     "name": "stdout",
     "output_type": "stream",
     "text": [
      "0\n"
     ]
    }
   ],
   "source": [
    "class Stack:\n",
    "    def __init__(self):\n",
    "        self.stack_list = []\n",
    "\n",
    "\n",
    "stack_object = Stack()\n",
    "print(len(stack_object.stack_list))"
   ],
   "metadata": {
    "collapsed": false,
    "ExecuteTime": {
     "end_time": "2023-05-27T15:15:00.030680457Z",
     "start_time": "2023-05-27T15:15:00.003063559Z"
    }
   }
  },
  {
   "cell_type": "markdown",
   "source": [
    "### The stack - the object approach: continued\n",
    "\n",
    "Take a look - we've added two underscores before the `stack_list` name - nothing more:\n",
    "\n",
    "`class Stack: def __init__(self): self.__stack_list = [] stack_object = Stack() print(len(stack_object.__stack_list))`\n",
    "\n",
    "The change invalidates the program.\n",
    "\n",
    "Why?\n",
    "\n",
    "When any class component has a **name starting with two underscores (`__`), it becomes private** - this means that it can be accessed only from within the class.\n",
    "\n",
    "You cannot see it from the outside world. This is how Python implements the **encapsulation** concept.\n",
    "\n",
    "Run the program to test our assumptions - an AttributeError exception should be raised.\n"
   ],
   "metadata": {
    "collapsed": false
   }
  },
  {
   "cell_type": "code",
   "execution_count": 9,
   "outputs": [
    {
     "name": "stdout",
     "output_type": "stream",
     "text": [
      "0\n"
     ]
    }
   ],
   "source": [
    "class Stack:\n",
    "    def __init__(self):\n",
    "        self.__stack_list = []\n",
    "\n",
    "\n",
    "stack_object = Stack()\n",
    "print(len(stack_object.__stack_list))"
   ],
   "metadata": {
    "collapsed": false,
    "ExecuteTime": {
     "end_time": "2023-05-27T15:18:09.078680023Z",
     "start_time": "2023-05-27T15:18:09.036793079Z"
    }
   }
  },
  {
   "cell_type": "markdown",
   "source": [
    "\"_\" (variable used internaly) instead of \"__\" (real private variable)\n",
    "\n",
    "A single leading underscore in front of a variable, a function, or a method name means that these objects are used internally.\n",
    "\n",
    "This is more of a syntax hint to the programmer and is not enforced by the Python interpreter which means that these objects can still be accessed in one way on another from another script.\n",
    "\n",
    "However, there’s a situation where a variable that has a leading underscore cannot be accessed. This is when the variable is prefixed with two underscores.\n",
    "\n",
    "In this case, the variable becomes private and cannot be accessed from outside the class."
   ],
   "metadata": {
    "collapsed": false
   }
  },
  {
   "cell_type": "code",
   "execution_count": 11,
   "outputs": [
    {
     "name": "stdout",
     "output_type": "stream",
     "text": [
      "0\n"
     ]
    }
   ],
   "source": [
    "class Stack:\n",
    "    def __init__(self):\n",
    "        self._stack_list = [] # not private but internal\n",
    "\n",
    "\n",
    "stack_object = Stack()\n",
    "print(len(stack_object._stack_list))"
   ],
   "metadata": {
    "collapsed": false,
    "ExecuteTime": {
     "end_time": "2023-05-27T15:21:23.303287097Z",
     "start_time": "2023-05-27T15:21:23.298219656Z"
    }
   }
  },
  {
   "cell_type": "markdown",
   "source": [
    "### The object approach: a stack from scratch\n",
    "\n",
    "Now it's time for the two functions (methods) implementing the _push_ and _pop_ operations. Python assumes that a function of this kind (a class activity) should be **immersed inside the class body** - just like a constructor.\n",
    "\n",
    "We want to invoke these functions to `push` and `pop` values. This means that they should both be accessible to every class's user (in contrast to the previously constructed list, which is hidden from the ordinary class's users).\n",
    "\n",
    "Such a component is called **public**, so you **can't begin its name with two (or more) underscores**. There is one more requirement - **the name must have no more than one trailing underscore**. As no trailing underscores at all fully meets the requirement, you can assume that the name is acceptable.\n",
    "\n",
    "The functions themselves are simple. Take a look:\n",
    "```python\n",
    "class Stack:\n",
    "    def __init__(self):\n",
    "        self.__stack_list = []\n",
    "\n",
    "    def push(self, val):\n",
    "        self.__stack_list.append(val)\n",
    "\n",
    "    def pop(self):\n",
    "        val = self.__stack_list[-1]\n",
    "        del self.__stack_list[-1]\n",
    "        return val\n",
    "\n",
    "\n",
    "stack_object = Stack()\n",
    "\n",
    "stack_object.push(3)\n",
    "stack_object.push(2)\n",
    "stack_object.push(1)\n",
    "\n",
    "print(stack_object.pop())\n",
    "print(stack_object.pop())\n",
    "print(stack_object.pop())\n",
    "```\n",
    "However, there's something really strange in the code. The functions look familiar, but they have more parameters than their procedural counterparts.\n",
    "\n",
    "Here, both functions have a parameter named `self` at the first position of the parameters list.\n",
    "\n",
    "Is it needed? Yes, it is.\n",
    "\n",
    "All methods have to have this parameter. It plays the same role as the first constructor parameter.\n",
    "\n",
    "**It allows the method to access entities (properties and activities/methods) carried out by the actual object**. You cannot omit it. Every time Python invokes a method, it implicitly sends the current object as the first argument.\n",
    "\n",
    "This means that a **method is obligated to have at least one parameter, which is used by Python itself** - you don't have any influence on it.\n",
    "\n",
    "If your method needs no parameters at all, this one must be specified anyway. If it's designed to process just one parameter, you have to specify two, and the first one's role is still the same.\n",
    "\n",
    "There is one more thing that requires explanation - the way in which methods are invoked from within the `__stack_list` variable.\n",
    "\n",
    "Fortunately, it's much simpler than it looks:\n",
    "\n",
    "-   the first stage delivers the object as a whole → `self`;\n",
    "-   next, you need to get to the `__stack_list` list → `self.__stack_list`;\n",
    "-   with `__stack_list` ready to be used, you can perform the third and last step → `self.__stack_list.append(val)`.\n",
    "\n",
    "The class declaration is complete, and all its components have been listed. The class is ready for use."
   ],
   "metadata": {
    "collapsed": false
   }
  },
  {
   "cell_type": "code",
   "execution_count": 12,
   "outputs": [],
   "source": [
    "class Stack:\n",
    "    def __init__(self):\n",
    "        self.__stack_list = []\n",
    "\n",
    "\n",
    "    def push(self, val):\n",
    "        self.__stack_list.append(val)\n",
    "\n",
    "\n",
    "    def pop(self):\n",
    "        val = self.__stack_list[-1]\n",
    "        del self.__stack_list[-1]\n",
    "        return val\n",
    "\n",
    "\n",
    "stack_object = Stack()"
   ],
   "metadata": {
    "collapsed": false,
    "ExecuteTime": {
     "end_time": "2023-05-27T18:01:41.894402376Z",
     "start_time": "2023-05-27T18:01:41.877457100Z"
    }
   }
  },
  {
   "cell_type": "code",
   "execution_count": 13,
   "outputs": [],
   "source": [
    "stack_object.push(3)\n",
    "stack_object.push(2)\n",
    "stack_object.push(1)"
   ],
   "metadata": {
    "collapsed": false,
    "ExecuteTime": {
     "end_time": "2023-05-27T18:01:51.567535231Z",
     "start_time": "2023-05-27T18:01:51.547044154Z"
    }
   }
  },
  {
   "cell_type": "code",
   "execution_count": 14,
   "outputs": [
    {
     "name": "stdout",
     "output_type": "stream",
     "text": [
      "1\n",
      "2\n",
      "3\n"
     ]
    }
   ],
   "source": [
    "print(stack_object.pop())\n",
    "print(stack_object.pop())\n",
    "print(stack_object.pop())\n"
   ],
   "metadata": {
    "collapsed": false,
    "ExecuteTime": {
     "end_time": "2023-05-27T18:01:58.866720569Z",
     "start_time": "2023-05-27T18:01:58.828426977Z"
    }
   }
  },
  {
   "cell_type": "markdown",
   "source": [
    "The __stack_list is not accessible from outside the class."
   ],
   "metadata": {
    "collapsed": false
   }
  },
  {
   "cell_type": "markdown",
   "source": [
    "### The object approach: a stack from scratch\n",
    "\n",
    "Having such a class opens up some new possibilities. For example, you can now have more than one stack behaving in the same way. Each stack will have its own copy of private data, but will utilize the same set of methods.\n",
    "\n",
    "This is exactly what we want for this example.\n",
    "\n",
    "Analyze the code:\n",
    "\n",
    "```python\n",
    "class Stack:\n",
    "    def __init__(self):\n",
    "        self.__stack_list = []\n",
    "\n",
    "    def push(self, val):\n",
    "        self.__stack_list.append(val)\n",
    "\n",
    "    def pop(self):\n",
    "        val = self.__stack_list[-1]\n",
    "        del self.__stack_list[-1]\n",
    "        return val\n",
    "\n",
    "\n",
    "stack_object_1 = Stack()\n",
    "stack_object_2 = Stack()\n",
    "\n",
    "stack_object_1.push(3)\n",
    "stack_object_2.push(stack_object_1.pop())\n",
    "\n",
    "print(stack_object_2.pop())\n",
    "\n",
    "```\n",
    "\n",
    "There are **two stacks created from the same base class**. They work **independently**. You can make more of them if you want to.\n",
    "\n",
    "Run the code in the editor and see what happens. Carry out your own experiments."
   ],
   "metadata": {
    "collapsed": false
   }
  },
  {
   "cell_type": "code",
   "execution_count": 17,
   "outputs": [],
   "source": [
    "class Stack:\n",
    "    def __init__(self):\n",
    "        self.__stack_list = []\n",
    "\n",
    "    def push(self, val):\n",
    "        self.__stack_list.append(val)\n",
    "\n",
    "    def pop(self):\n",
    "        val = self.__stack_list[-1]\n",
    "        del self.__stack_list[-1]\n",
    "        return val"
   ],
   "metadata": {
    "collapsed": false,
    "ExecuteTime": {
     "end_time": "2023-05-27T18:07:06.430354548Z",
     "start_time": "2023-05-27T18:07:06.386351196Z"
    }
   }
  },
  {
   "cell_type": "code",
   "execution_count": 18,
   "outputs": [
    {
     "name": "stdout",
     "output_type": "stream",
     "text": [
      "3\n"
     ]
    }
   ],
   "source": [
    "stack_object_1 = Stack()\n",
    "stack_object_2 = Stack()\n",
    "\n",
    "stack_object_1.push(3)\n",
    "stack_object_2.push(stack_object_1.pop())\n",
    "\n",
    "print(stack_object_2.pop())"
   ],
   "metadata": {
    "collapsed": false,
    "ExecuteTime": {
     "end_time": "2023-05-27T18:07:12.809612508Z",
     "start_time": "2023-05-27T18:07:12.789069599Z"
    }
   }
  },
  {
   "cell_type": "code",
   "execution_count": 20,
   "outputs": [
    {
     "ename": "IndexError",
     "evalue": "list index out of range",
     "output_type": "error",
     "traceback": [
      "\u001B[0;31m---------------------------------------------------------------------------\u001B[0m",
      "\u001B[0;31mIndexError\u001B[0m                                Traceback (most recent call last)",
      "Cell \u001B[0;32mIn[20], line 1\u001B[0m\n\u001B[0;32m----> 1\u001B[0m \u001B[43mstack_object_1\u001B[49m\u001B[38;5;241;43m.\u001B[39;49m\u001B[43mpop\u001B[49m\u001B[43m(\u001B[49m\u001B[43m)\u001B[49m\n",
      "Cell \u001B[0;32mIn[17], line 9\u001B[0m, in \u001B[0;36mStack.pop\u001B[0;34m(self)\u001B[0m\n\u001B[1;32m      8\u001B[0m \u001B[38;5;28;01mdef\u001B[39;00m \u001B[38;5;21mpop\u001B[39m(\u001B[38;5;28mself\u001B[39m):\n\u001B[0;32m----> 9\u001B[0m     val \u001B[38;5;241m=\u001B[39m \u001B[38;5;28;43mself\u001B[39;49m\u001B[38;5;241;43m.\u001B[39;49m\u001B[43m__stack_list\u001B[49m\u001B[43m[\u001B[49m\u001B[38;5;241;43m-\u001B[39;49m\u001B[38;5;241;43m1\u001B[39;49m\u001B[43m]\u001B[49m\n\u001B[1;32m     10\u001B[0m     \u001B[38;5;28;01mdel\u001B[39;00m \u001B[38;5;28mself\u001B[39m\u001B[38;5;241m.\u001B[39m__stack_list[\u001B[38;5;241m-\u001B[39m\u001B[38;5;241m1\u001B[39m]\n\u001B[1;32m     11\u001B[0m     \u001B[38;5;28;01mreturn\u001B[39;00m val\n",
      "\u001B[0;31mIndexError\u001B[0m: list index out of range"
     ]
    }
   ],
   "source": [
    "stack_object_1.pop()"
   ],
   "metadata": {
    "collapsed": false,
    "ExecuteTime": {
     "end_time": "2023-05-27T18:08:07.939134790Z",
     "start_time": "2023-05-27T18:08:07.894519708Z"
    }
   }
  },
  {
   "cell_type": "markdown",
   "source": [
    "### The object approach: a stack from scratch (continued)\n",
    "\n",
    "Analyze the snippet below - we've created three objects of the class `Stack`. Next, we've juggled them up. Try to predict the value outputted to the screen.\n",
    "\n",
    "```python\n",
    "class Stack:\n",
    "    def __init__(self):\n",
    "        self.__stack_list = []\n",
    "\n",
    "    def push(self, val):\n",
    "        self.__stack_list.append(val)\n",
    "\n",
    "    def pop(self):\n",
    "        val = self.__stack_list[-1]\n",
    "        del self.__stack_list[-1]\n",
    "        return val\n",
    "\n",
    "\n",
    "little_stack = Stack()\n",
    "another_stack = Stack()\n",
    "funny_stack = Stack()\n",
    "\n",
    "little_stack.push(1)\n",
    "another_stack.push(little_stack.pop() + 1)\n",
    "funny_stack.push(another_stack.pop() - 2)\n",
    "\n",
    "print(funny_stack.pop())\n",
    "\n",
    "```\n",
    "\n",
    "So, what's the result? Run the program and check if you were right."
   ],
   "metadata": {
    "collapsed": false
   }
  },
  {
   "cell_type": "code",
   "execution_count": 21,
   "outputs": [],
   "source": [
    "class Stack:\n",
    "    def __init__(self):\n",
    "        self.__stack_list = []\n",
    "\n",
    "    def push(self, val):\n",
    "        self.__stack_list.append(val)\n",
    "\n",
    "    def pop(self):\n",
    "        val = self.__stack_list[-1]\n",
    "        del self.__stack_list[-1]\n",
    "        return val\n"
   ],
   "metadata": {
    "collapsed": false,
    "ExecuteTime": {
     "end_time": "2023-05-27T18:09:47.996353746Z",
     "start_time": "2023-05-27T18:09:47.959279269Z"
    }
   }
  },
  {
   "cell_type": "code",
   "execution_count": 22,
   "outputs": [
    {
     "name": "stdout",
     "output_type": "stream",
     "text": [
      "0\n"
     ]
    }
   ],
   "source": [
    "\n",
    "\n",
    "little_stack = Stack()\n",
    "another_stack = Stack()\n",
    "funny_stack = Stack()\n",
    "\n",
    "little_stack.push(1) #1\n",
    "another_stack.push(little_stack.pop() + 1) #2\n",
    "funny_stack.push(another_stack.pop() - 2) #0\n",
    "\n",
    "print(funny_stack.pop()) #0\n"
   ],
   "metadata": {
    "collapsed": false,
    "ExecuteTime": {
     "end_time": "2023-05-27T18:10:48.817832553Z",
     "start_time": "2023-05-27T18:10:48.795436107Z"
    }
   }
  },
  {
   "cell_type": "markdown",
   "source": [
    "### The object approach: a stack from scratch (continued)\n",
    "\n",
    "Now let's go a little further. Let's **add a new class for handling stacks**.\n",
    "\n",
    "The new class should be able to **evaluate the sum of all the elements currently stored on the stack**.\n",
    "\n",
    "We don't want to modify the previously defined stack. It's already good enough in its applications, and we don't want it changed in any way. We want a new stack with new capabilities. In other words, we want to construct a subclass of the already existing `Stack` class.\n",
    "\n",
    "The first step is easy: just **define a new subclass pointing to the class which will be used as the superclass**.\n",
    "\n",
    "This is what it looks like:\n",
    "\n",
    "```python\n",
    "class AddingStack(Stack):\n",
    "    pass\n",
    "```\n",
    "\n",
    "The class doesn't define any new component yet, but that doesn't mean that it's empty. **It gets all the components defined by its superclass** - the name of the superclass is written before the colon directly after the new class name.\n",
    "\n",
    "This is what we want from the new stack:\n",
    "\n",
    "-   we want the `push` method not only to push the value onto the stack but also to add the value to the `sum` variable;\n",
    "-   we want the `pop` function not only to pop the value off the stack but also to subtract the value from the `sum` variable.\n",
    "\n",
    "Firstly, let's add a new variable to the class. It'll be a **private variable**, like the stack list. We don't want anybody to manipulate the `sum` value.\n",
    "\n",
    "As you already know, adding a new property to the class is done by the constructor. You already know how to do that, but there is something really intriguing inside the constructor. Take a look:\n",
    "\n",
    "```python\n",
    "class AddingStack(Stack):\n",
    "    def __init__(self):\n",
    "        Stack.__init__(self)\n",
    "        self.__sum = 0\n",
    "\n",
    "```\n",
    "\n",
    "The second line of the constructor's body creates a property named `__sum` - it will store the total of all the stack's values.\n",
    "\n",
    "But the line before it looks different. What does it do? Is it really necessary? Yes, it is.\n",
    "\n",
    "Contrary to many other languages, Python forces you to **explicitly invoke a superclass's constructor**. Omitting this point will have harmful effects - the object will be deprived of the `__stack_list` list. Such a stack will not function properly.\n",
    "\n",
    "This is the only time you can invoke any of the available constructors explicitly - it can be done inside the subclass's constructor.\n",
    "\n",
    "Note the syntax:\n",
    "\n",
    "-   you specify the superclass's name (this is the class whose constructor you want to run)\n",
    "-   you put a dot (`.`)after it;\n",
    "-   you specify the name of the constructor;\n",
    "-   you have to point to the object (the class's instance) which has to be initialized by the constructor - this is why you have to specify the argument and use the `self` variable here; note: **invoking any method (including constructors) from outside the class never requires you to put the `self` argument at the argument's list** - invoking a method from within the class demands explicit usage of the `self` argument, and it has to be put first on the list.\n",
    "\n",
    "Note: it's generally a recommended practice to invoke the superclass's constructor before any other initializations you want to perform inside the subclass. This is the rule we have followed in the snippet."
   ],
   "metadata": {
    "collapsed": false
   }
  },
  {
   "cell_type": "code",
   "execution_count": 34,
   "outputs": [],
   "source": [
    "class Stack:\n",
    "    def __init__(self):\n",
    "        self.__stack_list = []\n",
    "\n",
    "    def push(self, val):\n",
    "        self.__stack_list.append(val)\n",
    "\n",
    "    def pop(self):\n",
    "        val = self.__stack_list[-1]\n",
    "        del self.__stack_list[-1]\n",
    "        return val\n",
    "\n",
    "\n",
    "class AddingStack(Stack):\n",
    "    def __init__(self):\n",
    "        Stack.__init__(self) # explicitly invoke the superclass's constructor\n",
    "        # super().__init__() # another way to invoke the superclass's constructor\n",
    "        self.__sum = 0\n",
    "\n"
   ],
   "metadata": {
    "collapsed": false,
    "ExecuteTime": {
     "end_time": "2023-05-27T18:15:20.286434910Z",
     "start_time": "2023-05-27T18:15:20.243631376Z"
    }
   }
  },
  {
   "cell_type": "code",
   "execution_count": 35,
   "outputs": [],
   "source": [
    "stack_1 = AddingStack()"
   ],
   "metadata": {
    "collapsed": false,
    "ExecuteTime": {
     "end_time": "2023-05-27T18:15:21.217903769Z",
     "start_time": "2023-05-27T18:15:21.215310621Z"
    }
   }
  },
  {
   "cell_type": "code",
   "execution_count": 36,
   "outputs": [],
   "source": [
    "stack_1.push(3)"
   ],
   "metadata": {
    "collapsed": false,
    "ExecuteTime": {
     "end_time": "2023-05-27T18:15:22.613012525Z",
     "start_time": "2023-05-27T18:15:22.609031136Z"
    }
   }
  },
  {
   "cell_type": "code",
   "execution_count": 37,
   "outputs": [
    {
     "name": "stdout",
     "output_type": "stream",
     "text": [
      "3\n"
     ]
    }
   ],
   "source": [
    "print(stack_1.pop())"
   ],
   "metadata": {
    "collapsed": false,
    "ExecuteTime": {
     "end_time": "2023-05-27T18:15:23.653971435Z",
     "start_time": "2023-05-27T18:15:23.646751072Z"
    }
   }
  },
  {
   "cell_type": "markdown",
   "source": [
    "### The object approach: a stack from scratch (continued)\n",
    "\n",
    "Secondly, let's add two methods. But let us ask you: is it really adding? We have these methods in the superclass already. Can we do something like that?\n",
    "\n",
    "Yes, we can. It means that we're going to **change the functionality of the methods, not their names**. We can say more precisely that the interface (the way in which the objects are handled) of the class remains the same when changing the implementation at the same time.\n",
    "\n",
    "Let's start with the implementation of the `push` function. This is what we expect from it:\n",
    "\n",
    "-   to add the value to the `__sum` variable;\n",
    "-   to push the value onto the stack.\n",
    "\n",
    "Note: the second activity has already been implemented inside the superclass - so we can use that. Furthermore, we have to use it, as there's no other way to access the `__stackList` variable.\n",
    "\n",
    "This is how the `push` method looks in the subclass:\n",
    "\n",
    "```python\n",
    "def push(self, val):\n",
    "    self.__sum += val\n",
    "    Stack.push(self, val)\n",
    "```\n",
    "\n",
    "Note the way we've invoked the previous implementation of the `push` method (the one available in the superclass):\n",
    "\n",
    "-   we have to specify the superclass's name; this is necessary in order to clearly indicate the class containing the method, to avoid confusing it with any other function of the same name;\n",
    "-   we have to specify the target object and to pass it as the first argument (it's not implicitly added to the invocation in this context.)\n",
    "\n",
    "We say that the `push` method has been overridden - the same name as in the superclass now represents a different functionality."
   ],
   "metadata": {
    "collapsed": false
   }
  },
  {
   "cell_type": "code",
   "execution_count": 38,
   "outputs": [],
   "source": [
    "class Stack:\n",
    "    def __init__(self):\n",
    "        self.__stackList = []\n",
    "\n",
    "    def push(self, val):\n",
    "        self.__stackList.append(val)\n",
    "\n",
    "    def pop(self):\n",
    "        val = self.__stackList[-1]\n",
    "        del self.__stackList[-1]\n",
    "        return val\n",
    "\n",
    "\n",
    "class AddingStack(Stack):\n",
    "    def __init__(self):\n",
    "        Stack.__init__(self)\n",
    "        self.__sum = 0\n",
    "\n",
    "    def push(self, val): # overriding the method\n",
    "        self.__sum += val\n",
    "        Stack.push(self, val)\n"
   ],
   "metadata": {
    "collapsed": false,
    "ExecuteTime": {
     "end_time": "2023-05-27T18:32:35.220459409Z",
     "start_time": "2023-05-27T18:32:35.194635869Z"
    }
   }
  },
  {
   "cell_type": "code",
   "execution_count": 45,
   "outputs": [],
   "source": [
    "stack_2 = AddingStack()\n",
    "stack_2.push(1)"
   ],
   "metadata": {
    "collapsed": false,
    "ExecuteTime": {
     "end_time": "2023-05-27T18:35:12.135547812Z",
     "start_time": "2023-05-27T18:35:12.131804551Z"
    }
   }
  },
  {
   "cell_type": "code",
   "execution_count": 46,
   "outputs": [
    {
     "data": {
      "text/plain": "1"
     },
     "execution_count": 46,
     "metadata": {},
     "output_type": "execute_result"
    }
   ],
   "source": [
    "stack_2.pop()"
   ],
   "metadata": {
    "collapsed": false,
    "ExecuteTime": {
     "end_time": "2023-05-27T18:35:12.331335171Z",
     "start_time": "2023-05-27T18:35:12.324654657Z"
    }
   }
  },
  {
   "cell_type": "markdown",
   "source": [
    "### The object approach: a stack from scratch (continued)\n",
    "\n",
    "This is the new `pop` function:\n",
    "\n",
    "```python\n",
    "def pop(self):\n",
    "    val = Stack.pop(self)\n",
    "    self.__sum -= val\n",
    "    return val\n",
    "\n",
    "```\n",
    "\n",
    "So far, we've defined the `__sum` variable, but we haven't provided a method to get its value. It seems to be hidden. How can we reveal it and do it in a way that still protects it from modifications?\n",
    "\n",
    "We have to define a new method. We'll name it `get_sum`. Its only task will be to **return the `__sum` value**.\n",
    "\n",
    "Here it is:\n",
    "\n",
    "```python\n",
    "def get_sum(self):\n",
    "    return self.__sum\n",
    "\n",
    "```\n",
    "\n",
    "So, let's look at the program in the editor. The complete code of the class is there. We can check its functioning now, and we do it with the help of a very few additional lines of code.\n",
    "\n",
    "As you can see, we add five subsequent values onto the stack, print their sum, and take them all off the stack.\n",
    "\n",
    "Okay, this has been a very brief introduction to Python's object programming. Soon we're going to tell you about it all in more detail.\n"
   ],
   "metadata": {
    "collapsed": false
   }
  },
  {
   "cell_type": "code",
   "execution_count": 47,
   "outputs": [],
   "source": [
    "class Stack:\n",
    "    def __init__(self):\n",
    "        self.__stack_list = []\n",
    "\n",
    "    def push(self, val):\n",
    "        self.__stack_list.append(val)\n",
    "\n",
    "    def pop(self):\n",
    "        val = self.__stack_list[-1]\n",
    "        del self.__stack_list[-1]\n",
    "        return val\n",
    "\n",
    "\n",
    "class AddingStack(Stack):\n",
    "    def __init__(self):\n",
    "        Stack.__init__(self)\n",
    "        self.__sum = 0\n",
    "\n",
    "    def get_sum(self):\n",
    "        return self.__sum\n",
    "\n",
    "    def push(self, val):\n",
    "        self.__sum += val\n",
    "        Stack.push(self, val)\n",
    "\n",
    "    def pop(self):\n",
    "        val = Stack.pop(self)\n",
    "        self.__sum -= val\n",
    "        return val\n"
   ],
   "metadata": {
    "collapsed": false,
    "ExecuteTime": {
     "end_time": "2023-05-27T18:36:39.895096565Z",
     "start_time": "2023-05-27T18:36:39.861548340Z"
    }
   }
  },
  {
   "cell_type": "code",
   "execution_count": 52,
   "outputs": [
    {
     "name": "stdout",
     "output_type": "stream",
     "text": [
      "7\n",
      "4\n",
      "3\n"
     ]
    }
   ],
   "source": [
    "stack_object = AddingStack()\n",
    "\n",
    "stack_object.push(3)\n",
    "stack_object.push(4)\n",
    "print(stack_object.get_sum())\n",
    "\n",
    "print(stack_object.pop())\n",
    "print(stack_object.pop())"
   ],
   "metadata": {
    "collapsed": false,
    "ExecuteTime": {
     "end_time": "2023-05-27T18:40:37.315644276Z",
     "start_time": "2023-05-27T18:40:37.309846624Z"
    }
   }
  },
  {
   "cell_type": "code",
   "execution_count": 53,
   "outputs": [
    {
     "name": "stdout",
     "output_type": "stream",
     "text": [
      "10\n",
      "4\n",
      "3\n",
      "2\n",
      "1\n",
      "0\n"
     ]
    }
   ],
   "source": [
    "for i in range(5):\n",
    "    stack_object.push(i)\n",
    "print(stack_object.get_sum())\n",
    "\n",
    "for i in range(5):\n",
    "    print(stack_object.pop())"
   ],
   "metadata": {
    "collapsed": false,
    "ExecuteTime": {
     "end_time": "2023-05-27T18:40:42.222038546Z",
     "start_time": "2023-05-27T18:40:42.215941545Z"
    }
   }
  },
  {
   "cell_type": "markdown",
   "source": [
    "### Key takeaways\n",
    "\n",
    "1\\. A **stack** is an object designed to store data using the **LIFO** model. The stack usually performs at least two operations, named **push()** and **pop()**.\n",
    "\n",
    "2\\. Implementing the stack in a procedural model raises several problems which can be solved by the techniques offered by **OOP** (**O**bject **O**riented **P**rogramming):\n",
    "\n",
    "3\\. A class **method** is actually a function declared inside the class and able to access all the class's components.\n",
    "\n",
    "4\\. The part of the Python class responsible for creating new objects is called the **constructor**, and it's implemented as a method of the name `__init__`.\n",
    "\n",
    "5\\. Each class method declaration must contain at least one parameter (always the first one) usually referred to as `self`, and is used by the objects to identify themselves.\n",
    "\n",
    "6\\. If we want to hide any of a class's components from the outside world, we should start its name with `__`. Such components are called **private**.\n",
    "\n",
    "\n",
    "\n",
    "**Exercise 1**\n",
    "\n",
    "Assuming that there is a class named `Snakes`, write the very first line of the `Python` class declaration, expressing the fact that the new class is actually a subclass of Snake.\n",
    "\n",
    "<details>\n",
    "  <summary>Click me</summary>\n",
    "\n",
    "\tclass Python(Snakes):\n",
    "\n",
    "</details>\n",
    "\n",
    "**Exercise 2**\n",
    "\n",
    "Something is missing from the following declaration – what?\n",
    "\n",
    "```python\n",
    "class Snakes:\n",
    "    def __init__():\n",
    "        self.sound = 'Sssssss'\n",
    "\n",
    "```\n",
    "\n",
    "<details>\n",
    "  <summary>Click me</summary>\n",
    "\n",
    "\tThe __init__() constructor lacks the obligatory parameter (we should name it self to stay compliant with the standards).\n",
    "\n",
    "</details>\n",
    "\n",
    "**Exercise 3**\n",
    "\n",
    "Modify the code to guarantee that the `venomous` property is private.\n",
    "\n",
    "```python\n",
    "class Snakes:\n",
    "    def __init__(self):\n",
    "        self.venomous = True\n",
    "\n",
    "```\n",
    "\n",
    "<details>\n",
    "  <summary>Click me</summary>\n",
    "\n",
    "\tThe code should look as follows:\n",
    "\t```python\n",
    "\t    class Snakes:\n",
    "        def __init__(self):\n",
    "            self.__venomous = True\n",
    "    ```\n",
    "\n",
    "</details>"
   ],
   "metadata": {
    "collapsed": false
   }
  },
  {
   "cell_type": "markdown",
   "source": [
    "### LAB Counting Stack\n",
    "\n",
    "**Estimated time**\n",
    "\n",
    "20-45 minutes\n",
    "\n",
    "**Level of difficulty**\n",
    "\n",
    "Easy/Medium\n",
    "\n",
    "**Objectives**\n",
    "\n",
    "-   improve the student's skills in defining classes;\n",
    "-   using existing classes to create new classes equipped with new functionalities.\n",
    "\n",
    "**Scenario**\n",
    "\n",
    "We've showed you recently how to extend _Stack_ possibilities by defining a new class (i.e., a subclass) which retains all inherited traits and adds some new ones.\n",
    "\n",
    "Your task is to extend the `Stack` class behavior in such a way so that the class is able to count all the elements that are pushed and popped (we assume that counting pops is enough). Use the `Stack` class we've provided in the editor.\n",
    "\n",
    "Follow the hints:\n",
    "\n",
    "-   introduce a property designed to count pop operations and name it in a way which guarantees hiding it;\n",
    "-   initialize it to zero inside the constructor;\n",
    "-   provide a method which returns the value currently assigned to the counter (name it `get_counter()`).\n",
    "\n",
    "Complete the code in the editor. Run it to check whether your code outputs 100."
   ],
   "metadata": {
    "collapsed": false
   }
  },
  {
   "cell_type": "code",
   "execution_count": 62,
   "outputs": [
    {
     "name": "stdout",
     "output_type": "stream",
     "text": [
      "100\n"
     ]
    }
   ],
   "source": [
    "class Stack:\n",
    "    def __init__(self):\n",
    "        self.__stk = []\n",
    "\n",
    "    def push(self, val):\n",
    "        self.__stk.append(val)\n",
    "\n",
    "    def pop(self):\n",
    "        val = self.__stk[-1]\n",
    "        del self.__stk[-1]\n",
    "        return val\n",
    "\n",
    "\n",
    "class CountingStack(Stack):\n",
    "    def __init__(self):\n",
    "        super().__init__() # call the base constructor\n",
    "        self.__count = 0 # define new attribute\n",
    "\n",
    "    # define new methods\n",
    "    def get_counter(self):\n",
    "        return self.__count\n",
    "\n",
    "    def pop(self):\n",
    "        self.__count += 1\n",
    "        Stack.pop(self)\n",
    "\n",
    "stk = CountingStack()\n",
    "for i in range(100):\n",
    "    stk.push(i)\n",
    "    stk.pop()\n",
    "print(stk.get_counter())\n"
   ],
   "metadata": {
    "collapsed": false,
    "ExecuteTime": {
     "end_time": "2023-05-27T20:54:34.040412735Z",
     "start_time": "2023-05-27T20:54:33.996036788Z"
    }
   }
  },
  {
   "cell_type": "markdown",
   "source": [
    "### LAB Queue aka FIFO\n",
    "\n",
    "**Estimated time**\n",
    "\n",
    "20-45 minutes\n",
    "\n",
    "**Level of difficulty**\n",
    "\n",
    "Easy/Medium\n",
    "\n",
    "**Objectives**\n",
    "\n",
    "-   improving the student's skills in defining classes from scratch;\n",
    "-   implementing standard data structures as classes.\n",
    "\n",
    "**Scenario**\n",
    "\n",
    "As you already know, a _stack_ is a data structure realizing the LIFO (Last In – First Out) model. It's easy and you've already grown perfectly accustomed to it.\n",
    "\n",
    "Let's try something new now. A _queue_ is a data model characterized by the term **FIFO: First In – First Out**. Note: a regular queue (line) you know from shops or post offices works exactly in the same way – a customer who came first is served first too.\n",
    "\n",
    "Your task is to implement the `Queue` class with two basic operations:\n",
    "\n",
    "-   `put(element)`, which puts an element at end of the queue;\n",
    "-   `get()`, which takes an element from the front of the queue and returns it as the result (the queue cannot be empty to successfully perform it.)\n",
    "\n",
    "Follow the hints:\n",
    "\n",
    "-   use a list as your storage (just like we did with the stack)\n",
    "-   `put()` should append elements to the beginning of the list, while `get()` should remove the elements from the end of the list;\n",
    "-   define a new exception named `QueueError` (choose an exception to derive it from) and raise it when `get()` tries to operate on an empty list.\n",
    "\n",
    "Complete the code we've provided in the editor. Run it to check whether its output is similar to ours.\n",
    "\n",
    "**Expected output**\n",
    "\n",
    "`1 dog False Queue error`\n"
   ],
   "metadata": {
    "collapsed": false
   }
  },
  {
   "cell_type": "code",
   "execution_count": 64,
   "outputs": [
    {
     "name": "stdout",
     "output_type": "stream",
     "text": [
      "1\n",
      "dog\n",
      "False\n",
      "Queue error\n"
     ]
    }
   ],
   "source": [
    "class QueueError(IndexError):  # Choose base class for the new exception.\n",
    "    def __init__(self):\n",
    "        super().__init__()\n",
    "\n",
    "class Queue:\n",
    "    def __init__(self):\n",
    "        self.__queue = []\n",
    "\n",
    "    def put(self, elem):\n",
    "        self.__queue.append(elem)\n",
    "\n",
    "    def get(self):\n",
    "        if len(self.__queue) == 0:\n",
    "            raise QueueError\n",
    "        elem = self.__queue[0]\n",
    "        del self.__queue[0]\n",
    "        return elem\n",
    "\n",
    "\n",
    "que = Queue()\n",
    "que.put(1)\n",
    "que.put(\"dog\")\n",
    "que.put(False)\n",
    "try:\n",
    "    for i in range(4):\n",
    "        print(que.get())\n",
    "except:\n",
    "    print(\"Queue error\")\n"
   ],
   "metadata": {
    "collapsed": false,
    "ExecuteTime": {
     "end_time": "2023-05-27T21:06:12.772727122Z",
     "start_time": "2023-05-27T21:06:12.757273763Z"
    }
   }
  },
  {
   "cell_type": "markdown",
   "source": [
    "### LAB Queue aka FIFO extended\n",
    "\n",
    "**Estimated time**\n",
    "\n",
    "15-30 minutes\n",
    "\n",
    "**Level of difficulty**\n",
    "\n",
    "Easy/Medium\n",
    "\n",
    "**Objectives**\n",
    "\n",
    "-   improving the student's skills in defining subclasses;\n",
    "-   adding a new functionality to an existing class.\n",
    "\n",
    "**Scenario**\n",
    "\n",
    "Your task is to slightly extend the `Queue` class' capabilities. We want it to have a parameterless method that returns True if the queue is empty and False otherwise.\n",
    "\n",
    "Complete the code we've provided in the editor. Run it to check whether it outputs a similar result to ours.\n",
    "\n",
    "Below you can copy the code we used in the previous lab:\n",
    "\n",
    "```python\n",
    "class QueueError(IndexError):\n",
    "    pass\n",
    "\n",
    "\n",
    "class Queue:\n",
    "    def __init__(self):\n",
    "        self.queue = []\n",
    "    def put(self,elem):\n",
    "        self.queue.insert(0,elem)\n",
    "    def get(self):\n",
    "        if len(self.queue) > 0:\n",
    "            elem = self.queue[-1]\n",
    "            del self.queue[-1]\n",
    "            return elem\n",
    "        else:\n",
    "            raise QueueError\n",
    "\n",
    "```\n",
    "\n",
    "**Expected output**\n",
    "\n",
    "`1 dog False Queue empty`\n"
   ],
   "metadata": {
    "collapsed": false
   }
  },
  {
   "cell_type": "code",
   "execution_count": 88,
   "outputs": [
    {
     "name": "stdout",
     "output_type": "stream",
     "text": [
      "3\n",
      "EINS\n",
      "2\n",
      "dog\n",
      "1\n",
      "False\n",
      "0\n",
      "Queue empty\n"
     ]
    }
   ],
   "source": [
    "class QueueError(IndexError):\n",
    "    pass\n",
    "\n",
    "\n",
    "class Queue:\n",
    "    def __init__(self):\n",
    "        super().__init__()\n",
    "        self.queue = []\n",
    "    def put(self,elem):\n",
    "        self.queue.insert(0,elem)\n",
    "    def get(self):\n",
    "        if len(self.queue) > 0:\n",
    "            elem = self.queue[-1]\n",
    "            del self.queue[-1]\n",
    "            return elem\n",
    "        else:\n",
    "            raise QueueError\n",
    "\n",
    "class SuperQueue(Queue):\n",
    "    def __int__(self):\n",
    "        super().__int__()\n",
    "\n",
    "    def isempty(self):\n",
    "        print(len(self.queue))\n",
    "        return len(self.queue) == 0\n",
    "\n",
    "que = SuperQueue()\n",
    "que.put('EINS')\n",
    "que.put(\"dog\")\n",
    "que.put(False)\n",
    "for i in range(4):\n",
    "    if not que.isempty():\n",
    "        print(que.get())\n",
    "    else:\n",
    "        print(\"Queue empty\")"
   ],
   "metadata": {
    "collapsed": false,
    "ExecuteTime": {
     "end_time": "2023-05-28T10:06:36.751186254Z",
     "start_time": "2023-05-28T10:06:36.744174506Z"
    }
   }
  },
  {
   "cell_type": "markdown",
   "source": [
    "## OOP: Properties"
   ],
   "metadata": {
    "collapsed": false
   }
  },
  {
   "cell_type": "markdown",
   "source": [
    "### Instance variables\n",
    "\n",
    "In general, a class can be equipped with two different kinds of data to form a class's properties. You already saw one of them when we were looking at stacks.\n",
    "\n",
    "This kind of class property exists when and only when it is explicitly created and added to an object. As you already know, this can be done during the object's initialization, performed by the constructor.\n",
    "\n",
    "Moreover, it can be done in any moment of the object's life. Furthermore, any existing property can be removed at any time.\n",
    "\n",
    "Such an approach has some important consequences:\n",
    "\n",
    "-   different objects of the same class **may possess different sets of properties**;\n",
    "-   there must be a way to **safely check if a specific object owns the property** you want to utilize (unless you want to provoke an exception - it's always worth considering)\n",
    "-   each object **carries its own set of properties** - they don't interfere with one another in any way.\n",
    "\n",
    "Such variables (properties) are called **instance variables**.\n",
    "\n",
    "The word _instance_ suggests that they are closely connected to the objects (which are class instances), not to the classes themselves. Let's take a closer look at them.\n",
    "\n",
    "Here is an example:\n",
    "\n",
    "\n",
    "```python\n",
    "class ExampleClass:\n",
    "    def __init__(self, val = 1):\n",
    "        self.first = val\n",
    "\n",
    "    def set_second(self, val):\n",
    "        self.second = val\n",
    "\n",
    "\n",
    "example_object_1 = ExampleClass()\n",
    "example_object_2 = ExampleClass(2)\n",
    "\n",
    "example_object_2.set_second(3)\n",
    "\n",
    "example_object_3 = ExampleClass(4)\n",
    "example_object_3.third = 5\n",
    "\n",
    "print(example_object_1.__dict__)\n",
    "print(example_object_2.__dict__)\n",
    "print(example_object_3.__dict__)\n",
    "```\n",
    "\n",
    "It needs one additional explanation before we go into any more detail. Take a look at the last three lines of the code.\n",
    "\n",
    "Python objects, when created, are gifted with a **small set of predefined properties and methods**. Each object has got them, whether you want them or not. One of them is a variable named `__dict__` (it's a dictionary).\n",
    "\n",
    "The variable contains the names and values of all the properties (variables) the object is currently carrying. Let's make use of it to safely present an object's contents.\n",
    "\n",
    "Let's dive into the code now:\n",
    "\n",
    "-   the class named `ExampleClass` has a constructor, which **unconditionally creates an instance variable** named `first`, and sets it with the value passed through the first argument (from the class user's perspective) or the second argument (from the constructor's perspective); note the default value of the parameter - any trick you can do with a regular function parameter can be applied to methods, too;\n",
    "\n",
    "-   the class also has a **method which creates another instance variable**, named `second`;\n",
    "\n",
    "-   we've created three objects of the class `ExampleClass`, but all these instances differ:\n",
    "\n",
    "\n",
    "-   `example_object_1` only has the property named `first`;\n",
    "\n",
    "-   `example_object_2` has two properties: `first` and `second`;\n",
    "\n",
    "-   `example_object_3` has been enriched with a property named `third` just on the fly, outside the class's code - this is possible and fully permissible.\n",
    "\n",
    "\n",
    "The program's output clearly shows that our assumptions are correct - here it is:\n",
    "\n",
    "```python\n",
    "{'first': 1}\n",
    "{'second': 3, 'first': 2}\n",
    "{'third': 5, 'first': 4}\n",
    "```\n",
    "\n",
    "**output**\n",
    "\n",
    "There is one additional conclusion that should be stated here: **modifying an instance variable of any object has no impact on all the remaining objects**. Instance variables are perfectly isolated from each other."
   ],
   "metadata": {
    "collapsed": false
   }
  },
  {
   "cell_type": "code",
   "execution_count": 94,
   "outputs": [
    {
     "name": "stdout",
     "output_type": "stream",
     "text": [
      "{'first': 1}\n",
      "{'first': 2, 'second': 3}\n",
      "{'first': 4, 'third': 5}\n"
     ]
    }
   ],
   "source": [
    "class ExampleClass:\n",
    "    def __init__(self, val = 1):\n",
    "        self.first = val\n",
    "\n",
    "    def set_second(self, val):\n",
    "        self.second = val\n",
    "\n",
    "\n",
    "example_object_1 = ExampleClass()\n",
    "example_object_2 = ExampleClass(2)\n",
    "\n",
    "example_object_2.set_second(3)\n",
    "\n",
    "example_object_3 = ExampleClass(4)\n",
    "example_object_3.third = 5 # this is a new instance variable, outside the class. This is possible and fully permissible.\n",
    "\n",
    "print(example_object_1.__dict__)\n",
    "print(example_object_2.__dict__)\n",
    "print(example_object_3.__dict__)\n",
    "\n"
   ],
   "metadata": {
    "collapsed": false,
    "ExecuteTime": {
     "end_time": "2023-05-28T10:20:41.428945682Z",
     "start_time": "2023-05-28T10:20:41.383179140Z"
    }
   }
  },
  {
   "cell_type": "markdown",
   "source": [
    "### Instance variables: continued\n",
    "\n",
    "Take a look at the modified example in the editor.\n",
    "\n",
    "It's nearly the same as the previous one. The only difference is in the property names. We've **added two underscores (`__`)** in front of them.\n",
    "\n",
    "As you know, such an addition makes the instance variable **private** - it becomes inaccessible from the outer world.\n",
    "\n",
    "The actual behavior of these names is a bit more complicated, so let's run the program. This is the output:\n",
    "\n",
    "```python\n",
    "{'_ExampleClass__first': 1}\n",
    "{'_ExampleClass__first': 2, '_ExampleClass__second': 3}\n",
    "{'_ExampleClass__first': 4, '__third': 5}\n",
    "```\n",
    "\n",
    "**output**\n",
    "\n",
    "Can you see these strange names full of underscores? Where did they come from?\n",
    "\n",
    "When Python sees that you want to add an instance variable to an object and you're going to do it inside any of the object's methods, it **mangles the operation** in the following way:\n",
    "\n",
    "-   it puts a class name before your name;\n",
    "-   it puts an additional underscore at the beginning.\n",
    "\n",
    "This is why the `__first` becomes `_ExampleClass__first`.\n",
    "\n",
    "**The name is now fully accessible from outside the class**. You can run a code like this:\n",
    "\n",
    "`print(example_object_1._ExampleClass__first)`\n",
    "\n",
    "and you'll get a valid result with no errors or exceptions.\n",
    "\n",
    "As you can see, making a property private is limited.\n",
    "\n",
    "**The mangling won't work if you add a private instance variable outside the class code**. In this case, it'll behave like any other ordinary property.\n"
   ],
   "metadata": {
    "collapsed": false
   }
  },
  {
   "cell_type": "code",
   "execution_count": 95,
   "outputs": [
    {
     "name": "stdout",
     "output_type": "stream",
     "text": [
      "{'_ExampleClass__first': 1}\n",
      "{'_ExampleClass__first': 2, '_ExampleClass__second': 3}\n",
      "{'_ExampleClass__first': 4, '__third': 5}\n"
     ]
    }
   ],
   "source": [
    "class ExampleClass:\n",
    "    def __init__(self, val = 1):\n",
    "        self.__first = val\n",
    "\n",
    "    def set_second(self, val = 2):\n",
    "        self.__second = val\n",
    "\n",
    "\n",
    "example_object_1 = ExampleClass()\n",
    "example_object_2 = ExampleClass(2)\n",
    "\n",
    "example_object_2.set_second(3)\n",
    "\n",
    "example_object_3 = ExampleClass(4)\n",
    "example_object_3.__third = 5\n",
    "\n",
    "\n",
    "print(example_object_1.__dict__)\n",
    "print(example_object_2.__dict__)\n",
    "print(example_object_3.__dict__)\n"
   ],
   "metadata": {
    "collapsed": false,
    "ExecuteTime": {
     "end_time": "2023-05-28T10:22:34.227566460Z",
     "start_time": "2023-05-28T10:22:34.183002397Z"
    }
   }
  },
  {
   "cell_type": "code",
   "execution_count": 96,
   "outputs": [
    {
     "name": "stdout",
     "output_type": "stream",
     "text": [
      "1\n"
     ]
    }
   ],
   "source": [
    "print(example_object_1._ExampleClass__first)"
   ],
   "metadata": {
    "collapsed": false,
    "ExecuteTime": {
     "end_time": "2023-05-28T10:25:18.431577865Z",
     "start_time": "2023-05-28T10:25:18.387585081Z"
    }
   }
  },
  {
   "cell_type": "code",
   "execution_count": 97,
   "outputs": [],
   "source": [
    "example_object_1._ExampleClass__first = 10"
   ],
   "metadata": {
    "collapsed": false,
    "ExecuteTime": {
     "end_time": "2023-05-28T10:25:55.521884643Z",
     "start_time": "2023-05-28T10:25:55.467657277Z"
    }
   }
  },
  {
   "cell_type": "code",
   "execution_count": 98,
   "outputs": [
    {
     "name": "stdout",
     "output_type": "stream",
     "text": [
      "10\n"
     ]
    }
   ],
   "source": [
    "print(example_object_1._ExampleClass__first)"
   ],
   "metadata": {
    "collapsed": false,
    "ExecuteTime": {
     "end_time": "2023-05-28T10:25:59.707644194Z",
     "start_time": "2023-05-28T10:25:59.655063829Z"
    }
   }
  },
  {
   "cell_type": "markdown",
   "source": [
    "# Class variables\n",
    "\n",
    "A class variable is **a property which exists in just one copy and is stored outside any object**.\n",
    "\n",
    "Note: no instance variable exists if there is no object in the class; a class variable exists in one copy even if there are no objects in the class.\n",
    "\n",
    "Class variables are created differently to their instance siblings. The example will tell you more:\n",
    "\n",
    "```python\n",
    "class ExampleClass:\n",
    "    counter = 0\n",
    "    def __init__(self, val = 1):\n",
    "        self.__first = val\n",
    "        ExampleClass.counter += 1\n",
    "\n",
    "\n",
    "example_object_1 = ExampleClass()\n",
    "example_object_2 = ExampleClass(2)\n",
    "example_object_3 = ExampleClass(4)\n",
    "\n",
    "print(example_object_1.__dict__, example_object_1.counter)\n",
    "print(example_object_2.__dict__, example_object_2.counter)\n",
    "print(example_object_3.__dict__, example_object_3.counter)\n",
    "\n",
    "\n",
    "```\n",
    "\n",
    "Look:\n",
    "\n",
    "-   there is an assignment in the first line of the class definition – it sets the variable named `counter` to 0; initializing the variable inside the class but outside any of its methods makes the variable a class variable;\n",
    "-   accessing such a variable looks the same as accessing any instance attribute – you can see it in the constructor body; as you can see, the constructor increments the variable by one; in effect, the variable counts all the created objects.\n",
    "\n",
    "Running the code will cause the following output:\n",
    "\n",
    "```python\n",
    "{'_ExampleClass__first': 1} 3\n",
    "{'_ExampleClass__first': 2} 3\n",
    "{'_ExampleClass__first': 4} 3\n",
    "```\n",
    "\n",
    "**output**\n",
    "\n",
    "Two important conclusions come from the example:\n",
    "\n",
    "-   class variables **aren't shown in an object's `__dict__`** (this is natural as class variables aren't parts of an object) but you can always try to look into the variable of the same name, but at the class level – we'll show you this very soon;\n",
    "-   a class variable **always presents the same value** in all class instances (objects)"
   ],
   "metadata": {
    "collapsed": false
   }
  },
  {
   "cell_type": "code",
   "execution_count": 99,
   "outputs": [
    {
     "name": "stdout",
     "output_type": "stream",
     "text": [
      "{'_ExampleClass__first': 1} 3\n",
      "{'_ExampleClass__first': 2} 3\n",
      "{'_ExampleClass__first': 4} 3\n"
     ]
    }
   ],
   "source": [
    "class ExampleClass:\n",
    "    counter = 0\n",
    "    def __init__(self, val = 1):\n",
    "        self.__first = val\n",
    "        ExampleClass.counter += 1\n",
    "\n",
    "\n",
    "example_object_1 = ExampleClass()\n",
    "example_object_2 = ExampleClass(2)\n",
    "example_object_3 = ExampleClass(4)\n",
    "\n",
    "print(example_object_1.__dict__, example_object_1.counter)\n",
    "print(example_object_2.__dict__, example_object_2.counter)\n",
    "print(example_object_3.__dict__, example_object_3.counter)\n",
    "\n"
   ],
   "metadata": {
    "collapsed": false,
    "ExecuteTime": {
     "end_time": "2023-05-28T10:29:39.150916685Z",
     "start_time": "2023-05-28T10:29:39.096599083Z"
    }
   }
  },
  {
   "cell_type": "markdown",
   "source": [
    "The class variable is accessible from the class level, too. You can do it in two ways:"
   ],
   "metadata": {
    "collapsed": false
   }
  },
  {
   "cell_type": "code",
   "execution_count": 100,
   "outputs": [],
   "source": [
    "example_object_1.counter = 10"
   ],
   "metadata": {
    "collapsed": false,
    "ExecuteTime": {
     "end_time": "2023-05-28T10:31:56.074007557Z",
     "start_time": "2023-05-28T10:31:56.031931382Z"
    }
   }
  },
  {
   "cell_type": "code",
   "execution_count": 101,
   "outputs": [
    {
     "name": "stdout",
     "output_type": "stream",
     "text": [
      "{'_ExampleClass__first': 1, 'counter': 10} 10\n"
     ]
    }
   ],
   "source": [
    "print(example_object_1.__dict__, example_object_1.counter)"
   ],
   "metadata": {
    "collapsed": false,
    "ExecuteTime": {
     "end_time": "2023-05-28T10:32:04.119343264Z",
     "start_time": "2023-05-28T10:32:04.077008151Z"
    }
   }
  },
  {
   "cell_type": "markdown",
   "source": [
    "### Class variables: continued\n",
    "\n",
    "Mangling a class variable's name has the same effects as those you're already familiar with.\n",
    "\n",
    "Look at the example in the editor. Can you guess its output?\n",
    "\n",
    "Run the program and check if your predictions were correct. Everything works as expected, doesn't it?"
   ],
   "metadata": {
    "collapsed": false
   }
  },
  {
   "cell_type": "code",
   "execution_count": 103,
   "outputs": [
    {
     "name": "stdout",
     "output_type": "stream",
     "text": [
      "{'_ExampleClass__first': 1} 3\n",
      "{'_ExampleClass__first': 2} 3\n",
      "{'_ExampleClass__first': 4} 3\n"
     ]
    }
   ],
   "source": [
    "class ExampleClass:\n",
    "    __counter = 0\n",
    "    def __init__(self, val = 1):\n",
    "        self.__first = val\n",
    "        ExampleClass.__counter += 1\n",
    "\n",
    "\n",
    "example_object_1 = ExampleClass()\n",
    "example_object_2 = ExampleClass(2)\n",
    "example_object_3 = ExampleClass(4)\n",
    "\n",
    "print(example_object_1.__dict__, example_object_1._ExampleClass__counter)\n",
    "print(example_object_2.__dict__, example_object_2._ExampleClass__counter)\n",
    "print(example_object_3.__dict__, example_object_3._ExampleClass__counter)\n"
   ],
   "metadata": {
    "collapsed": false,
    "ExecuteTime": {
     "end_time": "2023-05-28T10:33:39.901639726Z",
     "start_time": "2023-05-28T10:33:39.862646290Z"
    }
   }
  },
  {
   "cell_type": "markdown",
   "source": [
    "The private __counter variable is still accessible from the class level, but you have to use the mangled name. You should not modify the class variable this way, but you can do it if you really want to."
   ],
   "metadata": {
    "collapsed": false
   }
  },
  {
   "cell_type": "code",
   "execution_count": 105,
   "outputs": [],
   "source": [
    "example_object_1._ExampleClass__counter = 10"
   ],
   "metadata": {
    "collapsed": false,
    "ExecuteTime": {
     "end_time": "2023-05-28T10:34:26.060282951Z",
     "start_time": "2023-05-28T10:34:26.047183935Z"
    }
   }
  },
  {
   "cell_type": "code",
   "execution_count": 106,
   "outputs": [
    {
     "name": "stdout",
     "output_type": "stream",
     "text": [
      "{'_ExampleClass__first': 1, '_ExampleClass__counter': 10} 10\n"
     ]
    }
   ],
   "source": [
    "print(example_object_1.__dict__, example_object_1._ExampleClass__counter)"
   ],
   "metadata": {
    "collapsed": false,
    "ExecuteTime": {
     "end_time": "2023-05-28T10:34:36.916336572Z",
     "start_time": "2023-05-28T10:34:36.878562410Z"
    }
   }
  },
  {
   "cell_type": "markdown",
   "source": [
    "### Class variables: continued\n",
    "\n",
    "We told you before that class variables exist even when no class instance (object) had been created.\n",
    "\n",
    "Now we're going to take the opportunity to show you **the difference between these two `__dict__` variables**, the one from the class and the one from the object.\n",
    "\n",
    "Look at the code in the editor. The proof is there.\n",
    "\n",
    "Let's take a closer look at it:\n",
    "\n",
    "1.  We define one class named `ExampleClass`;\n",
    "\n",
    "3.  The class defines one class variable named `varia`;\n",
    "\n",
    "5.  The class constructor sets the variable with the parameter's value;\n",
    "\n",
    "7.  Naming the variable is the most important aspect of the example because:\n",
    "\n",
    "-   **Changing the assignment to `self.varia = val` would create an instance variable of the same name as the class's one;**\n",
    "-   Changing the assignment to `varia = val` would operate on a method's local variable; (we strongly encourage you to test both of the above cases - this will make it easier for you to remember the difference)\n",
    "\n",
    "9.  The first line of the off-class code prints the value of the `ExampleClass.varia` attribute; note - we use the value before the very first object of the class is instantiated.\n",
    "\n",
    "Run the code in the editor and check its output.\n",
    "\n",
    "As you can see, the class' `__dict__` contains much more data than its object's counterpart. Most of them are useless now - the one we want you to check carefully shows the current `varia` value.\n",
    "\n",
    "Note that the object's `__dict__` is empty - the object has no instance variables.\n"
   ],
   "metadata": {
    "collapsed": false
   }
  },
  {
   "cell_type": "code",
   "execution_count": 118,
   "outputs": [
    {
     "name": "stdout",
     "output_type": "stream",
     "text": [
      "No Instance Object created: \n",
      "{'__module__': '__main__', 'varia': 1, '__init__': <function ExampleClass.__init__ at 0x7fafb774e4d0>, '__dict__': <attribute '__dict__' of 'ExampleClass' objects>, '__weakref__': <attribute '__weakref__' of 'ExampleClass' objects>, '__doc__': None}\n",
      "----------------------------------------------------------------------------------------------------\n",
      "Instance Object is created: \n",
      "{'__module__': '__main__', 'varia': 1, '__init__': <function ExampleClass.__init__ at 0x7fafb774e4d0>, '__dict__': <attribute '__dict__' of 'ExampleClass' objects>, '__weakref__': <attribute '__weakref__' of 'ExampleClass' objects>, '__doc__': None}\n",
      "----------------------------------------------------------------------------------------------------\n",
      "Dict of the Instance: \n",
      "{}\n"
     ]
    }
   ],
   "source": [
    "class ExampleClass:\n",
    "    varia = 1\n",
    "    def __init__(self, val):\n",
    "        #ExampleClass.varia = val # class variable is changed\n",
    "        #self.varia = val # Instead: This is a instance variable\n",
    "        #varia = val # Instead: This is a local variable\n",
    "\n",
    "\n",
    "print(f\"No Instance Object created: \\n{ExampleClass.__dict__}\")\n",
    "example_object = ExampleClass(2)\n",
    "\n",
    "print(\"-\"*100)\n",
    "\n",
    "print(f\"Instance Object is created: \\n{ExampleClass.__dict__}\")\n",
    "print(\"-\"*100)\n",
    "print(f\"Dict of the Instance: \\n{example_object.__dict__}\")"
   ],
   "metadata": {
    "collapsed": false,
    "ExecuteTime": {
     "end_time": "2023-05-28T10:56:58.361134340Z",
     "start_time": "2023-05-28T10:56:58.300775008Z"
    }
   }
  },
  {
   "cell_type": "markdown",
   "source": [
    "### Checking an attribute's existence\n",
    "\n",
    "Python's attitude to object instantiation raises one important issue - in contrast to other programming languages, **you may not expect that all objects of the same class have the same sets of properties**.\n",
    "\n",
    "Just like in the example in the editor. Look at it carefully.\n",
    "\n",
    "The object created by the constructor can have only one of two possible attributes: `a` or `b`.\n",
    "\n",
    "Executing the code will produce the following output:\n",
    "\n",
    "`1 Traceback (most recent call last): File \".main.py\", line 11, in print(example_object.b) AttributeError: 'ExampleClass' object has no attribute 'b'`\n",
    "\n",
    "**output**\n",
    "\n",
    "As you can see, accessing a non-existing object (class) attribute causes an AttributeError exception.\n"
   ],
   "metadata": {
    "collapsed": false
   }
  },
  {
   "cell_type": "code",
   "execution_count": 121,
   "outputs": [
    {
     "name": "stdout",
     "output_type": "stream",
     "text": [
      "1\n"
     ]
    },
    {
     "ename": "AttributeError",
     "evalue": "'ExampleClass' object has no attribute 'b'",
     "output_type": "error",
     "traceback": [
      "\u001B[0;31m---------------------------------------------------------------------------\u001B[0m",
      "\u001B[0;31mAttributeError\u001B[0m                            Traceback (most recent call last)",
      "Cell \u001B[0;32mIn[121], line 12\u001B[0m\n\u001B[1;32m      9\u001B[0m example_object \u001B[38;5;241m=\u001B[39m ExampleClass(\u001B[38;5;241m1\u001B[39m)\n\u001B[1;32m     11\u001B[0m \u001B[38;5;28mprint\u001B[39m(example_object\u001B[38;5;241m.\u001B[39ma)\n\u001B[0;32m---> 12\u001B[0m \u001B[38;5;28mprint\u001B[39m(\u001B[43mexample_object\u001B[49m\u001B[38;5;241;43m.\u001B[39;49m\u001B[43mb\u001B[49m)\n",
      "\u001B[0;31mAttributeError\u001B[0m: 'ExampleClass' object has no attribute 'b'"
     ]
    }
   ],
   "source": [
    "class ExampleClass:\n",
    "    def __init__(self, val):\n",
    "        if val % 2 != 0:\n",
    "            self.a = 1\n",
    "        else:\n",
    "            self.b = 1\n",
    "\n",
    "\n",
    "example_object = ExampleClass(1)\n",
    "\n",
    "print(example_object.a)\n",
    "print(example_object.b)"
   ],
   "metadata": {
    "collapsed": false,
    "ExecuteTime": {
     "end_time": "2023-05-28T11:00:01.938646143Z",
     "start_time": "2023-05-28T11:00:01.915386458Z"
    }
   }
  },
  {
   "cell_type": "code",
   "execution_count": 120,
   "outputs": [],
   "source": [
    "#1 % 2"
   ],
   "metadata": {
    "collapsed": false,
    "ExecuteTime": {
     "end_time": "2023-05-28T11:00:00.656742614Z",
     "start_time": "2023-05-28T11:00:00.611482066Z"
    }
   }
  },
  {
   "cell_type": "markdown",
   "source": [
    "## Checking an attribute's existence: continued\n",
    "\n",
    "The try-except instruction gives you the chance to avoid issues with non-existent properties.\n",
    "\n",
    "It's easy - look at the code in the editor.\n",
    "\n",
    "As you can see, this action isn't very sophisticated. Essentially, we've just swept the issue under the carpet.\n",
    "\n",
    "Fortunately, there is one more way to cope with the issue.\n",
    "\n",
    "Python provides a **function which is able to safely check if any object/class contains a specified property**. The function is named `hasattr`, and expects two arguments to be passed to it:\n",
    "\n",
    "-   the class or the object being checked;\n",
    "-   the name of the property whose existence has to be reported (note: it has to be a string containing the attribute name, not the name alone)\n",
    "\n",
    "The function returns True or False.\n",
    "\n",
    "This is how you can utilize it:\n",
    "\n",
    "```python\n",
    "class ExampleClass:\n",
    "    def __init__(self, val):\n",
    "        if val % 2 != 0:\n",
    "            self.a = 1\n",
    "        else:\n",
    "            self.b = 1\n",
    "\n",
    "\n",
    "example_object = ExampleClass(1)\n",
    "print(example_object.a)\n",
    "\n",
    "if hasattr(example_object, 'b'):\n",
    "    print(example_object.b)\n",
    "\n",
    "\n",
    "```\n"
   ],
   "metadata": {
    "collapsed": false
   }
  },
  {
   "cell_type": "code",
   "execution_count": 122,
   "outputs": [
    {
     "name": "stdout",
     "output_type": "stream",
     "text": [
      "1\n"
     ]
    }
   ],
   "source": [
    "class ExampleClass:\n",
    "    def __init__(self, val):\n",
    "        if val % 2 != 0:\n",
    "            self.a = 1\n",
    "        else:\n",
    "            self.b = 1\n",
    "\n",
    "\n",
    "example_object = ExampleClass(1)\n",
    "print(example_object.a)\n",
    "\n",
    "try:\n",
    "    print(example_object.b)\n",
    "except AttributeError:\n",
    "    pass\n"
   ],
   "metadata": {
    "collapsed": false,
    "ExecuteTime": {
     "end_time": "2023-05-28T11:21:49.763651725Z",
     "start_time": "2023-05-28T11:21:49.712331284Z"
    }
   }
  },
  {
   "cell_type": "markdown",
   "source": [
    "## Checking an attribute's existence: continued\n",
    "\n",
    "Don't forget that the `hasattr()` function can operate on classes, too. You can use it **to find out if a class variable is available**, just like here in the example in the editor.\n",
    "\n",
    "The function returns True if the specified class contains a given attribute, and False otherwise.\n",
    "\n",
    "Can you guess the code's output? Run it to check your guesses.\n",
    "\n",
    "And one more example - look at the code below and try to predict its output:\n",
    "\n",
    "```python\n",
    "class ExampleClass:\n",
    "    a = 1\n",
    "    def __init__(self):\n",
    "        self.b = 2\n",
    "\n",
    "\n",
    "example_object = ExampleClass()\n",
    "\n",
    "print(hasattr(example_object, 'b'))\n",
    "print(hasattr(example_object, 'a'))\n",
    "print(hasattr(ExampleClass, 'b'))\n",
    "print(hasattr(ExampleClass, 'a'))\n",
    "\n",
    "```\n",
    "\n",
    "Were you successful? Run the code to check your predictions.\n",
    "\n",
    "Okay, we've made it to the end of this section. In the next section we're going to talk about methods, as methods drive the objects and make them active.\n"
   ],
   "metadata": {
    "collapsed": false
   }
  },
  {
   "cell_type": "code",
   "execution_count": 123,
   "outputs": [
    {
     "name": "stdout",
     "output_type": "stream",
     "text": [
      "True\n",
      "True\n",
      "False\n",
      "True\n"
     ]
    }
   ],
   "source": [
    "class ExampleClass:\n",
    "    a = 1\n",
    "    def __init__(self):\n",
    "        self.b = 2\n",
    "\n",
    "\n",
    "example_object = ExampleClass()\n",
    "\n",
    "print(hasattr(example_object, 'b'))\n",
    "print(hasattr(example_object, 'a'))\n",
    "print(hasattr(ExampleClass, 'b'))\n",
    "print(hasattr(ExampleClass, 'a'))\n",
    "\n"
   ],
   "metadata": {
    "collapsed": false,
    "ExecuteTime": {
     "end_time": "2023-05-28T11:22:58.835252532Z",
     "start_time": "2023-05-28T11:22:58.778018067Z"
    }
   }
  },
  {
   "cell_type": "code",
   "execution_count": 124,
   "outputs": [
    {
     "name": "stdout",
     "output_type": "stream",
     "text": [
      "True\n",
      "False\n"
     ]
    }
   ],
   "source": [
    "class ExampleClass:\n",
    "    attr = 1\n",
    "\n",
    "\n",
    "print(hasattr(ExampleClass, 'attr'))\n",
    "print(hasattr(ExampleClass, 'prop'))\n"
   ],
   "metadata": {
    "collapsed": false,
    "ExecuteTime": {
     "end_time": "2023-05-28T11:24:33.142885726Z",
     "start_time": "2023-05-28T11:24:33.076253373Z"
    }
   }
  },
  {
   "cell_type": "code",
   "execution_count": 127,
   "outputs": [
    {
     "name": "stdout",
     "output_type": "stream",
     "text": [
      "1\n"
     ]
    }
   ],
   "source": [
    "if hasattr(ExampleClass, 'attr'):\n",
    "    print(ExampleClass.attr)"
   ],
   "metadata": {
    "collapsed": false,
    "ExecuteTime": {
     "end_time": "2023-05-28T11:25:31.649824417Z",
     "start_time": "2023-05-28T11:25:31.637677691Z"
    }
   }
  },
  {
   "cell_type": "markdown",
   "source": [
    "### Key takeaways\n",
    "\n",
    "1\\. An **instance variable** is a property whose existence depends on the creation of an object. Every object can have a different set of instance variables.\n",
    "\n",
    "Moreover, they can be freely added to and removed from objects during their lifetime. All object instance variables are stored inside a dedicated dictionary named `__dict__`, contained in every object separately.\n",
    "\n",
    "2\\. An instance variable can be private when its name starts with `__`, but don't forget that such a property is still accessible from outside the class using a **mangled name** constructed as `_ClassName__PrivatePropertyName`.\n",
    "\n",
    "3\\. A **class variable** is a property which exists in exactly one copy, and doesn't need any created object to be accessible. Such variables are not shown as `__dict__` content.\n",
    "\n",
    "All a class's class variables are stored inside a dedicated dictionary named `__dict__`, contained in every class separately.\n",
    "\n",
    "4\\. A function named `hasattr()` can be used to determine if any object/class contains a specified property.\n",
    "\n",
    "For example:\n",
    "\n",
    "```python\n",
    "class Sample:\n",
    "    gamma = 0 # Class variable.\n",
    "    def __init__(self):\n",
    "        self.alpha = 1 # Instance variable.\n",
    "        self.__delta = 3 # Private instance variable.\n",
    "\n",
    "\n",
    "obj = Sample()\n",
    "obj.beta = 2  # Another instance variable (existing only inside the \"obj\" instance.)\n",
    "print(obj.__dict__)\n",
    "\n",
    "```\n",
    "\n",
    "The code outputs:\n",
    "\n",
    "`{'alpha': 1, '_Sample__delta': 3, 'beta': 2}`\n",
    "\n",
    "**output**\n",
    "\n",
    "\n",
    "\n",
    "**Exercise 1**\n",
    "\n",
    "Which of the `Python` class properties are instance variables and which are class variables? Which of them are private?\n",
    "\n",
    "```python\n",
    "class Python:\n",
    "    population = 1\n",
    "    victims = 0\n",
    "    def __init__(self):\n",
    "        self.length = 3\n",
    "        self.__venomous = False\n",
    "\n",
    "```\n",
    "\n",
    "<details>\n",
    "  <summary>Click me</summary>\n",
    "\n",
    "\t`population` and `victims` are **class** variables, while `length` and `__venomous` are **instance** variables (the latter is also **private**).\n",
    "\n",
    "</details>\n",
    "\n",
    "**Exercise 2**\n",
    "\n",
    "You're going to negate the `__venomous` property of the `version_2` object, ignoring the fact that the property is private. How will you do this?\n",
    "\n",
    "`version_2 = Python()`\n",
    "\n",
    "<details>\n",
    "  <summary>Click me</summary>\n",
    "\n",
    "\tversion_2._Python__venomous = not version_2._Python__venomous\n",
    "\n",
    "</details>\n",
    "\n",
    "**Exercise 3**\n",
    "\n",
    "Write an expression which checks if the `version_2` object contains an instance property named `constrictor` (yes, constr**i**ctor!).\n",
    "\n",
    "<details>\n",
    "  <summary>Click me</summary>\n",
    "\n",
    "\thasattr(version_2, 'constrictor')\n",
    "\n",
    "</details>"
   ],
   "metadata": {
    "collapsed": false
   }
  },
  {
   "cell_type": "code",
   "execution_count": 132,
   "outputs": [],
   "source": [
    "class Python:\n",
    "    population = 1\n",
    "    victims = 0\n",
    "    def __init__(self):\n",
    "        self.length = 3\n",
    "        self.__venomous = False"
   ],
   "metadata": {
    "collapsed": false,
    "ExecuteTime": {
     "end_time": "2023-05-28T11:31:20.917685803Z",
     "start_time": "2023-05-28T11:31:20.905631878Z"
    }
   }
  },
  {
   "cell_type": "code",
   "execution_count": 133,
   "outputs": [],
   "source": [
    "version_2 = Python()"
   ],
   "metadata": {
    "collapsed": false,
    "ExecuteTime": {
     "end_time": "2023-05-28T11:31:21.391538768Z",
     "start_time": "2023-05-28T11:31:21.369685368Z"
    }
   }
  },
  {
   "cell_type": "code",
   "execution_count": 134,
   "outputs": [],
   "source": [
    "version_2._Python__venomous = True"
   ],
   "metadata": {
    "collapsed": false,
    "ExecuteTime": {
     "end_time": "2023-05-28T11:31:21.945898315Z",
     "start_time": "2023-05-28T11:31:21.937105202Z"
    }
   }
  },
  {
   "cell_type": "code",
   "execution_count": 135,
   "outputs": [
    {
     "data": {
      "text/plain": "{'length': 3, '_Python__venomous': True}"
     },
     "execution_count": 135,
     "metadata": {},
     "output_type": "execute_result"
    }
   ],
   "source": [
    "version_2.__dict__"
   ],
   "metadata": {
    "collapsed": false,
    "ExecuteTime": {
     "end_time": "2023-05-28T11:31:22.154251421Z",
     "start_time": "2023-05-28T11:31:22.139674154Z"
    }
   }
  },
  {
   "cell_type": "code",
   "execution_count": 136,
   "outputs": [],
   "source": [
    "version_2._Python__venomous = not version_2._Python__venomous"
   ],
   "metadata": {
    "collapsed": false,
    "ExecuteTime": {
     "end_time": "2023-05-28T11:31:40.849406501Z",
     "start_time": "2023-05-28T11:31:40.804856781Z"
    }
   }
  },
  {
   "cell_type": "code",
   "execution_count": 137,
   "outputs": [
    {
     "data": {
      "text/plain": "{'length': 3, '_Python__venomous': False}"
     },
     "execution_count": 137,
     "metadata": {},
     "output_type": "execute_result"
    }
   ],
   "source": [
    "version_2.__dict__"
   ],
   "metadata": {
    "collapsed": false,
    "ExecuteTime": {
     "end_time": "2023-05-28T11:31:45.494330345Z",
     "start_time": "2023-05-28T11:31:45.451272046Z"
    }
   }
  },
  {
   "cell_type": "code",
   "execution_count": 138,
   "outputs": [
    {
     "data": {
      "text/plain": "False"
     },
     "execution_count": 138,
     "metadata": {},
     "output_type": "execute_result"
    }
   ],
   "source": [
    "hasattr(version_2, 'constrictor')"
   ],
   "metadata": {
    "collapsed": false,
    "ExecuteTime": {
     "end_time": "2023-05-28T11:32:20.476874759Z",
     "start_time": "2023-05-28T11:32:20.431714982Z"
    }
   }
  },
  {
   "cell_type": "markdown",
   "source": [
    "## Methods\n"
   ],
   "metadata": {
    "collapsed": false
   }
  },
  {
   "cell_type": "markdown",
   "source": [
    "### Methods in detail\n",
    "\n",
    "Let's summarize all the facts regarding the use of methods in Python classes.\n",
    "\n",
    "As you already know, a **method is a function embedded inside a class**.\n",
    "\n",
    "There is one fundamental requirement - a **method is obliged to have at least one parameter** (there are no such thing as parameterless methods - a method may be invoked without an argument, but not declared without parameters).\n",
    "\n",
    "The first (or only) parameter is usually named `self`. We suggest that you follow the convention - it's commonly used, and you'll cause a few surprises by using other names for it.\n",
    "\n",
    "The name self suggests the parameter's purpose - **it identifies the object for which the method is invoked**.\n",
    "\n",
    "If you're going to invoke a method, you mustn't pass the argument for the `self` parameter - Python will set it for you.\n",
    "\n",
    "The example in the editor shows the difference.\n",
    "\n",
    "The code outputs:\n",
    "\n",
    "`method`\n",
    "\n",
    "**output**\n",
    "\n",
    "Note the way we've created the object - we've **treated the class name like a function**, returning a newly instantiated object of the class.\n",
    "\n",
    "___\n",
    "\n",
    "If you want the method to accept parameters other than `self`, you should:\n",
    "\n",
    "-   place them after `self` in the method's definition;\n",
    "-   deliver them during invocation without specifying `self` (as previously)\n",
    "\n",
    "Just like here:\n",
    "\n",
    "```python\n",
    "class Classy:\n",
    "    def method(self, par):\n",
    "        print(\"method:\", par)\n",
    "\n",
    "\n",
    "obj = Classy()\n",
    "obj.method(1)\n",
    "obj.method(2)\n",
    "obj.method(3)\n",
    "\n",
    "```\n",
    "\n",
    "The code outputs:\n",
    "\n",
    "`method: 1 method: 2 method: 3`\n",
    "\n",
    "**output**\n"
   ],
   "metadata": {
    "collapsed": false
   }
  },
  {
   "cell_type": "code",
   "execution_count": 139,
   "outputs": [
    {
     "name": "stdout",
     "output_type": "stream",
     "text": [
      "method\n"
     ]
    }
   ],
   "source": [
    "class Classy:\n",
    "    def method(self):\n",
    "        print(\"method\")\n",
    "\n",
    "\n",
    "obj = Classy()\n",
    "obj.method()\n"
   ],
   "metadata": {
    "collapsed": false,
    "ExecuteTime": {
     "end_time": "2023-05-28T11:35:24.441755752Z",
     "start_time": "2023-05-28T11:35:24.390938944Z"
    }
   }
  },
  {
   "cell_type": "code",
   "execution_count": 140,
   "outputs": [
    {
     "name": "stdout",
     "output_type": "stream",
     "text": [
      "method: 1\n",
      "method: 2\n",
      "method: 3\n"
     ]
    }
   ],
   "source": [
    "class Classy:\n",
    "    def method(self, par):\n",
    "        print(\"method:\", par)\n",
    "\n",
    "\n",
    "obj = Classy()\n",
    "obj.method(1)\n",
    "obj.method(2)\n",
    "obj.method(3)\n",
    "\n"
   ],
   "metadata": {
    "collapsed": false,
    "ExecuteTime": {
     "end_time": "2023-05-28T11:35:57.050864306Z",
     "start_time": "2023-05-28T11:35:56.980562169Z"
    }
   }
  },
  {
   "cell_type": "markdown",
   "source": [
    "### Methods in detail: continued\n",
    "\n",
    "The `self` parameter is used **to obtain access to the object's instance and class variables**.\n",
    "\n",
    "The example shows both ways of utilizing `self`:\n",
    "\n",
    "```python\n",
    "class Classy:\n",
    "    varia = 2\n",
    "    def method(self):\n",
    "        print(self.varia, self.var)\n",
    "\n",
    "\n",
    "obj = Classy()\n",
    "obj.var = 3\n",
    "obj.method()\n",
    "\n",
    "```\n",
    "\n",
    "The code outputs:\n",
    "\n",
    "`2 3`\n",
    "\n",
    "**output**\n",
    "\n",
    "The `self` parameter is also used **to invoke other object/class methods from inside the class**.\n",
    "\n",
    "Just like here:\n",
    "\n",
    "```python\n",
    "class Classy:\n",
    "    def other(self):\n",
    "        print(\"other\")\n",
    "\n",
    "    def method(self):\n",
    "        print(\"method\")\n",
    "        self.other()\n",
    "\n",
    "\n",
    "obj = Classy()\n",
    "obj.method()\n",
    "\n",
    "```\n"
   ],
   "metadata": {
    "collapsed": false
   }
  },
  {
   "cell_type": "code",
   "execution_count": 142,
   "outputs": [],
   "source": [
    "class Classy:\n",
    "    varia = 2\n",
    "    def method(self):\n",
    "        print(self.varia, self.var)\n",
    "\n",
    "\n",
    "obj = Classy()\n"
   ],
   "metadata": {
    "collapsed": false,
    "ExecuteTime": {
     "end_time": "2023-05-28T11:48:05.127873101Z",
     "start_time": "2023-05-28T11:48:05.055412032Z"
    }
   }
  },
  {
   "cell_type": "code",
   "execution_count": 143,
   "outputs": [],
   "source": [
    "obj.var = 3"
   ],
   "metadata": {
    "collapsed": false,
    "ExecuteTime": {
     "end_time": "2023-05-28T11:48:15.097057603Z",
     "start_time": "2023-05-28T11:48:15.041305319Z"
    }
   }
  },
  {
   "cell_type": "code",
   "execution_count": 144,
   "outputs": [
    {
     "name": "stdout",
     "output_type": "stream",
     "text": [
      "2 3\n"
     ]
    }
   ],
   "source": [
    "obj.method()"
   ],
   "metadata": {
    "collapsed": false,
    "ExecuteTime": {
     "end_time": "2023-05-28T11:48:29.040820666Z",
     "start_time": "2023-05-28T11:48:28.971688910Z"
    }
   }
  },
  {
   "cell_type": "code",
   "execution_count": 148,
   "outputs": [],
   "source": [
    "class Classy:\n",
    "    def other(self):\n",
    "        print(\"other\")\n",
    "\n",
    "    def method(self):\n",
    "        print(\"method\")\n",
    "        self.other()\n",
    "\n",
    "\n",
    "obj = Classy()\n"
   ],
   "metadata": {
    "collapsed": false,
    "ExecuteTime": {
     "end_time": "2023-05-28T11:49:59.447403174Z",
     "start_time": "2023-05-28T11:49:59.386330664Z"
    }
   }
  },
  {
   "cell_type": "code",
   "execution_count": 149,
   "outputs": [
    {
     "name": "stdout",
     "output_type": "stream",
     "text": [
      "method\n",
      "other\n"
     ]
    }
   ],
   "source": [
    "obj.method()\n"
   ],
   "metadata": {
    "collapsed": false,
    "ExecuteTime": {
     "end_time": "2023-05-28T11:49:59.652797365Z",
     "start_time": "2023-05-28T11:49:59.544791909Z"
    }
   }
  },
  {
   "cell_type": "markdown",
   "source": [
    "### Methods in detail: continued\n",
    "\n",
    "If you name a method like this: `__init__`, it won't be a regular method - it will be a **constructor**.\n",
    "\n",
    "If a class has a constructor, it is invoked automatically and implicitly when the object of the class is instantiated.\n",
    "\n",
    "The constructor:\n",
    "\n",
    "-   is **obliged to have the `self` parameter** (it's set automatically, as usual);\n",
    "-   **may (but doesn't need to) have more parameters** than just `self`; if this happens, the way in which the class name is used to create the object must reflect the `__init__` definition;\n",
    "-   **can be used to set up the object**, i.e., properly initialize its internal state, create instance variables, instantiate any other objects if their existence is needed, etc.\n",
    "\n",
    "Look at the code in the editor. The example shows a very simple constructor at work.\n",
    "\n",
    "Run it. The code outputs:\n",
    "\n",
    "`object`\n",
    "\n",
    "**output**\n",
    "\n",
    "Note that the constructor:\n",
    "\n",
    "-   **cannot return a value**, as it is designed to return a newly created object and nothing else;\n",
    "-   **cannot be invoked directly either from the object or from inside the class** (you can invoke a constructor from any of the object's subclasses, but we'll discuss this issue later.)\n"
   ],
   "metadata": {
    "collapsed": false
   }
  },
  {
   "cell_type": "code",
   "execution_count": 150,
   "outputs": [
    {
     "name": "stdout",
     "output_type": "stream",
     "text": [
      "object\n"
     ]
    }
   ],
   "source": [
    "class Classy:\n",
    "    def __init__(self, value):\n",
    "        self.var = value\n",
    "\n",
    "\n",
    "obj_1 = Classy(\"object\")\n",
    "\n",
    "print(obj_1.var)\n"
   ],
   "metadata": {
    "collapsed": false,
    "ExecuteTime": {
     "end_time": "2023-05-28T11:55:18.218401772Z",
     "start_time": "2023-05-28T11:55:18.128356906Z"
    }
   }
  },
  {
   "cell_type": "markdown",
   "source": [
    "## Methods in detail: continued\n",
    "\n",
    "As `__init__` is a method, and a method is a function, you can do the same tricks with constructors/methods as you do with ordinary functions.\n",
    "\n",
    "The example in the editor shows how to define a constructor with a default argument value. Test it.\n",
    "\n",
    "The code outputs:\n",
    "\n",
    "`object None`\n",
    "\n",
    "**output**\n",
    "\n",
    "Everything we've said about **property name mangling** applies to method names, too - a method whose name starts with `__` is (partially) hidden.\n",
    "\n",
    "The example shows this effect:\n",
    "\n",
    "```python\n",
    "class Classy:\n",
    "    def visible(self):\n",
    "        print(\"visible\")\n",
    "\n",
    "    def __hidden(self):\n",
    "        print(\"hidden\")\n",
    "\n",
    "\n",
    "obj = Classy()\n",
    "obj.visible()\n",
    "\n",
    "try:\n",
    "    obj.__hidden()\n",
    "except:\n",
    "    print(\"failed\")\n",
    "\n",
    "obj._Classy__hidden()\n",
    "\n",
    "```\n",
    "\n",
    "The code outputs:\n",
    "\n",
    "`visible failed hidden`\n",
    "\n",
    "**output**\n",
    "\n",
    "Run the program, and test it.\n"
   ],
   "metadata": {
    "collapsed": false
   }
  },
  {
   "cell_type": "code",
   "execution_count": 151,
   "outputs": [],
   "source": [
    "class Classy:\n",
    "    def __init__(self, value = None):\n",
    "        self.var = value\n",
    "\n",
    "\n",
    "obj_1 = Classy(\"object\")\n",
    "obj_2 = Classy()"
   ],
   "metadata": {
    "collapsed": false,
    "ExecuteTime": {
     "end_time": "2023-05-28T11:56:48.918197965Z",
     "start_time": "2023-05-28T11:56:48.868138129Z"
    }
   }
  },
  {
   "cell_type": "code",
   "execution_count": 154,
   "outputs": [
    {
     "name": "stdout",
     "output_type": "stream",
     "text": [
      "object\n",
      "None\n"
     ]
    }
   ],
   "source": [
    "print(obj_1.var)\n",
    "print(obj_2.var)"
   ],
   "metadata": {
    "collapsed": false,
    "ExecuteTime": {
     "end_time": "2023-05-28T11:58:38.367621981Z",
     "start_time": "2023-05-28T11:58:38.303698326Z"
    }
   }
  },
  {
   "cell_type": "code",
   "execution_count": 155,
   "outputs": [
    {
     "name": "stdout",
     "output_type": "stream",
     "text": [
      "visible\n"
     ]
    }
   ],
   "source": [
    "class Classy:\n",
    "    def visible(self):\n",
    "        print(\"visible\")\n",
    "\n",
    "    def __hidden(self):\n",
    "        print(\"hidden\")\n",
    "\n",
    "\n",
    "obj = Classy()\n",
    "obj.visible()"
   ],
   "metadata": {
    "collapsed": false,
    "ExecuteTime": {
     "end_time": "2023-05-28T11:59:16.414265904Z",
     "start_time": "2023-05-28T11:59:16.336976893Z"
    }
   }
  },
  {
   "cell_type": "code",
   "execution_count": 156,
   "outputs": [
    {
     "name": "stdout",
     "output_type": "stream",
     "text": [
      "failed\n",
      "hidden\n"
     ]
    }
   ],
   "source": [
    "try:\n",
    "    obj.__hidden()\n",
    "except:\n",
    "    print(\"failed\")\n",
    "\n",
    "obj._Classy__hidden()\n"
   ],
   "metadata": {
    "collapsed": false,
    "ExecuteTime": {
     "end_time": "2023-05-28T11:59:49.580307209Z",
     "start_time": "2023-05-28T11:59:49.531470105Z"
    }
   }
  },
  {
   "cell_type": "markdown",
   "source": [
    "## The inner life of classes and objects\n",
    "\n",
    "Each Python class and each Python object is pre-equipped with a set of useful attributes which can be used to examine its capabilities.\n",
    "\n",
    "You already know one of these - it's the `__dict__` property.\n",
    "\n",
    "Let's observe how it deals with methods - look at the code in the editor.\n",
    "\n",
    "Run it to see what it outputs. Check the output carefully.\n",
    "\n",
    "Find all the defined methods and attributes. Locate the context in which they exist: inside the object or inside the class.\n"
   ],
   "metadata": {
    "collapsed": false
   }
  },
  {
   "cell_type": "code",
   "execution_count": 157,
   "outputs": [],
   "source": [
    "class Classy:\n",
    "    varia = 1\n",
    "    def __init__(self):\n",
    "        self.var = 2\n",
    "\n",
    "    def method(self):\n",
    "        pass\n",
    "\n",
    "    def __hidden(self):\n",
    "        pass\n",
    "\n",
    "\n",
    "obj = Classy()\n"
   ],
   "metadata": {
    "collapsed": false,
    "ExecuteTime": {
     "end_time": "2023-05-28T12:01:09.394473767Z",
     "start_time": "2023-05-28T12:01:09.309621894Z"
    }
   }
  },
  {
   "cell_type": "code",
   "execution_count": 158,
   "outputs": [
    {
     "name": "stdout",
     "output_type": "stream",
     "text": [
      "{'var': 2}\n"
     ]
    }
   ],
   "source": [
    "print(obj.__dict__)\n"
   ],
   "metadata": {
    "collapsed": false,
    "ExecuteTime": {
     "end_time": "2023-05-28T12:02:06.216166525Z",
     "start_time": "2023-05-28T12:02:06.165681253Z"
    }
   }
  },
  {
   "cell_type": "code",
   "execution_count": 159,
   "outputs": [
    {
     "name": "stdout",
     "output_type": "stream",
     "text": [
      "{'__module__': '__main__', 'varia': 1, '__init__': <function Classy.__init__ at 0x7fafb774edd0>, 'method': <function Classy.method at 0x7fafb774c700>, '_Classy__hidden': <function Classy.__hidden at 0x7fafb774c670>, '__dict__': <attribute '__dict__' of 'Classy' objects>, '__weakref__': <attribute '__weakref__' of 'Classy' objects>, '__doc__': None}\n"
     ]
    }
   ],
   "source": [
    "print(Classy.__dict__)"
   ],
   "metadata": {
    "collapsed": false,
    "ExecuteTime": {
     "end_time": "2023-05-28T12:02:16.572560842Z",
     "start_time": "2023-05-28T12:02:16.523233155Z"
    }
   }
  },
  {
   "cell_type": "markdown",
   "source": [
    "### The inner life of classes and objects: continued\n",
    "\n",
    "`__dict__` is a dictionary. Another built-in property worth mentioning is `__name__`, which is a string.\n",
    "\n",
    "The property contains **the name of the class**. It's nothing exciting, just a string.\n",
    "\n",
    "Note: the `__name__` attribute is absent from the object - **it exists only inside classes**.\n",
    "\n",
    "If you want to **find the class of a particular object**, you can use a function named `type()`, which is able (among other things) to find a class which has been used to instantiate any object.\n",
    "\n",
    "Look at the code in the editor, run it, and see for yourself.\n",
    "\n",
    "The code outputs:\n",
    "\n",
    "`Classy Classy`\n",
    "\n",
    "**output**\n",
    "\n",
    "Note that a statement like this one:\n",
    "\n",
    "`print(obj.__name__)`\n",
    "\n",
    "will cause an error."
   ],
   "metadata": {
    "collapsed": false
   }
  },
  {
   "cell_type": "code",
   "execution_count": 160,
   "outputs": [
    {
     "name": "stdout",
     "output_type": "stream",
     "text": [
      "Classy\n"
     ]
    }
   ],
   "source": [
    "\n",
    "class Classy:\n",
    "    pass\n",
    "\n",
    "\n",
    "print(Classy.__name__)\n",
    "obj = Classy()\n"
   ],
   "metadata": {
    "collapsed": false,
    "ExecuteTime": {
     "end_time": "2023-05-28T12:03:45.633483631Z",
     "start_time": "2023-05-28T12:03:45.558169245Z"
    }
   }
  },
  {
   "cell_type": "code",
   "execution_count": 161,
   "outputs": [
    {
     "name": "stdout",
     "output_type": "stream",
     "text": [
      "Classy\n"
     ]
    }
   ],
   "source": [
    "print(type(obj).__name__)\n"
   ],
   "metadata": {
    "collapsed": false,
    "ExecuteTime": {
     "end_time": "2023-05-28T12:04:03.596342282Z",
     "start_time": "2023-05-28T12:04:03.545778811Z"
    }
   }
  },
  {
   "cell_type": "code",
   "execution_count": 162,
   "outputs": [
    {
     "ename": "AttributeError",
     "evalue": "'Classy' object has no attribute '__name__'",
     "output_type": "error",
     "traceback": [
      "\u001B[0;31m---------------------------------------------------------------------------\u001B[0m",
      "\u001B[0;31mAttributeError\u001B[0m                            Traceback (most recent call last)",
      "Cell \u001B[0;32mIn[162], line 1\u001B[0m\n\u001B[0;32m----> 1\u001B[0m \u001B[38;5;28mprint\u001B[39m(\u001B[43mobj\u001B[49m\u001B[38;5;241;43m.\u001B[39;49m\u001B[38;5;18;43m__name__\u001B[39;49m)\n",
      "\u001B[0;31mAttributeError\u001B[0m: 'Classy' object has no attribute '__name__'"
     ]
    }
   ],
   "source": [
    "print(obj.__name__)"
   ],
   "metadata": {
    "collapsed": false,
    "ExecuteTime": {
     "end_time": "2023-05-28T12:05:04.524715603Z",
     "start_time": "2023-05-28T12:05:04.443749834Z"
    }
   }
  },
  {
   "cell_type": "markdown",
   "source": [
    "### The inner life of classes and objects: continued\n",
    "\n",
    "`__module__` is a string, too - it **stores the name of the module which contains the definition of the class**.\n",
    "\n",
    "Let's check it - run the code in the editor.\n",
    "\n",
    "The code outputs:\n",
    "\n",
    "`__main__ __main__`\n",
    "\n",
    "**output**\n",
    "\n",
    "As you know, any module named `__main__` is actually not a module, but the **file currently being run**.\n"
   ],
   "metadata": {
    "collapsed": false
   }
  },
  {
   "cell_type": "code",
   "execution_count": 166,
   "outputs": [
    {
     "name": "stdout",
     "output_type": "stream",
     "text": [
      "__main__\n",
      "__main__\n"
     ]
    }
   ],
   "source": [
    "class Classy:\n",
    "    pass\n",
    "\n",
    "print(Classy.__module__)\n",
    "obj = Classy()\n",
    "print(obj.__module__)\n"
   ],
   "metadata": {
    "collapsed": false,
    "ExecuteTime": {
     "end_time": "2023-05-28T12:07:06.282105987Z",
     "start_time": "2023-05-28T12:07:06.227436090Z"
    }
   }
  },
  {
   "cell_type": "markdown",
   "source": [
    "### The inner life of classes and objects: continued\n",
    "\n",
    "`__bases__` is a tuple. The **tuple contains classes** (not class names) which are direct superclasses for the class.\n",
    "\n",
    "The order is the same as that used inside the class definition.\n",
    "\n",
    "We'll show you only a very basic example, as we want to highlight **how inheritance works**.\n",
    "\n",
    "Moreover, we're going to show you how to use this attribute when we discuss the objective aspects of exceptions.\n",
    "\n",
    "Note: **only classes have this attribute** - objects don't.\n",
    "\n",
    "We've defined a function named `printbases()`, designed to present the tuple's contents clearly.\n",
    "\n",
    "Look at the code in the editor. Analyze it and run it. It will output:\n",
    "\n",
    "`( object ) ( object ) ( SuperOne SuperTwo )`\n",
    "\n",
    "**output**\n",
    "\n",
    "Note: **a class without explicit superclasses points to object** (a predefined Python class) as its direct ancestor.\n"
   ],
   "metadata": {
    "collapsed": false
   }
  },
  {
   "cell_type": "code",
   "execution_count": 167,
   "outputs": [],
   "source": [
    "class SuperOne:\n",
    "    pass\n",
    "\n",
    "\n",
    "class SuperTwo:\n",
    "    pass\n",
    "\n",
    "\n",
    "class Sub(SuperOne, SuperTwo):\n",
    "    pass\n",
    "\n",
    "\n",
    "def printBases(cls):\n",
    "    print('( ', end='')\n",
    "\n",
    "    for x in cls.__bases__:\n",
    "        print(x.__name__, end=' ')\n",
    "    print(')')\n"
   ],
   "metadata": {
    "collapsed": false,
    "ExecuteTime": {
     "end_time": "2023-05-28T12:07:35.618124812Z",
     "start_time": "2023-05-28T12:07:35.557037579Z"
    }
   }
  },
  {
   "cell_type": "code",
   "execution_count": 168,
   "outputs": [
    {
     "name": "stdout",
     "output_type": "stream",
     "text": [
      "( object )\n",
      "( object )\n",
      "( SuperOne SuperTwo )\n"
     ]
    }
   ],
   "source": [
    "printBases(SuperOne)\n",
    "printBases(SuperTwo)\n",
    "printBases(Sub)\n"
   ],
   "metadata": {
    "collapsed": false,
    "ExecuteTime": {
     "end_time": "2023-05-28T12:08:29.660211603Z",
     "start_time": "2023-05-28T12:08:29.588497568Z"
    }
   }
  },
  {
   "cell_type": "code",
   "execution_count": 169,
   "outputs": [
    {
     "data": {
      "text/plain": "(__main__.SuperOne, __main__.SuperTwo)"
     },
     "execution_count": 169,
     "metadata": {},
     "output_type": "execute_result"
    }
   ],
   "source": [
    "Sub.__bases__"
   ],
   "metadata": {
    "collapsed": false,
    "ExecuteTime": {
     "end_time": "2023-05-28T12:09:02.228942269Z",
     "start_time": "2023-05-28T12:09:02.164925465Z"
    }
   }
  },
  {
   "cell_type": "code",
   "execution_count": 170,
   "outputs": [
    {
     "data": {
      "text/plain": "(object,)"
     },
     "execution_count": 170,
     "metadata": {},
     "output_type": "execute_result"
    }
   ],
   "source": [
    "SuperOne.__bases__"
   ],
   "metadata": {
    "collapsed": false,
    "ExecuteTime": {
     "end_time": "2023-05-28T12:09:20.892186554Z",
     "start_time": "2023-05-28T12:09:20.839736598Z"
    }
   }
  },
  {
   "cell_type": "markdown",
   "source": [],
   "metadata": {
    "collapsed": false
   }
  },
  {
   "cell_type": "markdown",
   "source": [
    "### Reflection and introspection\n",
    "\n",
    "All these means allow the Python programmer to perform two important activities specific to many objective languages. They are:\n",
    "\n",
    "-   **introspection**, which is the ability of a program to examine the type or properties of an object at runtime;\n",
    "-   **reflection**, which goes a step further, and is the ability of a program to manipulate the values, properties and/or functions of an object at runtime.\n",
    "\n",
    "In other words, you don't have to know a complete class/object definition to manipulate the object, as the object and/or its class contain the metadata allowing you to recognize its features during program execution.\n",
    "\n",
    "<img src=\"../img/module_3/Screenshot from 2023-05-28 14-11-16.png\" alt= “” width=\"50%\" height=\"50%\">"
   ],
   "metadata": {
    "collapsed": false
   }
  },
  {
   "cell_type": "markdown",
   "source": [
    "### Investigating classes\n",
    "\n",
    "What can you find out about classes in Python? The answer is simple – everything.\n",
    "\n",
    "Both reflection and introspection enable a programmer to do anything with any object, no matter where it comes from.\n",
    "\n",
    "Analyze the code in the editor.\n",
    "\n",
    "The function named `incIntsI()` gets an object of any class, scans its contents in order to find all integer attributes with names starting with i, and increments them by one.\n",
    "\n",
    "Impossible? Not at all!\n",
    "\n",
    "This is how it works:\n",
    "\n",
    "-   line 1: define a very simple class...\n",
    "-   lines 5 through 11: ... and fill it with some attributes;\n",
    "-   line 14: this is our function!\n",
    "-   line 15: scan the `__dict__` attribute, looking for all attribute names;\n",
    "-   line 16: if a name starts with i...\n",
    "-   line 17: ... use the `getattr()` function to get its current value; note: `getattr()` takes two arguments: an object, and its property name (as a string), and returns the current attribute's value;\n",
    "-   line 18: check if the value is of type integer, and use the function `isinstance()` for this purpose (we'll discuss this later);\n",
    "-   line 19: if the check goes well, increment the property's value by making use of the `setattr()` function; the function takes three arguments: an object, the property name (as a string), and the property's new value.\n",
    "\n",
    "The code outputs:\n",
    "\n",
    "`{'a': 1, 'integer': 4, 'b': 2, 'i': 3, 'z': 5, 'ireal': 3.5} {'a': 1, 'integer': 5, 'b': 2, 'i': 4, 'z': 5, 'ireal': 3.5}`\n",
    "\n",
    "**output**\n",
    "\n",
    "That's all!\n"
   ],
   "metadata": {
    "collapsed": false
   }
  },
  {
   "cell_type": "code",
   "execution_count": 171,
   "outputs": [],
   "source": [
    "class MyClass:\n",
    "    pass\n",
    "\n",
    "\n",
    "obj = MyClass()\n",
    "obj.a = 1\n",
    "obj.b = 2\n",
    "obj.i = 3\n",
    "obj.ireal = 3.5\n",
    "obj.integer = 4\n",
    "obj.z = 5\n",
    "\n",
    "\n",
    "def incIntsI(obj):\n",
    "    for name in obj.__dict__.keys():\n",
    "        if name.startswith('i'):\n",
    "            val = getattr(obj, name)\n",
    "            if isinstance(val, int):\n",
    "                setattr(obj, name, val + 1)\n",
    "\n"
   ],
   "metadata": {
    "collapsed": false,
    "ExecuteTime": {
     "end_time": "2023-05-28T12:15:23.140759190Z",
     "start_time": "2023-05-28T12:15:23.083295978Z"
    }
   }
  },
  {
   "cell_type": "code",
   "execution_count": 172,
   "outputs": [
    {
     "name": "stdout",
     "output_type": "stream",
     "text": [
      "{'a': 1, 'b': 2, 'i': 3, 'ireal': 3.5, 'integer': 4, 'z': 5}\n"
     ]
    }
   ],
   "source": [
    "print(obj.__dict__)\n"
   ],
   "metadata": {
    "collapsed": false,
    "ExecuteTime": {
     "end_time": "2023-05-28T12:17:10.372461079Z",
     "start_time": "2023-05-28T12:17:10.311643079Z"
    }
   }
  },
  {
   "cell_type": "code",
   "execution_count": 173,
   "outputs": [],
   "source": [
    "incIntsI(obj)"
   ],
   "metadata": {
    "collapsed": false,
    "ExecuteTime": {
     "end_time": "2023-05-28T12:17:34.436697785Z",
     "start_time": "2023-05-28T12:17:34.380426180Z"
    }
   }
  },
  {
   "cell_type": "code",
   "execution_count": 174,
   "outputs": [
    {
     "name": "stdout",
     "output_type": "stream",
     "text": [
      "{'a': 1, 'b': 2, 'i': 4, 'ireal': 3.5, 'integer': 5, 'z': 5}\n"
     ]
    }
   ],
   "source": [
    "print(obj.__dict__)"
   ],
   "metadata": {
    "collapsed": false,
    "ExecuteTime": {
     "end_time": "2023-05-28T12:17:40.132753197Z",
     "start_time": "2023-05-28T12:17:40.077854415Z"
    }
   }
  },
  {
   "cell_type": "markdown",
   "source": [
    "## Key takeaways\n",
    "\n",
    "1\\. A method is a function embedded inside a class. The first (or only) parameter of each method is usually named `self`, which is designed to identify the object for which the method is invoked in order to access the object's properties or invoke its methods.\n",
    "\n",
    "2\\. If a class contains a **constructor** (a method named `__init__`) it cannot return any value and cannot be invoked directly.\n",
    "\n",
    "3\\. All classes (but not objects) contain a property named `__name__`, which stores the name of the class. Additionally, a property named `__module__` stores the name of the module in which the class has been declared, while the property named `__bases__` is a tuple containing a class's superclasses.\n",
    "\n",
    "For example:\n",
    "```python\n",
    "class Sample:\n",
    "    def __init__(self):\n",
    "        self.name = Sample.__name__\n",
    "    def myself(self):\n",
    "        print(\"My name is \" + self.name + \" living in a \" + Sample.__module__)\n",
    "\n",
    "\n",
    "obj = Sample()\n",
    "obj.myself()\n",
    "\n",
    "```\n",
    "\n",
    "\n",
    "The code outputs:\n",
    "\n",
    "`My name is Sample living in a __main__`\n",
    "\n",
    "**output**\n",
    "\n",
    "\n",
    "\n",
    "**Exercise 1**\n",
    "\n",
    "The declaration of the `Snake` class is given below. Enrich the class with a method named `increment()`, adding `1` to the `victims` property.\n",
    "\n",
    "```python\n",
    "class Snake:\n",
    "    def __init__(self):\n",
    "        self.victims = 0\n",
    "\n",
    "```\n",
    "\n",
    "**Exercise 2**\n",
    "\n",
    "Redefine the `Snake` class constructor so that is has a parameter to initialize the `victims` field with a value passed to the object during construction.\n",
    "\n",
    "\n",
    "**Exercise 3**\n",
    "\n",
    "Can you predict the output of the following code?\n",
    "\n",
    "```python\n",
    "class Snake:\n",
    "    pass\n",
    "\n",
    "\n",
    "class Python(Snake):\n",
    "    pass\n",
    "\n",
    "\n",
    "print(Python.__name__, 'is a', Snake.__name__)\n",
    "print(Python.__bases__[0].__name__, 'can be a', Python.__name__)\n",
    "\n",
    "```"
   ],
   "metadata": {
    "collapsed": false
   }
  },
  {
   "cell_type": "markdown",
   "source": [
    "#### Solution 1"
   ],
   "metadata": {
    "collapsed": false
   }
  },
  {
   "cell_type": "code",
   "execution_count": 191,
   "outputs": [],
   "source": [
    "# 1\n",
    "class Snake:\n",
    "    def __init__(self):\n",
    "        self.victims = 0\n",
    "\n",
    "    def increment(self):\n",
    "        self.victims += 1\n",
    "        print(self.victims)\n"
   ],
   "metadata": {
    "collapsed": false,
    "ExecuteTime": {
     "end_time": "2023-05-28T12:25:41.938021174Z",
     "start_time": "2023-05-28T12:25:41.919607102Z"
    }
   }
  },
  {
   "cell_type": "code",
   "execution_count": 192,
   "outputs": [],
   "source": [
    "snake_1 = Snake()"
   ],
   "metadata": {
    "collapsed": false,
    "ExecuteTime": {
     "end_time": "2023-05-28T12:25:43.072886950Z",
     "start_time": "2023-05-28T12:25:43.045859920Z"
    }
   }
  },
  {
   "cell_type": "code",
   "execution_count": 203,
   "outputs": [
    {
     "name": "stdout",
     "output_type": "stream",
     "text": [
      "11\n"
     ]
    }
   ],
   "source": [
    "snake_1.increment()"
   ],
   "metadata": {
    "collapsed": false,
    "ExecuteTime": {
     "end_time": "2023-05-28T12:25:55.533504123Z",
     "start_time": "2023-05-28T12:25:55.512153181Z"
    }
   }
  },
  {
   "cell_type": "markdown",
   "source": [
    "#### Solution 2"
   ],
   "metadata": {
    "collapsed": false
   }
  },
  {
   "cell_type": "code",
   "execution_count": 204,
   "outputs": [],
   "source": [
    "class Snake:\n",
    "    def __init__(self, val = 0):\n",
    "        self.victims = val\n",
    "\n",
    "    def increment(self):\n",
    "        self.victims += 1\n",
    "        print(self.victims)\n"
   ],
   "metadata": {
    "collapsed": false,
    "ExecuteTime": {
     "end_time": "2023-05-28T12:27:47.944744804Z",
     "start_time": "2023-05-28T12:27:47.884681658Z"
    }
   }
  },
  {
   "cell_type": "code",
   "execution_count": 205,
   "outputs": [],
   "source": [
    "snake_2 = Snake(4)"
   ],
   "metadata": {
    "collapsed": false,
    "ExecuteTime": {
     "end_time": "2023-05-28T12:28:04.317404969Z",
     "start_time": "2023-05-28T12:28:04.237757686Z"
    }
   }
  },
  {
   "cell_type": "code",
   "execution_count": 207,
   "outputs": [
    {
     "name": "stdout",
     "output_type": "stream",
     "text": [
      "5\n"
     ]
    }
   ],
   "source": [
    "snake_2.increment()"
   ],
   "metadata": {
    "collapsed": false,
    "ExecuteTime": {
     "end_time": "2023-05-28T12:28:21.651938463Z",
     "start_time": "2023-05-28T12:28:21.626869467Z"
    }
   }
  },
  {
   "cell_type": "markdown",
   "source": [
    "#### Solution 3"
   ],
   "metadata": {
    "collapsed": false
   }
  },
  {
   "cell_type": "code",
   "execution_count": 212,
   "outputs": [],
   "source": [
    "class Snake:\n",
    "    pass\n",
    "\n",
    "\n",
    "class Python(Snake):\n",
    "    pass\n",
    "\n",
    "\n",
    "#print(Python.__name__, 'is a', Snake.__name__)\n",
    "#print(Python.__bases__[0].__name__, 'can be a', Python.__name__)\n",
    "\n"
   ],
   "metadata": {
    "collapsed": false,
    "ExecuteTime": {
     "end_time": "2023-05-28T12:31:14.002994387Z",
     "start_time": "2023-05-28T12:31:13.936445763Z"
    }
   }
  },
  {
   "cell_type": "markdown",
   "source": [
    "### LAB The Timer class\n",
    "\n",
    "**Estimated time**\n",
    "\n",
    "30-60 minutes\n",
    "\n",
    "**Level of difficulty**\n",
    "\n",
    "Easy/Medium\n",
    "\n",
    "**Objectives**\n",
    "\n",
    "-   improving the student's skills in defining classes from scratch;\n",
    "-   defining and using instance variables;\n",
    "-   defining and using methods.\n",
    "\n",
    "**Scenario**\n",
    "\n",
    "We need a class able to count seconds. Easy? Not as much as you may think as we're going to have some specific expectations.\n",
    "\n",
    "Read them carefully as the class you're about write will be used to launch rockets carrying international missions to Mars. It's a great responsibility. We're counting on you!\n",
    "\n",
    "Your class will be called `Timer`. Its constructor accepts three arguments representing **hours** (a value from range \\[0..23\\] - we will be using the military time), **minutes** (from range \\[0..59\\]) and **seconds** (from range \\[0..59\\]).\n",
    "\n",
    "Zero is the default value for all of the above parameters. There is no need to perform any validation checks.\n",
    "\n",
    "The class itself should provide the following facilities:\n",
    "\n",
    "-   objects of the class should be \"printable\", i.e. they should be able to implicitly convert themselves into strings of the following form: \"hh:mm:ss\", with leading zeros added when any of the values is less than 10;\n",
    "-   the class should be equipped with parameterless methods called `next_second()` and `previous_second()`, incrementing the time stored inside objects by +1/-1 second respectively.\n",
    "\n",
    "Use the following hints:\n",
    "\n",
    "-   all object's properties should be private;\n",
    "-   consider writing a separate function (not method!) to format the time string.\n",
    "\n",
    "Complete the template we've provided in the editor. Run your code and check whether the output looks the same as ours.\n",
    "\n",
    "**Expected output**\n",
    "\n",
    "`23:59:59 00:00:00 23:59:59`\n"
   ],
   "metadata": {
    "collapsed": false
   }
  },
  {
   "cell_type": "code",
   "execution_count": 276,
   "outputs": [],
   "source": [
    "from datetime import datetime, timedelta, time, date\n",
    "\n",
    "class Timer:\n",
    "    def __init__(self, hours = 0, minutes = 0, seconds = 0):\n",
    "        self.__hours = hours\n",
    "        self.__minutes = minutes\n",
    "        self.__seconds = seconds\n",
    "        self.__calc_time = time(self.__hours, self.__minutes, self.__seconds)\n",
    "\n",
    "    def __str__(self):\n",
    "        return str(self.__calc_time)\n",
    "\n",
    "    def next_second(self):\n",
    "        self.__calc_time = datetime.combine(date.today(), self.__calc_time) + timedelta(seconds=1)\n",
    "        self.__calc_time = self.__calc_time.time()\n",
    "\n",
    "    def prev_second(self):\n",
    "        self.__calc_time = datetime.combine(date.today(), self.__calc_time) + timedelta(seconds=-1)\n",
    "        self.__calc_time = self.__calc_time.time()"
   ],
   "metadata": {
    "collapsed": false,
    "ExecuteTime": {
     "end_time": "2023-05-28T13:11:23.647799064Z",
     "start_time": "2023-05-28T13:11:23.629419748Z"
    }
   }
  },
  {
   "cell_type": "code",
   "execution_count": 277,
   "outputs": [
    {
     "name": "stdout",
     "output_type": "stream",
     "text": [
      "23:59:59\n",
      "00:00:00\n",
      "23:59:59\n"
     ]
    }
   ],
   "source": [
    "timer = Timer(23, 59, 59)\n",
    "print(timer)\n",
    "timer.next_second()\n",
    "print(timer)\n",
    "timer.prev_second()\n",
    "print(timer)"
   ],
   "metadata": {
    "collapsed": false,
    "ExecuteTime": {
     "end_time": "2023-05-28T13:11:23.953587916Z",
     "start_time": "2023-05-28T13:11:23.935722923Z"
    }
   }
  },
  {
   "cell_type": "code",
   "execution_count": 282,
   "outputs": [],
   "source": [
    "from datetime import datetime, timedelta\n",
    "\n",
    "class Timer_two:\n",
    "    def __init__(self, hours=0, minutes=0, seconds=0):\n",
    "        self.__time = datetime(1, 1, 1, hours, minutes, seconds)\n",
    "\n",
    "    def __str__(self):\n",
    "        return self.__time.strftime(\"%H:%M:%S\")\n",
    "\n",
    "    def next_second(self):\n",
    "        self.__time += timedelta(seconds=1)\n",
    "\n",
    "    def prev_second(self):\n",
    "        self.__time -= timedelta(seconds=1)\n"
   ],
   "metadata": {
    "collapsed": false,
    "ExecuteTime": {
     "end_time": "2023-05-28T13:15:58.978268293Z",
     "start_time": "2023-05-28T13:15:58.893686864Z"
    }
   }
  },
  {
   "cell_type": "code",
   "execution_count": 283,
   "outputs": [
    {
     "name": "stdout",
     "output_type": "stream",
     "text": [
      "23:59:59\n",
      "00:00:00\n",
      "23:59:59\n"
     ]
    }
   ],
   "source": [
    "timer_2 = Timer_two(23, 59, 59)\n",
    "print(timer_2)\n",
    "timer_2.next_second()\n",
    "print(timer_2)\n",
    "timer_2.prev_second()\n",
    "print(timer_2)"
   ],
   "metadata": {
    "collapsed": false,
    "ExecuteTime": {
     "end_time": "2023-05-28T13:15:59.904707619Z",
     "start_time": "2023-05-28T13:15:59.873797393Z"
    }
   }
  },
  {
   "cell_type": "markdown",
   "source": [
    "### LAB Days of the week\n",
    "\n",
    "**Estimated time**\n",
    "\n",
    "30-60 minutes\n",
    "\n",
    "**Level of difficulty**\n",
    "\n",
    "Easy/Medium\n",
    "\n",
    "**Objectives**\n",
    "\n",
    "-   improving the student's skills in defining classes from scratch;\n",
    "-   defining and using instance variables;\n",
    "-   defining and using methods.\n",
    "\n",
    "**Scenario**\n",
    "\n",
    "Your task is to implement a class called Weeker. Yes, your eyes don't deceive you – this name comes from the fact that objects of that class will be able to store and to manipulate the days of the week.\n",
    "\n",
    "The class constructor accepts one argument – a string. The string represents the name of the day of the week and the only acceptable values must come from the following set:\n",
    "\n",
    "Mon Tue Wed Thu Fri Sat Sun\n",
    "\n",
    "Invoking the constructor with an argument from outside this set should raise the WeekDayError exception (define it yourself; don't worry, we'll talk about the objective nature of exceptions soon). The class should provide the following facilities:\n",
    "\n",
    "-   objects of the class should be \"printable\", i.e. they should be able to implicitly convert themselves into strings of the same form as the constructor arguments;\n",
    "-   the class should be equipped with one-parameter methods called `add_days(n)` and `subtract_days(n)`, with **n** being an integer number and updating the day of week stored inside the object in the way reflecting the change of date by the indicated number of days, forward or backward.\n",
    "-   all object's properties should be private;\n",
    "\n",
    "Complete the template we've provided in the editor and run your code and check whether your output looks the same as ours.\n",
    "\n",
    "**Expected output**\n",
    "\n",
    "`Mon Tue Sun Sorry, I can't serve your request.`\n"
   ],
   "metadata": {
    "collapsed": false
   }
  },
  {
   "cell_type": "code",
   "execution_count": 404,
   "outputs": [],
   "source": [
    "# second version\n",
    "class WeekDayError(Exception):\n",
    "    pass\n",
    "\n",
    "class Weeker:\n",
    "    __days_of_week = ['Mon', 'Tue', 'Wed', 'Thu', 'Fri', 'Sat', 'Sun']\n",
    "\n",
    "    def __init__(self, day):\n",
    "        if day not in self.__days_of_week:\n",
    "            raise WeekDayError\n",
    "        self.__day = day\n",
    "\n",
    "    def __str__(self):\n",
    "        return self.__day\n",
    "\n",
    "    def add_days(self, n):\n",
    "        current_index = self.__days_of_week.index(self.__day)\n",
    "        new_index = (current_index + n) % len(self.__days_of_week)\n",
    "        self.__day = self.__days_of_week[new_index]\n",
    "\n",
    "    def subtract_days(self, n):\n",
    "        current_index = self.__days_of_week.index(self.__day)\n",
    "        new_index = (current_index - n) % len(self.__days_of_week)\n",
    "        self.__day = self.__days_of_week[new_index]"
   ],
   "metadata": {
    "collapsed": false,
    "ExecuteTime": {
     "end_time": "2023-05-28T19:39:14.348909960Z",
     "start_time": "2023-05-28T19:39:14.252216816Z"
    }
   }
  },
  {
   "cell_type": "code",
   "execution_count": 406,
   "outputs": [
    {
     "name": "stdout",
     "output_type": "stream",
     "text": [
      "Mon\n",
      "Tue\n",
      "Sun\n",
      "Sorry, I can't serve your request.\n"
     ]
    }
   ],
   "source": [
    "try:\n",
    "    weekday = Weeker('Mon')\n",
    "    print(weekday)\n",
    "    weekday.add_days(15)\n",
    "    print(weekday)\n",
    "    weekday.subtract_days(23)\n",
    "    print(weekday)\n",
    "    weekday = Weeker('Monday')\n",
    "except WeekDayError:\n",
    "    print(\"Sorry, I can't serve your request.\")"
   ],
   "metadata": {
    "collapsed": false,
    "ExecuteTime": {
     "end_time": "2023-05-28T19:39:17.998693755Z",
     "start_time": "2023-05-28T19:39:17.969123888Z"
    }
   }
  },
  {
   "cell_type": "markdown",
   "source": [
    "## LAB Points on a plane\n",
    "\n",
    "\n",
    "**Estimated time**\n",
    "\n",
    "30-60 minutes\n",
    "\n",
    "**Level of difficulty**\n",
    "\n",
    "Easy/Medium\n",
    "\n",
    "**Objectives**\n",
    "\n",
    "-   improving the student's skills in defining classes from scratch;\n",
    "-   defining and using instance variables;\n",
    "-   defining and using methods.\n",
    "\n",
    "**Scenario**\n",
    "\n",
    "Let's visit a very special place - a plane with the Cartesian coordinate system (you can learn more about this concept here: [https://en.wikipedia.org/wiki/Cartesian\\_coordinate\\_system](https://en.wikipedia.org/wiki/Cartesian_coordinate_system)).\n",
    "\n",
    "Each point located on the plane can be described as a pair of coordinates customarily called **x** and **y**. We expect that you are able to write a Python class which stores both coordinates as float numbers. Moreover, we want the objects of this class to evaluate the distances between any of the two points situated on the plane.\n",
    "\n",
    "The task is rather easy if you employ the function named hypot() (available through the _math_ module) which evaluates the length of the hypotenuse of a right triangle (more details here: [https://en.wikipedia.org/wiki/Hypotenuse](https://en.wikipedia.org/wiki/Hypotenuse)) and here: [https://docs.python.org/3.7/library/math.html#trigonometric-functions](https://docs.python.org/3.7/library/math.html#trigonometric-functions).\n",
    "\n",
    "This is how we imagine the class:\n",
    "\n",
    "-   it's called `Point`;\n",
    "-   its constructor accepts two arguments (**x** and **y** respectively), both default to zero;\n",
    "-   all the properties should be private;\n",
    "-   the class contains two parameterless methods called `getx()` and `gety()`, which return each of the two coordinates (the coordinates are stored privately, so they cannot be accessed directly from within the object);\n",
    "-   the class provides a method called `distance_from_xy(x,y)`, which calculates and returns the distance between the point stored inside the object and the other point given as a pair of floats;\n",
    "-   the class provides a method called `distance_from_point(point)`, which calculates the distance (like the previous method), but the other point's location is given as another Point class object;\n",
    "\n",
    "Complete the template we've provided in the editor and run your code and check whether your output looks the same as ours.\n",
    "\n",
    "**Expected output**\n",
    "\n",
    "`1.4142135623730951 1.4142135623730951`"
   ],
   "metadata": {
    "collapsed": false
   }
  },
  {
   "cell_type": "code",
   "execution_count": 451,
   "outputs": [],
   "source": [
    "import math\n",
    "\n",
    "class Point:\n",
    "    def __init__(self, x=0.0, y=0.0):\n",
    "        self.__x = float(x)\n",
    "        self.__y = float(y)\n",
    "        self.__point = [self.__x, self.__y]\n",
    "\n",
    "    def getx(self):\n",
    "        return self.__point[0]\n",
    "\n",
    "    def gety(self):\n",
    "        return self.__point[1]\n",
    "\n",
    "    def distance_from_xy(self, x, y):\n",
    "        return math.dist(self.__point, [x,y])\n",
    "\n",
    "    def distance_from_point(self, point):\n",
    "        return math.dist(self.__point, [point.getx(), point.gety()])\n"
   ],
   "metadata": {
    "collapsed": false,
    "ExecuteTime": {
     "end_time": "2023-05-28T20:18:48.302019672Z",
     "start_time": "2023-05-28T20:18:48.197794788Z"
    }
   }
  },
  {
   "cell_type": "code",
   "execution_count": 450,
   "outputs": [
    {
     "ename": "AttributeError",
     "evalue": "'Point' object has no attribute '_Point__point'",
     "output_type": "error",
     "traceback": [
      "\u001B[0;31m---------------------------------------------------------------------------\u001B[0m",
      "\u001B[0;31mAttributeError\u001B[0m                            Traceback (most recent call last)",
      "Cell \u001B[0;32mIn[450], line 3\u001B[0m\n\u001B[1;32m      1\u001B[0m point1 \u001B[38;5;241m=\u001B[39m Point(\u001B[38;5;241m0\u001B[39m, \u001B[38;5;241m0\u001B[39m)\n\u001B[1;32m      2\u001B[0m point2 \u001B[38;5;241m=\u001B[39m Point(\u001B[38;5;241m1\u001B[39m, \u001B[38;5;241m1\u001B[39m)\n\u001B[0;32m----> 3\u001B[0m \u001B[38;5;28mprint\u001B[39m(\u001B[43mpoint1\u001B[49m\u001B[38;5;241;43m.\u001B[39;49m\u001B[43mdistance_from_point\u001B[49m\u001B[43m(\u001B[49m\u001B[43mpoint2\u001B[49m\u001B[43m)\u001B[49m)\n\u001B[1;32m      4\u001B[0m \u001B[38;5;28mprint\u001B[39m(point2\u001B[38;5;241m.\u001B[39mdistance_from_xy(\u001B[38;5;241m2\u001B[39m, \u001B[38;5;241m0\u001B[39m))\n",
      "Cell \u001B[0;32mIn[449], line 18\u001B[0m, in \u001B[0;36mPoint.distance_from_point\u001B[0;34m(self, point)\u001B[0m\n\u001B[1;32m     17\u001B[0m \u001B[38;5;28;01mdef\u001B[39;00m \u001B[38;5;21mdistance_from_point\u001B[39m(\u001B[38;5;28mself\u001B[39m, point):\n\u001B[0;32m---> 18\u001B[0m     \u001B[38;5;28;01mreturn\u001B[39;00m math\u001B[38;5;241m.\u001B[39mdist(\u001B[38;5;28;43mself\u001B[39;49m\u001B[38;5;241;43m.\u001B[39;49m\u001B[43m__point\u001B[49m, [point\u001B[38;5;241m.\u001B[39mgetx(), point\u001B[38;5;241m.\u001B[39mgety()])\n",
      "\u001B[0;31mAttributeError\u001B[0m: 'Point' object has no attribute '_Point__point'"
     ]
    }
   ],
   "source": [
    "point1 = Point(0, 0)\n",
    "point2 = Point(1, 1)\n",
    "print(point1.distance_from_point(point2))\n",
    "print(point2.distance_from_xy(2, 0))\n"
   ],
   "metadata": {
    "collapsed": false,
    "ExecuteTime": {
     "end_time": "2023-05-28T20:18:17.403372904Z",
     "start_time": "2023-05-28T20:18:17.357560547Z"
    }
   }
  },
  {
   "cell_type": "code",
   "execution_count": 446,
   "outputs": [
    {
     "name": "stdout",
     "output_type": "stream",
     "text": [
      "1.4142135623730951\n",
      "1.4142135623730951\n"
     ]
    }
   ],
   "source": [
    "# Solution 2:\n",
    "import math\n",
    "\n",
    "class Point:\n",
    "    def __init__(self, x=0.0, y=0.0):\n",
    "        self.__x = float(x)\n",
    "        self.__y = float(y)\n",
    "\n",
    "    def getx(self):\n",
    "        return self.__x\n",
    "\n",
    "    def gety(self):\n",
    "        return self.__y\n",
    "\n",
    "    def distance_from_xy(self, x, y):\n",
    "        return math.hypot(self.__x - x, self.__y - y)\n",
    "\n",
    "    def distance_from_point(self, point):\n",
    "        return math.hypot(self.__x - point.getx(), self.__y - point.gety())\n",
    "\n",
    "\n",
    "point1 = Point(0, 0)\n",
    "point2 = Point(1, 1)\n",
    "print(point1.distance_from_point(point2))\n",
    "print(point2.distance_from_xy(2, 0))"
   ],
   "metadata": {
    "collapsed": false,
    "ExecuteTime": {
     "end_time": "2023-05-28T20:15:48.390507147Z",
     "start_time": "2023-05-28T20:15:48.370744949Z"
    }
   }
  },
  {
   "cell_type": "markdown",
   "source": [
    "## LAB Triangle\n",
    "\n",
    "Estimated time\n",
    "\n",
    "30-60 minutes\n",
    "\n",
    "Level of difficulty\n",
    "\n",
    "Medium\n",
    "Objectives\n",
    "\n",
    "-   improving the student's skills in defining classes from scratch;\n",
    "-   using composition.\n",
    "\n",
    "Scenario\n",
    "\n",
    "Now we're going to embed the `Point` class (see Lab 3.4.1.14) inside another class. Also, we're going to put three points into one class, which will let us define a triangle. How can we do it?\n",
    "\n",
    "The new class will be called `Triangle` and this is the list of our expectations:\n",
    "\n",
    "-   the constructor accepts three arguments - all of them are objects of the `Point` class;\n",
    "-   the points are stored inside the object as a private list;\n",
    "-   the class provides a parameterless method called `perimeter()`, which calculates the perimeter of the triangle described by the three points; the perimeter is a sum of all legs' lengths (we mention it for the record, although we are sure that you know it perfectly yourself.)\n",
    "\n",
    "Complete the template we've provided in the editor. Run your code and check whether the evaluated perimeter is the same as ours.\n",
    "\n",
    "Below you can copy the `Point` class code we used in the previous lab:\n",
    "\n",
    "`class Point: def __init__(self, x=0.0, y=0.0): self.__x = x self.__y = y`\n",
    "\n",
    "Expected output\n",
    "\n",
    "`3.414213562373095`\n"
   ],
   "metadata": {
    "collapsed": false
   }
  },
  {
   "cell_type": "code",
   "execution_count": 458,
   "outputs": [
    {
     "name": "stdout",
     "output_type": "stream",
     "text": [
      "3.414213562373095\n"
     ]
    }
   ],
   "source": [
    "import math\n",
    "\n",
    "\n",
    "class Point:\n",
    "    def __init__(self, x=0.0, y=0.0):\n",
    "        self.__x = float(x)\n",
    "        self.__y = float(y)\n",
    "\n",
    "    def getx(self):\n",
    "        return self.__x\n",
    "\n",
    "    def gety(self):\n",
    "        return self.__y\n",
    "\n",
    "    def distance_from_xy(self, x, y):\n",
    "        return math.hypot(self.__x - x, self.__y - y)\n",
    "\n",
    "    def distance_from_point(self, point):\n",
    "        return math.hypot(self.__x - point.getx(), self.__y - point.gety())\n",
    "\n",
    "\n",
    "class Triangle(Point):\n",
    "    def __init__(self, vertice1, vertice2, vertice3):\n",
    "        self.__vertice1 = vertice1\n",
    "        self.__vertice2 = vertice2\n",
    "        self.__vertice3 = vertice3\n",
    "\n",
    "    def perimeter(self):\n",
    "        sum = self.__vertice1.distance_from_point(self.__vertice2) + self.__vertice2.distance_from_point(self.__vertice3) + self.__vertice3.distance_from_point(self.__vertice1)\n",
    "        return sum\n",
    "\n",
    "\n",
    "\n",
    "triangle = Triangle(Point(0, 0), Point(1, 0), Point(0, 1))\n",
    "print(triangle.perimeter())\n"
   ],
   "metadata": {
    "collapsed": false,
    "ExecuteTime": {
     "end_time": "2023-05-28T20:35:29.618630737Z",
     "start_time": "2023-05-28T20:35:29.503244443Z"
    }
   }
  },
  {
   "cell_type": "code",
   "execution_count": 459,
   "outputs": [
    {
     "name": "stdout",
     "output_type": "stream",
     "text": [
      "3.414213562373095\n"
     ]
    }
   ],
   "source": [
    "# second solution\n",
    "import math\n",
    "\n",
    "\n",
    "class Point:\n",
    "    def __init__(self, x=0.0, y=0.0):\n",
    "        self.__x = float(x)\n",
    "        self.__y = float(y)\n",
    "\n",
    "    def getx(self):\n",
    "        return self.__x\n",
    "\n",
    "    def gety(self):\n",
    "        return self.__y\n",
    "\n",
    "    def distance_from_xy(self, x, y):\n",
    "        return math.hypot(self.__x - x, self.__y - y)\n",
    "\n",
    "    def distance_from_point(self, point):\n",
    "        return math.hypot(self.__x - point.getx(), self.__y - point.gety())\n",
    "\n",
    "\n",
    "class Triangle:\n",
    "    def __init__(self, vertice1, vertice2, vertice3):\n",
    "        self.__vertices = [vertice1, vertice2, vertice3]\n",
    "\n",
    "    def perimeter(self):\n",
    "        side1 = self.__vertices[0].distance_from_point(self.__vertices[1])\n",
    "        side2 = self.__vertices[1].distance_from_point(self.__vertices[2])\n",
    "        side3 = self.__vertices[2].distance_from_point(self.__vertices[0])\n",
    "        return side1 + side2 + side3\n",
    "\n",
    "\n",
    "triangle = Triangle(Point(0, 0), Point(1, 0), Point(0, 1))\n",
    "print(triangle.perimeter())"
   ],
   "metadata": {
    "collapsed": false,
    "ExecuteTime": {
     "end_time": "2023-05-28T20:38:00.014655335Z",
     "start_time": "2023-05-28T20:37:59.939690079Z"
    }
   }
  },
  {
   "cell_type": "markdown",
   "source": [
    "## Fundamentals: Inheritance\n"
   ],
   "metadata": {
    "collapsed": false
   }
  },
  {
   "cell_type": "markdown",
   "source": [
    "### Inheritance - why and how?\n",
    "\n",
    "Before we start talking about inheritance, we want to present a new, handy mechanism utilized by Python's classes and objects - it's **the way in which the object is able to introduce itself**.\n",
    "\n",
    "Let's start with an example. Look at the code in the editor.\n",
    "\n",
    "The program prints out just one line of text, which in our case is this:\n",
    "\n",
    "`<__main__.Star object at 0x7f1074cc7c50>`\n",
    "\n",
    "**output**\n",
    "\n",
    "If you run the same code on your computer, you'll see something very similar, although the hexadecimal number (the substring starting with 0x) will be different, as it's just an internal object identifier used by Python, and it's unlikely that it would appear the same when the same code is run in a different environment.\n",
    "\n",
    "As you can see, the printout here isn't really useful, and something more specific, or just prettier, may be more preferable.\n",
    "\n",
    "Fortunately, Python offers just such a function.\n"
   ],
   "metadata": {
    "collapsed": false
   }
  },
  {
   "cell_type": "code",
   "execution_count": 461,
   "outputs": [
    {
     "name": "stdout",
     "output_type": "stream",
     "text": [
      "<__main__.Star object at 0x7fafb5bbc370>\n"
     ]
    }
   ],
   "source": [
    "class Star:\n",
    "    def __init__(self, name, galaxy):\n",
    "        self.name = name\n",
    "        self.galaxy = galaxy\n",
    "\n",
    "\n",
    "sun = Star(\"Sun\", \"Milky Way\")\n",
    "print(sun)\n"
   ],
   "metadata": {
    "collapsed": false,
    "ExecuteTime": {
     "end_time": "2023-05-28T20:43:59.078825232Z",
     "start_time": "2023-05-28T20:43:59.002499882Z"
    }
   }
  },
  {
   "cell_type": "markdown",
   "source": [
    "### Inheritance - why and how?\n",
    "\n",
    "When Python needs any class/object to be presented as a string (putting an object as an argument in the `print()` function invocation fits this condition) it tries to invoke a method named `__str__()` from the object and to use the string it returns.\n",
    "\n",
    "The default `__str__()` method returns the previous string - ugly and not very informative. You can change it just by **defining your own method of the name**.\n",
    "\n",
    "We've just done it - look at the code in the editor.\n",
    "\n",
    "This new `__str__()` method makes a string consisting of the star's and galaxy's names - nothing special, but the print results look better now, doesn't it?\n",
    "\n",
    "Can you guess the output? Run the code to check if you were right."
   ],
   "metadata": {
    "collapsed": false
   }
  },
  {
   "cell_type": "code",
   "execution_count": 463,
   "outputs": [
    {
     "name": "stdout",
     "output_type": "stream",
     "text": [
      "Sun in Milky Way\n"
     ]
    }
   ],
   "source": [
    "class Star:\n",
    "    def __init__(self, name, galaxy):\n",
    "        self.name = name\n",
    "        self.galaxy = galaxy\n",
    "\n",
    "    def __str__(self):\n",
    "        return self.name + ' in ' + self.galaxy\n",
    "\n",
    "\n",
    "sun = Star(\"Sun\", \"Milky Way\")\n",
    "print(sun)\n"
   ],
   "metadata": {
    "collapsed": false,
    "ExecuteTime": {
     "end_time": "2023-05-28T20:47:26.223731717Z",
     "start_time": "2023-05-28T20:47:26.186448827Z"
    }
   }
  },
  {
   "cell_type": "markdown",
   "source": [
    "### Inheritance - why and how?\n",
    "\n",
    "The term inheritance is older than computer programming, and it describes the common practice of passing different goods from one person to another upon that person's death. The term, when related to computer programming, has an entirely different meaning.\n",
    "\n",
    "<img src=\"../img/module_3/5afc4a6dfa008a552c43c806c647923e22ad25fd.png\" alt= “” width=\"50%\" height=\"50%\">\n",
    "\n",
    "Let's define the term for our purposes:\n",
    "\n",
    "Inheritance is a common practice (in object programming) of **passing attributes and methods from the superclass (defined and existing) to a newly created class, called the subclass**.\n",
    "\n",
    "In other words, inheritance is **a way of building a new class, not from scratch, but by using an already defined repertoire of traits**. The new class inherits (and this is the key) all the already existing equipment, but is able to add some new ones if needed.\n",
    "\n",
    "Thanks to that, it's possible to **build more specialized (more concrete) classes** using some sets of predefined general rules and behaviors.\n",
    "\n",
    "The most important factor of the process is the relation between the superclass and all of its subclasses (note: if _B_ is a subclass of _A_ and _C_ is a subclass of _B_, this also means that _C_ is a subclass of _A_, as the relationship is fully transitive).\n",
    "\n",
    "A very simple example of **two-level inheritance** is presented here:\n",
    "\n",
    "```python\n",
    "class Vehicle:\n",
    "    pass\n",
    "\n",
    "\n",
    "class LandVehicle(Vehicle):\n",
    "    pass\n",
    "\n",
    "\n",
    "class TrackedVehicle(LandVehicle):\n",
    "    pass\n",
    "\n",
    "```\n",
    "\n",
    "All the presented classes are empty for now, as we're going to show you how the mutual relations between the super- and subclasses work. We'll fill them with contents soon.\n",
    "\n",
    "We can say that:\n",
    "\n",
    "-   The `Vehicle` class is the superclass for both the `LandVehicle` and `TrackedVehicle` classes;\n",
    "-   The `LandVehicle` class is a subclass of `Vehicle` and a superclass of `TrackedVehicle` at the same time;\n",
    "-   The `TrackedVehicle` class is a subclass of both the `Vehicle` and `LandVehicle` classes.\n",
    "\n",
    "We understand this just by reading the code (in other words, we know it because we can see it).\n",
    "\n",
    "Does Python know the same? Is it possible to ask Python about it? Yes, it is."
   ],
   "metadata": {
    "collapsed": false
   }
  },
  {
   "cell_type": "markdown",
   "source": [
    "### Inheritance: issubclass()\n",
    "\n",
    "Python offers a function which is able to **identify a relationship between two classes**, and although its diagnosis isn't complex, it can **check if a particular class is a subclass of any other class**.\n",
    "\n",
    "This is how it looks:\n",
    "\n",
    "`issubclass(ClassOne, ClassTwo)`\n",
    "\n",
    "The function returns True if `ClassOne` is a subclass of `ClassTwo`, and False otherwise.\n",
    "\n",
    "Let's see it in action - it may surprise you. Look at the code in the editor. Read it carefully.\n",
    "\n",
    "There are two nested loops. Their purpose is to **check all possible ordered pairs of classes, and to print the results of the check to determine whether the pair matches the subclass-superclass relationship**.\n",
    "\n",
    "Run the code. The program produces the following output:\n",
    "\n",
    "`True False False True True False True True True`\n",
    "\n",
    "**output**\n",
    "\n",
    "Let's make the result more readable:\n",
    "\n",
    "| ↓ is a subclass of → | Vehicle | LandVehicle | TrackedVehicle |\n",
    "| --- | --- | --- | --- |\n",
    "| **Vehicle** | True | False | False |\n",
    "| **LandVehicle** | True | True | False |\n",
    "| **TrackedVehicle** | True | True | True |\n",
    "\n",
    "There is one important observation to make: **each class is considered to be a subclass of itself**.\n"
   ],
   "metadata": {
    "collapsed": false
   }
  },
  {
   "cell_type": "code",
   "execution_count": 466,
   "outputs": [
    {
     "name": "stdout",
     "output_type": "stream",
     "text": [
      "True\tFalse\tFalse\t\n",
      "True\tTrue\tFalse\t\n",
      "True\tTrue\tTrue\t\n"
     ]
    }
   ],
   "source": [
    "class Vehicle:\n",
    "    pass\n",
    "\n",
    "\n",
    "class LandVehicle(Vehicle):\n",
    "    pass\n",
    "\n",
    "\n",
    "class TrackedVehicle(LandVehicle):\n",
    "    pass\n",
    "\n",
    "\n",
    "for cls1 in [Vehicle, LandVehicle, TrackedVehicle]:\n",
    "    for cls2 in [Vehicle, LandVehicle, TrackedVehicle]:\n",
    "        print(issubclass(cls1, cls2), end=\"\\t\")\n",
    "    print()\n"
   ],
   "metadata": {
    "collapsed": false,
    "ExecuteTime": {
     "end_time": "2023-05-28T20:55:25.142515174Z",
     "start_time": "2023-05-28T20:55:25.114829203Z"
    }
   }
  },
  {
   "cell_type": "markdown",
   "source": [
    "### Inheritance: isinstance()\n",
    "\n",
    "As you already know, **an object is an incarnation of a class**. This means that the object is like a cake baked using a recipe which is included inside the class.\n",
    "\n",
    "This can generate some important issues.\n",
    "\n",
    "Let's assume that you've got a cake (e.g., as an argument passed to your function). You want to know what recipe has been used to make it. Why? Because you want to know what to expect from it, e.g., whether it contains nuts or not, which is crucial information to some people.\n",
    "\n",
    "Similarly, it can be crucial if the object does have (or doesn't have) certain characteristics. In other words, **whether it is an object of a certain class or not**.\n",
    "\n",
    "Such a fact could be detected by the function named `isinstance()`:\n",
    "\n",
    "`isinstance(objectName, ClassName)`\n",
    "\n",
    "The functions returns True if the object is an instance of the class, or False otherwise.\n",
    "\n",
    "**Being an instance of a class means that the object (the cake) has been prepared using a recipe contained in either the class or one of its superclasses**.\n",
    "\n",
    "Don't forget: if a subclass contains at least the same equipment as any of its superclasses, it means that objects of the subclass can do the same as objects derived from the superclass, ergo, it's an instance of its home class and any of its superclasses.\n",
    "\n",
    "Let's test it. Analyze the code in the editor.\n",
    "\n",
    "We've created three objects, one for each of the classes. Next, using two nested loops, we check all possible object-class pairs **to find out if the objects are instances of the classes**.\n",
    "\n",
    "Run the code.\n",
    "\n",
    "This is what we get:\n",
    "\n",
    "`True False False True True False True True True`\n",
    "\n",
    "**output**\n",
    "\n",
    "Let's make the result more readable once again:\n",
    "\n",
    "| ↓ is an instance of → | Vehicle | LandVehicle | TrackedVehicle |\n",
    "| --- | --- | --- | --- |\n",
    "| **my\\_vehicle** | True | False | False |\n",
    "| **my\\_land\\_vehicle** | True | True | False |\n",
    "| **my\\_tracked\\_vehicle** | True | True | True |\n",
    "\n",
    "Does the table confirm our expectations?\n"
   ],
   "metadata": {
    "collapsed": false
   }
  },
  {
   "cell_type": "code",
   "execution_count": 467,
   "outputs": [
    {
     "name": "stdout",
     "output_type": "stream",
     "text": [
      "True\tFalse\tFalse\t\n",
      "True\tTrue\tFalse\t\n",
      "True\tTrue\tTrue\t\n"
     ]
    }
   ],
   "source": [
    "class Vehicle:\n",
    "    pass\n",
    "\n",
    "\n",
    "class LandVehicle(Vehicle):\n",
    "    pass\n",
    "\n",
    "\n",
    "class TrackedVehicle(LandVehicle):\n",
    "    pass\n",
    "\n",
    "\n",
    "my_vehicle = Vehicle()\n",
    "my_land_vehicle = LandVehicle()\n",
    "my_tracked_vehicle = TrackedVehicle()\n",
    "\n",
    "for obj in [my_vehicle, my_land_vehicle, my_tracked_vehicle]:\n",
    "    for cls in [Vehicle, LandVehicle, TrackedVehicle]:\n",
    "        print(isinstance(obj, cls), end=\"\\t\")\n",
    "    print()"
   ],
   "metadata": {
    "collapsed": false,
    "ExecuteTime": {
     "end_time": "2023-05-28T20:56:57.625765969Z",
     "start_time": "2023-05-28T20:56:57.552448423Z"
    }
   }
  },
  {
   "cell_type": "code",
   "execution_count": 472,
   "outputs": [
    {
     "name": "stdout",
     "output_type": "stream",
     "text": [
      "True\n",
      "False\n"
     ]
    }
   ],
   "source": [
    "my_str = \"i'm a string\"\n",
    "print(isinstance(my_str, str))\n",
    "print(isinstance(my_str, int))"
   ],
   "metadata": {
    "collapsed": false,
    "ExecuteTime": {
     "end_time": "2023-05-28T20:59:19.477128621Z",
     "start_time": "2023-05-28T20:59:19.448581793Z"
    }
   }
  },
  {
   "cell_type": "markdown",
   "source": [
    "### Inheritance: the is operator\n",
    "\n",
    "There is also a Python operator worth mentioning, as it refers directly to objects - here it is:\n",
    "\n",
    "`object_one is object_two`\n",
    "\n",
    "**The `is` operator checks whether two variables (`object_one` and `object_two` here) refer to the same object**.\n",
    "\n",
    "Don't forget that **variables don't store the objects themselves, but only the handles pointing to the internal Python memory**.\n",
    "\n",
    "Assigning a value of an object variable to another variable doesn't copy the object, but only its handle. This is why an operator like `is` may be very useful in particular circumstances.\n",
    "\n",
    "Take a look at the code in the editor. Let's analyze it:\n",
    "\n",
    "-   there is a very simple class equipped with a simple constructor, creating just one property. The class is used to instantiate two objects. The former is then assigned to another variable, and its `val` property is incremented by one.\n",
    "-   afterward, the `is` operator is applied three times to check all possible pairs of objects, and all `val` property values are also printed.\n",
    "-   the last part of the code carries out another experiment. After three assignments, both strings contain the same texts, but **these texts are stored in different objects**.\n",
    "\n",
    "The code prints:\n",
    "\n",
    "`False False True 1 2 1 True False`\n",
    "\n",
    "**output**\n",
    "\n",
    "The results prove that `object_1` and `object_3` are actually the same objects, while `string_1` and `string_2` aren't, despite their contents being the same.\n"
   ],
   "metadata": {
    "collapsed": false
   }
  },
  {
   "cell_type": "code",
   "execution_count": 474,
   "outputs": [
    {
     "name": "stdout",
     "output_type": "stream",
     "text": [
      "False\n",
      "False\n",
      "True\n",
      "1 2 1\n",
      "True False\n"
     ]
    }
   ],
   "source": [
    "class SampleClass:\n",
    "    def __init__(self, val):\n",
    "        self.val = val\n",
    "\n",
    "\n",
    "object_1 = SampleClass(0)\n",
    "object_2 = SampleClass(2)\n",
    "object_3 = object_1\n",
    "object_3.val += 1\n",
    "\n",
    "print(object_1 is object_2)\n",
    "print(object_2 is object_3)\n",
    "print(object_3 is object_1)\n",
    "print(object_1.val, object_2.val, object_3.val)\n",
    "\n",
    "string_1 = \"Mary had a little \"\n",
    "string_2 = \"Mary had a little lamb\"\n",
    "string_1 += \"lamb\"\n",
    "\n",
    "print(string_1 == string_2, string_1 is string_2)\n"
   ],
   "metadata": {
    "collapsed": false,
    "ExecuteTime": {
     "end_time": "2023-05-28T21:00:29.222131294Z",
     "start_time": "2023-05-28T21:00:29.107339163Z"
    }
   }
  },
  {
   "cell_type": "markdown",
   "source": [
    "### How Python finds properties and methods\n",
    "\n",
    "Now we're going to look at how Python deals with inheriting methods.\n",
    "\n",
    "Take a look at the example in the editor. Let's analyze it:\n",
    "\n",
    "-   there is a class named `Super`, which defines its own constructor used to assign the object's property, named `name`.\n",
    "-   the class defines the `__str__()` method, too, which makes the class able to present its identity in clear text form.\n",
    "-   the class is next used as a base to create a subclass named `Sub`. The `Sub` class defines its own constructor, which invokes the one from the superclass. Note how we've done it: `Super.__init__(self, name)`.\n",
    "-   we've explicitly named the superclass, and pointed to the method to invoke `__init__()`, providing all needed arguments.\n",
    "-   we've instantiated one object of class `Sub` and printed it.\n",
    "\n",
    "The code outputs:\n",
    "\n",
    "`My name is Andy.`\n",
    "\n",
    "**output**\n",
    "\n",
    "Note: As there is no `__str__()` method within the `Sub` class, the printed string is to be produced within the `Super` class. This means that the `__str__()` method has been inherited by the `Sub` class.\n"
   ],
   "metadata": {
    "collapsed": false
   }
  },
  {
   "cell_type": "code",
   "execution_count": 478,
   "outputs": [
    {
     "name": "stdout",
     "output_type": "stream",
     "text": [
      "My name is Andy.\n"
     ]
    }
   ],
   "source": [
    "class Super:\n",
    "    def __init__(self, name):\n",
    "        self.name = name\n",
    "\n",
    "    def __str__(self):\n",
    "        return \"My name is \" + self.name + \".\"\n",
    "\n",
    "\n",
    "class Sub(Super):\n",
    "    def __init__(self, name):\n",
    "        Super.__init__(self, name)\n",
    "\n",
    "\n",
    "obj = Sub(\"Andy\")\n",
    "\n",
    "print(obj)\n"
   ],
   "metadata": {
    "collapsed": false,
    "ExecuteTime": {
     "end_time": "2023-05-28T21:05:25.070151047Z",
     "start_time": "2023-05-28T21:05:25.030518462Z"
    }
   }
  },
  {
   "cell_type": "code",
   "execution_count": 479,
   "outputs": [
    {
     "name": "stdout",
     "output_type": "stream",
     "text": [
      "Nope Super! My name is Andy.\n"
     ]
    }
   ],
   "source": [
    "class Super:\n",
    "    def __init__(self, name):\n",
    "        self.name = name\n",
    "\n",
    "    def __str__(self):\n",
    "        return \"My name is \" + self.name + \".\"\n",
    "\n",
    "\n",
    "class Sub(Super):\n",
    "    def __init__(self, name):\n",
    "        Super.__init__(self, name)\n",
    "\n",
    "    def __str__(self):\n",
    "        return \"Nope Super! My name is \" + self.name + \".\"\n",
    "\n",
    "\n",
    "obj = Sub(\"Andy\")\n",
    "\n",
    "print(obj)\n"
   ],
   "metadata": {
    "collapsed": false,
    "ExecuteTime": {
     "end_time": "2023-05-28T21:09:31.335547096Z",
     "start_time": "2023-05-28T21:09:31.238276875Z"
    }
   }
  },
  {
   "cell_type": "markdown",
   "source": [
    "### How Python finds properties and methods: continued\n",
    "\n",
    "Look at the code in the editor. We've modified it to show you another method of accessing any entity defined inside the superclass.\n",
    "\n",
    "In the last example, we explicitly named the superclass. In this example, we make use of the `super()` function, which **accesses the superclass without needing to know its name**:\n",
    "\n",
    "`super().__init__(name)`\n",
    "\n",
    "The `super()` function creates a context in which you don't have to (moreover, you mustn't) pass the self argument to the method being invoked - this is why it's possible to activate the superclass constructor using only one argument.\n",
    "\n",
    "Note: you can use this mechanism not only to **invoke the superclass constructor, but also to get access to any of the resources available inside the superclass**.\n"
   ],
   "metadata": {
    "collapsed": false
   }
  },
  {
   "cell_type": "code",
   "execution_count": 480,
   "outputs": [
    {
     "name": "stdout",
     "output_type": "stream",
     "text": [
      "My name is Andy.\n"
     ]
    }
   ],
   "source": [
    "class Super:\n",
    "    def __init__(self, name):\n",
    "        self.name = name\n",
    "\n",
    "    def __str__(self):\n",
    "        return \"My name is \" + self.name + \".\"\n",
    "\n",
    "\n",
    "class Sub(Super):\n",
    "    def __init__(self, name):\n",
    "        super().__init__(name)\n",
    "\n",
    "\n",
    "obj = Sub(\"Andy\")\n",
    "\n",
    "print(obj)\n"
   ],
   "metadata": {
    "collapsed": false,
    "ExecuteTime": {
     "end_time": "2023-05-28T21:10:17.096332152Z",
     "start_time": "2023-05-28T21:10:17.018670626Z"
    }
   }
  },
  {
   "cell_type": "code",
   "execution_count": 481,
   "outputs": [
    {
     "name": "stdout",
     "output_type": "stream",
     "text": [
      "Super1: My name is Andy.\n"
     ]
    }
   ],
   "source": [
    "class Super1:\n",
    "    def __init__(self, name):\n",
    "        self.name = name\n",
    "\n",
    "    def __str__(self):\n",
    "        return \"Super1: My name is \" + self.name + \".\"\n",
    "\n",
    "class Super2:\n",
    "    def __init__(self, name):\n",
    "        self.name = name\n",
    "\n",
    "    def __str__(self):\n",
    "        return \"Super2: My name is \" + self.name + \".\"\n",
    "\n",
    "class Sub(Super1, Super2):\n",
    "    def __init__(self, name):\n",
    "        super().__init__(name)\n",
    "\n",
    "\n",
    "obj = Sub(\"Andy\")\n",
    "\n",
    "print(obj)\n"
   ],
   "metadata": {
    "collapsed": false,
    "ExecuteTime": {
     "end_time": "2023-05-28T21:12:01.784307550Z",
     "start_time": "2023-05-28T21:12:01.669256518Z"
    }
   }
  },
  {
   "cell_type": "markdown",
   "source": [
    "### How Python finds properties and methods: continued\n",
    "\n",
    "Let's try to do something similar, but with properties (more precisely: with **class variables**).\n",
    "\n",
    "Take a look at the example in the editor.\n",
    "\n",
    "As you can see, the `Super` class defines one class variable named `supVar`, and the `Sub` class defines a variable named `subVar`.\n",
    "\n",
    "Both these variables are visible inside the object of class `Sub` - this is why the code outputs:\n",
    "\n",
    "`2 1`\n",
    "\n",
    "**output**\n"
   ],
   "metadata": {
    "collapsed": false
   }
  },
  {
   "cell_type": "code",
   "execution_count": 482,
   "outputs": [
    {
     "name": "stdout",
     "output_type": "stream",
     "text": [
      "2\n",
      "1\n"
     ]
    }
   ],
   "source": [
    "# Testing properties: class variables.\n",
    "class Super:\n",
    "    supVar = 1\n",
    "\n",
    "\n",
    "class Sub(Super):\n",
    "    subVar = 2\n",
    "\n",
    "\n",
    "obj = Sub()\n",
    "\n",
    "print(obj.subVar)\n",
    "print(obj.supVar)\n"
   ],
   "metadata": {
    "collapsed": false,
    "ExecuteTime": {
     "end_time": "2023-05-28T21:13:52.186370312Z",
     "start_time": "2023-05-28T21:13:52.102917395Z"
    }
   }
  },
  {
   "cell_type": "markdown",
   "source": [
    "### How Python finds properties and methods: continued\n",
    "\n",
    "The same effect can be observed with **instance variables** - take a look at the second example in the editor.\n",
    "\n",
    "The `Sub` class constructor creates an instance variable named `subVar`, while the `Super` constructor does the same with a variable named `supVar`. As previously, both variables are accessible from within the object of class `Sub`.\n",
    "\n",
    "The program's output is:\n",
    "\n",
    "`12 11`\n",
    "\n",
    "**output**\n",
    "\n",
    "Note: the existence of the `supVar` variable is obviously conditioned by the `Super` class constructor invocation. Omitting it would result in the absence of the variable in the created object (try it yourself).\n"
   ],
   "metadata": {
    "collapsed": false
   }
  },
  {
   "cell_type": "code",
   "execution_count": 483,
   "outputs": [
    {
     "name": "stdout",
     "output_type": "stream",
     "text": [
      "12\n",
      "11\n"
     ]
    }
   ],
   "source": [
    "# Testing properties: instance variables.\n",
    "class Super:\n",
    "    def __init__(self):\n",
    "        self.supVar = 11\n",
    "\n",
    "\n",
    "class Sub(Super):\n",
    "    def __init__(self):\n",
    "        super().__init__()\n",
    "        self.subVar = 12\n",
    "\n",
    "\n",
    "obj = Sub()\n",
    "\n",
    "print(obj.subVar)\n",
    "print(obj.supVar)\n"
   ],
   "metadata": {
    "collapsed": false,
    "ExecuteTime": {
     "end_time": "2023-05-28T21:15:31.664763403Z",
     "start_time": "2023-05-28T21:15:31.566595299Z"
    }
   }
  },
  {
   "cell_type": "markdown",
   "source": [
    "### How Python finds properties and methods: continued\n",
    "\n",
    "It's now possible to formulate a general statement describing Python's behavior.\n",
    "\n",
    "When you try to access any object's entity, Python will try to (in this order):\n",
    "\n",
    "-   find it **inside the object** itself;\n",
    "-   find it **in all classes** involved in the object's inheritance line from bottom to top;\n",
    "\n",
    "If both of the above fail, an **exception (`AttributeError`) is raised**.\n",
    "\n",
    "The first condition may need some additional attention. As you know, all objects deriving from a particular class may have different sets of attributes, and some of the attributes may be added to the object a long time after the object's creation.\n",
    "\n",
    "The example in the editor summarizes this in a **three-level inheritance line**. Analyze it carefully.\n",
    "\n",
    "All the comments we've made so far are related to **single inheritance**, when a subclass has exactly one superclass. This is the most common situation (and the recommended one, too).\n",
    "\n",
    "Python, however, offers much more here. In the next lessons we're going to show you some examples of **multiple inheritance**.\n"
   ],
   "metadata": {
    "collapsed": false
   }
  },
  {
   "cell_type": "code",
   "execution_count": 484,
   "outputs": [
    {
     "name": "stdout",
     "output_type": "stream",
     "text": [
      "100 101 102\n",
      "200 201 202\n",
      "300 301 302\n"
     ]
    }
   ],
   "source": [
    "class Level1:\n",
    "    variable_1 = 100\n",
    "    def __init__(self):\n",
    "        self.var_1 = 101\n",
    "\n",
    "    def fun_1(self):\n",
    "        return 102\n",
    "\n",
    "\n",
    "class Level2(Level1):\n",
    "    variable_2 = 200\n",
    "    def __init__(self):\n",
    "        super().__init__()\n",
    "        self.var_2 = 201\n",
    "\n",
    "    def fun_2(self):\n",
    "        return 202\n",
    "\n",
    "\n",
    "class Level3(Level2):\n",
    "    variable_3 = 300\n",
    "    def __init__(self):\n",
    "        super().__init__()\n",
    "        self.var_3 = 301\n",
    "\n",
    "    def fun_3(self):\n",
    "        return 302\n",
    "\n",
    "\n",
    "obj = Level3()\n",
    "\n",
    "print(obj.variable_1, obj.var_1, obj.fun_1())\n",
    "print(obj.variable_2, obj.var_2, obj.fun_2())\n",
    "print(obj.variable_3, obj.var_3, obj.fun_3())\n"
   ],
   "metadata": {
    "collapsed": false,
    "ExecuteTime": {
     "end_time": "2023-05-28T21:18:17.651039971Z",
     "start_time": "2023-05-28T21:18:17.541813711Z"
    }
   }
  },
  {
   "cell_type": "markdown",
   "source": [
    "### How Python finds properties and methods: continued\n",
    "\n",
    "**Multiple inheritance occurs when a class has more than one superclass**. Syntactically, such inheritance is presented as a comma-separated list of superclasses put inside parentheses after the new class name - just like here:\n",
    "\n",
    "\n",
    "```python\n",
    "class SuperA:\n",
    "    var_a = 10\n",
    "    def fun_a(self):\n",
    "        return 11\n",
    "\n",
    "\n",
    "class SuperB:\n",
    "    var_b = 20\n",
    "    def fun_b(self):\n",
    "        return 21\n",
    "\n",
    "\n",
    "class Sub(SuperA, SuperB):\n",
    "    pass\n",
    "\n",
    "obj = Sub()\n",
    "\n",
    "print(obj.var_a, obj.fun_a())\n",
    "print(obj.var_b, obj.fun_b())\n",
    "\n",
    "```\n",
    "\n",
    "The `Sub` class has two superclasses: `SuperA` and `SuperB`. This means that the `Sub` class **inherits all the goods offered by both `SuperA` and `SuperB`**.\n",
    "\n",
    "The code prints:\n",
    "\n",
    "`10 11 20 21`\n",
    "\n",
    "**output**\n",
    "\n",
    "Now it's time to introduce a brand new term - **overriding**.\n",
    "\n",
    "What do you think will happen if more than one of the superclasses defines an entity of a particular name?\n"
   ],
   "metadata": {
    "collapsed": false
   }
  },
  {
   "cell_type": "code",
   "execution_count": 486,
   "outputs": [
    {
     "name": "stdout",
     "output_type": "stream",
     "text": [
      "10 11\n",
      "20 21\n"
     ]
    }
   ],
   "source": [
    "class SuperA:\n",
    "    var_a = 10\n",
    "    def fun_a(self):\n",
    "        return 11\n",
    "\n",
    "\n",
    "class SuperB:\n",
    "    var_b = 20\n",
    "    def fun_b(self):\n",
    "        return 21\n",
    "\n",
    "\n",
    "class Sub(SuperA, SuperB):\n",
    "    pass\n",
    "\n",
    "\n",
    "obj = Sub()\n",
    "\n",
    "print(obj.var_a, obj.fun_a())\n",
    "print(obj.var_b, obj.fun_b())\n"
   ],
   "metadata": {
    "collapsed": false,
    "ExecuteTime": {
     "end_time": "2023-05-28T21:19:52.106338316Z",
     "start_time": "2023-05-28T21:19:52.003641559Z"
    }
   }
  },
  {
   "cell_type": "markdown",
   "source": [
    "### How Python finds properties and methods: continued\n",
    "\n",
    "Let's analyze the example in the editor.\n",
    "\n",
    "Both, `Level1` and `Level2` classes define a method named `fun()` and a property named `var`. Does this mean that the `Level3` class object will be able to access two copies of each entity? Not at all.\n",
    "\n",
    "**The entity defined later (in the inheritance sense) overrides the same entity defined earlier**. This is why the code produces the following output:\n",
    "\n",
    "`200 201`\n",
    "\n",
    "**output**\n",
    "\n",
    "As you can see, the `var` class variable and `fun()` method from the `Level2` class override the entities of the same names derived from the `Level1` class.\n",
    "\n",
    "This feature can be intentionally used to modify default (or previously defined) class behaviors when any of its classes needs to act in a different way to its ancestor.\n",
    "\n",
    "We can also say that **Python looks for an entity from bottom to top**, and is fully satisfied with the first entity of the desired name.\n",
    "\n",
    "How does it work when a class has two ancestors offering the same entity, and they lie on the same level? In other words, what should you expect when a class emerges using multiple inheritance? Let's look at this.\n"
   ],
   "metadata": {
    "collapsed": false
   }
  },
  {
   "cell_type": "code",
   "execution_count": 487,
   "outputs": [
    {
     "name": "stdout",
     "output_type": "stream",
     "text": [
      "200 201\n"
     ]
    }
   ],
   "source": [
    "class Level1:\n",
    "    var = 100\n",
    "    def fun(self):\n",
    "        return 101\n",
    "\n",
    "\n",
    "class Level2(Level1):\n",
    "    var = 200\n",
    "    def fun(self):\n",
    "        return 201\n",
    "\n",
    "\n",
    "class Level3(Level2):\n",
    "    pass\n",
    "\n",
    "\n",
    "obj = Level3()\n",
    "\n",
    "print(obj.var, obj.fun())\n"
   ],
   "metadata": {
    "collapsed": false,
    "ExecuteTime": {
     "end_time": "2023-05-28T21:20:41.444332350Z",
     "start_time": "2023-05-28T21:20:41.347882642Z"
    }
   }
  },
  {
   "cell_type": "markdown",
   "source": [
    "### How Python finds properties and methods: continued\n",
    "\n",
    "Let's take a look at the example in the editor.\n",
    "\n",
    "The `Sub` class inherits goods from two superclasses, `Left` and `Right` (these names are intended to be meaningful).\n",
    "\n",
    "There is no doubt that the class variable `var_right` comes from the `Right` class, and `var_left` comes from `Left` respectively.\n",
    "\n",
    "This is clear. But where does `var` come from? Is it possible to guess it? The same problem is encountered with the `fun()` method - will it be invoked from `Left` or from `Right`? Let's run the program - its output is:\n",
    "\n",
    "`L LL RR Left`\n",
    "\n",
    "**output**\n",
    "\n",
    "This proves that both unclear cases have a solution inside the `Left` class. Is this a sufficient premise to formulate a general rule? Yes, it is.\n",
    "\n",
    "We can say that **Python looks for object components** in the following order:\n",
    "\n",
    "-   **inside the object** itself;\n",
    "-   **in its superclasses**, from bottom to top;\n",
    "-   if there is more than one class on a particular inheritance path, Python scans them from left to right.\n",
    "\n",
    "Do you need anything more? Just make a small amendment in the code - replace: `class Sub(Left, Right):` with: `class Sub(Right, Left):`, then run the program again, and see what happens.\n",
    "\n",
    "What do you see now? We see:\n",
    "\n",
    "`R LL RR Right`\n",
    "\n",
    "**output**\n",
    "\n",
    "Do you see the same, or something different?\n"
   ],
   "metadata": {
    "collapsed": false
   }
  },
  {
   "cell_type": "code",
   "execution_count": 488,
   "outputs": [
    {
     "name": "stdout",
     "output_type": "stream",
     "text": [
      "L LL RR Left\n"
     ]
    }
   ],
   "source": [
    "class Left:\n",
    "    var = \"L\"\n",
    "    var_left = \"LL\"\n",
    "    def fun(self):\n",
    "        return \"Left\"\n",
    "\n",
    "\n",
    "class Right:\n",
    "    var = \"R\"\n",
    "    var_right = \"RR\"\n",
    "    def fun(self):\n",
    "        return \"Right\"\n",
    "\n",
    "\n",
    "class Sub(Left, Right):\n",
    "    pass\n",
    "\n",
    "\n",
    "obj = Sub()\n",
    "\n",
    "print(obj.var, obj.var_left, obj.var_right, obj.fun())\n"
   ],
   "metadata": {
    "collapsed": false,
    "ExecuteTime": {
     "end_time": "2023-05-28T21:23:11.369002057Z",
     "start_time": "2023-05-28T21:23:11.255162559Z"
    }
   }
  },
  {
   "cell_type": "code",
   "execution_count": 489,
   "outputs": [
    {
     "name": "stdout",
     "output_type": "stream",
     "text": [
      "R LL RR Right\n"
     ]
    }
   ],
   "source": [
    "class Left:\n",
    "    var = \"L\"\n",
    "    var_left = \"LL\"\n",
    "    def fun(self):\n",
    "        return \"Left\"\n",
    "\n",
    "\n",
    "class Right:\n",
    "    var = \"R\"\n",
    "    var_right = \"RR\"\n",
    "    def fun(self):\n",
    "        return \"Right\"\n",
    "\n",
    "\n",
    "class Sub(Right, Left):\n",
    "    pass\n",
    "\n",
    "\n",
    "obj = Sub()\n",
    "\n",
    "print(obj.var, obj.var_left, obj.var_right, obj.fun())\n"
   ],
   "metadata": {
    "collapsed": false,
    "ExecuteTime": {
     "end_time": "2023-05-28T21:25:20.126971993Z",
     "start_time": "2023-05-28T21:25:20.024450933Z"
    }
   }
  },
  {
   "cell_type": "markdown",
   "source": [
    "\n",
    "### How to build a hierarchy of classes\n",
    "\n",
    "Building a hierarchy of classes isn't just art for art's sake.\n",
    "\n",
    "If you divide a problem among classes and decide which of them should be located at the top and which should be placed at the bottom of the hierarchy, you have to carefully analyze the issue, but before we show you how to do it (and how not to do it), we want to highlight an interesting effect. It's nothing extraordinary (it's just a consequence of the general rules presented earlier), but remembering it may be key to understanding how some codes work, and how the effect may be used to build a flexible set of classes.\n",
    "\n",
    "Take a look at the code in the editor. Let's analyze it:\n",
    "\n",
    "-   there are two classes, named `One` and `Two`, while `Two` is derived from `One`. Nothing special. However, one thing looks remarkable - the `do_it()` method.\n",
    "-   the `do_it()`method is **defined twice**: originally inside `One` and subsequently inside `Two`. The essence of the example lies in the fact that it is **invoked just once** - inside `One`.\n",
    "\n",
    "The question is - which of the two methods will be invoked by the last two lines of the code?\n",
    "\n",
    "The first invocation seems to be simple, and it is simple, actually - invoking `doanything()` from the object named `one` will obviously activate the first of the methods.\n",
    "\n",
    "The second invocation needs some attention. It's simple, too if you keep in mind how Python finds class components. The second invocation will launch `do_it()` in the form existing inside the `Two` class, regardless of the fact that the invocation takes place within the `One` class.\n",
    "\n",
    "In effect, the code produces the following output:\n",
    "\n",
    "`do_it from One do_it from Two`\n",
    "\n",
    "**output**\n",
    "\n",
    "Note: the situation in which **the subclass is able to modify its superclass behavior (just like in the example) is called polymorphism**. The word comes from Greek (polys: \"many, much\" and morphe, \"form, shape\"), which means that one and the same class can take various forms depending on the redefinitions done by any of its subclasses.\n",
    "\n",
    "The method, redefined in any of the superclasses, thus changing the behavior of the superclass, is called **virtual**.\n",
    "\n",
    "In other words, no class is given once and for all. Each class's behavior may be modified at any time by any of its subclasses.\n",
    "\n",
    "We're going to show you **how to use polymorphism to extend class flexibility**."
   ],
   "metadata": {
    "collapsed": false
   }
  },
  {
   "cell_type": "code",
   "execution_count": 490,
   "outputs": [
    {
     "name": "stdout",
     "output_type": "stream",
     "text": [
      "do_it from One\n",
      "do_it from Two\n"
     ]
    }
   ],
   "source": [
    "class One:\n",
    "    def do_it(self):\n",
    "        print(\"do_it from One\")\n",
    "\n",
    "    def doanything(self):\n",
    "        self.do_it()\n",
    "\n",
    "\n",
    "class Two(One):\n",
    "    def do_it(self):\n",
    "        print(\"do_it from Two\")\n",
    "\n",
    "\n",
    "one = One()\n",
    "two = Two()\n",
    "\n",
    "one.doanything()\n",
    "two.doanything()\n"
   ],
   "metadata": {
    "collapsed": false,
    "ExecuteTime": {
     "end_time": "2023-05-28T21:27:08.660768023Z",
     "start_time": "2023-05-28T21:27:08.563603871Z"
    }
   }
  },
  {
   "cell_type": "markdown",
   "source": [
    "### How to build a hierarchy of classes: continued\n",
    "\n",
    "Look at the example in the editor.\n",
    "\n",
    "Does it resemble anything? Yes, of course it does. It refers to the example shown at the beginning of the module when we talked about the general concepts of objective programming.\n",
    "\n",
    "It may look weird, but we didn't use inheritance in any way - just to show you that it doesn't limit us, and we managed to get ours.\n",
    "\n",
    "We defined two separate classes able to produce two different kinds of land vehicles. The main difference between them is in how they turn. A wheeled vehicle just turns the front wheels (generally). A tracked vehicle has to stop one of the tracks.\n",
    "\n",
    "Can you follow the code?\n",
    "\n",
    "-   a tracked vehicle performs a turn by stopping and moving on one of its tracks (this is done by the `control_track()` method, which will be implemented later)\n",
    "-   a wheeled vehicle turns when its front wheels turn (this is done by the `turn_front_wheels()` method)\n",
    "-   the `turn()` method uses the method suitable for each particular vehicle.\n",
    "\n",
    "Can you see **what's wrong with the code**?\n",
    "\n",
    "The `turn()` methods look too similar to leave them in this form.\n",
    "\n",
    "Let's rebuild the code - we're going to introduce a superclass to gather all the similar aspects of the driving vehicles, moving all the specifics to the subclasses.\n"
   ],
   "metadata": {
    "collapsed": false
   }
  },
  {
   "cell_type": "code",
   "execution_count": 491,
   "outputs": [],
   "source": [
    "import time\n",
    "\n",
    "class TrackedVehicle:\n",
    "    def control_track(left, stop):\n",
    "        pass\n",
    "\n",
    "    def turn(left):\n",
    "        control_track(left, True)\n",
    "        time.sleep(0.25)\n",
    "        control_track(left, False)\n",
    "\n",
    "\n",
    "class WheeledVehicle:\n",
    "    def turn_front_wheels(left, on):\n",
    "        pass\n",
    "\n",
    "    def turn(left):\n",
    "        turn_front_wheels(left, True)\n",
    "        time.sleep(0.25)\n",
    "        turn_front_wheels(left, False)\n"
   ],
   "metadata": {
    "collapsed": false,
    "ExecuteTime": {
     "end_time": "2023-05-28T21:29:51.983395829Z",
     "start_time": "2023-05-28T21:29:51.868624605Z"
    }
   }
  },
  {
   "cell_type": "markdown",
   "source": [
    "### How to build a hierarchy of classes: continued\n",
    "\n",
    "Look at the code in the editor again. This is what we've done:\n",
    "\n",
    "-   we defined a superclass named `Vehicle`, which uses the `turn()` method to implement a general scheme of turning, while the turning itself is done by a method named `change_direction()`; note: the former method is empty, as we are going to put all the details into the subclass (such a method is often called an **abstract method**, as it only demonstrates some possibility which will be instantiated later)\n",
    "-   we defined a subclass named `TrackedVehicle` (note: it's derived from the `Vehicle` class) which instantiated the `change_direction()` method by using the specific (concrete) method named `control_track()`\n",
    "-   respectively, the subclass named `WheeledVehicle` does the same trick, but uses the `turn_front_wheels()` method to force the vehicle to turn.\n",
    "\n",
    "The most important advantage (omitting readability issues) is that this form of code enables you to implement a brand new turning algorithm just by modifying the `turn()` method, which can be done in just one place, as all the vehicles will obey it.\n",
    "\n",
    "This is how **polymorphism helps the developer to keep the code clean and consistent**.\n"
   ],
   "metadata": {
    "collapsed": false
   }
  },
  {
   "cell_type": "code",
   "execution_count": 492,
   "outputs": [],
   "source": [
    "import time\n",
    "\n",
    "class Vehicle:\n",
    "    def change_direction(left, on):\n",
    "        pass\n",
    "\n",
    "    def turn(left):\n",
    "        change_direction(left, True)\n",
    "        time.sleep(0.25)\n",
    "        change_direction(left, False)\n",
    "\n",
    "\n",
    "class TrackedVehicle(Vehicle):\n",
    "    def control_track(left, stop):\n",
    "        pass\n",
    "\n",
    "    def change_direction(left, on):\n",
    "        control_track(left, on)\n",
    "\n",
    "\n",
    "class WheeledVehicle(Vehicle):\n",
    "    def turn_front_wheels(left, on):\n",
    "        pass\n",
    "\n",
    "    def change_direction(left, on):\n",
    "        turn_front_wheels(left, on)\n"
   ],
   "metadata": {
    "collapsed": false,
    "ExecuteTime": {
     "end_time": "2023-05-29T10:42:39.536733680Z",
     "start_time": "2023-05-29T10:42:39.436296472Z"
    }
   }
  },
  {
   "cell_type": "markdown",
   "source": [
    "### How to build a hierarchy of classes: continued\n",
    "\n",
    "Inheritance is not the only way of constructing adaptable classes. You can achieve the same goals (not always, but very often) by using a technique named composition.\n",
    "\n",
    "**Composition is the process of composing an object using other different objects**. The objects used in the composition deliver a set of desired traits (properties and/or methods) so we can say that they act like blocks used to build a more complicated structure.\n",
    "\n",
    "It can be said that:\n",
    "\n",
    "-   **inheritance extends a class's capabilities** by adding new components and modifying existing ones; in other words, the complete recipe is contained inside the class itself and all its ancestors; the object takes all the class's belongings and makes use of them;\n",
    "-   **composition projects a class as a container** able to store and use other objects (derived from other classes) where each of the objects implements a part of a desired class's behavior.\n",
    "\n",
    "Let us illustrate the difference by using the previously defined vehicles. The previous approach led us to a hierarchy of classes in which the top-most class was aware of the general rules used in turning the vehicle, but didn't know how to control the appropriate components (wheels or tracks).\n",
    "\n",
    "The subclasses implemented this ability by introducing specialized mechanisms. Let's do (almost) the same thing, but using composition. The class - like in the previous example - is aware of how to turn the vehicle, but the actual turn is done by a specialized object stored in a property named `controller`. The `controller` is able to control the vehicle by manipulating the relevant vehicle's parts.\n",
    "\n",
    "Take a look into the editor - this is how it could look.\n",
    "\n",
    "There are two classes named `Tracks` and `Wheels` - they know how to control the vehicle's direction. There is also a class named `Vehicle` which can use any of the available controllers (the two already defined, or any other defined in the future) - the `controller` itself is passed to the class during initialization.\n",
    "\n",
    "In this way, the vehicle's ability to turn is composed using an external object, not implemented inside the `Vehicle` class.\n",
    "\n",
    "In other words, we have a universal vehicle and can install either tracks or wheels onto it.\n",
    "\n",
    "The code produces the following output:\n",
    "\n",
    "`wheels: True True wheels: True False tracks: False True tracks: False False`"
   ],
   "metadata": {
    "collapsed": false
   }
  },
  {
   "cell_type": "code",
   "execution_count": 493,
   "outputs": [],
   "source": [
    "# using compositions\n",
    "import time\n",
    "\n",
    "class Tracks:\n",
    "    def change_direction(self, left, on):\n",
    "        print(\"tracks: \", left, on)\n",
    "\n",
    "\n",
    "class Wheels:\n",
    "    def change_direction(self, left, on):\n",
    "        print(\"wheels: \", left, on)\n",
    "\n",
    "\n",
    "class Vehicle:\n",
    "    def __init__(self, controller):\n",
    "        self.controller = controller\n",
    "\n",
    "    def turn(self, left):\n",
    "        self.controller.change_direction(left, True)\n",
    "        time.sleep(0.25)\n",
    "        self.controller.change_direction(left, False)\n"
   ],
   "metadata": {
    "collapsed": false,
    "ExecuteTime": {
     "end_time": "2023-05-29T10:43:40.954254689Z",
     "start_time": "2023-05-29T10:43:40.845256853Z"
    }
   }
  },
  {
   "cell_type": "code",
   "execution_count": 494,
   "outputs": [
    {
     "name": "stdout",
     "output_type": "stream",
     "text": [
      "wheels:  True True\n",
      "wheels:  True False\n",
      "tracks:  False True\n",
      "tracks:  False False\n"
     ]
    }
   ],
   "source": [
    "wheeled = Vehicle(Wheels())\n",
    "tracked = Vehicle(Tracks())\n",
    "\n",
    "wheeled.turn(True)\n",
    "tracked.turn(False)\n"
   ],
   "metadata": {
    "collapsed": false,
    "ExecuteTime": {
     "end_time": "2023-05-29T11:05:06.630359170Z",
     "start_time": "2023-05-29T11:05:06.214603378Z"
    }
   }
  },
  {
   "cell_type": "markdown",
   "source": [
    "### Single inheritance vs. multiple inheritance\n",
    "\n",
    "As you already know, there are no obstacles to using multiple inheritance in Python. You can derive any new class from more than one previously defined classes.\n",
    "\n",
    "There is only one \"but\". The fact that you can do it does not mean you have to.\n",
    "\n",
    "Don't forget that:\n",
    "\n",
    "-   a single inheritance class is always simpler, safer, and easier to understand and maintain;\n",
    "\n",
    "-   multiple inheritance is always risky, as you have many more opportunities to make a mistake in identifying these parts of the superclasses which will effectively influence the new class;\n",
    "\n",
    "-   multiple inheritance may make overriding extremely tricky; moreover, using the `super()` function becomes ambiguous;\n",
    "\n",
    "-   multiple inheritance violates the **single responsibility principle** (more details here: [https://en.wikipedia.org/wiki/Single\\_responsibility\\_principle](https://en.wikipedia.org/wiki/Single_responsibility_principle)) as it makes a new class of two (or more) classes that know nothing about each other;\n",
    "\n",
    "-   we strongly suggest multiple inheritance as the last of all possible solutions - if you really need the many different functionalities offered by different classes, composition may be a better alternative.\n",
    "Download"
   ],
   "metadata": {
    "collapsed": false
   }
  },
  {
   "cell_type": "markdown",
   "source": [
    "### What is Method Resolution Order (MRO) and why is it that not all inheritances make sense?\n",
    "\n",
    "MRO, in general, is a way (you can call it a **strategy**) in which a particular programming language scans through the upper part of a class’s hierarchy in order to find the method it currently needs. It's worth emphasizing that different languages use slightly (or even completely) different MROs. Python is a unique creature in this respect, however, and its customs are a bit specific.\n",
    "\n",
    "We're going to show you how Python's MRO works in two peculiar cases that are clear-cut examples of problems which may occur when you try to use multiple inheritance too recklessly. Let's start with a snippet that initially may look simple. Look at what we've prepared for you in the editor.\n",
    "\n",
    "We're sure that if you analyze the snippet yourself, you won't see any anomalies in it. Yes, you're perfectly right - it looks clear and simple, and raises no concerns. If you run the code, it will produce the following, predictable output:\n",
    "\n",
    "`bottom middle top`\n",
    "\n",
    "**output**\n",
    "\n",
    "No surprises so far. Let's make a tiny change to this code. Have a look:\n",
    "\n",
    "```python\n",
    "class Top:\n",
    "    def m_top(self):\n",
    "        print(\"top\")\n",
    "\n",
    "\n",
    "class Middle(Top):\n",
    "    def m_middle(self):\n",
    "        print(\"middle\")\n",
    "\n",
    "\n",
    "class Bottom(Middle, Top):\n",
    "    def m_bottom(self):\n",
    "        print(\"bottom\")\n",
    "\n",
    "\n",
    "object = Bottom()\n",
    "object.m_bottom()\n",
    "object.m_middle()\n",
    "object.m_top()\n",
    "\n",
    "```\n",
    "\n",
    "\n",
    "Can you see the difference? It's hidden in this line:\n",
    "\n",
    "`class Bottom(Middle, Top):`\n",
    "\n",
    "In this exotic way, we've turned a very simple code with a clear single-inheritance path into a mysterious multiple-inheritance riddle. “Is it valid?” you may ask. Yes, it is. “How is that possible?” you should ask now, and we hope that you really feel the need to ask this question.\n",
    "\n",
    "As you can see, the order in which the two superclasses have been listed between parenthesis is compliant with the code's structure: the `Middle` class precedes the `Top` class, just like in the real inheritance path.\n",
    "\n",
    "Despite its oddity, the sample is correct and works as expected, but it has to be stated that this notation doesn’t bring any new functionality or additional meaning.\n",
    "\n",
    "Let's modify the code once again - now we'll swap both superclass names in the `Bottom` class definition. This is what the snippet looks like now:\n",
    "\n",
    "```python\n",
    "class Top:\n",
    "    def m_top(self):\n",
    "        print(\"top\")\n",
    "\n",
    "\n",
    "class Middle(Top):\n",
    "    def m_middle(self):\n",
    "        print(\"middle\")\n",
    "\n",
    "\n",
    "class Bottom(Top, Middle):\n",
    "    def m_bottom(self):\n",
    "        print(\"bottom\")\n",
    "\n",
    "\n",
    "object = Bottom()\n",
    "object.m_bottom()\n",
    "object.m_middle()\n",
    "object.m_top()\n",
    "\n",
    "```\n",
    "\n",
    "To anticipate your question, we’ll say that this amendment has spoiled the code, and it won't run anymore. What a pity. The order we tried to force (Top, Middle) is incompatible with the inheritance path which is derived from the code's structure. Python won't like it. This is what we'll see:\n",
    "\n",
    "`TypeError: Cannot create a consistent method resolution order (MRO) for bases Top, Middle`\n",
    "\n",
    "**output**\n",
    "\n",
    "We think that the message speaks for itself. Python's MRO cannot be bent or violated, not just because that's the way Python works, but also because it’s a rule you have to obey."
   ],
   "metadata": {
    "collapsed": false
   }
  },
  {
   "cell_type": "code",
   "execution_count": 496,
   "outputs": [
    {
     "name": "stdout",
     "output_type": "stream",
     "text": [
      "bottom\n",
      "middle\n",
      "top\n"
     ]
    }
   ],
   "source": [
    "class Top:\n",
    "    def m_top(self):\n",
    "        print(\"top\")\n",
    "\n",
    "\n",
    "class Middle(Top):\n",
    "    def m_middle(self):\n",
    "        print(\"middle\")\n",
    "\n",
    "\n",
    "class Bottom(Middle):\n",
    "    def m_bottom(self):\n",
    "        print(\"bottom\")\n",
    "\n",
    "\n",
    "object = Bottom()\n",
    "object.m_bottom()\n",
    "object.m_middle()\n",
    "object.m_top()\n"
   ],
   "metadata": {
    "collapsed": false,
    "ExecuteTime": {
     "end_time": "2023-05-29T11:18:27.174594083Z",
     "start_time": "2023-05-29T11:18:27.072676108Z"
    }
   }
  },
  {
   "cell_type": "code",
   "execution_count": 497,
   "outputs": [
    {
     "name": "stdout",
     "output_type": "stream",
     "text": [
      "bottom\n",
      "middle\n",
      "top\n"
     ]
    }
   ],
   "source": [
    "class Top:\n",
    "    def m_top(self):\n",
    "        print(\"top\")\n",
    "\n",
    "\n",
    "class Middle(Top):\n",
    "    def m_middle(self):\n",
    "        print(\"middle\")\n",
    "\n",
    "# Multiple Inheritence!\n",
    "class Bottom(Middle, Top):\n",
    "    def m_bottom(self):\n",
    "        print(\"bottom\")\n",
    "\n",
    "\n",
    "object = Bottom()\n",
    "object.m_bottom()\n",
    "object.m_middle()\n",
    "object.m_top()\n",
    "\n"
   ],
   "metadata": {
    "collapsed": false,
    "ExecuteTime": {
     "end_time": "2023-05-29T11:20:20.208397263Z",
     "start_time": "2023-05-29T11:20:20.071099210Z"
    }
   }
  },
  {
   "cell_type": "code",
   "execution_count": 498,
   "outputs": [
    {
     "ename": "TypeError",
     "evalue": "Cannot create a consistent method resolution\norder (MRO) for bases Top, Middle",
     "output_type": "error",
     "traceback": [
      "\u001B[0;31m---------------------------------------------------------------------------\u001B[0m",
      "\u001B[0;31mTypeError\u001B[0m                                 Traceback (most recent call last)",
      "Cell \u001B[0;32mIn[498], line 11\u001B[0m\n\u001B[1;32m      7\u001B[0m     \u001B[38;5;28;01mdef\u001B[39;00m \u001B[38;5;21mm_middle\u001B[39m(\u001B[38;5;28mself\u001B[39m):\n\u001B[1;32m      8\u001B[0m         \u001B[38;5;28mprint\u001B[39m(\u001B[38;5;124m\"\u001B[39m\u001B[38;5;124mmiddle\u001B[39m\u001B[38;5;124m\"\u001B[39m)\n\u001B[0;32m---> 11\u001B[0m \u001B[38;5;28;01mclass\u001B[39;00m \u001B[38;5;21;01mBottom\u001B[39;00m(Top, Middle):\n\u001B[1;32m     12\u001B[0m     \u001B[38;5;28;01mdef\u001B[39;00m \u001B[38;5;21mm_bottom\u001B[39m(\u001B[38;5;28mself\u001B[39m):\n\u001B[1;32m     13\u001B[0m         \u001B[38;5;28mprint\u001B[39m(\u001B[38;5;124m\"\u001B[39m\u001B[38;5;124mbottom\u001B[39m\u001B[38;5;124m\"\u001B[39m)\n",
      "\u001B[0;31mTypeError\u001B[0m: Cannot create a consistent method resolution\norder (MRO) for bases Top, Middle"
     ]
    }
   ],
   "source": [
    "class Top:\n",
    "    def m_top(self):\n",
    "        print(\"top\")\n",
    "\n",
    "\n",
    "class Middle(Top):\n",
    "    def m_middle(self):\n",
    "        print(\"middle\")\n",
    "\n",
    "\n",
    "class Bottom(Top, Middle):\n",
    "    def m_bottom(self):\n",
    "        print(\"bottom\")\n",
    "\n",
    "\n",
    "object = Bottom()\n",
    "object.m_bottom()\n",
    "object.m_middle()\n",
    "object.m_top()\n",
    "\n"
   ],
   "metadata": {
    "collapsed": false,
    "ExecuteTime": {
     "end_time": "2023-05-29T11:21:51.906494198Z",
     "start_time": "2023-05-29T11:21:51.787836029Z"
    }
   }
  },
  {
   "cell_type": "markdown",
   "source": [
    "### The diamond problem\n",
    "\n",
    "The second example of the spectrum of issues that can possibly arise from multiple inheritance is illustrated by a classic problem named the **diamond problem**. The name reflects the shape of the inheritance diagram – take a look at the picture:\n",
    "\n",
    "<img src=\"../img/module_3/f87d143baf9957080a28751bcdc696ed26d14f86.png\" alt= \"The diamond problem concept\" width=\"50%\" height=\"50%\">\n",
    "\n",
    "-   there is the top-most superclass named A;\n",
    "-   there are two subclasses derived from A: B and C;\n",
    "-   and there is also the bottom-most subclass named D, derived from B and C (or C and B, as these two variants mean different things in Python)\n",
    "\n",
    "Can you see the diamond there?\n",
    "\n",
    "Have a look at the code in the editor. The same structure, but expressed in Python.\n",
    "\n",
    "Some programming languages don't allow multiple inheritance at all, and as a consequence, they won't let you build a diamond – this is the route that Java and C# have chosen to follow since their origins.\n",
    "\n",
    "Python, however, has chosen a different route – it allows multiple inheritance, and it doesn't mind if you write and run code like the one in the editor. But don't forget about MRO – it's always in charge.\n",
    "\n",
    "Let's rebuild our example from the previous page to make it more diamond-like, just like below:\n",
    "\n",
    "```python\n",
    "class Top:\n",
    "    def m_top(self):\n",
    "        print(\"top\")\n",
    "\n",
    "\n",
    "class Middle_Left(Top):\n",
    "    def m_middle(self):\n",
    "        print(\"middle_left\")\n",
    "\n",
    "\n",
    "class Middle_Right(Top):\n",
    "    def m_middle(self):\n",
    "        print(\"middle_right\")\n",
    "\n",
    "\n",
    "class Bottom(Middle_Left, Middle_Right):\n",
    "    def m_bottom(self):\n",
    "        print(\"bottom\")\n",
    "\n",
    "\n",
    "object = Bottom()\n",
    "object.m_bottom()\n",
    "object.m_middle()\n",
    "object.m_top()\n",
    "\n",
    "\n",
    "```\n",
    "\n",
    "Note: both `Middle` classes define **a method of the same name**: `m_middle()`.\n",
    "\n",
    "It introduces a small uncertainty to our sample, although we're absolutely sure that you can answer the following key question: which of the two `m_middle()` methods will actually be invoked when the following line is executed?\n",
    "\n",
    "In other words, what will you see on the screen: `middle_left` or `middle_right`?\n",
    "\n",
    "You don't need to hurry – think twice and keep Python's MRO in mind!\n",
    "\n",
    "Are you ready?\n",
    "\n",
    "Yes, you're right. The invocation will activate the `m_middle()` method, which comes from the `Middle_Left` class. The explanation is simple: the class is listed before `Middle_Right` on the `Bottom` class's inheritance list. If you want to make sure that there’s no doubt about it, try to swap these two classes on the list and check the results.\n",
    "\n",
    "If you want to experience some more profound impressions about multiple inheritance and precious gemstones, try to modify our snippet and equip the `Top` class with another specimen of the `m_middle()` method, and investigate its behavior carefully.\n",
    "\n",
    "As you can see, diamonds may bring some problems into your life – both the real ones and those offered by Python."
   ],
   "metadata": {
    "collapsed": false
   }
  },
  {
   "cell_type": "code",
   "execution_count": 499,
   "outputs": [],
   "source": [
    "class A:\n",
    "    pass\n",
    "\n",
    "\n",
    "class B(A):\n",
    "    pass\n",
    "\n",
    "\n",
    "class C(A):\n",
    "    pass\n",
    "\n",
    "\n",
    "class D(B, C):\n",
    "    pass\n",
    "\n",
    "\n",
    "d = D()\n"
   ],
   "metadata": {
    "collapsed": false,
    "ExecuteTime": {
     "end_time": "2023-05-29T11:27:04.316583324Z",
     "start_time": "2023-05-29T11:27:04.205741185Z"
    }
   }
  },
  {
   "cell_type": "code",
   "execution_count": 500,
   "outputs": [
    {
     "name": "stdout",
     "output_type": "stream",
     "text": [
      "bottom\n",
      "middle_left\n",
      "top\n"
     ]
    }
   ],
   "source": [
    "class Top:\n",
    "    def m_top(self):\n",
    "        print(\"top\")\n",
    "\n",
    "\n",
    "class Middle_Left(Top):\n",
    "    def m_middle(self):\n",
    "        print(\"middle_left\")\n",
    "\n",
    "\n",
    "class Middle_Right(Top):\n",
    "    def m_middle(self):\n",
    "        print(\"middle_right\")\n",
    "\n",
    "\n",
    "class Bottom(Middle_Left, Middle_Right):\n",
    "    def m_bottom(self):\n",
    "        print(\"bottom\")\n",
    "\n",
    "\n",
    "object = Bottom()\n",
    "object.m_bottom()\n",
    "object.m_middle()\n",
    "object.m_top()\n",
    "\n"
   ],
   "metadata": {
    "collapsed": false,
    "ExecuteTime": {
     "end_time": "2023-05-29T11:29:31.130696327Z",
     "start_time": "2023-05-29T11:29:31.024244505Z"
    }
   }
  },
  {
   "cell_type": "code",
   "execution_count": 504,
   "outputs": [
    {
     "name": "stdout",
     "output_type": "stream",
     "text": [
      "bottom\n",
      "middle_right\n",
      "top\n"
     ]
    }
   ],
   "source": [
    "class Top:\n",
    "    def m_top(self):\n",
    "        print(\"top\")\n",
    "\n",
    "class Middle_Left(Top):\n",
    "    def m_middle(self):\n",
    "        print(\"middle_left\")\n",
    "\n",
    "class Middle_Right(Top):\n",
    "    def m_middle(self):\n",
    "        print(\"middle_right\")\n",
    "\n",
    "class Bottom(Middle_Right, Middle_Left):\n",
    "    def m_bottom(self):\n",
    "        print(\"bottom\")\n",
    "\n",
    "\n",
    "object = Bottom()\n",
    "object.m_bottom()\n",
    "object.m_middle()\n",
    "object.m_top()\n"
   ],
   "metadata": {
    "collapsed": false,
    "ExecuteTime": {
     "end_time": "2023-05-29T11:31:20.576071141Z",
     "start_time": "2023-05-29T11:31:20.511881328Z"
    }
   }
  },
  {
   "cell_type": "markdown",
   "source": [
    "### Key takeaways"
   ],
   "metadata": {
    "collapsed": false
   }
  },
  {
   "cell_type": "markdown",
   "source": [
    "#### 1\n",
    "A method named `__str__()` is responsible for **converting an object's contents into a (more or less) readable string**. You can redefine it if you want your object to be able to present itself in a more elegant form. For example:"
   ],
   "metadata": {
    "collapsed": false
   }
  },
  {
   "cell_type": "code",
   "execution_count": 505,
   "outputs": [
    {
     "name": "stdout",
     "output_type": "stream",
     "text": [
      "My name is mickey\n"
     ]
    }
   ],
   "source": [
    "class Mouse:\n",
    "    def __init__(self, name):\n",
    "        self.my_name = name\n",
    "\n",
    "\n",
    "    def __str__(self):\n",
    "        return f\"My name is {self.my_name}\"\n",
    "\n",
    "\n",
    "the_mouse = Mouse('mickey')\n",
    "print(the_mouse)  # Prints \"My name is mickey\".\n"
   ],
   "metadata": {
    "collapsed": false,
    "ExecuteTime": {
     "end_time": "2023-05-29T11:36:26.062502496Z",
     "start_time": "2023-05-29T11:36:25.961734825Z"
    }
   }
  },
  {
   "cell_type": "markdown",
   "source": [
    "#### 2\n",
    "A function named `issubclass(Class_1, Class_2)` is able to determine if `Class_1` is a **subclass** of `Class_2`. For example:"
   ],
   "metadata": {
    "collapsed": false
   }
  },
  {
   "cell_type": "code",
   "execution_count": 507,
   "outputs": [
    {
     "name": "stdout",
     "output_type": "stream",
     "text": [
      "False True\n"
     ]
    }
   ],
   "source": [
    "\n",
    "class Mouse:\n",
    "    pass\n",
    "\n",
    "\n",
    "class LabMouse(Mouse):\n",
    "    pass\n",
    "\n",
    "\n",
    "print(issubclass(Mouse, LabMouse), issubclass(LabMouse, Mouse))  # Prints \"False True\"\n",
    "\n"
   ],
   "metadata": {
    "collapsed": false,
    "ExecuteTime": {
     "end_time": "2023-05-29T11:37:21.207208552Z",
     "start_time": "2023-05-29T11:37:21.095714216Z"
    }
   }
  },
  {
   "cell_type": "markdown",
   "source": [
    "#### 3\n",
    "A function named `isinstance(Object, Class)` checks if an object **comes from an indicated class**. For example:"
   ],
   "metadata": {
    "collapsed": false
   }
  },
  {
   "cell_type": "code",
   "execution_count": 508,
   "outputs": [
    {
     "name": "stdout",
     "output_type": "stream",
     "text": [
      "True False\n"
     ]
    }
   ],
   "source": [
    "class Mouse:\n",
    "    pass\n",
    "\n",
    "\n",
    "class LabMouse(Mouse):\n",
    "    pass\n",
    "\n",
    "\n",
    "mickey = Mouse()\n",
    "print(isinstance(mickey, Mouse), isinstance(mickey, LabMouse))  # Prints \"True False\".\n",
    "\n"
   ],
   "metadata": {
    "collapsed": false,
    "ExecuteTime": {
     "end_time": "2023-05-29T11:38:08.481709050Z",
     "start_time": "2023-05-29T11:38:08.366068300Z"
    }
   }
  },
  {
   "cell_type": "markdown",
   "source": [
    "#### 4\n",
    "A operator called `is` checks if two variables refer to **the same object**. For example:"
   ],
   "metadata": {
    "collapsed": false
   }
  },
  {
   "cell_type": "code",
   "execution_count": 509,
   "outputs": [
    {
     "name": "stdout",
     "output_type": "stream",
     "text": [
      "False True\n"
     ]
    }
   ],
   "source": [
    "class Mouse:\n",
    "    pass\n",
    "\n",
    "\n",
    "mickey = Mouse()\n",
    "minnie = Mouse()\n",
    "cloned_mickey = mickey\n",
    "print(mickey is minnie, mickey is cloned_mickey)  # Prints \"False True\".\n",
    "\n"
   ],
   "metadata": {
    "collapsed": false,
    "ExecuteTime": {
     "end_time": "2023-05-29T11:39:06.102771161Z",
     "start_time": "2023-05-29T11:39:05.986970763Z"
    }
   }
  },
  {
   "cell_type": "markdown",
   "source": [
    "#### 5\n",
    "A parameterless function named `super()` returns a **reference to the nearest superclass of the class**. For example:"
   ],
   "metadata": {
    "collapsed": false
   }
  },
  {
   "cell_type": "code",
   "execution_count": 510,
   "outputs": [
    {
     "name": "stdout",
     "output_type": "stream",
     "text": [
      "Laboratory Mouse\n"
     ]
    }
   ],
   "source": [
    "class Mouse:\n",
    "    def __str__(self):\n",
    "        return \"Mouse\"\n",
    "\n",
    "\n",
    "class LabMouse(Mouse):\n",
    "    def __str__(self):\n",
    "        return \"Laboratory \" + super().__str__()\n",
    "\n",
    "\n",
    "doctor_mouse = LabMouse();\n",
    "print(doctor_mouse)  # Prints \"Laboratory Mouse\".\n"
   ],
   "metadata": {
    "collapsed": false,
    "ExecuteTime": {
     "end_time": "2023-05-29T11:40:06.951396226Z",
     "start_time": "2023-05-29T11:40:06.831780187Z"
    }
   }
  },
  {
   "cell_type": "markdown",
   "source": [
    "#### 6\n",
    "Methods as well as instance and class variables defined in a superclass are **automatically inherited** by their subclasses. For example:"
   ],
   "metadata": {
    "collapsed": false
   }
  },
  {
   "cell_type": "code",
   "execution_count": 512,
   "outputs": [
    {
     "name": "stdout",
     "output_type": "stream",
     "text": [
      "Hi, my name is Professor Mouser 1\n"
     ]
    }
   ],
   "source": [
    "class Mouse:\n",
    "    Population = 0\n",
    "    def __init__(self, name):\n",
    "        Mouse.Population += 1\n",
    "        self.name = name\n",
    "\n",
    "    def __str__(self):\n",
    "        return \"Hi, my name is \" + self.name\n",
    "\n",
    "class LabMouse(Mouse):\n",
    "    pass\n",
    "\n",
    "professor_mouse = LabMouse(\"Professor Mouser\")\n",
    "print(professor_mouse, Mouse.Population)  # Prints \"Hi, my name is Professor Mouser 1\"\n",
    "\n"
   ],
   "metadata": {
    "collapsed": false,
    "ExecuteTime": {
     "end_time": "2023-05-29T11:41:51.265957698Z",
     "start_time": "2023-05-29T11:41:51.064816042Z"
    }
   }
  },
  {
   "cell_type": "markdown",
   "source": [
    "#### 7\n",
    "In order to find any object/class property, Python looks for it inside:\n",
    "\n",
    "-   the object itself;\n",
    "-   all classes involved in the object's inheritance line from bottom to top;\n",
    "-   if there is more than one class on a particular inheritance path, Python scans them from left to right;\n",
    "-   if both of the above fail, the `AttributeError` exception is raised."
   ],
   "metadata": {
    "collapsed": false
   }
  },
  {
   "cell_type": "markdown",
   "source": [
    "\n",
    "#### 8\n",
    "If any of the subclasses defines a method/class variable/instance variable of the same name as existing in the superclass, the new name **overrides** any of the previous instances of the name. For example:"
   ],
   "metadata": {
    "collapsed": false
   }
  },
  {
   "cell_type": "code",
   "execution_count": 513,
   "outputs": [
    {
     "name": "stdout",
     "output_type": "stream",
     "text": [
      "Meum nomen est Caesar\n"
     ]
    }
   ],
   "source": [
    "class Mouse:\n",
    "    def __init__(self, name):\n",
    "        self.name = name\n",
    "\n",
    "    def __str__(self):\n",
    "        return \"My name is \" + self.name\n",
    "\n",
    "class AncientMouse(Mouse):\n",
    "    def __str__(self):\n",
    "        return \"Meum nomen est \" + self.name\n",
    "\n",
    "mus = AncientMouse(\"Caesar\")  # Prints \"Meum nomen est Caesar\"\n",
    "print(mus)\n",
    "\n"
   ],
   "metadata": {
    "collapsed": false,
    "ExecuteTime": {
     "end_time": "2023-05-29T11:43:21.542726380Z",
     "start_time": "2023-05-29T11:43:21.422708961Z"
    }
   }
  },
  {
   "cell_type": "markdown",
   "source": [
    "### Exercises\n",
    "\n",
    "**Scenario**\n",
    "\n",
    "Assume that the following piece of code has been successfully executed:"
   ],
   "metadata": {
    "collapsed": false
   }
  },
  {
   "cell_type": "code",
   "execution_count": 532,
   "outputs": [],
   "source": [
    "class Dog:\n",
    "    kennel = 0\n",
    "    def __init__(self, breed):\n",
    "        self.breed = breed\n",
    "        Dog.kennel += 1\n",
    "    def __str__(self):\n",
    "        return self.breed + \" says: Woof!\"\n",
    "\n",
    "\n",
    "class SheepDog(Dog):\n",
    "    def __str__(self):\n",
    "        return super().__str__() + \" Don't run away, Little Lamb!\"\n",
    "\n",
    "\n",
    "class GuardDog(Dog):\n",
    "    def __str__(self):\n",
    "        return super().__str__() + \" Stay where you are, Mister Intruder!\"\n",
    "\n",
    "rocky = SheepDog(\"Collie\")\n",
    "luna = GuardDog(\"Dobermann\")"
   ],
   "metadata": {
    "collapsed": false,
    "ExecuteTime": {
     "end_time": "2023-05-29T11:55:23.057462060Z",
     "start_time": "2023-05-29T11:55:22.981491067Z"
    }
   }
  },
  {
   "cell_type": "markdown",
   "source": [
    "Now answer the questions from exercises 1-4.\n",
    "\n",
    "#### Exercise 1\n",
    "\n",
    "What is the expected output of the following piece of code?"
   ],
   "metadata": {
    "collapsed": false
   }
  },
  {
   "cell_type": "code",
   "execution_count": 534,
   "outputs": [],
   "source": [
    "#print(rocky)\n",
    "#print(luna)"
   ],
   "metadata": {
    "collapsed": false,
    "ExecuteTime": {
     "end_time": "2023-05-29T11:55:28.815516383Z",
     "start_time": "2023-05-29T11:55:28.716828407Z"
    }
   }
  },
  {
   "cell_type": "markdown",
   "source": [
    "#### Exercise 2\n",
    "\n",
    "What is the expected output of the following piece of code?\n"
   ],
   "metadata": {
    "collapsed": false
   }
  },
  {
   "cell_type": "code",
   "execution_count": 535,
   "outputs": [],
   "source": [
    "#print(issubclass(SheepDog, Dog), issubclass(SheepDog, GuardDog))\n",
    "#print(isinstance(rocky, GuardDog), isinstance(luna, GuardDog))\n"
   ],
   "metadata": {
    "collapsed": false,
    "ExecuteTime": {
     "end_time": "2023-05-29T11:55:29.781341137Z",
     "start_time": "2023-05-29T11:55:29.438133423Z"
    }
   }
  },
  {
   "cell_type": "markdown",
   "source": [
    "#### Exercise 3\n",
    "\n",
    "What is the expected output of the following piece of code?"
   ],
   "metadata": {
    "collapsed": false
   }
  },
  {
   "cell_type": "code",
   "execution_count": 536,
   "outputs": [],
   "source": [
    "#print(luna is luna, rocky is luna)\n",
    "#print(rocky.kennel)"
   ],
   "metadata": {
    "collapsed": false,
    "ExecuteTime": {
     "end_time": "2023-05-29T11:55:30.721621270Z",
     "start_time": "2023-05-29T11:55:30.627265077Z"
    }
   }
  },
  {
   "cell_type": "markdown",
   "source": [
    "## Exercise 4\n",
    "\n",
    "Define a `SheepDog`'s subclass named `LowlandDog`, and equip it with an `__str__()` method overriding an inherited method of the same name. The new dog's `__str__()` method should return the string \"Woof! I don't like mountains!\" ."
   ],
   "metadata": {
    "collapsed": false
   }
  },
  {
   "cell_type": "code",
   "execution_count": 538,
   "outputs": [
    {
     "name": "stdout",
     "output_type": "stream",
     "text": [
      "Collie_2 says: Woof! I don't like mountains!\n"
     ]
    }
   ],
   "source": [
    "class LowlandDog(SheepDog):\n",
    "\tdef __str__(self):\n",
    "\t\treturn Dog.__str__(self) + \" I don't like mountains!\"\n",
    "\n",
    "rocky_2 = LowlandDog(\"Collie_2\")\n",
    "print(rocky_2)"
   ],
   "metadata": {
    "collapsed": false,
    "ExecuteTime": {
     "end_time": "2023-05-29T11:56:17.605863522Z",
     "start_time": "2023-05-29T11:56:17.552667039Z"
    }
   }
  },
  {
   "cell_type": "markdown",
   "source": [
    "## Exceptions once again"
   ],
   "metadata": {
    "collapsed": false
   }
  },
  {
   "cell_type": "markdown",
   "source": [
    "### More about exceptions\n",
    "\n",
    "Discussing object programming offers a very good opportunity to return to exceptions. The object-oriented nature of Python's exceptions makes them a very flexible tool, able to fit to specific needs, even those you don't yet know about.\n",
    "\n",
    "Before we dive into the **objective face of exceptions**, we want to show you some syntactical and semantic aspects of how Python treats the _try-except_ block, as it offers a little more than what we have presented so far.\n",
    "\n",
    "The first feature we want to discuss here is an additional, possible branch that can be placed inside (or rather, directly behind) the _try-except_ block – it's the part of the code starting with `else` – just like in the example in the editor.\n",
    "\n",
    "A code labelled in this way is executed when (and only when) no exception has been raised inside the `try:` part. We can say that exactly one branch can be executed after `try:` – either the one beginning with `except` (don't forget that there can be more than one branch of this kind) or the one starting with `else`.\n",
    "\n",
    "Note: the `else:` branch has to be located after the last `except` branch.\n",
    "\n",
    "The example code produces the following output:\n",
    "\n",
    "`Everything went fine 0.5 Division failed None`\n"
   ],
   "metadata": {
    "collapsed": false
   }
  },
  {
   "cell_type": "code",
   "execution_count": null,
   "outputs": [],
   "source": [],
   "metadata": {
    "collapsed": false
   }
  }
 ],
 "metadata": {
  "kernelspec": {
   "display_name": "Python 3",
   "language": "python",
   "name": "python3"
  },
  "language_info": {
   "codemirror_mode": {
    "name": "ipython",
    "version": 2
   },
   "file_extension": ".py",
   "mimetype": "text/x-python",
   "name": "python",
   "nbconvert_exporter": "python",
   "pygments_lexer": "ipython2",
   "version": "2.7.6"
  }
 },
 "nbformat": 4,
 "nbformat_minor": 0
}

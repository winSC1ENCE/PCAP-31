{
 "cells": [
  {
   "cell_type": "markdown",
   "source": [
    "# Playground"
   ],
   "metadata": {
    "collapsed": false
   }
  },
  {
   "cell_type": "markdown",
   "source": [
    "## List"
   ],
   "metadata": {
    "collapsed": false
   }
  },
  {
   "cell_type": "markdown",
   "source": [
    "### Basic"
   ],
   "metadata": {
    "collapsed": false
   }
  },
  {
   "cell_type": "code",
   "execution_count": 3,
   "outputs": [
    {
     "name": "stdout",
     "output_type": "stream",
     "text": [
      "2\n",
      "5\n",
      "[9, 6, 4, 20, 0]\n",
      "[0, 4, 6, 9, 20]\n",
      "[1, 'win', 99, 'python', 99, 'new_entry']\n",
      "[1, 'win', 'new_element_in_pos_3', 99, 'python', 99, 'new_entry']\n",
      "win\n",
      "['new_element_in_pos_3', 99]\n",
      "3\n",
      "Before Pop: [1, 'win', 'new_element_in_pos_3', 99, 'python', 99, 'new_entry']\n",
      "After Pop: [1, 'win', 99, 'python', 99, 'new_entry']\n",
      "Pop Element: new_element_in_pos_3\n",
      "Clear: []\n"
     ]
    }
   ],
   "source": [
    "my_list = [1, \"win\", 99, \"python\", 99]\n",
    "type(my_list)\n",
    "\n",
    "# Count an Item in the List\n",
    "print(my_list.count(99))\n",
    "\n",
    "# Length aof the List\n",
    "print(len(my_list))\n",
    "\n",
    "# Sort List\n",
    "list_unsorted = [9, 6, 4, 20, 0]\n",
    "print(list_unsorted)\n",
    "list_unsorted.sort()\n",
    "print(list_unsorted)\n",
    "\n",
    "# Add new Entry\n",
    "my_list.append(\"new_entry\")\n",
    "print(my_list)\n",
    "\n",
    "my_list.insert(2, \"new_element_in_pos_3\")\n",
    "print(my_list)\n",
    "\n",
    "# Get Value\n",
    "print(my_list[1])\n",
    "# Get multiple values\n",
    "print(my_list[2:4])\n",
    "\n",
    "# Get the position of a value in the list\n",
    "print(my_list.index(99))\n",
    "\n",
    "print(f\"Before Pop: {my_list}\")\n",
    "pop_element = my_list.pop(2)\n",
    "print(f\"After Pop: {my_list}\")\n",
    "print(f\"Pop Element: {pop_element}\")\n",
    "\n",
    "# Clear all Elements\n",
    "my_list.clear()\n",
    "print(f\"Clear: {my_list}\")"
   ],
   "metadata": {
    "collapsed": false
   }
  },
  {
   "cell_type": "markdown",
   "source": [
    "### Enumerate"
   ],
   "metadata": {
    "collapsed": false
   }
  },
  {
   "cell_type": "code",
   "execution_count": 2,
   "outputs": [
    {
     "name": "stdout",
     "output_type": "stream",
     "text": [
      "ENUMERATE:  [(3, 'eyong'), (4, 'kevin'), (5, 'enow'), (6, 'ayamba'), (7, 'derick')]\n"
     ]
    }
   ],
   "source": [
    "names = [\"eyong\",\"kevin\",\"enow\",\"ayamba\",\"derick\"]\n",
    "start = 3\n",
    "print(\"ENUMERATE: \", list(enumerate(names, start)))"
   ],
   "metadata": {
    "collapsed": false
   }
  },
  {
   "cell_type": "markdown",
   "source": [
    "### zip"
   ],
   "metadata": {
    "collapsed": false
   }
  },
  {
   "cell_type": "code",
   "execution_count": 7,
   "outputs": [
    {
     "name": "stdout",
     "output_type": "stream",
     "text": [
      "<class 'zip'>\n",
      "[(1, 2), (3, 4), (5, 6), (7, 8)]\n"
     ]
    }
   ],
   "source": [
    "l1 = [1, 3, 5, 7]\n",
    "l2 = [2, 4, 6, 8]\n",
    "zip_list = zip(l1, l2)\n",
    "\n",
    "# Zip holds the Iterator\n",
    "print(type(zip_list))\n",
    "print(list(zip_list))"
   ],
   "metadata": {
    "collapsed": false
   }
  },
  {
   "cell_type": "code",
   "execution_count": 11,
   "outputs": [
    {
     "name": "stdout",
     "output_type": "stream",
     "text": [
      "l1: 1\n",
      "l2: 2\n",
      "l1: 3\n",
      "l2: 4\n",
      "l1: 5\n",
      "l2: 6\n",
      "l1: 7\n",
      "l2: 8\n"
     ]
    }
   ],
   "source": [
    "for l1, l2 in zip(l1, l2):\n",
    "    print(f\"l1: {l1}\")\n",
    "    print(f\"l2: {l2}\")"
   ],
   "metadata": {
    "collapsed": false
   }
  },
  {
   "cell_type": "code",
   "execution_count": null,
   "outputs": [],
   "source": [],
   "metadata": {
    "collapsed": false
   }
  }
 ],
 "metadata": {
  "kernelspec": {
   "display_name": "Python 3",
   "language": "python",
   "name": "python3"
  },
  "language_info": {
   "codemirror_mode": {
    "name": "ipython",
    "version": 2
   },
   "file_extension": ".py",
   "mimetype": "text/x-python",
   "name": "python",
   "nbconvert_exporter": "python",
   "pygments_lexer": "ipython2",
   "version": "2.7.6"
  }
 },
 "nbformat": 4,
 "nbformat_minor": 0
}
